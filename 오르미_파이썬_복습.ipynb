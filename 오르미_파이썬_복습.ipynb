{
  "nbformat": 4,
  "nbformat_minor": 0,
  "metadata": {
    "colab": {
      "provenance": [],
      "toc_visible": true
    },
    "kernelspec": {
      "name": "python3",
      "display_name": "Python 3"
    },
    "language_info": {
      "name": "python"
    }
  },
  "cells": [
    {
      "cell_type": "markdown",
      "source": [
        "# 주석"
      ],
      "metadata": {
        "id": "7weKdx4vwpjc"
      }
    },
    {
      "cell_type": "code",
      "source": [
        "# 또는\n",
        "'''\n",
        "독스트링\n",
        "'''\n",
        "\"\"\"\n",
        "함수에서 주석은 함수 안에 사용하며 docstring이라 한다\n",
        "\"\"\"\n",
        "print(\"주석\")"
      ],
      "metadata": {
        "colab": {
          "base_uri": "https://localhost:8080/"
        },
        "id": "VC-pKsG2wsrI",
        "outputId": "c4ba2d9e-ca0a-40cd-a90e-c23525eebfea"
      },
      "execution_count": 2,
      "outputs": [
        {
          "output_type": "stream",
          "name": "stdout",
          "text": [
            "주석\n"
          ]
        }
      ]
    },
    {
      "cell_type": "markdown",
      "source": [
        "# 입력과 출"
      ],
      "metadata": {
        "id": "dAeZ6UHNxFIA"
      }
    },
    {
      "cell_type": "code",
      "source": [
        "x = input('입력')   # 문자열로 입력받는다\n",
        "x + x   # 10을 입력하면 문자열이라 1010출력"
      ],
      "metadata": {
        "colab": {
          "base_uri": "https://localhost:8080/",
          "height": 53
        },
        "id": "24G7c_gUxQVs",
        "outputId": "ed46f840-a6d0-4159-a7f3-3c6adeef0074"
      },
      "execution_count": 3,
      "outputs": [
        {
          "name": "stdout",
          "output_type": "stream",
          "text": [
            "입력10\n"
          ]
        },
        {
          "output_type": "execute_result",
          "data": {
            "text/plain": [
              "'1010'"
            ],
            "application/vnd.google.colaboratory.intrinsic+json": {
              "type": "string"
            }
          },
          "metadata": {},
          "execution_count": 3
        }
      ]
    },
    {
      "cell_type": "code",
      "source": [
        "x = 'hello'\n",
        "print(x)\n",
        "print(x, x, x)\n",
        "print(x, x, sep='-')\n",
        "print(x, x, sep=' ')\n",
        "print(x, x, sep='@')"
      ],
      "metadata": {
        "colab": {
          "base_uri": "https://localhost:8080/"
        },
        "id": "DIjtJbokxX8B",
        "outputId": "29aa1246-cccd-45dd-a9d6-00f7bbe994c3"
      },
      "execution_count": 5,
      "outputs": [
        {
          "output_type": "stream",
          "name": "stdout",
          "text": [
            "hello\n",
            "hello hello hello\n",
            "hello-hello\n",
            "hello hello\n",
            "hello@hello\n"
          ]
        }
      ]
    },
    {
      "cell_type": "code",
      "source": [
        "print('010','0000','1000',sep='-')\n",
        "print('010','0000','1000',sep='#')"
      ],
      "metadata": {
        "id": "swzDHjPKxqfJ"
      },
      "execution_count": null,
      "outputs": []
    },
    {
      "cell_type": "code",
      "source": [
        "print('hello world',end='-')\n",
        "print('hello world',end='\\n')\n",
        "print('hello world',end='~')"
      ],
      "metadata": {
        "id": "-qZap0xpyFin"
      },
      "execution_count": null,
      "outputs": []
    },
    {
      "cell_type": "markdown",
      "source": [
        "# 변수\n",
        "    python에서 변수는 포스트잇이다. 값을 담아내는 것이 아니라 가리킨다."
      ],
      "metadata": {
        "id": "eEjcZpdxyLHz"
      }
    },
    {
      "cell_type": "code",
      "source": [
        "x = 10\n",
        "y = x\n",
        "z = y\n",
        "\n",
        "'''\n",
        "오답\n",
        "10 -> x -> y -> z\n",
        "\n",
        "정답\n",
        "x -> 10\n",
        "y │ 10\n",
        "z ┘ 10\n",
        "'''\n",
        "\n",
        "print(id(x), id(y), id(z))"
      ],
      "metadata": {
        "id": "AiDtQWAvyM_I"
      },
      "execution_count": null,
      "outputs": []
    },
    {
      "cell_type": "code",
      "source": [
        "x = 10\n",
        "y = x\n",
        "z = y\n",
        "y = 20\n",
        "\n",
        "#오답\n",
        "# x -> 10\n",
        "# z -> y -> 20\n",
        "\n",
        "#정답\n",
        "# x -> 10\n",
        "# z ┘ 10\n",
        "# y -> 20\n",
        "print(id(x), id(y), id(z))"
      ],
      "metadata": {
        "colab": {
          "base_uri": "https://localhost:8080/"
        },
        "id": "6_rYExFqykjR",
        "outputId": "d1a61505-e81c-4952-d8c2-eebc3c119340"
      },
      "execution_count": 6,
      "outputs": [
        {
          "output_type": "stream",
          "name": "stdout",
          "text": [
            "140181942059536 140181942059856 140181942059536\n"
          ]
        }
      ]
    },
    {
      "cell_type": "code",
      "source": [
        "x = 10\n",
        "y = 10\n",
        "z = 10\n",
        "print(id(x), id(y), id(z))"
      ],
      "metadata": {
        "id": "LGQIcDsMyw1y"
      },
      "execution_count": null,
      "outputs": []
    },
    {
      "cell_type": "code",
      "source": [
        "# 변수 이름\n",
        "# python의 경우 보통 스네이크 표기법으로 변수를 만든다\n",
        "col_sum = 10\n",
        "# _는 사용하지 않는 변수에 할당한다\n",
        "for _ in range(5): # 코드의 가독성\n",
        "    print('hello') # _가 for문 안에서 사용이 안됨"
      ],
      "metadata": {
        "colab": {
          "base_uri": "https://localhost:8080/"
        },
        "id": "5lcSf3Sdy_gx",
        "outputId": "7094e322-eeb6-4b35-955b-cf41215b5e84"
      },
      "execution_count": 7,
      "outputs": [
        {
          "output_type": "stream",
          "name": "stdout",
          "text": [
            "hello\n",
            "hello\n",
            "hello\n",
            "hello\n",
            "hello\n"
          ]
        }
      ]
    },
    {
      "cell_type": "code",
      "source": [
        "# 변수 타입: 변수들을 어떻게 관리하고 처리할지에 대한 '코드', 이 코드는 우리가 재정의 할 수 있다\n",
        "\n",
        "x = 10\n",
        "x + x"
      ],
      "metadata": {
        "id": "yB6cJlL1zE5j"
      },
      "execution_count": null,
      "outputs": []
    },
    {
      "cell_type": "code",
      "source": [
        "y = '10'\n",
        "y + y # 컴퓨터 입장에서는 '10'도 숫자이다."
      ],
      "metadata": {
        "id": "bvH69oj9zL5j"
      },
      "execution_count": null,
      "outputs": []
    },
    {
      "cell_type": "code",
      "source": [
        "print(type(x))\n",
        "print(type(y))"
      ],
      "metadata": {
        "id": "ozUyUpzjzPTl"
      },
      "execution_count": null,
      "outputs": []
    },
    {
      "cell_type": "code",
      "source": [
        "str(10) + str(10)"
      ],
      "metadata": {
        "id": "BDGULNGOzQhE"
      },
      "execution_count": null,
      "outputs": []
    },
    {
      "cell_type": "code",
      "source": [
        "# 지금은 이 클래스를 이해하는 것이 중요한 것이 아닙니다.\n",
        "# self가 무엇인지, other가 무엇인지 이해하는 것도 중요한 것이 아닙니다.\n",
        "# 이건 다 뒤에서 배울 것입니다.\n",
        "# 중요한 포인트는 +도 어딘가에 '정의'되어 있다는 것입니다.\n",
        "class str(str):\n",
        "    def __add__(self, other):\n",
        "        return 'hello'"
      ],
      "metadata": {
        "id": "H8Rx8zK2zSQ6"
      },
      "execution_count": null,
      "outputs": []
    },
    {
      "cell_type": "code",
      "source": [
        "str(10) + str(10)"
      ],
      "metadata": {
        "id": "a_Mh5423zXxL"
      },
      "execution_count": null,
      "outputs": []
    },
    {
      "cell_type": "code",
      "source": [
        "str(10) + str(10) + str(10)"
      ],
      "metadata": {
        "id": "PYh3BMOBzZC5"
      },
      "execution_count": null,
      "outputs": []
    },
    {
      "cell_type": "code",
      "source": [
        "# 변수의 삭제\n",
        "del x"
      ],
      "metadata": {
        "id": "cOtSPCcVza-x"
      },
      "execution_count": null,
      "outputs": []
    },
    {
      "cell_type": "markdown",
      "source": [
        "# 정수 자료형(int)"
      ],
      "metadata": {
        "id": "4KMry8bWzepP"
      }
    },
    {
      "cell_type": "code",
      "source": [
        "x = 10\n",
        "y = -5\n",
        "z = 0\n",
        "print(type(x), type(y), type(z))"
      ],
      "metadata": {
        "id": "0oRESqQzzhlk"
      },
      "execution_count": null,
      "outputs": []
    },
    {
      "cell_type": "code",
      "source": [
        "x = 10\n",
        "result = x * 3\n",
        "result"
      ],
      "metadata": {
        "id": "zaM52erkzjJT"
      },
      "execution_count": null,
      "outputs": []
    },
    {
      "cell_type": "code",
      "source": [
        "# 진수: 수를 표현하는 방법"
      ],
      "metadata": {
        "id": "z868V-AlzlpL"
      },
      "execution_count": null,
      "outputs": []
    },
    {
      "cell_type": "code",
      "source": [
        "# 2진수\n",
        "x = 0b110\n",
        "print(x)\n",
        "print(type(x))"
      ],
      "metadata": {
        "colab": {
          "base_uri": "https://localhost:8080/"
        },
        "id": "TAA_wU5Mzm2q",
        "outputId": "adec1621-4a62-48ec-e582-091a40f80171"
      },
      "execution_count": 8,
      "outputs": [
        {
          "output_type": "stream",
          "name": "stdout",
          "text": [
            "6\n",
            "<class 'int'>\n"
          ]
        }
      ]
    },
    {
      "cell_type": "code",
      "source": [
        "# 8진수\n",
        "x = 0o110\n",
        "print(x)\n",
        "print(type(x))"
      ],
      "metadata": {
        "colab": {
          "base_uri": "https://localhost:8080/"
        },
        "id": "QY44aiZFzqU_",
        "outputId": "3b3edba6-2772-4875-f9af-8029c2473e02"
      },
      "execution_count": 9,
      "outputs": [
        {
          "output_type": "stream",
          "name": "stdout",
          "text": [
            "72\n",
            "<class 'int'>\n"
          ]
        }
      ]
    },
    {
      "cell_type": "code",
      "source": [
        "# 16진수\n",
        "x = 0x110\n",
        "print(x)\n",
        "print(type(x))"
      ],
      "metadata": {
        "colab": {
          "base_uri": "https://localhost:8080/"
        },
        "id": "aLIChqOtzt8y",
        "outputId": "db955b91-9286-4f8f-aaa4-1cf58826736c"
      },
      "execution_count": 10,
      "outputs": [
        {
          "output_type": "stream",
          "name": "stdout",
          "text": [
            "272\n",
            "<class 'int'>\n"
          ]
        }
      ]
    },
    {
      "cell_type": "code",
      "source": [
        "# 2진수\n",
        "bin(15)"
      ],
      "metadata": {
        "colab": {
          "base_uri": "https://localhost:8080/",
          "height": 35
        },
        "id": "9wFe6LpYzwQu",
        "outputId": "1bcfca51-11b4-4d23-f415-d5830bc55d2a"
      },
      "execution_count": 11,
      "outputs": [
        {
          "output_type": "execute_result",
          "data": {
            "text/plain": [
              "'0b1111'"
            ],
            "application/vnd.google.colaboratory.intrinsic+json": {
              "type": "string"
            }
          },
          "metadata": {},
          "execution_count": 11
        }
      ]
    },
    {
      "cell_type": "code",
      "source": [
        "# 8진수\n",
        "oct(15)"
      ],
      "metadata": {
        "colab": {
          "base_uri": "https://localhost:8080/",
          "height": 35
        },
        "id": "ZiLdnSVTz0SI",
        "outputId": "6f72802f-e5de-4526-b037-ab35398a005c"
      },
      "execution_count": 12,
      "outputs": [
        {
          "output_type": "execute_result",
          "data": {
            "text/plain": [
              "'0o17'"
            ],
            "application/vnd.google.colaboratory.intrinsic+json": {
              "type": "string"
            }
          },
          "metadata": {},
          "execution_count": 12
        }
      ]
    },
    {
      "cell_type": "code",
      "source": [
        "# 16진수\n",
        "hex(15)"
      ],
      "metadata": {
        "colab": {
          "base_uri": "https://localhost:8080/",
          "height": 35
        },
        "id": "klkda1Azz4ml",
        "outputId": "4343ac7c-1eaa-4556-beb1-c98ca6df0f0a"
      },
      "execution_count": 13,
      "outputs": [
        {
          "output_type": "execute_result",
          "data": {
            "text/plain": [
              "'0xf'"
            ],
            "application/vnd.google.colaboratory.intrinsic+json": {
              "type": "string"
            }
          },
          "metadata": {},
          "execution_count": 13
        }
      ]
    },
    {
      "cell_type": "code",
      "source": [
        "# 10진수로 변환\n",
        "print(int('1111', 2))\n",
        "print(int('17', 8))\n",
        "print(int('f', 16))"
      ],
      "metadata": {
        "colab": {
          "base_uri": "https://localhost:8080/"
        },
        "id": "q3OuiAX_z7Br",
        "outputId": "4714bd88-656e-46e3-f471-a004333be377"
      },
      "execution_count": 23,
      "outputs": [
        {
          "output_type": "stream",
          "name": "stdout",
          "text": [
            "15\n",
            "15\n",
            "15\n"
          ]
        }
      ]
    },
    {
      "cell_type": "code",
      "source": [
        "# 매우 중요한 내용 , 새로운 자료형을 만났을 떄 2개를 꼭 해보기\n",
        "x = 10\n",
        "print(type(x)) # 검색 키워드\n",
        "print(dir(x)) # 대략적인 속성을 알 수 있다"
      ],
      "metadata": {
        "id": "jdaajCkwz_XA"
      },
      "execution_count": null,
      "outputs": []
    },
    {
      "cell_type": "markdown",
      "source": [
        "메서드 중에서 __로 시작해서 __로 끝나는 메서드를 매직 메서드라 한다."
      ],
      "metadata": {
        "id": "aSDW8gfB2B4w"
      }
    },
    {
      "cell_type": "code",
      "source": [
        "# 매직 메서드: 이 타입에 속성을 정의한다\n",
        "abs(-5)  # '__abs__'\n",
        "5 + 5    # '__add__'\n",
        "5 and 5 # '__and__'\n",
        "bool(5) # '__bool__'\n",
        "5 == 5  # '__eq__'\n",
        "\n",
        "# 메서드: 이 타입에서 변수를 다룰 수 있는 여러 기능 제공\n",
        "# 'as_integer_ratio',\n",
        "# 'bit_count',\n",
        "# 'bit_length',\n",
        "# 'conjugate',\n",
        "# 'denominator',\n",
        "# 'from_bytes',\n",
        "# 'imag',\n",
        "# 'numerator',\n",
        "# 'real',\n",
        "# 'to_bytes'"
      ],
      "metadata": {
        "id": "3SF6cE1a2HJv"
      },
      "execution_count": null,
      "outputs": []
    },
    {
      "cell_type": "code",
      "source": [
        "x = 5\n",
        "x.bit_count()"
      ],
      "metadata": {
        "colab": {
          "base_uri": "https://localhost:8080/"
        },
        "id": "D8VGr_UL2KDC",
        "outputId": "5fd6815e-5028-43ec-a201-a763361237fb"
      },
      "execution_count": 24,
      "outputs": [
        {
          "output_type": "execute_result",
          "data": {
            "text/plain": [
              "2"
            ]
          },
          "metadata": {},
          "execution_count": 24
        }
      ]
    },
    {
      "cell_type": "code",
      "source": [
        "# 정수의 메모리 미리 적재\n",
        "# -5 ~ 256\n",
        "x = 256\n",
        "y = 256\n",
        "z = 257\n",
        "c = 257\n",
        "\n",
        "print(id(x), id(y), id(z), id(c))"
      ],
      "metadata": {
        "colab": {
          "base_uri": "https://localhost:8080/"
        },
        "id": "ysdOOAg02NX9",
        "outputId": "c8f5dc65-517a-44d3-ed35-8a99318bdbb0"
      },
      "execution_count": 26,
      "outputs": [
        {
          "output_type": "stream",
          "name": "stdout",
          "text": [
            "140181942067408 140181942067408 140180676031024 140180676029136\n"
          ]
        }
      ]
    },
    {
      "cell_type": "code",
      "source": [
        "# 문제1\n",
        "x = 100\n",
        "y = 100\n",
        "z = x\n",
        "# 화살표로 표시\n",
        "# z ┐\n",
        "# x -> 100\n",
        "# y ┘\n",
        "print(id(x), id(y), id(z))\n",
        "# 문제2\n",
        "x = 258\n",
        "y = 258\n",
        "z = x\n",
        "# 화살표로 표시\n",
        "# z ┐\n",
        "# x -> 258\n",
        "# y -> 258\n",
        "print(id(x), id(y), id(z))"
      ],
      "metadata": {
        "id": "FYfJjmR42R8n"
      },
      "execution_count": null,
      "outputs": []
    },
    {
      "cell_type": "markdown",
      "source": [
        "# 실수 자료형(float)"
      ],
      "metadata": {
        "id": "imhOgxdz2g23"
      }
    },
    {
      "cell_type": "code",
      "source": [
        "x = 10.0\n",
        "y = 10\n",
        "print(type(x), type(y))"
      ],
      "metadata": {
        "colab": {
          "base_uri": "https://localhost:8080/"
        },
        "id": "PSc--Htj2lbL",
        "outputId": "ef199468-2106-4809-a0ff-e87f4a9824d6"
      },
      "execution_count": 27,
      "outputs": [
        {
          "output_type": "stream",
          "name": "stdout",
          "text": [
            "<class 'float'> <class 'int'>\n"
          ]
        }
      ]
    },
    {
      "cell_type": "code",
      "source": [
        "# 산술 연산\n",
        "x = 10.0\n",
        "y = 2\n",
        "result = x * y\n",
        "print(result)\n",
        "print(type(result))"
      ],
      "metadata": {
        "id": "6s98Sz0O2sLz"
      },
      "execution_count": null,
      "outputs": []
    },
    {
      "cell_type": "code",
      "source": [
        "# float의 특수값\n",
        "# 이 특수값은 사용을 하니 기억하기\n",
        "# 어디서 주로 사용하나요? 정렬과 같은 파트에서 초깃값으로 사용을 많이 한다\n",
        "x = float(\"inf\") # 양의 무한대를 나타내는 상수\n",
        "x = float(\"-inf\") # 음의 무한대를 나타내는 상수"
      ],
      "metadata": {
        "id": "sX5TDqFU_fBH"
      },
      "execution_count": null,
      "outputs": []
    },
    {
      "cell_type": "code",
      "source": [
        "print(2e3) # 지수표현, float형\n",
        "print(2E3)\n",
        "\n",
        "2 * (10 ** 3) # int 형"
      ],
      "metadata": {
        "id": "iLbgZsaY_f4u"
      },
      "execution_count": null,
      "outputs": []
    },
    {
      "cell_type": "code",
      "source": [
        "# 부동소숫점 문제\n",
        "0.1 + 0.2\n",
        "# 왜 발생하는가? 결국 컴퓨터가 연산하는 것은 10진수가 아니라 2진수인데\n",
        "# 2진수 변환에서 무한수가 발생이 되므로"
      ],
      "metadata": {
        "id": "BzIgH8Cz_hDu"
      },
      "execution_count": null,
      "outputs": []
    },
    {
      "cell_type": "code",
      "source": [
        "float(\"inf\") > 10e100 # 계산에 한계\n",
        "float(\"inf\") > 10e307\n",
        "float(\"inf\") > 10e308\n",
        "# python에서는 IEEE 754 배정밀도 부동 소수점 표현\n",
        "# IEEE 754 배정밀도 부동 소수점 표현에서 가장 큰 (정규화된) 유한 값은 대략 1.8 * (10 ** 308)입니다.\n",
        "# 10e308는 이 근사치보다 큰 값입니다.\n",
        "# int는 메모리 제한 내에서 한계 없이 표현합니다.\n",
        "float(\"inf\") == 10e308, float(\"inf\") == 10e309"
      ],
      "metadata": {
        "id": "kpcLpyB3_ib1"
      },
      "execution_count": null,
      "outputs": []
    },
    {
      "cell_type": "code",
      "source": [
        "print(float('inf') > 10e307)\n",
        "print(float('inf') > 10e308)\n",
        "\n",
        "float('inf') == 10e307, float('inf') == 10e308, float('inf') == 10e309"
      ],
      "metadata": {
        "id": "kDr75cal_kYm"
      },
      "execution_count": null,
      "outputs": []
    },
    {
      "cell_type": "code",
      "source": [
        "import decimal\n",
        "\n",
        "# 각각 모듈 import해서 사용하셔야 합니다.\n",
        "float(decimal.Decimal('.1') + decimal.Decimal('.2'))\n",
        "# float(fractions.Fraction('0.1') + fractions.Fraction('0.2'))"
      ],
      "metadata": {
        "id": "qPF31fyq_m4t"
      },
      "execution_count": null,
      "outputs": []
    },
    {
      "cell_type": "code",
      "source": [
        "x = 10.0\n",
        "print(type(x), dir(x))"
      ],
      "metadata": {
        "id": "aFTatHYk_o2Q"
      },
      "execution_count": null,
      "outputs": []
    },
    {
      "cell_type": "code",
      "source": [
        "# 메서드\n",
        "#'conjugate',\n",
        "#'fromhex',\n",
        "#'hex',\n",
        "#'imag',\n",
        "#'is_integer',\n",
        "#'real'"
      ],
      "metadata": {
        "id": "4lsUXV1r_qXh"
      },
      "execution_count": null,
      "outputs": []
    },
    {
      "cell_type": "markdown",
      "source": [
        "# 복소수 자료형(complex)"
      ],
      "metadata": {
        "id": "RdQWFyOm_ro_"
      }
    },
    {
      "cell_type": "code",
      "source": [
        "x = 3 + 4j"
      ],
      "metadata": {
        "id": "cFtSU2mY_wJg"
      },
      "execution_count": null,
      "outputs": []
    },
    {
      "cell_type": "code",
      "source": [
        "type(x), dir(x)"
      ],
      "metadata": {
        "id": "6dAXxpto_xp4"
      },
      "execution_count": null,
      "outputs": []
    },
    {
      "cell_type": "code",
      "source": [
        "#'conjugate',\n",
        "#'imag',\n",
        "#'real'"
      ],
      "metadata": {
        "id": "QDtJAdvO_1mk"
      },
      "execution_count": null,
      "outputs": []
    },
    {
      "cell_type": "code",
      "source": [
        "x = 3 + 4j\n",
        "print(x.real)\n",
        "print(x.imag)\n",
        "y = 5 + 0.04j\n",
        "print(y.real)\n",
        "print(y.imag)"
      ],
      "metadata": {
        "colab": {
          "base_uri": "https://localhost:8080/"
        },
        "id": "nDAKbLt0_2E7",
        "outputId": "deb6bd97-feb3-4409-c9bd-3bbc5e4b2b43"
      },
      "execution_count": 28,
      "outputs": [
        {
          "output_type": "stream",
          "name": "stdout",
          "text": [
            "3.0\n",
            "4.0\n",
            "5.0\n",
            "0.04\n"
          ]
        }
      ]
    },
    {
      "cell_type": "markdown",
      "source": [
        "# 문자열 자료형(str)"
      ],
      "metadata": {
        "id": "EMrx5LSs_-en"
      }
    },
    {
      "cell_type": "code",
      "source": [],
      "metadata": {
        "id": "z7x34aruAAlp"
      },
      "execution_count": null,
      "outputs": []
    }
  ]
}