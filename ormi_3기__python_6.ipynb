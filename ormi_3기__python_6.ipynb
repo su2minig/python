{
  "nbformat": 4,
  "nbformat_minor": 0,
  "metadata": {
    "colab": {
      "provenance": []
    },
    "kernelspec": {
      "name": "python3",
      "display_name": "Python 3"
    },
    "language_info": {
      "name": "python"
    }
  },
  "cells": [
    {
      "cell_type": "markdown",
      "source": [],
      "metadata": {
        "id": "BQG5_h3m6c8j"
      }
    },
    {
      "cell_type": "markdown",
      "source": [
        "# 일급함수와 고차함수"
      ],
      "metadata": {
        "id": "2nhoC49q6d2P"
      }
    },
    {
      "cell_type": "code",
      "execution_count": null,
      "metadata": {
        "colab": {
          "base_uri": "https://localhost:8080/"
        },
        "id": "7Ap-yJgq5aRs",
        "outputId": "f68eb888-93a7-429d-92c1-cac5b0a9f58d"
      },
      "outputs": [
        {
          "output_type": "stream",
          "name": "stdout",
          "text": [
            "hello world\n"
          ]
        }
      ],
      "source": [
        "licat = print\n",
        "licat('hello world')"
      ]
    },
    {
      "cell_type": "code",
      "source": [
        "class Cat:\n",
        "    def sound(self):\n",
        "        print('냐옹')\n",
        "\n",
        "licat = Cat()\n",
        "licat_sound = licat.sound\n",
        "licat_sound()"
      ],
      "metadata": {
        "colab": {
          "base_uri": "https://localhost:8080/"
        },
        "id": "jk0vTxQX6px8",
        "outputId": "a15baad4-5c9d-4e51-dd76-2ff7b732a1cb"
      },
      "execution_count": null,
      "outputs": [
        {
          "output_type": "stream",
          "name": "stdout",
          "text": [
            "냐옹\n"
          ]
        }
      ]
    },
    {
      "cell_type": "code",
      "source": [
        "l = [10, 20, 30]\n",
        "la = l.append\n",
        "la(40)\n",
        "l"
      ],
      "metadata": {
        "colab": {
          "base_uri": "https://localhost:8080/"
        },
        "id": "NsB-LDpI7BQU",
        "outputId": "fad8a8e1-9ea2-44da-c82b-67be35fb2811"
      },
      "execution_count": null,
      "outputs": [
        {
          "output_type": "execute_result",
          "data": {
            "text/plain": [
              "[10, 20, 30, 40]"
            ]
          },
          "metadata": {},
          "execution_count": 3
        }
      ]
    },
    {
      "cell_type": "code",
      "source": [
        "def add(x, y):\n",
        "    return x + y\n",
        "\n",
        "def subtract(x, y):\n",
        "    return x - y\n",
        "\n",
        "funcs = [add, subtract]\n",
        "print(funcs[0](2, 3))  # 출력: 5"
      ],
      "metadata": {
        "colab": {
          "base_uri": "https://localhost:8080/"
        },
        "id": "XmDbGbYz7XjX",
        "outputId": "c4625ec6-6425-4684-cd0d-ffdcc02f578a"
      },
      "execution_count": null,
      "outputs": [
        {
          "output_type": "stream",
          "name": "stdout",
          "text": [
            "5\n"
          ]
        }
      ]
    },
    {
      "cell_type": "code",
      "source": [
        "class Operator:\n",
        "    def add(self, x, y):\n",
        "        return x + y\n",
        "\n",
        "    def sub(self, x, y):\n",
        "        return x - y\n",
        "\n",
        "    def mul(self, x, y):\n",
        "        return x * y\n",
        "\n",
        "    def div(self, x, y):\n",
        "        return x / y\n",
        "\n",
        "    def _and(self, x, y):\n",
        "        pass\n",
        "\n",
        "    def _or(self, x, y):\n",
        "        pass\n",
        "\n",
        "op = Operator()\n",
        "logical_op = {\n",
        "    'add': op.add,\n",
        "    'sub': op.sub,\n",
        "    'mul': op.mul,\n",
        "    'div': op.div,\n",
        "}\n",
        "arithmetic_op = {\n",
        "    '_and': op._and,\n",
        "    '_or': op._or,\n",
        "}\n",
        "\n",
        "\n",
        "print(logical_op['add'](2, 3))  # 출력: 5\n",
        "print(op.add(2, 3))\n",
        "\n",
        "for _, f in logical_op.items():\n",
        "    print(f(2, 3))  #   4칙연산 모두 계산\n"
      ],
      "metadata": {
        "colab": {
          "base_uri": "https://localhost:8080/"
        },
        "id": "QzAecJNq81WW",
        "outputId": "be7dc0cf-f82b-4682-b3a9-c7b1ac4a00ef"
      },
      "execution_count": null,
      "outputs": [
        {
          "output_type": "stream",
          "name": "stdout",
          "text": [
            "5\n",
            "5\n",
            "5\n",
            "-1\n",
            "6\n",
            "0.6666666666666666\n"
          ]
        }
      ]
    },
    {
      "cell_type": "code",
      "source": [
        "# JavaScript\n",
        "# l = [10, 20, 30]\n",
        "# l.map((v)=>v**2) // [100, 400, 900]"
      ],
      "metadata": {
        "id": "z7cp21NS-pDQ"
      },
      "execution_count": null,
      "outputs": []
    },
    {
      "cell_type": "code",
      "source": [
        "def licat_sound(p):\n",
        "    # 함수의 기능 10줄이 들어간다 생각하겠습니다.\n",
        "    x = 10\n",
        "    y = 10\n",
        "    z = 10\n",
        "    p('냐옹')\n",
        "\n",
        "\n",
        "licat_sound(print)  # licat_sound안에 built-in function인 print를 넣었습니다"
      ],
      "metadata": {
        "colab": {
          "base_uri": "https://localhost:8080/"
        },
        "id": "F6EWkvTP_SG2",
        "outputId": "666d4c12-3266-43a0-d7ab-276640a99ec8"
      },
      "execution_count": null,
      "outputs": [
        {
          "output_type": "stream",
          "name": "stdout",
          "text": [
            "냐옹\n"
          ]
        }
      ]
    },
    {
      "cell_type": "code",
      "source": [
        "def square(x):\n",
        "    return x ** 2\n",
        "\n",
        "def width_circle(r, s):\n",
        "    return s(r) * 3.14\n",
        "\n",
        "width_circle(10, square)"
      ],
      "metadata": {
        "colab": {
          "base_uri": "https://localhost:8080/"
        },
        "id": "Ivju6VxC_wsS",
        "outputId": "2f88a640-f24b-4a48-f7a2-023f01618c09"
      },
      "execution_count": null,
      "outputs": [
        {
          "output_type": "execute_result",
          "data": {
            "text/plain": [
              "314.0"
            ]
          },
          "metadata": {},
          "execution_count": 11
        }
      ]
    },
    {
      "cell_type": "code",
      "source": [
        "def create_exponent(x):\n",
        "    def exponent(y):\n",
        "        return y ** x\n",
        "    return exponent\n",
        "\n",
        "exponent_2 = create_exponent(2) #   exponent\n",
        "exponent_3 = create_exponent(3) #   exponent\n",
        "print(exponent_2(10))   #   출력 100\n",
        "# print(exponent(10)) => return y ** 2(이 숫자는 상수취급되어 변경시킬 수 없게 됩니다.)\n",
        "print(exponent_3(10))   #   출력 1000\n",
        "# print(exponent(10)) => return y ** 3(이 숫자는 상수취급되어 변경시킬 수 없게 됩니다.)"
      ],
      "metadata": {
        "colab": {
          "base_uri": "https://localhost:8080/"
        },
        "id": "eFyHF_L7DiWK",
        "outputId": "cd8e6cad-1d00-4923-d3de-4a1fcf68248f"
      },
      "execution_count": null,
      "outputs": [
        {
          "output_type": "stream",
          "name": "stdout",
          "text": [
            "100\n",
            "1000\n"
          ]
        }
      ]
    },
    {
      "cell_type": "code",
      "source": [
        "def f():\n",
        "    l = [10 ,20, 30]\n",
        "    print(id(l))\n",
        "    return l\n",
        "\n",
        "sample = f()\n",
        "id(sample)  # 주소가 같다\n",
        "# 함수가 끝나면 안에 변수들이 다 휘발되는 것 아니었나요??\n",
        "# sample이 return값으로 []안의 주소를 가리키게 되었으므로(참조)"
      ],
      "metadata": {
        "colab": {
          "base_uri": "https://localhost:8080/"
        },
        "id": "nTYw6hFcHDG_",
        "outputId": "f9bd8886-5816-4fcc-e995-626190fa177d"
      },
      "execution_count": null,
      "outputs": [
        {
          "output_type": "stream",
          "name": "stdout",
          "text": [
            "132979837451328\n"
          ]
        },
        {
          "output_type": "execute_result",
          "data": {
            "text/plain": [
              "132979837451328"
            ]
          },
          "metadata": {},
          "execution_count": 10
        }
      ]
    },
    {
      "cell_type": "code",
      "source": [
        "def ff():\n",
        "    l = [10 ,20, 30]\n",
        "    return l\n",
        "\n",
        "sample_ = ff()"
      ],
      "metadata": {
        "id": "WTeNJXh3JLlx"
      },
      "execution_count": null,
      "outputs": []
    },
    {
      "cell_type": "code",
      "source": [
        "import sys\n",
        "\n",
        "sys.getrefcount(sample_) # window, mac, linux의 출력값이 다르다.\n",
        "# 중요 포인트는 getrefcount의 작동 원리가 아니라\n",
        "# 함수가 종료되어도 참조하는 변수가 있다면\n",
        "# 값이 사라지지 않는다는 것이 포인트입니다!"
      ],
      "metadata": {
        "colab": {
          "base_uri": "https://localhost:8080/"
        },
        "id": "kNGaE9OSI3f-",
        "outputId": "98a44e19-0326-42d9-f545-8dc5608f22a7"
      },
      "execution_count": null,
      "outputs": [
        {
          "output_type": "execute_result",
          "data": {
            "text/plain": [
              "2"
            ]
          },
          "metadata": {},
          "execution_count": 12
        }
      ]
    },
    {
      "cell_type": "code",
      "source": [
        "# 일급 함수: 함수를 일급객체(값, 주소)로 취급\n",
        "# 고차 함수: 함수를 아규먼트로 받거나 return 값으로 반환할 수 있는 함수"
      ],
      "metadata": {
        "id": "2lgf6OPsKnTG"
      },
      "execution_count": null,
      "outputs": []
    },
    {
      "cell_type": "markdown",
      "source": [
        "# 클로저"
      ],
      "metadata": {
        "id": "-jWCL4fxLAkZ"
      }
    },
    {
      "cell_type": "code",
      "source": [
        "# 클로저: 휘발되었어야 하는 메모리 영역에 접근하여 함수나 데이터를 활용하는 일"
      ],
      "metadata": {
        "id": "JgObTZwQLGGW"
      },
      "execution_count": null,
      "outputs": []
    },
    {
      "cell_type": "code",
      "source": [
        "# 고차함수이며, 일반적인 클로저의 형태는 아닙니다.\n",
        "# 보통 클로저는 outer_function(함수)에 은닉할 값을 매개변수로 넘겨줍니다.\n",
        "def outer_function():\n",
        "    def inner_function():\n",
        "        return 100+100\n",
        "    return inner_function\n",
        "\n",
        "# 클로저인 경우\n",
        "def outer_function(x):\n",
        "    def inner_function(y):\n",
        "        return x + y\n",
        "    return inner_function\n",
        "\n",
        "inner = outer_function(100)\n",
        "'''\n",
        "def inner(y):\n",
        "    return 100 + y\n",
        "inner(200)\n",
        "'''\n",
        "inner(200) # inner 입장에서 100을 변경할 수 있는 방법이 없습니다."
      ],
      "metadata": {
        "colab": {
          "base_uri": "https://localhost:8080/"
        },
        "id": "w1T5cWcRLCDo",
        "outputId": "b2067a8d-9e1d-4abf-db08-351613fc5e8b"
      },
      "execution_count": null,
      "outputs": [
        {
          "output_type": "execute_result",
          "data": {
            "text/plain": [
              "300"
            ]
          },
          "metadata": {},
          "execution_count": 131
        }
      ]
    },
    {
      "cell_type": "markdown",
      "source": [
        "# 데코레이터"
      ],
      "metadata": {
        "id": "I73WiGe7NkJM"
      }
    },
    {
      "cell_type": "code",
      "source": [
        "# 이런 식으로 우린 사용합니다.\n",
        "# login한 사용자만 게시판 읽도록\n",
        "# 그러면 내가 login을 구현해야 하나?\n",
        "# Django와 같은 프레임웤은 필요한 데코레이터는 미리 구현되어 있습니다.\n",
        "# 걱정하지 않으셔도 됩니다.\n",
        "def login(arg):\n",
        "    pass\n",
        "\n",
        "@login\n",
        "def 게시판읽기():\n",
        "    pass"
      ],
      "metadata": {
        "id": "KUCp_L5lZHeG"
      },
      "execution_count": null,
      "outputs": []
    },
    {
      "cell_type": "code",
      "source": [
        "def simple_decorator(function):\n",
        "    def wrapper():\n",
        "        print(\"Before the function call\")\n",
        "        function()\n",
        "        print(\"After the function call\")\n",
        "    return wrapper\n",
        "\n",
        "@simple_decorator   # 이렇게 하면 hello를 simple_decorator에 아규먼트로 넣어주고 실행하겠다.\n",
        "def hello():\n",
        "    print(\"Hello, World!\")\n",
        "\n",
        "hello() # 데코레이터가 없는 상태에서는 simple_decorator(hello)() 와 같습니다."
      ],
      "metadata": {
        "colab": {
          "base_uri": "https://localhost:8080/"
        },
        "id": "LMewXkIxNl4u",
        "outputId": "1131c50d-2ed2-4694-8684-3ec24983ac48"
      },
      "execution_count": null,
      "outputs": [
        {
          "output_type": "stream",
          "name": "stdout",
          "text": [
            "Before the function call\n",
            "Hello, World!\n",
            "After the function call\n"
          ]
        }
      ]
    },
    {
      "cell_type": "code",
      "source": [
        "def simple_decorator(function):\n",
        "    def wrapper():\n",
        "        print(\"Before the function call\")\n",
        "        function()\n",
        "        print(\"After the function call\")\n",
        "    return wrapper\n",
        "\n",
        "\n",
        "def hello():\n",
        "    print(\"Hello, World!\")\n",
        "\n",
        "simple_decorator(hello)() # simple_decorator(hello)() => wrapper()\n",
        "                          # simple_decorator(hello) => wrapper"
      ],
      "metadata": {
        "colab": {
          "base_uri": "https://localhost:8080/"
        },
        "id": "7su2qt66Nntv",
        "outputId": "57e5781d-24c2-4e00-dcb0-9ba2005ec462"
      },
      "execution_count": null,
      "outputs": [
        {
          "output_type": "stream",
          "name": "stdout",
          "text": [
            "Before the function call\n",
            "Hello, World!\n",
            "After the function call\n"
          ]
        }
      ]
    },
    {
      "cell_type": "code",
      "source": [
        "# step 1\n",
        "def data_Preprocessing(function):\n",
        "    def wrapper():\n",
        "        pass\n",
        "    return wrapper\n",
        "\n",
        "@data_Preprocessing\n",
        "def mean(data):\n",
        "    return sum(data)/len(data)\n",
        "\n",
        "mean([1, 2, '3', 4, '5']) # TypeError 발생"
      ],
      "metadata": {
        "id": "Q1gnESovPrR1"
      },
      "execution_count": null,
      "outputs": []
    },
    {
      "cell_type": "code",
      "source": [
        "# step 2\n",
        "def data_Preprocessing(function):\n",
        "    def wrapper(data):\n",
        "        print(data)\n",
        "    return wrapper\n",
        "\n",
        "@data_Preprocessing\n",
        "def mean(data):\n",
        "    return sum(data)/len(data)\n",
        "\n",
        "mean([1, 2, '3', 4, '5']) # 데이터만 출력하고 함수는 None을 반환"
      ],
      "metadata": {
        "colab": {
          "base_uri": "https://localhost:8080/"
        },
        "id": "OSrRJtI8QRuK",
        "outputId": "5b3e9d95-b923-4118-f4fb-f6002f3df843"
      },
      "execution_count": null,
      "outputs": [
        {
          "output_type": "stream",
          "name": "stdout",
          "text": [
            "[1, 2, '3', 4, '5']\n"
          ]
        }
      ]
    },
    {
      "cell_type": "code",
      "source": [
        "# step 3\n",
        "def data_Preprocessing(function):\n",
        "    def wrapper(data):\n",
        "        return function(list(map(int, data)))\n",
        "    return wrapper\n",
        "\n",
        "@data_Preprocessing\n",
        "def mean(data):\n",
        "    return sum(data)/len(data)\n",
        "\n",
        "mean([1, 2, '3', 4, '5']) # 출력: 3.0 (정상 작동)   #   데코레이터가 붙으면 mean을 실행하는 것이 아닙니다!\n",
        "\n",
        "# data_Preprocessing(mean) => wrapper\n",
        "# data_Preprocessing(mean)([1, 2, '3', 4, '5']) => wrapper([1, 2, '3', 4, '5'])"
      ],
      "metadata": {
        "colab": {
          "base_uri": "https://localhost:8080/"
        },
        "id": "K_nC4r6KQRqn",
        "outputId": "25a7fc47-c718-48e6-969f-af3777f4f4f2"
      },
      "execution_count": null,
      "outputs": [
        {
          "output_type": "execute_result",
          "data": {
            "text/plain": [
              "3.0"
            ]
          },
          "metadata": {},
          "execution_count": 9
        }
      ]
    },
    {
      "cell_type": "markdown",
      "source": [
        "종훈님\n",
        "mean([1, 2, 3, 4, 5])이 실행되면,\n",
        "data_Preprocessing(mean 함수 주소) 실행> wrapper 함수 주소 반환?>\n",
        "wrapper([1, 2, 3, 4, 5]) 실행 > 만약 wrapper 안에 function이 있다면 data_Preprocessing의 아규먼트로 받은 함수 주소의 함수를 사용(여기선 mean 함수)"
      ],
      "metadata": {
        "id": "eEigoD2yY4sy"
      }
    },
    {
      "cell_type": "markdown",
      "source": [
        "![image.png](data:image/png;base64,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)"
      ],
      "metadata": {
        "id": "1kHEFB7_V7p-"
      }
    },
    {
      "cell_type": "code",
      "source": [
        "# step 3\n",
        "def data_Preprocessing(function):\n",
        "    def wrapper(a, b, c):\n",
        "        print(a, b, c)\n",
        "        # print(function([a, b, c]))\n",
        "    return wrapper\n",
        "\n",
        "@data_Preprocessing\n",
        "def mean(data):\n",
        "    return sum(data)/len(data)\n",
        "\n",
        "mean(10, 20, 30) # 왜 오류가 없을까요? data인자가 하나고, 10, 20, 30인자가 3개인데요?\n",
        "# 인자가 들어간 메서드는 wrapper\n",
        "# 데코레이터가 mean을 실행안시킨다"
      ],
      "metadata": {
        "colab": {
          "base_uri": "https://localhost:8080/"
        },
        "id": "ey_n-CqGRp0Z",
        "outputId": "dfda9a2e-184a-41ee-de47-58f5b635be46"
      },
      "execution_count": null,
      "outputs": [
        {
          "output_type": "stream",
          "name": "stdout",
          "text": [
            "10 20 30\n"
          ]
        }
      ]
    },
    {
      "cell_type": "code",
      "source": [
        "#### 여기까지 이해하시면 됩니다. ####"
      ],
      "metadata": {
        "id": "ofE9tljgdLpF"
      },
      "execution_count": null,
      "outputs": []
    },
    {
      "cell_type": "code",
      "source": [
        "# 강성웅님 Q&A\n",
        "def outer(function):\n",
        "    def wrapper():\n",
        "        return 'hello'\n",
        "    return wrapper\n",
        "\n",
        "@outer\n",
        "def a(data):\n",
        "    def b():\n",
        "        print('hello b')\n",
        "    return b\n",
        "\n",
        "print(a())"
      ],
      "metadata": {
        "colab": {
          "base_uri": "https://localhost:8080/"
        },
        "id": "dVq0vTCoVdzr",
        "outputId": "3f408651-35f9-4808-db73-efab2153e395"
      },
      "execution_count": null,
      "outputs": [
        {
          "output_type": "stream",
          "name": "stdout",
          "text": [
            "hello\n"
          ]
        }
      ]
    },
    {
      "cell_type": "code",
      "source": [
        "# 강성웅님 Q&A\n",
        "# b를 실행시키고 싶은데 어떻게 해야 할까요?\n",
        "def outer(function):\n",
        "    def wrapper():\n",
        "        function()\n",
        "        return 'hello'\n",
        "    return wrapper\n",
        "\n",
        "@outer\n",
        "def a():\n",
        "    def b():\n",
        "        print('hello b')\n",
        "    return b\n",
        "\n",
        "print(a())"
      ],
      "metadata": {
        "colab": {
          "base_uri": "https://localhost:8080/"
        },
        "id": "Pmij8iF4X67n",
        "outputId": "829a1c0a-3848-4c0f-f397-518a2829faca"
      },
      "execution_count": null,
      "outputs": [
        {
          "output_type": "stream",
          "name": "stdout",
          "text": [
            "hello\n"
          ]
        }
      ]
    },
    {
      "cell_type": "code",
      "source": [
        "# 강성웅님 Q&A\n",
        "# b를 실행시키는 법\n",
        "def outer(function):\n",
        "    def wrapper():\n",
        "        function()()\n",
        "        return 'hello'\n",
        "    return wrapper\n",
        "\n",
        "@outer\n",
        "def a():\n",
        "    def b():\n",
        "        print('hello b')\n",
        "    return b\n",
        "\n",
        "print(a())"
      ],
      "metadata": {
        "colab": {
          "base_uri": "https://localhost:8080/"
        },
        "id": "iE83oP3gYLYT",
        "outputId": "84094712-87a0-4f46-9bec-ccd5a116bb1e"
      },
      "execution_count": null,
      "outputs": [
        {
          "output_type": "stream",
          "name": "stdout",
          "text": [
            "hello b\n",
            "hello\n"
          ]
        }
      ]
    },
    {
      "cell_type": "code",
      "source": [
        "def add_exclamation(function):\n",
        "    def wrapper(text):\n",
        "        print(f'add_exclamation 데코레이터 시작')\n",
        "        result = function(text) + \"!\"\n",
        "        print(f'add_exclamation 데코레이터 종료')\n",
        "        return result\n",
        "    return wrapper\n",
        "\n",
        "def add_question_mark(function):\n",
        "    def wrapper(text):\n",
        "        print(f'add_question_mark 데코레이터 시작')\n",
        "        result = function(text) + \"?\"\n",
        "        print(f'add_question_mark 데코레이터 종료')\n",
        "        return result\n",
        "    return wrapper\n",
        "\n",
        "def add_dot(function):\n",
        "    def wrapper(text):\n",
        "        print(f'add_dot 데코레이터 시작')\n",
        "        result = function(text) + \".\"\n",
        "        print(f'add_dot 데코레이터 종료')\n",
        "        return result\n",
        "    return wrapper\n",
        "\n",
        "@add_exclamation\n",
        "@add_question_mark\n",
        "@add_dot\n",
        "def greet(message):\n",
        "    print('함수실행!')\n",
        "    return message\n",
        "\n",
        "result = greet(\"Hello\")\n",
        "print(result)  # 출력: \"Hello.!?\""
      ],
      "metadata": {
        "colab": {
          "base_uri": "https://localhost:8080/"
        },
        "id": "YfpHKf7YaI-r",
        "outputId": "e16d01d7-6cc6-4875-877e-f3592b1d70a2"
      },
      "execution_count": null,
      "outputs": [
        {
          "output_type": "stream",
          "name": "stdout",
          "text": [
            "add_exclamation 데코레이터 시작\n",
            "add_question_mark 데코레이터 시작\n",
            "add_dot 데코레이터 시작\n",
            "함수실행!\n",
            "add_dot 데코레이터 종료\n",
            "add_question_mark 데코레이터 종료\n",
            "add_exclamation 데코레이터 종료\n",
            "Hello.?!\n"
          ]
        }
      ]
    },
    {
      "cell_type": "markdown",
      "source": [
        "![image.png](data:image/png;base64,iVBORw0KGgoAAAANSUhEUgAAB4AAAAQ4CAIAAABnsVYUAAAgAElEQVR4nOzde1xUdd448M+ZG7dhuF+cHEUuGqiIYU4qCiprrImWKYaQ5mKWZr9024B9NsvWfVrgV4/u/sy2lEdD0LxUa3ghF1NatCVvhCWWplx0BOQ2w3Cbyzm/Pw4czlyZGxfp8371ypkz53xv58yZ4XO+8znEe2fHA0IIIYQQQgghhBBCCCHkaJyhbgBCCCGEEEIIIYQQQgihkQkD0AghhBBCCCGEEEIIIYQGBAagEUIIIYQQQgghhBBCCA0IDEAjhBBCCCGEEEIIIYQQGhA8ved/mPvzkLQDoYHzyCOPeHt7D3UrEHKApqYmmUw21K1ACCGEEEIIIYQQMum9s+PZT3EGNBr5nJychroJCDkGHswIIYQQQgghhBB6uGAAGo18rq6uQ90EhBzDzc1tqJuAkGNMmDBhqJuAEEIIIYQQQmgwYAAajXwEQQx1ExByDDyY0YiBAWiEEEIIIYQQ+pXQzwFtlYmTJv/hj28FiB/RajQEALAjIxRFAEXx+byLl9tPnM6pvFhWX2dnWxFCCCGEEEIIIYQQQmhEoijK6PLBnI6mUCiee+65kydP6i1fuHDhp59+KhKJbCjTrgD0gt8uevyJmRqNBnQHgh4skuQqu5W8CY9Ovy8PcHJ9vbwEY9AIITSYXNzc4ubG+/j6c7lcANBqtU2NDefOFne2tw910xBCCCGEEEIIIaTPMNZsKio9QJKSko4cObJ8+fKioiJmYUJCwqFDh5YvX25bmXal4HBxcdVoNJ2dne0dHaz/2ts7Oru6OonuOy1NzbVubldioidNmvLHidPtqctara2tVK+CgoLs7Oyqqqq0tLTW1lZmnYKCAsqYtLQ0eoW0tDT2cqZkMNj3VVVVTF30ErpGwxVo9EsFBQVXr14dyGFADmTdu33z5s0VLJs3b9Zb4fDhwxUGDh8+zKywe/duvVfp5RcuXFi6dKmFzdCrhS5/6dKlFy5csKo75hUVFRl2cNjavHkz+xw6gk2cPGV5Uop/wCgul9PV2dHe3s7lcv0DRi1PSpk4ecpQtw4he509e/bs2bND3QqEEEIIIYSQ1RoaGmx4aWRjYo96UcrBb0lRUdHy5cuPHDmSkJBAL0lISDAMSVvFrgA0SZIA0Ngqv1fXIKun/6u/V/+gpq5R0HhionbXePcfeSRX4ev77dTxRxpqzJdWUFBAh2WLi4vpIe43OMsOFhtau3YtQRAEQaSkpBhdISUlhTBQXV3NrJCbm8ssN9OM4uLilpYWerWVK1dmZ2cbXS0nJ4cpLSgoyHzX0FCgQvy6Vs968Gbi3d8vkM19VO4m0DrzydnjFb9fIHt78d11c+ojRnVwiP7f/FlZWcuXL49kWbNmTVZWFnudpKSkSF179+7VK6esrIx5td9Kly5dSkeZ2cFldi0nT56Uy+WWDUX/BjroTPdF79SWlZXl2NC5zf7+97//z//8z5///OeXX355qNti3MTJU6ZNnwEEUX7l4v69uw8dyCst+Zp+ieBwpk2f0W8Mmr4CZ+YcO8y1trZmZ2ezLzTqfaZQFKV3ui4uLmZfODSDfYGTvVxv0Jja6aqLi4vxoqMDxcXFxcXFDXUrEEIIIYQQQlZbvnz5uXPnDJefPXs2KSlp8NszTBhGKYeqJewYtP3RZ7AzAE0QQBCEq7Ozu1AoFArdhW5CN6FI6BnldWOSsISvbR7POTnJ60eyvf29A/sLfig3U1RaWtqsWbOCgoIKCgpCQ0PpUR43bpze3/Z61q5du2XLFnu64BDTpk2bOnUq/fjAgQMLFiwY2vaMVFeuXPnTn/7EXvKnP/3pypUrDimcoKgnxyt2JFe9Or/u6aktK59o+vMzdxdGtv5+gSxrWc3KJ5oSo1rXxTXsWFn9zOQWTn+zoaOiot577z32kr1790ZFRbGXGM6AXrNmjT1deO655+hA848//sieSc0IDg6+fv26PVUMmoqKir1790ZGRn711Vfs6d6ZmZkzZ84cwoYBwIIFCw4cOFBSUvL73//+rbfeunfv3owZM6wt5PDhwy+++CJ7yYsvvmh0r9nGxc0tetoTFEUd++zQ91cvkyT5uHTmnLnz2etET5O6uLmZKYS+Apebm+uoVg2mq1evfvTRRxkZGQBw5swZ+jOFOVHTP0lhX27Mzs6mKCo0NNSSwouLi+kLnGvXrl25ciX7pY0bNzKXedLS0lauXElX7eXlVVBQEB8fT9flkD4OEwN6ZkYIIYQQQgiNSCUlJYcPH/7ggw/YCz/44IMjR44YDUyjwUfHoI8ePXr06FE7o89gZwAagACAblW3srOjo7ND2dGpaO/27Swez/2Sz9WS4MyhOkK4X18p/ezMyWPmC9q4ceOhQ4cAICIign4AACdOnIiIiDCzFR0ZMT9B7+rVqxRFpaenG76klxaDNnbsWGYFdgoOpijzHfn666+9vLyMvpSenk4XVVxcTM/y1otcIPN+/vnnv/zlL1u3bqWfbt269S9/+cvPP//skMKjfTrTJM0+WvJOo1Ph917f3hJWypwjJe1PP9bixKPqFfzL1W53WwRuKip1VOtMP8fkzz158qTeJGh7LvQx25qKMo8ePXr79u39llNRUZGVlcVO2bF79252bJSemCwWi9esWcPMR46IiDDMIlJUVKS3sKioiEktYirempWVVVZWRjd1+/btn3/+OfMSkz1j9+7du3fvvnDhAl0UHaRmHjAr0OszzWDHspkLAHoz0/u1YsWK48ePf/bZZ/TTwsLCb7/9FgAmTpwYHx8vlUonTpwoFArNF1JVVfXqq6+uX7+efrp+/fpXX33Vwrm3loibG09wiO+vXpLLWwHA188/YlKki4srex2Cw4mbG2++HOaMR5+4mCRFzMmT3SN6CRNdZU/+ZdZkTqrsbEhMFXrzhelijf4mhkmydPXq1eLiYr2i0tLSvLy86OhzQEBAfX293gpBQUF6V5IzMjIIgmA+fcyLj4+nP31yc3Orq6uZz6Ds7Gz2u2/8+PHl5T1XXm/duhUQEAAAp0+fHmEXKQf0zIwQQgghhBAaqXbt2gUAGzZsoJ/SD+iFg8kwMDi06S+GG6VSKRAI7C/HzgA0AICAL3BxcnJycnJxFkZ5/RTlUUJQGpLkcDiabo3gyCW/S9cb+y2ECRaw3b17Vy+YaxigOX/+/Lx588yUPHXqVIIgcnJyDF+iYxBmUnAAgFwuZ16ii+q3L6YwKTji4+Pj4+MJgjhw4IDNpf0KPffcczt37nz77be3bt26devWt99++5133nnuueccUvgSidyLIC9dEb1+cOw7x0a/fmjsnm8CHhvbwSHgcrXbaweCXs0P2rg/6NuLHkINtVjSTyKL8vJyJhxDW7NmDROKGmgzZsygQ6Jshw8fPnLkiIUlBAcH0wHx0aNHb968+dSpU6NHj6ZfysrKunHjRkJCgkwm27t3LzMfWSKR0Js8+uijdJz38OHDtbW19EKRSLR7925TaxrW3tTUZD5IDQBSqfS9996jU4usW7cOAG7cuDF9ek+u+YkTJ546dQoAxGLxV199FRkZWVZWxhwtYrH49u3bkZGRW7duXbhwoYXDAgALFy4UCoWG79zQ0NCwsLDi4uKysrLGxkZvb2/z5aSnpx88eHA9y4cffmj0OpltfHz8AKhr3/dEbHk8nry1Rd7aQmq1Oqv5+ltVLEEQZ86c2bNnz/nz5wmCKC8vp4O/BQUFhw4dos9pK1asAN3Jv01NTUwJ77//Pn0mvHTpkmEyioiICObnL0wgm/lNTFRUFB3qvXr16qVLl5iFhu2cN2/e+fPne4fCZ+XKlUZD3v1iEkOBQVp/xtixY5lJ4itWrGBnfMrIyGCaN23atMuXL9MLTV2kfEgN6JkZIYQQQgghNIK98sorSUlJsbGxsbGxSUlJr7zyyuC3wTAwOBwyYAwHdOaNF154YfHixex80LaxMwBNAYCG1KrV6u5urW9XyTjycwI0FHA5HFKl4X56WfL1LT9fXx+O2X3GnsJ8/fp1On4BAMwDM+7evWt+lrQliouL2bk+7PnJ+bx581paWuxsDzLl1VdfpSMddIxDL8hrj/GibgA4UyusaXECAJWWI+CRPkKNWksc+I/PrQZnlZZzt9Xpu/tuQECIu8p8aZmZmSdPnmSn19i7d29mZqbeagsXLjS8D6HNXWByQN++fVtvpvPu3bvlcrkl059pzGTqb775ZsaMGZ9//rlCoaAzPgcHBxtGtwHgq6++oh/cuHGD/hnBo48+ymSZ+PjjjyUSiak19YhEojlz5jCRa1MzlMvKyujJ0ZmZmSKRaOnSpd9++y0d71u6dKlCoaBflclkdMdPnTolEonobWUyGb07Pv/88xs3blg1CVqpVBouDAoKevDgAf24vr5erVa7mc1uAQB//etfmRj0hx9++OGHH1rehn5xebyuzk46TT8A1N2X/fOzQ//87FBNTV8IlSS1XC7X8jLp9BEHDx6Uy+V0mPX06dM+Pj4AkJKSQl9B/Prrrz09PQEgOTn5zJkz7A0BIDs7+86dO/Sa8fHx48aN06uCSZFx4sQJZpowMyu5vLx8/PjxABAVFcWUydTCFhERcffuXaZM+nvDpUuXrJ1jnpKScv78+aqqquzs7BUrVhjm7q+qqmKuRly9etVwAvXatWvpy+YnTpxgX2R9eDNrGzVwZ2Y9Z8+eNZyMwF6C9yRECCGEEELo4RIXF/fZZ5999tlneH8XU4ZkIjY77zOTD9r8DGDz7J0BTVEUQQFJcFy17eKuBoLgUQTB4VAqLffTS5Kvf/Z5PCpixrRoy4cqJSWlpaWF/kuypaWFDuYyv8seO3Ys/cB8buhBxp7Kt3LlytOnTw9te0Y29mxKhyNYbwiCAKAojRbaunjMQhFfCwBaqv+LYJmZmfSsW/pGgobBX8ObEFp4s0FTPv/8c7qE4OBgdmqeoqIiDw8PvYzD1iovL6ev9FiSxyMgIGDp0qV6gVom+Ku3ptESmMna5eXlwcHBFjZy+/btdC2//e1vjc43N9oGQ0wov6KiwvBGi0bTazg5OXV3d7OXWHKl1IY5uZZzdnFdnfby6rSXV/3upWeTUqIem8bhcL779vwPFeW3fr5R8vW/VLoNtg0zmZfOibFnzx76qY+Pj2Hii9GjR0dFRTGxQg8PD2urGz16dFpamm330oyPjzd6wcM8OgZtGH2mc4kcOnSIjsUXFBQ0NTXp/Y6noKDg/fffp8PfERERhqlCRpIBPTMjhBBCCCGERjBfX19fX9+hbsXwNfhzsefNm6d310E6Bv3FF1/YHIO2Nwc0QRBcLsfJyUnU3aC4z5fdHU+QzmotcfC70aU1o2KeeGymdLqTk5NV0XpmwlpTUxOdTzMlJYXJj0E/YP/M2ZQ9e/bQYQ6rZr3pRRk8PDyYcImpcuLj4728vOh1Dhw4YJhLhMbkgB6GMfSHBfP7buYX344q+WabEwDMFStHe3QDgIBLdqs5ze18FwE1e6xCyNU6ccjHfdrnBioB4IbcyVH1mieVSm2YGZ2UlCQWi+nHFRUV5eXlNqeW9vHxoYN9mZmZEydOzMrK+vHHHy3Z8PPPP9cL1CoUCgsrVSgUpgLTpgiFQnq+848//piVlTVx4kTD+eamiEQivVApE8o3vHJw8uRJADDM3t7d3e3kpHNU9HvSY+Y+M/OgLWywJbQaDfOYIAihu/uUqdOCQ8I6OzsuX/zP+X+fq6m+4+ziotXNyGGz1tbWjz76iL4pn5nV7t69W15ebsmvmQICAoZJQLOgoGDWrFmHDh1iXy1IS0ujI8vM2f6pp56aP38+E1jfs2dPdnZ2RETERx99RK+wc+fOadOmDUEHBsXAnZn1zJ071/D4YS+ZO3fuAFWNEEIIIYQQQgNtmCSh/uKLLwzvOlhUVJScnHzsWD83+TOF1/8qZlFAqdTa9vY2z5b7zjyyWy76RRv0TV3Hlboxk8LH+QcEkCRFkiRBZ+swITc3d8uWLfRjOu9nRkZGWlra/Pnz+43xjx492ugt1+ifgTOYdKKMqqoqvdlw7KBSdXV1UFBQbm6uhek4DH+abckKGIO2ypYtW+jQxjvvvAMAJEm+/fbbWq1227Zt9hd+rNZjgm/X9GjFe1M6rt1z9XfXuAi05TWusY8oF7q3T4iWdWk5QUKVO5980MX9otbTVDmbN29es2aN3kJ2+Hjv3r0AYLgO2969e7dv327tnOXdu3fTm2RlZclkMnqhbVOqmaKkUikTS7p7925UVNTHH39MP+03TCyTyZhy1q1bZ3kK7Nu3b8+ZM4d+PGfOHFOpq6VSKdPaGzdu0I9PnTq1bt06Jv2CKWKxePPmzdu3b9+8ebNIJLI8OQkAXLx4cdGiRTU1NaWlpQCQmJjY2NjY1NTEnE8CAgJ4PF57u7k7Vb700kvszBskSa5fv54kSSZeaaempgf+AaP0FvoFBN66+RP9ePKUqQBEU2ODQ6oDAPqmcxs3bqSfnj59Oj09nb5SyPxAJCMjIz09PS0tjT6vXr16lcm5QSsuLqZza8yfP99ULJv+vKDXpD8mDLNwXL9+nclazpR59epVa/Ow09Fn5uxdVVVFP964caPenmJ/4rS2tr7++uu5ubnR0dELFiygg9TJycnsELY9iZ6GmwE9MyOEEEIIIYTQr8TwSTlt6vfKJ0+edHd3t61MOwPQFJCUu9Dtzu1fvvjy7NOPP6qgqJsKZyefkKcWTPXw8FSr1RyCIAii34h9S0sLHZXIyMioqqqib8ZlOPSGYdyIiIidO3fa0PR+Q8ZouElNTX3nnXfoGAcAvPbaa2q1OjU11SFhjkuNLrk1Xq9O7A716Q4N6AaALjWxs9ij/qZzvG97mEgFABTA3Q7+3l+8rzY5g4nTwvbt2y2JZloV8bQcHelWKpXMvQFt4+HhQRd18uRJemYxAHz77bdPPvkk++maNWvmzJljqq6EhIQLFy7Q5ZSVlVk+JTkzM/Pw4cPMhtu3b8/Kylq4cKFeMP3GjRuG/f3888/XrVtnNEs1m0wmW758OX0ZwNrZmu+9997KlStXr15Npxm5fft2YWEhAHC53Pj4+La2NqVS2e888UWLFrHzPmdnZ2s0mkWLFjkqAH3ubPHypFSC03OY3vz5RnNTo7y1Jz29h4fnlKnTKJI8d9YxSSFOnDixZ8+ePXv2nDlzhs7snJGRER0dTV+tZQeIc3Jy6DWh9wzf2tp66dIlOkbs4+NDb3LgwAEzIdqgoCDmUrDRHNBff/01Ewqvr6+n16QvK1rVL707CjLznb28vNLT05mbRp45c4bJSc0WHx9/9epVuna5XE4HqdPS0kbYfQIG9MyMEEIIIYQQQmgEIN47O579/A9zf7Z848w331mRurqusenOnarrP/4YKB7l5Ozq6+0ZNi5IKBRqtVqSJN3chN+cLX45LdXcFGiA7OzsBQsW6M2G61daWtqWLVssiSnQt5Datm3b+++/rzc52lqtra2enp4URZm/NGHqplVsBQUFERER1vYaWWvy5MmWrUiF+nXNmdAm8VF1qjhXqt3+84tQpSYme3VN8uxy4ZCyLv7lRpd7HXwY0qtSFy5ceO+995hAsA2WLl36hz/8wVTguKKiwui86d27dzc1NVkeRx5Qu3fvBgCjk8QvXLhgZ/x9mLt27Zolq02cPGXa9Bn043Nfn66+cxsAOBzO5ClTp0ydRhDEpe++/fHa9wPYUBb6tGl+nX5PqkYVFxfX19cbJmWqqqratm3bMJxofPXq1dOnT5vK1PSrsnjx4i+//NKeEujg/vCZJoAQQgghhBBCiKYXcLYrAP1fb21LSlnV2dlJUhSPy+PyOFyCQxCEltSSJAUAWq3W3d39/DfnXlqzst+8JVevXm1qajI6j8wUiqLWrl07DEMMaFixOAD9q6OXMISeSmwqAG1quZ2KioqYjNUAcPLkSUti3KYC0GYC0yOGhQFoAJg4eUr0NCnB4VAU2dXVSQDh7OICQFAkeflS2aBFn+kUHP1eabMhAJ2WlrZnzx6jnwL0S8MtNFlcXOzj44MXHWn2B6DPnj0LAJj3GSGEEEIIIYSGG72As10pODo7O3g8vosLAABBEPQvoimK4nB5XC5QQHE4HB6P39XVaUnWbBv+Jh9uwQWEHi4WJgzZvXu3VCql77/ncAkJCY4qqqKiwv70IyPJj9e+v337VtzceB9ffxcXNwDQarVNjQ3nzhZ3mk1Rbb/s7GwmQ4UNuS/MY2fwz8nJMXoN0vIM/oPJqiusqF8YekYIIYQQQgihh4JdM6AnTpr8hz++FSB+RKvREAB6eQkoiuIQRFd3964d//fMv75ySHMRsgHOgEYjieUzoBEazuyfAY0QQgghhBBCaHhy5AzoH3+4tiZluX3tQQghhBBCCCGEEEIIITQycYa6AQgNLB7PrqssCA03eEgjhBBCCCGEEELoIYIBaDTCudBJyhEaKZydnYe6CQg5wE8//TTUTUAIIYQQQgghNBgwAI1GOIzWoREGr6mgkQED0AghhBBCCCH0K4EBaDSSEQTh7e091K1AyJHwkEYIIYQQQgghhNBDBAPQaCQLCAgQCARD3QqEHEkgEAQEBAx1KxBCCCGEEEIIIYQsggFoNGK5urr6+fkNdSsQcjx/f39MxIEQQgghhBBCCKGHAgag0cjk5+cXEhIy1K1AaKCEhob6+voOdSsQQgghhBBCCCGE+sEb6gYg5DBcLtfZ2dnJycnLy8vV1XWom4PQwBo1apRIJGptbe3u7u7q6tJqtUPdIoQQQgghhBBCCCF9+gHoyZMnD0k7EEIIWcvNzc3NzW2oW4EQQgghhBBCCCHE1s1+gik4EEIIIYQQQgghhBBCCA0IDEAjhBBCCCGEEEIIIYQQGhAYgEYIIYQQQgghhBBCCCE0IPAmhCMBQRACgYDH43G5XA6HQxAEQRBD3SiEEEIIIYQQQgghNKJQFEVRFEmSWq1WrVar1WqKooa6UWi4wwD0w43H47m4uPD5/KFuCEIIIYQQQgghhBAa4ehZjxwOh8fjOTk5AYBKperq6tJoNEPdNDR8YQD6YYWhZ4QQQgghhBBCCCE0tAQCgUAgUKvVnZ2dGIZGRmEA+qEkEAjc3Nwcm2eDoihM3IEQQgghhBBCCCFkHoZQDPH5fB6P197erlKphrotaNjBmxA+fJycnBwefQYAPHUihBBCCCGEEEII9QtDKEYRBOHm5kbn5UCIDWdAP2To6PNQtwIhhBBCCCGEEEIIIR10DBoAuru7h7otaBjBAPTDhM/nu7q6DnUrEEIIIYQQQgghhBAyztXVlSRJtVo91A0ZsUaNGjV37tzo6Ojg4ODAwEAAqKuru3379qVLl86ePVtXVzfUDdRHvHd2PPv5J/8H58kPUxwORyQScTiYNQUhhBBCCCGEEEIIDV8URcnlcpIkh7ohI42Xl9e6deuSkpL4fL7RFdRq9aFDh3bv3t3S0jLIbWNb/XedKfAYzXxouLm5YfQZIYQQQgghhBBCCA1zTC4O5EABAQG5ubkpKSmmos8AwOfzU1NTc3NzAwICBrNt5mEKjoG1evVqjUZTUFBgZzk8Hs/MsYUQQgghhBBCCCGE0MARCAQAoFKpLFyfx+PxeDyNRmNtRRwBx8nL1Tvc313i6eLrzhe6cIVarbaru7m7o75dcbu19XqjSqGitJS1JRvy8PCgKEqhUNhf1EALCQn5xz/+wQ4rU5TJEQgJCdm/f//69et/+eWXQWldP+wKQPv4+GRlZbW3t2/atMlRDdITFxfH5XJLS0sdm7zc3d196dKlISEh48aN4/F4t27dunXr1hdffEEfcM8///z+/fvtr2X9+vULFy4EAIFAsHfvXnuKcnZ2tr89CCGEEEIIIYQQQmgwBQYGzpkzx9nZhSTJiorvr127ZiZu6BBBQUEEwblz57Zji50yZQpFwaVLFy1cnyAIZ2dnpVJpeRUEj+MbOco7PMBrfABPINBqtUBRFAkUqeE58bijBMJH3Ec9MbqrtaP5WmPTtQctPzba1JUes2fP3rx5MwBkZWV999139hTFKCwstHDNxMREy4vl8Xhbtmyho89Gjx+CINhPKYoKCAj405/+tG7dOhuuATic7Skd6OhzYGDggM6o5/F4rq6uMTExTk4OS049a9asjz/+eNmyZVOnTvX09BQKhVFRUcuWLfvHP/4xc+bM1atXJyUl2V8LHX2uq6urr69funTpSy+9ZHNRBEFYPv3Zyclp/m8SXtrw2ssbN82Lf5IvENhcr1nLdhw/l5dpZoXMvHPHdywbmModaXi0c3i0wihJ4ob0VKmJF4y/MpJJU9M3JEqGuhWmmdxdjmbBQAyPsRrYERkefbQYazAeppZLU9PT0x+e5iKEEEIIIcRwdnZ+9tll69a9FBQ0js/n+fr6Pv30M+vWvTTQuREEAkFycvKoUaMcW6xU+sQTTzxh1SbW/ppf4OkyZe0c34mjAQhNt4rSaimSpCiKIAiKoiiSpLSktlPNdeI9MmdMeFqkVYUbeuKJJ/h8Pp/Pj42NtbOogbZq1aqpU6dSFEVHn8neYWF0q9RdKlVdU/ODltaubhW9cNq0aatWrbK/6sLCwpSUFHsKsXEGtI+PT3Z2dkBAQH19fWamuTCknc6fPz9r1ixXV9fZs2f/+9//tn8edEJCwiuvvAIAR48ePXHiRGNjIwD4+/svXrw4MTHxj3/8owMaDfD666/HxcXV1dVlZGQQBJGVlbVo0SIej/fBBx/YUBqPx9O7jmHG7Nh5Lq6uRz7NB4A5c+NnxcSe+/pfNlSKfoWkqelhN3Pyyyxbu7ZwV46ll/WMkCRuSITCXYW1Rp9aXEZyuFBnkbLyoJWFsEhT02PFPY9lJRaPhMOx29HLro71lRstP7irUGy2fJ3a+x0GaWp6rIjdNknihuRwRT+b6dThiK4Ngr4229lgVuf1h1eSuCG2YVd+We+/djTXQkbeQ/Yd/LoFGgyVJHFDssfl3qufcLEAACAASURBVOJZQ6HUP4iYtaSpsaLKgzmFtaB/jpIkbkgOB2N7Q5K4IVlSq/OCNDU9Wl6uCI8Cnd7pNsh4R/rGw8h5ymQBCCGEEEIIAaxYsWLMmLHFxcUXLpynl4wZMyYpacXq1S/s2vWBVVODrcLhcORyeUpK6r59e+nAl/2Cg4O9vb0BYNy4cXfu3LFwK3pKpVqttrQaDalsaKUoAAI4HA5QFBBAUQBUT2kkkFpSwyN4qnaVWmlpMhA2sVj8yiuv0HG2MWPG0AunTJny7rvvAgBFUTt37rx//74NJbMZnd1s+eRoPV5eXmvXrgV6BEiSw+FwuVwAULZ3qLValUbT2qbUkqRGqwUK2rs6XZ2cnZ0E/t6eTlxuamrqF198Yc8NCZ966ikAWLRokT0Zhm0JQPv7+7/77rt09DkjI6Opqcnm6vvV2dlJx6BdXFzsj0H7+fmtW7cOAHbu3PnVV18xyxsaGvbs2RMYGCiV2jtRjiCI9PT0mJiYe/fuZWZmtra2AsAbb7zx17/+NSEhgc/n79ixw9oyBdbMYg4Jm5C39+POjg4AOFv8VVLy8xiARhaRJEaLKgsHK4oijQ1XXM6ppSumAz3KSmsL0YuBS1PTw27aGBjsDWXl5Nf2FpYqLRuioFJZfk5Zb6MGIrRluvyecDIzCv0PQ1l+SVh6bKy0ML+nyMRwqDxobgtpanqsWFaSk8OKIqZvGO5BaEmi/82cnHz64YbkVKmNu0WSuCEWejovSdyQvCFRxuq42APk5ax/Bx7zHuq9OmHPTmDeRazrSsnpqSbC2dLUdGYoAKSJiRKoNVK7xF+krC0x8oI01fSVjtrCwsoNycxh2RvFzj9d2+CfHp0oKetpoSQxMVxRwuwNdmg8OVxRkrOrzNhuQgghhBBCyCLBwcFjxwadOXOGjj4/9dSikpJzNTU1+/fvX7du3fTp0q+/PuPYGgMDA2fMmBkaGuri4lJR8X11dXVq6vN5eZ80NzfbX/j06dPv3btHEMS0aY9bHoAGAKsC0BRFadQanqB33jQBBABBEBRQHA7RrVYFuPkFewT95/5FJ56TptOWzBJJSUmRkfpTpz08PCZPnsys8Le//c2GkgdOfHy8UCgEADr63N3VffX78oprPzQp2n7z1CKlUunm4uzq5NTW3iF0ceFzeSRFdnZ3d6s1spoakUgUHx9/5MgRm2s/derUs88+e/z4cXu6YHUKDn9/f2bu80BHn2l0DLqzs5OOQduTi2PJkiV8Pr+4uJgdfaa9/PLL9kefuVzuf/3Xf8XExNTU1Lzxxht09BkAWltbMzIyqqur58+f/8Ybb3A41g07fVnDQm5ubnT0GQDk8lYXVxer6kK/WpIoCdSWD1aIRRomlt1kIpaKkpyDlfZe+ZUkRosqS2yL1fY0gh1iKsv/1U1p7ImN6gTaLBiGsvwSmTiWTuwgjQ2HykJzkTppaqxYd4JtbeGug5UQHju8s7nUFjIXZ2obFCDyty0dhDQ2HJijtLawsBIkUX0lSfxFiobavn8fLj0XH9jHT23hrr6DQ480TKxkvWHLzB42hlvT0WvTR2dt4WWZOLona4ckMVosu1xYCwBlJayDTWd36PTFX8Q0rrbwskzoof+TAYQQQgghhPo1fvwEpVLJzH0eNWoUj8cDgPr6uoqKivHjx9tZ/htvpLOfzpgxY8WK53755ZedO//fn//8zj//+c+rV6+ePHli9eoXfHx8rC2cIAihUBgYGBgSEjplypSYmNnjx0+4fPnS5cuXHn300ZiYmMjIKSEhoYGBgUKh0Pyv9uleW4jUaFXyDg6XAwAURXVpurs1KgDgcDgqrVrk5P7s+CWdmk46+0R3c6e1/QKAfuOKw/A2bPPmzaMoSqPRcDicoq9Or35x3Wt/SPf29vZ2F/78008cLlel1nA4HC1JkkCJhK48LpfL4dTcrx8XEjJ69OhZs2bZU/u+ffsSExPtmf4M1s6ApqPPvr6+gxZ9pjlqHjSdqubYsWN6y1evXk3PJ7cHj8d78803o6Oj79y588c//rG9vZ39qkKhyMzM/O///u85c+bw+fzs7GytVmthyZYHrJ9f8yIA/D79T+yFqavT8j/JtbCEzLxzCfTvD2qK4lZl6S4CUJbvXLTpqMFWy3Yc3xgl1N3MZHk6W3mXFkFCwhi6XKPFMCWw6u4rld0gI0sNqjDRoNAdx8/RNRvtIXujIkiIae5dh9VivR6aGrW+LZTlRbdCE7xL9YfF3HAalsHqqJGGZOadi2kuuhWaECXsWX6LWVGvaGlsONQeZM1b7P3xeWXfvGRpanq0vKRWEhsulJXk5ENfQgf21Mm+iYQmcxbQ4aB8AKBnYAKARPfHKcaqop8CGM8QwJpSrTeZkzWzUWq8HEmUBMxM/mb3o1Jh9AV2F+n6Dsqje8bQfMIG3cLDJaYnofbtFbrdOiG43icyvUKtSKYgjQ2HyoOWJc7QHYiy/JKw9OhECXjEiioP5hudrJoeK1ZWHtzVECZWGlZSW3hZ1jsv1cQ+0lsuK8nJl+kNiEE6CWXlwV2F+k1nj4iRwS+P0p0VbmRisDRMLLvM7qWYqZe9ry3cs0IPMUBt38rh6emxvf8a7aXR/ui9YcpMHJuWs357SZRE2BPkZSsrqYxODpNCmf5Ol8mVsR5iAHMFM3s0OT2ctTcliRtiRZUHdxmdx8/ssbKSymh6ErQ0tneaM7APNkiMFlUW5teyuhubnh6rrDy4q7C8FnonULNPVwghhBBCCFnB1dWlvr6eoqg5c2KDgoJ8fX2XLn1Wo9Hk5X1SW1sbERHhwLqio6OnTn3sk0/2MVMhaT///HNISGVCwm8LCqz7Tuvu7p6a+ryvry8AqFSqjo6O6urqH374gSCIKVOiHnss2s3Njc7v3NjYmJ+/X6FQmCrK8qSyAKDt0nTUKzwkflp1N3Bg+ugoRZfyl6YaitQ48wW/m5ha23bvcv33bjxXioC2WpOVmmFVe4aJCRMmaLVaHo93+OhRTw+Pndv/56WNr96pqpofF3fsX8Wh48d3KJVtHZ0CHs/VSaDWaFUqdYC3l0Yr5/N4ADA5cvJQ98DKAPS7775LH3wBAQH79u0ztdovv/yyadMmG1oTFxfn7u5ufh0XF5eZM2eePXvWhvK9vLwAoLq6Wm/5J5988sknn9hQIFtGRkZ0dDQAjBs3Ti/6TFMqlcHBwQAwY8aMN954IyvLILBoguXvDT8/f8OF/gGBFm6emXcuAYri4rIAYNmOHZkAWZl55xK8y3fG0fHTzLxzG/MyjxoEkhfDvri4oz0l5GVm9awgjNoYURQXtwroAOnxHbcMYrtjEthrhN7qqSkz7xy9dmYeU33mjh3L4OhRvVYe721QZl7E9b6SXtix7GhPXX1VGOsg3c4Y2BkXd5ReYXEmHGV3kL0R/UTZ3NPv4xujmoviFmX1PuvtoalR0+njsh3HNwqhRn8nGB8HU6/v2LEMjoLJhrA7t2zH8Y3nzinL+3rat6d0Ymo92VPpX9FLEjcki0HGVC8Mj4aDOXSct3dWY9lNWWx0VO/P53vDmOzf1+vlLOgn3mu8qr6n0tT0WP28EJbnDzFSjiRKIlRcNhEH08kTIE1NjwWlnHmBSU0L0tT05NQGpovi2ER5T+P1XrGscEO9k7TLACSJiVKAsrL8g/4bklOlZflldH6BXWUAEgAQx4aV5OTk0+POSjdgnsRfBIqbptc029ayksro5ORYkJUYCT/3hAtzCmtBkmiiEplcGc08MbWvmeWSxA3J6enKSr2VWClZpKnp0fLCwlozI2K8Q7Xltcq+eGlP7FEnVYx+UF+3tT1BS1OjVXZTFtuXsEQaGy6k311l+TllTIJjVgZoSeIGvd2utyv6lrLeMGaPTQuY2d5IfvKe+LTYQ6iUywwLq21QgMRfYhBpprNkpKdHmwlv1xbuyilnp10WA0BYarKIld7Z9B6ja0hNDROLdC56lOWXhKUnpnqAmLlmVZafI9MNZBfuOpi4gb4YoLvDheHJ6eF67TTSbYQQQgghhKCrq9vX1w8Arl//sbq6+qmnnvruu7K2NiUACIVCK9Iim8AEizw9PWNj4z7++CPDpNIRERNDQkL/93//19rCFQrF3r3/m5r6/KhRoy5dulhcXMy8tG/fXgCIj4+fOXPW/fv38/P3d3aam4lsVRoASku11bSOnsmj2rsoinpMPGnGmOjtpbnfN5e/NGkNnyv4560TLjxnkiJ5XL7iVmv/JRo4cODAN998s2jRIibnhp7Jkyf/5S9/OXfuHLvXQ0soFPJ4vLt375766l/Llj7j6+vj5CQoPX9h+dJnCK3Gicd19/GmKIogQMDnC7jQQaplXQp3gYDH5QKAyF1kT+2rVq1avnz5p59+as8kaOtyQZAkaclq9A0ZbWDzhhai229PEg8zJBLJlStXLFmzvLx87NixA9EGuyzbETOmpqg3Inl006YsgMyIMTVFffHPrFVFNWNidizT3fDoplW9a2RdZwdUleU7+4rbVw6hMXpbAjAVLosJhfJ9TDlfGq6dtYmOuUbotLK0ZkxEJt02ZmHpLfYpt68KIx3saWdvxVlfliu9A3XqzYwYoyz/snfVrFVFvT1cFhMKfR2kexi1OBNMj9qymFBhTWnv8qOb9pUbZp3obxwyF0exX9+06aiZhuh07mjpLSUw1evuKVZGjJ7oMBPcKSzUyY2hNJZfoaykL5GANIz+qbs0TCwr6Y3a1BZelonDegPWFib70Kuq72lZSaVSLwOCNDZcYTj3sp9ijZRjSKcfUJZfImO/0Bc4K8sv6fvBPwDrpbL8ElbnLSvcPCYbRG1hYaUoOlGaGC1iDxZTpj25A6Sp6T16kmvY1lYQG94Nrl+m9hGzvLa8VgnMbNuym/ptkabGAmvnGB0RUx1iH6ySKAk7YcaunJycnJycm2Hp6RuYXW20taZHqyz/YKUotmdow26yh1HiL5LdLAOQREkUNw2jxb27XZIYrfPe6r3u0tcO88dm/8xtX5afo8/m5Mi1hbtyckoU4cnMUWYJsUikFLIztpjcYz0vicUGE7PLSipBLDaefYMuJ3FDeiIU9u3wvvYpKw/qdN/+7EEIIYQQQmikqqqq8vPz8/Pza2xsrK6uUqlUd+/era6u4nK5kyZNunvX3rR7TAxt9uw558+X8vn8SZMmPf/8qrfeevutt95+5pmlU6dOTUhIOHCgoKPDyCzJfnV2du7bt7eq6s7MmbMWL17CxLs5HM7ixUtmzpxVVXVn37695qPPNmirbml/0Mrl8QiK2HPpUEXdjReil70SnRbqFZxf+SkQFEERHB5HUdPafs+Wb+M1NTUXLlzYunWrSmX8HoYeHh5Tpkx57bXXQkJC7OuKw3A4nAcPHrz1522vbdxQ8u9/f/CPf8TPndvV3d3SKg8eM6a58QFwCF8vD093d3mbUsUhPRvIgDLF+DE9fwfaOembuQmhPYVYNwP6zTffHNAUHCUlJaZecnJymj17touLS2dn54ULF2wrv66uLigoaOzYsT/99JPRFTw9PV944YVr166dOWN1JviXX34ZLLuj5ZYtW6wqmSRJq9JA2yjUW6hsvqWzaFmgt95Kt5qVMYab6iSAUDYvAzBM09F/7cIxG8+d28gsUZYDQNaqnTuObzx3bmNvtollgd4wJuHcuYS+TWuu0/+ys15ATaixKvQ72L9lgd7QfN1Yd0K9haCTxv9oXfNGbzAzapY0wMQ4mGuOyYb0xzuwZ0/pTB8WewjB1CxcU2qZ36tLw8Sym/n0dFpxbE8yAZrsJv0vO1eGg/TWaiNTUzSB7odRhi/ozOG1iMnCjakt3FWSmp6eHqszIbO2sLCWDvBaOKCmUwvrjQJ9o0JJ4oZkj/7b2jM9+3KY/tx0YXhsuKyEuSed6aEWewjNTb/ul6iv0J5U1v3M9zXTobKbslg6RUOUBGqNXHDJLwlL75vzb13hurfOlCRuUMplrNwh7AQcysqDuwoNd7upmcZmarfu2LRxe1MpNQym1uu2nj7QpKnp6anAnmhsso+yy7vyITU9lnVfQDN7rOymLBYMw/m15bVKCZi8DKZ7Ga4svyQs3VgWEYQQQgghhMz66acbbW2KpUuX5uXldXZ27tmzGwAIgnjyyQRfX98vv9RPD2stZmZxeHi4s7NzTMzsy5cvl5Sc278/Lyxs/JNPPhkcHLx/f549dyBUq9X5+flJSSuioqL+9a/TdKzZyckpKirqp59+OnLksCUTVS2czMroaFA2/nA/aG54R2s7AJV35eirM154/JGoD65+LFPWufCcNRqNm9Dtlws3tN223ITQclZlrx5Q1dXVv9y+M2vGjH/s3hM+YYJ4lHjC+LCzJSWHj34WFhIMWm2zQuHv6cHn8cZLJDfbGzw/vzMqdBSXyyE1JMElHjx4YE/tDrkJoXVD2dDQkJGRQd+EMDs7e9DSQLOjzzYngAaA7777LigoKDEx0VQA+qWXXoqJidFqtTYEoAfOIAWgjcSWDSOZod5C/fhnZt65mGY6rwP9xHjxBmFSg9qVzfuMJJg+umlRb8KK4ztg0aa65o01hnmT6WTPPZk2lu04biwAazx43g/TwVyD4pYFeiubb5kZtVsx/TfA5DiYbo7JhlhKohO0sT6OCn2/gofeSHBtgwLYeVn72BksNsbuInXzIrDVNijAw9gmhi+YDKGajEaaLNxUM/NzehIwMLE6SWKipLZSEW608VbSTaViRVt7bj5XBrVlJXohaGXlwcseyazQovGhdmCWXWlqsqS2JzuwOeY61DMSEjAaf7aApXu2N/N6be2unMLexBusBBx0a/R2e7/vUCuOTeu3N52Co7a8Vmkk44s0Nlwo6/fmoCYzRZtYPf+g/4bkvsQgdu8xPUYuw4mMX6JCCCGEEELINK1We+jQodWrX3jppZe//fZCU1OTUOg+efLksWPHKhSKJ5544ssvvzQ1Cddyrq6uzs7OKpXq73//Gzuth0AgyMvLe/Cgwc7ySZKUy+VNTU2dnZ2jRokJAmQyWXNzs1zeamFk2doANJDw4Pt7vhNH8d2cQQsN7Y2f/VAk9vEqb7gm4ApIrZbvwm+68aDphwdgUxqFMWPGeHh4LFq0SCAQGF1BLpdXVVV98803poKHg+/GjRvfXPhWOm2aRqNpaW1tbm198OCBn59f8Ligm7dueQcERIwd29jS2q3RBHh5CTU8r7VT+Y8GUBRFcAmCIOzsyL59+8zkYbaQdSk4oDcG3djYSMegbbiTprXoGw/aH30GgBMnTmg0mtjY2ISEBMNXV6xYERMTo1Kp7Lyxo8NZfrtCuxwtvQVRG/N6Ujf0pEi+XjMm4TiTcyMzL2FMzXW9DNCB3tBcd5R5nfWSMOqF3k0z8xLG0Okflu04fu64fhaPntqZ1WHZjrwdy5h/AOBoXU/0Out6zZiE3lYCZOblZYLO5OJlO16IEoIRxjpoUmbeuXN5mfr1LdtxnOmhbnGwbMcLUXCr9CiYHjXdPmbmbTTSTuPjoNccpmw6B7TJhlhGL31FbXkthCf2/l5fkpgYbnQ09dC/gk8NE/X+qL3spkwc2/ezdWkq/ViSGC0y/bt327Dyh/QouyljfqNvUQ/K8ktk4lidNAA9LdbthzSVCb6V3ZSJY/sSMUhTY9mt6NuGjs4a77JMrjReuLFepvauKJP3/shIkpgoqS0sLCypFMX2n8JAkhitP1C6yvJLFOHJJpIhmBwIuoM9s0XLSiqVetkeenJO9G5qONSSxA3J4YoSuwPoPe3Syb1hhrnBLyupBElsrKTvjUGnWu59HC1Wmk8iY7pwSWJq7/BIU2PZySHEHiCXsf7tWcdgt9eW10J4Muv4Mthf5o/N/pnb3kwKjtrCwkoIT2ZlJ6HD1axkJHTIvbwntTRrTUmUhDWvm7WWKbWFu9gHkuEes1ptQ9/tS9hnEHoA+tnhCCGEEEIIGVdfX/+//5tbV3d//vz4lStTnnrqKa1W+/HHH5WXX42ImJicvNKq/MhGEQRx6tSpY8f+yY4+q1TdeXmf2B99pkkkksbGxoULF7744otr1764cOHCxsZGiWRM/1sCgPVBLYoAZXWr7PwvHD6XpEhnrvP1Bzf/dfsbLodDUMDhcSkNVXPqtlquoghbItDPPffcu+++O3PmTPppa2urXK4zAaWiouLNN988ffq0DYUPkCtXrjwiFl/9/vtJEye2tLSOGT360QkTZs2Y4evr8/SSxT/9/LOWJLvVagKAx+OGjBKLHg0AoAiCIAiCoqjz588PdQ+snAFNG8x50C4uLrNmzXJI9BkAmpubP/jgg9dee23Dhg2+vr7Hjx9vbW318PAYN25cUlLS5MmTSZL829/+Zs/PEwaCSqVydna2ZM3GBw98/fz0FjbU11lWz9FNi2DH8Y10egtl+c5FAJC1Kg7yzjEpIWqKDOYeH91UuvhcT06MmqKimjF9s3GV5be8ezdVlu9cZPaui0c3LQrtq0lZvnPRUQDYdH3xuZ5FNUX0jfeyVu0M7G0l3SIAyPqy/PhGemNleVG5MsHYrGVjHewfuz5l+c6imo0RdLxdpzjozRECZkZNp481RTvLvV8A/ZnKxseB3RxW2TVFcVkAYLIhljCYPkzneui5z5aysqRSGWvJZM6ym7LYWFFlSV/i2IP+G5J7k3DISnLyQX+ytWNI/EUGv9Yvyy8JS6czgFjYg7L8nDJpT64Ddot1+yErKZGJo5ktgBkn/RuVySrl0ay+m+hybeGug2C0cCMNLJH33BINlJUHd5X1xm1zagGAvp1bKuTkG01b0JPhgd7OqlEAkPUmszA+ENLU5HCoPNiXY6OwsJI9NVWnm2ElOfllhpUomdvd2UeSuCFWDCDW3YmmklWYHfza8lpIDleU5Pet3dCXUUZG3xXQDNOF1xbejE1PT2eax5Qj8RcpGmoBpGFi1mxlg92uX7iy8uAug+rNHpsWsHX7nnsGJvf0r2frm+y7F/a9G8ryL6emM2v2TKM2WKvfVsamb/A/uKvQYI9Zr+ymLDa2N/VJfg70HaNKM/dJRAghhBBCqB+NjY2ffvqp3sIHDx74+fmHh4c/++yyo0eP2HNHtPb29osXv9NbWF1dLRAIHnvsMQvvVWaGk5OTv79/YGCgVqs9f76UIDhSqZTL5ZIkKRAILJnBbe0sbzqqfK/0jqu/+yhpiKq9i0NwCA4PKA0AcPicX774ueV6EwAQlC2pjdk5BgoLC3NzcwmCWL9+/YIFC2wobXB89dVXp06d+nfp+W9KS0OCx8nl8qrq6qvl30dGTpLJ7k+ZNEnA5YYEjRXw+UAnB6eAIIACCgBaWlpOnjxpT+0OuQkh8d7Z8eznn/wfS2/Q5+/vT+eDvnv37vr1621ugXnz5893dXXt6OgoLS21M/rMiImJeeWVV4RC/VmR7e3tO3fuLC0ttadwOgd0YmKiDa+a4eXlZWfKcOQYPbk+9MPwNqGTl1gTLHY8SeKGZOOpMgaCNDU9Wj7iQzm2j+mvY3yGqQEd/F/vnu1Nb40xXIQQQgghhHRxOJzk5JUhISEnT564dOmSDSVkZGRmZ5sMTkRERISGhtmfaTo0NHTlypSqqqrjxwvp+Zo+Pj4LFz41bty4/Pz9t2/fNr85RVEtLS22Vc115oY8Eyl+PLhL0QlOKo5Ay3d1un3sp9qiO0CAbfk3AGDjxo1PPvkk/fiNN964ceMGAEyePPndd9+lF546dWrXLsOZPpay5OZwNKvCg7/73e9SUlI+++Kf69amkSTJ4/FIkuzs7CQ4HFcXF3odktIJydOBxJycnPx8u1JeHjp0yNXVValUJicnW77V6r/rRHFtT6fNzIN2VFzYKK1W69joMwCUlpb+8MMPTz/9dGho6NixY0mSvH79+qVLl7755hv2DxZso9VquVyumaPNtnwaGo2Gz+fb0S5ks8y8PFjVE3BetuOFKCjfaWv0edmOvJjSVZv68pXUFK0ayuhz7722BuvWWtIwsexy/q80CNV3n7leGJJDIx/7losIIYQQQgihPiRJHjr0KX3nQNtKcHJyeuutt82s8P3339tWMpuHh8eRI0cqK68zS5qamvbvz4uIiPDw6P/n0vbE2bRd2l++uKZWdgdOD+bwuFqt+udPf7z/71oA26PPAPDpp586Ozt7e3sDgELRk4qvpaXl2rVrYGLG+nCQl5c3e/bsl9e9SEefKYricDhubm5AT3kGAAAOQdCPmTmsV65csb87DrkJoe0zoJFRW7dujY42d4eoy5cvb9261dpiuVyuJW9sNCAy8871Zn62Mr2FgWU7jjOZn43kM0EjAc6AfijhDGiEEEIIIYQQcjS5XG77jc3oac4c8H9MEvDEqJrTN+U/2ziZemTw9vY+cOCAWCw2k7OFnT6hrq5uxYoVNs9At5PeDGgMQD803NzcnJxw7yCEEEIIIYQQQgih4a67u7u9vX2oWzGiBAQE7Nq1KywsjKIo86l6b926tX79+vr6+kFrmx69ALS9d9tEg6ajo8P2q0YIIYQQQgghhBBCCA0KOqfuULdipKmvr3/hhRfy8/PNR58LCgqef/75IYw+G7I9BzQaZBRFKZVKkUiEdyNECCGEEEIIIYQQQsMTHcIykykC2aytrS0nJ2f//v1xcXHTpk0LDg4ODAwEgLq6utu3b1++fPnMmTPDKvRMwwD0w4S+fESnGEcIIYQQQgghhBBCaLjBH/EPtPv37x88ePDgwYND3RBLYQD6IdPd3Q0AGINGCCGEEEIIIYQQQsONUqlUqVRD3Qo0vGAA+uHT3d2t1WqFQiGH48gU3v3mL0cIIYQQQgghhBBCGEIxiiRJpVKp0WiGuiFo2MEA9ENJo9HI5XJXV1eBQOCoUx6eOhFCCCGEEEIIIYT6hSEUPRRFdXd3d3Z2Yt5nZBQGoB9WFEW1t7d3dXW5urry+fyhbg5CCCGEEEIIIYQQ+tVRq9WY9BmZEM7hwgAAIABJREFUhwHoh5tWq21rayMIgs/n8/l8LpfL4XAIgsBrcQghhBBCCCGEEELIsSiKoiiKJEmtVqvRaFQqFc56Rv3CAPRIQFGUSqXCFO8IIYQQQgghhBBCCKFhxZF3sUMIIYQQQgghhBBCCCGEGBiARgghhBBCCCGEEEIIITQgMACNEEIIIYQQQgghhBBCaEBgABohhBBCCCGEEEIIIYTQgMAANEIIIYQQQgghhBBCCKEBgQFohBBCCCGEEEIIIYQQQgMCA9AIIYQQQgghhBBCCCGEBgQGoBFCCCGEEEIIIYQQQggNCAxAI4QQQgghhBBCCCGEEBoQvKFugMMI/XwejZ/tKRFz+TwOQWhJkqQoLofDIQiKoigArVrdUiO7caa0/UHTUDd2wFEURRCE4VIwXIgeWp5P5vF9wimtigDCcM/Sx4CW1N66V0UCR9B0UXRj+5C0EyGEkANRFMUBoE/6hh/qVO//SQAj3wRGht7vM7+Ry3/b2ipVKoUkCQBKDqdMKDzl6fkvDw/2ar9mBAUUARHOPuv8pka5+TsDVw1Ug6bjWkfDd+33/6O816ztYlYbwZgvxu2hE1pjYjtCJmjcPLgAgtY2t5s/uX97zrnqBpj6/owQcrRr4RVWrT+5MnKAWvLrFPSIZ+y0cRND/L1ELgDQouisvP3g7MXbVfdah7ppg4Q+25MUR873bud5qrkuQGn52i43sl2kbeGSKoKiKPw4+NWbPn36d999N9StGFGsC0CXufHpB9J2db9PB5PQz2daytMiX9/uzk6CIDrVKqGTi6vAqa2ro1Ot4nG4XA6HJxA8MvlR9wC/iwe+GNkxaPp8So1x6goRUBotAPB5RMRt+c1q3sP1xfrs7tFmXpU1C1Iybg9aY4YhvvejlFYNQGgpAIrSe5X+0NSShIbkaUlK6z1LBBiAth0ejQ4fgZTc0vXwYUxagX3tGo7waBmGRCLRqjUvjhkzli8QAIBapaqpqc7bu1uhUAx106xEf8T3BprNIGCERmApCgjCW6P5L5lsgVwOBAEEQY+GO0B8W1u8QnHaw+NdsbiZxxuZI2A5iqIIYo5Q8u6YeSKeoItUUxQ4AQTxPMKEvkuo8IbutjOtVXmN1+o07SM7Bk0QBMnj1SWlNsfOA4GAq1JrVWqNmlR5eJFPzFdPnuNeWuz21X6OdrD/hEEIocHkJOCuWjx1xpQx7IW+Xm6zo91mRweVVdTmfXm1s1szVM0bNARBtHJ9G1zGdIPg6U7lQoVynFqlJYhfOIISwaiLfKVQ2/Rr/wqBLIN/91llqGZAp+SWZjwuAgDFxeyYtALYdqxUfDjm63mlSbKYJVusLm5CfIzIz7dL2c7lcrvUqlmhE6Uh49u6utQazeXqmw/aFK3tym61mtJqRf4+E+bPuvLpl9Y292EJlFAUBQCUiOuSOlalale3dcpB8LR76//MvvXsjuAGOf/hOpP6jF1o+sWTg9eOYYkiNQBAEITQCQgAkgICgCCAooCkKACCwyFIkvQUtGlJ7RBdeNh2rCKyItKS9/S2YxVLxvU+UVzM7j0dwLFS8eHe9x5z4uhbLa0AUnJZJw69VXpX2sYuxkbD42hkdbCn/6AzAgYDAHeORS7ZYsWuMM0RI6CzowEyKioyAKC3lWCsA3DnWOQSMNZ+vU4Z7GUjZbGGzdRqhivYwAFjxR4qxcXsmLRHjX5Q6n+c0puaftv0jLXO20afkc88o28h/ULMFaq353Uao1ukTmsdsjcgbl584pKlXC6XIsm2NgWp1Xp4eoWGjX97W1bhsc/PfV1sbwWDiSC4JBmi0QRQlCdFuQJwWS9qAJQACoKoB6jm8VRcrslyBpwjTjpGEYSXRvPxnTvju7q0HA6QJIeiCA4HACiSJAGAw1kglwd1d784blwLz4IvuroHp/4xadmZxMjBb/0ZyXAFxcXsmDSw/UsoQQTy3P78SKwrh9umbON0qgmCoJx4WoCubjlBUr6uLqmBU5/0Cnur9uvzyntmSjL+1jQ8MbDWY0ZSby0rx0FxMTtGlmTXnwkUAMXnV69/vf2JGdDcyFF1azRkhLNznIeHslt7uk7R0c3RzF7e6SJ2/WcOaFVmvjAZnMnohvez/+mXD4tNtl+/2N4PbqYIE5/tNu2AEYTL44u8/QFA0dyg1Vh58aC/T0/jH56673XDT7Z+PmFZrzBHxXr4UPfg1i2VaZ6x/ai3TPepfg96jghTx4NeZxQXsz+E9evhw57330N/AA2nP+f1xrr3vWq4a9gfpHaGSwAAwEnAfWPN7ODR3qZWkEZK/Lzd3t9X2m8Mur8zucUnLTDcN0a+Xlryfd5C9IS8OsHYB65BkR2K//fgpr+6TcYhuzmEv5aYreVu4AjKBM5/dvOu4TZzLJkHbfCOZ/fSkrOE6U8Ws+MCJt7Odn+rsfjMxlqxd/uR+4FjjkOiBBZ+27TuvdDvQWPZ1zuj9dr2JhyaAHRK7voJP2VH0pGjjGPbCpbYWaCXRKzq6CS43NaO9idCHp0ePH53SRGfy/vd7AVPRU6vV7S6O7sUlpdVN9YTnV3eYx7pt32GER7LGHy0sfdVb1k6+6/33WzsTw6b3rgEEEBw43w5bnzXLn5Th1IIqj+4/+whVK+fV//OPyWE4VxZI71gN8fwrAUA9AkHjL80jBhE5pqORS65YayD/e8ER+4mByEpEAqovetcnfkg4BEEQai1FI9LOPGAoqBDRVGaNs2FZ0l1K8Hhxn4z1lxZxo7VQbRlSeQWpiFJsgKAeYYrFaTF9LVq27FSsdGihny3mOKAo3HbsYyekycAbDtWcWxbgd5bsHeMhuvHP7Oj6a8shqcXnZ3cZ5uN9elXYHDYpOSWZviejYxkf2usKM2F4TB2eoeysTHoOyJ6P06NnZJNnMUHVd9bvM+2YxWRegv0dobxo9w6cfPilzyzjKKoUye+PF10kqKokNDxr256HQC4XO6SZ5YBgPkYdG5pheH7UZY0NJ+Bj3R25tTURGg0XICey8n0/9mf7RSlAajmcv8wevQvQqHRcvTCw9b8ZW7iDxOru2Irinrz3r3xXV1qLpen1cLjj8Pvfke5uABFQUcHZ98+uHhRzeWO7+p6896918eM6eei+7ZjFXMbsyOXsP6+qzi2Tb8/juqh+TNS7+lP78+FFHtqTPWd5O3irmhtFgQHcp+cCmqN9sINqkvNnzGB8BVpSn7oLL/t7e6eI5mfdvv4je5myxpv6gOY/Rm17VhFae4N48dUv5/TvXWl5Jaut7CnZhAADUuSu6fN5NTVcfg8AUX835CxSf7e/2lUuPN4fwwbnfpN1d37993D5sD0+8S3uWaK6jmTmbvaxvoEz6ioyIA7xyIP99/Gfoak77Pd7HUdS3eA5Vhv9+HwScLg8vhCT1+vgEcEzq4A4OE3qqX+nrK10eIwtEWfnjqh6QojKSD6jgdHhjbZn5fbjh0Dw2J1zsI9l/IVF7NjZPor9vUgJbc0Y0lFxRJ6qelqdb+rOuDtN+CG+A8Ym+jv4kF7Y61aPNVM9JkWPNp71eKpHx0xepTo0B9unU8Gi05a7COZPpCNnmeM/G1g8s/A/hEE0cgLfOAaNKm99f8+uPUFv+2MOwGcnq8K/lrOM53adR2ag1rnl4WuP/A7bKymlyVnCQs+WSzmiG81lp3ZUnJL+2oy92cIsli/f7eCDae5cb2nflYRpmo19cYy9ve5jW9C6wLQ+1at7Xn04Yf9PjUtZd6EprN0FwrSziaVilNABqLHMyoeB7hzzKoW9eAJBCRFEhQ8Ez1rzviJuf8+HeQb+JuIqf/++QdZS1NDm1zi7fdM9Mw9JUWdahWPLzBXVk9cNbJ3OmXuNii4YUuj9IuClNxjuSkFaQWg88U649i2LUss+1rZLwooAgiQOPMf81K3dTu78NUi0Wucm+Fu8nY5LH6s9dgV7/IaNwIoykjeSDadw7CiolRseJwbiyYMZ6wv5SnGO9jfTtB549GfEEP6HYcgCCBJguC4ORGuTkRzm1qlhUBPfotSc/iK/NFHnB4PEQKPogRtFNFOmL/hqOljdZDofJW+cywSIIU+XeqcIg1mqg5eAx3L1qMxRexz5yzzjWJLxZ2KyG1g9GvrtshxIp95KVAArMlQ1qXbGwi6U7Mil8C2YxUVdLN0/8yb28j6cczD8LfEENkW6XPxwyU9H6cfzitdn5sCjhku0ePM7PQehu+3lHkTRON8twHcYO9XR9TeV4XYx74CRCJR4pKlFEVl/ffWhvp6AFjyzLLHpk1nViAIInHJ0iuXvjOTiyMtJhLA4P1YMDSfgc83NExWqbQAJD2vk3mB6Lm+TADQGaJDSDK1sfEdEwHoLYcvso6XbUmPN52NtPDQGZiQi8XmKxS/USg0BMHTaom0NGr1auK99+DCBRAIYPZs6v33iU8+4eXmagjiNwrFfIXiDJ0P2oRtkeNYZ1Wgv5ganlmNfXvX/2LU7zd8iz3qK/KBFDASdrKSJ0cw3yNIrWzjBQcK/pJClt8hvIW8xdMBgLzXSF6/67RlBWf7l+3f/CDy8lrnP/X3tWfsqo91RgLYsuTYsdJ5KVDgsFOSzX8mdI4Na5u5gHjQyOPyQaU9PDkkzttjUdmN/zR3gIq4v2hKWojf7+/K/Dsa+cG/1f5USjb/ZL5Asye/nm+LunNpbWm29Ry8A1JySzMm/MQEMrblOuwTxh5cLk/o5efpF+jk6s78vM/JxS1gbJinX2DrgzplywOttr8EAgP36elQKbmRjYeXMN+RmVOKqT/CtiWZK401A9rB7bRZbATERfQ8rpfDgX+DogtEziBy7ln4oA26tf0W0zeDuGL9IP8BY6+U3LlQEWPyVbEP+Igd8WkAABD0iCedeSMoarGTm/EwdHd7c1X5l9JIyb++vXX7bosjqjVnSL5PdIFzvWC0i0b1XFttjpu8gc8DAIL+ETlBNHDJj4Sq7/na99o429p4az24Tdz+D0GHYD5ZtvT9Xaz/PaLfbxr/n737j2+qvvcH/j7npGnTn7QNpVDkh4ItWDsLAwYtIhRF1BHYV5msDGc7Ua6K3slgc+uuu51u9KJXEaayW9yY1Sn4I4giakCgxdEK1VCwFbQUKdSQtrZpmzZNzvn+cZI0P05+p7/g9Xz4kDQ5+eSTc07Oj/d5n/cn6KOaoC4xxiszAn0LDDh/otoDKLAA9AvOkWXvfwbIds99sO/v6e294wczk2PjahobImWyqWOuUn/+75Fx8bMnTR2VkPi+tvJcy6Xr0sYfOXNKIY/03Eyx2jmjqaywkKzJJwvU2g0TyfVassO9W7ZNxQatdrk6S0UuTVFZocp1syq9RQiFQIJ8wUiGZRgigWPjIuTLuIs8S0SMjBMevrmpsPTqwFosUmWRWru8mMqK8kvL11Bd84wZE+vVWX33jPXtMey7D/usGSLpEvml5SpSZ0nu1xy+YADtrVEeyC3sa916/iF984rDYVGWvip5xox4241toc4kgRheEGQcffDF92u2ffubpamr5iXf+b/fXDs6qnS//pcLU/NzuB4Lx/LEePuxu672juuq5Jfz8Y3rq6qS092OI2wvS162sx1K55eWr6E3rD0RKy84byIDmlnONQz8fVd/C2FtLLvQvGF+X8goa2K9VvL+kfzS+RPb29tnLC8mx8tbYfsKQXO7fCp5DlWrb58v8eaJKq1W5bgChOW4vKwwl0rLbWFwoqGYP+N+7mmVPya5+YK9q2UXmtdIH1D0HWbWq7O0WbYfqrdIjte0FvHDS9fMoPb2ifNL84sc8jb9/E62j9E7XeAtUm10XhjUXrUxN5R9yKp77+M4bu97u8Xo81Xjxs/Pu9llGo7jVt1735bnng6oZfv+zo8tu+vWz/4WCnxlm9DTYyESbFFmIqJrr6XGRursJJYlnhefEwchHGcyeWyorPDAcuvGJr90fnLVC7bL4s4bd8ewu6dTRKfnneL0Y2zZ41L7iiB/aktaWwUx2j59uvCLXzA/+QmNGEGdnaTX0+uvMwcOCLt2UXU1HT8uMMyS1lbvAegibb12vmPoKb90/sT6A65bVn92PeE6wi9Wq5Lb2ycGdlgibWZsWmpUfNd3+shbF1q0Z3v/d3fU0/eaD5wQWgyymzLNbxwRvmvjFk/jDpzoNpuyFSkhflx/Cuk0oWNmHsdEsSaT0cT/ZtzI21KT8/99+oCueyQTmcJy8RHs+RZTnImVmQWFWcGPvbXDRwC6ePmM5qqq5JA2fsEJbzjKx2eVrkmvc/yNFhUWWl9wKV3Rd3pge9KpbIzjxtK29wnquJfjZNEJSUmj0hxDz3YMw0TFxI+KjhsxMrXlu8authYvYWh/955+ylDGx5O/cRiHwI/3CyrWGVdmu97psknpp8Rf6/Wv4uW27XRYWvXkpqn0h/9H+0+QPIJmTab8HJr7BOXPpTW2HfU9W6m6we/mirT1ffNIclfjfjrvulq6r84u5z4OtW087susF29y9y8Q//WwcKyL2GO4sXh5ep26Lt2+NwjpQhzRvB9aT4oSUq81dX1/+uhr5p5O+6uyyJjJs1YkpF5rn9hnANqvXAV/NloZynjSEzmfPfv8PsFqlafwsqgJxrZqtlUXIWMFgWcYgWGsCXqCwBHz70jLk5aujcaEFUbZllgfAWh/Asd+bCWKl9sOq6nQITDvzOeRRhiPanz1uawwN0OttW3PQj1g73cvvvji6dOnn3nmGUEQtm3bVldXJz4e7H4FzP1352Nxhi8/Iiy8Z0W6kj16vfif+Gf7qk/F/8Q/D//6hPifr2bK9tclzy/NJxJ/EQ4HAMHieT42SjFxZOpbxypMFrMgkEB0w1VXZ4+bVK9vevfzf8+ZNDV73NWdpm6SGjK+T3HWxHqt5NKLn6HUZmVlZW2sohnLxRuhixfQC1lZWVlZ6uYZa0rzqUiVtbGqvb1qY1aWqshLU/1ETH9msxIiro0zd/UKAsmiZYKm9Y2P4tkYYkgwdtKMyV133PC9QAzje/giB0Xa+olZ4pe2zgeHEP3+OkpfIN4fmr8gner228sEZGVlqUlVXhrSzaNhMEY8CPB2n0nfF/RHfuka5QGHurO2b5u1sS59g7pYnKRcReqsLNeZMDGdXrCuRhs2KA+Iq5Tt5xA4gUjGMt93Wo59Y5x6lYIY0rX3dhj5F3457pd5yg+/aGcYhiGBYbzeguxlXZX8ch6/cXKV+KxW6VYjqG+G9L3F/cO02g3KA2GM/RWpsqzU9eFqM0Qhro1FqqwDyg1a0Xy9ZDvFau2G9LqNubm5alJppef14ChWa72y9bXsguQwsfVqp22Pw3G5XfyMDVqtNtCNTllhbpaDIRZ9JvuKHPxaXK+2fTlVkbW1jVXex94TZ2Ufl5IL1hoyubm5G+vSN/i7mhWrxWWTX1ru6R0uCyPkpTFu/ASB5z/8wFp/TS6XN1280HTxQm+v023a48Z5rVDki9ctu/TWT3xLEF9vlMXC2o7eGJZliJiCAubgQWb2bIbnGdtBjjhNqtlbGmDRG2In8xekNx8Qg80SG/dQTJwhzg3JvWOwHzGjs5MYhiNiCguZZ56hS5foT3+iY8fojjuIiHQ65plnmF/+UixRMqOz00dzTltVrVa7QXlA4jB+osptgxXU0Y1rO26F0YvVWlVy1Qth2n7PjB7NESMwxJjMTHx01NbV5trzvf/zjvmlD3vfPhr5vwXs5NFCRzfDsbwgRLHB1OVz2uoWacUDYutXUSXX7Q/yB2ybURIlB4PAp03lOnu5Xm6EmfuPiaPPths/Ots5pjfK2MpkyaP//kXrPz9vH22JkBm5iPbeuKhMb23ll5ZrVaRWFRbmHlB62fjlj0mOV2ZQfml52L6GGOageNtRNxH12wLoO6Z343r6Y+2G02mS1MlBfukYbZZ166gKat0eNeHaUeMnR8XEexnXxBqGHj951IRrg/iI4BRnTSTy+0TCtke274bjZ2xwW0XyS8u1thi+uBK5bC6sFauybFvYNX5skKw/K6nxGJy+S7wyQzxU8HWkEBa9Frr5KZr3R3rufZqdTgxD2zT0x1204zA9WBpI9Jkov3S+bZ2X3tW4n85LrpZSZ/19u0ftmNJ8X/uyssLcrNzCMvu/kp3tW8S28xWn47z80vL5+hcKiwpf0M+3/sLbqzaGslCuu8Z6lbG3u+P8Kc21P8qXK6wXaOWKhGtnrzx/StPb3SE+M+Xqkd5bcz1ekz5o87XREr/p/OT65nRrNMXlGNXTuYNqothOENsSAzeCSOhmeutlFhIEnhHDztZSzxaGszDECMLeaEsV172w2+eesXj5DKqvT84q9rAkxYm8byWsexbrYXVI0ZOgj2rcZqUfW7a+U+0hePrk4uDBgzfddNPjjz8uk8kOHDhgfzzY/QqM5O/OW/TZvx+qBKcfquTv0Ou+xLPBmeNlhS8sKBcj99ZrJSEeYgtELMMwDNtr4WUslxgTazT1HKw70dXTc0/OwnZj1/tfVLZ2dlw7Kk37bb2XyGv+mGSXdCy79ioxK9NWNITK7JkAkul6Tk15vEIqfUkqSAIJUYx8vpI3WRgiViHrru+Iqml9m5J+8nXLlLTubiNj7hH+Y8F3n3wZ39HN+ijC4YFtPvQp21+3Zs2CfCory1+QTnUvlOWXlttvayt6o6p8+SDfmjFxxoz2qo3h2ybml65Jr3uhL/t5ft/9jvaMdlo+o1lty+wseqOqfM2CfCojovoDhWUkzrR0a6Jv2YXmDVlBziNx7EEZx/xu2egn376obzePV0ZekxqZ/3z9N991/+nu8STwPi81eF5XSerL5Y+R+sa1C9Kp6gXrXC56o2q+8wXb4r4Z4vATcpxArVUlVzkUrLLnyqqc70tzuYbXXrUxd78fc2qoCMPaKJEz7JhXXKxWJds2NGI+dRhqQIaJc9elkyntGSb2i7sbtNo1VRsPuDaWXzqfDuQWFRWrteriIuuON7Cb4j0Mi2c3RG7g8KLsQvOavh9TyOUq+tqVLsRtl1+6Zkazde6IKeQb+hZCcKQHt+gTbHpXRESEwdBuT3D4+szpvzz5RyK6595fZk+fIT5pMZsj5F5rc/nibcsutfXre0vgZILAEAlioFk8W+rspOnT6ZNPqKyMfvc7unjRvnuP9J7ZIe6/S5XpdW8UetydhaJebV0r7F89w9fOwLdYMcubYQSFgjlyhBiG2tpoyhR6913SaOiRR+iTT4SlS8UqVdL1R1z4Kinm6wdh5TPFxGc71mpYYg6RKqvWWrgxyDpwRJQVnWLmzVyk3HKkNnLJTPOBE72b97AJMcSx5l1HKIKT37PA9Px7JAgsw/QIwdxl7PzTLFJtLC23bb3rPdzqQ77yd9xnlPfCAj4xshGRRr7LwmTFKNJio3bXtXS3cLEymbKXKs6YDpy4lMLKInsERRcT1cFHdyd6bslx40dFqo1jPG38xKhLVnGZKrcsbAnSxctnUNVGtXKDQ5WB4BaAHzKU8c1ayVu1pE5/XE+TilxPDojI9r6yC80blMF0qaXpvLnXFJeUIpNFeJnMbO41tOjam3Vepgnn3rNYrZpYr1aTan6QZTxc0vvzS8s3zKCqjVm2n4Hj4B4+G4ufIR41WdcKp5+a7xIc+aXzk6s2qpUDWZGEY+m/7qRIGf38RnrtMAkCvfEo3ZRJ1d/Qn1fQhlfoGd8jeNm3vvXqLHtZKYk9r/vpfJnUauk2mdMJUVFhIVGxOoR9mdsiliBeYVCVUV+RGLcj4UAlxivsjw36+gbte5Nmrfjm2JskCFf/8M6GL/Z0tp6XnNi9c/4eP/veaFnPAMVbJLTqDNcjb7dzh9CLJJsYOVnMjVxkjBgNEYiIGIbpYOO+i5pgIk7Bd6d110dQz8cRvY9ZYry3JkZzslTkeD7iysdWQvKwWrqcsl/JrH4f1XirfeKzzx4GpQt5Pe0vr732mkwmW758+YYNG5588knHx4PdtT5hPW8N7UTX6YcquUoNSA3o8HE9tiwSg0xlfh3iu+NYtt1oPNesuzVz2gcnPpufkZUUE9dtMsVERl0ytF0ytC3OmrGrqnz1TYvjo6KNvT0euxVYKNBpsEJvTYmLzGEZOe4nwxXgYBiGm62UjYrpbTMyLMtwbO/HlxhBMBPz/Eepfy08xzB8TzeNHdW7ao7+rwdGBda6p8A8iWewyzP6anvnL3A+3GmvGph7BT2pV6tJ5bMqvpcv6EQMPzutqI45/LX69vlj8umCU3uhhJi9YxgSBIFjGUEQOrv5pFhO19ZrMgs3TomNljMnz3cvuE7u8zYHr+uqxJeTfLLW+VkJThvUetfZYR/5ROu2L3PY/EmfvedLDFc4VIVjbZTcm9T3nRA7Vdqw/+ny/OBxPmBxGDqn0FqLUXo3UKx2jFVYRw4sJLHKpacgu48DrOFWyF5CkbbZVu8wv3RNAFV8PfLrYMVlKdn/9DNOZ+N4zi+1rMJUEzA+PuHZLS8REc/zrS0tlUc//fCD997c+XpLS0tMTEztl6d+ctdP4+LCk58ozfvWL3RilFkuJ6WSIiKIiBhGEATG+y1fRNYwsyq5aqN1HkvuzsLFVimwP2cHxwUwsT8rO/l79O5j5ffvLMBlm2RvM7AfloPREdFm3sKwrGA0EZHQ0kFmnliWiEgg0huISOg2CUQylj3bG+pQS06dDmkSVyGeJsiNLGORWbqY0ZGRvCBcbOWZ1giFXMb3UoSFFALT08ErBFJ0UnQHG93h5XfjaePnIr90zQyqqqqfEWxIUrJNe/muDLXW44GEv3NXInjgfE5iO+Zzb83b6U9fP1xODoicBzQMZlCKtDGp48dPqG/4tt1C0fGJ7mFos7m3q701iqPMa69uaGC/Pu05VTRse0/rZf+iMiIviyUQHhdhkWNKhnPFqvaqjbnuwb1Af2q2c5yy/AXla0rzywp9vyUMWIZyryWOo+hIipLTtAn0kx/Rlg/o068oSk4bVP4EoB2rYpSXbswtJIldjYfaVPYqAAAgAElEQVRDaz9XS/eznOD3Zf4sYqfDdtsbxP8Fu0MgjnM5KWSIaMIPfhxwQy77Kk8DtvjeaFmnyLWfwViP6APuUUAEIuItJln0JfmYFPNF8clOJqYhegrPRpC51xAZ38DIr+46cYETzF4v5NtqrRQRkefzEZ9bCX8Pq32c1wR5VON0PbivcKjffXa5KlCsHg5jl9qwbGAFIfpVuM9b/cn8CoFzKSv/BRaAvq/HulV8gU4Q0YaYHbY/iYhe7firbUJ/ikFLzIOgL2qJZ1lf6y7cPWteYkzcwa9qEqNj75u3+GJbSwTLtXV19lrMMo4jIl7gGS9nZLX6dpWfJZmtAZAsW7GogJrql8S65AjZLIWly8CyAhsjMx1v5c8YBZZhiSpOj9h3rHvxDF1XJ2Pu5n+a0/L+iRFn9V5qYTvJL52fXPdCGXkaiL1sf92a5cX5Y9KbtdYdxhCroSrmqGjV5GGu27+gTxLhZ3IqbGVLGFnuWJPflmLcL2EHhmHse8a4KO7omU6OpbWLU06c63xwe9NDeSNZlvGR1eRtXZX4cmPWSH3jBY6T2kt5OfBnpfdnkGPfw9K5ZlbVq7PCdJdBOIS+NrrvfqRyq1zPLYfMj9Kvkay9L2VrYUrbXChSbSwtX1OaXxZUpEzyCv4QmVuOq3K9OkvqxMgh3c1L8bUAbhzw86yCPB3nBrJ3c1sX7E06/IQ3SOTDBKC3t1duy25mWTZZqVx8+49bmvVVlf9+V/0WETEMc8+9v+z1Uis5dO45CSE0ZrHdey7Yxsyh+Hg6c4Yeeoj27bO+ZNsrmLxVXyIioiJt/fwx9tvsJXdnIXS2j8N+MNQjoA6WjSEinmeMRpozh95+mxIS6Msvaf162rOHiGjpUqarSxAEYllvBTicxh6wHo+6HZv2TdN3gBrE6Kh+fZa1cakfVpDbJBnDCUTU3cvlZPDnLskW3SC0dlh2HiGGuNwpEWtutZy+wM2c3HtAK2Nl2i5vGaPksiHxGHkMdTxth4ZcZ3PQpwnRl7qYuFHmdpMpimMZJtYii/5eHhPF9ZqEaJY6OoXMVLnubG+MkeI65Fz7Jd9d8/odxfDzxsLCsmLribsfKQ7eD10coxy2OI26uEjq4MbPBeAzNll2oXnDfPcxDH2d/vS93+XkQBxeOEtVFvygFPPm5025LrPD0F59/NiJEycNPBMdn8hxMiKyWMxd7a2RrDDjhuuyp02PjYv/8mTN16e/8tyYX3tP56XiHp7sGzOZiIpUWbWl5eWl+T7CZ/7WgPZ1HFdWmOvPWM1+b6/EIhO59pTbDerija7H8v1BLMFBRMt/RK//J9U0EBFljqXUBLrYShcDGwavSFuvtSbVuO1qpE5j/V8t3csYh7ov8+f4M/QjLUfN33clj4gWH8ePvHrs1IVnjr5qMrYTkVyRMGnmT789+ZF94tZ2o8/+e9sg+7XRErdDfS3Zwu6uy8p5Plh/QEEfq0eQpZeNIN78XeT4bi4mxtJuYqNaZCm8wDDmHoFYprerWxbTLYul7vZmznMA2pq4bOuEuFFxjdUGtJVwXeCBLepAjmq88rvP+aXlyy+8oLc9tg8i4neXB9KKFSuWL1/+6aeflpSUOD4e7H4FJtADIZftjFvmFxH5e3gXLoM7CKHkHXgBtkFE1sF2hJhIxYnzDUe/qfvxD2bqDN9X1X/V3NH+w4nXMgzJZRHLps/55tJFQ7cx2ssghOIO1+HiVbFaTSrJA8cMZbw1TbF4+Yx4cltSbk31NzM7of30E7zZzDDEcuzYXoa7TRAYhiPBSNzfu1p+VPaIxWTpZEjOMSO6/b3R0lrp02tiQNn+ujVr1iQ3Hyi0/bXBNlxCfmlpRmFh2IPtBl0VET39q5THnvFxvmTtYWFuhlqrkloc/nxB+6Tu4eey/XVr7LcV9ZVU0dZrVbb7cIqXz6C6jWUhV5pxJQiCLc4gEDG8ILQZzUsnJfxx18XH/vnt5/Wdi7OTGRlj4QVGIG9Fvz2uq5Jfrixf8hs7LPX80vkTyTkA7TQgQnFpaW2h5M/Cw7GYjxnhdBbl4ZSqPwshD/Ta6CED2mUa2wmiw7vCkZgjKaA5ENxCdkoFcVvI1iccb9KWmEuSV/hdH4vv7b/BgQOYV25XGool94++owiB3zjg19GNxIV4D7eZOy1z+2LoO9Zpdyga42eTfjvXcHbSZNdKoBOvmVRV+W/x8S233saw7LlzgZSZDIifWz+/XeK4CWazWIJDEItRlJXRpk2k04k3xYiTiYMQ6gLJCJbeneX3XaGUPtohp0hVfun8idRsC9NMtH1z+36QQp8dVTExN3V0WIi40lJ69lmmvJx+/3s6f56MRiKilBThV7+iRx+1EHGCUBXrVxGOkIS3mI/0ryDIfKJu3hzDRfI8T8p4/qsLvW9URG1cRTKOmg0Rq282lbzFjEmW5U5hBLLwQmXXRS9NBZG2bNeX1RfYvArbaULkmTru6kkRBsM3XWxXDz/tqmiZrkMew0Rz9O158+250fOulW+taI2TMSM6Yi61fRL4JzhVwlpuD0kUqdRZ2vml+T4D0NKJTX2HLlIj+DpP4b31XN8TSbxL7ZT4ll+qXrBfdcHH6U8f55OD/DHJJJb0cN5IBOK1V/4x9brM2bk3zp03//qsHxz/7LPauq+MAkdEcsbygynXTvvhD0ckJjWcrd+jfvvUyRofzflap/1Y511vLrO9xXP9VrdG80slp3MI9NsUq7XlpWQbHNbhh2T/mdSr/fp9eFgfJFJu80vL/WkwNCxL995ELEN3zyYLT+9/To+p6Lt2+us+Wp1HAY4QVpw1sV3/BlGZn+cdfq6WTrtHsbmw7Np9jvcc3sOi2vpLOdnjiSgiKjZtyoKv/l1mH4TQZGz76t9lk2etiIiy7jRPfu3XSY1HIW203O+Vd5sPIRyrR1va2+SjyGIisrRFjmqjVCIiSy8JvMCwRCQIxAnEkDDGwn3JeY6ZeDofceL/ViK/tNx2OaTvmfLSfIkfPRF5Oa/xg1tzrvUW/Oyz46uB1AoaDDfddNMnn3wiDjy4YMEC++N+/VB/z/vCvHz7SK2TzovI967O26GbVqsKtHOBBaDtww+anz1BRMeKreMNTi+63v1PP7hudUM50YySRZxsbPjRNRmREbIXP3l/VPyItMTkJdk/0pz6vMdsnjL6qsNfndScqo6MkHtfy6x1d/p25Vkq6V9b0RtV5Rs2aLUbqF6trp8vLsWy/XVrNmzQapfbblIuVmudSm/1Yyya033NnzlvGXuzqbN5VGx0dGK0RTxBJWYEmes4+Tvnf37nuWeZmKv3d3RUdwle86Kcrs5n+bxSVra/bs0MpW0cO8chUdurNgZz1OuLyXgpefxt08j3TVl24qXXDeWllLs/4C9IJF7ljI932hi0V23MLXRcY+xJFOKn9RVa6Y+rEAzDMYzAMIxcxjEMrV6QwjDMqISItx6brK76fuF1CYunxZOlg+VI4ElgeS9NeVpXy6S+nOST9sruKqL2KnVVe9YFlyOHvrKE9WovM3zol911M/Br4xDJz7ULdA4MxEIequU1glhbBlVwcQsXoUSuQrXj5b/9V/FfOFsc9tOKw42N579rsgbaUkaNWrT4DovFsuPlv/VbF/ze+vnnnFw+q6fHTMTbLyx+8QUREceRxXqaJBaJ5oi+jfBWKdWVhy2+fdteX1XVLl0pVYxUabUbqL2qqp7s5V3rm5V939yWShPq7NidmDjfYCCGoWPHmL//XXjzTWbTJmptpcREmjtXePBB5h//EI4fF+8P2p3opZ5vmAzVrQ0RVRt1C6OuMUTJhIMnZUXLhYut/JmLkb9YQESW+u+Y1KSIn88zvXJQzkU09RoqOxr7vUOBzauwnSYwp/cqYm6L4KMam+n/1F1rl8f+120jXni9M0pGy29SrFgYXfJES5opIqaNUXSZz/fuCW6UFBunU3fxj/zS4XRLsp3Tsay9yoPE6Y80p5MDsd6PVquyHiQG0x9jV9exqspTJ2umXpd5U97NC26+ZdoPf3j8s8+ISAw9N1288K9X/nHqZI2xKxz1ZIYujz+kYnX/RoytdepVRe4Pgmuw2UD139FvxITWLvrFFqqqp+XP0OYC+uQJ0jbQfdv8aabvQLrefvHHn12N36uleG4rtmdtzusH2NJ/9y8Q/x0aB+0HKr8RA9BtTV9FxiRd88O7XCbgLea2Jut9Awc/83vk67AcKg6g5N7v2mRKa5Uyi4mxH02JwRGBJ1YWYelUWDp+wCveiuwevJ46COuRRrHaJdIdzkSlvtXB9jMoJLcHg/GDuP/+++2P77vvvoH5UH/P+4bwkWTYOze4wz6GLbXBbDJFyOVdpu63j1Wosmd3TupJiUvgBeH/Dn3QazEX3rjo9cpDld/UxSuiGYbxeaHD/VzZ6Rnbr0rylNqPC3ZezsVDqtLKMHzsN1vbxvwwKlJQRpt7TQbeIjAsQ4JgISGRlf3j2lXzW95MMrX9rZf3Gn322EHPmab+fO9B4bLorL3yVj3L40LwvNykX3GfBw5NO74l2MVuEQwWQbAITEcvL7DM2BSGYZgOU+/oZPbhxfFEfEdvF5k7I7pZppeVy3wNseVhmfm1nrs+WazWioVDPXxlL9xr77udgkpsOIZH3Dpsa6PvOeBcG9D99cHlx0Ie0KXs14AeVxp/FtJw0N7e/q76LdWyOxmGIaLaL09+8Xk1ETEMc8utty1afAfDMLvfebO93Y9R5Z1/j/bfs+8tu6c8oKCUjRw53Wi82mzue0pMfLa4Jumc57h/jfQxir3riaPUhtrTxlt6i+bYsvS3DPWChCY+/qP4+Jvb23s5TlZaSlqtUFBAP/kJCQJ1ddFjjwlVVWaOi7BYPoqP18T3Z3XvIW+brnpWbFp0XFxn9dfC02rZohuELpPp+feEbhM7YzKXk2H+50HT+1XxiYma76q/58NViCZcm4+wnSbwhlN0Zk/MyHuvNuneerk3hTf+8u6YH98S2WEgk054/rftwndsksCP7EmrM5e2cqf8aFLiOw6d3WwYt9/uv2yJH7DkaZLbpOE6NRDD0F/VfvmDaT+cNXvOgptvIaKmixfUb+364vhnBoMhHB8y6MTrgU7HcUHvgyV+SCGvD+4PgrNlH23Z5/rkB1q69lH/2/CwT/GenWpbT32s4c5FmYs8T+jpw70XbHZfNP16/PnN+dazja0T0hLPfr7b+5SffnHubOP3PhsM36ZmQLeoMXxHcu/F5uiJjKlTEBhrUp4giHeWETEsGzG659uZRv4Swx+JDGZ43qDYUvj61oj+OvAuUh1w/iCvdfy8k1h0tn73/UTcH0DwhvspGrPpgNOtqf9Y660ucLgzoMNm+t2qtMyMns7OXoGP4GQJihhlXPyMielRERGKiMjKs3Wfnv4yKkIukCAIAsMwH/zpuQHu4QAQBIZhBMOkglE/enQEJ1gEYkisdy0IxETw5oty2c8bP07Yv/o5UywjCN5ToIeCA38bmzz+NsmXmhveTx5/W3PD+/PvOy85wZWg+SdKgYjl2Inpo1iO5XmeYRjxEgsvECMIgoyN6bH87V+nU8zCSx2m0sDKqAXPet/gEDkPCxOsjZgD/sO8GmrmzV+4ZOlPOI6zWCwdBgPDMnGxcQzLWiyWd9VvfbL/48HuYGCienszu7rG8PwIhonlOI5l7VfWeUHo4PnvBeE7hjmpUHTIfV16HJ4Szea/1ddf291tYVnieZaIYVkiEnieJyKW5Xj+q6io+yZObJUNbqbF4MuJTfvvqxaMjIw1tbWZTD0CyzDEsAzDCMSTYCEhOj6+3WK6+8zbTWZvFbOHNUFgGEaeOuKZpKi5Pb2GlmbzxHHchKu47lb+zHFTnNycxHIJZuV54eNK2W8tZGKY/r0nF8IlLi7uB9N+SESXUej5SnFiSmBlWK7/coiMpT2MMQxt/u0dMQofBwbfnG/5n5cP95gGLPA60ARBEIhpVEz+PnI0WXpJsBAJJBAxDLEyYpjR3fXXd3y7rEdRFm1qC2RsY7j8zJw5s7Ky0vs0OO/z7p7NPY5/hjQI4f9dcBp10OXPgVSnKY8bpYwfqWS6uwVBaOk0XDK0fXOpKS5K0WXq6ezpFqPPRMQM+ahr0MTc7rgz280dJ/XyOBJ4hy8rCAJxDP2z12gxxdJwiD6Lmhs83bDANDe8f/zL/hw2asizyDqFXl4QWIMphuFY8eJK38uCYOEZwcRHmWTPX+r+Z3/PKscqr0FfRB3asDZiDvgP82pIOXjg4+pjlavuvW/cuPHxCQlE1GsynTvXsOPlv/mV+zykCEJ3RMRnCQlE1sMal9cZx9u8BMF9gmFPEFplstUTJz5+4cItbW3EMMQwYjlshmU5QSCe/zAh4akxY1plsstzDviNEaiio3Hl6bd+rrw+b8SElLgkjmF6ebOF5wUSOKIYLrLd3POH8webzJ2X8bxiGIGo57uW/2QiHx3JLk+KjTM2mE6e7I1h2HEx0VFmOd/bVSf7Rw33vMCYLs9ZcJkyGAzlBw8Mdi8Ahoesa1PF6HOPyRwpl44CffrFuR27qy/j6DMRMQzDEF3VfTrG3NYiT+1mIgWGIxJYskSbvx9papzY3XqtJeJVRJ/Bbzjv819gGdBDWczIpIy8uYnjxnAREQwRwzC8IFh4nmVZjmHtuc/ixJdlBjRcaVpviupVciwxoyelslIB6F6GSTHT/JfqX/u+l7HeWQQAAMOcIDBEjLV+odMQs47P8CQRnr5M2EKlN7e1Lf7++1kdHbE8T0QdLHs0NnbviBEfJSQ4TnYlYwQSGCKiJC7qR7FpM2NGXx+dkiKLjiCmmyyfd+q2Xao+1d1sn+xyZV8XYoVpoyxLk/gboknJ8hYz6b+XVZ9nd7eynxNWGYCBggzogTcjM+3qsUnfnG/RftWUlhI/f+bVGRNHJo+Itlj41nbjya91Bz+r96fyxuVEEKibi+ll5AwJEbwxSujhBGEEzzZzgvVl7BKubP5kQIN3LhnQl08AGgAAAAAAAAAAAAAGl0sAmh2sfgAAAAAAAAAAAADA5Q0BaAAAAAAAAAAAAADoFwhAAwAAAAAAAAAAAEC/QAAaAAAAAAAAAAAAAPoFAtAAAAAAAAAAAAAA0C8QgAYAAAAAAAAAAACAfoEANAAAAAAAAAAAAAD0CwSgAQAAAAAAAAAAAKBfIAANAAAAAAAAAAAAAP1C5vL3lClTBqUfAAAAAAAAAAAAADD8fe74h2sA+vXXXx/ArgyQ06dPE9HkyZMHuyMAAAAAAAAAAAAAl7OnP0l3/BMlOAAAAAAAAAAAAACgXyAADQAAAAAAAAAAAAD9AgFoAAAAAAAAAAAAAOgXCEADAAAAAAAAAAAAQL9AABoAAAAAAAAAAAAA+oVssDsAAAAAAAAAAABDTnd3d2tra2dnpyAIA/ahDMPExMQkJiZGRUUN2IcCQL9CABoAAAAAAAAAAJx0d3efP39+IEPPIkEQOjo6Ojs7x44dixg0wOUBAWgAAAAAAAAAAHDS2toqCEJ8fLxSqeQ4bsA+12Kx6PX69vb21tbW0aNHD9jnAkD/QQ1oAAAAAAAAAABw0tnZSUQDHH0mIo7jlEqlvQMAcBlAABoAAAAAAAAAAJyIxTcGOPosEj904Kt/AEA/QQkOAAAAAAAAAICB1aR+OH/zKefn5Emp181env8zVXaq9JtMB59a/N8amvm4+s95se4vH9uct15NRONWv/zyT8d5+uRTL6ge3tVBNHVt2fMqDx8EA+D06dNENHny5MHuCPiAJRU6ZEADAAAAAAAAAAwGeWxqWqr9vyRLS/V7m9fdm7/5WIfU1C2a9zRERJV7D7d4a/XcR0fPeXrNePid3ZKNAwD0F2RAAwAAAAAAAAAMhmsKnt7ilIV8btfD979wSv3kKwt3PjDVpfpFy1HNMZIr5GSsfuOjc4s95zhT/Svv19z1QKbEKy0H1RpTWLoOAOAvZEADAAAAAAAAAAwJ4+783QNTiNrUH59wfencR29Uk3zurx9fLPeW4zxpenYsdaj3HJaKMzcd3lNNNHXqlPD2GgDAGwSgAQAAAAAAAACGiNRxk4nIdLq+yfn5c4ffO0fyxYtz5y5cEkv1r7x/SvLtJJ+ZtziBTB8dPmp0e+3c4Xe+JJp+220oZgsAAwgBaAAAAAAAAACAoSUu1nmUwZr332ik2CULszmaOm9xLHXsPSgdgW4xXnfbT8cRadQHXQtFn3rvlXMkz1uSh6EHAWAgIQANAAAAAAAAADA0dBzVHCSicdnpTgHoU4f3dlDs4rlTiYim3rY8jTp2v3PYPceZqKmledzNy7OJqndpnMp0iMMPJqiWzja1NEm8EQCgn2AQQgAAAAAAAACAwWc6d/TFJ5/Y20ZJS9Yudhxi0Bo7vutG67iC4+bePm77tsOHj5nm5solGkrKU928ufqjV94/ddcDU22NHzt82ESpP7ttKtdx2tDP3wQgBGq1Wq/XuzypVCpVKtWg9AdChwA0AAAAAAAAAMBg+HJzft5m56fkqfMef/qhbMf8577Yse2ZcbNvG7ftRc17h9fm5jmX6rA2Mit3rvwjzd6Dpx6YKr6pRbNbY6JxS+eNI0L+MwxdtbW1arVa8qX09PSMjIwB7g+EBUpwAAAAAAAAAAAMhoSpi5epVMtUqmWqxTckEVHskqfK/pCXyjlO5Bg7thmXt3w6UeXew651nq3ks5eqEhzKdJzTvHGMaPryvHHS0wMMEe65z/68BEMcMqABBl715rx1alJt0qzNHuyuAAAAAAAAwKAZs3DlQyrrkIDGufL8derd29U/fV7lOEpgy1HNMSI69+K9eS+6vr/6/YNNi5dJjSnITb3tp+N2btPsLV879+bYc5++Lw4/mNQvXwMgbJqbm4N4CYY4BKABQtCkfjh/s/TAw0Q0ZW3ZFuthQ/Vzeet209SHyp6XPDIACJzu402bPtSl3LJu3cKUodqmTrNp0z5dyqJ16/L8a0/sAGWtKlmZ6bVNylxVssrTJEHpj/k5MB9U88r6Hdqwz5D+ms8AAAAA4JEie+XqbPX/VL9Yejjvd3PthTXOffRGNZE8KTVJ4fIGU0tjy6n3Dp9bdpdkWvO4m5dnb9t09KPDLQvGv//6OUq4a+lsqYLRAEOJlzTnurq6gewJhBEC0AAAXtXsWL+jJpA3BBOy8x5D9CMsK9Gk735PKyi5G/WzhhDrgvYtgJh+IC0H3CwAAAAAhFfSzQV3/f3hnfs3v7Jsrm3wwHNHPzpHlL32pU2LXbOXOzS/VT1V6TTSoHNzcxfP3FRd+cY7/5ysbqPYO2+cyklNBlcGvV5fUVGh1+vFSspKpdLLZOLjfq25rNfra2trXXqi1+u9RJn1er1er3eZXuwtxicc4hCAvmyIVR0C4zsh13uGr1STa8uc7xW6EjhkOvcvcXEE+3FNbz+cvyWQhUmkKtGsnR74J8EwkaIM6fa7oMLiA8vcUv3uaxpto67TTCRTpKRlz12aNyMtLjzDH1hzhH0byrMIAAAAABw8fbB0+Q9uu2rE6EHrATd15Zo89X9rdv5VvVQ876t5/5V6oul5syQO3mNnLZhFlUcdRhp0nWDu7XnySk3ZP88RjSu4XXIauCKUlJTU1taKjysqKpRKZU5OjnvQVq1WuwwAKE7mKVodtNra2pKSEiJSKpXp6ek5OTlKpbKiosLT8IMivV5fUlIidkmv16vVajH6LDaC8QmHMgSgAYYPY4eH4SXApv+ylYdfbmjmqpISDy9ZI6dpYwb1C3mJ32p3rF/v+lygieXmC5qtW/Y1mvueMOoajrz53JFPZhasvTPD9e7FISFl4bqShU7PhLm8BkLhAAAAAJ49qv7T65+/d+Ts8WdVvx/EGHTsvIIHpmg2f/ni9oN5j8+LPXV4bwfRrJvnSiaPxOYuzqOjmt0fV6+emi2V3SyfvVSVoNnZhuEHr2iO0WeRGL1NTk7Ozc21P1lbW+se/xUjvIWFheHt0u7du+09ccy59knsuUs/9Xr97t27EYAeyhCAHmh6vX779u1EtGTJkrD+NrLXajRr/Z46wGTYy2G4vH6b80Rfbs7P2+z4RD/Vem6pq24ioi9PnjaqUoMNn6EONZDhTK2OiDKuucbvHN5hp+3IS5v3NfIkS5l5189uv36MQsabdac+eOfNQ2eaK7e/lLhubV5KqHnQKXnrSvIcn+i3ssmtuhYijBYDAAAA0I/E6DMRHTl7/FH1n968Z+vg9SV18b2q7evVmhdeWTr9und2dxDNypsZKz2tYtbcm+Waj/bu/fSB7Fyp+s7WoQibgh5+8NR3Z8QHAgmCIBARwzCCIPACT0Qcy5FAZt5CDMkYjmVZ+zQkWN/FC7z1CUGw8BYiYhlWfImIGGIZhogYhiiCk7EMyxATVE9BWm1trUv02W737t2OAegSDzlMFRUVOTk5YQyklJeXe+pS0Gpra8vLyx2/DgwpCEAPNLHGDREtWbJksPtyZRnwOd+kfih/85fha89ybu+uaiIi0rzxXsHcOxFE9syvNM+Ak6UHn1RecBAMn1c1ENHU7GmRdDAM7QXLLX4bPubqt99p4InGLHrUHmhmZSmZd6y+ZsKOkh01F/bt2H99fw82GA4t3+mJiFpaEYAGAAAA6Ef26LPosXlhTvaUlqp6XiNdtVY+fa3almA2da/mcW+tyOf+Zq/mN7a/pktkpo376cuan7p99hYPn+3m5aO7xICwRbB0m00Mw0SyETwJnSYjwzCx8mgi6jB1EVFcZEwEK7MIFiJiiWVZlogsvKXH0kskcAxr5i2dpi5eEKJkcpZhe3kLQyTnIjiW4wU+gouIj4yJ4uQsJ2MYRjXmRv86CD54L6ksVmEmr0P/iY2EMQBtT38OL5d4OgwpCEADhEy6KHNTWD+jo3rLY9vriUYmJV1qOfXCkztnPi89zrEvp7bk523xa0rkSg+8mvBEmL3ia/d93EikmPmjbM52Wg0AACAASURBVBmRSwzY70Hwws3QWHlo36efN3zXZhRrZshi4kaNzZ69aN7MsXEBt9Z25NApInb80nvd0pwVmXfdllGzs1Z3+NCZhXdOCkff+5GhtvYCEZFR+3ntskkZ4SldDQAAAABOXKLPb96zdc6EaYPYn6FDzHS+OvkqE99LRCZLb0dPFxHFyBVm3nKps0UQSBmTaM+GTlIkKCKiei1msuYyM0TUy5u7zT0kkCIiqpc3t3a1MQyTqEhgGMbQ0yEIQnxUnIzleiy9jECRnDyClTEMEyWTix0YzO9/ufAeWfZzMj8b8YdarQ5ja470en1paWnYq4UMGLVaHUQl69ra2rq6uqE/BiMC0AD9xOmScvVzeetCuMJ3btdvH9/dQvKpa59+flblw/duOfXi/Q/TS0HGoGG4cs7sDi5Y3PDeO5VGogmLFoXr6jXfG2IDuoptL717xsA7PWnuNDTWHdpVd2jf5KX3F84JqFyGoeZEIxFlzpuTIPGqYvqcmXtqK41f1p6jSUP7F6Q7eqSBiFgiY6Xm00UZOd5i8Y5XLzwWAfGVRJ9yy7rhkBgOAAAAEDaIPnsRExPT0dExK+X6pt4WC/Hd5p7vje1EFB8VazL3sgwrkDAmPkUgQazOMSYhJVYeY+bNRCRjZRzLCoLQy5u7TN0sw8RHxfZazDp5NMuwo+NTWIbRdejFELaMk3WajGaLhRWIIUbOycbHjBY7MMiz4LLgffxA+6veJ0tPTw9Xf7wPM2gnDpMofq5erz9y5Ig/VTu8pHsPcaWlpeLgkAUFBf7HoO1jORLREI9BIwANMLRZWg4/8/BTHzSZ5KmqP/1ZlUa07M9PX3rssddPvXh/fsOvn163ILAkZeQ1B0m3b9P6fX5OG3QNYE9vDFdisrFmx/bDLcSmLbpzTuB5xa7a2wxERBd1OqLgY5and21VnzGSLCUr79YFczJSFTKWiMjc2Xj2+Kfv7K3UnX5n6xtJRXdnuOyuHOKtrrOtob6BiDLSPeyz2YyMyVSpNXx9poXGhbWuhV6nIyLSfaejzNCjuMbKPR/riNIW3X1N1auHGt7drrnmkTz8dgEAAADCB9Fn7xITEzs7O+MERVxEGhFRBJHjWETx1/U9Tsjy1lCM9OPrIif0/eFWv5phmMTExMB6DFJycnI8xXwzMjIcA9AZGRmegrxhrL/h5VPsVCqVSzg1IyOjoqLCz+D1sCNGn8k2epmfMWjH6LM4Z4ZyDBoB6MvCJfXDd2/2f0hBGC6aju188Znth5tMNHLuupInFluzNWOnrn7ppXFP/Pa5w3ufzNfsvOuJ/3pgFsJS4FOTZtsrNUZSZK5cnReGJFddQ72RiKj5zBnDopQg49nmykOVRqK0Wx59xDnxVhaTNmnunesmJz737L7G40eOL8uYGelnm2Ld5LiUUR53cCmpKaTVtXcawltYWXe+Qfy3ocFMKdZPr3ll/Q5t4G3xOs1Lu2p5Spq7NO+G8dfrv970YeO+l3aMWr8q08MApN4ve6QsXFey0PEJsQZ6yqJ168KxMgAAAAAMP4g++xQVFTV27NjW1tbOzk5xaMGBwTBMTExMYmJiVFRU2Bs/fvy4wWAI6C1xcXHTpg3jdUNMqt2+fbv7Sy5DZBUUFKyXumVSpVJ5z48OSEFBgfdQsnv0mYiUSqVKpUpOTpb8IqKMjAzJ/g99jrPXzxi0Y/RZlJyc3F/9CwcEoC8LIydfl0Cn2ga7GxAmppYz1QffeeWfmlNtJiJ56rx1f/7d4nGc0zTjbn2i7IajL/7xiZ1f7Xw8Xx2bmVdw99K50yclSY17DCHJXOVhKODhxHxh39bNmkae0m550CGEGcJIjG21Ndac7IZqrWGO1+oQnrUYWokoJTPLQxA09fpM5b5GXYuhzTXL2nO81UxmIlIofB2sGtoCO+70RXdC2yI+qj15wjwjO4T9q7Hm1a37LhCl5BXcPp6IUhauXtX0lx3amh2bdxX8x50ZoaevAwAAAFzZEH32U1RU1OjRowe7F+E0bdq0HTt2/OMf//Bz+nvuuWfVqlX92qUBIA7Nt3v3bnvxZaVSuX79epewslKpLCkp2b59uz1DOdCKEP4QQ8nkoRZHRkaGlzTejIwMTwnUkmHr4cJlhviMQbtHnwsKCob4AIwIQPcjvV7vXljdXo9GHGzU/V1B/bCnPvCW5oFA3nDun/n3/r1pfNrlmTc7gHOeiIi+3Jyft1nyFVWJZu30QJpq0Tzxy6cOW68lyGMz71r76Mq8ibHSE6fOeuCFvUs/3b55y86jNXs3/37vZqLYeY+//Ie8sJYVgCHDVwFfT1qqdmx9s8bAU9rcB1eHqcJvY/mRRqK0nDlUcaTh00pdjpc8WufyJU6VrJPiEol0utq6lrwUqdXWcLZBT0QKhYe03yHkQmWVjihl/HhDQ0Nt9Yme7OxIIqLMla7XL3wUVOFbKl/ZuqvGSGzaopWLbMWvFZk/W7eCNr2mrdz+57Mz7yxYOi0J+28AAACA4CD6fIUTA8r+xKAvj+izKDc3Nzc3V4yWeIl+iIFpe1AlvKFnR55i0HPmzPHyLqVSmZ6e7h7SGfrhV5/8j0EPx+gzIQDdrxyvGkm+6v6keDGnPztl1dzSRERyzueEIvW6PH/r7AyFEsNDZ86fbmyh6YFEg5Py1v3u5Oknq8cvWb7y5rypab7zmVNnFzw1u6DljGbv6++8cWryE79C9BkcGM5o/vXavtMGIsUk1YOrc1yixK7Z3f4WmzZW7jvcQmzGjbcu6tUf2VV36IOaeasyg9ihyKbNzn6vrrrh3U2bLt66NHfGhL4a0C2NNft3qit1PCmm5c0MIOdXRjIiMhq7fUwXlxDOROLa8qoWorRZK/IuPrf9s9p9Hzdm354WaCNmffXO0teqm4nYtEWPOld8ZuOyV/4m6b1tLx1srPzXX45rVxT9IjvksLzZaDAYk+IUOBYAAACAKwaiz0D+xaAvp+iznVKp9KeYhp+TDQrJ4RCbm5sHvidh508MephGnwkB6Mvcsc1569W0ZJPmkWyXV0wmIkpNRqgyRKmq5zVhvsUjdvrasrcCflfSpLz83+Xl+zHlqS35eVv8bldq5RkGgs0UHnQ13jvulDvsK1jco6v5+J23D58x8EQxkxbd8/O8CeHKIjbWvPleLU9Jc/OyIxV084376w7VvLmzdvKKDOkyzd4KDcumrnhQZdiqPqP7bM+2z/a4TxA3een9y11HIPQqaZSS6IJB952Zxkm/r/GCjojiY8IXgNZp9nxmJEVm3sykjLYbUz7bpzu8r3JBwcyAZnnrkZc2vdPAE8nSFj30oNR4g4rxtz/y2wzNa2rdnJ/6G332WoS65dBLxYdcn8xc8ZdV2az//QYAAAAYZI+q/3TViNGPzSv0Z0pEn0HkPQZ9WUafhwWfgW/3+90vJ95j0MM3+kwIQPerJUuWuBR0J9vaQ0Qqlcr9us1AXWJqamogoqRYD6Ud+vRDgHUADME5n/2IRvNI319rNZq1/fp5EBp/E4F9G5xB3nQHn3v2vUYzEZEs5Yd3FfwkO4z1Goyf79ypNVLMzDtvH09ENO6OO2dVbTta/drO63+z0tMIed6k5Kwuymw4Xq759POG79qMZiIiksXEjRqbPXvRvJljAw4Tj584nrQNHgsx87Vff01EcddMCtMlOF6neXWfjmj8LcsyI4lS8pbOOrTtaO2uVyuvLwwkBJ04p2DlmU37k1bce8ckz1867pq81b8KoHcpKUlELX1/y+PiHPsUmTR+bFKE+LhTd6apncytLXrXitsAAAAAQ5ZjTNl7DBrRZ3DhKQZ9WUafxbitWFtDDIB4uQu8trbWn8lCJDloXl1dXRCfeDlFpT3FoIlo+EafCQHofiX5m7GXhkhPTx+YahtSWjpa5USTx40cpM/vZ4Mw55vUD+dvPhXYe1SbNGsHMrs4ddnzmmUD+HmDQnLAQJ1m06Z9usEJBfvLvVJwKFLmrsj7Ymt1Ut7SH8+ZlBDO7byxdtdz/6oxkiL7rqWTbEmyk5b9fGbNtkrtjm0fPvLgLWnBVOJIGD/z9oKZt4enk3GZ16epGxpPHTrSln1jguurxmNHKo1EiikZ48Lzcbr9r+27QDRh6SrbSIyT7liRXbO9um7Xto8nPBJI0W1F5qoi6ZEVvfG+8qTc8puSWwJuEwAAAGBY+Pb7i0fOHhcfb/rk/8hzDBrRZ5DkHoO+nKLPer2+oqKCPAz3J8aX09PTc3JyXIIkSqVy+/btjiMWpqenp6enhzHcqVarJXtVUVHhfSzBI0eOuD9ZV1enVquH7yCELiRj0C5B9uEVfSYEoK9UU/PL9vpTrgHgypSycF3JwsHuRCjYlLy1f8xzedJsaDh28EjN12eaWoy2RGMimSJBEZc4PuP6OTNnTvL+xQ2ndm3dUdnCU9otD66Y6rD7YCfdef+ixmf3NX783NaeB1f/eHx/DhmYkreuxPWruUiYk5el2aFt3POyJmNtXopjNQlD9c49tUSUtnDRpHD0RlexbeuHjRSTuereOX1Zy5EZK+5fpHt2X+OHW7cnPFIwI4RUa7OxsfZI1dGaE05LjWRxcUnJtqUmXfkkRH7MZwAAAIDBdtWI0c+qfv+o+k/ffn+RPMegEX0OWnd3d2tra2dnpyAIA/ahDMPExMQkJiZGRUUNwMc5xqAvm+izGHqWjPA6TmOfUqlU5uTk2AO44lCE620VIsW86YqKit27d6enp6tUqlBuIhfDqZ4G7tLr9V5CyWq1WvKN4rvq6urWD9NynG7cY9COrw676DMhAA0QHoHVKqnenLfO31Ed4QojVv9IuWXdukAyZ30xNnz8zx0fnzHw7i+ZjW0GY1uN7mzNoffiJi1csWLBpDj3+r+84cze7dsPNpqJFFmrVrv3LTVv9crGv+yoaTy89S8X7lhdeGMwidBE5raGE1XV1adONLYZDQZ7uJVkMXGKmKTxU66fM33OpFSfTcsy/99dmV/vqLmw79lnWu/62e3Xj1HIeLPu1J7XXj3SaCYas2hFTugFoM2NH2/d+mGjmU1bdP8q1+IjthlSu3PTc7qCgsVSc9WXls93bX+jUmeWeMlsMOgM4lKTpcxadb8qw5/2vdaDlpa5qmRV4EnZAAAAAANmzoRp3mPQQyz6XL05b516mIy1093dff78+YEMPYsEQejo6Ojs7Bw7duxAxqAdHwxrnpKLvRADuBUVFfZyw0qlsqCgQCxk6jiZXq+vq6tzjFYHykv0WSRmbbu37/N71dbWrl+/viScdxcPJpcYtN1wjD4TAtAAAN5Z60E7DwA4rBhrXvnLDq2RSBY3Yea8m7Izr0qJj1PYtv5mo6Fd921N9ScHK88azny4bVPTKolSzrrK9w43mokU1yx98GfShZ4VmaseuWv7cztrjV/veedo9oOBRnjNjYde3r7ntEH6xU6DodNQo2uoObhHljJn1f1LM7w3r8hcdf/SbS+9c0ZX+dqzla85vpQ8s+B+57ToYBhr/rVpx3EDsXHZK1dLDRjYN0MaD27bMeI3D+YElget+/i5TR82EpEsNTNvwbzsa1LiYxQyW7fNnYbvLlRXH6o8UqfTfbp9U6fUUgMAAAC4MniJQQ+x6PMw09raKghCfHy8UqnkOG7APtdisej1+vb29tbW1tGjRw/Mh14eoWcKKvps5zLknafipWK0mqRixP7wHn0mh2j4kiVLxFTrurq6iooKfwo9Oxa5vgy4x6CHafSZEIAe9o5tzlvva8uye13ebt8tqUo0a6f73aZ/+toEPzS9/XD+lgDrSEuburbseVVqf7UJw0ztezu1RmLT8tY+uGiM+zZfpohLGj/1xvFTb7zjwr6tmzWN2h2vHX+qYJrzlKl5q1fqth6/pmDlzCTPodukGQXrIl57qfb6gkCjz7xOs+W5fReIZCmZC26cM3XKqERFX5CcyGw0GDtbGr+s1nxypEF3ZPsz7avWuyUdu0ids/p3GdXvvqbRNuo6zUQyRUpa9tyleTPSgkhGdqPIVN0184Im6icFd0zw2A+HGRJgFY62Q6992EikyPzZulU3SMxMWUxc2uQb0ybfeOsFzUsv7WuQXGoe+JlfH0S6NAAAAMBgkYxBf/v9xQGLPns/85r6UNnzy4I4m2pSP5S/mdaWbfHzVMzfe2397E9nZycRDXD0mYg4jlMqle3t7WIHICBBR59Fer1+9+7d9iTojIwMT/HiioqKnJycIEK97onVnnriz2QuQiwPMgQ5xqCHb/SZEIAGgOHOmqHse7p9m9bv8zrF0B6m0I2fhaobTn9pJIrLWSoVfXYiG7NoxYLqTR+31H51hqa5XutWZK5Y50cKeNwNK9bd4HsyV6c+2HeBKHHOg79eOl6qmzJFXJwiLmPu+IycGw+9+Jc9Z2s+qNBl+oyiypKylz2Y3U9jbyoy7vyV7+FMg5wh355tJKL0238mFX12JBuTd1dOlaelBgAAAHDlkIxB2w1I7vOgZ+1kr9Vo1nqfpEn9cP5mP5sTi28McPRZJH7owFf/GO7Ky8tDb8SfRGMKIdc4IyNDqVT6+SkBUSqVl804hI7EL5WcnDx8o8+EAPSgsF9KCkNb033vX4ZEm0NDOOd8P0hd9rwm3JGy/mgTLnuKiIHeNeiadEREV02SjD47YZMyrk3Zc1ana9IRDZ/LBQAAAADQ/1xi0HbDtfKG8fTJL4no5GmjKhXV1mCgOIaGk5OT/ZzSf0qlcsmSJUFkN/tUUFAQ9jaHiMsgsI4A9EDLyMjwVEYH+hXm/OXKz0TgK9b4yVMUhysNFe/suX61l2IRRGS+sO+1/S1EiuuvmzRg3ROlpKYQ6ejr4zXGTB+FNXjdiRqd7S2Xr6smpFFNY917r34+RbIEh535gmZnRQsRZVw70EsNAAAAYAhyj0EP1+gz0bld2zVERJrtu1bO/fm4we4OQNjk5uYeOXLEZzHogCDmM8SFoRAmAAAMXRm335WlIL7x0F+Li//6zqFTDS0Go7nvZbPR0NJw6tA7fy3+w7OaRp4UWXfdPvB77am3LhpD1Fmzo3jTjo8rz1wwOPWRyGw0GPQN1R+/tvXJTfsuEMVk3ppzWQegE25ccUsakbHm1eLHn9mh+byhxWA0832vmzsNjacP7Snd9Idn9zUYSZG1aoV/BaABAAAALntiDPqqEaNpOEefO45tfuzvTVMfevml1ZOa/v7Y5mMdg90jgHByzFbOyckpKCgoKSnxM89XpVJt3759/fr1OTk59ieXLFkS/l5C+IT/fLW0tLS5uXnOnDmOpUlCr+0yZMsmAMAVQbtj/Xq/J85aVbLSj3rJnuk+3LT+Q38nzlxVssrbpykyV/7mwY//uePjM4azR/b8/cgeTxOycZMWrvr5wvGDcHsfm5L30CMRL2/fc1pX8+GuGq/fXZY6Z9V9SzMu95sQUxY+8hvlru1vVOqaava9WuO5frksZfaq+1UBzI+A1i4AAACA4UiMQYsPBrsvweioK/vt7/fKlz3152XjYunppy7d//jvH5P/z9MPZMYOdtdgSFMqlY4x2dClp6d7/7igW7bXa3YMOqtUqpycnJKSEk9RRKVSuX79evFzxZRnlUpVW1srjpcYdGdgAIQ5AK1WqysqKohITKQXY9Dr168PMQBtX70ALgt+DA0BEE6K8QtXF91kaKiprD5Wc6KpxdhmTzCWKRIUcYnjM6bPmzd9fNwgJtHK0m68r2hOW8OJqurqUyca24wGQ18StCwmTpGYNumaSTOmz5mUeqWk+ibdcOe6rKW6UwePHHVZaiSLi0tKHp9x/ZyZMyelRA5mJwEAAACGpmEaeiZLx5ndm3675eR1Dz3/52WTYomIYrMfKntp0hO//fVdZ37x/BN3ToodhEEBYXgIexmK3Nzc/hv4TjLfWalUehmiMD093SU8qFQqh/XQfFeOMJ/Gi9FnUV1dHVYCAOhX6wNISx5AAaVLh6wmpE8zG9sMxrYa3dmaQ2+Gr09OdPs2rfecwOsXc6fB0Flbfb62+qDHBO6wGLDs4BA/yGww6Aw1urM1h94NX5+kOK5d11133T333NO/nwcAAABwxTK1nCl/Z3vpzpNK1eNlT8xKdXpx3K1PlM0+o37uv+5SxeYVPrDy9uxUucv7m9QP5W/+0q+PmhqmLgP0h/T0dE/loZGcOnyFOQCdnp5uv0zhPVEfAAAAAAAAAABaPt302P8cTc5dmV+ifirNNbRslTBJ9YcyVVO1+tWyh+/ePOvXT6+bneTwcqpqi8Z3Ad0m9cP5m8PTaYD+4SWcmJycPJA9gTAKcwDanj+fnp5uT38OPUURlzgAQFJJSclgdwEAAAAAACAkSbPXvfyWf5OmZqt+la36VUgfFxeLWtIwLKHQ8/AV5gC0UqksLCx0fzK8nwIAAAAAAAAAAIGxmExEqUkIQMPQJQ4t6F4GWiwPPShdgtBdKUM5AQAAAAAAAABc0ZouniG6brB7AeCd5PiEMKwhAA0AAAAAAAAAEKJTm/PzPNVXTv3Fy2U/Hzeg3fFo0uhU3xMBAIQRAtAAAAAAAAAAAMFLXfa8Ztlgd8IPLY2nieRybrD7AQBXmH4JQNfW1qIyCwAAAAAAAADA0GGyENHkcYFkQL97UiM+YFmWZVgi4gWeZVg5F0FEJksvEUXK5ETUYzaZeXPfOwUiIoZhGIYlIkHgOZaLYGVE1MubHd/F8zzHcnIuIlImj+Bk4luTKDrkrwsAQ0WYA9Dl5eXbt28nooyMjIKCAjEGrVar3WuHB0SlUiGcDQAAAAAAAACXmern8tbtDuqdSzZpHskOvIVT6/LULi148fjep8UHHMtFcnIi6rGY5FxEoiKBiFqNbUSUFD2CiFq6vjf2dgskEBFDjPgulmFlrIyIzLxZzkUkRicQUWtXG8MwydEjiKi563szb4mWRyVExipjEmPk0UQMEf1n1kr/vxIADHFhDkDv3m3d5tXW1lZUVIhVwysqKkIMQOfk5CAADQAAAAAAAACXmexHNJpHBrkFL367YI34QCDBzFuISMZyYiq0nRhuFkiwCBazxUxEMk7GEktEPPEWnicijmU5hpN8FxGxDCPjZJEyuYyVMQzTX18GAAYJakADAAAAAAAAAICE26fOFx9YeEuP2UREkbIIIkbyMUOMWF4jgpWxLOfnu1iWs/C8QII9b5qIWhp1A/xNAaD/hDkAnZOTY893FtOfiSg9PT09PT2UZpH+DAAAAAAAAAAwwOIi7bWYGcfyGh4eC4K19DMF9C4iRhAEx9znFrr8A9CTJ08e7C6AX7CkQhfmALRKpVKpVLW1tRkZGfYnCwsLw/spAAAAAAAAAADDTfZajWbtYHfCTwzDCIIg8ALH2UtnOBbHkHzMkET9DD/eRU5Ba4vFInYg8F4DwFDE+p4kcI7RZwAAAAAAAAAAGF5iYmKISK/Xi+HgAWOxWMQb68UOAMBlADWgAQAAAAAAAADASWJiYmdnZ3t7e3t7+8B/OsMwiYmJA/+5ANAf+iUDGgAAAAAAAAAAhq+oqKixY8fGxsYOcCkMhmFiY2PHjh0bFRU1kJ8LAP0HGdAAAAAAAAAAAOAqKipq9OjRg90LABj2wh+ALi0tbW5unjNnTm5urv1JsXxPKJRKZYgtAAAAAAAAAAAAAMBACnMAWq1WV1RUEFFtbS0RiTHo9evXhxiAXr9+PQLQAAAAAAAAAAAAAMNLmGtAi9FnUV1dXXgbBwAAAAAAAAAAAIBhJMwB6PT0dMnHAAAAAAAAAAAAAHClCXMJDpVKJT5IT0+314Bev359iM2i/gYAAAAAAAAAAADAsBPmALRSqSwsLHR/MryfEpzTp08PdhcAAAAAAAAAAAAAriBhLsEBAAAAAAAAAAAAACAKcwb0UBYREcEwTNBvFwTB/U+X//M2ZrPZbDabTKbe3t6urq6enp4JEyaE1v1hJioqarC7AAAAAAAAAAAAAD7U1v5/9u48vqkq7x/4SW727m2SbhRKSxcoO7IWoawiCEWqdQTREXBGRUccxzrzqD9lxkek84w7yqCtOgoqyGjZ9wLSSoGKFApJ2Vpa2jRN9yVNmuT+/rh6vSZtuQ1J0+Xz/oNXc3Ny7jc3Iconp9+jkUqlCoVCLBZLJBKRSCQSiYRCoVwud8n8/SiApiiKEOJ0Bs0ngBYIBMz8FEXZbDb2T6FQyJy9/+hvzxcAAAAAAAAAAKA3YqJLBvMze8Ql8yOA5qvzAJr5gQ2gCSHMUmir1SoUChFAAwAAAAAAAAAAQA8k/AXlwCXz968AmkmHncugbxlA0zQtFAptNhszP9ORg1my7sIXrLcQifrRWwsAAAAAAAAAAKCXoiiKzTDt/nTJ/P0oJWQCaKczaD4BNBM6swG0SCRiWnAwL6FrnkYv0d+eLwAAAAAAAPQcdv+EBwDo825n6zt2+SybOyOAdpJIJHJMn/m/NnwCaJvNJhQK7VZAs6+fq55Ir9DfVnwDAAAAAACAxyF3BgBwIol2TJ+dDqDb/RzuR6ko08rErSugBQKBzWYjv6TPFEVZrVZsQggAAAAAAADgVu1GHsijAaA/aDfn7FL4abfxIHc3QpdU2I8CaLYFh3MZNM8AmpnWbu9IhsueSW+AABoAAAAAAAC6Qbv/Wu/8CABA3+AYb9od4Zl/2u1AyL3pkjr7UQDNLH/mZtBdwieAZu9iziX8LVc8iV6jvz1fAAAAAAAA6H7MUjD2Z0KIQCBA4gwA/URHcXNX+w9zA0y7SNMldfajAJq5fG5dAc3exb5g3NfMNU+jl+hvzxcAAAAAAAC6mV36zEbP7A/sTQ8WCQDgbnZRpxN74LWbZCKAdobgt7rhFNwT9bf/4PW35wsAAAAAAADdiU2fO+q5wV0l1s21AQB0D/ZjkPnirZOOHHySuk6CzdvUTwNo4p6EtN3Xya2Rd4/V354vAAAAAAAAdBtu+szGLtygGRk0APR5dr/24bjkud2V0R1N5dY8s38F24aB3gAAIABJREFU0KS9VejQQ9Tob3y/52Ptuew2U4sqPGbagj/GjZouEKCVBwAAAAAAAHTIrjemzWaTSqUSiUQk6keJBwD0cxaLxWw2m0wmtmlGR2uiPaJ/fRzzD/6dnh8roBlder40TV/MP7Bny/+OSbz3mdf3SOU+hopruzf/o7FWN37Gg/3t0gEAAAAAAEAn7JpvCDgdnwUCgY+PD6JnAOhvRCKRSCSSSCQtLS3sh6RjBNpRyObaPNPxl0767/JSxJo9x+Xzx/d++frsJc/OWrJGpvAVCASqsOglq9afP7X3xuV8F56otaUh443l2Vnvu3Bkj2WxmP+b8besT1+2WMyersU1GmorP1637ON1yxpqKz1dCwAAAAAAeBi3vQaz8JmmaYVCgfQZAPotkUikUCjYj0RPtSFyDF37bwANPYRBV7z3y9dHTlo4avIi7hvUNyB47NQlBSd32axWV53LamkzGRuNzXUuHNlj2axWk7GxpanWhRfQHbKz3s94Y3lrS8MtR1aVXy0vvlBefKGq/Go3FAYAAAAAAD2QXaNnbvqMthsAAMw6aG4G7dgfv/v1owBaLBZTFCUUCvthQ4wey2q15OzPlHv5TZ7zsJCi7O4NjxpRWVbUWKf3SG3QPYzNdSZjo9XSdsuRqrDosMjhYZHDVWHR3VAYAAAAAAD0WHYZCk3TVqtVLBZ7qh4AgJ5DLBZbrVbHz0lP1UP6Ww9o6Gn0ZUWas0fm3vecj7/a8V5ffzUlEtfVlPsFhXZ/bdDT+AYEr/rbZk9XAQAAAAAAPQLb99lms9lsNgTQAO5mMBhycnKceGBQUNDUqVNdXg90hAmgmQW4zEpcj+9GiAAaPIam6Z9yv/P2DYwaNokQYrVaTmd/mZ31/pCEqcMn3n10xwe/W/2uTOFTZ7g5KGacp4sFAAAAAAAAD3Nc0Me24LDZbJ6qCqA/0Gg06enpTj9cq9WuXLnShfVA55hPRaFQyHxIctNnj4TRCKDBYxpqddcunYwaOsk3IISm6fxjW8uLC59df7Dk8o/Hdm309Q9WePn7+KtbjY3sQ2iavnm9IDtrw43L+TRNB4VETpz10MiJC0Riqd3kNE1fv3Ty2K6N5cUXCCGxI5Nmp6yRSBWOZfAfyR9N27Tnjh3ftVF/87JAIBgYM25G8urwwSO5f8Mrb17e8u6TU+9eNT7pAbt6cg98qj2XnfrHN739lNy7qitLsrPev3bxh1ZjY6B6YOJdK0ZOXkhRzv8tvuX1tFmte79a12ZuDR0Yf2znRqu1LXHeyslzlp889PkPB/5jNrVEDZ206JG/c+vk+RpZLOYdn71y4dQe5ua/np9JCAkfPHLZnzbIFL7tVss8hKJECx56WSSStD+mzVSQtzvv8BfVumJCiDo8JnHeirhRSdyzt7Y0bH53ddTQiXfOf6wgb/fpI1sMuuuEkIEx4+amPh8cHuP09QQAAAAAgG7g2AaaWQHtwZKgp8nKysrKynLVbEqlMjExMTk52VUT3lK79ScnJ3dnDXZ27NhxOw/PyclJTEyMj493VT3QOavVyqbP7EEProNGAN2n6PX6o0ePVlVV6fV65k+1Wk0IUalUarVapVIlJCQkJCR4usyfVVVcq60qi1w8QSAQ6Eo150/tTXlsvUzhOyhmnFSqCFCFS+XeQuGvbcppmv4p57t9X7/RZm79eYbyq7s+X1tVfmV2yp+5OazVavl+979P7M2w2X7+X5BLZw+VXTu38OFX7WrgP5I/q9VyaPubeYd/bRZxXZNXUnRmzn1/njBzqUDw8zPyCwgOVA88seejgTFjuaFnZanmhwOfDogeLZbIuNMWFRzb/lEa+9xr9Dd2fv5qefGFual/EUvkTtTJ53paLGbme4ILp/Ywl+j4ro2as4d1pRrmIVcKc3449PnsJWuYjzD+r1G7JFIZe30cMdsqMj+0+9HV3FiT9clLVwp//YUgXalm+0dpQ8fMXvTIWqncmznI7DCpK9Vu/fBZ7uDrmrwt7zzx4NPvh0Tgv4gAAAAAAL0AE6wwG21hBTSwXJs+E0IMBkNWVpbBYOi2NbztdrrIycnxYACt0fycA3S1Bq1WyzxWq9V2ZwDd7nug/zQDYT8YmRja45vhIYDuC5jc+ejRo3q9/X59zBG9Xl9YWMgcUavVSUlJSUlJTDbtQdW66zKFT4AqwtJmytmXGTZoqF9gKCFESIkkMoU6PNZu/I3L+fu+fiMkIn7BspdVYVGECOprKvZsfi3/+DfxY2Zx23RcPv997oHPAtQRC5a+FDFkDCGk9MrZ3Vte++6TF9lgtKsj+fvx++2ns7+KiB7N1Gmz2Zg5D3/7rl9QePzoGcwwmcL3rvv/8sU7j5/Y81Hy7//BLNE1m4zHdv+bosRJC59gA1NCiK5Us/uLf1CUeGbq06OnLJbIvOprKrK/e+9szrciiZRPtuuI//W0WtrG3pky577nqnXXt7y3WleqSbjjrnseerm68sbXHzyjLytqMxklMkWX5hSJJEtWrluyct2eLa8Va8888lyGl2+Qcxf85yKtluO7Nl4pzBkUe8fdv/ubKiyKEFJRcmn/1vRLZw/5BYXOXvIsd6PLy+ePU5Ro0uzlk2Y/5OMfbGlrPbbr37n7Pzmd/dWCZS87bokJAAAAAAA9h2MvDgTQwHKuT/EtabVad0zbLoPBwPNg9+tqAJ2VlcWG190mPT29o5P2k2YgTADNPeLZGBoB9G0prasghAzwC/FgDVu3bt26dSv/8Xq9fuvWrUePHk1KSkpNTXVfYbdUVXFN4R3g46c06Iqva/IWLHuZ+ZvQZmpprNOrwqK5g21Wa8HJXd5+qntXrvMPCmMO+geFJd69srjojK5Uw4abJmPT6ewtcoVvyqr17FLWyLjxKavWf/neUy3mOnZO/iP5q6+pOHVkc0T06NQn3pJ7+RFCKEoYGTd++ZpNX77/9Im9Hw8cMkbh7c8MDo6In7bgjwe3vznkdOKoKcmEkEv5B65cODH3/ue5i3CtVkvekS2txsaUx9JjR05nn/ui3/9DpvD58fvtCePuGhA9qkt18r+ehJCQgUNnLn5aKvNShUUPiB5dWaadde8zUrmPKiwqNDKhprKkzWyUyBRdmtPl9GVFBXl7Ykcl3fvo/7LZfVhkQspj6V++/3TByZ0jJy0MiYhjx4slskUPrx12x13Mu04skU+Z+8i1Sycry4rMpuaO2oAAAAAAAEAPwW5CSH7pdura+TMyMpRKpQcXnHaOXeTr2bYMPZObgtpuy387OZFGo0EXC0ddWvOek5Nj9xWFZ/8SZWVlMfUkJiYmJiYqlcpbPoQP9lOR/aj07CLoDn/bHW6ptK5i8vv3/3nn62X1Oo8UUFhYeN9993UpfWYxMfSTTz7p3MNdorFOH6AaIJYqKsu0NE0HqiOY400NBkIE/oFhFou5pennFNhiMTc1GMIHj7BriyyVeUukv2lAYdBdLy8uHD5xQfCAOO7xkIj4CbOWOTeSv2Lt6foa3fSFTzDpM8s3IHjCjAd1Ny6VlxSyBwUCwajJi6ITEo/v+aiuuryuuvz4no+GDJ86avIi7mPrq29ev5Q37I67ohMSuccpSjRy0kKhkLpZcqGrdfK/noQQHz+lSCwjhIglcl9/lVgsY9qDMDedm9PlCvMPWC3mSbMe4q4cJ4T4BgTPXPyU2WS8ejGXe3zExAVs+swQS2S+AcFmU4vV0ubuagEAAAAAwFXsVvm5REZGRk5Ojss7OQDYMRgMJ06csDvYyXphu1XYzMN7yMpocALzIWMwGJg2Ly5fvO+Oj0fnYAW0k0rrKia9dx8h5IeSsx4poKsLn9vFxNCEEM8uhW6o1QmFIoGQ+uVmpZdPoNzLz2a1tplblcGDCSESqTzlsX8KKUokktA0bTI2GiquX9fmnc/bw4bUjIobl6xWS+zIaY7f7UTG3iGVeTkxkr+KG5f8AkOUIYMd7xoUO9bbT1WsPT2EkyNL5d4zkp/a8s4T3+/eZDYbLebWpEWr7eLa6sqShlpd7Ihpjn02VGFDpi98Iip+Ulfr5H89PTsnT2aTsar8Snjk8HbbN4cOSghQDagoKbRYzOzuhUKh0O51Z/L0msoSt5YKAAAAAACu5fKEhUmfmZ/ZVcauPQUAIzMzU6PR7NixIy4ujln9yhzpaDwTVjJvSOY7EkKIUqlMT0/vvqLBdey+4nJ5m28E0L1bbvGP9/3nKebnbcvfG+AX0s2v6CuvvML2dL59W7duraqqWr16tasm7KrGOr3cy9fLO4C5qSvV+AWFiqVyY3Odydjk7fdza2CJVF5dWXLk23eLCo5arZaOZqurLpfKvO0WIDP8AkO5i3P5j+TJbDLWVpVWV5a8mTarozFN9Qab1cptMRwcHjNz8dM7P19LCFm4/BXuhoSMmqpShbd/gCrCcTaJVD5p9vKu1sk+ls/19PicfLSZWmqrysIih0ukivaqUvgHhZmMzTaLhfwSQAMAAAAAQF/iqn+Vc9NnBjLoPiAzM9OJR61YscLllXCdOHGCyZqZBbA8V786dpBg1kH3k7312tV7G9EolUo3LWDvOdEzAwF0l9mlz5MHjenV6TMjOzubEOKpDNrHX202GU2tTV6+QRaLubKsKDJugkAgaKjViyQyZmdCQkhRwbHtH6UxewP6+KsHx0+MHTld4e3/zaa/cGcztzZx42wugUAgEAidGOlCxuY6i8UsoX6zxlnu7U+JxIQQr66n3k7jeT09Pid/Eqmsk80D62sqmF7V3VAJAAAAAAD0Ro7pMwMZdCeY8NRxg764uDimW7FGo7G7NygoSKlUopexc7F4u3bs2OHaAJpdmduL3vbONczx7BNMTEzklp2YmNjJ4F4NAXTXcNPnbx5+f9LA0d1cwNatW12ePjOys7NVKlV39uKQe/kbKq7ZrG3KkCiTsdHY3EAIaW6oriwrGpO4hBBSUXIxJCKe2Q7OoCve++XrUplX8u9fix01nW2koCu1/4+cROZtbG5obqr18g2yu4umaZq2OTGyS8IGJTy0ZiP/Xeya6g1Hd34YGTeBEHLku/dCBsR1afF1VcU1QogqNKpLRfK/np6ds0vMpla71eVcfoGhYonbW1EDAAAAAED3c8mysHbTZ3Z9IjJoRwaDoZN+EcnJyUzErNVqO0oGlUplWlqaq3Zd610yMjJcOJvBYMjIyFi5cqWrJkQA3T2Sk5OZ72+Yzip9tf8GQQDdJXbpc/evfS4sLHTrnoFbt25VqVQzZsxw3ym4vP2UpVfOmozNYZEJ3n7KgpM7laFR537YSQgx6K6pwqIunT009/7nmcHF2lPNjbVLn94QGTe+82n9g8JMrU3G5nrHu+prKprqDU6M5EkilfsFhlSWXW5pqnUMoJsbqnMP/mf05EWqsGj2oM1qzT3waUNNxaLlr1itbV+88+SpI1tmLH6a257Y1z+4pamusa4yJCLObk5za8uBrf8UUlTKY//s0kZ//K+nZ+fkSSxVBKgG1FeXm00tMoWP3b1mU0tddbkqNEoowiceAAAAAAC0g5s+x8fHx8XFMWEW05mX+RkZNJdLdmg0GAzp6emJiYnuvqrubqbRVfwbbiiVSqVS2UlXaJZWq9VoNFhX3uu48GuDngxxDF+O6XP317BhwwZ3n2Lbtm3dFkCHRw4/dWRLXU35oJhx85e+uOM/rxQVHLt35Rthg4Z9m/k/Jw9/sejhtcqQSGaw/maRb0BwUPCgW04bOnAoRYmKCo4PHDLWbpe54qIzptZmJ0Z24UkNHnnm2LaSoh8D1b8plabpsznf/nDgU3VYNDeAvqY5mX98253zHwuOiCeEjJ+emndkc3TClEGxd7BjAlQRCm9/zdkj0cMS7Zb3NjVUVVVcix8zs0vpM+nK9fTsnDxJpHJV2JBTR7boSjWO8XfZtXPVuuKRkxaK0AAaAAAAAAAc2KXPaWlpbLSqVCqZX4pHBs2l0WgcL1FQ0G9+t5hNQuPi4hzzX61Wy6z6NBgMWVlZQUFBbm1h7NxLdvsJe0f4pM/c9bBMYN15PczFdE19AK6GAPpXKZ+tfjv5pQj/UMe77NLnKZFju38d+9atW/V6vbvPotfrN2zY0D3NoIMHxCi8A25czh8UM25w/MRnXt/H3vX8m8ftBgcFR/6Uu6O6ssTHX80epGlbSdHp1pZG7khlyOCwyIQLebtHTLg7JOLXr/50pZpThzc7N5K/yLjxQcGDTuzLGDx0on9QGHu8skx7OvursMjhMSOmsQeb6g1HvnsvKGTw6CmLmQT8jqTUovPHDm5/a+nTGxTe/sywAGV48IDYC6f3xo2eETtyOufp0xfzD7Y01caPntnVOvlfT8/OyV/CuLn5x785efiL0IFDpXJv9nhDbeWxnRtlCp/oYVPcXQMAAAAAAPQ6jumz3QAmYGWWlxJk0L8sW2Z+5tM0oN01uVOnTuWGqjt27IiPj3dfL46eFkBzv9VoV1paGve6KZXK5OTkxMREx/cnKz4+vj/vQwg9nFu2WeuN1mS9llv844R3lpTWVdjdlVv8Y8pnPweyTPrc7dURQgj/5hu32ce5sLCwG5JuQoh/0IDoYZOvFua2tjTccnB45AiBQLDv6zd0pVqatlmtlqryq//N+NvBb9602ay6Uq3VamFGSuXe42csNbY0bP/4hWLtaavVYrVairWnt3/8QmN9FXdO/iP58wsMnTBzWX11+eZ3nygpOsOUqj139OsPnmk1Nk5b8Ac2Vmaabxgqrk1b8Ee26bNvQMjk2Q/rblz68ftv2C85pHLvyXN/Twj5LvPFsye+NRmbCCEtTbWH//v2sZ0fJoyfFzGky+vx+V/Pbpizpam2vsb+711XqQfEjpw4v+jc0a8+eEZ/8wpN22jaVl5cuP2jtMoy7chJC9VhQ27zFAAAAAAA0MfcMn1mKJXKFStWsIGgS7pP9F7cK3Y7QTwbqpKutKToG5jn3tHVY9tnOz6qo14iycnJnWTT0JNlZWWlpaUxv3jRh9ewYwX0z1JHzc8t/rG0rmLCO0tOPfNfdh10D0mfu9R8IzU1NSkp6dVXX3UuR9br9UePHu2G3QiFFDX2ziVb3nvq2qW8YePmOA7QlWptVktYZAIhJDQyYeydKXmHN2967TeFBagiWprqzuVmXTyzf/maTQOiRxFCYkbcOWXuIyf2ZvznzVW/nk5IJYyfV379Avfh/EfyN/bOlBp9Sd7hzZ/969c+PjK5z5JV67nLn0uvns0/vi1uVNKQhN+szB06bu7FHw/m7P90cPyE8MEjmYPRw6bMTvnzga3pOz9/defnr7KDY0dOn5f6PEV1+S8yz+upHhDr8jmZ1+jXRw1MOHNs28frlhFCBsWMe+DJt/nv38hFUaJp9zxeW1V2pTBn499TuHcNHTN7+j2Pd7Q5IQAAAAAA9E8802cGk/2xe+51zzrojIwMrVbLLjfukvT09Li4OHdUyGZkjmEon1zerqTk5GTmVdBq3bh9fc/8wqCjRc1MKN+udoNpu+XSbtKfV/27D/fbrL792xUIoH82JXLs28kvrcl6jZtB95D0mRBSWFjYpfFqtfrVV189evSoc5sWdk8ATQgJixwx7s779n+9PlAdwW2CQQipKr96LjcradGTzE2KEs1O+XOgetCJPR811lcJhZRPgDp+9KzEux7N2Z/54/fbuY+lKNH0hU8OHDL22K6N5cUXaJoOComcNGt57Mhp32x6Xu7l78RI/ihKNPf+vwyKHX9810b9zcuUSBwz4s4ZyU/bNUduqNXLFL5T5z8mEku5xyVS+bQFf/z6g2ca66vZgwKB4I7pqRFRI0/sy7h8/vs2c6uPn2rctPsnz31YLGm/+7OQoqRyH4oStRu88ryejpNQIql/UBhbMyWSBg+IZVpedOk1Yg0bN+dm8flzuVm3XHPNFCOVeXXUytnLJzD1ibcK8nbnHf6iWldMCFGHxyTOWxE3Kol7kSmRWO7l5+Xbzu922T07AAAAAADoq7qUPjO6OYNmK0xLS+tqBp2enq7RaJg6XV4hmxQ7dsxwIoBmJ3Hr2s+eGUCTDp51J61IlEplfHw8nz0JXa6vBqOeZffOzMnJ6avXGQH0r+wyaOZn5q7tj2zwyK6DLCfWMqvVaiZEdiKD1uv1hYWFCQkJXX1gVwkEgjsXPGZqbfryvafueuCF2FHTKUrcWFeZd3hLXfXN+Utf5DbzpSjR+KQHxic9YDfJXalpd6Xa/7+CQCCIGjY5athku+OP/CXT6ZFdeV7C+NEz4kd3tp3jiInzR0yc3+5d4YNH/PmfRxzrDBk49L4//B/PGkQiyZKV6zoZwPN62k1yV+rzndzs0mvEkMq973no/93z0P/rpFTGLZ8RIUQklo6dumTs1CWdjJEpfB9N+6zdu+yeDgAAAAAA9FVsxsczfWYfxc2g7bbdcy1uMtulDJpJn5mf3Vehy/s1uzWAzsx05h/4HfW7cKtbXtg+3KWhH1Iqlf3kBUUA/RvcDJqbPntk10FWdna20491uh1H9wTQhBCxRD7vd3+NGzUj9+BnWZ++ZLW0qcNjpt3z+OyUNQKB53uUNzdUf/avlQbd9VuOVIYMfuS5DC9fN/7/BwAAAAAAALgEs8xQq9V2tXMum0FPmTLFrXu+MRUyCyT5Z9Dc9HnFihXuqJCJzAwGg0ajsev84MTiTTZ966TvRB/mGD7eMo504iEu0ckq8r66aLcbJCYmci9sH/5bgADaHjeDJr+kz54t6eLFi7fzcOfacXS16cftEAiE7a5BBgAAAAAAAHATp1MzpVLZPRu+dTWD7ob0mRASFxfHnCUnJ+f2A2h2bbLLl1T3fB3tZpmVldXRlWx3/I4dO6qrq92dAiOAdofk5GSDwaDVag0GQyf7UvYBCKDbwWbQbye/5PH0mTjVf8PO7bTj6Oe8fIOeXPudp6sAAAAAAACA/sgug05PT+8o++6e9JkQkpiYmJOTYzAYcnJylErl7URmGRkZbM1ujd480kyjc9zXy05OTk5cXJzjvoIajabdFNhgMGRlZTmxnB96gpUrV3q6hO6AALp9UyLHbn9kQ4R/qKcLIYSQqqoql8zTpXYcrjopAAAAAAAAADiNm0FrNJqMjAzHxKrb0mdCiFKpXLRoEbNyOSsri0lL4+LiHIcxESrTrMPu3urqaibFZm72t+T0xIkTnWwkaDAYMjMzExMT2VCeifs730qRiafdl+PbFeOms0BfhQC6Qz0kfSauWAHNcq4dBwAAAAAAAAB4CjeDZrI/bsOK7kyfGVOnTq2urmbXZbebSCYnJzMB9C2TU3Zk/3HL58ssas7KyurSJnWOXwO4EPMmZFrBuO8s0FchgO531Go1n9XNLky9AQAAAAAAAOB2OGbQDG622z3pM1tPYmJiZmZmJyt5b4nZ0dHl6XOXQluPUCqVTCeTW47k/0QSExPdneNz0+eef5F7C+bXCAghiYmJiYmJfbUZOgLoXkCtVrsqDtbr9Rs2bOCzwaBarXbJGQEAAAAAAADg9nEzaEfdmT4zmM0YDb+orq7m3suuxo2Li3PsC9Fuj2NXSUxM7HzNdU+QnJzMbD3nqgnd3UrYLn1esWKF45aY7V52rVbr1sJ6Ne5GlMwPfXUfQgTQvYBKpXJJAJ2dnb1hwwb+J739MwIAAAAAAACAq3SUQXd/+sxSKpWdr9mMj4/v5g4biYmJhBBuj+keiNtK+/a5e5dFx/S53de089zfrR1Ceim7K5aTk4MAGjxGrVbzWbPcuQ0bNmRnZ3fppLd5RgAAAAAAAABwLccM2oPpc8+kVCqTk5NvP8jjrk51Byaa12g0TEcOJjdnGzJ08igmbmaba8fHx7v1DcAzfe5c938P0Sv0n04mCKB7gWHDhnUpO7bDv+2G3UmdPiMAAAAAAAAAuAk3g0b67D6d9zy5fUyYq9FouK/gypUr4+LiOloZzX25mTbcdg93X6kGg8EufXaM+DsK/d3acaVXs2sXw3wJ0SchgO4FEhISnH5sl9puuOqkAAAAAAAAAN1GIBB4uoTuxiR9QUFBSJ/dqhsyaMdXsJOs1u6udh/uckyz78zMzEWLFnEL4B9Adw9mOXmXHuLxwDc5OdlgMDDdwF2ybJ+rR30wIoDusmvXrr355puPPvro2LFju+eMarU6ISHBiS4cXW27wT0jWnAAAAAAAABA/+TyJMgden6FfYO7M+gu6bzdtlvPy3bh6LFWrFjRpSKZzifuq4cnd+8e2UMggO4duhpAO9d2g3s65x4IAAAAAAAA0P161Fo/6GO6OYNm9nV0bA3skfT5Np91d35NolQq09PTNRpNdXU1n/F9+yucnvaRiAD6FvLz89ttYfHBBx/YHfnjH/84atQoN5WRlJS0detWnoOdbrvBuv/++2/n4QAAAAAAAAAAfUY3h5V2rYHZg91WANvOohcF0KS7epKAE/p1AE3T9KVLl7Zv315SUkLTdGBgYHJy8pQpU4RCITtm3LhxTOt3mqaZI3l5eZs2bfrDH/4wYcIE5iD9C5vN5qZS1Wr16tWrecbKt5k+p6amov8GAAAAAAAA9Ao9baEf9FXdmaV6vAlMV9tZQM/Ucz4e+3UAnZ+fv2nTJqlUOm3aNG9v77y8vE8++aS2tvaee+7p6BWyWq3nz58nhJw5c2bcuHHcqNrdEhIS1Gq1Xq9394lSU1PdfYp21ehvfL/nI+1P2WZTizo8Zto9j8eNmi4QdN8VBgAAAAAAgN5CIBDQNM38410gEHBvAsBt6mo7C+hRmA9D9uOR9IAkuv8G0C0tLXv27PH29k5LSwsJCSGEzJs376233jp69OjEiRM7WgJ85syZn376acaMGSdPnszPzx8/fny3FaxWq++///7bXN18S2vXrnXr/O2iafpi/oE9W/53TOK9f3p9j1TuY6i4tnvzPxpqKsbPeNDjf0kAAAAAAACgR2HiZruDJpNJJpN5pB6AvgftLHovk8nkeNCz8Vr/XV6mxa4lAAAgAElEQVSq1+urqqri4uKCg4OZIwqFYuLEibW1tdevX2/3IefPn//qq6/mzZu3dOnSefPmbd68+ezZs91YMpkxY4ZblyenpqZ6ZPvBy+eP7/3y9dlLnp21ZI1M4SsQCFRh0UtWrT9/au+Ny/kuPFFrS0PGG8uzs9534ch+paG28uN1yz5et6yhttLTtfQsZVfPvfn8zLKr5zxdCAAAAABAP8LkKUKhkFnr19DQ4OmKAAA8r6GhgflUZDo39ISVnf13BXR1dXVzc3NoaCj3ZQgODqYoqrLSPlwzm8179uw5fPhwSkrKtGnTBALB/PnzfXx8Pvnkk+Li4vnz54vF4u4pmwmg+W9IyF9CQoJHmm8YdMV7v3x95KSFoyYv4r4WvgHBY6cuKTi5KyJ6jJCiXHIuq6XNZGw0Nte5cGQfkJ31/rVLecv+tEGm8O18ZFX51fLiC8wPvgHB3VJd72BqbW5qqDa1Nnu6EAAAAACAvo+7/JnbgqO2ttbHx0cul3u0OgAATzIajbW1tXK53LH5hgeT6P4bQLfLy8tLIpHU1tYyN2marqurO3HixOHDhwMCAv7617+GhYUxdwkEgmnTpsXFxWVkZBw/fnzy5MlTp04NCgrqhiKTkpKIqzPohIQEjzTfsFotOfsz5V5+k+c87Jgyh0eNyD++rbFO7xcU2v219R/G5jqTsdFqabvlSFVYdFjkcOYH99cFAAAAAADwG3adN+w6nAqFwhs3bkRERCgUCo+VCADgOS0tLaWlpczvhZAOGkB7JIZGAN0Oo9HI/NDc3PzRRx8JBILVq1dHR0c7vkJqtfqvf/3rlStXdu3a9e9///vxxx8PDAx0d3lqtdq166BTU1M9tfGgvqxIc/bI3Pue8/Fvp+m2r7+aEonrasoRQPcQvgHBq/622dNVAAAAAAAA/LoJIRM9UxRFUVRbW5tGo/H39w8MDPT19WV+/RwAoG+z2WwNDQ01NTV1dXUymUwsFlMUxbYnIj2gCwcC6M4wWxQyP7Pfsubn53/wwQdPPvnk2LFjCSECgWDIkCHPPPMMTdM2m81ms3VPbampqSqVatu2bXq93ulJ1Gr16tWrPdL3mRBC0/RPud95+wZGDZtECLFaLaezv8zOen9IwtThE+8+uuOD361+V6bwqTPcHBQzziMVAgAAAAAAQA9k14WDCaBFIpFYLG5ra6usrLx48WJzc7PFYmH+ke64YyEAQG/H9sEXiUReXl5BQUEKhUIsFotEIjaAthvsKQig29FbOkbNmDEjISHh6NGjTiyFVqvVSUlJnlr4zGio1V27dDJq6CTfgBCapvOPbS0vLnx2/cGSyz8e27XR1z9Y4eXv469uNTayD6Fp+ub1guysDTcu59M0HRQSOXHWQyMnLhCJpXaT0zR9/dLJY7s2Mj2LY0cmzU5ZI5G283tY/EfyZ2kzFeTtzt3/SY3+hlgiixgyZmbyUwIhtfXDNSmr0gdEjyKEVNy4xL3JVXb13PaP01KfeDt04FBOnTbtuWPHd23U37wsEAgGxoybkbw6fPBIu08Q5hLlHvisWHOq1dhIUaLgiPipd6+KGzVdIPjNl/8Wi3nHZ69cOLWHufmv52cSQsIHj+ykGTTzEIoSLXjoZZFI0slzzzv8RbWumBCiDo9JnLciblQS9zVqbWnY/O7qqKET75z/WEHe7tNHthh01wkhA2PGzU19Pjg8htdV5rBZrXu/Wtdmbg0dGH9s50artS1x3srJc5afPPT5Dwf+Yza1RA2dtOiRv3v7Ke0uFJ/3UtnVc1998KfUJ95ubWk4vntTZalm5KSFC5a9zKc1OU3TZ45tzTv8xdKnNwSqB3b1eQEAAAAAgB276JlJnxkikchqtUqlUqvV6uvryyyItlqtBAE0APRFTCJEUZRYLPby8pJKpVKpVCQSiUQi9oORXQTNfUj3QwD9G83NzWazOSAgwNOF8MW040hKSjp69GhhYWFhYSGfh3g8emZUVVyrrSqLXDxBIBDoSjXnT+1NeWy9TOE7KGacVKoIUIVL5d7cX5iiafqnnO/2ff1Gm7n15xnKr+76fG1V+ZXZKX+mqF/fzFar5fvd/z6xN8NmszJHLp09VHbt3MKHX7Wrgf9I/kzGpm8/ebHo3FHmZpu59drFH0qvnB05aWF9jY7dp66lsZZ78zcztDbX1+haGmu5dR7a/mbe4V/bX1zX5JUUnZlz358nzFzKJss0TZ/O/vLAtv9jn47VaikvvrD1wzWjJi+a98ALUrl358VLpDK7nJrLZrWajI3MD+1+eDQ31mR98tKVwhz2iK5Us/2jtKFjZi96ZC17dmaPR12pduuHz3IHX9fkbXnniQeffj8kIr7zOu1YLGbm+4wLp/Ywz/34ro2as4d1pRpmwJXCnB8OfT57yRrmo5b/e4kQYmptbmmq+yn3u8LT+9jxfDDp84Gt6aOnLPbxV3XpGQEAAAAAQOfYFhyEEIqimF9KlkgkTOAiEonkcrnVaqVpmk2fEUMDQN/A5shMvkxRFJM+y2QyZvkzAy04PC8oKMjLy6usrIz9LxYhpLKy0mq1BgcHe7a2rmK7Quv1+sLCwosXL+r1+qqqKr1er1arCSEqlUqtVqtUqqSkJOZIT1Ctuy5T+ASoIixtppx9mWGDhvoFhhJChJRIIlOow2Ptxt+4nL/v6zdCIuIXLHtZFRZFiKC+pmLP5tfyj38TP2YWt03H5fPf5x74LEAdsWDpSxFDxhBCSq+c3b3lte8+edEuQOQ/kieb1Xps18aic0cHxd4x/8H/UYZGWdpaf/x++5Hv3ss/vs2JCRk/fr/9dPZXEdGjmedus9mYOg9/+65fUHj86BnMsOrK4px9mQHqiLn3PTcodrxEKqdpm0FXfHz3v8/n7fbxU81Y/DT7bheJJEtWrluyct2eLa8Va8888lyGl+9t7aJptVqO79p4pTBnUOwdd//ub6qwKEJIRcml/VvTL5095BcUOnvJs9xVw5fPH6co0aTZyyfNfsjHP9jS1nps179z939yOvsrnuuL7QuwtI29M2XOfc9V665veW+1rlSTcMdd9zz0cnXlja8/eEZfVtRmMkpkCtKV9xLrp5zvBsXeMe+BF5ShUXYJdbuYLwMObn9z/IwHZy1Zw+chAAAAAADAB7sImv3XDdOCg71XIBBIJBImgCaEcDNoghgaAHozu+XM7JdwTO7M/GnXA5qbVnum6P4cQAcHB4eFhWk0mqtXrw4ZMoQQ0tLSkpeXFxAQMHjwYE9X5yS1Wq1Wq2fMmOHpQnipqrim8A7w8VMadMXXNXkLlr3M/E1oM7U01ulVYdHcwTarteDkLm8/1b0r1/kHhTEH/YPCEu9eWVx0RleqYUNDk7HpdPYWucI3ZdV6diFtZNz4lFXrv3zvqRZzHTsn/5H81VTdKDy9b1DsHQ888RbTyEIskU+c9ZCPf/B/P36BXZjcJfU1FaeObI6IHp36xFtyLz9CCEUJI+PGL1+z6cv3nz6x9+OBQ8YovP0JIfXVFY31VQ8u/38xI6YxjxUIhKrQqORH/m61tF06e2jc9PuZlN8d9GVFBXl7Ykcl3fvo/7KLncMiE1IeS//y/acLTu4cOWlhSEQcO14skS16eO2wO+5iXnexRD5l7iPXLp2sLCsym5o7agPSiZCBQ2cufloq81KFRQ+IHl1Zpp117zNSuY8qLCo0MqGmsqTNbJTIFPzfS1x2z6tzbPqceNejdy74I9JnAAAAAAD3YfJoNoBm1v3ZfsEcROgMAH0P90s4BpM7Mx+DpAcsfGb131hELpfPmTNn06ZN77zzzpQpU7y9vU+ePKnT6RYvXqxSqQgh+fn5GzZs6OjhH3zwQbvHV61aNWLECHcV3bc01ukDVAPEUkVlmZam6UB1BHO8qcFAiMA/MMxiMbc01TGLci0Wc1ODIXzwCG4bX0KIVOYtkf6mZ7dBd728uHDstPuDB8Rxj4dExE+Ytezwf992YiR/Vy/mNjfW3L30f+zy0+hhkwfFjruuOeXEnMXa0/U1ugXLXmbSZ5ZvQPCEGQ/u3vyP8pLCIQmJhBAhRQmFVI3+BnddPyFEJJZGDZ1UeuWndjt+uEph/gGrxTxp1kN2Ka1vQPDMxU9t+/dfrl7M5QbQIyYuYNNnhlgi8w0IrqkssVranCjAx08pEssIIWKJ3NdfVVNZIpb85iYzjP97iWv89Ad4p8+2U0e2HPrv27OXrOE2SAEAAAAAAFfhLoKmaVooFNpsNub3zW02m1AoZDpyMGOQPgNAX8V22GDWO7NJNCGE+bMnLH8m/TmAJoTccccd3t7e27ZtO3z4ME3TgYGBjz766JQpU5iXZNy4cZmZmexgu/9icf8zRv+C+X6V+R0f4K+hVicUigRC6peblV4+gXIvP5vV2mZuVQYPJoRIpPKUx/4ppCiRSELTtMnYaKi4fl2bdz5vT0vTb5YqV9y4ZLVaYkdOc/yrFRl7h1Tm5cRInmxWa0XJpQDVgAGDR9rdJZV7x46c7lwAXXHjkl9giDKknYX5g2LHevupirWnmQA6eEBcyMChh7a/ZdAVT5i5VBkSyaafY6YuGTHhbomMV4TqBLPJWFV+JTxyeLvtm0MHJQSoBlSUFFosZnb3Qrv9WIlDUuwm/N9LTmDT5zkpfx4/48Ge82UjAAAAAEAfY9eIgwmdmeSF+ec5+e2/3AEA+h5ui2c2ZrHrvEE8nT6Tbg6gDQaDwWCIj+/a9mJuFR8f//LLL3u6iv6usU4v9/L18v5570ddqcYvKFQslRub60zGJm+/nxsTS6Ty6sqSI9++W1Rw1Gq1dDRbXXW5VOZtt1iY4RcYyl30yn8kTxaL2dhcF6geKGkvvFaGRHV1QkKI2WSsrSqtrix5M21WR2Oa6g02q1VIUQpv/0UPr/0246/5x7flH98mlsiihk4enbg4auhEsUROyX2cKICnNlNLbVVZWORwiVTheK9EqvAPCjMZm20WC/klgPYgnu+lrrJa23IPfJZ36HOxWGY2tbhqWgAAAAAAaBebQRNOCsMcoTibyiCABoC+yi5ZbnfXQY+nz6QbAmiDwZCTk6PVajUaDXNEqVQqlcqgoKDk5GSlsssZH/Q9Pv5qs8loam3y8g2yWMyVZUWRcRMEAkFDrV4kkbE9i4sKjm3/KI3ZG9DHXz04fmLsyOkKb/9vNv2FO5u5tYkbZ3MJBAJuPwT+I3s4Y3OdxWKWUHJCiDp8yKoXv7py4cTJg/8pu3ZOey5bey5bJveZOPuhKXMfEUs6bDHhEhKprJPNA+trKpguzG6tgQ+e76Wuyt3/qdlsXPU/X16/dHLf1+sjokcPir3DRSUDAAAAAEA7HDNo4pC2IIAGgL7KMVx2jKS7sZwOuTeAzsrKysrKsjvIrIMmhGi12sTExOTkZLfWAD2W3MvfUHHNZm1ThkSZjI3G5gZCSHNDdWVZ0ZjEJYSQipKLIRHxTDNlg65475evS2Veyb9/LXbUdLaNg65UazetROZtbG5obqr18g2yu4tplOLESI8LG5Tw0JqNPPfloyhR3KikuFFJVqultqqs4Icd+d9/c2znh7pSzb0r1nXS5vj2mU2tzFrsdu/1Cwx1dwLOB//3UldZLObfPfmOb0Dw0HFzNeey932d/uBT7/kGBN92yQAAAAAA0CEmXnGModmDPSR/AQBwk3Y/5XrUR5+71ngaDIb09HTH9NluTFZWVlpaGpNHQ3/j7ac0NtebjM1hkQnefsqCkztNrc3nfthJCDHorjXU6i6dPTR6ymJmcLH2VHNj7ZJV64eNmyPqtIeDf1CYqbXJ2FzveFd9TUVTvcGJkTyJJTIff3WN/oa5vb3+DLprXZ2QECKRyv0CQ5oaqluaah3vbW6oPrj9raryq8zNG5d/zN3/qdlkZG5SlEgZEjnz3j89u/7ghJlLrxbmVty46EQNfIiligDVgPrq8nZbT5hNLXXV5VK5l1Dk+b7z/N9LXTVj0WombpZI5UmLVrc01vxw8DMXtvgAAAAAAICO2DU85R4EAOjb+Hweepa7AujMzExuz43k5OS0tLTMzMz09PT09PQVK1awzTeYqNpNZUBPFh45vLG+qq6m3C8wdP7SF4vOH9+4dklk3Pi7UtOO7970yT9/P3nOw8qQSGaw/maRb0BwUPCgW04bOnAoRYmKCo47/ppVcdEZEyca5j+SJ4FAoAqLrq0qK7teYHeXydhUVHCMzyQ0TdtF1eGDRzbU6kqKfnQceTbn2x8OfFpeUsgcKTp//FT2l031eruRIrF0TOJisUSmK9V04fl0hUQqV4UNuVl8od1TlF07V60rDh2U4NrA1zn830u3Qx02JHHeih+/3375/PduPREAAAAAALA6imMAAPq8nvwB6JbViCdOnGDT5/j4+LS0NPYuJneeOnVqfHx8Tk4Os0SaWQqNXhz9TfCAGIV3wI3L+YNixg2On/jM6/vYu55/87jd4KDgyJ9yd1RXlvj4q9mDNG0rKTrd2tLIHakMGRwWmXAhb/eICXeHRPy646WuVHPq8GbnRvIXPWxKrs8neYc3R8bewe2YcfXiDyVF+dyRIolUJJZe0+RFDZvMfjrQNH3xzP4j373HHRkZNz4oeNCJfRmDh070Dwpjj1eWaU9nfxUWOTxmxDTmSHjk8JMH/6MrLQpU26er1ZU3TMYmihI797z4SBg3N//4NycPfxE6cKhU7s0eb6itPLZzo0zhEz1sivvOzh//99LtEAgEoyYvunLhxP6v31CGDGa/SgEAAAAAgG7QMyMYAID+yfUroA0GQ2ZmJvOzXfrMxSyLZkPnnJwcNrOGfsI/aED0sMlXC3NbWxpuOTg8coRAINj39Ru6Ui1N26xWS1X51f9m/O3gN2/abFZdqZZtdCCVe4+fsdTY0rD94xeKtaetVovVainWnt7+8QuN9VXcOfmP5C8oOHLU5EUlRWe+/vDZqvKrNE23mY15h7/I+vQluZcfd6QqNEoZGnXm6FenjmxuMxtpmm6o1R3Y9s9vM//HbkW2X2DohJnL6qvLN7/7REnRGebpa88d/fqDZ1qNjdMW/EHh7c+MjIgerR4Qu2fLawUnd7FXtbWlIe/wF7s+X+vlExgZN77dsluaautrKpx7yiz1gNiRE+cXnTv61QfP6G9eoWkbTdvKiwu3f5RWWaYdOWmhOmzIbZ7CJfi/l26TVO49c/HTbebWw9++zfZFAQAAAAAAAADoV1y/Aprb97mj9JmVmJiYk5PDbEu4Y8eO+Pj4zsdDXyKkqLF3Ltny3lPXLuUNGzfHcYCuVGuzWsIiEwghoZEJY+9MyTu8edNrqdwxAaqIlqa6c7lZF8/sX75m04DoUYSQmBF3Tpn7yIm9Gf95c9WvpxNSCePnlV+/wH04/5E8CQSCxHkr9BVXi84d/XDtEvb4kITEhPHzsj59mT2i8A5IWvjE9o/S9m/95/6t/2SPh0UOHzP13t1f/IM77dg7U2r0JXmHN3/2r5XsQZncZ8mq9ezyZ0KIt59y8e9f27bpue8+edGuMIoSzVj8dFBwO+twQwcmnDm27eN1ywghg2LGPfDk2zx3O3Q8xbR7Hq+tKrtSmLPx7yncu4aOmT39nsc72pywm3XpvXSbgiPi75z/2MFv3jz3w47xSQ/c/oQAAAAAAAAAAL2Lu3pAE0JWrFhxyzFKpZIdhq0I+6GwyBHj7rxv/9frHRsHV5VfPZebxTbqpSjR7JQ/3/3g//j4qQghQiHlFxQ6cdZDjz7/6egpi8QSGfexFCWavvDJpU9viIgeTVEioZBShUUvWPbyvNQ034BguZe/EyP5k8q973ss/Z7lrwSqBxJC5F5+SQufvP/xf3n7Ku1Gxo6c/oeXtg4ZPpWp318ZPn3hE8uf3RQRPTpmxDTfwBBunXPv/0vqE2+HRMQLhZRYIhs2bs7Kv22OG5Vk95tl6vAhq/62ZfrCJ/yV4cwRL5/A0YmLH3/lv+OTHmj319CGjZsz9s4Uirr111FCipLKfXwDQjpq5ezlE5j6xFv3LH9FFRYtFFJCIRUSEZ/yWPq9K1/nNuWgRGK5l5+XwwUhhFAiqX9QmEgsvWUxjoUpvAPYjNtuHkokDR4Qy9TQpfcSIUQq8/L2DZLKvDopQCrz8gsMUfgE2B1nGnFExk+orSq1Wa1delIAAAAAAAAAAH2A4P+yY7m3n0vS3uaMaWlpTJScnp7O7jTYCYPBwCyUViqVbtqN8PLly4SQmJiY25nErisCc5P9k2Gz2Ww2m9VqtVgsbW1tZrPZbDY3NzcbjcbbPHuvI5fLeY5sMxsPbX9Lc/bIXQ+8EDtqOkWJG+sq8w5vqau+OX/pi14+gW6tsztdLczd/O4Ty/70YXRCj2iFDAAAAAAAAAAAUFBQIJfLvby8JBKJRCIRi8UikYiiKIVC4dyE/zoax73p+hYc7EJmPukzd5jBYNBoNOjC0d+IJfJ5v/tr3KgZuQc/y/r0JaulTR0eM+2ex2enrBEI3LhCn6fmhurP/rXSoLt+y5HKkMGPPJfh5RvUDVX1B7jyAAAAAAAAAAB9gIsD6K6mz+xg9N/ozwQCYdSwyVHDJnu6EAAAAAAAAAAAAHAlFwfQzi1ndi62BugGXr5BT679ziVTKXwC/AJDOm8lDCwXXnkAAAAAAAAAAPAU17c4YENnrZZXO+kTJ06wPyOAhj4sdODQZ9btHxA9ytOFAAAAAAAAAAAAdBPXB9BxcT83mc7JyeEzPjc3l/khMTHR5cUAAAAAAAAAAAAAgKe4PoBmc2SDwZCRkdH54KysLI1GY/dAAAAAAAAAAAAAAOgDXB9AK5XKFStWMD/n5ORkZWV1NDIrK4u9NzExkWfDaAAAAAAAAAAAAADoFVy8CSEjPj4+Pj6eWdqclZWVk5OzaNEipVLJRMzM/oS5ubns2mdCyMqVK91RCQAAAAAAAAAAAAB4ilsCaGYRdHp6usFgIIQYDIbMzEzmOHPEbrDBYEhLSyOEpKenu6MeAAAAAAAAAAAAAOh+rm/BwVAqlWlpacnJydyDjulzcnJyeno6k0GzMTQAAAAAAAAAAAAA9AHuCqAJIUqlksmXHfs7M+040tPTmYRaqVQyx5FBAwAAAAAAAAAAAPQZbmnBwaVUKpn+zmw7DsfNBlesWJGZmcm0hGYyaPTiAAAAAAAAAAAAAOjt3LgC2o5SqWT3IXS8a8WKFexdWAcNAAAAAAAAAAAA0Ad0XwDdOWTQAAAAAAAAAAAAAH1MTwmgCTJoAAAAAAAAAAAAgL6lBwXQBBl0/1ajv5H16cvpa6a+9sTYTa89oPkpm6Ztni4KAAAAAAAAAAAAnNezAmjikEETQpjNCaEPo2m68Mz+jDce8vIJ/NPre178IP/eFa+fPPjZ6eyvaJr2dHUAAAAAAAAAAADgpB4XQBNOBu0YRkOfdPn88b1fvj57ybOzlqyRKXwFAoEqLHrJqvXnT+29cTnfhSdqbWnIeGN5dtb7LhzpjrMDAAAAAAAAAAD0DSJPF9A+JnpmfvB0LeBeBl3x3i9fHzlp4ajJiwQCAXvcNyB47NQlBSd3RUSPEVKUS85ltbSZjI3G5joXjnTH2TuRnfX+tUt5y/60QabwdVVhAAAAAAAAAAAAbtITV0AzlEol0uc+z2q15OzPlHv5TZ7zsGPKHB41orKsqLFO75HaeiZjc53J2Gi1tHm6EAAAAAAAAAAAgFvruQE09Af6siLN2SPjkx708Vc73uvrr6ZE4rqa8u4vDAAAAAAAAAAAAG4fAmjwGJqmf8r9zts3MGrYJEKI1Wo5eejzdU9P3LbxuUtnD324domxpUGm8Kkz3PR0pQAAAAAAAAAAAOCMHtoDGvqDhlrdtUsno4ZO8g0IoWk6/9jW8uLCZ9cfLLn847FdG339gxVe/j7+6lZjI/sQmqZvXi/Iztpw43I+TdNBIZETZz00cuICkVhqNzlN09cvnTy2a2N58QVCSOzIpNkpayRShWMZ/Efyx39OS5upIG933uEvqnXFhBB1eEzivBVxo5LsnpHFYt7x2SsXTu1hbv7r+ZmEkPDBI9EMGgAAAAAAAAAAejIE0OAxVRXXaqvKIhdPEAgEulLN+VN7Ux5bL1P4DooZJ5UqAlThUrm3UPjrIn2apn/K+W7f12+0mVt/nqH86q7P11aVX5md8meK+vXNbLVavt/97xN7M2w2K3Pk0tlDZdfOLXz4Vbsa+I/kj/+czY01WZ+8dKUwhz2iK9Vs/yht6JjZix5ZK5V7d34iiVQmEOCXGAAAAAAAAAAAoOdCAA0eU627LlP4BKgiLG2mnH2ZYYOG+gWGEkKElEgiU6jDY+3G37icv+/rN0Ii4hcse1kVFkWIoL6mYs/m1/KPfxM/ZtagmHHsyMvnv8898FmAOmLB0pcihowhhJReObt7y2vfffIiG153dSR/POe0Wi3Hd228UpgzKPaOu3/3N1VYFCGkouTS/q3pl84e8gsKnb3kWXZjRpFIsmTluiUr1+3Z8lqx9swjz2V4+QY5Vx4AAAAAAAAAAEC3wfJJ8JiqimsK7wAfP6VBV3xdkxcZN0EgEBBC2kwtjXV6VVg0d7DNai04ucvbT3XvynXq8CECgVAgEPgHhSXevZIQoivVsCNNxqbT2VvkCt+UVesj48ZTlIiiRJFx41NWracoMTcC5j+SP/5z6suKCvL2xI5K+t2T7/zyjIRhkQkpj6UHD4grOLlTX37FiQIAAAAAAAAAAAB6DgTQ4DGNdfoA1QCxVFFZpqVpOlAdwRxvajAQIvAPDLNYzC1NdcxBi8Xc1GAIHzzC20/JnUQq85ZI5dwjBt318uLC4RMXBA+I4x4PiYifMGuZcyP54z9nYf4Bq8U8adZDdq02fAOCZy5+ymwyXr2Y61wNAAAAAAAAAAAAPQRacIDnNdTqhEKRQEj9crPSyydQ7uVns1rbzK3K4MGEEIlUnvLYP4UUJRJJaJo2GRsNFdeva/PO5+1hQ1suRzEAACAASURBVGpGxY1LVqslduQ0Zj01V2TsHVKZlxMj+eM5p9lkrCq/Eh45PCQi3nGS0EEJAaoBFSWFFotZJJI4UQYAAAAAAAAAAEBPgAAaPK+xTi/38vXyDmBu6ko1fkGhYqnc2FxnMjZ5+/3c7FgilVdXlhz59t2igqNWq6Wj2eqqy6Uyb7mXn+NdfoGh3AXU/Efyx3PONlNLbVVZWORwiVThOFIiVfgHhZmMzTaLhSCABgAAAAAAAACAXgsBNHiej7/abDKaWpu8fIMsFnNlWRHTD7qhVi+SyJidCQkhRQXHtn+UxrRR9vFXD46fGDtyusLb/5tNf+HOZm5t4sbZXAKBQCAQOjGSvy7NKZHK2G0GHdXXVLSZjRJZOwk1AAAAAAAAAABAr4AAGjxG7uVvqLhms7YpQ6JMxkZjcwMhpLmhurKsaEziEkJIRcnFkIh4mcKXEGLQFe/98nWpzCv596/FjprONqbQlWrtppXIvI3NDc1NtV6+QXZ30TRN0zYnRvLXpTnNplab1dpRBu0XGCqWyNu9CwAAAAAAAAAAoFfAJoTgMd5+SmNzvcnYHBaZ4O2nLDi509TafO6HnYQQg+5aQ63u0tlDo6csZgYXa081N9YuWbV+2Lg5nbdF9g8KM7U2GZvrHe+qr6loqjc4MZI/nnOKpYoA1YD66nKzqcVxpNnUUlddLpV7CUX4iggAAAAAAAAAAHoxBNDgMeGRwxvrq+pqyv0CQ+cvfbHo/PGNa5dExo2/KzXt+O5Nn/zz95PnPKwMiWQG628W+QYEBwUPuuW0oQOHUpSoqOA4TdN2dxUXnTG1Njsxkj+ec0qkclXYkJvFF3SlGsdJyq6dq9YVhw5KwA6EAAAAAAAAAADQqyGABo8JHhCj8A64cTmfEDI4fuIzr+97Zt3+gUPGDBk+9fk3jz/z+r7B8RPZwUHBkQ21ldWVJdwZaNpWUnS6taWRe1AZMjgsMuFC3u7Kst9059CVak4d3uzcSP74z5kwbi4lkpw8/IXJ2MQ93lBbeWznRpnCJ3rYFOdqAAAAAAAAAAAA6CEQQIPH+AcNiB42+WphbmtLwy0Hh0eOEAgE+75+Q1eqpWmb1WqpKr/634y/HfzmTZvNqivVWq0WZqRU7j1+xlJjS8P2j18o1p62Wi1Wq6VYe3r7xy801ldx5+Q/kj/+c6oHxI6cOL/o3NGvPnhGf/MKTdto2lZeXLj9o7TKMu3ISQvVYUPaPUVLU219TYVz5QEAAAAAAAAAAHQndJgFjxFS1Ng7l2x576lrl/KGjZvjOEBXqrVZLWGRCYSQ0MiEsXem5B3evOm1VO6YAFVES1Pdudysi2f2L1+zaUD0KEJIzIg7p8x95MTejP+8uerX0wmphPHzyq9f4D6c/0j+eM5JUaJp9zxeW1V2pTBn499TuDMMHTN7+j2Pt7s5YejAhDPHtn28bhkhZFDMuAeefJvZpBEAAAAAAAAAAKAHoub+Poh7e0rk054qxX1qamoIIUFBQbcceZvoX9hsNpvNZrVarVZrW1ubxWLphrP3KGKxmM8wH3+1ydiUsy9zcPwEbz8l966q8qs/5Xw7bNwckVhCCBEKhYPjJ3r7KitLNWZTi1BI+QaGjJ6yeNHDa9vMLfqblwkhoyYt9A0MYQYPih0fETWq1lDW3GAQCATK0KiZyU9PnLn06sVcZcjgwfETmLPwH8kf/zklUvnQsbP9gsJqDWWtzQ0CgTB4QNxdD6RNvXulRKpod/JAVYSxuV5/8zJN2/yDwoaPnycSS7taIQAAAAAAAAAAAKOyslIsFkskEuoXQqFQKBTyzPcc/VD8Pvem4P+yY7m3n0vSkj7n8uXLhJCYmJjbmcRuTznmJvunXe5ssVja2trMZrPZbG5ubjYajbd59l5HLpfzHNlmNh7a/pbm7JG7HnghdtR0ihI31lXmHd5SV31z/tIXvXwC3VonAAAAAAAAAABAf1ZQUCCXy728vCQSiUQiEYvFIpGIoiiFov31kbf0r6Nx3JtowQEeJpbI5/3ur3GjZuQe/Czr05esljZ1eMy0ex6fnbJGIPB8j/LmhurP/rXSoLt+y5HKkMGPPJfh5du/lroDAAAAAAAAAAB0AgE0eJ5AIIwaNjlq2GRPFwIAAAAAAAAAAACuhAAaoDNevkFPrv3O01UAAAAAAAAAAAD0Sp5vcQAAAAAAAAAAAAAAfRICaAAAAAAAAAAAAABwCwTQAAAAAAAAAAAAAOAWCKABAAAAAAAAAAAAwC0QQAMAAAAAAAAAAACAW4g8XQAA9FyVLZSnS+gFghVWT5cAAAAAAAAAANBDYQU0AAAAAAAAAAAAALgFAmgAAAAAAAAAAAAAcAsE0AAAAAAAAAAAAADgFgigAQAAAAAAAAAAAMAtEEADAAAAAAAAAAAAgFsggAYAQghpaiF/eVO47aDA04X0btsOCh5bK6xtwGUEAAAAAAAAACAEATQAEEJommw/LMj8TtBm8XQpvZyPgmw/LPgkS0DTni4FAAAAAAAAAKAHQAANAOR6OdnwtTA5iV40HbnpbZkxnl5+D71xGym4jEXQAAAAAAAAAAAIoKGnamggy5eLP/yQup1JaJrs3ElNmyaRy2UzZ0pKSpAJtsNiJZt3Cyqq6CcfoL0Vnq6ml5NKyIrFNCFky16BxerpagAAAAAAAAAAPA0BNPRQFougvv7/s3encVFW7QPHzz0rw44gKIsoLuCKCooKalqmZUpZ2WLbX7PNNrWwxczMFm21Mp/yccnHzKw0LDP3FfcVNxBBRQSRfRmWYWbu/4sxQvZlEJff94WfmXNfc+7rzAy8uDheR8rOblDJ+NQpado01f79t+L3fEvkNws+fryoILfGyMRLYuVmxaN3ix4BbH+2gs5t5cfvkVdtEjFnmzoVAAAAAACApnYrFuZw68jJkWJipPnzS/T6os2bDb6+t1CBtVCfXVyYZzKW1Bi5aY+Umi5GDZZVDdpujitUSnHfYFkIsTZKQSdoAAAAAABwi6MAjZtf27aygm96FXLypT93SIN6yZ3bUiu1Gj9v0b+n2HZAZOdVt4U/KSlp9OjRgwcPjo+Pv2a5AQAAAAAAXEuU5YBb2vlkcSxOhHan+7M12dqIgcHyoVNSfFJ1YQcOHPjjjz927969f//+a5UaAAAAAADANaVq6gQAIcti3z7Ft98qN2xQCCHGjDG/8orRtrJ6qNksduxQzJ2r3LpVqVLJI0aYJ0wwdu0qSxW2ma5dq3jySU1enhBCDB6sEUL07WtetKikIV04ZNkce3Tb9j//c/linBDCtUXrQeEv+bQN/HHO891ChvcZ8kRpZFL80eXfvjz6+S+LCnK3r/k+9UJMtz4jho95R6Es3+Si7JySJLVqHzQofIJXm25ShSXVMtJoNKz+4d3j+/6yPP3s9cFCCK823ca8PNfG1rHiohIuiqJiqXfXyt8Wk8n8zbdRxUWm9u3dvp67s7jYOOG50FH3d1n52/H/Ltqbmpo/ckSn1yfd1sz130/LbJb37ktctHh/1K5zarVyyB3txz7VOyCgebk8ZVmOiUlb8cvRbTviExIynZ11of18HxsTFNK7lUJRz8jS4IWL923YGFdSYgoO8nn4oe63D2qr0Zb/XVc2TyFEcJDPs8+EdOroEfHGmqF3+t8/qmtdV1RO9w7CRivHJYrgTlXGBAcHjxgxIj09vVevXtVMBQAAAAAAcOOiAI0mZjSK+fOV776rthSLhRDffKPcu1f66CNjxcg5c1RTp5Z+aaUlS5SrVinnzCl56CFTuSYbkiRUKlmIBp1hWJbJZNz42+d7N/1YOpKWHP/rd5P73fmUsaQ4My2xbHBxkb4gP/vIrt9P7P+7xFBU+znPxuw9f/rAkAcm9R78qCQp6hFZKY3WpqqYY3HC0124OVdegC4xmlIv569bd7qoqESvNwghPvh409bt8es3nLYE/LT8SFs/13Fje1uqsUajef5/9876ZEvpDL/8Gv3X2piZM4aFj+xcWi+WZXn1HyffmrrWMqcQIju7cM1fMWv+ipnwfOiECX1tdZq6RlqC160//f4HGy5evHL04rbt8du2x095fdD4p0NUqn/fgYp5btsef+DghcmTBhYVGy8m51QTWemKKmrZXHh7iFMJVV0XQghvb+8VK1ZUFwEAAAAAAHCDowCNJrZzp2L2bFVIiHn6dGNgoFkIcfSoYvp01aRJ6uxs0bfvv5GrVilnzVKNHm165x2jn59sNl+JfOstVcuW8m23mctOO2yYOTm5ePduxeDBms2bDX37mkXDHNrx2/4tyz282g97+I1W7XuaTMbYI1vW/vTh7o1LZLO5tX9wxZccifrdt0PwsIemuLX0Uyor+VmzzOnTtvvwMe809/Qzm80Xzhxes2zmplVfObl6BXQfVI9IlUozatxHo8Z99NeymediDzw5eYGdo2tVizKaRK5ecnGUnewlIarcG56RoX/15f7PPBOSmJgzcXLk+g2nxz8d8urLYUkXc6e8ueZMfEZRsVFnoxZCrF0b8823USNHdJr46kDfVs5ms3ziZOqnn2/76OPNHh72/fq2tkyYlJS76If9PXt6v/RCv26BLW20arNZTkrKWbrs0OIl+13dbP/vyWBLRbv2kUKIY8cvvf/BhqCe3kuXDPRt5SxJIvWyfs5X2xct3h8W1qZrlxalK7Lkefvg9q+8HNalcwuT0bxr97mPP9ky99tdRUUlwUHe5SJrXFFFtjayn5d08bJUUCTb2lQVBQAAAAAAcJOjBzSakl4vli1T+vjIn3xSEhRkVqmESiWCgsyffFKi1cqJif9uL710SVq8WDlihOmrr4zt2skKxZXIBQtKevWS589XZmdbbbNzRTmZKfs2/+jWss0jL33j2yFYkhQqlaZz8NCRT85QKJRms6nSV3UIvO3hF+Z4eHeotPpsmdOnbfeHJ3zl7tVOkhRKpaq1f6/HX/3e1aP1zrX/LcjPrmtkXRlKRGaOaNVCaDXVdSYZemeH/3uql61O06a1S3CQT+9ePmP/r7ednba1r0vXLi2TU3KLCo1CiMtp+T//cnTokA4zZwxr09pFoZBUKkVgt5ZffDoiMLDlj8sO5eRc2QyeejnvyJHkl17o17t3KxutWgihUEitWjm/NnHA6AcCN28+k5aur2ukyWTeuDGulY/LW2/eYbm7JEktPOwffaSnECI+PqN0OZY8Q3q3+vjDu7p1balQSGqNcuDAttPfudPGRlm61bpOK6pIkkSFhisAAAAAAAC3HArQaEoJCdLu3YoHHjD7+19VAA0IkMeOvaqqe+CAdPKk9PzzJienqyLd3eUxY0wbNihPnWrEAvS52P0ZqedDBj/m6NKi7Hi7zmFdet1V1at6DXxIq7OvZs6czEsDRzyvs3MqO+7o4tF70COXEk8lnz9R18hG4upmp7VRCiG0WlXz5nY2OrWNVlX6tDTsaHTK6dNpTz4R7Oh41Y5fNze7+0d127otIe5MumVEqZDs7DQXk3Nl+apPU6NVBfX0zskpLCgoqWtkidGUnqkPDPR0ddGVjbSz1bi6XdVQ/Gh0ys6os6MfDGze/KpPJzjY+/77upWLrOWKqpKQJAqLG/GbCQAAAAAAcJ2jAI2mFBuryM8X/fubKx7nFhRkbtfu35rjqVOKTp3k1q0r2ajbo4e5c2fzgQON9WWWZflC/BEXN2+/jn3KXVIolR2DhigU9dnpmpJ4yqlZC7cWbSpe8u3Q096p+bnY/XWNbFpxcWkdOjT38XaueKlrl5YB/u5HjyZbnvr5ud420O+99zd89c3OxMRss/nfj3XYMP/ly8b4tnKua6SNVj1t6h2TXx2g1ihlWc7LKzp5MnXZssPT319/6tTl0lfJsnzi+KU+Ib49eniVS1KpVAwY4Gdn929T6dqvCAAAAAAAAJWiBzSaUkqK1LKl7OhYSVm5ZUvRqtWV8cJCkZgobd6s8PHRVjVV//5mk6lRmh6UGIrysi83c29VbgOyhb2jm42tQ13nNBQXZqVdyEg9/3nE7VXF5Oekm00mo9FQy0hFk3Z8KCouSbqYszPqbM/eX1YVE9K7lclkVioVTk42r00eVFS08Ysvd3zx5Q4vL8cht3cYNsy/e3dPG61apfr3U659pBDCRqtOSspZuGjfyt+PZ2cXVppDscF4OT2/dWsXR8dKvkvNXGxb/VPRrv2Kqnlb/LyFTltdexMAAAAAAICbGwVoNKX8fOHmJlxcKrmkUNStmpyVJRkMQqerObJ+FEqlqLhPWwgHJzdb+8oW0GCF+myj0VBz3D+RGmWdF69SCludSEwRJcbqDiG0luzcwhKjSalUCCHatHb5bt79Bw5eWLHi6Oat8YuXHFi85ICfX7OxT/V+4IGulnbPFrWP3Ls3cdLrqy9ezBVC9Oju1bePb98+rRyddG+8taZcJgqlVNmHKVxcdOX6ctRmRZX+VxJZFo30FxEAAAAAAIAbCAVoNCV7e5GeLrKyRLNm5S+ZzcJ09dl+991nmjevxKmSXcjXgtlkEnIlJVp9flahPrd+c3r6dn7s1f/Y2DpWE2MoLqxlZD1o1MLFQT54UtIXyk51qLtW6e67AmZ9dLeDg03NoUKoVIo+Ib59QnyNRvOlS3nrN55eseLI1Gl/x8Wlv/nmoLKV5dpEJiXlfPLZVjdXu48/uLtPiK9ac6X0m5CQWfHWZpNc2YcpcnKLsjIL6r6iSk6hLDJI51NEv+6yrspd+wAAAAAAADc/ekCjKbVsKaekSLm5lWxGTUkRiYlXxnU64ekpp6RIOTmVRGZmSl99pTp7trGOelNrbByc3TMvJxbqcypezc1KLdRn13VOjVbn1KxFfm5GQX5Wxav63IwNv32Rlhxfp8j6addKXEoX6VkNffdstOoWHg6pqfm5uZXs2s7KKvzvgr2JiVfeqGPHL6345WhR8ZXzA1Uqhbe309ineq1e9X8Rr9+29u+YuLiMukYeOZKcmJg9Y/rQ/v39SqvPFWk1Knc3+3PnsnJziyteTU/XJ5zNrMeKKrqcIaekS17NK903f0VSUtLo0aMHDx4cH1//TxAAAAAAAOB6RgEaTcnf32xvL3bsUFTcjnrwoOLMmX9Ld127mvfsURw+XP4bK8vi998VU6aoTpxorAK0JEk+bbvnZKZcPHe83CWzyXTm+E6zuZINsDXyatMtN+vS+dOHyo3Lsnw4atXu9YuTz5+oa2Q9dPITRcVSwsV6T/Cvjh09Dh5KOnY8pdy4LMt/r4ud+eGm2Lg0y8i+fYk/rziakV6+TbNGqxo6xL9ZM118fEZdIxPOZbRv7+blVcMOeUmSOndpcex4yunYy+UumUzmffsT9fp/y821X1FFseely5miW4fqkjlw4MAff/yxe/fu/fuvi2MkAQAAAAAArI4CNJqSn5/ct6/5118VsbFXlY9jYqSFC6/axBocLA8ebJ43T5mcfFVkbKy0eLFy1ChTWFgjtjD2atPNwbn5jr/m52allh1PSTxxdPcf9ZuztX8vVw/fnX8vyM5ILjuemhS7f8tyz9Zd2ncdUNfIevBsLrf2ktfvlopr1W66OoHdWoaFtvlhyYFLqfllx+MTMn/+5cjwuwN6B/tYRjp0aB4TezkhIb3iJMnJOReSclRKRV0jvbyc4uLSL168ape62SwfjU4ut0+5o797xwD3JUsPpqfry47HxaWvXHmsfisqx2gSUUckP2/h7VHd1zI4OHjEiBF9+/bt1atXNWEAAAAAAAA3LgrQaEp2duLRR00XLkivv64+eFBhNAqjURw8qHj9dfX+/Vd9OVu0kJ96ynTokOLZZ9WHDinMZmE0iu3bFS+8oE5NlZ57zuTs3IgFaFcP36ABD6YmxS7/9pWLZ6Nl2WwyGU8e3PDTNy8ZS4oUivqcNOfUrGXvwWNyMpJ//Or586cPWOaMPbr1529fKSrMGzD8GVt757pGllOQn5WTWX73bjnuzcTAIHnrAelccvWBNXNvbv/Qg4HRx1Jen/Jn9LEUs1k2Gs179p5/4801aWn5TzwW7OR0pZNy544eYaGtP5y1eeOmM3l5RZbBvLyiVb8ff3fG+vbt3QIDPesa2dHfXa1RzPl6Z0JCpuXW589nfzx7y9Rpf+v1hri4dKPRbIn08nK8f1S3DRvj3n5nbUzMZUvwjh0JE19bnZVdZGenqceKykm8JDbulfoGyp7Nq3vHvL29V6xYsXnz5rZt29bvPQcAAAAAALjOcQghmlhYmDkiwvjuu+qwsH8Lfw4O4tVXjYcOXVWDvu8+U2KiNHWqauPGfyM7dJDnzy8JCzM3apKSJPW67eGM1PNHd69e8PHjpeM2Ooe7Hnlrz4Yl9Zu2Z//7My+f37vpxx8+G1d2zlFPzyq3qbn2kaVatup8YNsv//1ojBDCt33QQy98WekZhiqlGNpP/LBarN6meM3XXE3D4tq4666ApIs5sz7ZsmNHQumgn1+zzz4Z0bv3v5uFm7navjHl9mnT1z39zIpyMzg76ya+PMDb27GukR06NH/s0aBZn2zZvOVM2bC+fXzT0vLnzov6ffWx+f95sFMnD0mSwsM7JSXlzJ0XtW796bJ5zpwx7KefD9djRWXJsvh9s+J8spj9qqxRVxoCAAAAAABwq1De+ZRr2ef9Wr/UVKk0nszMTCGEq6trjZENJP/DbDabzWaTyWQymUpKSoxG4zW4+3VFra5t4U2hEMHB8sCB5oICkZwsqdXSbbeZ333X+Mgj5r17FX5+cq9ecmlknz7mAQPMOTkiJUXRooX8xBOmL74wBgbKVZVN8/NFdLRi5EizR7WdEGpDpda07zrAw6t95uULBflZKrU2oPugUU/PcvNofSTqd7eWfu26hJUGF+Rlxh3bHthnhGOzFtWuXdG2U98WPh0zUs+VndOnbXfp6iXVPrJUs+Y+hfqcyxfjZNns7OrZpdcwlVpbaaSbszh+RlobJQ3uJTdvdtWl/GLp0OGLtjpNvz6+SqVCCHH48EWzWR48uJ1arbQ8tbXV3DbAT6lSCCEUCimop3efPr55ecWXUvPc3e1GPxg4492hlrJv2ZldnHXDhnZo2cJRX2Cw9M3o3Nnj4dE9Ppx5V69ePmWDaxmpUEg9unu1b+eWcin30qU8OztNj+6ejz8WFDH5NrMszp3PFEKMvKdz8+b2Qgi1WhnSu1VwkLe+wFA2T29vpzVrTrVp06zXP701arMie/VV367T58WUOYqeHeUXRgtd5W85AAAAAADA9SI1NVWtVms0GuU/FAqFQqGofX2vnN3nvin7VPp0y1WHZE2+Lbb+yV6v4uLihBDt27dvyCTy1cfkWZ6W/luu7mw0GktKSgwGg8Fg0Ov1hYWFDbz7DUen0zV1CtZ0bO9ffy2bed+4jzp0G1h2XJblI1G/r/nx/RFPTA/sO7Kp0mu4nYelR96Q7ggRX79htrf9dzy1oD7dRa5zm7eceX/mho8/HB4S0qrsuCzL69afnvz6H19+ET7k9jr8wHrY/nsKZX6BmPSZ4tcN0rKPzMNCG7EtDAAAAAAAgFVER0frdDo7OzuNRqPRaNRqtUqlUiqVtra2Nb+4Mp9t9S/7lB7QQM0cXdzNZtNv8yN2rVusz82w/L0hN+vShl8/+2vZTHfvDm079WvqHBukTzf5uQflXzdKC1bd/L8T3NzsDCWmSa+vXvHL0aysQsunmZaW//38vW+89VdYaOug7l71nvyntdJPa6Xx98t39KH6DAAAAAAAQA9ooBZatQ8a+eSMNUvf37jyi40rvyh7ybVF63ufmmnv5NZUuVmFSileeVTOypVttDd/2bRrlxYfvn/XezM3RLyxRog1ZS/17+/3xpTbm7nW8+97QghnR/Ho3fJrT8iqm3DvOAAAAAAAQJ1RgAZqJklS5+Ch3n7d9m3+6dThjdnpFxUKpWuL1kH9HwjsF661sWvqBK3A3lZ8Oqlxz3K8TkiSNHBg2+WdPCIjT2zcHLd3b6KdnSY4yGfUfV2GDGlvq9PUPEXVHhwiPzjk5i/iAwAAAAAA1BIFaKC2nJq1HPLApCEPTGrqRGAF7s3txz8dMv7pkKZOBAAAAAAA4GZ28/d7BQAAAAAAAAA0CQrQAAAAAAAAAIBGcZ0WoNPT09PT05s6CwAAAAAAAABA/Vm/B3R6enpkZGRsbKylgrxw4cJ6TBIREWF5EBAQMHLkyICAAGumCAAAAAAAAABofFYuQKenp5erHddvnoiIiKioqNjY2JiYmJiYmNmzZ7u5uVkvTQC14mFrauoUAAAAAAAAcAOzcguOyMhIy4PQ0NCIiIh671wOCAgYN25caGio5Wn9tlEDAAAAAAAAAJqQlQvQUVFRlgelteOG8Pf3tzyIiYlp+GwAAAAAAAAAgGvJmgXosscGWqVjRtlJOJMQAAAAAAAAAG4s1j+EsEY7d+6MjY3NyMgYO3ZsaYnZcnRhRkZGv379wsLCrn1WAAAAAAAAAADrunYF6JiYmIULF5bdyBwREWE5XbDs0YUxMTEBAQEcOQgAAAAAAAAANzor94CuRnp6ur+/f2hoaNn20DExMWWrzxZUn4FrL79AvPa54pcNUlMngmvhlw3S+PcUWbl83AAAAAAAoHFdux3QYWFhpb01YmNjLVuhY2Njd+3aJYSw1KBjY2NLDx4EcM3Isvhtk7Twd6lnR7n6yAuRkcXp6e3Gjbs2idVG8vr1Cq22xcCBTZ3I9aI2n5GDrfhtk9TRT0x8TJaoQgMAAAAAgEbTBD2gy4qKihJChIeHBwQECCEs/wK4xs4mi7k/K8Jvk0cOrKEAbSoqKrx8ucYJ88+di3rqqbyEhIqXQr7+2ic8vOzI6e++uxwVFfLNN2pHxzqlLYQwFRdfXLtWodW69+2r0Gjq+vJSRr3+4JQpLl27dnj22apizAbD0RkzhBCB06ZVc6+so0e3P/ZYSU5O6YjayWnA0qUugYGWp+dXrjy3fHnf77/XODsLIfRJSbvH60fCFgAAIABJREFUj+/06queQ4fWO/+yavMZDeolP36P/J9fxO0hUmCHGj50AAAAAACAemusAnT1bTT8/f1Lm0G7ubmFX12NKjuJpUO09fMDrie5Wakr/jNJCDH6uc8dXTyu8d2NJvHjGiklTZ77pmxva5057Vu3Hrp1ay2DizMzDdnZsslUjxvJZrPZZDIXFJhNpoZ0FDIbDPrERFsvr+piTCZDbq7lQTX3cgkMDD92rJp55JISU1GRkK+UfU2FhYbsbEN2dvXpHZ0xQ6FSdX3rrYbU2UtpNWLsvfLandKytVLntrJK2fApAQAAAAAAKmHNHtBla8rVR5btszFy5Mg6TQ7cfNKS45PPHU8+dzwtOd5ac26J/GbBx48XFeTWGJl4SazcrHj0btEj4MbbCWsqKMhPSMhPSDAVFDRknqL09KK0tGb/bFK+3lhq30WZmeZ6lekr1bmt/Pg98qpNIuastaYEAAAAAAAoz5o7oC39NMTV9eVKhYWFLVy4sDZzhoaGRkZGCiFiY2MtG6IbmCRwHWru2dazdRfLA2vNWajPLi7MMxlLaozctEdKTRejBlthG2xBcvLuZ57Jio6uMVKp1faeM8fr7rsbeMfcuLicU6csD5q7utZ7npxTp5RarVPnzvWeoTZrb96nT9/vv6/3LaxLpRT3DZb/96e0NkrRua2ZTtAAAAAAAKAxWKcAvXPnztWrV1s2KQcEBIyr6YCystuZY2NjSw8nrCg8PDw9PT0qKioyMtJyRGFoaChlaNxkHF08nn7zxya5dU6+9OcOaVAvuXNbK2x/tvX0vP3PPxs+Ty0ZCwsTli1r//TTpqKihKVLXbp2VdnZ1WcevT7pzz/zEhKi338/cNo0u1at6jHJNV67Vfh5i/49xbYD4un7JBfHG2//OwAAAAAAuP5ZoQVHTExMRkZG6dOy/Z2rUnb7c9nXVqo0ICYmxrUBOxwBVHQ+WRyLE6Hdrdb9+dqR5aQ//ihOS2s/blzAhAnFGRlJa9aUNlauk7Q9e1K3bWv/zDOG7Oz1t9+esHSpbDRaPd/rkK2NGBgsHzolxSc1dSoAAAAAAOAmZYUd0AEBAQEBAeHh4bNnz46JibF0zKjqXEEhRGRkZExMTOnpgjExMenp6VVtal6wYEFMTIzlLhEREQ3PFqiHPRuWnDq86eEJX8Ud2xG1bmHGpXNCCHev9gPuec4/cKAklf9DTlL80eXfvjz6+S+LCnK3r/k+9UJMtz4jho95R6GsvMmF0WhY/cO7SqVq+GPvqFTlj5grKsj98asJfh1D+t89Pnrvmv2bl6VfOiuEaNU+6M7Rr3t4ta841fF9f1mefvb6YCGEV5tuY16ea2PrWPHWCRdFUbHUu2tt67aSWq12cKgxzGQwXN6589zy5dknTugvXBBCKLVap44dWwwa5Pvgg3be3uXiM48cWf1P/+VOEyd2mjix+vllozFh2bKEpUtDvvnGxt1dCNH9vff2vviiqajI79FHJVUdfrMVXb58+rvvvO+5p/PkyZJSGb948dH33ss7c6bz66/Xbz+1Pinp7I8/Xly3Lu/MGSGEQ7t2XkOHthkzpuKqG0ktPyOL7h2EjVaOSxTBnRo1KQAAAAAAcIuyZg/okSNHWorFsbGxVcVYKtRubm5jx46dPXu2ZdBSgI6JiVm9evXYsWPLFqNLp6rlWYVAY8hMSyzIz4r6e+Gejf8zm6+cAnfpQsyv300Ou2tc/+HPKpVX/SgVF+kL8rOP7Pr9xP6/SwxFNc5vNpmKC/MsDyr+UJqMJcWFeZcuxK6YN/HMiajS8bMxe5fNef6Rl75p4RNQ/fwarU3FKrnFsTjh6S7cnGtbgPYdNarGmLz4+H2vvqrUagNefLFZ9+4aJychSbLRqL948fyvv268886Or77afuzYsmXiZt27h/3wg8bFpTY5FKWmnpwzx5CV1f9//7Px8LAMOnbo0P9//zsyfXrq9u21b6MhG41nFi0qzswM+uQTlU4nhOgwfrydr++B114z5OT0mDmzrjXoyzt37n3pJb/HHx/400+WynhBSsrpefO2jhrV6/PP3f9pN1S24G51tfmMSrVsLrw9xKmERsoFAAAAAADc6qxZgC4tHFfc1GzZ8iyEsBSdx44dGxAQULoJ2nLA4OzZsyseM1hjNw/g2shIPb9r/WLXFq2HPzrVp10PIcSFM4fXLJu5a/0PLVp1Cug+qOJLjkT97tsheNhDU9xa+pWrUNdD3LHtSqWqzx2P97njMQdnD2NJ0bY/v9u1btH+LcvL7q1WqTSjxn00atxHfy2beS72wJOTF9g5Vtm4xmgSuXrJxVF2speEsE4LYEN29pF333Vs165c9VZSqex9fTtPntw8JGTvSy/Zenl5Dx9eh3ll2ZCTkxMTk7hyZdaxY10iIjwGDpQUV1XVbTw8QubOTd22bff48bY+Pm0eeaRZjx5aFxdRxfl6stF46ptvzi5fHvL11/a+vv8kKnkNHaq2s9v9/PO2Pj6dXn659vupizMzT3z6aat77y37KltPz67vvGMsKoqdN8+lWze1o6O4uuCeGxe384knajO/Qqkst+SGs7WR/byki5elgiLZ1sa6cwMAAAAAAFi1AF2p9PT0cq0zLNVnIURpAToyMjIqKspyqdxrGzs9oPYcnJrf//Ss0u3Grf173f/0rJ++fnH/lmVt/Htpdfbl4jsE3nbf/31Qcbx+1BqbkU+81yl4qCRJQgi1RtfvzicTTu1JTTptKNZX2l6jRoYSkZkjWrUQWo3VDqArSkvLi4/3GTGiqr3Dzp072/n4ZEVH174AfXnnzt3PPGPXpo3nHXe0GzfOsX37quqwkkLRYtAgj/79c0+fPvfrr9EffFB06VL/H39s1qNHuUiTwRA7d278kiXd33vPPTS03FX30NDAd9458s47dt7erR98sKoSdjnFGRmFqalOAQHlatZKjcYtOPjkl18WpqZaCtD1Y+PurtRq6/3ySkmSqKIxDAAAAAAAgBU0egHa0pSjVGhoaNg//wm9X79+pVfT09PDw8MthWng+tQlZLiHt3/ZEQ9v/y4hww9t/yX90lmvNl3Lxfca+JC1qs9CiK4hw0urzxZqjY2ji0dm6nmTscRad2k4m+bNHdq2Tduzx/ueeyqtQVu6Qnd49tnaz+keFhZ+8mTt4yWVyqlTp8Bp0wKnTas0oDgj4/DUqak7dwZ/+qnXnXdWUl+WJN9Ro/RJSTFff+0aHOzg5yeEUCiVGkdHy4NKp9W6uuo8PPLPnZONxrI1aNlozImJcfDz0/3TMKSuVDqdbcuW9XttbSQkicJiydbGan+HAAAAAAAAsLDy/+auKCwsrLSrRnh4+Lhx46q6VM25hUCTU6m1HboNkK6uVEqS1KHbAJPJmJJ4qrETUCgU5e6u1ugcnZs39n3rSuPs3P299/QXLux88slLW7eW5OZaxmWjMf/8+ROffbb7uecCJkzwGjq09CV2Pj52vr4KTfnTFxtPYUqKqbBwwNKlXkOHVrW7WVKpAl54oe9//2vfurVlRKHR9Jg5s8fMmVWlqm3WrPNrr53/7beTX31VlJoqZFnIckFy8tH33ktev77jK680ZPuzEMLSVBoAAAAAAOAG0ug7oIUQs2fPtjTTKNffufRSxXHgeqO1sdfZOVUc19k5aW3sszOSr31K1y2Htm37L1uWvm/fhcjIw2+/rb9wQQih1GpdAgO9hg0bsn69radn2Xi/xx7ze+yxa5mhc5cuoYsX1ximtLFx8vevMaws97Cw21auPPvjj9seeSTvzBkhhHPHjl7Dhw+OjNT+84tO4+ysdXWV6tj5QqFWq+2ttqG+HD9vodOy/RkAAAAAAFjftShAi8pKz7W5BFw/dHaOdvYuFcft7F10do6Govxrn1LDqZTCVicSU0SJ0WqHEFooNRqPsDCPf/rtNETGwYPbH37YVFxc/2S02tBFi9wrJFOSm7v72WcvR0XVfir30NAeM2c6tG1bTYydt3eXKVO6TJlSVYDn0KGeZTaA23p6+owcWbFLdflpfXwktbr2qdaSLAuTiTbQAAAAAACgsVyjAjRwoyvU5+rzs+wcXcuN6/OzCvW5GpvG2praqDRq4eIgHzwp6QtlJ6uuIC8+/vDUqbWs7bqHhgZOn17VXmPXoKD74uKqeq2xsPDglClCiKBZs1Q6XZ2SVDs6Dvjpp9rHG7Kz90+ceHr+/B4zZlixYYjKzq7rm2/WJrLcznGrKDJI51NEv+6yzsqnGwIAAAAAAAhh3QJ0o+5l5nxCNK3iovxCfU7F8UJ9TnFRvrOr9SuD10a7VmLpGpGeJXk2t9oOaLPBcHr+fKWNzcjoaI2zc/XBJoPh6PTpJz/7rNcXX1R6aOH1Q6HVqhwcjAUFZpOpxvb5ZoMh69ixy1FRmYcOFSQn58XHm0v+PSvSoV07jbOza8+ezfv2devVqza9odWOjnXt2lEblzPklHSFV3O5ilbYAAAAAAAADWLlHdBubm6Wds9RUVENP1Qw6p/tk7TpQJMzlhSfjt7eql3PsicByrJ8Onq7Uqlq2apjE+bWEJ38RFGxlHBR7tbBanOaTSZjQYFD27Yap0q6Zpej1GjUDg7Zx4+bDQZxfRegzcXFxrw8Gw8PRbWFYNloPL9q1YnPPnPv189r2DDf++9XOzioHRzKnnZYkp9vKijIiY1N2bz5YESEz8iRHV95pfpivdddd1ltJWXEnpcuZworfvoAAAAAAABlWbkAHRERYTlXMDIyMj09PTw8vH614507d8bGxpYWoCMiIqyaJlAfx/eu6dr7rhY+/27GT02KPb53jWfrzm4t2jRhYg3h2Vxu7SWv3y3dFSprrdZVQgghJKVSXPe7alM2bz701luFybU9Q9Ktd+9uU6dW338jYdmy2Hnz+s6bV01bZ7W9vdre3sbd3aN//4Dnnjs4ZUr0++93nzmzrl1EGshoElFHJD9v4e3BCYQAAAAAAKBRWH8H9NixY1evXh0TExMVFRUVFbVw4cJ6zFP6qtDQ0NDQUHZAo8mpNTYmU8lv/50y/NGpPu16CCEunDm8ZtnMosK8vnc+pdVdjz2gC/KzcjJTKvatLsu9mRgYJEduVZxLFv6tr1lq14WS3NwzCxa0HDw4cPp0pZV6OhsLC9MPHHDt1cux1l2DbDw8vO66K+abbwpTUhz8/CqNKbp8ef+kSUKIXp9/buPubpVUhRCJl8TGvVJYD9mzubWmBAAAAAAAuIr1DyEMCAiw9Gu29OKon9mzZ1N0xnXFqVnLO0e/vmbpjCWfP106qFAoB937UpuAkCZMrCotW3U+sO2X/340Rgjh2z7ooRe+tLGtpNGwSimG9hM/rBartyle8zVbccuybDIJWb6eN0HLJlNJXp7awcFa1WchhEqncwsOjp03L+fECdegoNosvyA5+fxvv7n17q1r2bKqmLyEhNTt2y0PrFWAlmXx+2bF+WQx+1VZo7bKlAAAAAAAAOVZvwBdqiEVZKrPuA619AkY+8bSLb9/c+LA32aT0cMnYMDwZ9p3HSBVKDJqbezsHV21NrXtaKxQKrU6B62NnUpVSSVUqVLr7JzsHCv5oVCqtM6uniq1tuKlTkFDLp47dnRXpMlkrP7uwZ3kQb3kRZHS8DDRqW0tU66OQqlU2drmxccbcnJqcwhhSV6ejbu7pL7WRVBJqVQ7OBj1etlolFRW+2Xo9+ijSp1uzwsvOHfu7DtqlHO3bloXl2p6QCetXm3pAV1N/w0HPz+PAQMsD6yV5+nz4r+rpAFBcnAna00JAAAAAABQnvTplqsOn5p8W2xTpdJ44uLihBDt27dvyCSyLFd8WvqvhdlsNpvNJpPJaDSWlJQYDAaDwaDX6wsLCxt49xuO7tq2sm1sfy2beS72wJOTF1TfzuLGtfOw9Mgb0h0h4us3zPa2Vpgw9/TpfRMnZh87Vptgp4CAHh984NarVz1uZDYYjs6YobK17RIRUY8ictquXfsmTap9D2ghhFKr7T1njtfdd9eYWPaJE2l796bv2VOQnJwXH28uKSm96tCuncbZ2bVnT4+BA1179lRd89MX8wvEpM8Uv26Qln1kHhZKA2gAAAAAAG5d0dHROp3Ozs5Oo9FoNBq1Wq1SqZRKpa1tPYtEn231L/u0EXdAA7hR9OkmP/eg+Hihoru/4pUx5oZP6Nihwx1r1jR8nhopNJoeM2fW++XN+/UbvmePFfMppdBomvXo0axHD//nnmuM+Rvop7XST2ulFx6S7+hD9RkAAAAAADQiCtAAhEopXnlUzsqVbbSUI28Jzo7i0bvl156QVcqmTgUAAAAAANzUKEADNWvWvFVqUpxSdTOf1GZvKz6dZIW9z7ghPDhEfnAIf2wAAAAAAACNjgI0ULM+Q57oM+SJps4CAAAAAAAAuMEomjoBAAAAAAAAAMDNiQI0AAAAAAAAAKBRUIAGAAAAAAAAADQKCtAAAAAAAAAAgEbBIYRoMoWFhU2dAqwmrUjd1CncAJrblDR1CgAAAAAA4Can0+maOoWrsAMaAAAAAAAAANAoKEADAAAAAAAAABoFBWgAAAAAAAAAQKOgBzSuC9dbbxrUlVZWNnUKNwCdjl+5AAAAAADA+q7ns9bYAQ0AAAAAAAAAaBQUoAEAAAAAAAAAjYICNAAAAAAAAACgUVCABgAAAAAAAAA0CgrQAAAAAAAAAIBGQQEaaHpnv8g7GJ5ekmNu6kQAAAAAAAAAa6IADTQ9Q4bZkGUWxqbOAwAAAAAAALAqCtAAAAAAAAAAgEZBARoAAAAAAAAA0CgoQAO1lXuoZJt/Ss7BkowtxQdGpK93uRgzJVs2yhUjZbNI31i0b1jaeseL610uHn4kI/dIiagQaDbIJ1/N/luXdPazvJz9hk3eyX/rkio2g847XrIzKDX3UEmlKe0MSs07XlJusMY8S3LMB8PTz36RZy6WU1YU7L0jbb3LlVTzYyu5UY1MJtOcT2bOfv+dVSuWDQ7pEtq93bLF84uKCpctnj84pEtnX9c3Jz6fmZ521fLN5t07tz7z+AOdfV27t2vx+kvjTx2PluXyb5Msy6eOR7/35qTBIV1au2q6t2sxYewju3duNZvLt8yufWRp8Osvje/erkVnX9cnR49Y+8cqQ3FxxciyeVoid+3Ykp2V+czjD/y2/H/1WBEAAAAAAMCtQ9XUCQA3DKPeXJhoSv5Zf/F/emN2lVVF2SjHf5R35sPcK89LROrvhWlrijp95ez1hJ1U0x99FDpJUl41UpJlzj9ZYtRXUkU16s35J0tKsszlBmvO0ygMWebc6JJj4zNTfiksHU79vTD/REmP5a72ndQ1JHq1khJD6qWUdX9GFhUV6vPzhBAfvPvG1k3r1v+12hLw05IFbdv7j3v+FUmShBBGo3H+3C9mzXi7dIZflv3w1+qVMz/5OvyBhxWKK2+TLMurf/v5rckTLHMKIbKzMtdE/rYm8rcJE9+YMGmKra1dXSMtwevWRL4/9bWLFxItI9s2rdu2ad2UaR+MnzBRpfr3F2PFPLdtWndg767Jb00vKiq6mJRYTWSlKwIAAAAAALilUBMB6ub81/nN+mvDjngMzfMKmOUsqaRyAck/FyZ8kud+l67/UY+heu+heV59tro7BKpjInIyNhWVjVRopE5fOg8r9G4z2cGpl+b2JM9hhd49lruq7K3wg1ljnkKIlOUFqX8UtXvHcVBCy2EF3kMyvTq856SPMyb9oK90Z3eNMtIvj3/h1ZMXsv7ecahV6zbr/1o9fsLEE+cz1u083D2o95nTMUVFV4rda1ev/Obzj0fe/9CW/ScT0orOpBZEbtzVs1efj6a/uSdqW+mESYnnF33/Tc9efVb8sSnmYs65DENCWtH2g7HPvDhp8fy5y/+3sHR/ce0jhRDHjh56f+prQb37Wu5+Nr14z/FzjzwxbtF335w6EV12RZY8bx86fPWm3QlpRXEp+T+s+KNV6zZzP591cN/uipE1rggAAAAAAOCWQgEaqBvPMbbdFjaz91dXWtItTjGd/zav+TCbbgub2XVQSwohqSTnEE3PX1wdu6vPfZVfbrdyU+VpoXKWApc0a/emo7alUkhCqZN8xtu53qbNP2E06etz06HDw//v2Rdtbe3atG0XHNKvd9+wsc+9bGfv0NqvbdfuPZMvJhUVFgohLqem/Lx00dC7R8785Os2fu0UCoVKpQrsEfzFvIWBPYN/XPR9TnaWZcLUS8lHDu57adIbvfv1t7HRCSEUCkWr1m1ee+u90Y8+uXndX2mXL9U10mQybVz7Zytfv7fem2W5uyRJLVp6PvrUeCFE/OnY0uVY8gzp1//jL+d16x6kUCjUGs3A24dO//BzG51N6VbrOq0IAAAAAADglkIBGqgb7yftqtmhnL3HUBBnajPJQeV8VdlX20LpM94+c1txuX7Njaf6PK/EPGXncY9OlMlUoZO0XsqSXHP9dkC7NnfX2tgIIbRam+buHjY6W5syT0vDjh4+eDrm5JPjX3B0ci77crfmHvc//PjWTevjYk9ZRpRKpZ29w8WkC+U6KWu02qDefXOyswoKCuoaWVJiSE+/HNgz2NXVrWyknZ29a/PmZUeOHj64c9um0WOeau7eoux4cJ/Q+x96vFxkLVcEAAAAAABwS6EHNGBNudEG2/ZK27aV/GQ591LbtlVl7zY066+99olVSlJK4urt0UobSdtCqT9tbNT7xsWc6BDQyadV64qXugb2DOjU5eih/cEh/YQQfu063Hb7ne+9NSnxfMJ9D47xbuVb2kx52Ij7Bg0ZZmtnb3la+0gbG920Dz5VKpRqjUaW5fy83Avnzx05uO/vNZGnjv/bf0OW5RNHD/cJHdgjOKRckkqlcsDgIQv+81U9VgQAAAAAAHBLoQANWI2pQC44a8o9VLK5VXJVMcWpJtkoV9MW46ZXVFSYdCFx57ZNPf29qooJ6TfAZDIplUonZ5fXpr5fNPX1Lz6e8cXHM7x8Wg0ZNmLYiHu7B/W2sdGp7B1KX1L7SCGEjY0uKfH8wv98tXLFj9lZmZXmUFxcdPnypdZ+bR2dnCpebebq1qp1m7quqPp3BgAAAAAA4OZDCw7gmjJkmM2Gpk7iupednVlScuVtauPX7rslvyxfvWHU6DH6/PzF8+c+PHLI3QN7LV34XemRhnWN3Bu1/aGRty/87uvsrMwewSEvvDrlf7+uidy4q2OXbuUyUSiVklTJXwtcmrmW68tR+xUBAAAAAADcOtgBDViZ2+023X90VTndunuca+PukaNmzfnOwbGSzcUVqVSqPqED+4QONBqNl5Ivrl+7esXSRVNffyku9tSb731kOXKw9pFJiec/+WCam5v7x1/M6xM6UK3RWF6bcOZ0xVubTaZyTaUtcnKyszLS674iNkEDAAAAAIBbCzugAatR2ko23sqii6aSrErqjCUZ5vhZefozjdte+fpnY6Nr0dIz9VJKbk5OxatZmRn//fbLxHNnLU+PHT204sfFpfuXVSqVdyvfsc++tHrj7oh33l/7x6rSw/1qH3nk4L7Ec2dnzJ7Tf9CQ0upzRVqtjbt7i3MJ8ZXmmX45NSE+rh4rAgAAAAAAuKVQgAasyTlIkx9Tkr2/pPwFWST/XBA3PSf/WIVL9SaLgvgbspzdsUvgwX27jx09VG5cluW///x95jsRsTEnLCP7du34eemijLS0cpEarXbo8HububrGn46ta2RC/On2/h29fFpVn6QkSZ0Dexw7euj0qePlLplMpn27d+jz8+qxIgAAAAAAgFsKBWjAmpz7aBx7qhM+yy1KumoTdP6pksT/5LvdYdPsNm1d51TaSCoHRdYugyjbCkIWqX8WxryZ3eCUm0Bgj6Cwgbf/MP/bSylXndYYHxf789JFw8Pv790n1DLSoWPnmJPHE87EVpwkOSnxQuJ5lUpV10gvH9+42FMXLySWjTGbzUcPHSi3T7ljp64dO3ddsuA/6WmpZcfjYk6u/PnH+q0IAAAAAADglkIBGrAmbUul7wsO+pPGw49kZO8zyGYhG+WMzUVHHs8sTjO1meSgdqn8h86Qaiq6WHmDYNt2Kqcg9dkvc5N+0JsKZSGL4hTTmZm5R8dkCtMN2Wna3aPlQ4/9X/SRg6+/ND76yEGz2Ww0GvdEbXvj1efSLl96YtzzTs4ulsjOXQLDBg7+cPqbG/9ek5d7pcFFXm7OqhXL3n1jYnv/joE9e9U1smOnrmqNes4nHyScOW259fmzCR+/99bU11/S5+fFxZ4yGq/sK/fyaXX/w49vWPvH25NfjDlxzBK8Y8uGiS/8X1Zmpp29Qz1WBAAAAAAAcEvhEELAyjwf0hUmGM98mLtn4OXSQa2HovtSV9cqtj87BmrOfpYXFZIqhPAYoesy30Xt9G+dWu2i8ItwPPxo+vHns44/n1U67naHjecY2+j/y2y0pTSiu0aOSrpwftaMt3ds2VA66Neuw2dzF/Tu1790pJlb8zemfzQt4pWnx9xXbgZnl2YTp0zzbuVb18gOHTs/9n/Pzprx9ub1f5UN6xt2W9rlS3O/+Pj3X5fN/99vnboGSpIU/sDDSYnn537x8bo1kWXznPnp1z8tWVCPFQEAAAAAANxS2AEN1JbKTmHbVqWyr+GnRlJJbd92DP7DrdlArUItqZwln7F2IVvc3W63EVXsV25+l7b1q/YKmyq3M7sO0vbb5dFytK3KWRJCOHRVd5zt3GN5M6cgTcuHbW08lXXOUyW0bkobD2XFK0qdZNtaKdWxU4hSoXR0dHJxcVUqrsyp0Wi9vH20NjalT/07drazs79yf5Xq2Zcm/xS5/s67R9rZO3j5tBr3/CtLflnTJ3SgJF31PrTxa/fdkhUzP/k6JHSAZaRzt+4vTX7rz817R4waXTa4lpEqlWr8hIlfz1/aPai3EMLO3qF337A33v1w7oIf73/48XK9oW1t7Sa+MW3JL3+Wy7Nnrz6G4uLSth51WhEAAABrmJk6AAAgAElEQVQAAMCtQ/p0S4eyzyffVkkH1RtdXFycEKJ9+/YNmUSW5YpPS/+1MJvNZrPZZDIZjcaSkhKDwWAwGPR6fWFhYQPvfsPR6XQ1xhQWFtYpHtez1IJKatk3us3r/3r/7dc+/vI/pRVtC1mW162JnDxh3Jff/TBk2D21n9DDtvIuKwAAAAAAAA3RkDpbdHS0Tqezs7PTaDQajUatVqtUKqVSaWtrW79kPtvqX/YpO6ABoHJu7h6GEsOkCWNX/Lg4KzPD8nemtMuXvv/m8zdefS5s4OCg4JCmzhEAAAAAAOC6Rg9oAKhc18CeH3429723Jke8/Ey5S/0HDXlj+kfN3Jo3SWIAAAAAAAA3CgrQAFA5SZIG3j50+epukb8u37huzd6o7Xb2DsEh/UaNHjPk7hG2tnZNnSAAAAAAAMD1jgI0AFTH3aPl+AkTx0+Y2NSJAAAAAAAA3HgoQOO6ULZROm5ExcXqpk7hBlAolTR1CgAAAAAAANcUhxACAAAAAAAAABoFBWgAAAAAAAAAQKOgAA0AAAAAAAAAaBT0gEaT0el0TZ0CrKYVH2at8CsXAAAAAADcWtgBDQAAAAAAAABoFBSgAQAAAAAAAACNggI0AAAAAAAAAKBRUIAGAAAAAAAAADQKCtAAAAAAAAAAgEZBARoAAAAAAAAA0CgoQAMAAAAAAAAAGgUFaAAAAAAAAABAo6AADQAAAAAAAABoFBSgAQAAAAAAAACNggI0AAAAAAAAAKBRUIAGAAAAAAAAADQKCtAAAAAAAAAAgEZBARoAAAAAAAAA0CgoQAMAAAAAAAAAGoXK6jNGRkamp6dXExAeHu7m5mb1+wIAAAAAAAAArivWLECnp6dHRETUGBYbGxsREUENGgAAAAAAAABubtZswREVFVWbsPT09NmzZ1e/SxoAAAAAAAAAcKOz5g7o2NjYWkZaatChoaG1Cfb393dzc2PHNAAAAAAAAADcWKzcgqNOwZGRkbUMDggIGDt2LDVoAAAAAAAAALiBWLMFR+OJiYmpZX8PAAAAAAAAAMB1wpo7oEsFBAS4urpaZaqMjIyYmBhRl/4eAAAAAAAAAIDrQaMUoPv16xcWFmaVqXbu3GkpQHNoIQAAAAAAAADcWG6MFhwAAAAAAAAAgBsOBWgAAAAAAAAAQKOgAA0AAAAAAAAAaBQUoAEAAAAAAAAAjYICNAAAAAAAAACgUVCABgAAAAAAAAA0CgrQAAAAAAAAAIBGQQEaAAAAAAAAANAoKEADAAAAAAAAABoFBWgAAAAAAAAAQKOgAA0AAAAAAAAAaBQUoAEAAAAAAAAAjYICNAAAAAAAAACgUVCABgAAAAAAAAA0ClVjTBobG5uRkWGtqawyDwAAAAAAAADgGrNmAdrf3z89PV0IERUVZcVpLUJDQ60+JwAAAAAAAACg8VizBUd4eLibm5sVJyzl5uZGARoAAAAAAAAAbizW3AHt5uYWERERFRVl2QdtxWnDw8OtOCEAAAAAAAAA4Bqwcg9oisUAAAAAAAAAAAtrtuAAAAAAAAAAAKAUBWgAN6f8AvHa54pfNkhNnciN7ZcN0vj3FFm5vI0AAAAAAKA+KEADuAnJsvhtk7Twd6nEWGXMhcjIMwsWWB7HLViQ9Mcf1yi560Dt1+5gK37bJC2KlGT5WiUHAAAAAABuIhSgAdyEziaLuT8rwm+TRw6ssm5qKioqvHzZ8rjo8mVjQcG1yq7p1X7tg3rJj98j/+cXER3HJmgAAAAAAFBnFKCBujEYDG+//fa7775rMBiaOhdUzmgSP66RUtLkFx6S7W3rO4lev/fFF09+8UVVASc+/XTviy8a9fp63kAIs8FweOrUo9Onm2v6LtU+0uq0GjH2XlkIsWytZDRd45sDAAAAAIAbHgVooG5MJlNubm5mZqbJVEM1bt68eY8//nhubu61SeymV/v3M/GSWLlZ8ejdokdA/dtGmA0GfWKiqaioyoCSEn1iYkMqwmaTyZCbW5SZaa7pu1T7yMbQua38+D3yqk0i5uy1vzkAAAAAALixUYAGGkt2dnZOTo7RWHUTYtRF7d/PTXuk1HQxarCsUl6DvG5+KqW4b7AshFgbpaATNAAAAAAAqBMK0ABuKjn50p87pEG95M5tqZVajZ+36N9TbDsgsvPoBA0AAAAAAOqAAjSAm8r5ZHEsToR2r3/3Z1RkayMGBsuHTknxSU2dCgAAAAAAuKFQgEbTi46ODgkJOXLkyI4dO8aMGePp6TljxoxKOyybzeZt27aNHj3a3d3d09Pz2WefjY6Olis0BZBlOTo6+rXXXgsMDNTpdJ6enmPGjNm2bZvZbC4bdurUqcGDB0dHR1ea0uDBg0+dOlWP5VhOKdTpdDNmzNiwYYOXl5dOp7s+m0GXfT/d3d3Dw8O3bt2alZU1evTopUuXlo20+mdU+8i6vp8JF0VRsdS7a83Ll9RqtYOD5bFCrZbU6ppfUy3ZbE7dvn3bww+vbNt2Vfv2u599Nvv4cXGtmlaYDIYLkZFb7r13Zdu2K9u23fbww8kbNpiqaFFdj7V37yBstHJcojVzBgAAAAAANz1VUycACL1eHx0dHRkZuWzZssTEKutbRqNxzpw5U6dOLR1ZsmTJqlWr5syZ89BDDykUV/6aIsvyihUrXnrppby8PMtIVlbWypUrV65cGRERERERYWdnZxnPzs7evXu3Xq+vNKXdu3dnZ2dba406nU6pvL4aEld8P9evX7979+5p06YVFRVduHChbLB1P6M6RVaqmvfzWJzwdBduzjWXfX1HjSp93Pm112qMr55sNJ786qtTX35ZOnJx7dqUjRt7fPBB69GjpZpW1ECG7OzDU6deWL26dCRt1660XbvaPPxw4Lvvqv75zpeqx9pbNhfeHuJUglXyBQAAAAAAtwp2QON68fHHH/fv3z86OjovL2/atGkVy4urVq2aNWvW6NGjjx07ptfr8/Lydu7cGRIS8tZbb23fvr007Pz583Pnzg0JCdmwYUNmZmZhYaFerz958uSrr746b968RYsWVbob14o0Gs0HH3xQWFg4bdq0IUOGXLx4sbCw8Pvvv7erUASsjejoaH9/f121/P39K93HXT3L+3n33XdHRUXp9fqcnJzIyMg2bdrMnj17z549lb7EWp9RnSLr9H4aTSJXL7k4yk7217pVcWJkZOzcuS1vv33oli33nzt3f0LCoN9/d+rUKXrGjNQdOxr11rLRePq77y6sXu15551X7n7u3B1//93y9tvPLl9+ev582RonYdrayH5e4uJlqaCo4ZMBAAAAAIBbBTugcb149tlnP/jgg6qqtJcuXVq8ePGIESM+//xzJycnIYRCoQgKClqwYMGLL744f/787t27Ozs7CyFSUlL279+/YcOGsLAwy2sVCkWbNm2mT59eUlKydu3aBx54oEWLFtdsXQ1kMpkMVXRRaAjL+xkWFvbtt996eHgIITQazZ133qnT6Z5++um0tLRKX2Wtz6j2kXVlKBGZOaJVC6HVWOfPDLHz5sXOm1fV1Wbdu1seFKWmnlm0qMWgQb0++0zt5CSEEAqFa8+eoQsW7H3xxbj585sFBmrqtaLayImLO/frr773399j5szSzc7OnToFzZq198UXz/38s/fw4Y7t2zfwLpIkrrNN/AAAAAAA4AbADmhcLx566KFq9ggfOHDg5MmTzz//vKVeWcrd3X3MmDEbNmwo7desVCodHBwuXLhQbqezVqvt06dPVlZWpT03rls9evQ4e/ZsYbViY2O7detWp2kPHDiwefPmJ5980lJ9LtWvX78xY8ZU9SprfUa1j7xRZBw8mJ+Q4P/88+qrV2Tj7u732GNpu3fnxMQ03t0vbdpk0uv9HnusXKsNG3f3ji+/XJKTk7Z7t7XulZAkCouv9e5yAAAAAABw46IAjRvDqVOnOnXq1Lp164qXevTo0blz5wMHDliedujQYciQIZMnT/7oo4/Onj1b9uDBe++9d926dX5+ftco6euVLMtHjhwZMGBA7969y11SKpVDhgxx+Od4ujqp/WdU+8gm9//s3XdcU9f/P/CbQSCELVtFliiIAqKiVGxx4bZaXOBeKA601lXFqsjX1VbFhbSKqFWLq4LWXduqUKsCRQSRJSggIJAAIZB1f3+kn/zSsAIkBPT1fPjwkXvuyTnvexPw4Tsn79Nj6VLfvLx6//RYulTajZ2aqmNrq1PfFRm5uelYW5eq7IqEPB7n1SsTT0+9Hj3qntV3ctJzcGCnpopVsI4eAAAAAAAAAKBJKMEBHQCPx8vLy/vtt9+6du3aUB8vLy+RSESj0QwMDLZt21ZTUxMSEhISEmJlZTVu3LiJEyf279+fyWS2LLX6gampqSkqKrKzs5NbgCzRqVMnGxub5o6p+GvE5/MVfzWbG4ZaCHm8qry88uTkWDe3hvrUlJSQQiGFrvxfueKaGu7r10ZubnQtrbpnaUymtpWVoLJSLBRSGYzWT2fbhWBqqraKOgAAAAAAAAB8SLACGj4Q5eXl0lrJ9vb2P//8861bt/z8/CorK48cOeLj4zNw4MCIiAgej6feOJtLdZsQ0mg0CqWeWgrGxsZydTmURfY1UlZPOXQaoc0k3rMJgbB9lYmoLS8XCQSqG5+mpdVIdrv6zRtxbW0rpyBJQiRq5RgAAAAAAAAA8NHBCmjoMCZNmnT06NF6F+3WRafThwwZMmTIEKFQmJ+fHxsbGxUVFRQU9PLly9DQUCaTqepolUVFmxBKRpYrky1RXl7+/v37lo2pyGsk+QygWa+m4hgahKEu+SyVwuWR+jrKHbsJZl5eA48e1dDTa9NZ/0dUU9PICmvtrl2pmpqtnKKGT8ktJDxdSWZrRwIAAAAAAACAjwhWQEMHwGQyLS0tCwsLORxO3bNlZWVhYWE5OTmSw8TExKioKOlKZzqd3q1bt+XLlz98+HD79u1Xrlx5qcrt4JROFZsQamlpmZmZZWVl1Xs/i4uLMzMzmxun4q9Rs17NFrC3It69J96Xt90KaDqTqW1hwXv3jl/fFfHLy18ePFjViitqHFVLi2VtXZ2fL6ypqXtWxONV5+Vp6OpSW139o7iULHxP6WxC1LduHgAAAAAAAACgfkhAQ8fQu3fvv/76KzExUa6dJMlffvll/fr1L168kLQ8fPjw5MmTJSUlcj01NTUnTJhgbGycnp7e+FwkSb5+/VpZkbdDFArF1dU1MTFRetOkRCLRw4cPKysrWzCs4q+R4j1bwMmWqKmlZOe3eICWMHJxqcjIKKtzRQRJ5v3yS8revZy0NBVNTWcy9R0cSuLiKup7Y5cnJ5c/f27g5NT6AtDpuZTiMqKPQyuHAQAAAAAAAICPCxLQ0DH069dv6NChR48eLSgokG1PT08/efLk5MmTBw8eLGlxcnJ68eLFq1ev6g7y5s2b3Nxc+v+WgmppaZmbmz958kS2EgVJkrdv3966davKLqVd6N27t7Ozc0RERHFxsWx7amrq2bNnWzam4q+R4j1bwNKEtO5M3o6n1Kqkckn9Orm7G/bpk370aPV/r4jz6lVWVJTZkCEmnp6qm9182DAai5V95oyQy5VtrykuTj9yRMvU1GTQoFZOIRQRj5Iotl2ILmbYgRAAAAAAAAAAmgEJaOgYzM3N586dm5CQEBAQkJCQIBaLhULhn3/+GRgYWFRUtGTJEgMDA0lPFxcXb2/vTZs2Xb9+XVrkgcPhnDt3bs2aNT179uzXr5+k0cbGZsCAAYcPHz5//jyPxyNJsqio6Pvvv581a5ayyi4XFRXJ5VjbCSsrq5kzZ8bGxq5YseL58+eS+3n37t2FCxeWlpbq6uq2YEzFXyPFe8pR5H6aGhGfupO/P6W8bsMbr2VmZj9vXsWrV/EBAWWJiaRYTAqFRQ8fPl62rKa0tMeSJYwGrkgp9Lt3t/b1zb106e+goMqsLFIsJsVidmrqs/XrS/76y3raNF0bm1ZOkfeOuPuYMsiFtDRRSsgAAAAAAAAA8LHAJoTQYUyaNCkvL2/z5s13796VNjo4OPzwww+yC2aNjY1DQ0NXr17t6+srN4KhoeHmzZu7desmOTQwMFi+fPnChQvnz58/f/58abfJkyd/8cUX/v7+rQzYyclp+/bt/fv3JwjCz89v3759emraoa4uCoUybdq03NzcPXv2xMTESNsdHBzCwsJOnDjRsmEVfI2a1VNKwftJpxE+nkRUDBHzB/WrbuI2K1hsNXFiVW5u2v79v02cKG3UMjEZeOSI6SefqHRqCp3uEBDAffPmTUxMwe3bsqdspk93WLSooc0JFUSSxC+/UXMLiD2rSIZG62IFAAAAAAAAgI8MVkCD+rFYLHd3dxaL1Xg3Op2+evXqmzdvjh8/XldX18rKasWKFTExMUOGDKH8N8tob29//vz5AwcOeHl5SVpcXFw2bNgQHx8/ZcoU2c5eXl63b99esGCBlZWV5PDAgQMREREuLi6LFi0yNzevGwaNRtPT0zMyMqLRaI0HPHz48E2bNhkaGipyE9oei8UKDg6OiYmRu58eHh61tbX0/6Yslf4aKd5TSvH72c+J9O5PRl6lpGU32bdBNBbLwNlZ08iowQ5aWiwrK2ltZQqd7rRqldeZMyaenlQNDQ19fRs/P+8rV8y8vBrato9KozH09LSMjKhNvZea7MkwMOj3/fceBw926tuXqqFB1dAw8fT0PH7cdccOelOvWpNe5RI/XqEMcSf7ObVyJAAAAAAAAAD46FC+vf+fLaXWfNbE/mwdUUZGBkEQ3bt3b80gsmWCpYfSvyXEYrFYLBaJREKhUCAQ8Pl8Pp/P5XJ5PF4rZ+9wmEymukOAxty4cWPdunVHjhyR5uglSJKMiYlZtGjRiRMnxo0bp67wWu9hImXGBspwD+LgBrGOtrqj6ciqqokvv6NevEM5u1M86hMUgAYAAAAAAAD40CQnJzOZTBaLxWAwGAyGhoYGnU6n0Wja2i1MqXz3ew/ZQ6yABvgYmZmZ8fn8hQsXRkVFlZWVST5BKSoq2r9//9KlS729vQcOHKjuGFtlYB9yyRTy4l3K8Sv4Ldcq525Qzt2gLPqCHD4Q2WcAAAAAAAAAaDbUgAb4GLm5uR08eHDt2rVLlixZsmSJ7Knhw4eHhoYaGxurKzaloNOIID+yvILU0kTatFUM9Ai/MeRXs0l6E2VCAAAAAAAAAADqgQQ0wMeIQqGMHDmyT58+P//88/Xr1x88eKCrqzto0CA/P79x48Y1Weu5Q9DRJr79UqzuKDq8KSPIKSOQxAcAAAAAAACAFkICGuDjZW5uHhQUFBQUpO5AAAAAAAAAAADgw4TqqAAAAAAAAAAAAACgEkhAAwAAAAAAAAAAAIBKIAENAAAAAAAAAAAAACqBBDQAAAAAAAAAAAAAqAQS0AAAAAAAAAAAAACgEkhAAwAAAAAAAAAAAIBKIAENAAAAAAAAAAAAACqBBDQAAAAAAAAAAAAAqAQS0AAAAAAAAAAAAACgEkhAAwAAAAAAAAAAAIBKIAENoFpV1cRX31Mv3KGoO5D26MIdyqJt1PIK3BwAAAAAAAAAgA8TEtAAKkSSxKV7lBO/UARCdYfSLulqE5fuUSKvUkhS3aFAq+3/e//ae2slj9f/tv7g04PqjefjgTsPAAAAAAAA7Rld3QEAfMhyCojDP1MnfkZO+BQZ1np49ydnjSPDLxDDPCguDm19iypqK/b+tbdHpx4znWcSBEGS5KnnpwiCmN17NoWihEXZXD53ZszMm1k36z07ym7UmQlnWAxW44Pczbnre8m3VlRb95Sept7Xn3y93H05jUqTbecJeH5X/QiCODvxLFOD2dLwm61aUP2u6p3kcUFlgb6mfptN/ZHDnQcAAAAAAID2DAlo+JBVlBdFh39JEMTUJd/rGZq18exCEfHTdUphCXl4I6mj3caTqwSfz9+2bRudTt+0aRODwWj9gJoMYv7n5I2HlLM3KL3sSDqt6acoUXpZ+g+JPwS6B0oO3/Pe7/t7n72hvV8vPw2aRuvHZzFYV3yvtHKQ4TbD2V+x67aTJLnv733f/PGNs4nzMOthsqcEYgGnhiN5wCTaLgHdOE4tZ2L0RIdODhFjIurtMP/a/Ozy7KtTr7Y4fyrJvNOp9FPjTzWeeVe8pyooMnu1oPp86vmDTw5mlGWISJEmTXNg54HrPdd/ZvWZUj4dAQAAAAAAAGgzKMEBH7KSgqyC1ykFr1NKCrKUNeb9q4eO75pVU13RZM+8d8Tl36h+Ywi3nh/I8meRSFRRUVFWViYSiRrvefTo0VmzZlVUNH2XetmRs8aRV+4RL3OUFKXC3lW9q+RXdtPvJjnk1HI4NRxzHXOlZJ9VjUKhuFu4UynUSn6lumNRCFfALagq4Al4DXUQiAQFVQVcAbfFU0gy76XVpQKxQFk9VaHJ2d9UvBl6Zuiym8telr4UkSKCIGpFtX/k/THu53G74neRKFgDAAAAAAAAHQpWQMOHzMTSztLaWfJAWWPyuOxaXqVI2HTe6t5flKL3xOShbb2wtz1gs9kcDkcobLr0NZ1GTBpKnr5GufGI2stO3JaLO/M4eTQKzVzHXHKYX5nPqeVI89Ets//v/Rvvb2zBE3d671w1YFWznqJF15Lkyh+8efD5hc+rBdWyZwd1HtSCMEDtKmorFl5f+Lzk+Ujbkds/3e5s7Eyj0t7z3h9LOPb94+93x+12M3MbZTdK3WECAAAAAAAAKAoJaPiQ6RmaLdz4k1qm5lRRrj2gePcne9lhuWITbLsQXn2JP54SCydRDPXa7nblVeRpa2gbMY0kh8Xc4lpRbc9OPVsz5qoBq+rNI7/jvht5diRBELf9bpuzzFszhQRJkknvkngCHpPO9OrqVfplqfRURW3F5xc+b3KEtPdpUy9P5dRyrk696mbm1vqQQCni8+Pj38b79vT9YewPDNq/hW6MmcabPtlkY2Cz5Ncl1zKvIQENAAAAAAAAHQgS0AAqkVtAPM8gvpr9gVR/ViltLeLTfuSG/dSst2Q/pzaalCTJNxVv9DT1Out2lrRklGXoMnSlC6KViC/ib/5982v2a4Igvr7/9SGfQ9oair4tSJI8/OxwyMOQilr5eiaaNM0lfZd4d/NuWVS3sm9llmcSBHEj8wYS0O3Hs8JndCp9vut8afZZ6rNun5nrmEsKfAMAAAAAAAB0FKgBDer0151TkXvm8Lic5L+uHd02ecfSvjuW9o3YMe1l0n2SFNft/zbrn2/XfJqXmfgq+Y8fd/qHBrrHntoqbrgesVDIv3x849WTwUIhv+7ZmuqK47tm3b96SCioTXh4+dh239BA99BA99P7FhflZ9Q71PYAl6d/XHj/Lue7tUO3B7g0Ugw6O5+oqaUM6N3EHUhOTvbw8EhKSnrw4IG/v7+lpeX27dvrrbAsFov/+OOPqVOnmpqaWlpaBgQEJCcn160GS5JkcnLyV1995eLiwmQyLS0t/f39//jjD7H4P/czLS1t6NChycnJ9YY0dOjQtLS0JkKvD5/P37RpE5PJ3L59+507dzp37sxkMhUpBu3qQGhpkhl5LZizhSr5le+q3lnoWLDoLElL2vs02Xy0UpAkmVSU9OnpT3/N/PWnz3+65Hvpbs7dT09/eifnjkjcRB1tiaTipNCHof7O/lVrq3jrebJ/2F+x9wzbUzdNqSAfWx97Q3sTbZPR9qNbNoIcDZqGvpa+9HHrS2mLxKJzL871jujN2sPS2aMzOGrw/dz7bVYBuVpQvf/v/T2O9mDtYbH2sHpH9D7xzwm5OieqwNRgGjGNTLVNFX+K0u88AAAAAAAAgBJhBTSoU1lJXnVV+aObJ/66e1r8v3zcuzcvLx5bM3j0Aq+xATTaf96itTXc6ip2UtwvL57cFPBrmhxfLBLV8iolD+q+2UVCQS2v8t2b9OijqzNfPJK257x8fPbA0hkrDpl3baIaA0NTi0Kp/1Oc5xmEpSlhbNBEsozL5SYnJ1+9evXs2bN5eQ3mX4VC4YEDBzZv3ixtOXXq1JUrVw4cODBt2jQq9d8YSJKMjo5esWJFZeW/G9OVl5dfvnz58uXL69atW7duHYv1b7KVzWbHx8dzufVs+MblcuPj49lsduORK47JZNJoTZTBtjAhupgRadnKmrNBApFgVsysq6+uSlvMD/xnybPdYTsqhbp24NqtQ7a2bAqegPee9z6pKOl29u1fM3+tEdb4OfvdnH5TkiJ8vuj5kYQjC68trBJUeXfzHm03+pOun5jrmBtoGtQ7mlAsJAnSmGlMoyq5lLijsePzxc+VOODagWulj0+MO9HK0fgifuDNwJ9S/n8JnWfvno37edxGz40bPTcq/W7IKawqnHFlxuOCx9KWzPLMZTeXXUy7eG7SOX1NfdVNvXrA6tUDVtd7Koedw6nlDO46WK5duXceAAAAAAAAQLmQgAY1Ky3Kjbt9spO59Vi/zV3t3QiCeJOZeP3sjrjbUeZWTj1d6ykvkPTol24O/UZNW29sYSuXoW6BjOd/0mj0gcNnDRw+U9fATCio+ePasbhbkU/unx/rH0z9X+aUTmdMXrBz8oKdv57d8Tr96Zw1x1l6nRoaUygiKrgUQz1SX4dCEE0v2Ny1a5e/v//69ettbGzo9Hqu6MqVK7t37546dWpwcLCtra1YLP7nn3+2bt369ddfW1hYfPbZZ5Juubm5hw8f9vDwWL9+vbu7O5PJFIvFubm5ERERR48eNTExWbZsGUWV2/wxGIzQ0NDQ0NCdO3fGx8efPHnSyMhIkSdqa5G2nSn5xZTqGlJbS3UBKkrxEhmyzqScCbwRSKVQjbWNnU2cPTp7XJ161bGTo2y2VF9Lf6Pnxg2DNuRwcm5k3ojNiN0Zt/N99XuhWHho1KG5fea2YN4PchPC/X/vP/finLOJ87Exx1xMXUSk6G7O3aDbQXvi99ga2vr18lPd1HwRf8NvGx4XPHY1cz086rCLqQtBEHH5cV/e+VKpcAUAACAASURBVPJ+7v1199Yd8jnU+lXGNCqN2sDHV/Xi1HK2/rnVsZPj9F7TWzk1AAAAAAAAQFtCAhrUT1ff5IuFu6XLja179P9i4e5zB5c/uX/Wpkd/TaaOXH8Hl88mzQut294yGgytCbO3OfXzkWRmNRhMz5FzstP+Knr7il/L1dLWa8GYfAFRxiGszAlNhkLlAgICAkJDQ6XLk+W8e/fu5MmT48eP//777/X19QmCoFKp7u7ux48fX758+Q8//ODq6mpgYEAQRGFh4ZMnT+7cuTN48L9rJKlUqo2NzdatWwUCwY0bN3x9fc3NlV/juPUoFKKpRdLKoUHTOD/pPEEQjwseT4ie8NXArySrRzPLM0f8NGJw18GnJ55u8eAznWfOdJ6pSE8KhWJrYLus37Jl/ZY13tNIy0iHofOy9GW1oLqhtHjLNiFUi4svL158ebGhs131ukoeZJVnRSRG9DbpHTMtRlKMgkbQxtiPcTR2HB89fm/83mHWw8xYZioK8knhk+uZ1wd3HXzxi4vSxc5eXb2iJ0ePjx5/9dXVhW4L+1v0b+Us5ixzHYaiv8TKasoWXV9UWFV42feyStdfAwAAAAAAACgdEtCgfs4eY8269JBtMevSw9ljbMKfF96/y+lsI19Huf+n05SVfSYIorfHWGn2WUKDoaVnaFZWlCsSCpQ1S+OmTZvWUPaZIIinT5+mpqZu27ZNkn2WMjU19ff3X7RoUVpa2qBBgwiCoNFourq6b968IUlS9oo0NTUHDhwYFxdXb82N9iP7LcGrpWhrtUWR3zxOXhW/qmenfz/2yK/M59RyHI0dWzzg8aTjK2+vFNdXu1xBNAotcnzkFMcpso12hnb7RuxbfnN5p+8bXHFPEERA34D9I/a3eOr25mbWzWJu8YGRB+RKIdsY2CxyW/T1/a/j3sZN6jFJRbOfe3GOL+KvGrBKLtVrY2Dzjdc3C64tuJp+tTUJ6OaWGk8pSfH7xc+MZXbH746FjkWL5wUAAAAAAABQCySgQc3oGpoOfYbI1YWgUCgOfYY8uX+uMC+tbgJauahUqtzsGgymnoFJWVGuSudVXFpampOTk7W1dd1Tbm5uvXr1evr0qSQB7eDgMGLEiDVr1uTk5MyYMaNbt27S8tCff/65j4+Pjo7SEvcd3dPCp0ZaRjYGNpLD1+zXPCHPycSpxQMucF2wwHVBQ2elq5J/mfKLnmbzltWP7z5+fPfxivdn0pmWupa1oloNarvbjM63p29Da8xnXZ0lrbn87N0zU5ZpH9M+dbsNsx5mpGV07/U9FSWgK2orUktSnYydPLt41j07qMsgCx2LpKIknoDH1GC2ZiJLXUtFuuWwc6ZfmW6hYyG7HBsAAAAAAACgA0ECGtRMU0uHyaonq8Jk6Wtq6bBLC9o+pHaFx+Pl5eX99ttvXbt2baiPl5eXSCSi0WgGBgbbtm2rqakJCQkJCQmxsrIaN27cxIkT+/fvz2QydXV12zLyFrDtQjA122L5s0AkyCrP6qTdSVrGIfV9qoGmQTf9bm0wu6pp0DTOTDyj7iharqK24jX7dX5lvsNRh4b6vKt6JxAJWl+Iua4qQdXbyrd9TPvoaNTzaY0eQ6+zbudKfiVfxG9NAlqDpqFgNvl40vFyXvnZz88i+wwAAAAAAAAdFBLQoGZMlh5Lx7BuO0vHkMnS49dUtX1IrUenEdpMIq+QEAgV2oSwlcrLy/l8PpPJJAjC3t7+559/jouLi4qKunHjxpEjR44cOeLg4LBs2bJZs2ZJ+rRDJEmIRG1RBnrvX3u3/LFFemh10Er2rOdJT4IgZvSacWLcCZWHAq1QxivjCXmqSEBLMOnMRgYvrCrkCrn6RMszwvaG9ooEX1FbEfc2rkenHtb69XwBAgAAAAAAAKBDQAIa1IzHreBWlbP05OvbcqvKedwKhlaHLBnB0CAMdclnqRQuj9RXxhVMmjTp6NGjcjWgG0Kn04cMGTJkyBChUJifnx8bGxsVFRUUFPTy5cvQ0ND2mYOu4VNyCwlPV5Kpqe5QCKI1S03v5tz1veRbK6ptqIPZfvmt8/Q09dZ4rFk1YBWDxmjxvB+eHp163PG7Y6JtopbZeUJeIyusLXQsWPQGi7YrqLtR9yb7SJZje1h6NLdsCwAAAAAAAED7gQQ0qFltTRWPy6nbzuNyamuqDDopVCa1HbK3Is5cJ96XUyxNWrUCmslkWlpapqSkcDicugnosrKyM2fOjB8/3sbGhiCIxMTE5OTkqVOnSrLMdDq9W7duy5cvX7RoUVhY2JEjR2bNmuXm5taaeFSkuJQsfE/tbEL+txy38q0duHbtwLUpJSmjz42e2GPiIZ9DBEGUVJeMODvC3tD+3OfnWrmodrjNcPZXbMX7kyT59e9f73u8b4TtCDez+l+a/X/v33h/o+JjUilUNzO3H8b+0Pieimnv06Zensqp5VyderWhqdVCskdfRllGEbeobgK6oKpgx8Mdi90Wu5q5qmJ2HQ2dLrpd3la8rRJUGdLkv5xRwa/Ir8zvbtS9lZ8WGGoZ0ihNL/jXpGnqMnSNtY1bMxcAAAAAAACAelHVHQB87ISC2lfJf5Lkf7K0JEm+Sv6TRqNbWDWWQWvPnGyJmlpKdr4Shurdu/dff/2VmJgo106S5C+//LJ+/foXL15IWh4+fHjy5MmSkhK5npqamhMmTDA2Nk5PT298LpIkX79+rYSgmyk9l1JcRvRpsOSvkpXySrkCrrTiM6eWw6nhmOuYq66kQ0MoFIpHZw+SIIViYUN9Vg1YxVvPU/xP9rLsWlHttgfbBCJBI1Pfyr6VWZ5ZUl1yI/OGCq6sVQZ2Hvie9/7e63ty7SRJHnxyMPKfyEdvHqloaj1NPScTp9T3qXFv4+qe/T3397eVb13NXFu5A+FS96WKbCzZidnp2YJn+0bsa81cAAAAAAAAAOqFBDSoX8rj60Vv/5MYLXqbnvL4uqV1L2NzG3VF1UqWJqR1Z/J2PKWW39qh+vXrN3To0KNHjxYU/GdLxvT09JMnT06ePHnw4MGSFicnpxcvXrx69aruIG/evMnNzaXT//3Sg5aWlrm5+ZMnT2RT/yRJ3r59e+vWra2NuJmEIuJREsW2C9HFrC12ICQIophbzBPypDUQSnml1cJqtexASJJkdnk2haDQqUr7PgqTztRl6EqusZFuPrY+9ob2Jtomo+1HK2tqZRllN6qzbucDfx94VfafN/Pjgsenkk/17NTT19FXdbPP6DWDQWPs/3s/p/Y/X87IYefsituly9Cd2GOi6mYHAAAAAAAA+MAgAQ1qpsHQEokEl35c/zr9iUgkFImEr9OfXPpxfQ2vctDIuZrM9lgDurqqnFNW2HgfUyPiU3fy96eU1wWNd2yaubn53LlzExISAgICEhISxGKxUCj8888/AwMDi4qKlixZYmBgIOnp4uLi7e29adOm69evczj/5s44HM65c+fWrFnTs2fPfv36SRptbGwGDBhw+PDh8+fP83g8kiSLioq+//77WbNm8fmtTpkTBEEQRUVFchnzhuS9I+4+pgxyIS3bqt5vRlmGvqZ+Z93OksPCqsKK2gpFavI2qaK2YubVmTp7dJi7mYr80d6jvf3B9lm9Z/Uy7tX62ZvF0djx+eLneSvy2lX9DQk7Q7vFbouLuEVjz4+9mXVTJBbxRfyfU3+eenkqV8Dd+MlGM5Z8KW0l6m/Rf6z92IdvHo46NyrhXYJILBKJRQ/ePJh6eWpWedZEh4mupvVU/0h7n9Y7orfVQavEIvkvK8jJYee4/ejm9qNbDjun8Z6JRYlWB63GnB8jlwoHAAAAAAAA6EBQAxrUTN/IYuTUtdfPbD/1/UJpI5VK8/58hU1PDzUG1hALq15P/7jw405/giC6dXefFrhfS7ue/cHoNMLHk4iKIWL+oH7VTdzK0saTJk3Ky8vbvHnz3bt3pY0ODg4//PCDdPkzQRDGxsahoaGrV6/29ZVfH2poaLh58+Zu3f5d5GtgYLB8+fKFCxfOnz9//vz50m6TJ0/+4osv/P39WxUuQTg5OW3fvr1///4EQfj5+e3bt09Pr/5d1EiS+OU3am4BsWcVyWirAhhp79N0GDrmLHPJYWpJqmw+ujXSy9Lv5tzdP3L/QteFTfeGhq0asOpV2aufUn6adHGStFFbQzt8TPiUnlNUOjWDxtg1dFcuJ/dxweNPoj6RPeXdzXvPsD31lmqRlDQhCOJG5o3Gc/r/FP/zsvSl5IGNQWNf8riReaOkuiThXcKrslf9Lfq35GIAAAAAAAAA1A0roEH9LLr2nL/hjKvn5xoMLRqNbmntPHXpPs+Rc2k0+Q9INLVYOnqdNLVYCo5MpdE0mbp6huZ0ej07htHoGkyWPkuvng2+aHRNg06WdA3Nuqec3Ef09fqibmx19XMivfuTkVcpadkN9mGxWO7u7ixWE1dEp9NXr1598+bN8ePH6+rqWllZrVixIiYmZsiQIZT/5rbt7e3Pnz9/4MABLy8vSYuLi8uGDRvi4+OnTJki29nLy+v27dsLFiywsrKSHB44cCAiIsLFxWXRokXm5uZ1w6DRaHp6ekZGRjRaE/unDR8+fNOmTYaG8nu41fUql/jxCmWIO9nPqcm+ylHFr3rHfWfMNNZh/Lu+Pu19GpPONNRqOlpoMQNNg56dejaynx5Tg2mpY8nS+PdngUFjHBt97MS4E/aG9lQKVZOmOcx62O8zf5/uNJ3SwOc5GlQNfS39TtqdNKhNfJTRZE8LHYtfp/+603unlZ4VlUKlUqj2hvaHRx2++MVFfU35vUAlFC9p4mLq0rNTz56derqYujTec7T9aBNtk77mfR2M2qo+OgAAAAAAAICyUb69/5//1q75rIk9yjqijIwMgiC6d2/V9+vr7pIn+7eEWCwWi8UikUgoFAoEAj6fz+fzuVwuj8dr5ewdDpOp0A5dv57d8Tr96Zw1x1l6nVQdklo8TKTM2EAZ7kEc3CDW0VZ3NO1PVTXx5XfUi3coZ3eKR33SRgWgBSLBoWeHjLSMZveeLUll/vLql8LKwgWuCxi0ej6oaBZOLWfx9cXXMq+JSXGznrjTe+eqAataObsET8Dzu+pHEMTZiWdbuVceAAAAAAAAAHzwkpOTmUwmi8ViMBgMBkNDQ4NOp9NoNG3tFiazvvu9h+whSnAAqNDAPuSSKcSuE1TXHtQg/+ZlJD8G525Qzt2gBE4jhw9so+wzQRAaNI3VA1bLtnzu8LmyBtfX1P958s/KGq1lmBrMK75X1BsDAAAAAAAAAIAEEtAAKkSnEUF+ZHkFqaXZdgnWDsRAj/AbQ341m6Q3UdIDAAAAAAAAAAA6JCSgQZ2MTKyK3mbQ6G2195w66GgT336Jtc/1mzKCnDICqXkAAAAAAAAAgA8WEtCgTgNHzB44Yra6owAAAAAAAAAAAACVoKo7AAAAAAAAAAAAAAD4MCEBDQAAAAAAAAAAAAAqgQQ0AAAAAAAAAAAAAKgEEtAAAAAAAAAAAAAAoBJIQAMAAAAAAAAAAACASiABDQAAAAAAAAAAAAAqgQQ0AAAAAAAAAAAAAKgEEtAAAAAAAAAAAAAAoBJIQAMAAAAAAAAAAACASiABDQAAAAAAAAAAAAAqgQQ0AAAAAAAAAAAAAKgEEtAAAAAAAAAAAAAAoBJIQAMAAAAAAAAAAACASiABDQAAAAAAAAAAAAAqgQQ0AAAAAAAAAAAAAKgEEtAAAAAAAAAAAAAAoBJIQAMAAAAAAAAAAACASiABDQAAAAAAAAAAAAAqgQQ0AAAAAAAAAAAAAKgEEtAAAAAAAAAAAAAAoBJIQAMAAAAAAAAAAACASiABDQAAAAAAAAAAAAAqgQQ0AAAAAAAAAAAAAKgEEtAAAAAAAAAAAAAAoBJ0dQfwsTA0NFR3CAAAAAAAAAAAAABtCiugAQAAAAAAAAAAAEAlkIAGAAAAAAAAAAAAAJVAAhoAAAAAAAAAAAAAVAIJaAAAAAAAAAAAAABQCSSgAQAAAAAAAAAAAEAlkIAGAAAAAAAAAAAAAJVAAhoAAAAAAAAAAAAAVAIJaAAAAAAAAAAAAABQCSSgAQAAAAAAAAAAAEAlkIAGAAAAAAAAAAAAAJVAAhoAAAAAAAAAAAAAVAIJaAAAAAAAAAAAAABQCSSgAQAAAAAAAAAAAEAlkIAGAAAAAAAAAAAAAJWgqzsAUD0KRd0RAADAx4Qk1R0BAAAAAAAAtBdYAQ0AAAAAAAAAAAAAKoEENAAAAAAAAAAAAACoBEpwfEzwnWgAAFAdVHwCAAAAAACAOrACGgAAAAAAAAAAAABUAgloAAAAAAAAAAAAAFAJJKABAAAAAAAAAAAAQCVQAxoAoEHJycnbt29PSEioeyooKCgoKIggiPz8/MDAwMDAQB8fn7qHdeXl5QUGBqampioeho2NzbJlyyZMmECn1/NLOzk5ec6cORwOR7ZRX19/8uTJy5cvNzQ0lLTk5OQEBgbu2LHD3d1dkTgl+Hz+rVu3fvjhh5SUFH19/dGjRy9ZssTKyqpuT4FAEBISQhBEcHCwhoZGvaOlpKTs3LkzPj6+oem2bt06e/bsZo3ZYrdu3YqOjt6/f7+urm69HZqcPTc3d/78+Tk5OU3OJX23RERExMfHh4WFNTQpAAAAAAAAwAcGCWjowCorK1euXDlo0KDFixcrq2e7JcmF0en0jRs3Kj0TpxbFxcVr164lCGLv3r2mpqbqDqcebDZ79+7dPj4+0dHRVGqD3xfh8XhlZWUVFRX1HtZlZWV17do1xcMQi8UnT54MCwtzc3OzsbGp26FPnz6JiYlyjampqQEBAZ06dQoMDJS0iESiqqoqoVCoYJwEQXC53JCQkDdv3nz33Xd2dnZ8Pj8mJmbOnDmhoaGenp5ynYVCoWQ0oVBY71uUzWbv3LnT1dU1Kiqq3kx6XU2O2RoVFRXl5eXSG9KC2bt163bv3j3ZlvLy8gULFsyYMWPKlCn1jslmszkcTiOTAgAAAAAAAHxgUIIDOjChUMjhcNhsthJ7tluSXFhZWVk7T11FRETMmzevsrKyyZ45OTkPHjx48OCBIgtI1eL9+/d5eXkGBgaNZJ/bAJVK7dWrl0gkEolEij/LwsLCxMSkqqqqxfOSJHn69Onc3Nx9+/Z1796dSqVqaWlNmTJl2bJlO3bsyM3Nbe6AkvtpbW2tYPZZ1VTxxhOLxZJEv9JHBgAAAAAAAOig2kUWAFrM1ta2yT7ZdTpnZ2c31BmglRRf4GljY+Pl5SV5oPq4oNnS09NPnz69Y8cO2fXpFArFx8fn7t27ly5dWrlyZTtJJbdYly5dNDU1lThgeXl5WVlZSUmJEscEAAAAAAAA6NCwAhoA1MPU1DQqKioqKqp91t/4yJEkee/ePWtrazc3N7lTurq6Y8eOvX79en5+vlpiUwoej1dQUKCjo6Pcyh7FxcX5+flZWVlcLleJwwIAAAAAAAB0XEhAAwCAvMrKysePH7u6uurr69c96+joyOfzm7WPYntTW1ubn59vbGysxAS0UCi8f/8+QRDJyclv3rxR1rAAAAAAAAAAHRoS0B+I7IapO7TGkCSZkpISGBjo6Ojo4ODg6+sbGxvL5/Pr7fnkyZMFCxY4Ojo6Ojpu2LChodWXivdUnFgsfvDggb+/v4ODg6OjY2BgYEpKCkmSsn2ysrJGjBhx+fLluvGcOXNm/vz5paWlcqfy8vI2bdrk4eFha2s7YcKE2NjYVtZ3bvJ+CoXC3bt3b9u2LTo62sPDw83N7cSJEzU1NZGRkR4eHg4ODkFBQXJxKvgaCQSCLVu22NrahoeHJyUlubu729raNl4MWvKU7du3CwSChvrw+fzY2FhfX18HBwcHBwd/f/979+7JzV5ZWTlv3ryIiAhJ52nTpkle+sDAwKysrObdQfifoqKirKwsZ2dnCoVS96ypqamNjU1SUpLcT0EHUl5eXlJSotzyL69fv75586a3tzedTr9w4UJDP87SHxBbW9sDBw4oMQAAAAAAAACAdqhjl++EDo0kyWvXrm3ZsoXD4UhaEhISEhISVq5cuXz5ctnaskKhMDIycu/evdKETnR09JMnT3bs2CE3puI9FScUCg8dOhQWFiY9vHnz5t27d3fs2OHr6yvdns7U1NTOzu7w4cMuLi52dnbSp2dkZBw7dszDw0NLS0t22Li4uGXLlkmvPSUlJSgo6MWLF6tWrZLrqSBF7qdAICgsLLxz545AIJDcol27dt27dy8+Pl7ylNjYWAcHh8DAQEnaUfHXqF5aWlqNbN8n2VZR8qDeVajl5eVbt26NjY2VtsTHx8fHx0+dOjU4OJjFYknH4XA4aWlpa9eule188+bN9PT08PDw7t27Nx6negmFwqqqKkkmt6Ki4u3btyKRKCMjg81mv3jxorCwUCgUzp07t42jKisrq6iosLCwqPcsk8ns0qVLUVFRTU0Nk8ls49iUorCwMC8v79GjRyNHjpS+l1qDy+WGh4czGIwNGzbcuHEjMjJy2LBhnp6edXu6uroeP37c0NCw9ZMCAAAAAAAAtH9YAQ1qk5SUtGXLlr59+969ezczMzMrK+vRo0fjx48/fvx4SkqKbM+4uLiwsLBevXpdvHjx1atXr169unjxop6e3rp163JyclrWU3ExMTFHjhzx9vaWxCkZs1evXiEhIQ8fPpR209XV/fLLL/l8fmRkpHSJLo/H+/HHHxkMRkBAgGySKyMjIzg4mMFg7N69+/nz55JrnzVr1okTJ8LDw1u2Dlrx+8nj8ebNm5eSknLt2jUzM7P4+Hg/P7/k5ORff/3VxsYmPT2dx+M1d0wNDY3t27dnZ2cvWbLE1dX12bNn2dnZR48ebXFqTygU/vjjj7GxsSNHjpTMnpmZef36dW9v7+jo6OPHj8vdpatXr96+fXvVqlXx8fFZWVmpqalfffVVTk5OdHR0K9eVK1d1dXVQUJCtjGHDhs2bN2/+/PmLFy8+derUkydPMjIyunfvPnjw4F27dv3888+3b9+2t7dv7kRVVVU8Hs/S0rJlcRYUFBgYGOjo6NR7VkNDw8DAID8/v7a2tmXjq11SUpKZmdmDBw9u3LjR+nXcfD7/2LFjMTExS5cutbe3nzVr1pAhQ4KDg5OSkpQSLQAAAAAAAEDHhRXQH5F2VY5DKBT++uuvXbp02bFjh3SVpYWFxbx583777beMjAxXV1dJI5fLPXfunKmp6Z49e6RLWfv27btnz54lS5ZIV+Y2q6fiioqKoqKivL299+zZIymGS6VS+/bte+zYsaCgoOPHj/fp08fAwEDSuXv37kFBQd98842np+eYMWMIgrh///7169dDQkJkF+EKhcLz58+XlZUdPnxYukDSwsIiODhYR0cnKipq2LBhvXv3blacit9PgiAGDRq0dOlSbW1tOzs7Dw+PFy9eLFu2TEdHx8bGxs3NLTs7u7a2Vltbu1ljKl1mZubly5cnT568bds2aRbb0dFx586dQUFBFy5cGDNmjGxaVl9ff8+ePcOHD5es3dbS0vLz83v06FF6enp1dbWenp6yAquoqAgMDIyLi2vZ07W1tQ8cONDcwgt5eXmNd3j69GlwcHB6erq0hU6nT5s2LTk52dbWtgVxKpK1F4lELUjdrl+/fv369fWe2rp166effrp48eKMjAzZ9gkTJjR3lsZxudx//vln5syZvXv3DgkJ6dOnj4ODQ4tHe//+/a5du2JiYtauXfv5559TKBRDQ8OtW7eGhoYGBASEhIQMHz68ka8CAAAAAAAAAHzY8F9iUA+BQFBSUuLm5mZsbCzbrqOjI83nSrx+/frp06eTJ0+WWwTavXv3efPmtayn4hISErKzsxcvXiy3FZupqamfn198fLxsyo9CoYwePXr06NFHjx4tLCwsLCw8evTo2LFjR48eLfvcwsLCBw8eTJ48ecCAAbLtdDp9zJgxdDr95cuXzY1T8ftJEISJiYmmpiZBEJqamqampkwmU1L0Q3LYsjGV7rfffquqqpoxY4bcGmpTU9MVK1aw2ey//vpLtn3q1KnS7LMEk8m0sLCoqqoSiURKDExPT+/MmTOyZdZv377duXNnJU5RV1VVlYmJSadOneo9W1RUFBISMmrUqMzMTGlUr169CgkJ2bNnT1vGqYjdu3c3VLB+9uzZ3bp1u3XrlrTlxYsXSs8+EwRRWFiYnp7er18/T0/PIUOG/Pjjj9JV/83C5/MvXrw4duzYZ8+e/fjjjwsXLpTWpTE0NPy///u/lStXBgUFffXVV01+hAAAAAAAAADwocIK6I+XdBlmUFBQUFBQG8/OZDJ37txJp9M1NDRIkqysrMzNzX369GlsbKzcnoGvXr2qqan55JNP6m6G5ubmJpuSU7yn4tLS0mxtba2treuecnV1tba2fvbsmYeHh7SRxWItXbp08eLFJ06c4PF41dXVAQEBckVy37x5k5mZuXHjxro1lG1tbb/88sv+/fs3N07F76d6x1QQj8d79eqVp6dnz549657t2bNnjx49UlNTBQKBtHg0jUaTe90l+fR2tfC/ZXg83j///NOzZ8+GCmJUVlaWlZVZWloqcZltkwW+ifrueUfx119/de7cuUePHnQ6ffbs2UuXLr1//77kWwuKq66u3rhxY0pKSkBAwPTp07W1teU6MBgMf3//4cOHR0REjB8//sSJE+7u7l26dOnatSuDwVDe1QAAAAAAAAC0a0hAf7wkSWfZNHQbB8BkMvPy8o4cOXL16tVGKskWFhZ26tRJbgGyhLm5uWyJW8V7KojH4+Xl5T1//ryRjHBJSYlQKJTN1tnZ2a1Zs2bVqlUEQezfv192Q0KJ/Pz8zp07d+3ate5oTCZzxowZzY1T+lxF7qfax1RETU1NXl6ei4uLZKV23ai6dOlSVVUlm4Du6F6+fLl27dpvv/22R48ecqdyc3MfP3789ddft+XFWlpastnsqqqqes8KBAI2m925c+d6uOYmoQAAIABJREFUX6B2jsvlPnr06JNPPpEs5Leyspo2bdqpU6f69+9vYmKi+DiSaipNdjMzMwsODg4ODpYc+vn5+fn5tSxyAAAAAAAAgI4ICeiPmnpz0HFxccuWLZOUZrazsxs8ePCQIUP09fXlwqiqqjIyMqq35gOVSqXRaC3oqUTl5eUCgUBuuaiBgYGkcETLll23jIL3U+1jKo7JZDayDvft27eSWtVtEEkb4HA4L168YLPZcu0CgeDs2bOmpqZyBVtUzcjISE9Pr7CwsN5K3zwe7+3bt46OjpLiLR3Ly5cvMzMz16xZIzmkUCgjR468ePHir7/+Onv27A66phsAAAAAAACg3UIC+mOnrhx0bm7utm3bDAwMvv/++8GDB0uXdmZmZsr11NHRKSsrY7PZhoaGcqfEYrFseV/FezbL4MGDDx06pPgudqWlpYcPH/7ss88IgggLCwsLC2tWGjo3N5cgiG7dujUrSMXvp3rHbBYejye3ulxWly5dOuLy2+ai0+ne3t5ffPGFmZlZW85rZmZmZ2eXkpIyatSoujnZ4uLinJycGTNmdLh0LZ/Pj46O/uyzz2Tr6pibm/v6+l68eHHkyJHS/TYVFBsbq/ivTTqdPmjQoG+++aZlO0MCAAAAAAAAdERIQH9cGs96tGUOOiEhoaCg4OTJk+7u7o33tLCwKC0tlSzClfPu3buCgoIW9FQQk8m0tLRMTU3lcDh1E9Dl5eVnz54dO3asbCZLKBT+9NNPeXl533zzDZ/PX7Ro0YULFwICAmTzdMbGxvn5+cXFxXKbJRIEUV1d/d1331Gp1J07d8pVjm6c4vdTvWMqSEtLy8rKqqCgoLa2tm4CWrL81sHB4YOpv9EICoXi7e3d9vPq6up6eHjExcVxOJy63ypIS0tjMBhOTk5tH1grPX369PHjx+Hh4bLvKwqF8tlnn509e/bevXszZ85s1oDjx48fP368gp35fP727dv37t377bffyu2uCQAAAAAAAPChUtqOVfBh6Ny5c9tMlJGRYWNjY2Vl1WRPBwcHLS2tR48ekSQpdyoxMbG0tLQFPRXXu3fvzMzMpKQkuXaSJGNiYr777ru0tDTZ9mfPnkVGRi5cuLB79+69evWaM2fOsWPH5J7etWvXzp07379/XygUyg1bWlr68uVLKyurZmWfiebcT/WOqSAmk+ng4BAXF/fy5cu6Z58/f56cnOzk5PQxJKDVhUKh+Pj45OfnJyYmyp2qrKy8fv362LFjVffrou6PhlKw2exjx45Nnz69bqFtKyurCRMmXLhwoaioSBVTSzAYDD09vaKiIj6fr7pZAAAAAAAAANoVJKA/Ltn18fX1lZzds2eP9LGqWVlZ5eTk5OXlyTaKxeKEhAS5BJC1tXW/fv0uX74sV/khIyMjMjKyZT0V17dv3969e0dERBQWFsq2Z2Zmnjp1ysvLa9CgQdLG0tLSsLAwJyencePGUSgUCoUyadIke3v7/fv3y9b2tbCwcHZ2vnjx4t9//y07JkmSv/32W2Fh4aefftrcOBW/n+odU3FDhw7V0dE5d+4cl8uVbS8uLg4PDzczMxs4cKCqY/gwiMXiluVz7ezspk+fHhERUVxcLG0kSfLWrVt5eXlffPFFIxW660Wj0RovxS4UCh8/frxgwYK5c+dWVFS0IObGBz916hSfz588eXLdyiEUCmXYsGHFxcVyP5UAAAAAAAAA0EpIQH/s1q1bd/HiRaJts88EQfTq1YtOp+/atSsjI0OSIMvJydmyZcvmzZuFQuHLly+lKTMWizVjxozi4uJ169YlJCQIhUKhUJiQkLBu3bqcnBzZMRXvqTgzM7M5c+akp6cHBgYmJiZKQn306NHy5cvLysoCAgKk1QkkxTeSk5MDAgKkRZ/NzMzmzZsXHx9/9epV6bpsFos1d+5cgiBWr14dGxsrSbCy2eyjR4/u2rVr6tSpLi4uqrufbTBmSUmJXL6+Bezt7SdPnnz58uU1a9ZkZ2eLxWKxWJyWlrZx48bHjx9PmTJFtvKJipiZmdnb2+fk5EjXq/J4vNLS0sTExMjISH9//xEjRkhqdquXrq6ukZERm80Wi8UEQYjFYjabnZube+3ateDg4EGDBoWGhrbgDUChUGbNmuXo6Lh69WrJe4DL5V64cOHw4cObN29ubplygiDMzc1dXV0LCgokcRIEweVyJffz4sWLS5Ys8fDwCAsL8/PzO3HihOJV1xX0999/X7hwYcWKFaampvV2sLW1HTJkyK+//ir3mQcAAAAAAAAAtAZqQH/U1JV9JgjC0dFxzpw5YWFhPj4+su29evV6//59ZGTk5cuXT5061bt3b4IgPD09V65cuXfvXtkg6XS6n5+fXHULxXsqbsKECXl5eWFhYV988YW00cTE5ODBg7LLn58/fx4ZGTlx4kS5lbne3t5jxowJDw93d3d3dnaWNA4YMCA4OHjTpk1yFbc///zz1atXN3dhKaHw/axbdbr1Y0peI9lnhYeHjxs3jiCIESNGfPvtt7q6us29HIIg6HT6woUL3759Gxsbe/v2bdlTU6dOXbBgQQvuUnPp6uoGBwdv27bN2dlZksA1MTGxtLS0s7NzcXHZunWrtbW1hoaG4rsyxsXFLViwoLa2tqEOM2bMaHwETU3N48ePe3p6yjaamZkFBwcHBwfv3LmTIAg6nW5nZ2dkZNS3b99PP/10+fLlpqamLdstkMVibdiw4datWxs3bkxOTmaxWKNHj46KimpZYRYmk7ly5crg4GDp+9DOzk5HR8fZ2dnFxWXZsmX29vbNLT6joMLCwl27dgUFBcn+zMphMBiTJ0/eu3dvRUUFCjQDAAAAAAAAKAsS0B8vNWafCYKg0+nLly+3srI6fPhwTk6OJGU2atSomTNnnj59OioqSq7zwoULXV1dw8PD4+LiRCJRnz595syZM3jw4A0bNsjukKZ4z2aFunLlSnd39/Dw8CdPnkhycEuWLJHLwRUXFxsbG8+bN4/BYMi2M5nMRYsW/fPPP+Xl5dJGSXUOZ2fnkydP3rhxg8Ph2NjY+Pv7+/n5aWlpNRSGnp4enU6vN/Gq4P2sO4impmbXrl2lMWtqajo5OUmyb816jaSGDh26aNGiU6dONZJmlQ2GxWI1VMrZ0NBw7969w4cPj4qKSk5OJgiif//+8+fP9/Lykr3JdDrd0NDQ2Ni47ghyV9cCtra2DV1pC3h6esoVDVeWfv363bhxQxUjMxiMZu2z1zhbW9uffvpJKUM1i4WFRUxMTJPdPDw8JL8VAQAAAAAAAEBZKN/ed5A9XvNZurpCUZ2MjAyCILp3796aQeT2tZMcSv+WkFQJEIlEQqFQIBDw+Xw+n8/lcnk83oABA1oze0NsbW0lD7KzsxvsJF35WGdrPgBoveLi4hUrVixcuHDEiBF1D9uPt2/frlq16ptvvpEsWld6nAKBICQkhE6nb9y4UVn7QwqFwu+++44giDVr1rTBmnc5qriis2fP3rt3b//+/S37ZkB7h39uAAAAAAAAOqC///6byWSyWCwGg8FgMDQ0NOh0Oo1G09bWbtmA3/3eQ/YQCWhFIQH9YSgvL1+wYIEi5ThcXV2PHz9uaGjYBlEBAHwI8M8NAAAAAABAB6TqBDRKcHxEFMpWAwAAAAAAAAAAACgJEtDwcTE0NLx8+bK6owAAAAAAAAAAAPgoUNUdAAAAAAAAAAAAAAB8mLAC+gMhLa9RF8ptAAAAAAAAAAAAgFpgBTQAAAAAAAAAAAAAqAQS0AAAAAAAAAAAAACgEijB0bFlZytQYINCaUZnAAAAAAAAAAAAACVBAhqa43+5bAAA+ACRpLojAAAAAAAAgA8NSnAAAAAAAAAAAAAAgEogAQ0AAAAAAAAAAAAAKoESHNAi+Jo2AMAHA+WVAAAAAAAAQGWwAhoAAAAAAAAAAAAAVAIroAEA2lRycvL27dsTEhLqngoKCgoKCiIIIj8/PzAwMDAw0MfHp+5hXXl5eYGBgampqYqHYWNjs2zZsgkTJtDp9fxDkJycPGfOHA6HI9uor68/efLk5cuXGxoaSlpycnICAwN37Njh7u6uSJwSfD7/1q1bP/zwQ0pKir6+/ujRo5csWWJlZVW3p0AgCAkJIQgiODhYQ0Oj3tFSUlJ27twZHx/f0HRbt26dPXt2s8ZssVu3bkVHR+/fv19XV7feDk3OnpubO3/+/JycnCbnkr5bIiIi4uPjw8LCGpoUAAAAAAAAQI2QgIYOrLKycuXKlYMGDVq8eLGyen5UiouL165dSxDE3r17TU1N1R1OO/L8+fOVK1cePHjQ2dlZuSOz2ezdu3f7+PhER0dTqQ1+B4XH45WVlVVUVNR7WJeVldW1a9cUD0MsFp88eTIsLMzNzc3GxqZuhz59+iQmJso1pqamBgQEdOrUKTAwUNIiEomqqqqEQqGCcRIEweVyQ0JC3rx5891339nZ2fH5/JiYmDlz5oSGhnp6esp1FgqFktGEQmG96Vo2m71z505XV9eoqKh6M+l1NTlma1RUVJSXl0tvSAtm79at271792RbysvLFyxYMGPGjClTptQ7JpvN5nA4jUwKAAAAAAAAoEYowQEdmFAo5HA4bDZbiT0/ABEREfPmzausrGyyZ05OzoMHDx48eKDIcsuPSnV1dW5uLpfLVfrI79+/z8vLMzAwaCT73AaoVGqvXr1EIpFIJFL8WRYWFiYmJlVVVS2elyTJ06dP5+bm7tu3r3v37lQqVUtLa8qUKcuWLduxY0dubm5zB5TcT2trawWzz6qmih8lsVgsSfQrfWQAAAAAAACANoAENMCHRvHlkDY2Nl5eXl5eXvWugQVQuvT09NOnTy9evFh2xT2FQvHx8bGysrp06dIHsIy3S5cumpqaShywvLy8rKyspKREiWMCAAAAAAAAtBkkoAE+XqamplFRUVFRUai/AW2AJMl79+5ZW1u7ubnJndLV1R07duz169fz8/PVEptS8Hi8goICHR0d5Vb2KC4uzs/Pz8rKUsWSfAAAAAAAAABVQwIaAADaQmVl5ePHj11dXfX19euedXR05PP5zdpHsb2pra3Nz883NjZWYgJaKBTev3+fIIjk5OQ3b94oa1gAAAAAAACANoMENKgTSZIpKSmBgYGOjo4ODg6+vr6xsbF8Pr/enk+ePFmwYIGjo6Ojo+OGDRsaWimpeE/F8fn82NjYCRMm2Nraurm5rVixIjU1NT093cfH5/nz55I+coeynj9/7uPjk56eLtsoFosfPHjg7+/v4ODg6OgYGBiYkpJCkmTdy0lJSVm/fr2Hh4etra2jo+OcOXMePHggFovlegoEgi1bttja2oaHhyclJbm7u9va2jZeDFrylO3btwsEgsav3dfX18HBwcHBwd/f/969e3KvUWVl5bx58yIiIiSdp02bJrn5gYGBWVlZDY3cCKFQuHv37m3btkVHR3t4eLi5uZ04caKmpiYyMtLDw8PBwSEoKKi0tLTujVLkvfT8+XMvL6/k5OS4uLg5c+Y4OjqGhoYqWPmBJMnLly9PmDDh7du3Lbiuj1xRUVFWVpazszOFQql71tTU1MbGJikpqe5PQUdRXl5eUlKi3II2r1+/vnnzpre3N51Ov3DhQkNvVOmPvK2t7YEDB5QYAAAAAAAAAEArtYtdm+DjRJLktWvXtmzZwuFwJC0JCQkJCQkrV65cvny57JZiQqEwMjJy79690uRLdHT0kydPduzYITem4j0Vx+Vyv/nmm8uXL0sOORzO9evXHz58OH369IyMjOrqakk7m82WPZRVXV2dkZEhuwWiUCg8dOhQWFiY9PDmzZt3797dsWOHr6+vdHs6kiQvXbr09ddfSy+ntrZWsm3g3Llz16xZw2KxGg9eS0urkc3uhEJhRUWF5EG9azbLy8u3bt0aGxsrbYmPj4+Pj586dWpwcLB0dskej2lpaWvXrpXtfPPmzfT09PDw8O7duzcepxyBQFBYWHjnzh2BQCC59l27dt27dy8+Pl7SITY21sHBITAwUJLKVPy9RBBEdXV1fn5+TEzMpUuXpP0VQZLklStXNm3aNGfOHGNj42ZdURsTCoVVVVWSTG5FRcXbt29FIpHkTfjixYvCwkKhUDh37tw2jqqsrKyiosLCwqLes0wms0uXLkVFRTU1NUwms41jU4rCwsK8vLxHjx6NHDmyyZ9NRXC53PDwcAaDsWHDhhs3bkRGRg4bNszT07NuT1dX1+PHjxsaGrZ+UgAAAAAAAADlwgpoUJukpKQtW7b07dv37t27mZmZWVlZjx49Gj9+/PHjx1NSUv4fe3ce19Sd/Y//BpJA2MFCBBFZVUQRUERwpS64FDuDS4VaEXEQAcHWamVqEESLBbUjrS1aEcFtCpQZwaU4Y+23HbFYixRBVNAIsggqBEgMJJfk90cevzzyCUsvIRCX1/OPPsj7npx7sug85vjmvBUji4qKUlNTXVxccnNz79+/f//+/dzcXCMjo+3bt3O5XNUiKSJJMj09PS8vb+HChT/++OODBw/u3Lmzb98+giCOHDmi8mvPz8//+uuvfX19Za9dVqeLi0tiYuL//vc/eVhtbe0333zj4uJy6tSpioqKhw8fVldXX716NSgo6NSpUydPnlTcK8pgMHbv3v3w4cPw8HA3N7fff//94cOH33zzjcqNMJIkjx07VlBQsHDhQlmd1dXVFy5c8PX1zc7OTk9PV9qMee7cucuXL2/ZsuX69euyN+rjjz/mcrnZ2dmqnSwnFApDQkLKy8vPnz/PZrOvX78eFBRUVlZ28eJFOzu7e/fuCYVCWST175Lc8ePHvby8/vOf/9y/f//TTz9ValL3JPvHAA6Hs2nTpo8//lhXV1eFVzREXrx4ERMTY69g3rx5ISEh69evDwsLy8rK+u2336qqqpycnGbOnLlv377vvvvu8uXLjo6OA70Rn88XCoVWVlaq1dnQ0GBiYmJgYNDrVQaDYWJiUl9f39XVpVp+jSstLWWz2b/88sulS5cGv49bJBIdOXIkPz9/06ZNjo6OH3zwwezZszkcTmlpqVqqBQAAAAAAABge2AENmkGS5MWLF62trffs2SPfEWlpaRkSEvLjjz9WVVW5ubnJFgUCwdmzZy0sLJKTk+UbaT08PJKTk8PDwxV3sFKPpK6+vv7cuXMLFy5MSUkxNDQkCEJXV3fVqlXm5uYbN25Ura/a1NSUmZnp6+ubnJwsG4arpaXl4eFx5MiRmJiY9PR0V1dXExMTgiCePHnC5XJPnTol3/OopaU1ZsyYuLg4sVh86dKlv/71r2w2W4UaqKiurs7LywsICEhISJB3sZ2dnZOSkmJiYnJycpYsWaLYxDQ2Nk5OTp4/f75sV7Kurm5QUNC1a9fu3bv34sULIyOjgRbg7e29adMmPT09BwcHLy+vioqKyMhIAwMDOzs7d3f3hw8fdnV16enpUf8uKVJ6Xf2TdZ937dq1ZcuWkJCQP+1WD1R7e3tERERRUZFqT9fT0zt06NBABy/U1tb2H3Dz5k0Oh6M4OoZOp7/33ntlZWX29vYq1Enlz0t3d7cKrdtPPvnkk08+6fVSfHz8nDlzwsLCqqqqFNeXLVs20Lv0TyAQ/PHHH2vWrJk0aVJiYqKrq+vYsWNVzvbs2bN9+/bl5+dv27btL3/5C41GMzU1jY+P37t378aNGxMTE+fPn9/PLzcAAAAAAAAAvDzwf19BM8Ri8dOnT93d3ZVGGRgYGMh6r3KPHj26efNmQECA0oZNJyenkJAQ1SKpu3HjxuPHjwMDA2XdZ7lp06bNmzdPtZwlJSUPHz4MCwtTOorNwsIiKCjo+vXr8paftrY2nU6vq6tTaskxmczp06e3tbX1OvFDXX788Uc+nx8YGKjUpbWwsNi8eTOPx/v1118V11etWiXvPsuwWCxLS0s+n9/d3a1CAebm5jo6OgRB6OjoWFhYsFgs2b5j2UN5GPXvkqKVK1dS7D5LJJKcnJxdu3bt2rUrNDRU7d1ngiCMjIxOnTr1UMHly5dHjRql9hsp4vP55ubmI0aM6PVqU1NTYmLiokWLqqur5VXdv38/MTExOTl5OOuk4vPPP3/Yh7Vr144ZM6awsFC+UlFRofbuM0EQjY2N9+7dmzp1qo+Pz+zZs48dOybfoT8gIpEoNzd36dKlv//++7FjxzZs2CD/ypmamn722WfR0dExMTEff/zxn/4TAgAAAAAAAMDLADugQTNYLFZSUhKdTmcwGFKptKOjo6am5ubNmwUFBUpnBt6/f7+zs3PGjBk9Dy5zd3dXbJ9Rj6SIJMk7d+44OztPnDhR6ZK+vv6cOXMKCwsHmpMgiMrKSnt7e1tb256X3NzcbG1tf//9dy8vL4IgHB0dvb29d+3axeVyV69ePXr0aPmeR39//wULFqhlzmyvhELh/fv3fXx8xo8f3/Pq+PHjx40bd+fOHbFYLB8era2trfTOyzrFDx8+HKIiZah/l1QgkUhyc3MTEhISEhKWL1/e6+l5ryKhUPjHH3+MHz++r4EYHR0dLS0tVlZWatxmS6V33/Nb9Kr49ddfR40aNW7cODqdvnbt2k2bNl29enXJkiUDSvLixYvY2Njy8vKNGzeuXr1aT09PKYDJZL7//vvz588/evSov7//8ePHp0yZYm1tPXr0aCaTqb5XAwAAAAAAAKA2aECDxrBYrNra2q+//vrcuXP9TH1tbGwcMWKE0mZhmZEjRyqOo6UeSZFYLG5tbbWzs+vZBiIIws7ObqAJCYIQCoW1tbW3b9/29PTsK+bp06ckSdLpdBMTk127dsXGxh45cuTIkSPGxsYLFixYtmzZ1KlTdXV1+2odqkVnZ2dtbe3kyZNle5CVyM6L4/P5ig1oDaL4XRqo7u7uM2fOpKenGxgYCAQCdaUdNnfv3t22bdv+/fvHjRundKmmpqa4uPjvf//7cH58VlZWPB6Pz+f3elUsFvN4vFGjRvX6lXvJCQSCa9euzZgxQ7bp3sbG5r333svKyvL09DQ3N6eeRzZN5U/D2Gw2h8PhcDiyh0FBQUFBQapVDgAAAAAAADDUMIIDNKaoqOjdd9/Nzs7u6upycHAIDg5OT0/Pzc1V+o1+Pp9vZmbW6ywFLS0tbW1tFSJfcq2trWKxWPazvb396dOnT548uWDBgs7Oztzc3LVr186ZM+f48eOdnZ1DXQmLxepn12pdXd1Lcl4cxe/SQGVkZFy6dOm7777btWvXV1999cod/tbW1lZRUcHj8ZTWxWLxmTNnLCwspk2bNpz1mJmZGRkZNTY29npVKBTW1dWx2eyX6oBHiu7evVtdXb1w4ULZQxqNtnDhQoFAcPHixcGfRggAAAAAAADwSsMOaNCMmpqahIQEExOTgwcPzpw5U74Ns7q6WinSwMCgpaWFx+OZmpoqXZJIJIrDhalHatzMmTO/+uoriufy0en0GTNmzJgxgyTJ+vr6S5cunTx5cs+ePXfv3k1ISGCxWENXp1AolO3F7vWqtbX1y7BZlfp3aaBEItEXX3xhYWHh6+v7008/JScnHzp0SHH89CuKTqf7+vouX7586E6w7BWbzXZwcCgvL1+0aFHPORvNzc1cLjcwMPCVG8EhEomys7Pnzp2rOFdn5MiRK1asyM3NXbhwofxsTIoKCgpiYmIoBtPpdNmgHtVOhgQAAAAAAAAYatgBDZpRUlLS0NCwf/9+X1/f/ocAWFpaPn/+vK2treelJ0+eNDQ0qBBJka6uLpvN5nK5vZ71x+VyB5qQIAgWi2VlZfXkyZNe62xtbT18+PCjR49kD//444/Tp0/LjzKj0+ljxowJDw+/evVqVFTUpUuX5McVqp2urq6NjU1DQ0Ove5xlm1UNDAxehvkb1L9LAxURESFrN7NYrI0bNzY3N585c4YkSTXeQiNoNJqvr+/kyZOH+b6GhoZeXl6lpaW9fvkrKyuZTOaECROGuarBu3nzZnFx8fLlyxX/qYZGo82dO1ckEl25cmWgCf39/fs6U7Gn8vLy0aNHp6SkvIpTYgAAAAAAAOBNgAY0aEZVVZWdnZ2Njc2fRo4dO1ZXV/fatWs9f5P91q1bz58/VyGSIhqN5ujoWFlZWV5ernRJIBD8v//3/6gkkUqlNTU1iiuTJk2qrq7uOc9BKpXm5+cfOHCgsrJStnLt2rXMzMxnz54pRTKZTH9/fyMjo6qqqgG8noFgsVhjx44tKiq6e/duz6u3b98uKyubMGHCy9CApv5dGgx7e/tNmzZlZmYWFRUN6Y1eYzQazc/Pr76+/tatW0qXOjo6Lly4sHTp0kFOTenHEP3LAY/HO3LkyOrVq3sO2raxsVm2bFlOTk5TU9NQ3FqGyWQaGRk1NTWJRKKhuwsAAAAAAACAytCABs2wsbHhcrm1tbWKixKJpKSkRKlZY2trO3Xq1Ly8PKWJClVVVRkZGapFUjdt2rTRo0efPXu2o6NDcf3GjRtKGxt1dHT09fVv3ryp2P6WSqX//e9/k5KSFCM9PDwmTZp09OhRpWG41dXVWVlZs2bN8vb2lq04Ozs/evSo11ESdXV1T58+7WdA8+C9/fbbBgYGZ8+eVdpZ2dzcnJaWxmazp0+fPnR3p476d2kwaDTa4sWLZ8+evXfvXqV/UXgDSSQS1fq5Dg4Oq1evPnr0aHNzs3xRKpUWFhbW1tYqbSKmQltbu//x7iRJFhcXh4aGrlu3rr29XYWa+0+elZUlEokCAgJ6Tg6h0Wjz5s1rbm6+ceOGeu8LAAAAAAAA8ApBAxo0w8XFhU6n79u3r6qqStbM4nK5cXFxO3fuJEny7t278vaWvr5+YGBgc3Pz9u3bS0pKSJIkSbKkpGT79u1KQzCoR1JnY2OzcuXKy5cvb9u27dGjR1KptLOzMzs7+6OPPlKa62pra+vq6nrs2LGcnJzOzk6pVNrU1HTo0KHIyEilVh2bzQ4ODr53715ERMStW7dkL//atWtRUVEtLS0bN26Un6N2G9zwAAAgAElEQVTo6urq6ekZFxf3ww8/yHtn7e3tOTk5O3bsGD16tIeHR69lP336tK+j3qhzdHQMCAjIy8vbunXrw4cPJRKJRCKprKyMjY0tLi5euXKl4sRbDaL+XRokfX39yMjIFy9eHD58WD4XZaDYbLajoyOXy5XvVxUKhc+fP79161ZGRsb777+/YMGCl6HBbWhoaGZmxuPxJBIJQRASiYTH49XU1Jw/f57D4Xh7e+/du1eFN5ZGo33wwQfOzs4ffvih7PMSCAQ5OTmHDx/euXPnmDFjBppw5MiRbm5uDQ0NsjoJghAIBLL3Mzc3Nzw83MvLKzU1NSgo6Pjx4xSnrlN348aNnJyczZs39zUZ3N7efvbs2RcvXsR8DAAAAAAAAHhj4RBC0AxnZ+fg4ODU1FQ/Pz/FdRcXl2fPnmVkZOTl5WVlZU2aNIkgCB8fn+jo6JSUlBUrVsgj6XR6UFCQ0iAL6pEUyfpl1dXVeXl5ly9flq/7+/svWrQoMjJSvmJiYhIZGRkZGbljx44dO3bI12fNmhUQEPDhhx8qpl22bFltbW1qaury5cvli+bm5l9++aV8+zNBECNGjEhMTNy6dWtERIRSYTo6Op988kmvcyecnZ3T0tLeeecdgiAWLFiwf/9+Q0NDFV47nU7fsGFDXV1dQUGB4msnCGLVqlWhoaFDuv+augF9lwbJyclp8+bNO3funD59ekBAgAoZDA0NORxOQkLCxIkTZQ1cc3NzKysrBweHyZMnx8fH29raMhgM6icoFhUVhYaG9jqqWyYwMLD/DDo6Ounp6T4+PoqLbDabw+FwOBzZ/n06ne7g4GBmZubh4TFnzpyoqCgLCwvVTgvU19ffsWNHYWFhbGxsWVmZvr7+4sWLMzMzVRuiwmKxoqOjORyOo6OjbMXBwcHAwGDixImTJ0+OjIx0dHQcooM6Gxsb9+3bFxMTo/hnVgmTyQwICEhJSWlvb9fX1x+KMgAAAAAAAABeci9F/wjeQHQ6PSoqysbG5vDhw1wuV9beWrRo0Zo1a06ePJmZmakUvGHDBjc3t7S0tKKiou7ubldX1+Dg4JkzZ+7YsUO+X3hAkdTp6+t/9tlnc+bM+fbbb8vLyy0tLUNDQ4OCgv744w+lSB8fn3Pnzh04cODnn39ua2sbP378ihUrVq9e3dTU9O67744cOVKxzujo6ClTpqSlpf3222+yHlx4eHjPHpy9vf3p06f/+c9/5ubmysYxjx49esGCBWvXru2rYff222//7W9/y8rK6qcpKS/DyMhIX1+/r1HOpqamKSkp8+fPz8zMLCsrIwjC09Nz/fr1s2bNYjKZinlMTU3feuutnhl0dHRGjx6tGEyFrDA6nS7vcSvl0dHRmTBhgqyjN6DvEkEQenp6Y8aM6b8bqKen5+Tk1PMLIxvE8csvv9TV1ZEkqVoL3t7evmdVKvPx8ZEPDVevqVOnXrp0aSgyy4aY+/v7qyWb7M+IWlINiKWlZX5+/p+GeXl55ebmDkM9AAAAAAAAAC8n2v6rYxUfb517T1OlDB3ZQW1OTk6DSaJ0rp3sofy/MrIZBd3d3SRJisVikUgkEokEAoFQKJw2bdpg7j4o8l2KPY7m02SqV19xcXFgYODZs2e9vLw0XQu8bpqbmzdv3rxhw4YFCxb0fPjyqKur27Jly65du2QbzNVep1gsTkxMpNPpsbGx6jrxkiTJAwcOEASxdevW4d/FPxSv6MyZM1euXPnHP/6h2u86EIT6/m7H/0YAAAAAAAC8gm7cuMFisfT19ZlMJpPJZDAYdDpdW1tbT09PtYQHfhqn+BANaKrQgFZzKg1pbW0NDQ2lMo7Dzc0tPT3d1NS0rwA0oAdEje88AKgZGtAAAAAAAABvsKFuQOMQQgAAAAAAAAAAAAAYEpgBDW8WU1PTvLw8taQyMTFxcnJS+d+C3jRqfOcBAAAAAAAAAOBVgQY0gIrGjRtXWFio6SoAAAAAAAAAAABeXhjBAQAAAAAAAAAAAABDAg1oAAAAAAAAAAAAABgSaEADAAAAAAAAAAAAwJBAAxoAAAAAAAAAAAAAhgQa0AAAAAAAAAAAAAAwJOiaLgBeZTSapisAgJeVVKrpCgAAAAAAAABA87ADGgAAAAAAAAAAAACGBBrQAAAAAAAAAAAAADAkMIID1AG/a//SKCsr2717d0lJSc9LMTExMTExBEHU19dHRERERET4+fn1fNhTbW1tRETEnTt3qJdhZ2cXGRm5bNkyOr2Xv2TKysqCg4Pb2toUF42NjQMCAqKiokxNTWUrXC43IiJiz549U6ZMoVKnjEgkKiws/Pbbb8vLy42NjRcvXhweHm5jY9MzUiwWJyYmEgTB4XAYDEav2crLy5OSkq5fv97X7eLj49euXTugnCorLCzMzs7+xz/+YWho2GvAn969pqZm/fr1XC73T+8l/7YcPXr0+vXrqampfd1UGSbzAAAAAAAAAIACNKDhFdbR0REdHe3t7R0WFqauyKG4+7Dh8Xiff/65n59fdna2llafv98gFApbWlra29t7fdiTjY3N+fPnqZchkUhOnDiRmprq7u5uZ2fXM8DV1fXWrVtKi3fu3Nm4ceOIESMiIiJkK93d3Xw+nyRJinUSBCEQCBITEx8/fnzgwAEHBweRSJSfnx8cHLx3714fHx+lYJIkZdlIkuy1Xcvj8ZKSktzc3DIzM3vtpPf0pzkHo729vbW1Vf6GqHD3MWPGXLlyRXGltbU1NDQ0MDBw5cqVvebk8XhtbW393BQAAAAAAAAAoB8YwQGvMJIk29raeDyeGiOH4u79OHr0aEhISEdHh1pKevbsWW1trYmJST/d52GgpaXl4uLS3d3d3d1N/VmWlpbm5uZ8Pl/l+0ql0pMnT9bU1HzxxRdOTk5aWlq6urorV66MjIzcs2dPTU3NQBPK3k9bW1uK3eehRmXn8kBJJBJZo1/tmQEAAAAAAAAACDSgATQL20vV6N69eydPngwLC7OwsJAv0mg0Pz8/Gxub77///jV4n62trXV0dNSYsLW1taWl5enTp2rMCQAAAAAAAAAghwY0ALwOpFLplStXbG1t3d3dlS4ZGhouXbr0woUL9fX1GqlNLYRCYUNDg4GBgXonezQ3N9fX1z948EAgEKgxLQAAAAAAAACADBrQAPA66OjoKC4udnNzMzY27nnV2dlZJBIN6BzFl01XV1d9ff1bb72lxgY0SZJXr14lCKKsrOzx48fqSgsAAAAAAAAAIIcGNGiSVCotLy+PiIhwdnYeO3bsihUrCgoKRCJRr5G//fZbaGios7Ozs7Pzjh07+trNSj1yQHVSzCkSiQoKClasWDF27NixY8e+//77V65c6fmKxGJxXFycvb19WlpaaWnplClT7O3t1TgM+g3U1NT04MGDiRMn0mi0nlctLCzs7OxKS0ulUunw16YWra2tT58+7fVQR5U9evTohx9+8PX1pdPpOTk5fY0okX9F7e3tDx06pMYCAAAAAAAAAOC191KcrAVvJqlUev78+bi4uLa2NtlKSUlJSUlJdHR0VFSU4rFvJElmZGSkpKTIG2TZ2dm//fbbnj17lHJSj6SOes7W1tb4+PiCggL5yvXr169fv75q1SoOh6Ovr9//jXR1dTV7eCBFJEny+XxZJ7e9vb2urq67u7uqqorH41VUVDQ2NpIkuW7dumGuqqWlpb293dLSsterLBbL2tq6qamps7OTxWINc21q0djYWFtbe+3atYULF/7pd4kKgUCQlpbGZDJ37Nhx6dKljIyMefPm+fj49Ix0c3NLT083NTUd/E0BAAAAAAAA4E3zCnS74HVVWloaFxfn4eHx3//+t7q6+sGDB9euXfP3909PTy8vL1eMLCoqSk1NdXFxyc3NvX///v3793Nzc42MjLZv387lclWLpI5iTpIkjx07VlBQsHDhQtkrqq6uvnDhgq+vb3Z2dnp6uuL2UgaDsXv37ocPH4aHh7u5uf3+++8PHz785ptv1NJYVK8XL17ExMTYK5g3b15ISMj69evDwsKysrJ+++23qqoqJyenmTNn7tu377vvvrt8+bKjo+NAb8Tn84VCoZWVlWp1NjQ0mJiYGBgY9HqVwWCYmJjU19d3dXWpll/jSktL2Wz2L7/8cunSpcHv4xaJREeOHMnPz9+0aZOjo+MHH3wwe/ZsDodTWlqqlmoBAAAAAAAAAGSwAxo0gyTJixcvWltb79mzR75r1dLSMiQk5Mcff6yqqnJzc5MtCgSCs2fPWlhYJCcnOzk5yRY9PDySk5PDw8Plu6cHFEkd9ZzV1dV5eXkBAQEJCQnyPrKzs3NSUlJMTExOTs6SJUtUaMsOXnt7e0RERFFRkWpP19PTO3To0EAHL9TW1vYfcPPmTQ6Hc+/ePfkKnU5/7733ysrK7O3tVaizr/ERirq7u1Vo3X7yySeffPJJr5fi4+PnzJkTFhZWVVWluL5s2bKB3qV/AoHgjz/+WLNmzaRJkxITE11dXceOHatytmfPnu3bty8/P3/btm1/+ctfaDSaqalpfHz83r17N27cmJiYOH/+/FdiMz4AAAAAAAAAvPzQgAbNEIvFT58+dXd3f+uttxTXDQwMTExMFFcePXp08+bNdevWKXVvnZycQkJC4uLiVIikjnrOH3/8kc/nBwYGKu1itrCw2Lx588aNG3/99VeNNKCNjIxOnTqluFJdXR0SEjKkN+Xz+ebm5iNGjOj1alNTU2Ji4qJFiy5cuNCz0ZmcnDxsdVLx+eefr1y5sp+AwsJC+c9CoTA2NlbtNTQ2Nt67d2/9+vVTpkyZPXv2sWPHEhISVJglIhKJ8vPzU1JS9PT0jh07NmvWLPnIbFNT088++ywnJycmJmbx4sVbtmyxsbFR9+sAAAAAAAAAgDcO9riBZrBYrKSkJA6Hw2AwpFJpe3v77du3MzIytm/frnS+3/379zs7O2fMmNHzcDl3d3fFFif1SOoo5hQKhffv3/fx8Rk/fnzPJOPHjx83btydO3fEYrEKNbxyhELhH3/8MX78+L4GYnR0dLS0tFhZWalxm63i0PC+aGtr93pE4cvv119/HTVq1Lhx4+h0+tq1a8vLy69evTrQJC9evNi2bds333yzcePGCxcuzJ49W+ndYDKZ77///k8//WRqaurv7//7778TBGFtbT169Ggmk6m2FwMAAAAAAAAAbxLsgAaNYbFYtbW1X3/99blz5/qZzNvY2DhixAhjY+Oel0aOHKk4Mph6JHUUc3Z2dtbW1k6ePFlHR6dnpOwEPD6fLxaLGQyGCmW8hO7evbtt27b9+/ePGzdO6VJNTU1xcfHf//734XyxVlZWPB6Pz+f3elUsFvN4vFGjRvX6Ab3kBALBtWvXZsyYIfvlABsbm/feey8rK8vT09Pc3Jx6Htk0lT8NY7PZHA6Hw+HIHgYFBQUFBalWOQAAAAAAAAAAdkCDxhQVFb377rvZ2dldXV0ODg7BwcHp6em5ubmjRo1SDOPz+WZmZkpzOWS0tLS0tbVViKRuQDlZLFY/+3Dr6upe3RPwempra6uoqODxeErrYrH4zJkzFhYW06ZNG856zMzMjIyMGhsbe70qFArr6urYbLauru5wVqUWd+/era6uXrhwoewhjUZbuHChQCC4ePHi4E8jBAAAAAAAAAAYUtgBDZpRU1OTkJBgYmJy8ODBmTNnyrfKVldXK0UaGBi0tLTweDxTU1OlSxKJpLu7W4VI6gaUUygUkiTZVw/a2tr6Vdx+O1B0Ot3X13f58uVsNns478tmsx0cHMrLyxctWtRzzkZzczOXyw0MDHzlRnCIRKLs7Oy5c+fa2trKF0eOHLlixYrc3NyFCxfKz/CkqKCgICYmhmIwnU739vbetWuXaidDAgAAAAAAAACgAQ2aUVJS0tDQcOLEiSlTpvQfaWlp+fz587a2tp6Xnjx50tDQoEIkdRRz6urq2tjYNDQ0dHV19WxAy7bfjh079rWZv9EPGo3m6+s7/Pc1NDT08vIqKipqa2vruWO9srKSyWROmDBh+AsbpJs3bxYXF6elpSl+r2g02ty5c8+cOXPlypU1a9YMKKG/v7+/vz/FYJFItHv37pSUlP379yudrgkAAAAAAAAAQAVGcIBmVFVV2dnZ2djY/Gnk2LFjdXV1r1271nPawK1bt54/f65CJHUUc7JYrLFjxxYVFd29e7dnktu3b5eVlU2YMOFNaEBrCo1G8/Pzq6+vv3XrltKljo6OCxcuLF26VGm6ixqRJDkUaXk83pEjR1avXt1z0LaNjc2yZctycnKampqG4tYyTCbTyMioqalJJBIN3V0AAAAAAAAA4DWGBjRoho2NDZfLra2tVVyUSCQlJSVKDTVbW9upU6fm5eUpTeeoqqrKyMhQLZI66jnffvttAwODs2fPCgQCxfXm5ua0tDQ2mz19+nTVanjTSCQS1fq5Dg4Oq1evPnr0aHNzs3xRKpUWFhbW1tYuX768nwndvdLW1u5/dDhJksXFxaGhoevWrWtvb1eh5v6TZ2VliUSigICAnpNDaDTavHnzmpubb9y4od77AgAAAAAAAACoERrQoBkuLi50On3fvn1VVVWyhiOXy42Li9u5cydJknfv3pW3IPX19QMDA5ubm7dv315SUkKSJEmSJSUl27dv53K5ijmpR1JHPaejo2NAQEBeXt7WrVsfPnwokUgkEkllZWVsbGxxcfHKlSsVZ/gqevr0aV9H5w0Um812dHTkcrny/apCofD58+e3bt3KyMh4//33FyxYUFNTo5Z7DYahoaGZmRmPx5NIJARBSCQSHo9XU1Nz/vx5Dofj7e29d+9eFXrQNBrtgw8+cHZ2/vDDD2XfK4FAkJOTc/jw4Z07d44ZM2agCUeOHOnm5tbQ0CCrkyAIgUAgez9zc3PDw8O9vLxSU1ODgoKOHz9uZGQ00Pz9u3HjRk5OzubNmy0sLHoNsLe3nz179sWLF5X+zQMAAAAAAAAA4OWBGdCgGc7OzsHBwampqX5+forrLi4uz549y8jIyMvLy8rKmjRpEkEQPj4+0dHRKSkpK1askEfS6fSgoKDS0lLFp1OPpI5iTjqdvmHDhrq6uoKCgsuXLytmWLVqVWhoaK/bb52dndPS0t555x2CIBYsWLB//35DQ0PV6iQIwtDQkMPhJCQkTJw4UdbANTc3t7KycnBwmDx5cnx8vK2tLYPB6HnSY1+KiopCQ0O7urr6CggMDOw/g46OTnp6uo+Pj+Iim83mcDgcDicpKYkgCDqd7uDgYGZm5uHhMWfOnKioKAsLC9VOC9TX19+xY0dhYWFsbGxZWZm+vv7ixYszMzOpDHvpicViRUdHczgcR0dH2YqDg4OBgcHEiRMnT54cGRnp6OjIYrFUyPynGhsb9+3bFxMT4+3t3VcMk8kMCAhISUlpb2/HgGYAAAAAAAAAeDmhAQ2aQafTo6KibGxsDh8+zOVyZS3IRYsWrVmz5uTJk5mZmUrBGzZscHNzS0tLKyoq6u7udnV1DQ4Onjlz5o4dOxRPnKMeOaBSKeY0NTVNSUmZP39+ZmZmWVkZQRCenp7r16+fNWsWk8nsNfnbb7/9t7/9LSsrq58m74DY29srvXuD4ePjU1lZqa5siqZOnXrp0qWhyMxkMgd0zl7/7O3tT58+rZZUA2JpaZmfn/+nYV5eXrm5ucNQDwAAAAAAAACAatCABo2h0+kBAQEBAQFK61u2bNmyZYvSIo1G8/T09PT0VFo/cuSIypHUUc850O6nvr5+bGxsbGysyrWpwMjIyMrKSt46V3r48tDV1WWz2Xp6erKHaq+TTqcbGRnR6fSBzobuB4PBsLS0lP2grpzUDcUrsra2NjU1VWNCAAAAAAAAAHij0PZfHav4eOvce5oqZehUVVURBOHk5DSYJFKptOdD+X9lZGN/u7u7SZIUi8UikUgkEgkEAqFQOG3atMHcfVDkowz+70tQQyo1Zh4ura2toaGhVMZxuLm5paenm5qaDkNVAK+PV/CvBVDbp4ZPHwAAAAAA4BV048YNFoulr6/PZDKZTCaDwaDT6dra2vJNgQN14Kdxig9xCCEAAAAAAAAAAAAADAn8VjUMI5WOlVMvU4LIoxjK5RL/+teQFvOqwt5GAAAAAAAAAACgBjugAQAAAAAAAAAAAGBIoAENAAAAAAAAAAAAAEMCIzhAEzDD4VX0EkxQAQAAAAAAAACAVwt2QAMAAAAAAAAAAADAkEADGgAAAAAAAAAAAACGBBrQAAAAAAAAAAAAADAk0IAGAAAAAAAAAAAAgCGBBjQAAAAAAAAAAAAADAk0oAEAAAAAAAAAAABgSKABDW+Wy5cv//zzz5quAgAAAAAAAAAA4I2ABjRoXk1Nzbx58+x7U1BQoBR89OjRkJCQjo4OFW7U1dV1+fLlH374QSwWD6ZggUAQExNz9OjRfmLEYnFcXFxcXFz/9yorK3N3d1d8ye7u7mVlZfKAf/3rX4GBgTweT/awrq7O39+/sLBwMPUDAAAAAAAAAAAMD7qmCwAgxowZc+XKFYrBPB6vra2NJEkVbiSRSMj/H4PBUCGDjEgkevz48ahRo/qJIUmyvb1d9kM/93J1db1161b/ebq6uqRSqexhZ2cnj8eTZe6LWCxOTEyk0+mxsbGDeZkAAAAAAAAAAACDhAY0vEFevHjB5XJlP7BYLJXzPH/+/OnTp5MmTVJfaepEsfcNAAAAAAAAAAAw1NCABo1pbGwMDw+/ffv2n0bq6OgcPHhw8eLFg7xjdXV1ZWWl7IcRI0aonKeyspLJZE6YMEHlDFReu5eX1zfffKPyLQAAAAAAAAAAADQODWjQGEtLy3Pnzg3b7YRC4dmzZzds2CAUCs+cOTNx4kR9fX0V8ggEgosXL3K53KSkpL///e82NjYqJBnm1w4AAAAAAAAAAKAROIQQ3ghSqfTChQtPnz5dt27dpk2bnj17dunSJflg5QG5cePGzz//vGHDhtbWVj8/vzNnzqg2kBoAAAAAAAAAAOC1hx3QoHkikaioqOi77767c+fO48ePCYLQ0dFxdnaeM2fO8uXLra2tleJLS0unTJki+zkmJiYmJqb//CRJ/vOf/zx9+nRqaqqFhQVBEPHx8dHR0Z2dnatXr6bTB/CnoLm5+ejRo0uXLv3www+1tbWzsrISExOrq6u3bt2q2n7qurq6s2fPXr58+cGDBwRBODg4LFy4MDAwsOerBgAAAAAAAAAAeOWgAQ0a9vDhw61btzKZzIiIiMmTJxsbG9NoNJIk6+vr8/LyFi9eHB0dHRISotgmdnNzS09PNzU1pZK/qanpyy+/5PF4J06cYLPZskUnJ6cTJ04kJib+73//oz5GgyTJzMzMlpaWffv2yc4wDA0NHTNmzPbt29vb2xMSEgbagy4qKoqJiXn//fdPnTol64w/efIkLS1t5cqVBw4c8PHxkYUpNtwBAAAAAAAAAABeIWhAgybxeLyEhAQHBwel7i2dTh8zZsyHH37o5eUVExMzatSoJUuWUE8rlUrb2tru3bv3r3/9q6KiYuvWrbNnz9bS+j8DZ9hsdmpq6s8//xweHm5jY/Pee+9NnjzZ1NSURqP1mpMkya+//jo7O/vQoUNjxoyRLdJotAULFhw+fDgyMtLa2joqKor6fuqWlpaDBw8uW7ZM8VmWlpaffvppZ2dnWlraxIkTjYyMiP/bcK+urg4JCaGSn06nK71kAAAAAAAAAACAYYb+FGjSs2fPHj586OXl1dfeYWdn59GjR5eXl1PPWVRU5Orqunbt2l9//XX9+vXnzp2bO3dur61YLS2tuXPn5ufnR0dHX7t27b333nN1dS0tLe0ZKRKJDh8+fPLkybi4OG9vb6Wr3t7en3766bfffvvvf/+b+lzplpaWpqam8ePHK/WsmUzm1KlTuVxuc3MzxVS9srCw0NHRGUwGAAAAAAAAAACAQcIOaNCkt956y97evri4eMmSJb32oCsrKx8/frxhwwbqOX18fG7fvk09nk6nT5gwYcKECTt37uw14Pnz57t27bp27VpycvL8+fN7bpGm0Wh/+ctf6urqvvrqqylTptjZ2cnSyvYv97Un2szMjM1mP3r0iCRJxRiSJO/evWtnZycbyqECFotlZWWl2nMBAAAAAAAAAADUCA1o0CQTE5Ndu3bFxsauX78+IiLC3d1d1rSVz4A+ceJETEzMwoUL5U+xtrYePXo0k8kctiIbGxtfvHiRmZnp6uraVwydTg8PD1+6dKl8OgeDwdi9e3c/ac3MzD766KOtW7cyGIzAwEDFGdA//fTT/v37ZW+FyszNzQfzdAAAAAAAAAAAgMFDAxo0zN7e/uTJk7/99lt+fn5cXNzjx48JgtDR0XF1dfXz8/vhhx8sLS0V44OCgoKCgoazwokTJx4/fvxPw3R1dZ2cnAaU2cfHJycn5+zZs2vWrHnw4AFBEOPHj1+yZMn333//1ltvyWKMjIxMTU2pj5aWodPpBgYGA3oKAAAAAAAAAACA2qEBDZrHZDJnzJgxY8aMwaf6/fff16xZ09XVpXIGHR2d9PR0Hx8fpfX29vaIiIiioiLqqby9vRMTE+3t7fuJsba23rZt27Zt2/oK8PPz8/Pzkz+0tLT09/d3c3Pr/9ajR48eaM8aAAAAAAAAAABA7dCiAs17+PAhh8O5fv06lWBvb+/4+Pi+9hpPmTKlsrKyr+cKhcLY2FiCIJKSklgs1oCKNDIyOnXqFPV4Ho+3devWY8eOJSQkMBiMAd2rH/r6+tu3b6cSiTHQAAAAAAAAAACgcWhAg4aJxeJjx47p6uqWlJSYmJj0HywSiXbv3n3w4MH9+/f3emjhy0NHR8fQ0PDFixckSf5pA1osFpeVlV2/fr2kpKSxsfHBgwckScqvOjg4mJiYeHh4TJ8+ferUqYaGhn96d0NDQ21t7cG+BgAAAAAAAAAAgMFBAxo0jCTJFy9eODo6Ghsb/2kwkxaaekkAACAASURBVMk0MjK6c+eOSCR6yRvQXV1dHR0dbDa7/1EYJEn++9///uKLL3x8fPz8/AICAgwMDAwNDWk0mjxGIBAIBIL79+9fvXp1x44d77zzTlRUlKmpaT9pFy1apLZXAgAAAAAAAAAAoCo0oOGloK2trdhyfTn99NNPn376aWNjI8V4T0/PTz/9tP/tz//85z+PHDny1Vdfubu79xWjr6+vr69vYWExc+bMsLCw2NjYpKSkhISEgU4RAQAAAAAAAAAAGGZoQANQ0t7efvz4cV9f37i4OCaTqZacQqHw5s2bU6ZMGT9+PMWnsNnsxYsXHz58+MmTJ3Z2dr3GNDc3y041TElJsbCwUEupAAAAAAAAAAAAKtDSdAEABEEQ3d3dUqlU01X0p7u7m8/nGxkZqav7TBAEi8WaOnXq77//fufOHYovv7GxMS8vb9q0aSNHjuwrhsvl/vLLL7/88guXy1VXqQAAAAAAAAAAACrADmjQMDqdrqenV11d3dbWRuUQwvb2dnNzczV2gSnS1tY2MDDg8/kkSfY/1nlAVq9eraurGxUVNWHChL/+9a+TJk0yNTXtZwb0+fPnZTOg+5m/YWdnN2vWLNkP6qoTAAAAAAAAAABABWhAg4YxGIyQkJCtW7d6eHhQiR83blxiYqJqJxDS6XQjIyN9ff3+5zL3ysjIaNOmTR9//PGpU6eoP0tHR+fgwYOLFy/up6QVK1a8++67FRUVxcXFeXl5jY2NDx48IElSHuPg4GBiYuLh4eHr6/vRRx/96Wu3sLDIzMykXiQAAAAAAAAAAMAQoe2/Olbx8da59zRVytCpqqoiCMLJyWkwSZQmJMgeyv8rI5FIJBJJd3c3SZJisVgkEolEIoFAIBQKp02bNpi7D4p8L+3gZ1wopRpoZjVWAsMPHx9Qge/Jq0hdnxo+fQAAAAAAgFfQjRs3WCyWvr4+k8lkMpkMBoNOp2tra+vp6amW8MBP4xQfYgY0AAAAAAAAAAAAAAwJNKABAAAAAAAAAAAAYEigAQ0AAAAAAAAAAAAAQwINaAAAAAAAAAAAAAAYEmhAAwAAAAAAAAAAAMCQQAMaAAAAAAAAAAAAAIYEGtAAAAAAAAAAAAAAMCTomi4A3kg0mqYrAAAAAAAAAAAAgCGHHdAAAAAAAAAAAAAAMCTQgAYAAAAAAAAAAACAIYERHDCMpFJNVwAAAAAAAAAAAADDBzugAQAAAAAAAAAAAGBIYAc0wGulrKxs9+7dJSUlPS/FxMTExMQQBFFfXx8REREREeHn59fzYU+1tbURERF37tyhXoadnV1kZOSyZcvo9F7+kikrKwsODm5ra1NcNDY2DggIiIqKMjU1la1wudyIiIg9e/ZMmTKFSp0yIpGosLDw22+/LS8vNzY2Xrx4cXh4uI2NTc9IsVicmJhIEASHw2EwGL1mKy8vT0pKun79el+3i4+PX7t27YByUldQUCD7yAbq0KFD/v7+vV7i8XibNm0qLi6mns3Ozu6jjz5asmQJDceHAgAAAAAAAMAAoQENr7COjo7o6Ghvb++wsDB1RQ7F3YcNj8f7/PPP/fz8srOztbT6/P0GoVDY0tLS3t7e68OebGxszp8/T70MiURy4sSJ1NRUd3d3Ozu7ngGurq63bt1SWrxz587GjRtHjBgREREhW+nu7ubz+SRJUqyTIAiBQJCYmPj48eMDBw44ODiIRKL8/Pzg4OC9e/f6+PgoBZMkKctGkmSvzWIej5eUlOTm5paZmdlrJ72nP805IP7+/r32kQUCwUcffUQQxMGDB/X19QeU08TE5OzZs9TjZZ9mSkrKhAkTev00AQAAAAAAAAD6gREc8AojSbKtrY3H46kxciju3o+jR4+GhIR0dHSopaRnz57V1taamJj0030eBlpaWi4uLt3d3d3d3dSfZWlpaW5uzufzVb6vVCo9efJkTU3NF1984eTkpKWlpauru3LlysjIyD179tTU1Aw0oez9tLW1pdh9HjZcLresrKysrIzL5Q71vVT7NAEAAAAAAAAAZNCABtAkHo/X1tYm3+QLg3Hv3r2TJ0+GhYVZWFjIF2k0mp+fn42Nzffff/96vM+tra2HDx82NDQ0NDQ8evToYFr2AAAAAAAAAABDDQ1oAHgdSKXSK1eu2Nrauru7K10yNDRcunTphQsX6uvrNVKbGtXX13/88cfl5eV79+5NTk6uqKiIiYl5DV4XAAAAAAAAALyu0IAGgNdBR0dHcXGxm5ubsbFxz6vOzs4ikWhA5yi+bDo6Oo4dOxYQEMBgME6fPu3p6enm5paVlcVgMAICAk6fPq2uQS5KJBJJRUWFtra2trb2UOQHAAAAAAAAgNfbyzXYFN40Uqm0oqLi66+/vnr1and3t6ura3BwsJ+fH5PJ7Bl58+bNtLS0oqIigiDefffdzZs36+np9ZqTYuSA6qSYUyQSFRYWZmZmlpWVEQTh6em5fv36WbNmKb0isVicmJh46tQp2cMpU6YQBDFnzpzU1FRDQ8PBlPrGampqevDgQWBgII1G63nVwsLCzs6utLR00aJFvQa8nCQSSVtbW0VFRX5+/n/+858JEyYcOnRo2rRp8hnfo0aN+vrrr2/cuPHll1/u2bPnnXfeWbJkyaRJk8zMzPqaAy6VSi9evHjw4EHq86MtLS23bt06evRo9bwqAAAAAAAAAHiToAENGiOVSs+fPx8XF9fW1iZbKSkpKSkpiY6OjoqKUjz2jSTJjIyMlJQU+Qzf7Ozs3377bc+ePUo5qUdSRz1na2trfHx8QUGBfOX69evXr19ftWoVh8PR19fv/0a6urqaPTyQIpIk+Xy+VColCKK9vb2urq67u7uqqorH41VUVDQ2NpIkuW7dumGuqqWlpb293dLSsterLBbL2tq6qamps7OTxWINc22quXr1akREhLW19eTJk+fNm7dt2zZzc3PZJZIkP//8866uLg6Hw2Awpk+fPn36dB6PV1xcfOHChc8++6yuri49Pd3Hx6dn2kePHqWkpISFha1evfqV+L4BAAAAAAAAwCsNDWjQmNLS0ri4OA8Pj08//dTW1pZGoz158mTfvn3p6elz5851c3OTRxYVFaWmprq4uHA4HFdXV4IgysrKEhMTt2/fzufzp0+frkIkdRRzkiR57NixgoKChQsXbt++3dbWliCIe/fu7d+/Pzs728rKKiIiQt5VZzAYu3fv3r17d3Jy8q+//pqenm5qaqri+zjEXrx4ERsbq9hVHz16tJmZGUEQdDrd1dVVdhqek5OTjo7OBx98oKura2hoeOPGjYHeiM/nC4VCKysr1epsaGgwMTExMDDo9SqDwTAxMamqqurq6npVGtC+vr6VlZW9XhKLxU+fPiUIgiRJBoMhWzQxMfHz8/Pz8+s/bXd3d3d3t4ODA7rPAAAAAAAAADAM0IAGzSBJ8uLFi9bW1nv27JHvWrW0tAwJCfnxxx+rqqrkDWiBQHD27FkLC4vk5GQnJyfZooeHR3Jycnh4uHz39IAiqaOes7q6Oi8vLyAgICEhQb7Z2dnZOSkpKSYmJicnZ8mSJY6OjirUMEjt7e0RERGy4SEq0NPTO3To0KFDhwb0rNra2v4Dbt68yeFw7t27J1+h0+nvvfdeWVmZvb29CnXK96f3o7u7W7Zxe0A++eSTTz75pNdL8fHxc+bMCQsLq6qqUlxftmzZQO8CAAAAAAAAAPBaQgMaNEO2hdPd3f2tt95SXDcwMDAxMVFcefTo0c2bN9etW6fUvXVycgoJCYmLi1MhkjrqOX/88Uc+nx8YGKg0asPCwmLz5s0bN2789ddfNdKANjIykg+blqmurg4JCRnSm/L5fHNz8xEjRvR6tampKTExcdGiRRcuXOi5Dzc5OXnY6qTi888/X7lyZT8BhYWF8p+FQmFsbOzQFwUAAAAAAAAA8GpAAxo0g8ViJSUl0el0BoMhlUo7Ojpqampu3rxZUFBQX1+vGHn//v3Ozs4ZM2b0PDvO3d1dscVJPZI6ijmFQuH9+/d9fHzGjx/fM8n48ePHjRt3584dsVgsH5jwGhMKhX/88cf48eP7GojR0dHR0tJiZWWlxikQikPD+6Ktrf0KnUA4RLS1tbW1tR88eODp6YkpHAAAAAAAAAAw1NCABo1hsVi1tbVff/31uXPnurq6+gprbGwcMWKEsbFxz0sjR45UHBlMPZI6ijk7Oztra2snT56so6PTM1J2Ah6fz3+dGtB3797dtm3b/v37x40bp3SppqamuLj473//+3C+WCsrKx6Px+fze70qFot5PN6oUaN6/YBeQkVFRaGhof38uZDJz8/v65KOjk6v5xCOHj06MjLys88+27lzJ/V6jI2NMzMzZTPQAQAAAAAAAACoQwMaNKaoqCgyMlI2RtnBwWHmzJmzZ882NjaOiYlRDOPz+WZmZkpzOWS0tLS0tbVViKRuQDlZLFY/+3Dr6uq6urr09PRUKOMl1NbWVlFRwePxlNbFYvGZM2csLCymTZs2nPWYmZkZGRk1NjYqHl8pJxQK6+rqnJ2ddXV1h7Mqlfn4+PR1AuEg0en0lStX9j9UBAAAAAAAAABAXdCABs2oqalJSEgwMTE5ePDgzJkz5Vtlq6urlSINDAxaWlp4PJ6pqanSJYlE0t3drUIkdQPKKRQKSZLsqwdtbW39qmy/HQw6ne7r67t8+XI2mz2c92Wz2Q4ODuXl5YsWLeo5Z6O5uZnL5QYGBr6KIzikUmlzc3NJSUlRUVF5eXlDQ8PTp0/lV83Nza2srCZOnOjj4zN16lRzc3Pqmc+cOXPlypV//OMfhoaGSpcEAsHHH3/s7u4eFhamnpcBAAAAAAAAAG8kNKBBM0pKShoaGk6cODFlypT+Iy0tLZ8/fy7bKK3kyZMnDQ0NKkRSRzGnrq6ujY1NQ0NDV1dXzwa0bPvt2LFjX5v5G/2g0Wi+vr7Df19DQ0MvL6+ioqK2traeO9YrKyuZTOaECROGv7BBqq+vT0xMvH379qpVq959990tW7YYGRkpfpHEYnF7ezuXy7127dq+fftcXFw+/fTTUaNGUUleV1fX2tpKkmTPSyKRqKmpqecOdwAAAAAAAACAAcEJVKAZVVVVdnZ2NjY2fxo5duxYXV3da9euSaVSpUu3bt16/vy5CpHUUczJYrHGjh1bVFR09+7dnklu375dVlY2YcKEN6EBrSk0Gs3Pz6++vv7WrVtKlzo6Oi5cuLB06VKKbVkV9NrDHbyampr169ePGTPmP//5T0xMzNSpU0eMGKH0LWIwGCNGjJg6dWpMTMyFCxcsLCzWr19fU1MzFPUAAAAAAAAAAAwUGtCgGTY2Nlwut7a2VnFRIpGUlJQ0NTUpLtra2k6dOjUvL09pOkdVVVVGRoZqkdRRz/n2228bGBicPXtWIBAorjc3N6elpbHZ7OnTp6tWw5tGIpGo1s91cHBYvXr10aNHm5ub5YtSqbSwsLC2tnb58uX9TOjulba2dv+jw0mSLC4uDg0NXbduXXt7uwo196+kpOTFixcrV66kODrcwMBgzZo1L168KCkpUXsxAAAAAAAAAAAqQAMaNMPFxYVOp+/bt6+qqkrWcORyuXFxcTt37iRJ8u7du/IWpL6+fmBgYHNz8/bt20tKSkiSJEmypKRk+/btXC5XMSf1SOqo53R0dAwICMjLy9u6devDhw8lEolEIqmsrIyNjS0uLl65cqWtrW2vt3j69GljY6Nq5Slhs9mOjo5cLlckEslWhELh8+fPb926lZGR8f777y9YsOBl2BtraGhoZmbG4/EkEglBEBKJhMfj1dTUnD9/nsPheHt77927V4UeNI1G++CDD5ydnT/88EPZ90ogEOTk5Bw+fHjnzp1jxowZaMKRI0e6ubk1NDTI6iQIQiAQyN7P3Nzc8PBwLy+v1NTUoKCg48ePGxkZDTQ/FUwmc0Ab5xkMBpPJHIpKAAAAAAAAAABUgBnQoBnOzs7BwcGpqal+fn6K6y4uLs+ePcvIyMjLy8vKypo0aRJBED4+PtHR0SkpKStWrJBH0un0oKCg0tJSxadTj6SOYk46nb5hw4a6urqCgoLLly8rZli1alVoaGiv22+dnZ3T0tLeeecdgiAWLFiwf//+nsfBUWdoaMjhcBISEiZOnChr4MpOqHNwcJg8eXJ8fLytrS2Dweh50mNfioqKQkNDu7q6+goIDAzsP4OOjk56erqPj4/iIpvN5nA4HA4nKSmJIAg6ne7g4GBmZubh4TFnzpyoqCgLCwvVTgvU19ffsWNHYWFhbGxsWVmZvr7+4sWLMzMzqQx76YnFYkVHR3M4HEdHR9mKg4ODgYHBxIkTJ0+eHBkZ6ejoyGKxVMhMkYeHB51OP3PmTExMDJVN0Hw+PyMjg06ne3h49Lza16fZzxz20tLStLQ0+cNeP00AAAAAAAAAgH6gAQ2aQafTo6KibGxsDh8+zOVyZS3IRYsWrVmz5uTJk5mZmUrBGzZscHNzS0tLKyoq6u7udnV1DQ4Onjlz5o4dOxRPnKMeOaBSKeY0NTVNSUmZP39+ZmZmWVkZQRCenp7r16+fNWtWX5tS33777b/97W9ZWVn9NHkHxN7eXundGwwfH5/Kykp1ZVM0derUS5cuDUVmJpPp7+/v7++vlmz29vanT59WSyoVjBkz5vjx44mJiQsWLFi1atWMGTPs7Ox6PYSwurr68uXL//73v728vI4fP97rtOuh+zQBAAAAAAAAAPqCBjRoDJ1ODwgICAgIUFrfsmXLli1blBZpNJqnp6enp6fS+pEjR1SOpI56zoF2P/X19WNjY2NjY1WuTQVGRkZWVlby1rnSw5eHrq4um82W7/xVe510Ot3IyIhOpw90NnQ/GAyGpaWl7Ae1JBw1atQ333zT3NxcUlJy7ty58vLyhoaGp0+fygNkm9wnTpzo4+MTHh5ubm6ulvsCAAAAAAAAAKgFbf/VsYqPt869p6lShk5VVRVBEE5OToNJIpVKez6U/1dGNva3u7ubJEmxWCwSiUQikUAgEAqF06ZNG8zdB0U+yuD/vgQ1pFJj5uHS2toaGhpKZRyHm5tbenq6qanpMFQF8Pp4Bf9aALV9avj0AQAAAAAAXkE3btxgsVj6+vpMJlN2GBWdTtfW1qYyDrRXB34ap/gQhxACAAAAAAAAAAAAwJDACA54s5iamubl5Wm6CgAAAAAAAAAAgDcCdkADAAAAAAAAAAAAwJBAAxoAAAAAAAAAAAAAhgQa0AAAAAAAAAAAAAAwJDADGtSBRtN0BQAAAAAAAAAAAPDSwQ5oAAAAAAAAAAAAABgSaEADAAAAAAAAAAAAwJDACA4YBKlU0xUAAAAAAAAAAADAyws7oAEAAAAAAAAAAABgSKABDQAAAAAAAAAAAABDAiM4AACGVVlZ2e7du0tKSnpeiomJiYmJIQiivr4+IiIiIiLCz8+v58OeamtrIyIi7ty5Q70MOzu7yMjIZcuW0em9/A9BWVlZcHBwW1ub4qKxsXFAQEBUVJSpqalshcvlRkRE7NmzZ8qUKVTqlBGJRIWFhd9++215ebmxsfHixYvDw8NtbGx6RorF4sTERIIgOBwOg8HoNVt5eXlSUtL169f7ul18fPzatWsHlJO6goIC2Uc2UIcOHfL39+/1Eo/H27RpU3FxMfVsdnZ2H3300ZIlS2g0mgrFAAAAAAAAAAwdNKDhFdbR0REdHe3t7R0WFqauyDdKc3Pztm3bCIJISUmxsLDQdDkvkdu3b0dHR3/55ZcTJ05Ub2Yej/f555/7+fllZ2drafX5OyhCobClpaW9vb3Xhz3Z2NicP3+eehkSieTEiROpqanu7u52dnY9A1xdXW/duqW0eOfOnY0bN44YMSIiIkK20t3dzefzSZKkWCdBEAKBIDEx8fHjxwcOHHBwcBCJRPn5+cHBwXv37vXx8VEKJklSlo0kyV6bxTweLykpyc3NLTMzs9dOek9/mnNA/P39e+0jCwSCjz76iCCIgwcP6uvrDyiniYnJ2bNnqcfLPs2UlJQJEyb0+mkCAAAAAAAAaBBGcMArjCTJtrY2Ho+nxsjXwNGjR0NCQjo6Ov40ksvl/vLLL7/88guXyx2Gwl4hL168qKmpEQgEas/87Nmz2tpaExOTfrrPw0BLS8vFxaW7u7u7u5v6sywtLc3Nzfl8vsr3lUqlJ0+erKmp+eKLL5ycnLS0tHR1dVeuXBkZGblnz56ampqBJpS9n7a2thS7z8OGy+WWlZWVlZUNwx8u1T5NAAAAAAAAgOGBBjTA64bH47W1tck3pfbDzs5u1qxZs2bNwq5JGB737t07efJkWFiY4o57Go3m5+dnY2Pz/fffU/nevvxaW1sPHz5saGhoaGh49OjRwbTsAQAAAAAAAF51aEADvLksLCwyMzMzMzMxfwOGgVQqvXLliq2trbu7u9IlQ0PDpUuXXrhwob6+XiO1qVF9ff3HH39cXl6+d+/e5OTkioqKmJiY1+B1AQAAAAAAAKgGDWgAABgOHR0dxcXFbm5uxsbGPa86OzuLRKIBnaP4suno6Dh27FhAQACDwTh9+rSnp6fb/8fevYdFWef/H7+B4TACCiqQB5Cz4hEQRUlrqTy26nc9pViLiqmBimWSboIamoraJpuGJhKWuqvGrpKVlrm/VSEPoSGKCIIiauABUGCEGWZ+f9zXzjU7HBqGGUB7Pv7wmrnvz3zuz8w95NWLt++Pr+/u3bvNzc0nTpy4Z88eXRrj6EGpVF6+fNnMzMzMzMwY8wMAAAAA0BwE0GhNKpUqKysrPDzcx8fH29t78uTJqampNTU19Y48d+5cWFiYj4+Pj4/PsmXLGqoo1H2k7mpqalJTU8ePH+/u7u7n57dw4cIrV67k5OSMGjXq0qVL4hitp5ouXbo0atSonJwczYNKpfLkyZMzZszw9vb28fEJDw/PyspSqVR1305WVtZ7770XGBjo7u7u4+MTGhp68uRJpVKpNVIul8fExLi7uyckJFy8eHHgwIHu7u6NN4MWX/LBBx/I5fLG3/vkyZO9vb29vb1nzJhx/PhxrXv0+PHjWbNm7dixQxz82muviR9+eHj49evXG5q5EQqFYsOGDatXr96/f39gYKCfn9+uXbuePHmSlJQUGBjo7e0dGRn54MGDuh+ULt+lS5cuDR8+PDMzMy0tLTQ01MfHZ+3atTp2flCpVCkpKePHjy8qKtLjff3OFRcXX79+vW/fviYmJnXPOjo6urm5Xbx4se5PQVumVCpLS0tPnToVFRX1wgsvnDhxYsuWLdu2bXNxcREHdOvWbdu2bVu2bPnmm28GDx68dOnSEydO3L9/v+6PsJpKpTpy5MjLL7/srhtPT8/ExMRFixY5Ozu31PsGAAAAAEBXbWvXJvyuqFSqr7/+OiYmpry8XDySkZGRkZGxaNGiBQsWaG4pplAokpKSNm7cqE4J9+/ff+7cuTVr1mjNqftI3VVWVq5cuTIlJUV8Wl5efuTIkVOnTk2bNi03N7eqqko8XlZWpvlUU1VVVW5uruYWiAqF4pNPPomPj1c//e6773744Yc1a9ZMnjxZvT2dSqX66quv/vKXv6jfTnV1tbht4MyZM5csWWJtbd344q2srBrZ7E6hUDx69Eh8YG5uXndAaWnpqlWrUlNT1UfS09PT09OnTp0aHR2tvrq4x2N2dvbSpUs1B3/33Xc5OTkJCQleXl6Nr1OLXC6/e/fu999/L5fLxfe+fv3648ePp6eniwNSU1O9vb3Dw8PFKFP375IgCFVVVbdv3z58+PBXX32lHq8LlUr1z3/+8/333w8NDe3cuXOT3lELUygUFRUVYpL76NGjoqKi2tpa8Ut4+fLlu3fvKhSKmTNntvCqHj58+OjRoy5dutR7ViqVdu/evbi4+MmTJ1KptIXXpp8TJ06Eh4d37959wIABL7/88tKlSx0cHMRT4i9Rqquro6Ojzc3NhwwZMmTIkLKysjNnzhw5cuTDDz8sKipKTEwMCgqqO+2NGzc2btw4d+7cadOmte5mlQAAAAAANB8BNFrNxYsXY2Ji/P3933//fVdXVxMTk19//XX9+vWJiYl/+MMffH191SPT0tLi4+P79OkTHR3dv39/QRAyMzNjY2OjoqIqKiqGDBmix0gdKRSKxMTElJSUkSNHLlu2rEePHtXV1YcPH163bt327dv1fu+HDx/etm1bcHCw+N6VSqW4ztjY2Oeee+6FF14QhxUWFn766ad9+vRZunSpn5+fVCpVKpW3bt367LPPvvzyS0dHx3nz5qmLSc3NzT/44IMPPvggLi7up59+SkxMtLe313uF4nvfuXNnamrqyJEjo6KiXF1dBUHIycnZtGnT/v37u3btGh4erpntHjp0yNLScvHixa+99pqjo2N1dfWuXbvEwe+9955WCqwLmUz25ptvRkZG3rhxY968eenp6SEhIcuWLSsqKoqIiMjJyZHJZO3atROa8l1S27Vr18iRI5cuXdqjRw9d1ib+MmDlypVvvfWW1htvdVVVVcuXL9eM/p2dnTt27CgIgkQi6d+/v7gbnpeXl6Wl5RtvvGFlZWVra3v27NmmXqiiokImk3Xt2lW/dd65c8fOzs7Gxqbes+bm5nZ2drm5udXV1U9LAB0cHJydnV3vKblcfu/ePeF/f7tjZ2c3atSoUaNGNT5tbW1tbW2th4cH6TMAAAAA4BnQhjIU/K4oFIpvvvmme/fua9asUVdEdunSZdasWT/++GNubq46NKysrNy3b5+jo2NcXJy6kNbf3z8uLm7+/PmaFay6j9Td7du3Dx06NHLkyI0bN9ra2gqCYGVlNXXqVAcHh3nz5unYt0FLcXFxcnJycHBwXFyc2AzX1NTU399/+/btkZGRiYmJ/fv3t7OzEwTh119/LSgo+PLLL9Vlkqampj169IiJiZHL5d9+++2f/vQnJycnPdagi7y8vJSUlIkTJ65evVpd7Ozj47Nu3brIME9JWwAAIABJREFUyMgDBw6MHTvW09NTPb5Dhw5xcXGvvPKKmIlbWVmFhIScPn06Jyenqqqqffv2TV3A0KFD33rrrXbt2nl4eAQGBl6+fDkiIsLGxsbNzc3Pzy8/P7+6urpdu3a6f5c0ab2vxqnT58WLF8+aNcvg6fOjR4/Cw8PT0tL0e3m7du22bNmyZcuWJr2qsLCw8QHnz5+Pjo7WbB0jkUhee+21zMxMd3d3Pdapy89LbW2tHi043nvvvffee6/eU6tWrXrxxRfnzp2bm5ureXz8+PFNvQoAAAAAANADATRah1ge6Ofnp9XKwMbGRsxe1W7cuHH+/PmZM2dqZp2CIHh5ec2aNSsmJkaPkbo7e/bsrVu3YmJixPRZbfDgwS+//PLRo0f1mDMjIyM/Pz8mJkZrKzZHR8eQkJAlS5bk5OQEBgYKgmBmZiaRSIqKilQqlWbbXAsLiyFDhpw5c6bejh+G8uOPP1ZUVEyfPl0rpXV0dFy4cOG8efN++uknzY966tSp6vRZJJVKu3Tpkp+fX1tbq8cCHBwcLC0tBUGwtLR0dHTMz8+3srLSfCoO0/27pGnKlCk6ps9KpfLgwYOrV69euXKlZoMUA2rfvv2XX36peSQvL2/WrFkGv5CmiooKBweHTp061Xu2uLg4NjZ29OjRR44cqfuW4+LiWmydutiwYcOUKVMaGaD5oyqTyZYvX278RQEAAAAAAEEggEZrkUql69atk0gk5ubmKpXq8ePHN2/ePH/+fGpqqtaegdeuXXvy5Mnzzz9fd+MyPz8/zfhM95E6UigUV65c8fHx6du3r9Ypa2vrF198Ub8AOjs7293dXexoocXX19fV1fXnn38WA2hPT8+hQ4euXLmyoKBg2rRpzs7O6ihw3LhxI0aM0DFC1YNMJrt27VpQUFCvXr3qnu3Vq1fPnj2vXLkil8vV7QXMzMy0PnmtpNhIdP8u6UGdPq9evXrSpEn17p73NJLJZL/88kuvXr0aaojx+PHjhw8fdu3a1YCBuy6V43W/Rb9DZmZmZmZm169fHzRoEF04AAAAAABPOwJotBqpVFpYWLht27ZDhw5VV1c3NOzu3budOnXSKhYWPffcc5rtaHUfqSO5XF5aWurm5iY2Gtbi5ubW1AkFQZDJZIWFhZcuXRo0aFBDY+7du6dQKCQSiZ2d3cqVK5cvX759+/bt27d36NBhxIgR48ePDwgIsLKyaig6NIgnT54UFhYOGDBArEHWIu4XV1FRoRlAtyIdv0tNVVtbu3fv3sTERBsbm8rKSkNN22KuXr26dOnSTZs29ezZU+vUzZs3z5w585e//KUlb1/Xrl3LysoqKirqPSuXy8vKyrp161bvV64NSktLCwsL+83v2+HDhxs6ZWlpWe8+hM7OzhERER9++OGKFSt0X0+HDh2Sk5PF3vcAAAAAALQdBNBoNWlpaREREWJrZg8Pj2HDhr3wwgsdOnSIjIzUHFZRUdGxY8d6eymYmpqamZnpMbKNKy0tlcvlYrmou7v7nj17zpw5s3v37v/85z8HDx48ePCg2IE6JCREbElhPFKptJGq1aKiIrELs1HXoAsdv0tNlZSUVFVV9Y9//OP8+fMrV67s37+/n5+fgZbcEsrLyy9fvlxWVqZ1XC6X792719HRcfDgwS25no4dO7Zv3/7u3bv1duWWyWRFRUU+Pj7G/lYbSlBQUEM7EDaTRCKZMmVK401FAAAAAAB4WhBAo3XcvHlz9erVdnZ2H3300bBhw9RlmHl5eVojbWxsHj58WFZWZm9vr3VKqVRqNhfWfWSrGzZs2CeffKLjvnwSieT5559//vnnFQrF7du3v/322y+++GLNmjVXr15dvXq1VCo13jplMplYi13v2e7du7eFYlXdv0tNVVNT89e//tXR0TE4OPjf//53XFzcli1bHB0dm73kViaRSIKDgydNmmS8HSzr5eTk5OHhkZWVNXr06Lp9NkpKSgoKCqZPn/40tuBQqVQlJSUZGRlpaWlZWVl37ty5d++e+qyDg0PXrl379u0bFBQUEBDg4OCg+8x79+49fvz4xx9/rNWGXhCEysrKd99918/Pb+7cuYZ5GwAAAAAAGAHNJdE6MjIy7ty5s2nTpuDg4MabAHTp0uXBgwdicauWX3/99c6dO3qM1JGVlZWTk1NBQUG9e/0VFBQ0dUJBEKRSadeuXX/99dd611laWrp169YbN26IT3/55Zc9e/bIZDLxqUQi6dGjx/z580+cOLFgwYJvv/02JydHjzXowsrKysXF5c6dO/V2GBCLVW1sbNpC/w3dv0tNFR4eLsbNUql03rx5JSUle/fuVSgUBrxEqzAxMQkODh4wYEALX9fW1jYwMPDixYv1fvmzs7MtLCx69+7dwqtqvtu3b7/11lsTJ068du3ahAkTdu7ceerUqXwNp06d2rlz54QJE65duzZ58uTw8HDdu5MXFRWVlpbW+62rqakpLi6uW+EOAAAAAECbQgCN1pGbm+vm5ubi4vKbI729va2srE6fPq1SqbROXbhw4cGDB3qM1JGJiYmnp2d2dnZWVpbWqcrKyv/3//6fLpOoVKqbN29qHunXr19eXt7Fixfrjjx8+PDmzZvV/67/9OnTycnJ9+/f1xppYWExbty49u3b5+bmNuH9NIVUKvX29k5LS7t69Wrds5cuXcrMzOzdu3dbCKB1/y41h7u7+1tvvZWcnJyWlmbUCz3DTExMRo0adfv27QsXLmidevz48ZEjR1599dVu3boZ6epG+s3BzZs3Z8+e3aNHj++//z4yMjIgIKBTp05aPxfm5uadOnUKCAiIjIw8cuSIo6Pj7Nmztf6zAAAAAADAs4oAGq3DxcWloKCgsLBQ86BSqczIyCguLtY86OrqGhAQkJKSotVRITc3NykpSb+Ruhs8eLCzs/O+ffseP36sefzs2bPHjx/XPGJpaWltbX3+/HnN+FulUv3www/r1q3THOnv79+vX78dO3bcvXtX83heXt7u3buHDx8+dOhQ8YiPj8+NGzfqbSVRVFR07969Rho0N99LL71kY2Ozb98+rf33SkpKEhISnJychgwZYryr607371JzmJiYjBkz5oUXXli7di3RoVKp1C/P9fDwmDZt2o4dO0pKStQHVSrV0aNHCwsLJ02a1NSvtJmZWePt3RUKxZkzZ8LCwmbOnPno0SM91ty4jIyMqqqqKVOm6NgM3cbG5vXXX6+qqsrIyDD4YgAAAAAAaIMIoNE6+vTpI5FI1q9fn5ubK4ZZBQUFMTExK1asUCgUV69eVcdb1tbW06dPLykpiYqKysjIUCgUCoUiIyMjKipKqwmG7iN15+LiMmXKlGPHji1duvTGjRsqlerJkyf79+9/5513unTpojnS1dW1f//+O3fuPHDgwJMnT1QqVXFx8ZYtWyIiIrSiOicnp9DQ0JycnPDw8AsXLohv//Tp0wsWLHj48OG8efPU+yj2799/0KBBMTEx3333nTo7e/To0YEDB5YtW+bs7Ozv71/vsu/du6eVbuvB09Nz4sSJKSkpS5Ysyc/PVyqVSqUyOzt7+fLlZ86cmTJliqurazMvYRC6f5eaydraOiIioqqqauvWreq+KE3l5OTk6elZUFBQU1MjHpHJZA8ePLhw4UJSUtKMGTNGjBjRFgJuW1vbjh07lpWVKZVKQRCUSmVZWdnNmze//vrr6OjooUOHrl27Vo8P1sTE5I033vDx8Xn77bfF+1VZWXngwIGtW7euWLGiR48eTZ3wueee8/X1vXPnjrhOQRAqKyvFz/PgwYPz588PDAyMj48PCQnZtWuXjl3Xm8rCwqJJ/xTA3NzcwsLCGCsBAAAAAKANYhNCtA4fH5/Q0ND4+PhRo0ZpHu/Tp8/9+/eTkpJSUlJ2797dr18/QRCCgoIWLVq0cePGyZMnq0dKJJKQkBCtRha6j9SRmJfl5eWlpKQcO3ZMfXzcuHGjR4+OiIhQH7Gzs4uIiIiIiFi2bNmyZcvUx4cPHz5x4sS3335bc9rx48cXFhbGx8dPmjRJfdDBweFvf/ubuvxZEIROnTrFxsYuWbIkPDxca2GWlpbvvfdevX0nfHx8EhIS/vjHPwqCMGLEiE2bNtXdvkwXEolkzpw5RUVFqampmu9dEISpU6eGhYUZtf5ad036LjWTl5fXwoULV6xYMWTIkIkTJ+oxg62tbXR09OrVq/v27SsGuOIOdR4eHgMGDFi1apWrq6u5ubnuOyimpaWFhYXV26pbNH369MZnsLS0TExMDAoK0jzo5OQUHR0dHR0t1u9LJBIPD4+OHTv6+/u/+OKLCxYscHR01G+3QGtr62XLlh09enT58uWZmZnW1tZjxoxJTk7Wr4mKVCpdtGhRdHS0p6eneMTDw8PGxqZv374DBgyIiIjw9PQ06kad/v7+Eolk7969kZGRuhRBV1RUJCUlSSSSen971NDdHDhwYEMTXrx4MSEhQf203rsJAAAAAEArahP5EX6HJBLJggULXFxctm7dWlBQIMZbo0ePfv3117/44ovk5GStwXPmzPH19U1ISEhLS6utre3fv39oaOiwYcOWLVumrhdu0kjdWVtbf/jhhy+++OJnn32WlZXVpUuXsLCwkJCQX375RWtkUFDQoUOHNm/e/J///Ke8vLxXr16TJ0+eNm1acXHxhAkTnnvuOc11Llq0aODAgQkJCefOnRMzuPnz59fN4Nzd3ffs2fP3v//94MGDYjtmZ2fnESNG/PnPf24osHvppZfefPPN3bt3NxJKqpfRvn17a2vrhuo37e3tN27c+MorryQnJ2dmZgqCMGjQoNmzZw8fPlyzhFMikdjb23fu3LnuDJaWls7Ozk2t9xQXJpFI1Bm31jyWlpa9e/e2trYWmvhdEgShXbt2PXr0EF/bkHbt2nl5edX9woiNOE6ePFlUVKRQKPSL4N3d3euuSm9BQUHqpuGGFRAQ8O233xpjZrGJ+bhx4wwym/gzYpCp9NCjR49du3bFxsaOGDFi6tSpzz//vJubW/v27TV/puRy+aNHj/Ly8o4dO/avf/0rMDBw165d9Xa7Nt7dBAAAAACgtZhsOuGt+XzJH3JaaynGI27U5uXl1ZxJtPa1E5+q/xSJPQpqa2sVCoVcLq+pqampqamsrJTJZIMHD27O1ZtFXaVYZ2u+1pzq6XfmzJnp06fv27cvMDCwtdeCZ01JScnChQvnzJkzYsSIuk/bjqKiosWLF69cuVIsMDf4OuVyeWxsrEQiWb58uaF2vFQoFJs3bxYEYcmSJYaq4lepVCUlJRkZGWlpaVlZWXfu3Ll37576rFjk3rdv36CgoICAAAcHB4Nc1JAM9d92/o4AAAAAgKfQ2bNnpVKptbW1hYWF2GdSIpGYmZnpuN1RXZv/3VPzKQG0rgigDTxVKyktLQ0LC9OlHYevr29iYqK9vX1DAwigm8SAnzwAAyOABgAAAIDfMWMH0GxCCAAAAAAAAAAwCnpA4/fF3t4+JSXFIFPZ2dl5eXnp/bug3xsDfvIAAAAAAAB4WhBAA3rq2bPn0aNHW3sVAAAAAAAAQNtFAA29qBt9AgAAAAAAAEAD6AENAAAAAAAAADAKAmgAAAAAAAAAgFHQggNNoVK19goAAAAAAAAAPDWogAYAAAAAAAAAGAUBNAAAAAAAAADAKAigAQAAAAAAAABGQQANAAAAAAAAADAKAmgAAAAAAAAAgFFIWnsBANB2ZWZmfvDBBxkZGXVPRUZGRkZGCoJw+/bt8PDw8PDwUaNG1X1aV2FhYXh4+JUrV3RfhpubW0RExPjx4yWSev6jnZmZGRoaWl5ernmwQ4cOEydOXLBggb29vXikoKAgPDx8zZo1AwcO1GWdopqamqNHj3722WdZWVkdOnQYM2bM/PnzXVxc6o6Uy+WxsbGCIERHR5ubm9c7W1ZW1rp169LT0xu63KpVq/785z83aU7dpaamiresqbZs2TJu3Lh6T5WVlb311ltnzpzRfTY3N7d33nln7NixJiYmeiwGAAAAAICnCwE0nmKPHz9etGjR0KFD586da6iRbZaYxEkkkuXLlzc/iWsLSkpKli5dKgjCxo0bHR0dW3s59SgrK9uwYcOoUaP2799vatrgvxeRyWQPHz589OhRvU/rcnFx+frrr3VfhlKp/Pzzz+Pj4/38/Nzc3OoO6N+//4ULF7QOXrlyZd68eZ06dQoPDxeP1NbWVlRUKBQKHdcpCEJlZWVsbOytW7c2b97s4eFRU1Nz+PDh0NDQtWvXBgUFaQ1WKBTibAqFot6vaFlZ2bp163x9fZOTk+tN0uv6zTmbZNy4cfXmyJWVle+8844gCB999JG1tXWT5rSzs9u3b5/u48W7uXHjxt69e9d7NwEAAAAAeMbQggNPMYVCUV5eXlZWZsCRbZaYxD18+FAdILZNO3bsmDVr1uPHj39zZEFBwcmTJ0+ePFlQUNACC9PD/fv3CwsL7ezsGkmfW4CpqWmfPn1qa2tra2t1f1WXLl0cHBwqKir0vq5Kpfriiy9u3rz517/+1cvLy9TU1MrKasqUKREREWvWrLl582ZTJxQ/T1dXVx3T5xZTUFCQmZmZmZnZAl9F/e4mAAAAAABPLwJoAIZUVlZWXl6uS0ru5uY2fPjw4cOHUwfaNuXk5HzxxRdz587VrE83MTEZNWqUi4vLV1991cZ/F6Kj0tLSrVu32tra2tra7tixozmRPQAAAAAAqIsAGkDrcHR0TE5OTk5Obpv9N37nVCrV8ePHXV1d/fz8tE7Z2tq++uqrR44cuX37dquszYBu37797rvvZmVlrV27Ni4u7vLly5GRkc/A+wIAAAAAoO0ggAYAaHv8+PGZM2d8fX07dOhQ96yPj09NTU2T9lFsax4/frxz586JEyeam5vv2bNn0KBBvr6+u3fvNjc3nzhx4p49e3RpI6MHpVJ5+fJlMzMzMzMzY8wPAAAAAEBbQwCN1qRSqbKyssLDw318fLy9vSdPnpyamlpTU1PvyHPnzoWFhfn4+Pj4+CxbtqyhKkXdR+pOqVSePHlyxowZ3t7ePj4+4eHhWVlZKpVKc8z169dHjBiRkpJSdz1ffvnl7NmzHzx4oHWqsLDw/fffDwwMdHd3Hz9+fGpqajN7Gvzm56lQKDZs2LB69er9+/cHBgb6+fnt2rXryZMnSUlJgYGB3t7ekZGRWuvU8R7J5fKYmBh3d/eEhISLFy8OHDjQ3d298WbQ4ks++OADuVze0JiamprU1NTJkyd7e3t7e3vPmDHj+PHjWld//PjxrFmzduzYIQ5+7bXXxFsfHh5+/fr1pn2C+K/i4uLr16/37dvXxMSk7llHR0c3N7eLFy9q/RS0cUqlsrS09NSpU1FRUS+88MKJEye2bNmybds2FxcXcUC3bt22bdu2ZcuWb775ZvDgwUuXLj1x4sT9+/eVSmVDc6pUqiNHjrz88svuuvH09ExMTFy0aJGzs3NLvW8AAAAAAFpT29oJCr8rKpXq66+/jomJKS8vF49kZGRkZGQsWrRowYIFmtuUKRSKpKSkjRs3qvPZ/fv3nzt3bs2aNVpz6j5SdwqF4pNPPomPj1c//e6773744Yc1a9ZMnjxZvT2do6Ojh4fH1q1bBwwY4OHhoX55bm7u9u3bAwMDraysNKdNS0uLiIhQv/esrKzIyMjLly8vXrxYa6SOdPk85XL53bt3v//+e7lcLn5E69evP378eHp6uviS1NRUb2/v8PBwMXbU/R7Vy8rKqpHt+8RtFcUH5ubmdQeUlpauWrUqNTVVfSQ9PT09PX3q1KnR0dHW1tbqecrLy7Ozs5cuXao5+LvvvsvJyUlISPDy8mp8na1LoVBUVFSISe6jR4+Kiopqa2tzc3PLysouX7589+5dhUIxc+bMFl7Vw4cPHz161KVLl3rPSqXS7t27FxcXP3nyRCqVtvDa9HPixInw8PDu3bsPGDDg5ZdfXrp0qYODg3hK/MVMdXV1dHS0ubn5kCFDhgwZUlZWdubMmSNHjnz44YdFRUWJiYlBQUF1p71x48bGjRvnzp07bdq01t2sEgAAAACAton/W0aruXjxYkxMjL+//w8//JCXl3f9+vXTp0+PGzcuMTExKytLc2RaWlp8fHyfPn0OHjx47dq1a9euHTx4sH379lFRUQUFBfqN1N3hw4e3bdsWHBwsrlOcs0+fPrGxsadOnVIPs7W1feedd2pqapKSktQlujKZbOfOnRYWFvPmzVMHpoIg5ObmRkdHW1hYbNiw4dKlS+J7f+ONN3bt2pWQkKBfHbTun6dMJps1a1ZWVtbXX3/t5OSUnp4eEhKSmZn5zTffuLm55eTkyGSyps5pbm7+wQcf5Ofnz58/39fX9+eff87Pz//0008133WTKBSKnTt3pqamjhw5Urx6Xl7ekSNHgoOD9+/fn5iYqPUpHTp06NixY4sXL05PT79+/fqVK1fefffdgoKC/fv3t6m98qqqqiIjIzVLYl9++eVZs2bNnj177ty5u3fvPnfuXG5urpeX17Bhw9avX/+Pf/zj2LFjnp6eTb1QRUWFTCbr2rWrfuu8c+eOnZ2djY1NvWfNzc3t7Oxu375dXV2t3/wtLzg4ODs7+/vvv9+0adOYMWPU6bMgCHK5/N69e48ePdL8qtjZ2Y0aNWrTpk3ff/99dnZ2vemzIAi1tbW1tbUeHh6kzwAAAAAA1IsKaLQOhULxzTffdO/efc2aNeoqyy5dusyaNevHH3/Mzc319fUVD1ZWVu7bt8/R0TEuLk5dyurv7x8XFzd//nx1ZW6TRuquuLg4OTk5ODg4Li5ObIZramrq7++/ffv2yMjIxMTE/v3729nZiYO9vLwiIyNXrlwZFBQ0duxYQRBOnDhx5MiR2NhYzSJchULx97///eHDh1u3blWnWl26dImOjraxsUlOTn755Zf79evXpHXq/nkKgjB06NC33nqrXbt2Hh4egYGBly9fjoiIsLGxcXNz8/Pzy8/Pr66ubteuXZPmNLi8vLyUlJSJEyeuXr1anWL7+PisW7cuMjLywIEDY8eO1YxlO3ToEBcX98orr4i121ZWViEhIadPn87Jyamqqmrfvr2hFvbo0aPw8PC0tDT9Xt6uXbstW7Zs2bKlSa8qLCxsfMD58+ejo6NzcnLURyQSyWuvvZaZmenu7q7HOnVJ7Wtra/VowfHee++999579Z5atWrViy++OHfu3NzcXM3j48ePb+pVAAAAAABAG0EAjdYhlhz6+fl17txZ87iNjY06zxXduHHj/PnzM2fO1CoC9fLymjVrVkxMjB4jdZeRkZGfnx8TE6O1FZujo2NISMiSJUtycnICAwPFgyYmJmPGjPnpp58+/fRTPz8/QRA+/fTTV199dcyYMZqvvXv37smTJydOnDh48GDN4xKJZOzYsfv377969WpTA2jdP09BEBwcHCwtLQVBsLS0dHR0zM/PF5t+qJ/qMafB/fjjjxUVFdOnT9eqoXZ0dFy4cOG8efN++uknzRs9depUdfoskkqlXbp0yc/Pr62tNeDC2rdv/+WXX2oeycvLmzVrlgEvUVdFRYWDg0OnTp3qPVtcXBwbGzt69OgjR47UrcONi4trsXXqYsOGDVOmTGlkwNGjR9WPZTLZ8uXLjb8oAAAAAABgLATQaB1SqXTdunUSicTc3FylUj1+/PjmzZvnz59PTU3V2jPw2rVrT548ef755+tuhubn56cZyek+UnfZ2dnu7u6urq51T/n6+rq6uv7888/qAFoQBGtr67feemvu3Lm7du2SyWRVVVXz5s3TapJ769atvLy85cuX1+2h7O7u/s477wwaNKip69T982zdOXUkk8muXbsWFBTUq1evumd79erVs2fPK1euyOVydfNoMzMzrfuulac/vWQy2S+//NKrV6+GGmI8fvz44cOHXbt2NWAXiN9s8C3U95n/DpmZmZmZmV2/fn3QoEF04QAAAAAAoC4CaLQaqVRaWFi4bdu2Q4cONdJJ9u7du506ddIqQBY999xzmi1udR+pI5lMVlhYeOnSpUYS4Xv37ikUCs20zsPDY8mSJYsXLxYE4eOPP9bckFB0+/btbt26OTs7151NKpVOnz69qetUv1aXz7PV59TFkydPCgsLBwwYIFZq111V9+7dKyoqNAPop93Vq1eXLl26adOmnj17ap26efPmmTNn/vKXv7Tkm+3atWtZWVlFRUW9Z+VyeVlZWbdu3eq9QW1QWlpaWFjYb36HDx8+3NApS0vLevchdHZ2joiI+PDDD1esWKH7ejp06JCcnNy/f3/dXwIAAAAAwFOKABqtJi0tLSIiQmzN7OHhMWzYsBdeeKFDhw6RkZGawyoqKjp27FhvzwdTU1MzMzM9RhpQaWmpXC7XKhe1s7MTG0foV3atHx0/z1afU3dSqbSROtyioiKxV3ULrKQFlJeXX758uaysTOu4XC7fu3evo6OjVsMWY+vYsWP79u3v3r1bb6dvmUxWVFTk4+MjNm9p+4KCgrKzs40xs0QimTJlSuNNRQAAAAAA+D0jgEbruHnz5urVq+3s7D766KNhw4apSzvz8vK0RtrY2Dx8+LCsrMze3l7rlFKp1Gzvq/vIJhk2bNgnn3yi+y52Dx482Lp16x/+8AdBEOLj4+Pj45sUQ9+8eVMQhB49ejRpkbp/nq07Z5PIZDKt6nJN3bt3f1rKb5tDIpEEBwdPmjTJycmpJa/r5OTk4eGRlZU1evToun02SkpKCgoKpk+f/jS24FCpVCUlJRkZGWlpaVlZWXfu3Ll37576rIODQ9euXfv27RsUFBQQEODg4KD7zHv37j1+/PjHH39sa2urdaqysvLdd9/18/ObO3euYd4GAAAAAABPCQJotI6MjIw7d+58/vnnAwcObHxkly5dHjx4IBbhavn111/v3Lmjx0gdSaXSrl27Xrlypby8vG4AXVpaunfv3ldffVWzQ7RCodizZ09hYeEKd9YZAAAgAElEQVTKlStramrefPPNAwcOzJs3TzOn69y58+3bt0tKSrQ2SxQEoaqqavPmzaampuvWrdPqHN043T/P1p1TR1ZWVi4uLnfu3Kmurq4bQIvlt97e3s9M/41GmJiYBAcHt/x1bW1tAwMD09LSysvL6/6rguzsbAsLi969e7f8wprp9u3bsbGxly5dmjp16oQJExYvXty+fXvNL5JcLn/06FFBQcHp06fXr1/fp0+f999/v1u3brpMXlRUVFpaqlAo6p6qqakpLi6uW+EOAAAAAMAzjx2T0Dpyc3Pd3NxcXFx+c6S3t7eVldXp06dVKpXWqQsXLjx48ECPkbrr169fXl7exYsXtY6rVKrDhw9v3rxZ69/1//zzz0lJSXPmzPHy8urTp09oaOj27du1Xu7s7NytW7cTJ07UDaoePHhw9epVFxeXJqXPQlM+z9adU0dSqdTb2zstLe3q1at1z166dCkzM7N3796/hwC6tZiYmIwaNer27dsXLlzQOvX48eMjR468+uqrOsayeqg3w22+mzdvzp49u0ePHt9//31kZGRAQECnTp20vkXm5uadOnUKCAiIjIw8cuSIo6Pj7NmzxX+XAAAAAAAA9EAAjdbh4uJSUFBQWFioeVCpVGZkZBQXF2sedHV1DQgISElJ0er8kJubm5SUpN9I3fn7+/fr12/Hjh13797VPJ6Xl7d79+7hw4cPHTpUffDBgwfx8fG9e/f+4x//aGJiYmJi8qc//cnT0/Pjjz/WrHzs0qVL3759Dx48ePbsWc05VSrVjz/+ePfu3RdffLGp69T982zdOXX30ksv2djY7Nu3r7KyUvN4SUlJQkKCk5PTkCFDjL2GZ4NSqdQvz/Xw8Jg2bdqOHTtKSkrUB1Uq1dGjRwsLCydNmtRIh+56mZmZNd6KXaFQnDlzJiwsbObMmY8ePdJjzY3LyMioqqqaMmWKjq3DbWxsXn/99aqqqoyMDIMvBgAAAACA3wkCaLSOPn36SCSS9evX5+bmigFZQUFBTEzMihUrFArF1atX1ZGZtbX19OnTS0pKoqKiMjIyFAqFQqHIyMiIiooqKCjQnFP3kbpzcnIKDQ3NyckJDw+/cOGCuNTTp08vWLDg4cOH8+bNU3cnEJtvZGZmzps3T9302cnJadasWenp6YcOHVLXZVtbW8+cOVMQhLfffjs1NVUMWMvKyj799NP169dPnTp1wIABxvs8W2DOe/fuaeX1evD09Jw4cWJKSsqSJUvy8/OVSqVSqczOzl6+fPmZM2emTJmi2fnESJycnDw9PQsKCmpqasQjMpnswYMHFy5cSEpKmjFjxogRI9pCbaytrW3Hjh3LysqUSqUgCEqlsqys7ObNm19//XV0dPTQoUPXrl2rxxfAxMTkjTfe8PHxefvtt8XvQGVl5YEDB7Zu3bpixYqmtikXBOG5557z9fW9c+eOuE5BECorK8XP8+DBg/Pnzw8MDIyPjw8JCdm1a5fuXdebxMLCokmF8+bm5hYWFsZYCQAAAAAAvxP0gEbr8PHxCQ0NjY+PHzVqlObxPn363L9/PykpKSUlZffu3f369RMEISgoaNGiRRs3bpw8ebJ6pEQiCQkJ0epuoftI3Y0fP76wsDA+Pn7SpEnqgw4ODn/72980y58vXbqUlJQ0YcIErcrc4ODgsWPHJiQkDBw4sG/fvuLBwYMHR0dHv//++5GRkZqD/+///u/tt99uamGpoPPnWbfrdPPnFO+R5qsSEhL++Mc/CoIwYsSITZs21d2QTRcSiWTOnDlFRUWpqanHjh3TPDV16tSwsDA9PqWmsrW1jY6OXr16dd++fcUAV9yhzsPDY8CAAatWrXJ1dTU3N9d9V8a0tLSwsLDq6uqGBkyfPr3xGSwtLRMTE4OCgjQPOjk5RUdHR0dHr1u3ThAEiUTi4eHRsWNHf3//F198ccGCBY6OjvrtFmhtbb1s2bKjR48uX748MzPT2tp6zJgxycnJ+jVmkUqlixYtio6OVn8PPTw8bGxs+vbtO2DAgIiICE9Pz6Y2n2kSf39/iUSyd+/eyMhIXYqgKyoqkpKSJBKJv79/3bMN3c1GeqZfvHgxISFB/bTeuwkAAAAAwDOGABqtQyKRLFiwwMXFZevWrQUFBWJkNnr06Ndff/2LL75ITk7WGjxnzhxfX9+EhIS0tLTa2tr+/fuHhoYOGzZs2bJlmjuk6T6ySUtdtGjRwIEDExISzp07J2Zw8+fP18rgSkpKOnfuPGvWLK16SalU+uabb/7yyy+lpaXqg2J3jr59+37++efffvtteXm5m5vbjBkzQkJCrKysGlpG+/btJRJJvcGrjp9n3UksLS2dnZ3Va7a0tOzdu7e1tbXuc2p56aWX3nzzzd27dzcSs2ouxtrauqGKVHt7+40bN77yyivJycmZmZmCIAwaNGj27NnDhw/X/JAlEom9vX3nzp3rzqD17vTg7u7e0DvVQ1BQkFbTcEMJCAj49ttvjTGzhYXFuHHjxo0bZ5DZ3N3d9+zZY5Cp9NCjR49du3bFxsaOGDFi6tSpzz//vJubW72bEObl5R07duxf//pXYGDgrl276u12bby7CQAAAADAs8Rk0wlvzedL/pDTWksxntzcXEEQvLy8mjOJ1r524lP1nyKxS0Btba1CoZDL5TU1NTU1NZWVlTKZbPDgwc25erOoKx/rbM0HoPlKSkoWLlw4Z86cESNG1H3adhQVFS1evHjlypVi0brB1ymXy2NjYyUSyfLlyw21P6RCodi8ebMgCEuWLDFUzbtKpSopKcnIyEhLS8vKyrpz5869e/fUZ8Ui9759+wYFBQUEBDg4OBjkok838S8RXf4G4a8bAAAAAHgKnT17ViqVWltbW1hYiL0rJRKJmZmZjlso1bX53z01nxJA64oA+tlQWloaFhamSzsOX1/fxMREe3v7FlgVALRdBNAAAAAA8EwzdgDNJoQAAAAAAAAAAKOgBzR+X+zt7VNSUlp7FQAAAAAAAMDvAgE0AAD4X+pmGvUeocMGAAAAAEBntOAAAAAAAAAAABgFFdAAAOB/adY4674JIQAAAAAAdVABDQAAAAAAAAAwCgJoAAAAAAAAAIBREEADAAAAAAAAAIyCHtAAAKBhdH8GAAAAADQDAfTvibiRFAAAAAAAAAC0CFpwAAAAAAAAAACMggAaAAAAAAAAAGAUtOD4HaB9JwAAAAAAAIDWQAU0WkFlZWVkZOSWLVsaGvDRRx9FRkZWVlbqfQm5XB4TE/PBBx/I5XJDjTSsmpqa48ePh4aG+vj4uLu7+/n5RUVFZWVlqRr4hUFrrRMAAAAAAADQGwE0WkFNTc2tW7eqq6sbGqBQKG7dulVTU6P3JRQKxaNHjx4+fKhQKAw10oAePHiwcOHCN9988+TJk+LnUF5efvDgwYkTJ3711Vf1ZtCtsk4AAAAAAACgOQiggZYmk8k2bNhw4sSJkJCQEydO5OXl5efnX7x4ccOGDfb29mvXrr148WJrrxEAAAAAAAAwAAJooKXl5OR8++23b7755qpVq3r06GFqaioIQvv27adMmbJx40aFQpGent7aawQAAAAAAAAMgAAaaGm5ublWVlZjx46VSLR3Ae3Xr5+Xl1dFRUWrLAwAAAAAAAAwLAJoPB2USuXJkydnzJjh7e3t4+MTHh7eyH59BldTU5Oamjp58mRvb29vb+8ZM2YcP35c7xbVlpaWXbt2tbOzM+wiAQAAAAAAgLZGuwATaIMUCsUnn3wSHx+vfvrdd9/98MMPa9asmTx5stjCwnhKS0tXrVqVmpqqPpKenp6enj516tTo6Ghra+umTjh+/Pjx48fXe6q4uLi4uHjAgAH6LxcAAAAAAABoM6iAxlPg8OHD27ZtCw4O/uGHH/Ly8q5du3bw4ME+ffrExsaeOnXKqJdWKBQ7d+5MTU0dOXKkePW8vLwjR44EBwfv378/MTFRoVAY6lqVlZU7d+4MCAgYNmxYQ2MkEomxA3cAAAAAAADAUKiARqtJSEhISEho6Kyvr6/4oLi4ODk5OTg4OC4urkOHDoIgmJqa+vv7b9++PTIyMjExsX///sZrZ5GXl5eSkjJx4sTVq1eri519fHzWrVsXGRl54MCBsWPHenp6Nv9CFRUVmzZtun379kcffdRIVbWjo6OlpWXzLwcAAAAAAAC0AEop0dZlZGTk5+fPnTtXTJ/VHB0dQ0JC0tPTc3JyjHf1H3/8saKiYvr06VqhsKOj48KFC8vKyn766afmX+XWrVvz5s2rqKjYtm1bly5d6h0jlUq7du3a/GsBAAAAAAAALYYKaLSa+fPnR0VF1XsqLi5OHexmZ2e7u7u7urrWHebr6+vq6vrzzz8HBgYaY4UymezatWtBQUG9evWqe7ZXr149e/a8cuWKXC43NzfX+yolJSVRUVHdunXTLLJuiIODg94XAgAAAAAAAFoYATTaNJlMVlhYeOnSpUGDBjU05t69ewqFQiIx/Jf5yZMnhYWFAwYMqLfrhVQq7d69e0VFRTMD6GPHjpWUlKxfv/4302eJRGJjY6P3hQAAAAAAAIAWRgsOPPVKS0vlcrnx5pdKpY2k20VFRdXV1XpPLpPJzp8/369fP0dHx98c7OzsbIycHQAAAAAAADASwiw8BYYNG/bJJ5+0b9++Va4uk8kaqbDu3r17c3YFFIushwwZIpVKdRlPG2gAAAAAAAA8RaiARpsm7rz366+/lpeX1z1bWlq6devWGzduGOnqVlZWLi4ud+7cqbfGWSaTFRUV2djYNKf/hkQi6dChg52dnS6DbW1tzczM9L4WAAAAAAAA0MIIoNHW9evXLy8v7+LFi1rHVSrV4cOHN2/enJ2dbaRLS6VSb2/vtLS0q1ev1j176dKlzMzM3r17NyeAtrW1TUpKmjt3ri6DR48eHRAQoPe1AAAAAAAAgBZGAI22zt/fv1+/fjt27Lh7967m8by8vN27dw8fPnzo0KHGu/pLL71kY2Ozb9++yspKzeMlJSUJCQlOTk5Dhgwx3tUBAAAAAACApxoBNNo6Jyen0NDQnJyc8PDwCxcuKJVKhUJx+vTpBQsWPHz4cN68eTr2r9CPp6fnxIkTU1JSlixZkp+fr1QqlUpldnb28uXLz5w5M2XKFFdX17qvun379owZM0aNGlVQUND4/AUFBaNGjVq2bJlWwF1XSUlJaGhoaGhoSUmJ/u8HAAAAAAAAaEFsQoinwPjx4wsLC+Pj4ydNmqQ+6ODg8Le//c2o5c+CIEgkkjlz5hQVFaWmph47dkzz1NSpU8PCwurdnDAjIyM9PV0QhPPnz7u5uTUy//nz53Nzc6uqqu7evevp6dnIyIKCgpMnT4oPHB0d9XkzAAAAAAAAQMsigEYrsLa27t27dyOVy5aWls7OzhYWFuJTiUSyaNGigQMHJiQknDt3ztraesyYMfPnz3dxcWloBolE0r59e4lEUm9A3KSR9vb2GzdufOWVV5KTkzMzMwVBGDRo0OzZs4cPH65eoRZ/f/+hQ4fev3//N1s2BwQEeHl5+fn5denSpfGRbm5uw4cPFx80PhIAAAAAAABoI0w2nfDWfL7kDzmttRTjyc3NFQTBy8urOZOoVKq6T9V/isT+DLW1tQqFQi6X19TU1NTUVFZWymSywYMHN+fqAAAAAAAAAGBwZ8+elUql1tbWFhYWFhYW5ubmEonEzMysXbt2+k24+d89NZ/SAxoAAAAAAAAAYBQE0AAAAAAAAAAAoyCABgAAAAAAAAAYBQE0AAAAAAAAAMAoCKABAAAAAAAAAEZBAA0AAAAAAAAAMAoCaAAAAAAAAACAURBAG52JiUlrLwEAAAAAAAAA6mfUAJMAGgAAAAAAAABgFATQAAAAAAAAAACjIIAGAAAAAAAAABgFATQAAAAAAAAAwCgIoAEAAAAAAAAARkEAbXgmJiZG3TgSAAAAAAAAAIzB4NkmAXSzNHIziKEBAAAAAAAAPC2MlGcSQOuq8ay5oWHE0AAAAAAAAADasroZpgEjTQJoQ2roxpBBAwAAAAAAAGiDjB1dEkAbHekzAAAAAAAAgDbLqAEmAbTBEDQDAAAAAAAAgCYCaD01HjeLbVNMTU1N/qvFFgYAAAAAAAAAOlIHmOow07DzE0AbHnEzAAAAAAAAgKeUYeNNAujmEu+H+q7U+1sCU1M+ZwAAAAAAAABtTt3o0rB10ASjRqSVTQMAAAAAAABAW2PUGJMA2pDq1kGTQQMAAAAAAABos7RiTHpAtyEN3QytGNrU1NTMzKwF1wUAAAAAAAAAOjEzM9PafpAe0K2m8cRZq9jZzMxMHUDTAxoAAAAAAABAGySml2KSqa6jpQd0Wycmzur0mQAaAAAAAAAAQBukDjDF0NngSabEsNM980xMTFQqVd2npqamSqVS/FOzYYp45yQSyS+//FJVVVVdXV1dXf3kyZOamhqFQlFbW6tQKFQqlVKpFARBpVJpTq75GAAAAAAAAAAap1m5rO6qoY4ozczMJBKJhYWFlZWVpaWlpaVlu3btpFKpOsY0RidoAmijMPkv8aYqFAqJRGJpaalUKsWs2czMTC6X19bWKv+LuBkAAAAAAACAYWk2aTAzMzPXYGlpKZFI1Nm0OtI07AIIoJtLXQQtPlD/VkGpVJqZmdXW1pqampqbm4tlzuIA8WZLJBKlUllbW6tZAV3vJcimAQAAAAAAADSk8b3rxOpmcbNBiUQiFkFbWlqqk2ix7YaYQat7CxtqbQTQTabVhaOhAeoMWsyXzczMLCwshP/+zqH2v8Touba2Vv1yYmgAAAAAAAAAumg8ehaJWwuKRbEiCwsLc3NzCwsL8am6Atrg6bNAAG1YmkXQ6uJ28Raq42PxiEKhUJc/qyugRQTNAAAAAAAAAJpDM0RW93fWLIIWmZubi+mz5j6EBNCtr6GtCAWNsvba2loxg1YqlRKJRPjfxtDm5ubqAFr43+0HtbYiBAAAAAAAAADdabZy1txaUB00izG0mD6LbaDV6bPmboQGQQBtGHU7QYv16iqVStyEULPQXb33oEpDK78BAAAAAAAAAM8iEw2aPRvEB2IYrQ6mDV4ETQCtp7qdoOtm0OoYWvw1gvq4uP2gGEALGiXPmhMSSQMAAAAAAABoKs3sWJ0mazUNFiNKsSZas/8GLTjaNM1IWuy8odW0W92XQ7Pvc73lz9REAwAAAAAAANBDvQ001AfVQbNY/qz1QF1Qa0AE0PprqAhaswJaEASlUineQnGwmZmZWP5sZmZWb+0zAAAAAAAAABiKVh20WO8sCIJW7qyOnqmAbkPq7kYoCIKYPosP1J2gBY2U2dTUVCt61tyBsEXfAAAAAAAAAIBnkeY+hML/xtCa1dCahc/G6MJBAN1c9dZBC/+NocUMWit6Vjff0HyVeBAAAAAAAAAADEWrpYZWIw71Y+F/c2pBEC5cuGCQBRBAG5g6jxbbQKvbcYh3WjyiGUmrK6AN3l0FAAAAAAAAALSSZc0t67TOGqMLBwG0AdRtxKHOoLXKnNV9n7WadWiiCwcAAAAAAACA5qg3QdbMoOs26KibUAuC4OTk1ORrl//PMwJow1AHyuqn4mPxztXbo0NE3AwAAAAAAADA2LQi6XrD6LrDmo8A2pA0s2atx+KdE1twaL2k7jyk0gAAAAAAAAD0o2OIXLcnsMHTZ4EA2uC0cmfhf9Nk9U3V6gFddxLjrhIAAAAAAADA70m9HTbqnm1kjH4IoA2vbjsOoU7QrHW/KXkGAAAAAAAAYAyNp8nGi55FBNDGUm8MXZe6VXSLLQwAAAAAAADA781vJpBGiigJoI3rNwuciZ4BAAAAAAAAtCKjRpQE0C1BfQtptQEAAAAAAACgLWiZ0lgC6BZFx2cAAAAAAAAArasluzIQQLeCxm8w8TQAAAAAAACA5mg7jX8JoNuctvPlAAAAAAAAAIDmMG3tBQAAAAAAAAAAnk0E0AAAAAAAAAAAoyCABgAAAAAAAAAYBQE0AAAAAAAAAMAoCKABAAAAAAAAAEZBAA0AAAAAAAAAMAoCaAAAAAAAAACAURBAAwAAAAAAAACMggAaAAAAAAAAAGAUBNAAAAAAAAAAAKMggAYAAAAAAAAAGAUBNAAAAAAAAADAKAigAQAAAAAAAABGQQANAAAAAAAAADAKAmgAAAAAAAAAgFEQQAMAAAAAAAAAjIIAGgAAAAAAAABgFATQAAAAAAAAAACjIIAGAAAAAAAAABgFATQAAAAAAAAAwCgIoAEAAAAAAAAARtFCAfT9+/fv37//m8NOnTrVAosBAAAAAAAAALSAlgigr169GhUVdfr06cYz6Li4uF27dpFBAwAAAAAAAMCzwegB9NWrV+Pi4gRBOHTo0OnTpxsalpiYePXqVUEQyKABAAAAAAAA4Nlg3ABanT4LgtC5c+eePXs2NHLChAmdO3cWH5NBAwAAAAAAAMAzwIgBtFb6PHv27F69ejU0uHPnzlFRUWTQAAAAAAAAAPDMMFYA3aT0WT2MDBoAAAAAAAAAnhlGCaD1SJ/Vg8mgAQAAAAAAAODZYPgAWu/0Wf0SMmgAAAAAAAAAeAYYOIBuZvqsfiEZNAAAAAAAAAA87QwZQBskfVa/nAwaAAAAAAAAAJ5qhgygc3Jy1JGxIAiaj/Vz//59A84GAAAAAAAAAGhJhgygJ0yY8Pzzz4tJ8f379+Pi4jQT5Ca5f/9+VFSU+mlUVJTexdQAAAAAAAAAgFZh4B7QBsmgSZ8BAAAAAAAA4Blg4ABaaHYGTfoMAAAAAAAAAM8GwwfQQjMyaNJnAAAAAAAAAHhmGCWAFvTKoEmfAQAAAAAAAOBZYqwAWmhiBk36DAAAAAAAAADPGCMG0EKdDPrQoUMNjdQ8RfoMAAAAAAAAAM8AibEvMGHCBEEQTp8+3blz57CwsIaGiadOnz5N+gwAAAAAAAAAzwajB9CCIEyYMKFTp07Dhg1rfFhYWNjzzz9P+gwAAAAAAAAAz4aWCKAFQfjN9FlE+tzq4uLiEhISBEHo1q1bUlKSp6dna68IzVVaWhoWFnbx4kVBEMaPH79u3TqpVNraiwIAAAAAAECbdu/ePYPM00IBNKBFJpMtX7788OHDgiD4+vomJiba29sb+6KaUaxhtXpeT8oMAAAAAACANogA+qn3+PHjtLS077///vLly9evX1coFIIgODs7e3h4DB8+fOTIkV27djUxMWntZQIAAAAAAAB4aowcOVK/F/747/95SgD9FLt///6nn366d+/e6upqrVO3bt26devWv//979jY2KFDhy5cuHDw4MGmpqatss56KZVKmUwmPq6oqKioqGiBCmgAAAAAAAAALYkA+qmkVCq//vrrtWvX6tKKJT09PT09/c9//vO7775rY2PTAsvTxa1btzIzM8XHN27cyM/Pd3Z2bskFzJ8/PyoqqpmTqFtmN5VmBxK97du3LzAwsDkzAAAAAAAAAEZFAP30USgUSUlJGzduFLttCIIwaNCgmTNnBgQE2NvbSyQSlUpVXl6ek5Pzz3/+89ChQ2J99O7duwsKCjZu3Ojo6NiqyxcEQVAoFAcOHCguLlY/3bdvn7+/v62tbesuDAAAAAAAAIABtaGeDNCFSqX617/+pU6fu3XrtmvXrn379o0ZM8bBwUEikQiCYGJiYmdnFxgYuH79+qNHjwYHB4uvPXnyZFxcXGVlZWu+gf++hS+++ELz4LFjxxITE9WROgAAAAAAAIBnABXQT5mzZ8+uXbtWDGrd3Ny2bt3aq1evRsa7uLjEx8evXLkyJSVFEISUlBTxQWtRqVQ//PCD+i04ODhYWVndunVLEIRt27Z17dp18uTJbapXtZFIpdKPP/74448/rvesurNHt27dkpKSPD09W3Z1AAAAAAAAgGE8+0nfs+Tx48dJSUnl5eWCIHTo0CE2Nrbx9FlkbW0dFRXVFpoFi602Fi1apH4LMTEx69atc3BwEM+uWLHis88+q6mpae2VAgAAAAAAADAAAuinSUZGxo8//ig+fuONNwYPHqzjCx0dHRcuXGhtbW20pf22+/fvL1u2bMWKFWJPaktLy+jo6LFjxwYFBf31r39VZ9AbNmx455131O2hAQAAAAAAADy9CKCfGgqF4tSpU2Lnik6dOo0aNUrs+KyjAQMGDBs2THw8bNiwixcv5tdn/vz5Bl95TU3NwYMHX331VXX3j27dun3++ed/+tOfTExMBEEICgr67LPPvLy8xLPffPPN+PHjDx48SCk0AAAAAAAA8FQjgH5qVFVV5eTkiI/9/f1dXV2b9HJra2t1xfT169dbpsS4pqbm+PHj06ZNi4qKunfvnnhw7NixBw8eDAwMFNNnUf/+/ffs2RMSEiI+vXfv3v9v7+7joqzz/Y9/BuecOQcUHyaY/ZSycSxi7HcM3QzXm2ktqU6iazC7G4trhG7epa0bsnjM1BMRLb+0ZDElamPNbSRT3DxBWbNlIqVo6VApkDp4NMebxOTsnEb5/XHZOHI7wHUxoK/nHz3m5rq+1+e6ri886N23z5Wamjpp0qSSkhJiaAAAAAAAAKCb4iGE3capU6eOHDmivB40aFBwcHBbR4iKilJeHDt27PTp02oWdyWPx1NVVVVUVFRYWOjNnUXkpptuWrJkydixY5t8zGBYWNiyZcvuueeepUuXHj58WES+/vrrxx577IYbbrBarZMnT46IiLgWnk8IAAAAAAAAXDUIoLuNCxcuXLhwQXltMBh8lw/76brrrrvhhhuOHTsmIkeOHFHxsYQ//PBDbW3tkSNH9u/f/8knn5SVlSmPGfTq3bv39OnTp02b1nJuHhQUZLFY7rzzzrfffvvFF19Uwutjx46tXLly5cqVvXv3Hjly5D333HPrrbcOHDiwZ8+e//RP/6TWKQAAAAAAAABQHQF0t+HxeJQG0CISERHRjhF0Op0WK4hPnTr1+OOPl5aWNvntDTfc8OijjyYkJPTq1cvPAZ3R2VsAACAASURBVIODgxMTE3/+859v3bo1JydHWQ0tImfPni0pKSkpKVHeDh8+fNWqVddff33HT6FL+eGHH7777rtAVwEAAAAAAACogAC629Dr9d6nDjqdznaMUF9ff/HiRVWLEhHp27fv008//dhjj33zzTfeDw0Gw4MPPhgfHz98+PA2PSzRKzg4OD4+fvLkyQcOHHjrrbc2btzou6par9fPmjWrI+nz6tWrV69e3e7dtePxeOrq6pTX3377LWE0AAAAAAAAui8C6G6jR48ePXr0UF673e76+vq2duE4ffq00n9DRHr27KlibUOGDJk9e/bzzz8/bNiwUaNG3XXXXTfffHP7cucG9Hp9VFRUVFTUokWLjh49WlZWtnPnzs8//3zs2LFjxozp+Phd0D/+8Q9vs2+Px3Pu3Dnfbzds2LBw4cJA1AUAAAAAAAC0GQF0t9G3b98bb7xRiSYPHTpUV1cXEhLSphEqKiqUF3q9Pjw8XN3ypkyZMmXKFHXH9BUUFBQREREREREfH6/dUbqC7777zvcRkYcOHQpgMQAAAAAAAEBHEEB3G7169br99tu3b98uIuXl5YcOHTKbzf7vfv78+U8//VR5PWjQoKuvdbI/+vTps3HjxkBX0Ypjx455V0CLyMGDB3/44QcetwgAAAAAAIDuSP1H0kEjOp1u7NixSl+LU6dOFRcXe59J6I/PP/9cCa9F5Oabb77uuus0qRIdtnfvXt+3X3zxxalTp7xvExISqpuye/fuYcOGdXqxAAAAAAAAQEsIoLuToUOHjh8/XnldUFDgXdHcqhMnTrz00kvnz59X3o4ZM6at7TvQOc6fP//555/7fnLgwIHDhw8Hqh4AAAAAAACgI2jB0Z2EhITMmDFj586dZ8+ePXv27OLFi3NyciIjI1ve6/z581lZWWVlZd5PnnrqqaeeekrjYtEeTqfziy++EBGz2Xz99dd/8MEHHo/no48+uvPOO9v6zEkAAAAAAAAg4AigG9q6dWsHR3jggQdUqaRJw4YNW7RoUXp6usfj+eabb6ZPn758+fKxY8cGBTW9mP3IkSNLly798MMPtSgmKytr9erVWozcJnFxcc8+++y//uu/BroQFZSWln777bciMmLEiFGjRn3wwQcisn379qlTp16bbbsBAAAAAADQrRFANxQVFZWcnHzo0KF27Dto0KD8/HzVS/Kl0+kmT5585syZ559/3uPxHD16NDk5+Sc/+cm0adNGjBjRp08fvV5fX19/9uzZr7/++u233968ebPb7da0JKjlu+++e//990VEr9dbLJZbb701KiqqoqJi3759n3766cSJEwNdIAAAAAAAANA2BNANKSFyOzJoZcdBgwZpVJiXXq9PSUkxGo3p6ekul0tEPvvss88++6zlvcLDw5988snJkycrjzFsThdZ1NxxXeRE2rQ6e8+ePcp9vO222yIjI/v27RsTE1NRUSEiW7du/dnPfkbnbgAAAAAAAHQvBNBNaEcG3Wnps0Kn040fP/6dd97Jzc194403Wl7jbDAYkpOTH3nkkbCwMHXLSE1NTU1NVXfMa9b58+dtNpvH4xGR+++/v1+/fjqd7r777vvrX/96/vz5bdu27dq1a9y4cYEuEwAAAAAAAGiDphsHo02Bcienz15hYWGLFy/+9NNPc3Nzp0yZcuutt3pXN4eHhw8fPvyxxx5bv379nj17nnzySdXTZ6hr165d27ZtE5Gbb775/vvvVx45GBkZOXr0aBHxeDzr168/d+5cgKsEAAAAAAAA2oIV0M3ycx10oNJnr169esXGxsbGxgaqgK6pg6uzN2zYsHDhQhEZMGDAq6++ajKZ1CutCefOnVu/fr2y/HnKlCk33nij8nlISMgvf/nLbdu2eTyeDz744OOPP9b0EZcAAAAAAACAulgB3ZJWw+WAp8+4Orz33nsffPCBiAwZMuTBBx9Ulj8roqOjf/azn4mIx+PJzc09duxYwKoEAAAAAAAA2ogAuhUtRMykz02qrKwcM2aM0Wg0Go0bNmzo+IAbNmxQRhszZkxlZWXHB+xqDh8+/PLLLyvLnx9++GHv8mdFr169pk6dqjx+0OFw/OUvf1G2BAAAAAAAALo+AujWNRk0kz5DFf/zP/+Tk5Nz8OBBEYmJiWmw/Flx5513Wq1W5fXatWtLSko6u0oAAAAAAACgXQig/dIgbiZ9hirq6+vfeeedTZs2iUhISMhvf/vbvn37Nt5Mr9dPnTp1yJAhIuLxeLKzs5XAGgAAAAAAAOjiCKD95Q2du1T67NvvIisrK9DldHXebh5Go7GsrCzQ5UhpaekzzzyjtNSYOnXqqFGjmtvypptumjdvnl6vF5FvvvkmPT3d6XR2XqEAAAAAAABAuxBAt4ESPXed9Bnd2t69excvXnz27FkRGTly5G9+8xslX27OhAkTZs2apbzevXv37373OzJoAAAAAAAAdHEE0G2jrIAOdBXo3urr68vKyubOnfvNN9+ISO/evefOnduvX7+W99Lr9dOnT58yZYrydvfu3YsXLz5z5ozm5QIAAAAAAADt1dKKS6CDFi5cuHDhwkBX0eXY7fZZs2a53W4R0ev1ixYtiomJ8WfHkJCQ1NTUo0ePlpWVDR8+fPny5X369NG4WAAAAAAAAKD9WAGNK6SmplZXV1dXV3/88ccmkynQ5VydxowZs2jRIqXhxqxZsyZPnqzT6fzct1+/fsuWLfv1r3+9Zs2aiIgILcsEAAAAAAAAOooV0EBn0+v1iYmJN9xww+7du6dPn95y6+fGhgwZsmzZMo1qAwAAAAAAAFREAA0NPffccwkJCR0cZMOGDZ3fxyMhIaHjlbdAp9ONHz9+/Pjx2h0CAAAAAAAACDhacAAAAAAAAAAANEEADQAAAAAAAADQBAE0AAAAAAAAAEATBNAAAAAAAAAAAE0QQAMAAAAAAAAANKEPdAFQzerVq1evXq3umOvXrx85cmS7d1+4cOHChQtVrEdFv/rVr1Qfs4OXCwAAAAAAALjKqBxAnzx58uTJk+qOqYiMjNRiWAAAAAAAAACARlQLoL/66qusrCy1RmssLCwsLi5u9OjR2h0CAAAAAAAAAKAi1QJoTdNnETl58mRRUVFkZGRYWJimB+peTCbTxx9/HOgqrtAFS/JKSEhISEgIdBUAAAAAAADAtUKdAHr79u3e11oExEpbD6W/BwE00FifPn02btwY6CoAAAAAAACAK6jcAzoyMjI1NVXdMUUkKyvrq6++kh+TaAD+I5sGAAAAAABAoAQFugAAAAAAAAAAwNWJABoAAAAAAAAAoAkCaAAAAAAAAACAJlTuAe117tw5pWtzW0VGRnp3jIyM7NWrl6p1AQAAAAAAAAA6iVYBtIjk5ua2dZeZM2f67rhy5UqVawIAAAAAAAAAdBZacAAAAAAAAAAANKHhCugBAwZ08o4AAAAAAAAAgK5DqwC6V69ey5cvb9++7d4RAAAAAAAAANB10IIDAAAAAAAAAKAJAmgAAAAAAAAAgCa0asFx7ty5efPmtXWvmTNnRkZGendcuXJlr1691C4NAAAAAAAAANAZWAENAAAAAAAAANAEATQAAAAAAAAAQBNateAQkeXLl3fyjgAAAAAAAACArkOrALpXr17tbt9M32cAAAAAAAAAuArQggMAAAAAAAAAoAkCaAAAAAAAAACAJtRvwXHy5EnVxwQAAAAAAAAAdDvqBNBhYWHKi6+++io1NVWVMQEAAAAAAAAA3Zo6LTjCwsK8GbR2wsLCRo8erfVRAAAAAAAAAACqUC2ATk1NjYyMVGW0Fg6h3fgAAAAAAAAAAHWp1gNaCYg1agDdCcurAQAAAAAAAADqUvkhhCTFAAAAAAAAAACFOi04AAAAAAAAAABogAAaAAAAAAAAAKAJAmgAAAAAAAAAgCYIoAEAAAAAAAAAmiCABgAAAAAAAABoggAaAAAAAAAAAKAJAmgAAAAAAAAAgCYIoAEAAAAAAAAAmiCABgAAAAAAAABoggAaAAAAAAAAAKAJAmgAAAAAAAAAgCYIoAEAAAAAAAAAmiCABgAAAAAAAABoggAaAAAAAAAAAKAJAmgAAAAAAAAAgCYIoAEAAAAAAAAAmiCABgAAAAAAAABoggAaAAAAAAAAAKAJAmgAAAAAAAAAgCYIoAEAAAAAAAAAmiCABgAAAAAAAABoggAaAAAAAAAAAKAJAmgAAAAAAAAAgCYIoAEAAAAAAAAAmiCABgAAAAAAAABoggAaAAAAAAAAAKAJAmgAAAAAAAAAgCYIoAEAAAAAAAAAmtA3eH/w4MGA1NEJruJTAwAAAAAAAIAuiBXQAAAAAAAAAABNNFwBPWTIkIDUAQAAAAAAAADo9o5e8Y4V0AAAAAAAAAAATRBAAwAAAAAAAAA0QQANAAAAAAAAANAEATQAAAAAAAAAQBME0AAAAAAAAAAATRBAAwAAAAAAAAA0QQANAAAAAAAAANAEATQAAAAAAAAAQBME0AAAAAAAAAAATRBAAwAAQFvlmUaj0Zhc6Ap0Id1ReYbRaDQm245reAxXYbLRaDRmlmt4DHW4bMlGo9GYsSvQhQAAAMBv+kAXAAAA0F2UZxjj8ySlsDo9OtClBIhyBfwwo7A67Vq9SB1WnmmMXyMptur0ER0b6Hi5bf3rm7eVlle43CLSx2T+SYw1IWnSOFNo1/iXAFdh8shUe2tbWTJ35Fv7d0Y9AAAA0AIroAEAAIDOUusoypw5YbjRaDTeNmrizJfszvOaHMdZOHPYqPi0l4pKlfRZRM5UOkoKlkyfMHJyhp3F6AAAAOgsXWPxAwAAALRXW1X67rZ3P3ynvLzK4aoTEZHgcPPg6Oh/v3vSA5OiBxpaGyA6vbo63feD47bkUWl2S2ZZvjVco6KvJjW25PvS7HWX3rmPO4pfSC4uSinclB4douZxXG8nT0i1u8UUm5a+IC7G1N8gIuKude7bnPN0hq0iL/lhQ+HfFkS3esOvpCzNbhO/1nGzXh4AAOCqRgANAAC6gv89WHFySNT/0WRsj6t809q1r222V7jcIob+Zst469TZSTHN/E/9rbUFyIs3Nt2FwpJVlh/fVWPY46U5qTOzt9c2/LzO5dhX7NhXXJCZFjp6QW7W7OYuS0tOuc+KaHjmZyrtG1aterlf+m6/mp+4a8o3/2VVdtV9f1vbxli81lH0yto3t9pLq2rlx6nyi2mTLINDm97+eLnttbUFRXbHcbeIITzKMmna9OmTo8Ob/BPb48h5JM1eJ6bf5L/ye0tEiLhdDtvSxCVb8xLnD/1obZxqF9Bdumqx3S2mFNuW9BE+GbMhNGJEUuYmS/TMCWnbcjIKrYWJEWodEwAAAO3z7fen/l5Vtv/4Adf3p0UkvOd1Q/vfMm7wyOt79g10aaohgAYAAAH3v/s3zE6sODB6xPqcf1c7g3bZlzycXFB1+QP3cUfxuiXF6wqsq17JfOCaCODcu7Ljp+U46kT6xKT8YY51tDkiLNSg/BnocdcerbQXr3395aLy7dmJ97w7+7XCBSP8Xhl72lUlIvsqa9xiauNyWn/UVtltf1q16u3yWhGRlFa29ridezcXvJxdsM3lFhHLfW06lnNr2qxUm6Pu8ic/TpXs2OWFKxIbnp/LnpE8J89ne7erojgvtTjvZWvuq5mxAxudy3+tyq4Sw/gV65ZYlKzZEG5OWrGu9uuJ2duybfviZt/epnqbV7HDVieSmN70fdRHWJ+Yk7Mtu9y+x5UY0abUOzqtujrN343bsVwaAADgmuI4fnDVJwWb9r/X5LeTh94756dJ5v5DOqGSmpqagQMb/f3ajJ07d951111tGp8e0AAAILCU9Hn/CfnfjeUvbzuh7uAu28LkgiqR4OjZa0vK9lVXH/iy7L382SMMIpW2OU/4BtNe4fH51U3akWkREYnL3dv09110+fOZ4oXTchx1BnNyflnZuvT4GFP/H9NnEdEbQm8yx81YUVhWlv8bk9Q5cqZl2P3uSuyq2O0UEbF9+JlbzZrdzvLCjORRtw27NznjUvrcojOV9jXz40feNs6alrfN1Y5S3LsyHp1jc9SJYcTs/PfK9n5ZXf3l3rLNmdYog0ht8eKJGfYrR60qmJmc56gTQ5Q1c3PZ3i+rq/eVbcmymoNFqmwzH8lxeBocobb0/WKRiDmPX7nSWW9OejxWxLnqnfK2V92MC263iISENvtfBK4LHywiF/6h2hEBAADQRqs+Kbjn5anNpc8ismn/e/e8PHXVJwVaV7Jz586xY8euXLnSn40LCwtTU1P93NiLFdAAACCAvOmzSJDllUeWju+n6vC71i6xi0hEytp1C2KUOM4QPtiy4NV17snxeVXlGX8ptS6J8XPlrmv7u3YRkaJNf18WO7GZngxdj3Pr2qI6MSTmFv6HpaUz1YdbFr2SeXhcmr3g9f+aY/ErTHe+u17pVeIuyN88Z7TS78JlSx6Z1kILEz+UvzDu0uLZ4PDo2OmT+mxeku9ofnOXbcGES0fsY4pNSBlak5a9tU0HdNqezasUEUtmyRprxKU/kEPDb7dmvhkRen9iXo274PXNcyzehh7u0r9klItIcFLum0stSvtmQ7g5PrNwQOiExDxnVfbakqQVD/hMEnf5ji0iwbExtzU8duhd91uk2F7qqJRoU5uqbtn5WrdI03fc5aoSkR7/0sYRVbizTVsTb2xxrXSXbm4DAADQdk8Vr1i7801/tnzm/T+d+P7Ustj5GlVSU1Pz8MMPi4iSKc+bN6+FjZX0WUTeeuuthx56yP9F06yABgAAgdIgfX72AX//gPFX+fsFbhG5PcXaIGQOiZ7+W4uIuP/8bqmfy2VrbAufvpS9Ff9hvq1G1UI15NpjLxcxJE1qMX1W6CMmTU0SEfvnDn+uintXQd4ekTssloEi9iXPbG19pbL/Qu+IS19bsndvWWF2yn2RrYaPhvDxKZm2v39ZVpKbZo1p60Sqstv2iIgkTZ0U0WB5RkiM9VGziIjd4XNRKsu3uUXE8OtJlisfHmiImWQdKCJS9EXlFV+4TlSKyJ2mhuOLSPhAc7DIPqer4aLp9rr97qRgkXUZ2buauo0ep+3FVU6RaMsdZLoAAACdb9UnBX6mz4q1O9/Ubh30wIEDvaHzypUrW1ja7E2fReTxxx/3P30WVkADAIAA0Tx9FnFW7nOLiMFibrywNDxqeITYnWJ3VIklqrWRDttmTkmz14lpbn66OyN5jT3tkbTeTfX57YL+cUFEYkz+lWroaRAROXqittWHCnoceX/Ic4ohaW5uumQMSy4oSp0/6v/mWweGW/OrrVdu29Z2wNFPfLnX4H9L6fBJuV9a/d7cvScnPim7MjTuuY0r4pQnLp5xOkRELObIJkbpHaJcCWft5YviPlsjIhJjatxDvF+4SaTxf584XlkqIreYmrqqERF3itgrnSelPU+AbMwQk/K0xZZqz7OOdDyxYmlCjKm/QUTEXevctznn6QxbhVsGz06Pb2cD9BRbdfoINepU2t3E+35QnmGMzxNL5o58qyqXAgAAoItxHD/4zPt/autez7z/p7sH36VRP2glgFai5+bWQfumz1lZWfHx8dIWrIAGAACdrxPSZxFxVZaKiMRENBW0KW1wxXn2bCujOLekTfz3tOIzYvpN/rq5FsvvX8mNN0mVbeZ9EzO2udSuWX3/0kNESiv9W7Lt/t4tIjKgX2sdRtzlf3wiu0oM45+bYzEYLOnrZpikzp72SEapKsug25A+t3lzR3G2o07cx4s2bf/x9g1bsHf33r27V0wKa2L7f3jcIiIDhw++HB6HRtwuIlLqdDba/Kz7VJtLEhERe9ooo6Ljz+6LiM8tTIsJldrSF5InjLrt0ri3DRtnXWKrcBuirLmvLohuXOGaeKNXpno9qQEAAPCjdq9l1rQZ9Lx581pYB93B9FkIoAEAQKfrnPS5Nf1NyrLoyqPNhsi1+4oypg4bN8/mqAuNXV6yZYklXC+ij4jN2lKyPDa0zpE3feSwqRlF+9RsPaG28Dss0SLugs321rtqeJybXy8QEcu/mVuOT51/nZm4plKCLc8tVx6pZ4j+/SuZ4w1SlZf4UFrRYVUq14o5doE5WKRP7OTRPybKekNon9DQPj7PZrzMad9QKiIRCRbz5Q9N0feZRMT99rulVz6w0b3LlrdPRCKSxpglkAzmGev27ijMnBFr7u+9maGm0XGzV24p29Q9Fu8DAABcZb79/lQLTx1s2ab97337/Sl16/HVXAbd8fRZCKABAEDn6sT0+XhlZesbNeJxu6rKi9YtSR5127BJ8/O21xqirJl/+yg30eSTyRpMibll72Zaowy12/PmTxp226j4+S/YSqtctX52lO5EEQ9MjwsW97qZ8f9pb6nLsMdlf+bRNLtIcNLU+5tvv+GpLc+Nn5Bud4sp5bXcOG+fBH2EdcW62VEGqbLNv3tCWqGjVq2Oxmoz3DF7y/7q6t0+xTevdmt2xh4RscxOuCJQNk/NTBksUpOX/Eh26WG3iIjH7dyenTgtzylimvHCghFtXQJtydxRrSic0cZdm9M/2pqWu2XHl8qAKba9Ja+vWDDRHNpcE74ZhdVeadEqFdEObvfpWndXnT8AAADt9veqsgDu3qrGGbQq6bPQAxoAAKjm4qntBS/uH77osaH/3MwWXWPtc0vcpZkTEvMv9VUw9LfMWZ6eNM7UZGBnuMWa+Tfrgu15z2RmF1WUF71UXvSSGMav+GhtXNd6tluf2OdeS6mw5jnyk0e+HZPyh+mTfhJtGvDjal+Pu/Zopb147esvF5WfEQk2z34tvcGD9S47XpqTOjN7e62IwZL1SvqIho92XPDmln7zJy7ZVml7Ojv6rnxrl7u/bVRjm59a5BaJXpLesCVxSHT6G+t6L5iZvT0n8e4cny8M5uTc/N836m/R3xQjUnqg0iXRjaaH0/mpiIT2Dlb9BLquFtuCly55cNiShh+mrDuQHsO/uwAAgO5s//EDHdzd+m8PqFVMkxr3g1Z0JH0WAmgAAKCOi6e2/3lOwpFDcuS/RXKayqC7fvosIoaYJ15I2ZPmjEr6xbRJlsENOiErT0hLKaxO964ODR+dsuJvKcuq7Jtfe7Ngm3vO8i6WPouIiGFE+pZ3TUt+t8RWUZqXWprXzGahdyQt+39L425qdhzn9rWrlPR5yZbcJh9hF2JKyi0z589/Pfy5bp8+ny/PeCTNXieG8ZkvJDZ+jKXIhSZ3M4T2bmrtc3g/k0jpp5VOj4Q3+APcVeOoExk4ZGBrjbc7yH221u1pss1I2+RZjc1NoaZc8fPiFT4oRqTU+9bQ33zF8xl7D465I+LSdTxdaf+iRuqcqj2kEQAAIEBc358O4O5+8s2gFR1Mn4UAGgAAqCOo740DB9145NCRi/uXvj27UQbdLdJnEREJiU5/q6StO4UOtiQttyQt16IgdSjrtdOr7JvXb3r3swrHvsofG1eHmm43R1km/SLuvpiGgXtDEfErVnw6c//PVyyIaT5m14dGz8gPYPsGdZwvz/5FYl6VyOCUdSusEY3+ZHbvy0n8VXZ5nZjil2bOnmQeEGpw1zq/3JzzdIbthcSxxbPXvbkg2nchucFstojYi0u/TI++/Yqhanf+l13E8ECMCk2jXUXJI+fbm/myYPqwJp5cM6MwIN02In65rvqX/m68QMtKAAAA0MCAAQN83x49erSDAxJAAwAAddx477Mb5A8JO+yNMugApc/9TSaR5sI48XS9bs3aCx1sSfoPS5JIk6u5/RkgNmtdrEbFdR0ep21+Yk6FWwZbc19Nj27ckMTjyPtddnmdRCSv2/IfMZcW6upDI0YkZb5pDp0cn1eR88RLd5ek+TbiCL/v57Fp9uJVLxZZfZu0eBwFLxaLGKyj1XhoYfjAluZ8h0e35ldblZe7MozWPLFkluVbr/xvEe2bV+2qAQAAoLsJ73ldAHf3k2/fZ4WyGtrbHrodCKABAIBqmsqgpYuufT7pVB5RaBrQBXtmdAsuW/LINLuk2KrTRwS6FhV5nMXpj6Ztc0uwJfPVzNgmp+u+d1dViYg55VcxDdtthERP/60lL9XuXLO59Iloi8/XoffPWfBicfa2+YlLQ1/5vSUiRNwuh21pYnaVGMY/N2d0Wx9a2KTo9OrqdDUG6kwt9oNu2tU26wAAwLVhaP9bAri7Pxo8dfDo0aO+/aDbnUETQAMAADU1yKC/LZWN/x2o9DncFCNSKvavKkUapcynXVUiIuaIfp1ZEro4d/kfH51ZWCnBlqUbc5trY+2qcrhFRGJMTfXLDh+krEJ2njgj4tuzWG+e/Wrm7vvS7H9OHvdnn88HW1cs6YqtwwEAAKCucYNHBnD3VjVIn719nzueQQepVCEAAMAlN9777IZRlhtF5OL+1QFLn0Ukwjw6QkSkpNzhafidc8+HThEJjjE3/8w9qCU6rbq6ujo/vounrO7KP89MXFMpYkp5LTfplmaXJIeGKQ9gdDiPN/Ft7YkTyot/6dHou4HW/B1bVsyINfURETH0N8c+kf/3Tc2ss+4oly3ZaDQm25oqsguyZJVV+6FwRqALBQAAaK/re/adPPTe9u07eei91/fsq249vppLn+fNm+cNnVeuXOn7cEL/sQIaAACo7/I6aAlk5w3zaGvE89nOmlW27SlLfbshnC8teLlcRAwJd5u9fw0pbW1blxdvbGWzwPcHuJrOpbM4C2dOXGp3iynFtiV9REsNMQyRZouIXUrz3nZY517Zu9lTufmVIhGRO+6+o8m8PdQcl5Ybl6Ze3WoIj8+vbubB5q7C5JGpzbSVtqeNNDZ5Jk3OK0vmjnxr/ya2BgAAuHbM+WnSpv3vtW9H1Yvxai59VigBdEfWQbMCGgAAaOLSOujA9n2+3bpgvEHEXTAnPq3Q4Tov4nHXHi7NfiQ5r0ZEotN/3aiHL6527j05E4cajcNnFvksDXbvyng01e6W0NjsV1pOn0VEHORL1wAABTRJREFU+k+aM9ckIpUvxMf/Z5HjeK3bI+KudVXZsx+euGSPiBiS5lojNDwJAAAAdEvm/kMW3TOrrXstumeWuf8QLeqR1tJnRQfXQbMCGgAAaOXGe5d+FPPPhp4BLCE8bsW6g79IzKlw2FIn2q54mLPJuuqFpME+H4zojs9va8bVdC5qcxRnO+pE6oo3bXfFXeoKUp5tzasUEaktXjDOuKC5XVMKq9OjRUQM0XNfyT326MzCyvL8+RPzG2wWGpu15YoV991ZC4ujAQAA0A5zfpp04vtTa3e+6ef20+/6hXbLn2tqalpNnxUN1kE/9NBDAwf6u86IFdAAAEA7gU2fRUQkJHrBpo8Ks1Jio8KVRNDQ3xybuHTdjpLMB1iiei0yxy4wB4uhf9zk0R3oSa2PiM0q2bt5xeyfx5j7X8qaQwfHxM3NLNyxNzeeqQUAAIBmLYud7+c66EX3zFoWO1+7SgYOHJiVlSWtpc8K7zroN954w//0WUR0f/zwFt/3Cyxft71UAAAAXGtctuSRac00B24GXYD9Up5pjF/j7b5dnmGMz2vPpWvHDQpMy2/lfNvk2mlNDgAArmKO4wdXfVLQXEvoyUPvnfPTJO06b/iqqanxP1D2Z+Ns+62+b2nBAQAAAHQh0WnV1V3sKYUAAABQnbn/kNyHlj0dO+/vVWX7jx9wfX9aRMJ7Xje0/y3jBo+8vmffTqukTcuZ27SxghXQAAAAAAAAAAB1NFgBTQ9oAAAAAAAAAIAmCKABAAAAAAAAAJoggAYAAAAAAAAAaIIAGgAAAAAAAACgCQJoAAAAAAAAAIAmCKABAAAAAAAAAJoggAYAAAAAAAAAaELf4H22/daA1AEAAAAAAAAAuMqwAhoAAAAAAAAAoAkCaAAAAAAAAACAJgigAQAAAAAAAACa0B048Z6IBAUF1dfX19fXX/GdTqe8qK+vV17rdLr6+vqLFy/qdDrlk4sXL/bo0ePixYvKNsoIyre+oymvlaP4buAd2XfjoKAg5RDKlhcvXvStyrcYbwHKC9+NdTpdUFDQhQsXlA+DgoK83yplKB/6jukdsMGJK2+VqrylKvX7nmZQUJDH4/GO6d3Adxzfwb3H8l7VHj16eIv0/dx7QXwP6q3Hd0tvtco4yma+x1V2V94q3yr1eyv0/dZ3DvhWruyl0+mUy6uMo1xt5dsLFy4os8L3re+9894m37vZ4OL43n3vOfbo0cP3TL2lei+I97i+9Xs39v1E2dhb87U8//v1jPSebX19vXjvQn395aug04kyVZR3IvU//vPS96K7WH/5Dno3kMsvdPVS73uD638cv16kvr4+SKdTtjlx7kvmvzD/+f3P/Gf+M/+Z/8x/5j/zn/nP/Gf+M/+Z/8x/5v9VMf97zH1yaoM5oZyP9+SVEX1PzPcnwXskpQJvrb6fK2M2+EoZ0Hv/lM99fzx875z3R8V7Gnq93ju4d+ooBfheL+U2eHf3/hjo9foGp9Ngd9/PfeeK8k/fE/QtvsF18J6R8rn3/vneae+YDV4rGwQFBXmvj28x3tvs+/PWoDbvP33vlO7Kn3DvNso4vt96j+j96fIdwftzqOzr+9b7+6jBvfO9FN4ivT8nPXr08J27jaeQTqdTfl94P1F+uhrMK98z8l4o3+kqPr99fH9JXcvzv6chXER0ovP+1tXJ5Te6RqGzTi5/Xn8pOP5xOiljet8rV0kJtX1upVyZPntvm/K67odTwvxn/vP7n/nP/Gf+M/+Z/8x/5j/zn/nP/Gf+M/+Z/8z/q2L+/3+LoPWuSxUzYQAAAABJRU5ErkJggg==)"
      ],
      "metadata": {
        "id": "7_FmtGxyaZGM"
      }
    },
    {
      "cell_type": "code",
      "source": [
        "def add(n): # 데코렝이터를 감싸는 하나의 함수를 더 만들어서 아규먼트를 받는 방법입니다.\n",
        "    def decorator(function):\n",
        "        def new_function(a, b):\n",
        "            print(f'plus 함수가 {n}만큼 증가시키는 데코레이터가 시작됩니다.')\n",
        "            result = function(a, b)\n",
        "            print(f'plus 함수가 {n}만큼 증가시키는 데코레이터가 종료됩니다.')\n",
        "            return result + n\n",
        "        return new_function\n",
        "    return decorator\n",
        "\n",
        "@add(1000)\n",
        "def plus(a, b):\n",
        "    print('plus 함수가 호출되었습니다.')\n",
        "    return a + b\n",
        "\n",
        "result = plus(10, 20)\n",
        "print(f'result : {result}')"
      ],
      "metadata": {
        "colab": {
          "base_uri": "https://localhost:8080/"
        },
        "id": "1VNpdNCsarAm",
        "outputId": "b2984e31-8ffd-41c1-c3e8-3516c7f4ebbd"
      },
      "execution_count": null,
      "outputs": [
        {
          "output_type": "stream",
          "name": "stdout",
          "text": [
            "plus 함수가 1000만큼 증가시키는 데코레이터가 시작됩니다.\n",
            "plus 함수가 호출되었습니다.\n",
            "plus 함수가 1000만큼 증가시키는 데코레이터가 종료됩니다.\n",
            "result : 1030\n"
          ]
        }
      ]
    },
    {
      "cell_type": "code",
      "source": [
        "def add(n):\n",
        "    def decorator(function):    # 여기서부터의 기능은 같습니다.\n",
        "        def wrapper(a, b):\n",
        "            print(f'plus 함수가 {n}만큼 증가시키는 데코레이터가 시작됩니다.')\n",
        "            result = function(a, b)\n",
        "            print(result)\n",
        "            print(f'plus 함수가 {n}만큼 증가시키는 데코레이터가 종료됩니다.')\n",
        "            return result + n\n",
        "        return wrapper\n",
        "    return decorator\n",
        "\n",
        "@add(1000)\n",
        "def plus(a, b):\n",
        "    print('plus 함수가 호출되었습니다.')\n",
        "    return a + b\n",
        "\n",
        "result = plus(10, 20) # == add(n)(plus)(10,20)\n",
        "print(f'result : {result}')\n",
        "\n",
        "# add(n)(plus)(10,20), add(1000) == decorator\n",
        "# decorator(plus)(10,20), decorator(plus) == wrapper\n",
        "# wrapper(10, 20)\n",
        "\n",
        "# decorator(plus(10, 20))() (X)\n",
        "# add(1000)(plus)(10, 20)"
      ],
      "metadata": {
        "colab": {
          "base_uri": "https://localhost:8080/"
        },
        "id": "I8dshPjYbJYt",
        "outputId": "45e0c3a6-269d-47fd-c41c-8e89f1e5e17a"
      },
      "execution_count": null,
      "outputs": [
        {
          "output_type": "stream",
          "name": "stdout",
          "text": [
            "plus 함수가 1000만큼 증가시키는 데코레이터가 시작됩니다.\n",
            "plus 함수가 호출되었습니다.\n",
            "30\n",
            "plus 함수가 1000만큼 증가시키는 데코레이터가 종료됩니다.\n",
            "result : 1030\n"
          ]
        }
      ]
    },
    {
      "cell_type": "markdown",
      "source": [
        "# 연습문제\n"
      ],
      "metadata": {
        "id": "BEjZwdTVAW2o"
      }
    },
    {
      "cell_type": "markdown",
      "source": [
        "![image.png](data:image/png;base64,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)"
      ],
      "metadata": {
        "id": "pz8h1ipdAxHm"
      }
    },
    {
      "cell_type": "code",
      "source": [
        "def s(x):\n",
        "    return x * x\n",
        "\n",
        "def r(x):\n",
        "    return x**(1/2)\n",
        "\n",
        "def length(a, b, c, square , root):\n",
        "    return print(a ** 2 + b ** 2 == square(c), c == root(square(a) + square(b)))\n",
        "\n",
        "\n",
        "length(3, 4, 5, s, r)"
      ],
      "metadata": {
        "colab": {
          "base_uri": "https://localhost:8080/"
        },
        "id": "5om67vvBAT9O",
        "outputId": "c2b81fc9-ddc0-4f7c-826f-2052af544ba9"
      },
      "execution_count": null,
      "outputs": [
        {
          "output_type": "stream",
          "name": "stdout",
          "text": [
            "True True\n"
          ]
        }
      ]
    },
    {
      "cell_type": "code",
      "source": [
        "def s(x):\n",
        "    return x * x\n",
        "\n",
        "def r(x):\n",
        "    return x**(1/2)\n",
        "\n",
        "def length(a, b, c, square , root):\n",
        "    return print(square(a) + square(b) == square(c), c == root(square(a) + square(b)))\n",
        "\n",
        "\n",
        "length(3, 4, 5, s, r)"
      ],
      "metadata": {
        "colab": {
          "base_uri": "https://localhost:8080/"
        },
        "id": "H6viMISvDP3v",
        "outputId": "eda5f7d4-531d-4372-d0f7-831fe38b2706"
      },
      "execution_count": null,
      "outputs": [
        {
          "output_type": "stream",
          "name": "stdout",
          "text": [
            "True True\n"
          ]
        }
      ]
    },
    {
      "cell_type": "code",
      "source": [
        "def find_hypotenuse(a, b, s, r):\n",
        "    return r(s(a) + s(b))\n",
        "\n",
        "def square(value):\n",
        "    return value ** 2\n",
        "\n",
        "def root(value):\n",
        "    return value ** 0.5\n",
        "\n",
        "find_hypotenuse(6, 8, square, root)"
      ],
      "metadata": {
        "colab": {
          "base_uri": "https://localhost:8080/"
        },
        "id": "E6TRL7VeajHD",
        "outputId": "30968380-bc5a-48a9-f360-0cc1b53aefe7"
      },
      "execution_count": null,
      "outputs": [
        {
          "output_type": "execute_result",
          "data": {
            "text/plain": [
              "10.0"
            ]
          },
          "metadata": {},
          "execution_count": 16
        }
      ]
    },
    {
      "cell_type": "markdown",
      "source": [
        "# lambda"
      ],
      "metadata": {
        "id": "xvdmed1jdsfo"
      }
    },
    {
      "cell_type": "code",
      "source": [
        "square = lambda x: x*x\n",
        "print(square(5))  # 출력: 25"
      ],
      "metadata": {
        "colab": {
          "base_uri": "https://localhost:8080/"
        },
        "id": "Odvle6jfduEi",
        "outputId": "eaafa270-5b66-4f61-a01d-54bf73a88bd1"
      },
      "execution_count": null,
      "outputs": [
        {
          "output_type": "stream",
          "name": "stdout",
          "text": [
            "25\n"
          ]
        }
      ]
    },
    {
      "cell_type": "code",
      "source": [
        "# 재사용되는 코드이므로 lambda가 아닌 함수로 정의해야한다\n",
        "def 제곱(x):\n",
        "    return x ** 2\n",
        "\n",
        "list(map(제곱, [1, 2, 3])) + list(map(제곱, [4, 5, 6]))"
      ],
      "metadata": {
        "colab": {
          "base_uri": "https://localhost:8080/"
        },
        "id": "KlAMJKHBd3SL",
        "outputId": "70bd0058-bbd1-45ba-bf08-4f97cf3b9a55"
      },
      "execution_count": null,
      "outputs": [
        {
          "output_type": "execute_result",
          "data": {
            "text/plain": [
              "[1, 4, 9, 16, 25, 36]"
            ]
          },
          "metadata": {},
          "execution_count": 22
        }
      ]
    },
    {
      "cell_type": "code",
      "source": [
        "# 재사용되지 않는 코드\n",
        "\n",
        "list(map(lambda x: x**2, [1, 2, 3]))"
      ],
      "metadata": {
        "colab": {
          "base_uri": "https://localhost:8080/"
        },
        "id": "LGfuSfHweikd",
        "outputId": "e859e5c4-7430-4b35-d857-158d2d7786eb"
      },
      "execution_count": null,
      "outputs": [
        {
          "output_type": "execute_result",
          "data": {
            "text/plain": [
              "[1, 4, 9]"
            ]
          },
          "metadata": {},
          "execution_count": 23
        }
      ]
    },
    {
      "cell_type": "code",
      "source": [
        "# 이런 형태는 오늘 보고 끝입니다\n",
        "result = lambda x: x ** 2\n",
        "print(result(3))\n",
        "\n",
        "result = (lambda x: x ** 2)(3)\n",
        "print(result)   #  출력 9"
      ],
      "metadata": {
        "colab": {
          "base_uri": "https://localhost:8080/"
        },
        "id": "WDD5STejfL6k",
        "outputId": "8257f5b0-7572-44cb-a9ed-4ba2cb8e574b"
      },
      "execution_count": null,
      "outputs": [
        {
          "output_type": "stream",
          "name": "stdout",
          "text": [
            "9\n",
            "9\n"
          ]
        }
      ]
    },
    {
      "cell_type": "markdown",
      "source": [
        "# args, kargs"
      ],
      "metadata": {
        "id": "KOyZGNb7xvI_"
      }
    },
    {
      "cell_type": "code",
      "source": [
        "a, b, *c = 10, 20, 30, 40, 50\n",
        "a, b , c"
      ],
      "metadata": {
        "colab": {
          "base_uri": "https://localhost:8080/"
        },
        "id": "b54-DQJhxHeH",
        "outputId": "89b2b621-30d7-41d6-daed-f63ad8a45cb8"
      },
      "execution_count": null,
      "outputs": [
        {
          "output_type": "execute_result",
          "data": {
            "text/plain": [
              "(10, 20, [30, 40, 50])"
            ]
          },
          "metadata": {},
          "execution_count": 29
        }
      ]
    },
    {
      "cell_type": "code",
      "source": [
        "def print_args(a, b, *args):    # args뒤에 일반 변수를 선언하지 못합니다\n",
        "    print(args)\n",
        "    for x in args:\n",
        "        print(x)\n",
        "\n",
        "print_args(100, True, 'Licat', 'hello', 10)"
      ],
      "metadata": {
        "colab": {
          "base_uri": "https://localhost:8080/"
        },
        "id": "F3FHjSMXyEVE",
        "outputId": "82cccfaf-9d4b-4089-8373-4bb4089ed536"
      },
      "execution_count": null,
      "outputs": [
        {
          "output_type": "stream",
          "name": "stdout",
          "text": [
            "('Licat', 'hello', 10)\n",
            "Licat\n",
            "hello\n",
            "10\n"
          ]
        }
      ]
    },
    {
      "cell_type": "code",
      "source": [
        "def print_args(a, b, *args, c):    # args뒤에 일반 변수를 선언하지 못합니다\n",
        "    print(args)\n",
        "    for x in args:\n",
        "        print(x)\n",
        "\n",
        "print_args(100, True, 'Licat', 'hello', 10)"
      ],
      "metadata": {
        "id": "I_biJI3Oy0WI"
      },
      "execution_count": null,
      "outputs": []
    },
    {
      "cell_type": "code",
      "source": [
        "def print_args(a, b, *args, *c):    # args뒤에 또 다른 가변 아규먼트를 넣지 못합니다\n",
        "    print(args)\n",
        "    for x in args:\n",
        "        print(x)\n",
        "\n",
        "print_args(100, True, 'Licat', 'hello', 10)"
      ],
      "metadata": {
        "id": "iAd_2mctypU0"
      },
      "execution_count": null,
      "outputs": []
    },
    {
      "cell_type": "code",
      "source": [
        "def print_kwargs(a, **kwargs):\n",
        "    print(a)\n",
        "    print(kwargs)\n",
        "    for i in kwargs:\n",
        "        print(i)\n",
        "\n",
        "print_kwargs(100, name='Licat', age='10')"
      ],
      "metadata": {
        "colab": {
          "base_uri": "https://localhost:8080/"
        },
        "id": "-c4pZ-5gy2kN",
        "outputId": "f18dfd08-aef9-4dc6-8a7e-cf418d59d8a0"
      },
      "execution_count": null,
      "outputs": [
        {
          "output_type": "stream",
          "name": "stdout",
          "text": [
            "100\n",
            "{'name': 'Licat', 'age': '10'}\n",
            "name\n",
            "age\n"
          ]
        }
      ]
    },
    {
      "cell_type": "code",
      "source": [
        "# kwargs는 *이 하나가 아닌 **두개를 사용해야합니다\n",
        "# * 하나는 args로 쓰고 키값만 가져오고 밸류값은 가져오지못한다\n",
        "def print_kwargs(*kwargs):\n",
        "    print(kwargs)\n",
        "    for i in kwargs:\n",
        "        print(i)\n",
        "\n",
        "value = {'one':10, 'two':20}\n",
        "print_kwargs(*value)"
      ],
      "metadata": {
        "colab": {
          "base_uri": "https://localhost:8080/"
        },
        "id": "YdF15Heiy5ws",
        "outputId": "58818b77-8b99-4674-9112-d4bf0422c357"
      },
      "execution_count": null,
      "outputs": [
        {
          "output_type": "stream",
          "name": "stdout",
          "text": [
            "('one', 'two')\n",
            "one\n",
            "two\n"
          ]
        }
      ]
    },
    {
      "cell_type": "code",
      "source": [
        "def print_kwargs(*args):\n",
        "    print(args)\n",
        "    for i in args:\n",
        "        print(i)\n",
        "\n",
        "value = {'one':10, 'two':20}\n",
        "print_kwargs(*value)"
      ],
      "metadata": {
        "colab": {
          "base_uri": "https://localhost:8080/"
        },
        "id": "SWZlhdYqzatT",
        "outputId": "71616f81-e06b-4764-bdce-3afcebc96124"
      },
      "execution_count": null,
      "outputs": [
        {
          "output_type": "stream",
          "name": "stdout",
          "text": [
            "('one', 'two')\n",
            "one\n",
            "two\n"
          ]
        }
      ]
    },
    {
      "cell_type": "code",
      "source": [
        "def func(a, b, *, c, d):\n",
        "    print(a, b, c, d)\n",
        "\n",
        "# func(1, 2, c = 3, d = 4)  # 올바른 예시\n",
        "# func(1, 2, 3, d = 4)  # 잘못된 예시\n",
        "# func(1, 2, 3, 4)    # 잘못된 예시"
      ],
      "metadata": {
        "id": "mwUPrJ9A2T0f"
      },
      "execution_count": null,
      "outputs": []
    },
    {
      "cell_type": "code",
      "source": [
        "def func(a, b, c):\n",
        "    print(a, b, c)\n",
        "\n",
        "args = (1, 2, 3)\n",
        "func(*args)\n",
        "print(args, *args)\n",
        "\n",
        "kwargs = {'a': 1, 'b': 2, 'c': 3}\n",
        "func(**kwargs)\n",
        "print(kwargs, **kwargs) # error"
      ],
      "metadata": {
        "colab": {
          "base_uri": "https://localhost:8080/"
        },
        "id": "sSElqd822fkB",
        "outputId": "d7ae53a9-5293-489c-a32f-c40a9195e07c"
      },
      "execution_count": null,
      "outputs": [
        {
          "output_type": "stream",
          "name": "stdout",
          "text": [
            "1 2 3\n",
            "(1, 2, 3) 1 2 3\n",
            "1 2 3\n",
            "{'a': 1, 'b': 2, 'c': 3}\n"
          ]
        }
      ]
    },
    {
      "cell_type": "code",
      "source": [
        "kwargs = {'a': 1, 'b': 2, 'c': 3}\n",
        "print(kwargs, *kwargs)\n",
        "# print(kwargs, **kwargs) == print(kwargs, a=1,b=2,c=3)"
      ],
      "metadata": {
        "colab": {
          "base_uri": "https://localhost:8080/"
        },
        "id": "elj_7UtM3Gww",
        "outputId": "71501162-f210-4241-d2a6-3a75540a45f1"
      },
      "execution_count": null,
      "outputs": [
        {
          "output_type": "stream",
          "name": "stdout",
          "text": [
            "{'a': 1, 'b': 2, 'c': 3} a b c\n"
          ]
        }
      ]
    },
    {
      "cell_type": "code",
      "source": [
        "def func(d=100, c=200, b=300, a=400):\n",
        "    print(d, c, b, a)\n",
        "\n",
        "kwargs = {'a': 1, 'b': 2, 'c': 3}\n",
        "\n",
        "func(**kwargs)\n",
        "# func(kwargs, a=1, b=2, c=3)로 입력이 되었다는 것을 확인할 수 있습니다."
      ],
      "metadata": {
        "colab": {
          "base_uri": "https://localhost:8080/"
        },
        "id": "-uCf2AOa3nv-",
        "outputId": "2a0a3dc2-7a7b-4d8d-e5f1-b85f295af7b6"
      },
      "execution_count": null,
      "outputs": [
        {
          "output_type": "stream",
          "name": "stdout",
          "text": [
            "100 3 2 1\n"
          ]
        }
      ]
    },
    {
      "cell_type": "code",
      "source": [
        "def func(a=100, **kwargs):\n",
        "    print(a, kargs)\n",
        "\n",
        "\n",
        "func(1000, i=1, j=2, k=3)"
      ],
      "metadata": {
        "id": "e2-L3yiZ4IhX"
      },
      "execution_count": null,
      "outputs": []
    },
    {
      "cell_type": "code",
      "source": [
        "def func(*args):\n",
        "    print(args)\n",
        "\n",
        "\n",
        "\n",
        "func(10, 20, 30)\n",
        "# (10, 20, 30) => *args => 10, 20, 30"
      ],
      "metadata": {
        "colab": {
          "base_uri": "https://localhost:8080/"
        },
        "id": "z4pWQMwQ4s6K",
        "outputId": "3658fae7-5ad6-483a-b9e3-2c51ccc1c01f"
      },
      "execution_count": null,
      "outputs": [
        {
          "output_type": "stream",
          "name": "stdout",
          "text": [
            "(10, 20, 30)\n"
          ]
        }
      ]
    },
    {
      "cell_type": "code",
      "source": [
        "def func(a, b, c):\n",
        "    print(a, b, c)\n",
        "\n",
        "\n",
        "args = (10, 20, 30)\n",
        "func(*args)\n",
        "# (10, 20, 30) => *args => 10, 20, 30"
      ],
      "metadata": {
        "id": "JpdWVwON5Je9"
      },
      "execution_count": null,
      "outputs": []
    },
    {
      "cell_type": "markdown",
      "source": [
        "병헌님\n",
        "\n",
        "*args는 리스트를 묶고 풀고하는 용도로 사용하고\n",
        "**kargs는 딕셔너리를 묶고 풀고하는 용도로 사용한다고 간단하게 생각"
      ],
      "metadata": {
        "id": "ap1uV5Vb5ewm"
      }
    },
    {
      "cell_type": "code",
      "source": [
        "a, b, c =range(3)\n",
        "a, b, c"
      ],
      "metadata": {
        "colab": {
          "base_uri": "https://localhost:8080/"
        },
        "id": "bulaKHK05Wxf",
        "outputId": "c45de9ff-3d59-42db-9fb6-996ca50fe96b"
      },
      "execution_count": null,
      "outputs": [
        {
          "output_type": "execute_result",
          "data": {
            "text/plain": [
              "(0, 1, 2)"
            ]
          },
          "metadata": {},
          "execution_count": 43
        }
      ]
    },
    {
      "cell_type": "code",
      "source": [
        "a, b, c = range(10, 31, 10)\n",
        "a, b, c"
      ],
      "metadata": {
        "colab": {
          "base_uri": "https://localhost:8080/"
        },
        "id": "aXuqBuud5yxd",
        "outputId": "268cd2b1-159a-4497-bb29-9d9e985d34bd"
      },
      "execution_count": null,
      "outputs": [
        {
          "output_type": "execute_result",
          "data": {
            "text/plain": [
              "(10, 20, 30)"
            ]
          },
          "metadata": {},
          "execution_count": 44
        }
      ]
    },
    {
      "cell_type": "markdown",
      "source": [
        "# 이터레이터"
      ],
      "metadata": {
        "id": "rXJywvI8BFCm"
      }
    },
    {
      "cell_type": "code",
      "source": [
        "class MyIterator:\n",
        "    def __init__(self, stop):\n",
        "        self.current_value = 0  # 현재 값\n",
        "        self.stop = stop  # 순회를 멈출 값\n",
        "\n",
        "    def __iter__(self):\n",
        "        return self\n",
        "\n",
        "    def __next__(self):\n",
        "        if self.current_value >= self.stop:\n",
        "            raise StopIteration\n",
        "        result = self.current_value\n",
        "        self.current_value += 1\n",
        "        return result\n",
        "\n",
        "my_iterator = MyIterator(5)\n",
        "\n",
        "for i in my_iterator:\n",
        "    print(i)\n",
        "\n",
        "'''\n",
        "for를 만나면 __iter__가 실행이 되고, 반복이 시작되면 __next__를 호출합니다.\n",
        "'''"
      ],
      "metadata": {
        "colab": {
          "base_uri": "https://localhost:8080/",
          "height": 122
        },
        "id": "bco5KiFp6MJ6",
        "outputId": "3d405ac9-b132-40a5-c514-d5bb4e612244"
      },
      "execution_count": null,
      "outputs": [
        {
          "output_type": "stream",
          "name": "stdout",
          "text": [
            "0\n",
            "1\n",
            "2\n",
            "3\n",
            "4\n"
          ]
        },
        {
          "output_type": "execute_result",
          "data": {
            "text/plain": [
              "'\\nfor를 만나면 __iter__가 실행이 되고, 반복이 시작되면 __next__를 호출합니다.\\n'"
            ],
            "application/vnd.google.colaboratory.intrinsic+json": {
              "type": "string"
            }
          },
          "metadata": {},
          "execution_count": 48
        }
      ]
    },
    {
      "cell_type": "code",
      "source": [
        "# for 문을 한번더 하고싶으면\n",
        "class MyIterator:\n",
        "    def __init__(self, stop):\n",
        "\n",
        "        self.stop = stop  # 순회를 멈출 값\n",
        "\n",
        "    def __iter__(self):\n",
        "        self.current_value = 0  # 현재 값\n",
        "        return self\n",
        "\n",
        "    def __next__(self):\n",
        "        if self.current_value >= self.stop:\n",
        "            raise StopIteration\n",
        "        result = self.current_value\n",
        "        self.current_value += 1\n",
        "        return result\n",
        "\n",
        "my_iterator = MyIterator(5)\n",
        "\n",
        "for i in my_iterator:\n",
        "    print(i)\n",
        "\n",
        "for i in my_iterator:\n",
        "    print(i)"
      ],
      "metadata": {
        "colab": {
          "base_uri": "https://localhost:8080/"
        },
        "id": "exVIe6mk6Sm4",
        "outputId": "c30071b3-53ef-4525-f449-167da45a8ae1"
      },
      "execution_count": null,
      "outputs": [
        {
          "output_type": "stream",
          "name": "stdout",
          "text": [
            "0\n",
            "1\n",
            "2\n",
            "3\n",
            "4\n",
            "0\n",
            "1\n",
            "2\n",
            "3\n",
            "4\n"
          ]
        }
      ]
    },
    {
      "cell_type": "code",
      "source": [
        "class MyIterator:\n",
        "    def __init__(self, stop):\n",
        "\n",
        "        self.stop = stop  # 순회를 멈출 값\n",
        "\n",
        "    def __iter__(self):\n",
        "        self.current_value = 0  # 현재 값\n",
        "        return self\n",
        "\n",
        "    def __next__(self):\n",
        "        if self.current_value >= self.stop:\n",
        "            raise StopIteration\n",
        "        result = self.current_value\n",
        "        self.current_value += 1\n",
        "        return result\n",
        "\n",
        "my_iterator = MyIterator(5)\n",
        "\n",
        "i = iter(my_iterator)   #   여기서부터\n",
        "print(next(i))\n",
        "print(next(i))\n",
        "print(next(i))\n",
        "print(next(i))\n",
        "print(next(i))\n",
        "print(next(i))  # 여기까지가 for에 작동 원리 입니다."
      ],
      "metadata": {
        "colab": {
          "base_uri": "https://localhost:8080/",
          "height": 439
        },
        "id": "YpwuoCG9-xO1",
        "outputId": "6a18e855-3425-4fdb-874f-f42a251024b5"
      },
      "execution_count": null,
      "outputs": [
        {
          "output_type": "stream",
          "name": "stdout",
          "text": [
            "<__main__.MyIterator object at 0x78f1f86bbeb0>\n",
            "0\n",
            "1\n",
            "2\n",
            "3\n",
            "4\n"
          ]
        },
        {
          "output_type": "error",
          "ename": "StopIteration",
          "evalue": "ignored",
          "traceback": [
            "\u001b[0;31m---------------------------------------------------------------------------\u001b[0m",
            "\u001b[0;31mStopIteration\u001b[0m                             Traceback (most recent call last)",
            "\u001b[0;32m<ipython-input-56-859733f67435>\u001b[0m in \u001b[0;36m<cell line: 26>\u001b[0;34m()\u001b[0m\n\u001b[1;32m     24\u001b[0m \u001b[0mprint\u001b[0m\u001b[0;34m(\u001b[0m\u001b[0mnext\u001b[0m\u001b[0;34m(\u001b[0m\u001b[0mi\u001b[0m\u001b[0;34m)\u001b[0m\u001b[0;34m)\u001b[0m\u001b[0;34m\u001b[0m\u001b[0;34m\u001b[0m\u001b[0m\n\u001b[1;32m     25\u001b[0m \u001b[0mprint\u001b[0m\u001b[0;34m(\u001b[0m\u001b[0mnext\u001b[0m\u001b[0;34m(\u001b[0m\u001b[0mi\u001b[0m\u001b[0;34m)\u001b[0m\u001b[0;34m)\u001b[0m\u001b[0;34m\u001b[0m\u001b[0;34m\u001b[0m\u001b[0m\n\u001b[0;32m---> 26\u001b[0;31m \u001b[0mprint\u001b[0m\u001b[0;34m(\u001b[0m\u001b[0mnext\u001b[0m\u001b[0;34m(\u001b[0m\u001b[0mi\u001b[0m\u001b[0;34m)\u001b[0m\u001b[0;34m)\u001b[0m\u001b[0;34m\u001b[0m\u001b[0;34m\u001b[0m\u001b[0m\n\u001b[0m",
            "\u001b[0;32m<ipython-input-56-859733f67435>\u001b[0m in \u001b[0;36m__next__\u001b[0;34m(self)\u001b[0m\n\u001b[1;32m     10\u001b[0m     \u001b[0;32mdef\u001b[0m \u001b[0m__next__\u001b[0m\u001b[0;34m(\u001b[0m\u001b[0mself\u001b[0m\u001b[0;34m)\u001b[0m\u001b[0;34m:\u001b[0m\u001b[0;34m\u001b[0m\u001b[0;34m\u001b[0m\u001b[0m\n\u001b[1;32m     11\u001b[0m         \u001b[0;32mif\u001b[0m \u001b[0mself\u001b[0m\u001b[0;34m.\u001b[0m\u001b[0mcurrent_value\u001b[0m \u001b[0;34m>=\u001b[0m \u001b[0mself\u001b[0m\u001b[0;34m.\u001b[0m\u001b[0mstop\u001b[0m\u001b[0;34m:\u001b[0m\u001b[0;34m\u001b[0m\u001b[0;34m\u001b[0m\u001b[0m\n\u001b[0;32m---> 12\u001b[0;31m             \u001b[0;32mraise\u001b[0m \u001b[0mStopIteration\u001b[0m\u001b[0;34m\u001b[0m\u001b[0;34m\u001b[0m\u001b[0m\n\u001b[0m\u001b[1;32m     13\u001b[0m         \u001b[0mresult\u001b[0m \u001b[0;34m=\u001b[0m \u001b[0mself\u001b[0m\u001b[0;34m.\u001b[0m\u001b[0mcurrent_value\u001b[0m\u001b[0;34m\u001b[0m\u001b[0;34m\u001b[0m\u001b[0m\n\u001b[1;32m     14\u001b[0m         \u001b[0mself\u001b[0m\u001b[0;34m.\u001b[0m\u001b[0mcurrent_value\u001b[0m \u001b[0;34m+=\u001b[0m \u001b[0;36m1\u001b[0m\u001b[0;34m\u001b[0m\u001b[0;34m\u001b[0m\u001b[0m\n",
            "\u001b[0;31mStopIteration\u001b[0m: "
          ]
        }
      ]
    },
    {
      "cell_type": "markdown",
      "source": [
        "# 제너레이터"
      ],
      "metadata": {
        "id": "qNYltvISBJJ-"
      }
    },
    {
      "cell_type": "code",
      "source": [
        "def my_generator(data):\n",
        "    for i in data:\n",
        "        yield i\n",
        "\n",
        "my_list = [1, 2, 3, 4, 5]\n",
        "my_iterator = my_generator(my_list)\n",
        "\n",
        "for i in my_iterator:\n",
        "    print(i)"
      ],
      "metadata": {
        "colab": {
          "base_uri": "https://localhost:8080/"
        },
        "id": "6putgZsx_lMS",
        "outputId": "6180b359-f8ae-440b-9314-602bd58b8d0c"
      },
      "execution_count": null,
      "outputs": [
        {
          "output_type": "stream",
          "name": "stdout",
          "text": [
            "1\n",
            "2\n",
            "3\n",
            "4\n",
            "5\n"
          ]
        }
      ]
    },
    {
      "cell_type": "code",
      "source": [
        "def my_generator(data):\n",
        "    for i in data:\n",
        "        yield i * 10\n",
        "\n",
        "for i in my_generator([1, 2, 3]):\n",
        "    print(i)"
      ],
      "metadata": {
        "colab": {
          "base_uri": "https://localhost:8080/"
        },
        "id": "4XDj52WbB_T3",
        "outputId": "935d4b78-19e2-4ee7-b0ca-ffd1a26077ae"
      },
      "execution_count": null,
      "outputs": [
        {
          "output_type": "stream",
          "name": "stdout",
          "text": [
            "10\n",
            "20\n",
            "30\n"
          ]
        }
      ]
    },
    {
      "cell_type": "code",
      "source": [
        "# 이럴때 많이 사용합니다.\n",
        "def my_generator():\n",
        "    l = ['짝', '홀']\n",
        "    t = False\n",
        "    while True:\n",
        "        yield l[t := True]\n",
        "        yield l[t := False]\n",
        "        # yield l[t]False\n",
        "        # t = True\n",
        "        # yield l[t]\n",
        "        # t = False\n",
        "\n",
        "list(zip([1, 2, 3, 4, 5, 6], my_generator()))"
      ],
      "metadata": {
        "colab": {
          "base_uri": "https://localhost:8080/"
        },
        "id": "GG7fpBFKCUMX",
        "outputId": "a3aa88d6-819e-4163-ed15-975a30ad7eed"
      },
      "execution_count": null,
      "outputs": [
        {
          "output_type": "execute_result",
          "data": {
            "text/plain": [
              "[(1, '홀'), (2, '짝'), (3, '홀'), (4, '짝'), (5, '홀'), (6, '짝')]"
            ]
          },
          "metadata": {},
          "execution_count": 63
        }
      ]
    },
    {
      "cell_type": "code",
      "source": [
        "def my_generator():\n",
        "    count = 0\n",
        "    while True:\n",
        "        yield count\n",
        "        count += 2\n",
        "list(zip([1, 2, 3, 4, 5, 6, 7, 8, 9], 'hello world', my_generator())) # 마치 enumerate처럼"
      ],
      "metadata": {
        "colab": {
          "base_uri": "https://localhost:8080/"
        },
        "id": "qdswRlu2EKLl",
        "outputId": "1d6ad145-fb3c-4f13-a260-f09c50398b21"
      },
      "execution_count": null,
      "outputs": [
        {
          "output_type": "execute_result",
          "data": {
            "text/plain": [
              "[('A', 1), ('B', 2), ('C', 3)]"
            ]
          },
          "metadata": {},
          "execution_count": 65
        }
      ]
    },
    {
      "cell_type": "code",
      "source": [
        "gen = (i for i in range(2, 11, 2))\n",
        "for i in gen:\n",
        "    print(i)"
      ],
      "metadata": {
        "colab": {
          "base_uri": "https://localhost:8080/"
        },
        "id": "8VcImMJSGgEc",
        "outputId": "5f9dfb30-31a6-4c1d-894b-cd21dc915a32"
      },
      "execution_count": null,
      "outputs": [
        {
          "output_type": "stream",
          "name": "stdout",
          "text": [
            "2\n",
            "4\n",
            "6\n",
            "8\n",
            "10\n"
          ]
        }
      ]
    },
    {
      "cell_type": "markdown",
      "source": [
        "# 연습문제"
      ],
      "metadata": {
        "id": "QI34sclPHVio"
      }
    },
    {
      "cell_type": "code",
      "source": [
        "# 회전초밥집에 들어갔습니다. 초밥은 아래와 같은 양식으로 나옵니다.\n",
        "# [['광어초밥', 1000],['연어초밥', 2000],['계란초밥', 3000]]\n",
        "# * 각 초밥은 몇 개 나올지 알 수 없습니다.\n",
        "# * 각 초밥은 1000원씩 비싸집니다.\n",
        "# * 초밥에 '어'가 나오는 초밥만 먹습니다.\n",
        "# 내가 먹은 초밥의 비용을 계산하는 코드를 작성해 주세요\n",
        "\n",
        "def solution(data):\n",
        "    pass\n",
        "\n",
        "solution([['광어초밥', 1000],['연어초밥', 2000],['계란초밥', 3000], ['문어초밥', 4000], ['장어초밥', 5000]])"
      ],
      "metadata": {
        "id": "N8_OfLtnGgQZ"
      },
      "execution_count": null,
      "outputs": []
    },
    {
      "cell_type": "code",
      "source": [
        "def solution(data):\n",
        "    sum = 0\n",
        "    for i in data:\n",
        "        if '어' in i[0]:\n",
        "            sum += i[1]\n",
        "        i[1] += 1000\n",
        "        print(i)\n",
        "    return sum\n",
        "\n",
        "solution([['광어초밥', 1000],['연어초밥', 2000],['계란초밥', 3000], ['문어초밥', 4000], ['장어초밥', 5000]])"
      ],
      "metadata": {
        "colab": {
          "base_uri": "https://localhost:8080/"
        },
        "id": "p6G36kwZIaXy",
        "outputId": "c8527108-7a44-4b15-930c-711deb8b8435"
      },
      "execution_count": null,
      "outputs": [
        {
          "output_type": "stream",
          "name": "stdout",
          "text": [
            "['광어초밥', 2000]\n",
            "['연어초밥', 3000]\n",
            "['계란초밥', 4000]\n",
            "['문어초밥', 5000]\n",
            "['장어초밥', 6000]\n"
          ]
        },
        {
          "output_type": "execute_result",
          "data": {
            "text/plain": [
              "12000"
            ]
          },
          "metadata": {},
          "execution_count": 124
        }
      ]
    },
    {
      "cell_type": "code",
      "source": [
        "def gen(data):\n",
        "    for name, price in data:\n",
        "        if '어' in name:\n",
        "            yield price\n",
        "\n",
        "def solution(data):\n",
        "    return sum(gen(data))\n",
        "\n",
        "solution([['광어초밥', 1000],['연어초밥', 2000],['계란초밥', 3000], ['문어초밥', 4000], ['장어초밥', 5000]])"
      ],
      "metadata": {
        "colab": {
          "base_uri": "https://localhost:8080/"
        },
        "id": "-oYx4t-XOz17",
        "outputId": "5d8fdadb-bf43-4707-f65e-6707130cd53a"
      },
      "execution_count": null,
      "outputs": [
        {
          "output_type": "execute_result",
          "data": {
            "text/plain": [
              "12000"
            ]
          },
          "metadata": {},
          "execution_count": 104
        }
      ]
    },
    {
      "cell_type": "markdown",
      "source": [
        "# nonlocal"
      ],
      "metadata": {
        "id": "rxa1B33VRuHx"
      }
    },
    {
      "cell_type": "code",
      "source": [
        "x = 100\n",
        "def outer():\n",
        "    x = 1\n",
        "    def inner():\n",
        "        nonlocal x\n",
        "        x += 1\n",
        "        print(x)    #   출력 2\n",
        "    inner()\n",
        "    print(x)    #   출력 2\n",
        "\n",
        "outer()\n",
        "print(x) #   출력 100"
      ],
      "metadata": {
        "colab": {
          "base_uri": "https://localhost:8080/"
        },
        "id": "LouXP6N-RvTJ",
        "outputId": "c18adda3-3062-4190-b0cc-b789ded2b419"
      },
      "execution_count": null,
      "outputs": [
        {
          "output_type": "stream",
          "name": "stdout",
          "text": [
            "2\n",
            "2\n",
            "100\n"
          ]
        }
      ]
    },
    {
      "cell_type": "code",
      "source": [
        "x = 100\n",
        "def outer():\n",
        "    x = 1\n",
        "    def inner():\n",
        "        global x\n",
        "        x += 1\n",
        "        print(x) #   출력 101\n",
        "    inner()\n",
        "    print(x) #   출력 1\n",
        "\n",
        "outer()\n",
        "print(x)     #   출력 101"
      ],
      "metadata": {
        "colab": {
          "base_uri": "https://localhost:8080/"
        },
        "id": "a0n5Pc4iR1I8",
        "outputId": "9c99f672-063d-4a3e-f22d-99852abcc3f0"
      },
      "execution_count": null,
      "outputs": [
        {
          "output_type": "stream",
          "name": "stdout",
          "text": [
            "101\n",
            "1\n",
            "101\n"
          ]
        }
      ]
    },
    {
      "cell_type": "code",
      "source": [
        "x = 100\n",
        "def outer():\n",
        "    x = 1\n",
        "    def inner():\n",
        "        x += 1  # error\n",
        "        print(x)\n",
        "    inner()\n",
        "    print(x)\n",
        "\n",
        "outer()\n",
        "print(x)"
      ],
      "metadata": {
        "id": "ffeIv80FSgqm"
      },
      "execution_count": null,
      "outputs": []
    },
    {
      "cell_type": "markdown",
      "source": [
        "# zip이 사라지는 이유"
      ],
      "metadata": {
        "id": "PQaZnt_dTRX4"
      }
    },
    {
      "cell_type": "code",
      "source": [
        "a = [1, 2, 3]\n",
        "b = ['a', 'b', 'c']\n",
        "\n",
        "z = zip(a, b)\n",
        "print(list(z)) # [(1, 'a'), (2, 'b'), (3, 'c')]\n",
        "\n",
        "# zip 객체는 한 번 사용되었으므로 빈 리스트가 반환됩니다.\n",
        "print(list(z)) # []"
      ],
      "metadata": {
        "colab": {
          "base_uri": "https://localhost:8080/"
        },
        "id": "60czgRVATQlf",
        "outputId": "d13ba179-0b6d-4690-e75b-0425e55db607"
      },
      "execution_count": null,
      "outputs": [
        {
          "output_type": "stream",
          "name": "stdout",
          "text": [
            "[(1, 'a'), (2, 'b'), (3, 'c')]\n",
            "[]\n"
          ]
        }
      ]
    },
    {
      "cell_type": "code",
      "source": [
        "# iter에서 왜 초기화 해주지 않았을까요?\n",
        "x = [1, 2, 3]\n",
        "y = sorted(x)\n",
        "\n",
        "for i in y:\n",
        "    print(i)\n",
        "\n",
        "for i in y:\n",
        "    print(i)\n",
        "\n",
        "y   # sorted는 활용도때문에 한번 순회해도 재순회할 수 있다."
      ],
      "metadata": {
        "colab": {
          "base_uri": "https://localhost:8080/"
        },
        "id": "iBzaFpPOTVNc",
        "outputId": "1a26f883-df60-4451-d073-e11805e279f8"
      },
      "execution_count": null,
      "outputs": [
        {
          "output_type": "stream",
          "name": "stdout",
          "text": [
            "1\n",
            "2\n",
            "3\n",
            "1\n",
            "2\n",
            "3\n"
          ]
        },
        {
          "output_type": "execute_result",
          "data": {
            "text/plain": [
              "[1, 2, 3]"
            ]
          },
          "metadata": {},
          "execution_count": 129
        }
      ]
    },
    {
      "cell_type": "code",
      "source": [
        "x = [1, 2, 3]\n",
        "y = reversed(x)\n",
        "\n",
        "for i in y:\n",
        "    print(i)\n",
        "\n",
        "for i in y:\n",
        "    print(i)\n",
        "\n",
        "y\n",
        "# sorted와 다르게 reversed는 한 번만 실행이 되었고,\n",
        "# 반환되는 값도 리스트로 주지 않았습니다"
      ],
      "metadata": {
        "colab": {
          "base_uri": "https://localhost:8080/"
        },
        "id": "8q7GFDujUIZS",
        "outputId": "5b921825-26c0-4790-8959-9eec6be821b2"
      },
      "execution_count": null,
      "outputs": [
        {
          "output_type": "stream",
          "name": "stdout",
          "text": [
            "3\n",
            "2\n",
            "1\n"
          ]
        },
        {
          "output_type": "execute_result",
          "data": {
            "text/plain": [
              "<list_reverseiterator at 0x78f1be25e1d0>"
            ]
          },
          "metadata": {},
          "execution_count": 130
        }
      ]
    },
    {
      "cell_type": "code",
      "source": [
        "sorted(range(20))   #   메모리 부하가 큰 작업입니다."
      ],
      "metadata": {
        "id": "zXXk3UnnUvBM"
      },
      "execution_count": null,
      "outputs": []
    },
    {
      "cell_type": "markdown",
      "source": [
        "# 0920 연습문제"
      ],
      "metadata": {
        "id": "4qm9aGTudQcV"
      }
    },
    {
      "cell_type": "code",
      "source": [
        "# 문제1\n",
        "# 다음과 같이 동작하는 제너레이터 함수 fibonacci(n)를 완성하세요.\n",
        "# 주어진 숫자 n까지의 피보나치 수열을 반환합니다.\n",
        "# 인터넷에서 피보나치 순열 Python 코드를 검색해보셔도 좋습니다.\n",
        "\n",
        "def fib(n):\n",
        "    pass\n",
        "\n",
        "for i in fib(5):\n",
        "    print(i)\n",
        "\n",
        "'''\n",
        "출력\n",
        "1\n",
        "1\n",
        "2\n",
        "3\n",
        "5\n",
        "'''\n",
        "\n",
        "# 문제2\n",
        "# 주어진 함수의 실행 시간을 측정하여 출력하는 데코레이터 time_it를 작성하세요.\n",
        "# (힌트: time 모듈의 time() 함수를 사용하세요.)"
      ],
      "metadata": {
        "id": "S280ZKVndS0w"
      },
      "execution_count": null,
      "outputs": []
    },
    {
      "cell_type": "code",
      "source": [
        "def fib(n):\n",
        "    now = 1\n",
        "    next = 1\n",
        "    for i in range(n):\n",
        "        yield now\n",
        "        now, next =  next, now + next\n",
        "\n",
        "for i in fib(5):\n",
        "    print(i)"
      ],
      "metadata": {
        "colab": {
          "base_uri": "https://localhost:8080/"
        },
        "id": "icF-K5BzeDKX",
        "outputId": "b0fc909a-ea88-4564-8ac6-8958fdc4f2ab"
      },
      "execution_count": null,
      "outputs": [
        {
          "output_type": "stream",
          "name": "stdout",
          "text": [
            "1\n",
            "1\n",
            "2\n",
            "3\n",
            "5\n"
          ]
        }
      ]
    },
    {
      "cell_type": "code",
      "source": [
        "# value swap\n",
        "# pre, next = next, temp\n",
        "# 다른언어\n",
        "temp = a\n",
        "a = b\n",
        "b = temp\n",
        "# 파이썬\n",
        "a, b = b, a"
      ],
      "metadata": {
        "id": "9JRrjNzw0lhG"
      },
      "execution_count": null,
      "outputs": []
    },
    {
      "cell_type": "code",
      "source": [
        "# 문제1\n",
        "# 다음과 같이 동작하는 제너레이터 함수 fibonacci(n)를 완성하세요.\n",
        "# 주어진 숫자 n까지의 피보나치 수열을 반환합니다.\n",
        "\n",
        "def fib(n):\n",
        "    pre = 1\n",
        "    next = 1\n",
        "    count = 0\n",
        "    while True:\n",
        "        temp = pre + next\n",
        "        yield pre\n",
        "        pre, next = next, temp\n",
        "        count += 1\n",
        "        if count == n:\n",
        "            break\n",
        "\n",
        "for i in fib(5):\n",
        "    print(i)\n",
        "\n",
        "'''\n",
        "출력\n",
        "1\n",
        "1\n",
        "2\n",
        "3\n",
        "5\n",
        "'''\n",
        "\n",
        "# 문제2\n",
        "# 주어진 함수의 실행 시간을 측정하여 출력하는 데코레이터 time_it를 작성하세요.\n",
        "# (힌트: time 모듈의 time() 함수를 사용하세요.)\n",
        "\n",
        "import time\n",
        "\n",
        "def time_it(func):\n",
        "    def wrapper():\n",
        "        start_time = time.time()\n",
        "        func()\n",
        "        end_time = time.time()\n",
        "        print(f\"{end_time - start_time:.4f}s\")\n",
        "    return wrapper\n",
        "\n",
        "@time_it\n",
        "def main():\n",
        "    def fib(n):\n",
        "        pre = 1\n",
        "        next = 1\n",
        "        count = 0\n",
        "        while True:\n",
        "            temp = pre + next\n",
        "            yield pre\n",
        "            pre, next = next, temp\n",
        "            count += 1\n",
        "            if count == n:\n",
        "                break\n",
        "\n",
        "    for i in fib(20):\n",
        "        print(i)\n",
        "\n",
        "main()"
      ],
      "metadata": {
        "id": "pChC-c2X0pU2"
      },
      "execution_count": null,
      "outputs": []
    },
    {
      "cell_type": "code",
      "source": [
        "import time\n",
        "\n",
        "def time_it(function):\n",
        "    def wrapper(n):\n",
        "        start_time = time.time()\n",
        "        function(n)\n",
        "        end_time = time.time()\n",
        "        print(f\"'{function.__name__}' 함수의 실행 시간: {end_time - start_time}초\")\n",
        "    return wrapper\n",
        "\n",
        "@time_it\n",
        "def time_fib(n):\n",
        "    for i in fib(n):\n",
        "        print(i)\n",
        "\n",
        "time_fib(5)"
      ],
      "metadata": {
        "colab": {
          "base_uri": "https://localhost:8080/"
        },
        "id": "7PH4HxiXf9NP",
        "outputId": "3c7e3b68-36c2-4ddc-9577-4211f94e63dc"
      },
      "execution_count": null,
      "outputs": [
        {
          "output_type": "stream",
          "name": "stdout",
          "text": [
            "1\n",
            "1\n",
            "2\n",
            "3\n",
            "5\n",
            "'time_fib' 함수의 실행 시간: 0.0028586387634277344초\n"
          ]
        }
      ]
    },
    {
      "cell_type": "code",
      "source": [
        "def logging_time(original_fn):\n",
        "    import time\n",
        "    from functools import wraps\n",
        "\n",
        "    @wraps(original_fn)\n",
        "    def wrapper(*args, **kwargs):\n",
        "        start_time = time.time()\n",
        "        result = original_fn(*args, **kwargs)\n",
        "\n",
        "        end_time = time.time()\n",
        "        print(\"WorkingTime[{}]: {} sec\".format(original_fn.__name__, end_time - start_time))\n",
        "        return result\n",
        "    return wrapper\n",
        "\n",
        "@logging_time\n",
        "def func():\n",
        "    pass\n",
        "\n",
        "logging_time(func())"
      ],
      "metadata": {
        "colab": {
          "base_uri": "https://localhost:8080/"
        },
        "id": "gifvevuyjg8-",
        "outputId": "a6eb67be-2186-4744-b618-854ba3fde064"
      },
      "execution_count": null,
      "outputs": [
        {
          "output_type": "stream",
          "name": "stdout",
          "text": [
            "WorkingTime[func]: 9.5367431640625e-07 sec\n"
          ]
        },
        {
          "output_type": "execute_result",
          "data": {
            "text/plain": [
              "<function __main__.logging_time.<locals>.wrapper>"
            ]
          },
          "metadata": {},
          "execution_count": 181
        }
      ]
    },
    {
      "cell_type": "markdown",
      "source": [
        "# 파이썬 버전별 문법"
      ],
      "metadata": {
        "id": "a5TIwXA_Iw_A"
      }
    },
    {
      "cell_type": "code",
      "source": [
        "# 3.6\n",
        "def greet(name: str) -> str:\n",
        "    return f'Hello, {name}'\n",
        "\n",
        "greet(10)"
      ],
      "metadata": {
        "id": "17dEb1bwI0xH"
      },
      "execution_count": null,
      "outputs": []
    },
    {
      "cell_type": "code",
      "source": [
        "# 3.6\n",
        "def greet(name):\n",
        "    '''\n",
        "    인사를 하는 함수입니다.\n",
        "\n",
        "    이 함수는 name 인자로 받아 name과 함께 인사를 하는 함수입니다~~\n",
        "\n",
        "    Args:\n",
        "        a(str): 블라블라\n",
        "        b(int): 블라블라\n",
        "\n",
        "    Returns:\n",
        "        리턴은 이런식입니다.\n",
        "        example: [1, 2, 3]\n",
        "\n",
        "    Raises:\n",
        "        IOError: 애러 블라블라\n",
        "    '''\n",
        "    return f'Hello, {name}'\n",
        "\n",
        "greet(10)"
      ],
      "metadata": {
        "id": "V60gdcWDI2Uo"
      },
      "execution_count": null,
      "outputs": []
    },
    {
      "cell_type": "code",
      "source": [
        "greet.__doc__"
      ],
      "metadata": {
        "id": "0Wz7dertI5GC"
      },
      "execution_count": null,
      "outputs": []
    },
    {
      "cell_type": "code",
      "source": [
        "# 3.6\n",
        "name = 'Alice'\n",
        "print(f'Hello, {name}')"
      ],
      "metadata": {
        "id": "sEohyQsPI6I1"
      },
      "execution_count": null,
      "outputs": []
    },
    {
      "cell_type": "code",
      "source": [
        "# 3.7\n",
        "from dataclasses import dataclass\n",
        "\n",
        "@dataclass\n",
        "class User:\n",
        "    id: int\n",
        "    name: str\n",
        "    email : str\n",
        "\n",
        "user = User(123, 'hojun', 'hojun@gmail')\n",
        "user"
      ],
      "metadata": {
        "id": "rRx1Gvo7I8AC"
      },
      "execution_count": null,
      "outputs": []
    },
    {
      "cell_type": "code",
      "source": [
        "# 3.8\n",
        "(x := 10) * 3"
      ],
      "metadata": {
        "colab": {
          "base_uri": "https://localhost:8080/"
        },
        "id": "DtPQeO23I78J",
        "outputId": "2649775e-656c-4f77-f00e-d6af90fe222b"
      },
      "execution_count": 1,
      "outputs": [
        {
          "output_type": "execute_result",
          "data": {
            "text/plain": [
              "30"
            ]
          },
          "metadata": {},
          "execution_count": 1
        }
      ]
    },
    {
      "cell_type": "code",
      "source": [
        "x"
      ],
      "metadata": {
        "colab": {
          "base_uri": "https://localhost:8080/"
        },
        "id": "A2wuO8dGKJyI",
        "outputId": "587a2aab-2161-409d-f005-32d3ffd246a9"
      },
      "execution_count": 2,
      "outputs": [
        {
          "output_type": "execute_result",
          "data": {
            "text/plain": [
              "10"
            ]
          },
          "metadata": {},
          "execution_count": 2
        }
      ]
    },
    {
      "cell_type": "code",
      "source": [
        "# 3.9\n",
        "# 딕셔너리 결합 이제 됩니다!\n",
        "x = {\"key1\": \"value1\"}\n",
        "y = {\"key2\": \"value2\"}\n",
        "z = x | y\n",
        "z"
      ],
      "metadata": {
        "id": "L-mWy4V-KKps"
      },
      "execution_count": null,
      "outputs": []
    },
    {
      "cell_type": "code",
      "source": [
        "# {\"key1\": \"value1\"} + {\"key2\": \"value2\"}\n",
        "# {\"key1\": \"value1\"}.append({\"key2\": \"value2\"})\n",
        "x = {\"key1\": \"value1\"}\n",
        "x.update({\"key2\": \"value2\"})\n",
        "x"
      ],
      "metadata": {
        "id": "OBgSOKXpK3Dc"
      },
      "execution_count": null,
      "outputs": []
    },
    {
      "cell_type": "code",
      "source": [
        "# 3.5\n",
        "\n",
        "x = {\"key1\": \"value1\"}\n",
        "y = {\"key2\": \"value2\"}\n",
        "z = {**x, **y}\n",
        "z"
      ],
      "metadata": {
        "id": "PI-aVCU0K3tE"
      },
      "execution_count": null,
      "outputs": []
    },
    {
      "cell_type": "code",
      "source": [
        "!python --version"
      ],
      "metadata": {
        "colab": {
          "base_uri": "https://localhost:8080/"
        },
        "id": "pPfj7QF3LY4y",
        "outputId": "1c2788d0-33c6-4362-fc3d-5c72d60eb03a"
      },
      "execution_count": 4,
      "outputs": [
        {
          "output_type": "stream",
          "name": "stdout",
          "text": [
            "Python 3.10.12\n"
          ]
        }
      ]
    },
    {
      "cell_type": "code",
      "source": [
        "# 3.10\n",
        "str_test = \"good\"\n",
        "\n",
        "match str_test:\n",
        "\tcase \"happy\":\n",
        "\t\tprint(\"happy\")\n",
        "\n",
        "\tcase \"good\":\n",
        "\t\tprint(\"good\")"
      ],
      "metadata": {
        "colab": {
          "base_uri": "https://localhost:8080/"
        },
        "id": "QVVVKVYCLcDt",
        "outputId": "e4a8ac73-8520-4e0c-cfeb-3cb372b49fc4"
      },
      "execution_count": 5,
      "outputs": [
        {
          "output_type": "stream",
          "name": "stdout",
          "text": [
            "good\n"
          ]
        }
      ]
    },
    {
      "cell_type": "markdown",
      "source": [
        "# 파일 입출력"
      ],
      "metadata": {
        "id": "02UvIcd_M2Gw"
      }
    },
    {
      "cell_type": "code",
      "source": [
        "# open(파일이름, 파일모드)\n",
        "f = open('python.txt', 'w')\n",
        "# 파일모드 :\n",
        "# r(읽기모드)\n",
        "# w(쓰기모드, 파일이 없으면 생성, 내용이 있어도 w모드면 덮어씁니다.)\n",
        "# a(추가모드)\n",
        "f.close()"
      ],
      "metadata": {
        "id": "ZT46gHHiLyJp"
      },
      "execution_count": 6,
      "outputs": []
    },
    {
      "cell_type": "code",
      "source": [
        "f = open('python.txt', 'w')\n",
        "s = ''\n",
        "for i in range(1, 6):\n",
        "    s += f'{i}명 참여 중입니다.\\n'\n",
        "f.write(s[:-1])\n",
        "f.close()"
      ],
      "metadata": {
        "id": "mWV6ZNHlNM_U"
      },
      "execution_count": 8,
      "outputs": []
    },
    {
      "cell_type": "code",
      "source": [
        "f = open('python.txt', 'r')\n",
        "while True:\n",
        "    line = f.readline()\n",
        "    if not line:\n",
        "        break\n",
        "    print(line)\n",
        "f.close()"
      ],
      "metadata": {
        "colab": {
          "base_uri": "https://localhost:8080/"
        },
        "id": "v6KjvsF2NwJ_",
        "outputId": "cb097261-54a6-4696-c4e0-e0fad5263b16"
      },
      "execution_count": 9,
      "outputs": [
        {
          "output_type": "stream",
          "name": "stdout",
          "text": [
            "1명 참여 중입니다. \n",
            "\n",
            "2명 참여 중입니다. \n",
            "\n",
            "3명 참여 중입니다. \n",
            "\n",
            "4명 참여 중입니다. \n",
            "\n",
            "5명 참여 중입니다. \n"
          ]
        }
      ]
    },
    {
      "cell_type": "code",
      "source": [
        "f = open('python.txt', 'r')\n",
        "lines = f.readlines()\n",
        "# for line in lines:\n",
        "#     print(line)\n",
        "print(lines)\n",
        "f.close()"
      ],
      "metadata": {
        "colab": {
          "base_uri": "https://localhost:8080/"
        },
        "id": "tBfj8RsWRPLH",
        "outputId": "41d9d8a8-5a34-442c-c7e9-115a0223ff6a"
      },
      "execution_count": 11,
      "outputs": [
        {
          "output_type": "stream",
          "name": "stdout",
          "text": [
            "['1명 참여 중입니다. \\n', '2명 참여 중입니다. \\n', '3명 참여 중입니다. \\n', '4명 참여 중입니다. \\n', '5명 참여 중입니다. ']\n"
          ]
        }
      ]
    },
    {
      "cell_type": "code",
      "source": [
        "f = open('python.txt', 'r')\n",
        "data = f.read()\n",
        "print(data)\n",
        "f.close()"
      ],
      "metadata": {
        "colab": {
          "base_uri": "https://localhost:8080/"
        },
        "id": "-O0OCl0CRu14",
        "outputId": "2a6720d7-c01a-4fb4-defa-d0d167f0bb48"
      },
      "execution_count": 12,
      "outputs": [
        {
          "output_type": "stream",
          "name": "stdout",
          "text": [
            "1명 참여 중입니다. \n",
            "2명 참여 중입니다. \n",
            "3명 참여 중입니다. \n",
            "4명 참여 중입니다. \n",
            "5명 참여 중입니다. \n"
          ]
        }
      ]
    },
    {
      "cell_type": "code",
      "source": [
        "data"
      ],
      "metadata": {
        "colab": {
          "base_uri": "https://localhost:8080/",
          "height": 35
        },
        "id": "PUUKAIT6SXGI",
        "outputId": "b438b116-5c3d-4a94-cdec-92c0320a8104"
      },
      "execution_count": 13,
      "outputs": [
        {
          "output_type": "execute_result",
          "data": {
            "text/plain": [
              "'1명 참여 중입니다. \\n2명 참여 중입니다. \\n3명 참여 중입니다. \\n4명 참여 중입니다. \\n5명 참여 중입니다. '"
            ],
            "application/vnd.google.colaboratory.intrinsic+json": {
              "type": "string"
            }
          },
          "metadata": {},
          "execution_count": 13
        }
      ]
    },
    {
      "cell_type": "code",
      "source": [
        "f = open('python.txt', 'r')\n",
        "lines = f.readlines()\n",
        "for line in lines:\n",
        "\tprint(line, end='')\n",
        "f.close()"
      ],
      "metadata": {
        "colab": {
          "base_uri": "https://localhost:8080/"
        },
        "id": "eFBffeNkSg1Z",
        "outputId": "5377e542-58fb-4a4f-d659-55cdadc45bfc"
      },
      "execution_count": 14,
      "outputs": [
        {
          "output_type": "stream",
          "name": "stdout",
          "text": [
            "1명 참여 중입니다. \n",
            "2명 참여 중입니다. \n",
            "3명 참여 중입니다. \n",
            "4명 참여 중입니다. \n",
            "5명 참여 중입니다. "
          ]
        }
      ]
    },
    {
      "cell_type": "code",
      "source": [
        "# 쉬운 예제\n",
        "f = open('python.html', 'w')\n",
        "s = '''<html>\n",
        "<head>\n",
        "</head>\n",
        "<body>\n",
        "<h1>hello world</h1>\n",
        "</body>\n",
        "</h>\n",
        "'''\n",
        "f.write(s)\n",
        "f.close()"
      ],
      "metadata": {
        "id": "-bJgjmhNSxBd"
      },
      "execution_count": 15,
      "outputs": []
    },
    {
      "cell_type": "code",
      "source": [
        "# 쉬운 예제\n",
        "# 콜랩에서는 잘열리지만 window 엑셀에서 꺠집니다\n",
        "f = open('python.csv', 'w')\n",
        "s = '''제목, 평점, 이미지, 줄거리\n",
        "무빙,5.0,img,줄거리\n",
        "무빙,5.0,img,줄거리\n",
        "무빙,5.0,img,줄거리\n",
        "'''\n",
        "f.write(s)\n",
        "f.close()"
      ],
      "metadata": {
        "id": "trcGkHgnTSpd"
      },
      "execution_count": 16,
      "outputs": []
    },
    {
      "cell_type": "code",
      "source": [
        "# 쉬운 예제\n",
        "# 콜랩에서는 잘열리지만 window 엑셀에서 꺠집니다\n",
        "f = open('python.csv', 'w', encoding='utf-8')\n",
        "s = '''제목, 평점, 이미지, 줄거리\n",
        "무빙,5.0,img,줄거리\n",
        "무빙,5.0,img,줄거리\n",
        "무빙,5.0,img,줄거리\n",
        "'''\n",
        "f.write(s)\n",
        "f.close()"
      ],
      "metadata": {
        "id": "FWEnj8mbecp5"
      },
      "execution_count": 29,
      "outputs": []
    },
    {
      "cell_type": "code",
      "source": [
        "# 쉬운 예제\n",
        "# 콜렙에서는 꺠져서 나온다\n",
        "f = open('python.csv', 'w', encoding='cp949') # window인코딩입니다.\n",
        "s = '''제목, 평점, 이미지, 줄거리\n",
        "무빙,5.0,img,줄거리\n",
        "무빙,5.0,img,줄거리\n",
        "무빙,5.0,img,줄거리\n",
        "'''\n",
        "f.write(s)\n",
        "f.close()"
      ],
      "metadata": {
        "id": "X_q3jukienfE"
      },
      "execution_count": 30,
      "outputs": []
    },
    {
      "cell_type": "code",
      "source": [
        "# 어려운 예제\n",
        "# django의 동작원리와도 관련이 있습니다.\n",
        "import requests\n",
        "from bs4 import BeautifulSoup\n",
        "\n",
        "paullab_url = 'http://paullab.co.kr/bookservice/'\n",
        "response = requests.get(paullab_url)\n",
        "response.encoding = 'utf-8'\n",
        "html = response.text\n",
        "\n",
        "soup = BeautifulSoup(html, 'html.parser')\n",
        "\n",
        "bookservices = soup.select('.col-lg-6 > h2')     # col-lg-6 클래스 안의 h2 태그 탐색\n",
        "for no, book in enumerate(bookservices, 1):\n",
        "    print(no, book.text)\n",
        "\n",
        "\n",
        "# 이미지 양식: https://paullab.co.kr/bookservice/img/notion.jpg\n",
        "f = open('python.html', 'w')\n",
        "s = '''<html>\n",
        "<head>\n",
        "</head>\n",
        "<body>\n",
        "<section>\n",
        "<h2>제목</h2>\n",
        "<img src=''>\n",
        "</section>\n",
        "</body>\n",
        "</html>\n",
        "'''\n",
        "f.write(s)\n",
        "f.close()"
      ],
      "metadata": {
        "colab": {
          "base_uri": "https://localhost:8080/"
        },
        "id": "CJDstgm3US1k",
        "outputId": "72da1f3c-742e-4d19-da00-066b72be70d5"
      },
      "execution_count": 17,
      "outputs": [
        {
          "output_type": "stream",
          "name": "stdout",
          "text": [
            "1 메모혁신 Notion(노션) 활용 가이드\n",
            "2 제주코딩베이스캠프 Code Festival: Python 100제 1부\n",
            "3 튜토리얼로 배우는 HTML&CSS\n",
            "4 코딩도장 튜토리얼로 배우는 Python 1편 object\n",
            "5 코딩도장 튜토리얼로 배우는 python 2편 제어문\n",
            "6 코딩도장 튜토리얼로 배우는 Python 문제풀이\n",
            "7 타노스의 건틀릿 알고리즘 With Python\n",
            "8 xlsxwriter 튜토리얼로 배우는 Python 엑셀 프로그래밍\n",
            "9 러플 튜토리얼로 배우는 Python\n",
            "10 인공지능을 활용한 업무자동화 With Google Developers Group JEJU\n",
            "11 2017 제주 코딩 해커톤 Django 트랙 상편 1권\n"
          ]
        }
      ]
    },
    {
      "cell_type": "code",
      "source": [
        "# 어려운 예제\n",
        "# django의 동작원리와도 관련이 있습니다.\n",
        "import requests\n",
        "from bs4 import BeautifulSoup\n",
        "\n",
        "paullab_url = 'http://paullab.co.kr/bookservice/'\n",
        "response = requests.get(paullab_url)\n",
        "response.encoding = 'utf-8'\n",
        "html = response.text\n",
        "\n",
        "soup = BeautifulSoup(html, 'html.parser')\n",
        "\n",
        "bookservices = soup.select('.col-lg-6 > h2')     # col-lg-6 클래스 안의 h2 태그 탐색\n",
        "contents = ''\n",
        "\n",
        "for no, (book, img) in enumerate(zip(bookservices, soup.select('img')[2:]), 1):\n",
        "    contents += f'''\n",
        "                <section>\n",
        "                <h2>{no}. {book.text}</h2>\n",
        "                <img src='https://paullab.co.kr/bookservice/{img[\"src\"]}'>\n",
        "                </section>\n",
        "                '''\n",
        "\n",
        "# 이미지 양식: https://paullab.co.kr/bookservice/img/notion.jpg\n",
        "f = open('python.html', 'w')\n",
        "s = f'''<html>\n",
        "<head>\n",
        "</head>\n",
        "<body>\n",
        "{contents}\n",
        "</body>\n",
        "</html>\n",
        "'''\n",
        "f.write(s)\n",
        "f.close()"
      ],
      "metadata": {
        "id": "UuGKGtQ3ViSy"
      },
      "execution_count": 20,
      "outputs": []
    },
    {
      "cell_type": "code",
      "source": [
        "f = open('python.txt', 'a')\n",
        "s = ''\n",
        "for i in range(6, 11):\n",
        "    s += f'{i}명 참여 중입니다. \\n'\n",
        "f.write(s)\n",
        "f.close()"
      ],
      "metadata": {
        "id": "eM-997evYgGP"
      },
      "execution_count": 21,
      "outputs": []
    },
    {
      "cell_type": "code",
      "source": [
        "with open('test.txt', 'w') as f:\n",
        "    f.write('Life is too short, you need python')"
      ],
      "metadata": {
        "id": "EZDSMH6mYhj-"
      },
      "execution_count": 22,
      "outputs": []
    },
    {
      "cell_type": "code",
      "source": [
        "## 파일 입출력은 이 위까지만 공부하시면 됩니다."
      ],
      "metadata": {
        "id": "kVEZx_dcI0Xu"
      },
      "execution_count": null,
      "outputs": []
    },
    {
      "cell_type": "code",
      "source": [
        "with open('python.txt', 'w') as f:\n",
        "    f.write('Life is too short, you need python')"
      ],
      "metadata": {
        "id": "HteWr1yCJavk"
      },
      "execution_count": 13,
      "outputs": []
    },
    {
      "cell_type": "code",
      "source": [
        "f = open('python.txt', 'r+') # 읽기 쓰기(기존에 있던 내용을 읽을 수 있고, 최종적으로는 덮어씀)\n",
        "# f.seek(0)  # 파일의 시작 위치로 이동, r모드는 포인터가 맨 앞으로 가 있습니다.\n",
        "print(f.read())\n",
        "f.write('\\nr+모드입니다!\\n')\n",
        "print('-----')\n",
        "f.seek(0)  # 파일의 시작 위치로 이동\n",
        "print(f.read())\n",
        "f.close()"
      ],
      "metadata": {
        "colab": {
          "base_uri": "https://localhost:8080/"
        },
        "id": "pKoY1-nBY74h",
        "outputId": "94781d46-816b-4ed5-8ec2-4899f0a82f40"
      },
      "execution_count": 14,
      "outputs": [
        {
          "output_type": "stream",
          "name": "stdout",
          "text": [
            "Life is too short, you need python\n",
            "Life is too short, you need python\n",
            "r+모드입니다!\n",
            "\n"
          ]
        }
      ]
    },
    {
      "cell_type": "code",
      "source": [
        "f = open('python.txt', 'r+') # 읽기 쓰기(기존에 있던 내용을 읽고 내용뒤에 최종적으로는 덮어쓴다.)\n",
        "f.seek(0) # 커서를 앞으로 보냈음에도 기존에 텍스트를 읽지 못합니다.\n",
        "print(f.read())\n",
        "f.write('\\nw+모드입니다\\n')\n",
        "print('-----')\n",
        "f.seek(0)  # 파일의 시작 위치로 이동\n",
        "print(f.read())\n",
        "f.close()\n",
        "# 차이:\n",
        "# r+ 모드는 파일을 열 때 기존의 내용을 보존\n",
        "# w+ 모드는 파일을 열 때 기존의 내용을 삭제"
      ],
      "metadata": {
        "colab": {
          "base_uri": "https://localhost:8080/"
        },
        "id": "1XNBY6uzZz3k",
        "outputId": "c83e12b6-84ba-4d33-e0e9-c215309fa533"
      },
      "execution_count": 27,
      "outputs": [
        {
          "output_type": "stream",
          "name": "stdout",
          "text": [
            "hello world\n",
            "hello world\n",
            "\n",
            "\n"
          ]
        }
      ]
    },
    {
      "cell_type": "code",
      "source": [
        "f = open('python.txt', 'a+') # 읽기, 없으면 파일추가\n",
        "f.seek(0)   # 커서를 이렇게 이동해주지 않으면 기존 내용을 못읽습니다\n",
        "print(f.read())\n",
        "f.write(' \\na+모드입니다\\n') # 그냥 덮어 써버림\n",
        "f.seek(0)\n",
        "print(f.read())\n",
        "f.close()\n",
        "# r+모드와 차이: 파일 포인터가 r+는 파일의 시작 부분, a+는 끝 부분"
      ],
      "metadata": {
        "colab": {
          "base_uri": "https://localhost:8080/"
        },
        "id": "a1sjknBSZkan",
        "outputId": "a7c2de91-a92c-4f81-f9a5-4619f3c3002b"
      },
      "execution_count": 16,
      "outputs": [
        {
          "output_type": "stream",
          "name": "stdout",
          "text": [
            "Life is too short, you need python\n",
            "r+모드입니다!\n",
            " \n",
            "a+모드입니다\n",
            "\n",
            "Life is too short, you need python\n",
            "r+모드입니다!\n",
            " \n",
            "a+모드입니다\n",
            " \n",
            "a+모드입니다\n",
            "\n"
          ]
        }
      ]
    },
    {
      "cell_type": "code",
      "source": [
        "f = open('python.txt', 'r+') # 포인터가 처음\n",
        "print(f.read())\n",
        "f.close()"
      ],
      "metadata": {
        "id": "FEaFp-YuK2AQ"
      },
      "execution_count": null,
      "outputs": []
    },
    {
      "cell_type": "code",
      "source": [
        "f = open('python.txt', 'a+') # 포인터가 끝\n",
        "print(f.read())\n",
        "f.close()"
      ],
      "metadata": {
        "id": "AnwHrn9TK3U-"
      },
      "execution_count": null,
      "outputs": []
    },
    {
      "cell_type": "markdown",
      "source": [
        "# 비트연산"
      ],
      "metadata": {
        "id": "wIYGadlfbVsQ"
      }
    },
    {
      "cell_type": "code",
      "source": [
        "5 & 12 # bit and 연산\n",
        "\n",
        "# 00000101 == 5\n",
        "# 00001100 == 12\n",
        "# --------\n",
        "# 00000100 == 4"
      ],
      "metadata": {
        "colab": {
          "base_uri": "https://localhost:8080/"
        },
        "id": "92WMPUeIbBfo",
        "outputId": "25ccf707-b718-4087-decf-6dac6cac79c6"
      },
      "execution_count": 31,
      "outputs": [
        {
          "output_type": "execute_result",
          "data": {
            "text/plain": [
              "4"
            ]
          },
          "metadata": {},
          "execution_count": 31
        }
      ]
    },
    {
      "cell_type": "code",
      "source": [
        "5 | 12 # bit or 연산\n",
        "\n",
        "# 00000101 == 5\n",
        "# 00001100 == 12\n",
        "# --------\n",
        "# 00001101 == 13"
      ],
      "metadata": {
        "colab": {
          "base_uri": "https://localhost:8080/"
        },
        "id": "uQb1h-yqf6oS",
        "outputId": "739a33a4-73eb-476c-de34-9d9a0f06f26b"
      },
      "execution_count": 32,
      "outputs": [
        {
          "output_type": "execute_result",
          "data": {
            "text/plain": [
              "13"
            ]
          },
          "metadata": {},
          "execution_count": 32
        }
      ]
    },
    {
      "cell_type": "code",
      "source": [
        "7 << 2\n",
        "# 00000111 == 7\n",
        "# 00011100 == 28"
      ],
      "metadata": {
        "colab": {
          "base_uri": "https://localhost:8080/"
        },
        "id": "ApwkTe9cgcAw",
        "outputId": "ec8bdac7-a5b3-47d1-c23c-65c074e8abd7"
      },
      "execution_count": 34,
      "outputs": [
        {
          "output_type": "execute_result",
          "data": {
            "text/plain": [
              "28"
            ]
          },
          "metadata": {},
          "execution_count": 34
        }
      ]
    },
    {
      "cell_type": "code",
      "source": [
        "16 >> 2\n",
        "# 00010000 == 16\n",
        "# 00000100 == 4"
      ],
      "metadata": {
        "colab": {
          "base_uri": "https://localhost:8080/"
        },
        "id": "BA_m2I36gvo0",
        "outputId": "cb15b53e-d9ae-47d5-c028-681f5d5ee32f"
      },
      "execution_count": 36,
      "outputs": [
        {
          "output_type": "execute_result",
          "data": {
            "text/plain": [
              "4"
            ]
          },
          "metadata": {},
          "execution_count": 36
        }
      ]
    },
    {
      "cell_type": "code",
      "source": [
        "~0 # 2의 보수(보수를 취하려는 숫자에서 +1 음수를 취하면 됩니다.)"
      ],
      "metadata": {
        "colab": {
          "base_uri": "https://localhost:8080/"
        },
        "id": "7yTB7wlPhMRu",
        "outputId": "683b3db8-2f14-43f0-c9b6-c360bfa83b07"
      },
      "execution_count": 44,
      "outputs": [
        {
          "output_type": "execute_result",
          "data": {
            "text/plain": [
              "-1"
            ]
          },
          "metadata": {},
          "execution_count": 44
        }
      ]
    },
    {
      "cell_type": "code",
      "source": [
        "~5"
      ],
      "metadata": {
        "colab": {
          "base_uri": "https://localhost:8080/"
        },
        "id": "FfRRKc2Wiw8s",
        "outputId": "53b462f1-f83c-4814-d4c9-c7952099aee6"
      },
      "execution_count": 45,
      "outputs": [
        {
          "output_type": "execute_result",
          "data": {
            "text/plain": [
              "-6"
            ]
          },
          "metadata": {},
          "execution_count": 45
        }
      ]
    },
    {
      "cell_type": "code",
      "source": [
        "~~5 # ~(-6) = > ~(-6 + !) => 5"
      ],
      "metadata": {
        "colab": {
          "base_uri": "https://localhost:8080/"
        },
        "id": "LZ_0psdpixvt",
        "outputId": "00f8b7ae-aed3-45be-d60b-d00f1299d403"
      },
      "execution_count": 47,
      "outputs": [
        {
          "output_type": "execute_result",
          "data": {
            "text/plain": [
              "5"
            ]
          },
          "metadata": {},
          "execution_count": 47
        }
      ]
    },
    {
      "cell_type": "markdown",
      "source": [
        "자바스크립트에서는 소수점잘라내는 용도로 사용 가능하다.(단, 협업할때는 사용x)\n",
        "파이썬은 안된다"
      ],
      "metadata": {
        "id": "lHTDO-v5jVKl"
      }
    },
    {
      "cell_type": "markdown",
      "source": [
        "![image.png](data:image/png;base64,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)"
      ],
      "metadata": {
        "id": "i0Bv0e7NjTif"
      }
    },
    {
      "cell_type": "markdown",
      "source": [
        "# f-string!!!"
      ],
      "metadata": {
        "id": "3RlmcmDHj45S"
      }
    },
    {
      "cell_type": "code",
      "source": [
        "# 중괄호가 2개씩 증가할 때마다 출력은 1개씩 증가\n",
        "value = 'hello'\n",
        "print(f'{value}')   # 중괄호 x\n",
        "print(f'{{value}}') # 중괄호 1\n",
        "print(f'{{{value}}}')   # 중괄호 1\n",
        "print(f'{{{{value}}}}') # 중괄호 2\n",
        "print(f'{{{{{value}}}}}') # 중괄호 2\n",
        "print(f'{{{{{{value}}}}}}') # 중괄호 3"
      ],
      "metadata": {
        "colab": {
          "base_uri": "https://localhost:8080/"
        },
        "id": "7K1OJR6RkhVy",
        "outputId": "86e38d3e-2079-4f79-d167-ce9cff5f6059"
      },
      "execution_count": 56,
      "outputs": [
        {
          "output_type": "stream",
          "name": "stdout",
          "text": [
            "hello\n",
            "{value}\n",
            "{hello}\n",
            "{{value}}\n",
            "{{hello}}\n",
            "{{{value}}}\n"
          ]
        }
      ]
    },
    {
      "cell_type": "code",
      "source": [
        "value = 'hello'\n",
        "print(f'{10 + 10}') # 중괄호 안에서 연산을 하는 것을 강사님은 권하지 않으신다. 코드의 가독성을 해치기때문\n",
        "# print(f'{value + 'world'}') # error\n",
        "# print(f'{value + \\'world\\'}') # 이스케이프 문자를 허용하지 않습니다\n",
        "print(f'{value + \"world\"}')\n",
        "print(f\"{value + 'world'}\")"
      ],
      "metadata": {
        "colab": {
          "base_uri": "https://localhost:8080/"
        },
        "id": "PAW95WNHlUZ2",
        "outputId": "5bcf140d-fe26-43df-91c7-5dc453bdbee5"
      },
      "execution_count": 58,
      "outputs": [
        {
          "output_type": "stream",
          "name": "stdout",
          "text": [
            "helloworld\n"
          ]
        }
      ]
    },
    {
      "cell_type": "code",
      "source": [
        "a = 10\n",
        "b = 20\n",
        "\n",
        "# case1\n",
        "two_numbers_mul = a * b # 굳이 변수 1개를 더 생성할 필요가 있을까?\n",
        "print(f'{two_numbers_mul}')\n",
        "\n",
        "# case2\n",
        "print(f'{a * b}')\n",
        "# 간단하니까 그렇지\n",
        "# 코드가 복잡해지면 가독성에서 차이가 납니다"
      ],
      "metadata": {
        "colab": {
          "base_uri": "https://localhost:8080/"
        },
        "id": "GheF3LX6mDdc",
        "outputId": "52f01a77-8c5f-4b93-9e2f-894f91d13c06"
      },
      "execution_count": 60,
      "outputs": [
        {
          "output_type": "stream",
          "name": "stdout",
          "text": [
            "200\n",
            "200\n"
          ]
        }
      ]
    },
    {
      "cell_type": "code",
      "source": [
        "a = 10\n",
        "b = 20\n",
        "\n",
        "# case1\n",
        "two_numbers_mul = a * b # 굳이 변수 1개를 더 생성할 필요가 있을까?\n",
        "two_numbers_add = a + b\n",
        "two_numbers_mul_add = two_numbers_mul * two_numbers_add\n",
        "print(f'{two_numbers_mul_add}') # 이 변수명을 보고 의도를 파악할 수 있습니다.\n",
        "\n",
        "# case2\n",
        "print(f'{(a * b) * (a + b)}') # 이 값이 무엇을 의미하는지 모릅니다.\n",
        "# 코드가 복잡해지면 가독성에서 차이가 납니다."
      ],
      "metadata": {
        "id": "4YTBtoQZnH2B"
      },
      "execution_count": null,
      "outputs": []
    },
    {
      "cell_type": "code",
      "source": [
        "# 포멧팅 지정자는 {변수이름:포멧팅_양식}\n",
        "num = 3.14159\n",
        "print(f\"{num:.2f}\")  # 출력: 3.14\n",
        "\n",
        "name = \"Alice\"\n",
        "print(f\"{name:>10}\")  # 출력:      Alice  # 포멧팅 지정자 ,format 용법과 동일"
      ],
      "metadata": {
        "colab": {
          "base_uri": "https://localhost:8080/"
        },
        "id": "RND6ofE5izjQ",
        "outputId": "5f97034e-7c84-42dc-921f-37220dad95c8"
      },
      "execution_count": 48,
      "outputs": [
        {
          "output_type": "stream",
          "name": "stdout",
          "text": [
            "3.14\n",
            "     Alice\n"
          ]
        }
      ]
    },
    {
      "cell_type": "code",
      "source": [
        "# 파이썬(Python) 3 포맷팅 방식\n",
        "print('나의 이름은 {}입니다'.format('한사람'))\n",
        "print('나의 이름은 {0}입니다. 나이는 {1}세이고 성별은 {2}입니다.'.format('한사람',33,'남성'))\n",
        "print('나이는 {1}세이고 성별은 {2}입니다. 나의 이름은 {0}입니다. '.format('한사람',33,'남성'))\n",
        "print('나이는 {age}세이고 성별은 {gender}입니다. 나의 이름은 {name}입니다. '.format(name='한사람',age=33,gender='남성'))\n",
        "print('만세삼창 :  {0}!!! {0}!!! {0}!!! '.format('만세'))\n",
        "print('삼삼칠 박수 :  {0}!!! {0}!!! {1}!!! '.format('짝'*3,'짝'*7))\n",
        "print('-' * 40)\n",
        "\n",
        "print('나의 이름은 {0:.2f}입니다'.format(3.141592))\n",
        "print('나의 이름은 {0:>20}입니다'.format(3.141592)) # 0은 순서 :은 포멧팅 지정자 2f, >20은 포멧팅_양식"
      ],
      "metadata": {
        "colab": {
          "base_uri": "https://localhost:8080/"
        },
        "id": "PMEc4Y35kNXu",
        "outputId": "58abfd3a-3090-454f-810b-f73fdfed73f2"
      },
      "execution_count": 63,
      "outputs": [
        {
          "output_type": "stream",
          "name": "stdout",
          "text": [
            "나의 이름은 한사람입니다\n",
            "나의 이름은 한사람입니다. 나이는 33세이고 성별은 남성입니다.\n",
            "나이는 33세이고 성별은 남성입니다. 나의 이름은 한사람입니다. \n",
            "나이는 33세이고 성별은 남성입니다. 나의 이름은 한사람입니다. \n",
            "만세삼창 :  만세!!! 만세!!! 만세!!! \n",
            "삼삼칠 박수 :  짝짝짝!!! 짝짝짝!!! 짝짝짝짝짝짝짝!!! \n",
            "----------------------------------------\n",
            "나의 이름은 3.14입니다\n",
            "나의 이름은             3.141592입니다\n"
          ]
        }
      ]
    },
    {
      "cell_type": "code",
      "source": [
        "# 파이썬(Python) 3.6 f-string 방식\n",
        "something = '볼펜'\n",
        "EA = 2\n",
        "one_length = 5.343\n",
        "scale = 'cm'\n",
        "\n",
        "print(f'{something} {EA}개의 길이는 {one_length*EA}{scale} 입니다.')\n",
        "print(f'{something} {EA}개의 길이는 {one_length*EA:.1f}{scale} 입니다.')"
      ],
      "metadata": {
        "id": "teEy3xFtnyhc"
      },
      "execution_count": null,
      "outputs": []
    },
    {
      "cell_type": "code",
      "source": [
        "print('Python is [{:15}]'.format('good'))   # 양식같음 자료형만 다름\n",
        "print('Python is [{:<15}]'.format('good'))\n",
        "print('Python is [{:>15}]'.format('good'))\n",
        "print('Python is [{:^15}]'.format('good'))\n",
        "print('Python is [{:-^15}]'.format('good'))\n",
        "print('당신의 나이는 [{:15}]세'.format(22)) # 양식같음 자료형만 다름\n",
        "print('당신의 나이는 [{:<15}]세'.format(22))\n",
        "print('당신의 나이는 [{:>15}]세'.format(22))\n",
        "print('당신의 나이는 [{:^15}]세'.format(22))\n",
        "print('당신의 나이는 [{:-^15}]세'.format(22))\n",
        "print('-' * 40)"
      ],
      "metadata": {
        "colab": {
          "base_uri": "https://localhost:8080/"
        },
        "id": "XBXNsHQdoqsq",
        "outputId": "64c3912a-0ae1-4aa5-f444-58ebe3a5ec73"
      },
      "execution_count": 70,
      "outputs": [
        {
          "output_type": "stream",
          "name": "stdout",
          "text": [
            "Python is [good           ]\n",
            "Python is [good           ]\n",
            "Python is [           good]\n",
            "Python is [     good      ]\n",
            "Python is [-----good------]\n",
            "당신의 나이는 [             22]세\n",
            "당신의 나이는 [22             ]세\n",
            "당신의 나이는 [             22]세\n",
            "당신의 나이는 [      22       ]세\n",
            "당신의 나이는 [------22-------]세\n",
            "----------------------------------------\n"
          ]
        }
      ]
    },
    {
      "cell_type": "code",
      "source": [
        "print('[{:15}]'.format('10')) # 양식 같음, 자료형만 다름\n",
        "print('[{:15}]'.format(10)) # 양식 같음, 자료형만 다름"
      ],
      "metadata": {
        "colab": {
          "base_uri": "https://localhost:8080/"
        },
        "id": "5EW-3_Os5lhB",
        "outputId": "fdfb3a34-33e3-4dc0-98a2-78a29db8b027"
      },
      "execution_count": 68,
      "outputs": [
        {
          "output_type": "stream",
          "name": "stdout",
          "text": [
            "[10             ]\n",
            "[             10]\n"
          ]
        }
      ]
    },
    {
      "cell_type": "code",
      "source": [
        "char_a = '5'\n",
        "int_a = 5\n",
        "sample = 1234567890\n",
        "\n",
        "print(1234567890)\n",
        "print(f'{sample:>5}') # >는 오른쪽정렬\n",
        "print(f'{char_a:>5}') # >는 오른쪽정렬\n",
        "print(f'{char_a:<5}') # <는 왼쪽정렬\n",
        "print(f'{char_a:^5}') # ^는 가운데정렬\n",
        "print(f'{int_a:0<5}')# <는 왼쪽정렬, 빈자리를 0으로 채울수도 있음\n",
        "print(f'{int_a:^10.2f}') # ^ 가운데 정렬하면서 float 타입지정"
      ],
      "metadata": {
        "colab": {
          "base_uri": "https://localhost:8080/"
        },
        "id": "ZFqffL5d5m9q",
        "outputId": "f7e1dde4-1a4f-425e-f941-8f34f771472f"
      },
      "execution_count": 72,
      "outputs": [
        {
          "output_type": "stream",
          "name": "stdout",
          "text": [
            "1234567890\n",
            "1234567890\n",
            "    5\n",
            "5    \n",
            "  5  \n",
            "50000\n",
            "   5.00   \n"
          ]
        }
      ]
    },
    {
      "cell_type": "code",
      "source": [
        "int_a = 5\n",
        "print(f'{int_a:0<5}')# <는 왼쪽정렬, 빈자리를 0으로 채울수도 있음\n",
        "print(f'{int_a:0>5}')# <는 왼쪽정렬, 빈자리를 0으로 채울수도 있음\n",
        "\n",
        "'12345'.zfill(10)"
      ],
      "metadata": {
        "colab": {
          "base_uri": "https://localhost:8080/",
          "height": 70
        },
        "id": "-cPFRGcT9vUp",
        "outputId": "d4e81660-6a0b-4ac9-bd38-abc9e34ed3db"
      },
      "execution_count": 79,
      "outputs": [
        {
          "output_type": "stream",
          "name": "stdout",
          "text": [
            "50000\n",
            "00005\n"
          ]
        },
        {
          "output_type": "execute_result",
          "data": {
            "text/plain": [
              "'0000012345'"
            ],
            "application/vnd.google.colaboratory.intrinsic+json": {
              "type": "string"
            }
          },
          "metadata": {},
          "execution_count": 79
        }
      ]
    },
    {
      "cell_type": "code",
      "source": [
        "# 문제1 1~9 까지 더하는 문제\n",
        "# 문제2 1~9 까지 홀수의 합\n",
        "# 문제3 1000미만의 자연수에서 3의 배수와 5의 배수의 총합을 구하는 프로그램"
      ],
      "metadata": {
        "id": "Wo9_vU3i_l6Z"
      },
      "execution_count": null,
      "outputs": []
    },
    {
      "cell_type": "markdown",
      "source": [
        "문제1"
      ],
      "metadata": {
        "id": "94MgaYMaCkd6"
      }
    },
    {
      "cell_type": "code",
      "source": [
        "sum = 0\n",
        "for i in range(1, 10):\n",
        "    sum += i\n",
        "print(sum)"
      ],
      "metadata": {
        "colab": {
          "base_uri": "https://localhost:8080/"
        },
        "id": "gC5LeMZv_2lq",
        "outputId": "602ae0c8-f115-4e7c-fcb3-4c144395cb58"
      },
      "execution_count": 82,
      "outputs": [
        {
          "output_type": "stream",
          "name": "stdout",
          "text": [
            "45\n"
          ]
        }
      ]
    },
    {
      "cell_type": "code",
      "source": [
        "sum(list(range(10)))  # list로 형변환 하는 것은 데이터가 클수록 부하가 큽니다.\n",
        "sum([i for i in range(1, 10)])  #  일반 list로 형변환 하는 것보다는 빠르지만 이것도 역시나 부하가 있습니다.\n",
        "sum(range(1, 10))\n",
        "((1 + 9) * 9) / 2"
      ],
      "metadata": {
        "colab": {
          "base_uri": "https://localhost:8080/"
        },
        "id": "g3PoIyALCyJt",
        "outputId": "31508c51-d139-4fc5-a982-951621717a3e"
      },
      "execution_count": 10,
      "outputs": [
        {
          "output_type": "execute_result",
          "data": {
            "text/plain": [
              "45"
            ]
          },
          "metadata": {},
          "execution_count": 10
        }
      ]
    },
    {
      "cell_type": "code",
      "source": [
        "print(sum(list(range(1, 10))))"
      ],
      "metadata": {
        "colab": {
          "base_uri": "https://localhost:8080/"
        },
        "id": "78P10HAMCt8W",
        "outputId": "3b15b622-0472-4774-d5a9-4ff386bc04c0"
      },
      "execution_count": 7,
      "outputs": [
        {
          "output_type": "stream",
          "name": "stdout",
          "text": [
            "45\n"
          ]
        }
      ]
    },
    {
      "cell_type": "markdown",
      "source": [
        "문제2"
      ],
      "metadata": {
        "id": "yM2-D4sCCjM7"
      }
    },
    {
      "cell_type": "code",
      "source": [
        "sum([i for i in range(1, 10, 2)])\n",
        "sum(filter(lambda x: x%2==1, range(10)))\n",
        "sum(range(1, 10, 2))"
      ],
      "metadata": {
        "colab": {
          "base_uri": "https://localhost:8080/"
        },
        "id": "vvI2ov4-HXNC",
        "outputId": "e0e1ebc8-1902-46d9-9c16-d3bb8a89f246"
      },
      "execution_count": 11,
      "outputs": [
        {
          "output_type": "execute_result",
          "data": {
            "text/plain": [
              "25"
            ]
          },
          "metadata": {},
          "execution_count": 11
        }
      ]
    },
    {
      "cell_type": "code",
      "source": [
        "sum = 0\n",
        "for i in range(1, 10, 2):\n",
        "    sum += i\n",
        "\n",
        "print(sum)"
      ],
      "metadata": {
        "colab": {
          "base_uri": "https://localhost:8080/"
        },
        "id": "PRsOONUOAUQ4",
        "outputId": "5c6fcac2-2f0a-4e7d-dfaf-c7b8e1cefd7f"
      },
      "execution_count": 84,
      "outputs": [
        {
          "output_type": "stream",
          "name": "stdout",
          "text": [
            "25\n"
          ]
        }
      ]
    },
    {
      "cell_type": "code",
      "source": [
        "print(sum(list(range(1, 10, 2))))\n",
        "print(sum(range(1, 10, 2)))"
      ],
      "metadata": {
        "colab": {
          "base_uri": "https://localhost:8080/"
        },
        "id": "c6C5E7NFCmYI",
        "outputId": "ff874463-e7bc-4fd0-b1b3-7b39de19a558"
      },
      "execution_count": 6,
      "outputs": [
        {
          "output_type": "stream",
          "name": "stdout",
          "text": [
            "25\n"
          ]
        }
      ]
    },
    {
      "cell_type": "markdown",
      "source": [
        "문제3"
      ],
      "metadata": {
        "id": "ZKbmdovDCldo"
      }
    },
    {
      "cell_type": "code",
      "source": [
        "sum(range(0, 1000, 3)) + sum(range(0, 1000, 5)) - sum(range(0, 1000, 15))\n",
        "s = 0\n",
        "for i in range(1000):\n",
        "    if i % 3 == 0 and i % 5 == 0:\n",
        "        s += i\n",
        "\n",
        "s"
      ],
      "metadata": {
        "colab": {
          "base_uri": "https://localhost:8080/"
        },
        "id": "tn5QrxPNHy0v",
        "outputId": "5256c731-e7f2-4f0d-9f83-adeea43cd9c8"
      },
      "execution_count": 12,
      "outputs": [
        {
          "output_type": "execute_result",
          "data": {
            "text/plain": [
              "33165"
            ]
          },
          "metadata": {},
          "execution_count": 12
        }
      ]
    },
    {
      "cell_type": "code",
      "source": [
        "data = list(range(101))\n",
        "print(sum(data[::3]) + sum(data[::5]) - sum(data[::15]))"
      ],
      "metadata": {
        "colab": {
          "base_uri": "https://localhost:8080/"
        },
        "id": "W2-zEoOaAewh",
        "outputId": "aa15546a-2169-4a42-d807-61a850aab3e1"
      },
      "execution_count": 5,
      "outputs": [
        {
          "output_type": "stream",
          "name": "stdout",
          "text": [
            "2418\n"
          ]
        }
      ]
    },
    {
      "cell_type": "code",
      "source": [
        "mylist = []\n",
        "n = 1\n",
        "while True:\n",
        "    if n >= 1000:\n",
        "        break\n",
        "    if (n % 3 == 0 or n % 5 == 0) and n not in mylist:\n",
        "        mylist.append(n)\n",
        "    n += 1\n",
        "print(sum(mylist))"
      ],
      "metadata": {
        "id": "QBMCJrOzDCrQ"
      },
      "execution_count": null,
      "outputs": []
    },
    {
      "cell_type": "code",
      "source": [
        "# 문제4: 아래 메트릭스를 모두 더해주세요.\n",
        "m = [[1, 2, 3], [4, 5, 6], [7, 8, 9]]\n",
        "sum(sum(m, []))\n",
        "\n",
        "# sum([[1, 2, 3], [4, 5, 6], [7, 8, 9]], [])\n",
        "# [1, 2, 3] + [] == [1, 2, 3]\n",
        "# [4, 5, 6] + [1, 2, 3] == [4, 5, 6, 1, 2, 3]\n",
        "# [7, 8, 9] + [4, 5, 6, 1, 2, 3] == [7, 8, 9, 4, 5, 6, 1, 2, 3"
      ],
      "metadata": {
        "colab": {
          "base_uri": "https://localhost:8080/"
        },
        "id": "yLaPXtDNK8NK",
        "outputId": "e05d8465-654f-49e6-92e4-965a9445d03b"
      },
      "execution_count": 17,
      "outputs": [
        {
          "output_type": "execute_result",
          "data": {
            "text/plain": [
              "45"
            ]
          },
          "metadata": {},
          "execution_count": 17
        }
      ]
    },
    {
      "cell_type": "code",
      "source": [
        "sum([1, 2, 3], 100)"
      ],
      "metadata": {
        "colab": {
          "base_uri": "https://localhost:8080/"
        },
        "id": "XfMqq1z9LeCz",
        "outputId": "bbf71d67-f1a3-4e73-d6be-83b6bfa1ac93"
      },
      "execution_count": 18,
      "outputs": [
        {
          "output_type": "execute_result",
          "data": {
            "text/plain": [
              "106"
            ]
          },
          "metadata": {},
          "execution_count": 18
        }
      ]
    },
    {
      "cell_type": "code",
      "source": [
        "import numpy as np\n",
        "# 수학 수식에 막강한 성능을 자랑합니다.\n",
        "# 수학 수식 관련해서 파이썬보다 속도도 훨씬 빠르고 기능도 많습니다\n",
        "\n",
        "np.sum([[1, 2, 3], [4, 5, 6], [7, 8, 9]])"
      ],
      "metadata": {
        "colab": {
          "base_uri": "https://localhost:8080/"
        },
        "id": "geduecFVLoXb",
        "outputId": "790bcb63-a085-4fa5-943d-e488418849e7"
      },
      "execution_count": 19,
      "outputs": [
        {
          "output_type": "execute_result",
          "data": {
            "text/plain": [
              "[1, 2, 3]"
            ]
          },
          "metadata": {},
          "execution_count": 19
        }
      ]
    },
    {
      "cell_type": "code",
      "source": [
        "# 문제5\n",
        "import collections\n",
        "\n",
        "s = \"Hello, World! This is a sample string for testing purposes.\"\n",
        "# 방법1\n",
        "# s = s.replace(',', '').replace('!', '').replace('.', '').replace(' ', '')\n",
        "\n",
        "# 방법2\n",
        "# table = str.maketrans(',!.', '   ')\n",
        "# s = s.translate(table).replace(' ', '')\n",
        "\n",
        "# 방법3\n",
        "table = str.maketrans('', '', ',!. ')\n",
        "s = s.translate(table)\n",
        "\n",
        "c = collections.Counter(s)\n",
        "c.most_common"
      ],
      "metadata": {
        "id": "-ntNVfaUMiH2"
      },
      "execution_count": null,
      "outputs": []
    },
    {
      "cell_type": "code",
      "source": [
        "d = {}\n",
        "s = \"Hello, World! This is a sample string for testing purposes.\"\n",
        "s = s.replace(',', '').replace('!', '').replace('.', '').replace(' ', '')\n",
        "\n",
        "# 풀이1, 순회를 돌면서 dict에 있으면 += 1, 없으면 =1 대입하면서 푼다\n",
        "for i in s:\n",
        "    if i in d:\n",
        "        d[i] += 1\n",
        "    else:\n",
        "        d[i] = 1\n",
        "d\n",
        "# 풀이2, set으로 만들어서 count를 한다.\n",
        "s = \"Hello, World! This is a sample string for testing purposes.\"\n",
        "for i in set(s):\n",
        "    d[i] = s.count(i)\n",
        "\n",
        "d"
      ],
      "metadata": {
        "colab": {
          "base_uri": "https://localhost:8080/"
        },
        "id": "S3MQl18GOWxi",
        "outputId": "3b6e27a2-747e-44a6-db41-5794f84591d6"
      },
      "execution_count": 24,
      "outputs": [
        {
          "output_type": "execute_result",
          "data": {
            "text/plain": [
              "{'H': 1,\n",
              " 'e': 4,\n",
              " 'l': 4,\n",
              " 'o': 4,\n",
              " 'W': 1,\n",
              " 'r': 4,\n",
              " 'd': 1,\n",
              " 'T': 1,\n",
              " 'h': 1,\n",
              " 'i': 4,\n",
              " 's': 7,\n",
              " 'a': 2,\n",
              " 'm': 1,\n",
              " 'p': 3,\n",
              " 't': 3,\n",
              " 'n': 2,\n",
              " 'g': 2,\n",
              " 'f': 1,\n",
              " 'u': 1,\n",
              " '!': 1,\n",
              " '.': 1,\n",
              " ' ': 9,\n",
              " ',': 1}"
            ]
          },
          "metadata": {},
          "execution_count": 24
        }
      ]
    },
    {
      "cell_type": "code",
      "source": [
        "# 문제5: 자주 나오는 알파벳과 알파벳 갯수를 많이 나오는 순서대로 출력하세요.\n",
        "import collections\n",
        "\n",
        "s = \"Hello, World! This is a sample string for testing purposes.\"\n",
        "# 방법1\n",
        "# s = s.replace(',', '').replace('!', '').replace('.', '').replace(' ', '')\n",
        "\n",
        "# 방법2\n",
        "# table = str.maketrans(',!.', '   ')\n",
        "# s = s.translate(table).replace(' ', '')\n",
        "\n",
        "# 방법3\n",
        "table = str.maketrans('', '', ',!. ')\n",
        "s = s.translate(table)\n",
        "\n",
        "c = collections.Counter(s)\n",
        "c.most_common"
      ],
      "metadata": {
        "id": "m4Um8V5FQ120"
      },
      "execution_count": null,
      "outputs": []
    },
    {
      "cell_type": "code",
      "source": [
        "# 문제6\n",
        "for i in range(10):\n",
        "    print('*' * i)"
      ],
      "metadata": {
        "colab": {
          "base_uri": "https://localhost:8080/"
        },
        "id": "HBBqSD9OQkPz",
        "outputId": "71c02747-80c5-4626-a0cf-fe7f9384a41a"
      },
      "execution_count": 25,
      "outputs": [
        {
          "output_type": "stream",
          "name": "stdout",
          "text": [
            "\n",
            "*\n",
            "**\n",
            "***\n",
            "****\n",
            "*****\n",
            "******\n",
            "*******\n",
            "********\n",
            "*********\n"
          ]
        }
      ]
    },
    {
      "cell_type": "code",
      "source": [
        "for i in range(10):\n",
        "    print('*' * (2 * i - 1))"
      ],
      "metadata": {
        "colab": {
          "base_uri": "https://localhost:8080/"
        },
        "id": "Hc5rGx26RM-1",
        "outputId": "0ee7feec-d859-40a6-a371-f19c636438ed"
      },
      "execution_count": 26,
      "outputs": [
        {
          "output_type": "stream",
          "name": "stdout",
          "text": [
            "\n",
            "*\n",
            "***\n",
            "*****\n",
            "*******\n",
            "*********\n",
            "***********\n",
            "*************\n",
            "***************\n",
            "*****************\n"
          ]
        }
      ]
    },
    {
      "cell_type": "code",
      "source": [
        "for i in range(10):\n",
        "    print((' ' * (9 - i)) + ('*' * (2 * i - 1)))"
      ],
      "metadata": {
        "colab": {
          "base_uri": "https://localhost:8080/"
        },
        "id": "HaqGY-B-RaVU",
        "outputId": "83d2a873-a30c-4666-eca0-66887cd5f736"
      },
      "execution_count": 28,
      "outputs": [
        {
          "output_type": "stream",
          "name": "stdout",
          "text": [
            "         \n",
            "        *\n",
            "       ***\n",
            "      *****\n",
            "     *******\n",
            "    *********\n",
            "   ***********\n",
            "  *************\n",
            " ***************\n",
            "*****************\n"
          ]
        }
      ]
    },
    {
      "cell_type": "code",
      "source": [
        "for i in range(1, 10):\n",
        "    print(f\"{'*' * ((2 * i) - 1):^}\")"
      ],
      "metadata": {
        "colab": {
          "base_uri": "https://localhost:8080/"
        },
        "id": "8wJEcpqpRvGu",
        "outputId": "e7821ea1-0f85-4deb-b8d5-2aa33dfdfa23"
      },
      "execution_count": 31,
      "outputs": [
        {
          "output_type": "stream",
          "name": "stdout",
          "text": [
            "         *          \n",
            "        ***         \n",
            "       *****        \n",
            "      *******       \n",
            "     *********      \n",
            "    ***********     \n",
            "   *************    \n",
            "  ***************   \n",
            " *****************  \n"
          ]
        }
      ]
    },
    {
      "cell_type": "code",
      "source": [
        "# 다음 자료구조 클래스를 만들어주세요.\n",
        "# 데이터는 <1, 2, 3, 4> 형식으로 숫자만 저장됩니다.\n",
        "# print()를 하면 <1, 2, 3, 4>와 같이 출력이 되어야합니다.\n",
        "# 메서드는 append, remove가 있습니다.\n",
        "# 아래 연산은 길이가 다르면 error가 납니다\n",
        "# <1, 2, 3, 4> + <1, 2, 3, 4> == <2, 4 , 6, 8>과 같이 같은 순서에 요소를 더합니다.\n",
        "# <1, 2, 3, 4> - <1, 2, 3, 4> == <2, 4 , 6, 8>과 같이 같은 순서에 요소를 뺍니다.\n",
        "# <1, 2, 3, 4> * 3 == <3, 6, 9, 12>\n",
        "# 나누기는 지원하지 않습니다."
      ],
      "metadata": {
        "id": "6qY8AbCcU5pe"
      },
      "execution_count": null,
      "outputs": []
    },
    {
      "cell_type": "code",
      "source": [
        "class OperList:\n",
        "    def __init__(self, *args):\n",
        "        self.__operlist = list(args)\n",
        "\n",
        "    def __str__(self):\n",
        "        return f'<{str(self.__operlist)[1:-1]}>'\n",
        "\n",
        "    def __repr__(self):\n",
        "        return  f'<{str(self.__operlist)[1:-1]}>'\n",
        "\n",
        "    def append(self, num):\n",
        "        self.__operlist.append(num)\n",
        "\n",
        "    def remove(self, num):\n",
        "        self.__operlist.remove(num)\n",
        "\n",
        "    def __len__(self):\n",
        "        return self.__operlist.__len__()\n",
        "\n",
        "    def __add__(self, other):\n",
        "        if len(self.__operlist) != len(other.__operlist):\n",
        "            raise\n",
        "        for i in range(len(self.__operlist)):\n",
        "            self.__operlist[i] += other.__operlist[i]\n",
        "        return f'<{str(self.__operlist)[1:-1]}>'\n",
        "\n",
        "    def __sub__(self, other):\n",
        "        if len(self.__operlist) != len(other.__operlist):\n",
        "            raise\n",
        "        for i in range(len(self.__operlist)):\n",
        "            self.__operlist[i] -= other.__operlist[i]\n",
        "        return f'<{str(self.__operlist)[1:-1]}>'\n",
        "\n",
        "    def __mul__(self, other):\n",
        "        if not isinstance(other, int):\n",
        "            raise\n",
        "        for i in range(len(self.__operlist)):\n",
        "            self.__operlist[i] *= other\n",
        "        return f'<{str(self.__operlist)[1:-1]}>'\n",
        "\n",
        "\n",
        "\n",
        "l = OperList(1, 2, 3, 4)\n",
        "ll = OperList(1, 2, 3, 4)\n",
        "\n",
        "print(l)\n",
        "l.append(5)\n",
        "print(l)\n",
        "l.remove(5)\n",
        "print(l)\n",
        "print(l + l)  # 출력: <2, 4, 6, 8>\n",
        "print(l - ll) # 출력: <1, 2, 3, 4>\n",
        "print(l * 3)  # 출력: <3, 6, 9, 12>"
      ],
      "metadata": {
        "colab": {
          "base_uri": "https://localhost:8080/"
        },
        "id": "WyVnzr93cId0",
        "outputId": "f6608cea-a519-496c-f185-74a7222e1420"
      },
      "execution_count": 31,
      "outputs": [
        {
          "output_type": "stream",
          "name": "stdout",
          "text": [
            "<1, 2, 3, 4>\n",
            "<1, 2, 3, 4, 5>\n",
            "<1, 2, 3, 4>\n",
            "<2, 4, 6, 8>\n",
            "<1, 2, 3, 4>\n",
            "<3, 6, 9, 12>\n"
          ]
        }
      ]
    },
    {
      "cell_type": "code",
      "source": [
        "class OperList:\n",
        "    def __init__(self, *n):\n",
        "        self.data = list(n)\n",
        "\n",
        "    def append(self, n):\n",
        "        self.data,append(n)\n",
        "\n",
        "\n",
        "\n",
        "\n",
        "l = OperList(1, 2, 3)\n",
        "l.append(5)\n",
        "# print(l + l)  # 출력: <2, 4, 6, 8, 10>"
      ],
      "metadata": {
        "colab": {
          "base_uri": "https://localhost:8080/",
          "height": 410
        },
        "id": "l9j_Fz0QWNZw",
        "outputId": "de6ef190-accc-4f42-eee9-4ac285e4f2db"
      },
      "execution_count": 8,
      "outputs": [
        {
          "output_type": "error",
          "ename": "RecursionError",
          "evalue": "ignored",
          "traceback": [
            "\u001b[0;31m---------------------------------------------------------------------------\u001b[0m",
            "\u001b[0;31mRecursionError\u001b[0m                            Traceback (most recent call last)",
            "\u001b[0;32m<ipython-input-8-172481fcb482>\u001b[0m in \u001b[0;36m<cell line: 13>\u001b[0;34m()\u001b[0m\n\u001b[1;32m     11\u001b[0m \u001b[0;34m\u001b[0m\u001b[0m\n\u001b[1;32m     12\u001b[0m \u001b[0ml\u001b[0m \u001b[0;34m=\u001b[0m \u001b[0mOperList\u001b[0m\u001b[0;34m(\u001b[0m\u001b[0;36m1\u001b[0m\u001b[0;34m,\u001b[0m \u001b[0;36m2\u001b[0m\u001b[0;34m,\u001b[0m \u001b[0;36m3\u001b[0m\u001b[0;34m)\u001b[0m\u001b[0;34m\u001b[0m\u001b[0;34m\u001b[0m\u001b[0m\n\u001b[0;32m---> 13\u001b[0;31m \u001b[0ml\u001b[0m\u001b[0;34m.\u001b[0m\u001b[0mappend\u001b[0m\u001b[0;34m(\u001b[0m\u001b[0;36m5\u001b[0m\u001b[0;34m)\u001b[0m\u001b[0;34m\u001b[0m\u001b[0;34m\u001b[0m\u001b[0m\n\u001b[0m\u001b[1;32m     14\u001b[0m \u001b[0;31m# print(l + l)  # 출력: <2, 4, 6, 8, 10>\u001b[0m\u001b[0;34m\u001b[0m\u001b[0;34m\u001b[0m\u001b[0m\n",
            "\u001b[0;32m<ipython-input-8-172481fcb482>\u001b[0m in \u001b[0;36mappend\u001b[0;34m(self, n)\u001b[0m\n\u001b[1;32m      5\u001b[0m     \u001b[0;32mdef\u001b[0m \u001b[0mappend\u001b[0m\u001b[0;34m(\u001b[0m\u001b[0mself\u001b[0m\u001b[0;34m,\u001b[0m \u001b[0mn\u001b[0m\u001b[0;34m)\u001b[0m\u001b[0;34m:\u001b[0m\u001b[0;34m\u001b[0m\u001b[0;34m\u001b[0m\u001b[0m\n\u001b[1;32m      6\u001b[0m         \u001b[0mdata\u001b[0m \u001b[0;34m=\u001b[0m \u001b[0;34m[\u001b[0m\u001b[0;34m]\u001b[0m\u001b[0;34m\u001b[0m\u001b[0;34m\u001b[0m\u001b[0m\n\u001b[0;32m----> 7\u001b[0;31m         \u001b[0mdata\u001b[0m\u001b[0;34m.\u001b[0m\u001b[0mappend\u001b[0m \u001b[0;34m=\u001b[0m \u001b[0mself\u001b[0m\u001b[0;34m.\u001b[0m\u001b[0mappend\u001b[0m\u001b[0;34m(\u001b[0m\u001b[0mn\u001b[0m\u001b[0;34m)\u001b[0m\u001b[0;34m\u001b[0m\u001b[0;34m\u001b[0m\u001b[0m\n\u001b[0m\u001b[1;32m      8\u001b[0m \u001b[0;34m\u001b[0m\u001b[0m\n\u001b[1;32m      9\u001b[0m \u001b[0;34m\u001b[0m\u001b[0m\n",
            "... last 1 frames repeated, from the frame below ...\n",
            "\u001b[0;32m<ipython-input-8-172481fcb482>\u001b[0m in \u001b[0;36mappend\u001b[0;34m(self, n)\u001b[0m\n\u001b[1;32m      5\u001b[0m     \u001b[0;32mdef\u001b[0m \u001b[0mappend\u001b[0m\u001b[0;34m(\u001b[0m\u001b[0mself\u001b[0m\u001b[0;34m,\u001b[0m \u001b[0mn\u001b[0m\u001b[0;34m)\u001b[0m\u001b[0;34m:\u001b[0m\u001b[0;34m\u001b[0m\u001b[0;34m\u001b[0m\u001b[0m\n\u001b[1;32m      6\u001b[0m         \u001b[0mdata\u001b[0m \u001b[0;34m=\u001b[0m \u001b[0;34m[\u001b[0m\u001b[0;34m]\u001b[0m\u001b[0;34m\u001b[0m\u001b[0;34m\u001b[0m\u001b[0m\n\u001b[0;32m----> 7\u001b[0;31m         \u001b[0mdata\u001b[0m\u001b[0;34m.\u001b[0m\u001b[0mappend\u001b[0m \u001b[0;34m=\u001b[0m \u001b[0mself\u001b[0m\u001b[0;34m.\u001b[0m\u001b[0mappend\u001b[0m\u001b[0;34m(\u001b[0m\u001b[0mn\u001b[0m\u001b[0;34m)\u001b[0m\u001b[0;34m\u001b[0m\u001b[0;34m\u001b[0m\u001b[0m\n\u001b[0m\u001b[1;32m      8\u001b[0m \u001b[0;34m\u001b[0m\u001b[0m\n\u001b[1;32m      9\u001b[0m \u001b[0;34m\u001b[0m\u001b[0m\n",
            "\u001b[0;31mRecursionError\u001b[0m: maximum recursion depth exceeded"
          ]
        }
      ]
    },
    {
      "cell_type": "code",
      "source": [
        "과제2:\n",
        "student.csv에는 아래와 같은 텍스트가 담겨있습니다.\n",
        "'''\n",
        "학년,반,번,이름,국어,영어,수학,사회\n",
        "3,3,1,licat,90,80,30,40\n",
        "3,3,2,mura,80,70,60,30\n",
        "3,3,3,binky,30,80,70,30\n",
        "'''\n",
        "학생들의 평균을 구해 아래와 같이 student.csv출력되게 해주세요.(xx이라 표기된 곳에 평균 값이 들어가야 합니다.)\n",
        "'''\n",
        "학년,반,번,이름,국어,영어,수학,사회,평균\n",
        "3,3,1,licat,90,80,30,40,xx\n",
        "3,3,2,mura,80,70,60,30,xx\n",
        "3,3,3,binky,30,80,70,30,xx\n",
        "'''"
      ],
      "metadata": {
        "colab": {
          "base_uri": "https://localhost:8080/"
        },
        "id": "7j0tmiuZZo_f",
        "outputId": "dc2c6a64-e029-4b48-a8ac-d940fd3ee8c2"
      },
      "execution_count": 4,
      "outputs": [
        {
          "output_type": "execute_result",
          "data": {
            "text/plain": [
              "[1, 2, 3]"
            ]
          },
          "metadata": {},
          "execution_count": 4
        }
      ]
    },
    {
      "cell_type": "code",
      "source": [
        "f = open('student.csv', 'w')\n",
        "s = '''학년,반,번,이름,국어,영어,수학,사회\n",
        "3,3,1,licat,90,80,30,40\n",
        "3,3,2,mura,80,70,60,30\n",
        "3,3,3,binky,30,80,70,30'''\n",
        "\n",
        "f.write(s)\n",
        "f.close()\n"
      ],
      "metadata": {
        "colab": {
          "base_uri": "https://localhost:8080/"
        },
        "id": "DKUMkik8pEs2",
        "outputId": "03416a7d-c735-46b8-b5b8-79623c77c4d1"
      },
      "execution_count": 4,
      "outputs": [
        {
          "output_type": "stream",
          "name": "stdout",
          "text": [
            "학년,반,번,이름,국어,영어,수학,사회\n",
            "3,3,1,licat,90,80,30,40\n",
            "3,3,2,mura,80,70,60,30\n",
            "3,3,3,binky,30,80,70,30"
          ]
        }
      ]
    },
    {
      "cell_type": "code",
      "source": [
        "f = open('student.csv', 'r')\n",
        "lines = f.readlines()\n",
        "for line in lines:\n",
        "\tprint(line, end='')\n",
        "\n",
        "f.close()"
      ],
      "metadata": {
        "id": "IbP3OvU-8EpT"
      },
      "execution_count": null,
      "outputs": []
    },
    {
      "cell_type": "code",
      "source": [
        "info = lines[0][0:-1].split(',')\n",
        "licat_record = lines[1][12:-1].split(',')\n",
        "mura_record = lines[2][12:-1].split(',')\n",
        "binky_record = lines[3][12:].split(',')\n",
        "\n",
        "def avg(name):\n",
        "    sum = 0\n",
        "    for i in range(len(name)):\n",
        "        sum += int(name[i])\n",
        "    return sum/len(name)\n",
        "\n",
        "licat_avg = avg(licat_record)\n",
        "mura_avg = avg(mura_record)\n",
        "binky_avg = avg(binky_record)\n",
        "info += ['평균']\n",
        "licat_info = lines[1][0:-1].split(',') + [f'{licat_avg}']\n",
        "mura_info = lines[2][0:-1].split(',') + [f'{mura_avg}']\n",
        "binky_info = lines[3][0:].split(',') + [f'{binky_avg}']\n",
        "\n",
        "f = open('student.csv', 'w')\n",
        "\n",
        "str1 = ','.join(info)\n",
        "str2 = ','.join(licat_info)\n",
        "str3 = ','.join(mura_info)\n",
        "str4 = ','.join(binky_info)\n",
        "\n",
        "f.write(str1)\n",
        "f.write('\\n')\n",
        "f.write(str2)\n",
        "f.write('\\n')\n",
        "f.write(str3)\n",
        "f.write('\\n')\n",
        "f.write(str4)\n",
        "f.close()"
      ],
      "metadata": {
        "id": "yz1Icl-ozVg9"
      },
      "execution_count": 7,
      "outputs": []
    },
    {
      "cell_type": "code",
      "source": [
        "test = [1, 2, 3, 4]\n",
        "sum = 0\n",
        "for i in range(len(test)):\n",
        "    sum += test[i]\n",
        "\n",
        "sum"
      ],
      "metadata": {
        "colab": {
          "base_uri": "https://localhost:8080/"
        },
        "id": "v0XdFiH-wgrD",
        "outputId": "8f575c87-e535-4226-e045-f4b71e54f00e"
      },
      "execution_count": 101,
      "outputs": [
        {
          "output_type": "execute_result",
          "data": {
            "text/plain": [
              "10"
            ]
          },
          "metadata": {},
          "execution_count": 101
        }
      ]
    },
    {
      "cell_type": "code",
      "source": [
        "# 편해선님 코딩\n",
        "# 과제2\n",
        "with open('student.csv', 'r') as f:\n",
        "    students = []\n",
        "    lines = f.readlines()\n",
        "    for line in lines:\n",
        "        if line[-1] == '\\n':\n",
        "            line = line[:-1]\n",
        "        student = line.split(',')\n",
        "        students.append(student)\n",
        "\n",
        "students[0].append('평균')\n",
        "for student in students[1:]:\n",
        "    score = list(map(int, student[4:]))\n",
        "    avg = sum(score)/len(score)\n",
        "    student.append(avg)\n",
        "\n",
        "import csv\n",
        "with open('student.csv', 'w', newline='') as f:\n",
        "    writer = csv.writer(f)\n",
        "    writer.writerows(students)"
      ],
      "metadata": {
        "id": "T2kfPNNR2Cjb"
      },
      "execution_count": 2,
      "outputs": []
    },
    {
      "cell_type": "code",
      "source": [
        "# 이호준강사님 코드\n",
        "s = ''\n",
        "with open('student.csv', 'r') as f:\n",
        "    lines = f.readlines()\n",
        "    s += lines[0][:-1] + ',평균'\n",
        "    for i in lines[1:]:\n",
        "        data = i.split(',')\n",
        "        s += f'\\n{i.strip()},{sum(map(int, data[4:])) / 4}'\n",
        "\n",
        "with open('student.csv', 'w') as f:\n",
        "    f.write(s)"
      ],
      "metadata": {
        "id": "uM9_XxS_8Ibg"
      },
      "execution_count": null,
      "outputs": []
    }
  ]
}