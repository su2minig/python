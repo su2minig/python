{
  "nbformat": 4,
  "nbformat_minor": 0,
  "metadata": {
    "colab": {
      "provenance": []
    },
    "kernelspec": {
      "name": "python3",
      "display_name": "Python 3"
    },
    "language_info": {
      "name": "python"
    }
  },
  "cells": [
    {
      "cell_type": "code",
      "execution_count": null,
      "metadata": {
        "id": "j73un_Mapw49"
      },
      "outputs": [],
      "source": [
        "# 문제링크: https://school.programmers.co.kr/learn/courses/30/lessons/120956\n",
        "# 머쓱이는 태어난 지 6개월 된 조카를 돌보고 있습니다.\n",
        "# 조카는 아직 \"aya\", \"ye\", \"woo\", \"ma\" 네 가지 발음을 최대 한 번씩 사용해 조합한(이어 붙인) 발음밖에 하지 못합니다.\n",
        "# 문자열 배열 babbling이 매개변수로 주어질 때, 머쓱이의 조카가 발음할 수 있는 단어의 개수를 return하도록 solution 함수를 완성해주세요."
      ]
    },
    {
      "cell_type": "code",
      "source": [
        "from itertools import permutations\n",
        "def solution(babbling):\n",
        "    answer = 0\n",
        "    talk = []\n",
        "    data = [\"aya\", \"ye\", \"woo\", \"ma\"]\n",
        "    for n in range(1, 5):\n",
        "        s = list(permutations(data, n))\n",
        "        for n in range(len(s)):\n",
        "            talk.append(\"\".join(s[n]))\n",
        "    for i in range(len(babbling)):\n",
        "        babbling[i] = babbling[i].lower()\n",
        "    for i in range(len(talk)):\n",
        "        if talk[i] in babbling:\n",
        "            answer += babbling.count(talk[i])\n",
        "    return answer\n",
        "\n",
        "solution([\"ayaye\", \"uuuma\", \"ye\", \"yemawoo\", \"ayaa\"])"
      ],
      "metadata": {
        "colab": {
          "base_uri": "https://localhost:8080/"
        },
        "id": "nIA73Grfp2ZW",
        "outputId": "bdd9b059-4914-48a6-d041-e3b1aadd027b"
      },
      "execution_count": null,
      "outputs": [
        {
          "output_type": "execute_result",
          "data": {
            "text/plain": [
              "3"
            ]
          },
          "metadata": {},
          "execution_count": 53
        }
      ]
    },
    {
      "cell_type": "code",
      "source": [
        "import re\n",
        "\n",
        "def solution(babbling):\n",
        "    count = 0\n",
        "    p = [\"aya\", \"ye\", \"woo\", \"ma\"]\n",
        "    for i in babbling:\n",
        "        print('------------')\n",
        "        print(i)\n",
        "        for pattern in p:\n",
        "            i = re.sub(pattern, ' ', i)\n",
        "            print(i)\n",
        "        if i.replace(' ', '') == '':\n",
        "            count += 1\n",
        "    return count\n",
        "\n",
        "solution([\"ayaye\", \"uuuma\", \"ye\", \"yemawoo\", \"ayaa\"])"
      ],
      "metadata": {
        "id": "5NKTE75r1Ivx"
      },
      "execution_count": null,
      "outputs": []
    },
    {
      "cell_type": "code",
      "source": [
        "# 문제링킈: https://school.programmers.co.kr/learn/courses/30/lessons/120835\n",
        "# 외과의사 머쓱이는 응급실에 온 환자의 응급도를 기준으로 진료 순서를 정하려고 합니다.\n",
        "# 정수 배열 emergency가 매개변수로 주어질 때 응급도가 높은 순서대로 진료 순서를 정한 배열을 return하도록 solution 함수를 완성해주세요."
      ],
      "metadata": {
        "id": "6bmZ8gf9xfR6"
      },
      "execution_count": null,
      "outputs": []
    },
    {
      "cell_type": "code",
      "source": [
        "def solution(emergency):\n",
        "    answer = []\n",
        "    order = sorted(emergency, reverse = True)\n",
        "    for i in emergency:\n",
        "        answer.append(order.index(i)+1)\n",
        "    return answer\n",
        "\n",
        "solution([3, 76, 24])"
      ],
      "metadata": {
        "colab": {
          "base_uri": "https://localhost:8080/"
        },
        "id": "3YFPyZEGxjyL",
        "outputId": "d8f4af3b-288e-4280-be7f-971a5f3c3301"
      },
      "execution_count": null,
      "outputs": [
        {
          "output_type": "stream",
          "name": "stdout",
          "text": [
            "[76, 24, 3]\n"
          ]
        },
        {
          "output_type": "execute_result",
          "data": {
            "text/plain": [
              "[3, 1, 2]"
            ]
          },
          "metadata": {},
          "execution_count": 43
        }
      ]
    },
    {
      "cell_type": "code",
      "source": [
        "def solution(emergency):\n",
        "    응급순서 = sorted(emergency, reverse=True)\n",
        "    return [응급순서.index(응급도) + 1 for 응급도 in emergency]"
      ],
      "metadata": {
        "id": "3LlHELzIy325"
      },
      "execution_count": null,
      "outputs": []
    },
    {
      "cell_type": "code",
      "source": [
        "# 문제1: 주어진 리스트 data = [{\"name\": \"길동\", \"수학\": 3, , \"과학\": 93}, {\"name\": \"춘향\", \"수학\": 33, \"수학\": 11}, {\"name\": \"철수\", \"수학\": 94, \"과학\": 67}]에서\n",
        "# 평균점수가 가장 높은 학생에 이름을 출력하세요.\n",
        "data = [{\"name\": \"길동\", \"수학\": 3,  \"과학\": 93}, {\"name\": \"춘향\", \"수학\": 33, \"과학\": 11}, {\"name\": \"철수\", \"수학\": 94, \"과학\": 67}]\n",
        "\n",
        "avg = list(map(lambda x: sum(list(x.values())[1:])/2, data))\n",
        "\n",
        "result = data[avg.index(max(avg))].get('name')\n",
        "print(data[avg.index(max(avg))])\n",
        "result"
      ],
      "metadata": {
        "id": "US5p827huIcD"
      },
      "execution_count": null,
      "outputs": []
    },
    {
      "cell_type": "code",
      "source": [
        "# 문제1: 주어진 리스트 data = [{\"name\": \"길동\", \"수학\": 3, , \"과학\": 93}, {\"name\": \"춘향\", \"수학\": 33, \"수학\": 11}, {\"name\": \"철수\", \"수학\": 94, \"과학\": 67}]에서\n",
        "# 평균점수가 가장 높은 학생에 이름을 출력하세요.\n",
        "data = [{\"name\": \"길동\", \"수학\": 3,  \"과학\": 93}, {\"name\": \"춘향\", \"수학\": 33, \"과학\": 11}, {\"name\": \"철수\", \"수학\": 94, \"과학\": 67}]\n",
        "max_p = max(data, key=lambda x: x[\"수학\"] + x[\"과학\"])\n",
        "print(max_p)\n",
        "print(max_p[\"name\"])"
      ],
      "metadata": {
        "id": "WCuVN05DuKl9"
      },
      "execution_count": null,
      "outputs": []
    },
    {
      "cell_type": "code",
      "source": [
        "# 문제2: 주어진 사전 grades = {\"Tom\": 87, \"Jerry\": 95, \"Mickey\": 70}의 모든 값을 5점씩 증가시키고 결과를 출력하세요.\n",
        "grades = {\"Tom\": 87, \"Jerry\": 95, \"Mickey\": 70}\n",
        "d = dict(grades)\n",
        "d.update({'Tom': d.get('Tom', 0) + 5})\n",
        "d.update({'Jerry': d.get('Jerry', 0) + 5})\n",
        "d.update({'Mickey': d.get('Mickey', 0) + 5})\n",
        "d"
      ],
      "metadata": {
        "id": "I0J_LbWUuLxh"
      },
      "execution_count": null,
      "outputs": []
    },
    {
      "cell_type": "code",
      "source": [
        "# 문제2: 주어진 사전 grades = {\"Tom\": 87, \"Jerry\": 95, \"Mickey\": 70}의 모든 값을 5점씩 증가시키고 결과를 출력하세요.\n",
        "grades = {\"Tom\": 87, \"Jerry\": 95, \"Mickey\": 70}\n",
        "# grades.update({'Tom': grades.get('Tom', 0) + 5})\n",
        "# grades.update({'Jerry': grades.get('Jerry', 0) + 5})\n",
        "# grades.update({'Mickey': grades.get('Mickey', 0) + 5})\n",
        "updated_grades = {name: score + 5 for name, score in grades.items()}\n",
        "print(updated_grades)"
      ],
      "metadata": {
        "id": "wpNuZSXTuM_N"
      },
      "execution_count": null,
      "outputs": []
    },
    {
      "cell_type": "code",
      "source": [
        "# 문제3: 주어진 문자열 s = \"apple banana apple cherry banana cherry apple\"에서\n",
        "# 가장 자주 등장하는 단어를 출력하세요.\n",
        "s = \"apple banana apple cherry banana cherry apple\"\n",
        "words = s.split()\n",
        "print(words)\n",
        "s = max(words, key = words.count )\n",
        "print(s)\n",
        "# s = max(s, key = s.count)"
      ],
      "metadata": {
        "id": "KiaxkEGiuOEb"
      },
      "execution_count": null,
      "outputs": []
    },
    {
      "cell_type": "code",
      "source": [
        "# 문제3: 주어진 문자열 s = \"apple banana apple cherry banana cherry apple\"에서\n",
        "# 가장 자주 등장하는 단어를 출력하세요.\n",
        "s = \"apple banana apple cherry banana cherry apple\"\n",
        "s.split()"
      ],
      "metadata": {
        "id": "10d6l03wuPCX"
      },
      "execution_count": null,
      "outputs": []
    },
    {
      "cell_type": "code",
      "source": [
        "# 문제3: 주어진 문자열 s = \"apple banana apple cherry banana cherry apple\"에서\n",
        "# 가장 자주 등장하는 단어를 출력하세요.\n",
        "from collections import Counter\n",
        "\n",
        "s = \"apple banana apple cherry banana cherry apple\"\n",
        "Counter(s.split())"
      ],
      "metadata": {
        "id": "uYlXBfI6uQHA"
      },
      "execution_count": null,
      "outputs": []
    },
    {
      "cell_type": "code",
      "source": [
        "# 문제3: 주어진 문자열 s = \"apple banana apple cherry banana cherry apple\"에서\n",
        "# 가장 자주 등장하는 단어를 출력하세요.\n",
        "s = \"apple banana apple cherry banana cherry apple\"\n",
        "words = s.split()\n",
        "most_frequent_word = max(set(words), key=words.count)\n",
        "print(most_frequent_word)"
      ],
      "metadata": {
        "id": "b8T7ysTeuRRP"
      },
      "execution_count": null,
      "outputs": []
    },
    {
      "cell_type": "code",
      "source": [
        "# 아래 기본 data를 기반으로 문제를 풀어주세요.\n",
        "data = [\n",
        "  {\n",
        "    \"_id\": \"fd7e9a0f-e77b-436a-B781-119b66033d49\",\n",
        "    \"index\": \"1\",\n",
        "    \"name\": \"나주헌\",\n",
        "    \"gender\": \"여성\",\n",
        "    \"age\": \"43\"\n",
        "  },\n",
        "  {\n",
        "    \"_id\": \"8ec6eabb-160a-41e4-A3de-cd33aff0b281\",\n",
        "    \"index\": \"2\",\n",
        "    \"name\": \"엄루다\",\n",
        "    \"gender\": \"남성\",\n",
        "    \"age\": \"22\"\n",
        "  },\n",
        "  {\n",
        "    \"_id\": \"bcf804f7-0452-4c31-B9d1-20cc2d38490b\",\n",
        "    \"index\": \"3\",\n",
        "    \"name\": \"형유환\",\n",
        "    \"gender\": \"남성\",\n",
        "    \"age\": \"31\"\n",
        "  }\n",
        "]\n",
        "# 문제 1 gender, age값을 추출해보세요. 아래 양식처럼 추출하시면 됩니다. 가능하면 map을 사용해주세요.\n",
        "'''\n",
        " [\n",
        "  {\n",
        "    \"gender\": \"여성\",\n",
        "    \"age\": \"43\"\n",
        "  },\n",
        "  {\n",
        "    \"gender\": \"남성\",\n",
        "    \"age\": \"22\"\n",
        "  },\n",
        "  {\n",
        "    \"gender\": \"남성\",\n",
        "    \"age\": \"31\"\n",
        "  }\n",
        "]\n",
        "'''\n",
        "\n",
        "# 문제 2 User라는 class를 만들어 해당 데이터를 관리해주세요. 아래처럼 저장되어야 합니다.\n",
        "# 다만 꼭 변수 이름이 user_1...user_n 일 필요는 없습니다.\n",
        "# 저장양식: '[user_1, user_2, user_3]'\n",
        "\n",
        "# 문제 3 BankAccount 클래스를 생성하세요. 이 클래스는 owner(계좌주 이름), balance(잔액) 속성을 가져야 합니다.\n",
        "# 이 클래스는 deposit(amount) (입금) 및 withdraw(amount) (출금) 메서드를 가져야 합니다.\n",
        "# 단, 출금 시 잔액보다 큰 금액을 출금하려고 하면 \"잔액 부족\" 메시지를 출력해야 합니다."
      ],
      "metadata": {
        "id": "6DhFybkm4LH6"
      },
      "execution_count": null,
      "outputs": []
    },
    {
      "cell_type": "code",
      "source": [
        "# 문제 1\n",
        "# info = list(map(lambda x: {x['gender'],x['age']}, data))\n",
        "info = list(map(lambda x: {\"gender\":x['gender'],\"age\":x['age']}, data))\n",
        "info"
      ],
      "metadata": {
        "id": "GUifsoo54Lrf"
      },
      "execution_count": null,
      "outputs": []
    },
    {
      "cell_type": "code",
      "source": [
        "# 문제 2\n",
        "# 우리 수업인 Django에서 사용되고\n",
        "# 곧 나올 크롤링 같은 곳에서도 많이 사용됩니다\n",
        "#\n",
        "# 1. 속도: 기본자료형보다 훨씬 빠릅니다.\n",
        "# 2. 메서드 구현: User클래스를 가지고 20 ~ 30, 30~ 40, 40 ~ 50대 별 타겟팅 광고\n",
        "class User:\n",
        "\n",
        "    def __init__(self, data):\n",
        "        self._id = data['_id']\n",
        "        self.index = data['index']\n",
        "        self.name = data['name']\n",
        "        self.gender = data['gender']\n",
        "        self.age = data['age']\n",
        "\n",
        "user_1 = User(data[0])\n",
        "user_2 = User(data[1])\n",
        "user_3 = User(data[2])\n",
        "userlist = [user_1, user_2, user_3]\n",
        "userlist[0].name"
      ],
      "metadata": {
        "id": "X-TZjg0V4Nc6"
      },
      "execution_count": null,
      "outputs": []
    },
    {
      "cell_type": "code",
      "source": [
        "s = 'hello'\n",
        "\n",
        "for i in s:\n",
        "    print(i)\n",
        "    s += '!'\n",
        "    print(s)"
      ],
      "metadata": {
        "colab": {
          "base_uri": "https://localhost:8080/"
        },
        "id": "SVDyBe6vDubw",
        "outputId": "ac363a2e-6dfb-4caf-d174-0ab7288b8601"
      },
      "execution_count": 1,
      "outputs": [
        {
          "output_type": "stream",
          "name": "stdout",
          "text": [
            "h\n",
            "hello!\n",
            "e\n",
            "hello!!\n",
            "l\n",
            "hello!!!\n",
            "l\n",
            "hello!!!!\n",
            "o\n",
            "hello!!!!!\n"
          ]
        }
      ]
    },
    {
      "cell_type": "code",
      "source": [
        "# dictionary changed size during iteration 에러\n",
        "\n",
        "# s = {'one': '1'}\n",
        "\n",
        "# for i in s:\n",
        "#     temp = s['one'] + '!'\n",
        "#     s[temp] = 100"
      ],
      "metadata": {
        "colab": {
          "base_uri": "https://localhost:8080/",
          "height": 248
        },
        "id": "YJncn8ZmD3Nk",
        "outputId": "a5f0c59b-8073-41cc-fb98-a0dfc87a0c9b"
      },
      "execution_count": 3,
      "outputs": [
        {
          "output_type": "error",
          "ename": "RuntimeError",
          "evalue": "ignored",
          "traceback": [
            "\u001b[0;31m---------------------------------------------------------------------------\u001b[0m",
            "\u001b[0;31mRuntimeError\u001b[0m                              Traceback (most recent call last)",
            "\u001b[0;32m<ipython-input-3-5737879e8961>\u001b[0m in \u001b[0;36m<cell line: 3>\u001b[0;34m()\u001b[0m\n\u001b[1;32m      1\u001b[0m \u001b[0ms\u001b[0m \u001b[0;34m=\u001b[0m \u001b[0;34m{\u001b[0m\u001b[0;34m'one'\u001b[0m\u001b[0;34m:\u001b[0m \u001b[0;34m'1'\u001b[0m\u001b[0;34m}\u001b[0m\u001b[0;34m\u001b[0m\u001b[0;34m\u001b[0m\u001b[0m\n\u001b[1;32m      2\u001b[0m \u001b[0;34m\u001b[0m\u001b[0m\n\u001b[0;32m----> 3\u001b[0;31m \u001b[0;32mfor\u001b[0m \u001b[0mi\u001b[0m \u001b[0;32min\u001b[0m \u001b[0ms\u001b[0m\u001b[0;34m:\u001b[0m\u001b[0;34m\u001b[0m\u001b[0;34m\u001b[0m\u001b[0m\n\u001b[0m\u001b[1;32m      4\u001b[0m     \u001b[0mtemp\u001b[0m \u001b[0;34m=\u001b[0m \u001b[0ms\u001b[0m\u001b[0;34m[\u001b[0m\u001b[0;34m'one'\u001b[0m\u001b[0;34m]\u001b[0m \u001b[0;34m+\u001b[0m \u001b[0;34m'!'\u001b[0m\u001b[0;34m\u001b[0m\u001b[0;34m\u001b[0m\u001b[0m\n\u001b[1;32m      5\u001b[0m     \u001b[0ms\u001b[0m\u001b[0;34m[\u001b[0m\u001b[0mtemp\u001b[0m\u001b[0;34m]\u001b[0m \u001b[0;34m=\u001b[0m \u001b[0;36m100\u001b[0m\u001b[0;34m\u001b[0m\u001b[0;34m\u001b[0m\u001b[0m\n",
            "\u001b[0;31mRuntimeError\u001b[0m: dictionary changed size during iteration"
          ]
        }
      ]
    },
    {
      "cell_type": "code",
      "source": [
        "a= [[1,2,3],\n",
        "    [11,22,33],[13, 2000,300000]]\n",
        "print(a[1][1])"
      ],
      "metadata": {
        "colab": {
          "base_uri": "https://localhost:8080/"
        },
        "id": "Cmwh_SO6G_sM",
        "outputId": "f42c64a1-7f14-4597-e9b4-37d5fbc3682c"
      },
      "execution_count": 6,
      "outputs": [
        {
          "output_type": "stream",
          "name": "stdout",
          "text": [
            "22\n"
          ]
        }
      ]
    },
    {
      "cell_type": "code",
      "source": [
        "a = [1,2,3]\n",
        "b = a\n",
        "a.append(4)\n",
        "\n",
        "print(a, b)"
      ],
      "metadata": {
        "colab": {
          "base_uri": "https://localhost:8080/"
        },
        "id": "iFrqpcw6Iz4W",
        "outputId": "65a2708a-58f3-4467-c062-fd6fe7efb7f1"
      },
      "execution_count": 7,
      "outputs": [
        {
          "output_type": "stream",
          "name": "stdout",
          "text": [
            "[1, 2, 3, 4] [1, 2, 3, 4]\n"
          ]
        }
      ]
    },
    {
      "cell_type": "code",
      "source": [
        "l_l = ['py', 'java','js','rb']\n",
        "for i in range(len(l_l)):\n",
        "    l = l_l[i]\n",
        "    print(f'{i+1}등 {l}')"
      ],
      "metadata": {
        "colab": {
          "base_uri": "https://localhost:8080/"
        },
        "id": "XXON02H3JGjY",
        "outputId": "5cd60e1d-9619-4221-c66e-ff1ac047836c"
      },
      "execution_count": 12,
      "outputs": [
        {
          "output_type": "stream",
          "name": "stdout",
          "text": [
            "1등 py\n",
            "2등 java\n",
            "3등 js\n",
            "4등 rb\n"
          ]
        }
      ]
    },
    {
      "cell_type": "code",
      "source": [
        "l_l = ['py', 'java','js','rb']\n",
        "for i, l in enumerate(l_l):\n",
        "    print(f'{i+1}등 {l}')"
      ],
      "metadata": {
        "colab": {
          "base_uri": "https://localhost:8080/"
        },
        "id": "i4SKvnK7KVG_",
        "outputId": "9ccd93b6-a8be-42b7-ba18-5ff800a1e8b2"
      },
      "execution_count": 3,
      "outputs": [
        {
          "output_type": "stream",
          "name": "stdout",
          "text": [
            "1등 py\n",
            "2등 java\n",
            "3등 js\n",
            "4등 rb\n"
          ]
        }
      ]
    },
    {
      "cell_type": "code",
      "source": [
        "class Fish():\n",
        "\n",
        "    def __init__(self, weight):\n",
        "        self.weight = weight\n",
        "        print(self.weight)\n",
        "\n",
        "    @classmethod\n",
        "    def weight_avg(cls, *args):\n",
        "        sum = 0\n",
        "        for i in args:\n",
        "            sum += i\n",
        "        return f'물고기 평균 무게:{sum/len(args): .2f}kg'\n",
        "\n",
        "\n",
        "a = Fish(2.5)\n",
        "a.weight_avg(2.5, 3.1, 1.7, 2.8, 2.4)"
      ],
      "metadata": {
        "colab": {
          "base_uri": "https://localhost:8080/",
          "height": 53
        },
        "id": "qq6kVaDJLU7a",
        "outputId": "851fa6cf-e5af-4c58-980d-cffa5f666524"
      },
      "execution_count": 11,
      "outputs": [
        {
          "output_type": "stream",
          "name": "stdout",
          "text": [
            "2.5\n"
          ]
        },
        {
          "output_type": "execute_result",
          "data": {
            "text/plain": [
              "'물고기 평균 무게: 2.50kg'"
            ],
            "application/vnd.google.colaboratory.intrinsic+json": {
              "type": "string"
            }
          },
          "metadata": {},
          "execution_count": 11
        }
      ]
    },
    {
      "cell_type": "code",
      "source": [
        "def get_first_letters(s):\n",
        "    l = s.split(' ')\n",
        "    result = ''\n",
        "    for i in range(len(l)):\n",
        "        result += l[i][0]\n",
        "    return result\n",
        "\n",
        "print(get_first_letters(\"Hello World! I Love Python\"))\n",
        "print(get_first_letters(\"이스트소프트 오르미 1기 여러분 반가워요!\"))\n",
        "print(get_first_letters(\"복잡한 세상 편하게 살자\"))"
      ],
      "metadata": {
        "colab": {
          "base_uri": "https://localhost:8080/"
        },
        "id": "EEUy2W7kN4-c",
        "outputId": "d64a8769-e9bc-463d-c541-9f03c65909ed"
      },
      "execution_count": 33,
      "outputs": [
        {
          "output_type": "stream",
          "name": "stdout",
          "text": [
            "HWILP\n",
            "이오1여반\n",
            "복세편살\n"
          ]
        }
      ]
    },
    {
      "cell_type": "code",
      "source": [
        "def common_elements(list1, list2):\n",
        "    set1 = set(list1)\n",
        "    set2 = set(list2)\n",
        "    result = list(set1 & set2)\n",
        "    return result\n",
        "\n",
        "print(common_elements([1,2,3,4,5], [4,5,6,7,8]))\n",
        "print(common_elements(['est', 'weniv', 'ormi'], ['licat', 'ormi']))\n",
        "print(common_elements([1,2,3], [4,5,6]))"
      ],
      "metadata": {
        "colab": {
          "base_uri": "https://localhost:8080/"
        },
        "id": "_Fo3JDn1Ud9p",
        "outputId": "59064753-2ea1-4eb0-a9a1-d61f3b470ad3"
      },
      "execution_count": 11,
      "outputs": [
        {
          "output_type": "stream",
          "name": "stdout",
          "text": [
            "[4, 5]\n",
            "['ormi']\n",
            "[]\n"
          ]
        }
      ]
    },
    {
      "cell_type": "code",
      "source": [
        "list1 = [\"피카츄\",'라이츄','파이리','꼬부기','버터플','엔젤몬','아구몬','또가스']\n",
        "list2 = ['아구몬','파닥몬','에테몬','팔몬','엔젤몬','피카츄','라이츄','파이리']\n",
        "\n",
        "[x for i in list1 for x in list2 if i in x]"
      ],
      "metadata": {
        "colab": {
          "base_uri": "https://localhost:8080/"
        },
        "id": "Kg4uHZwfXRU6",
        "outputId": "0f44f526-dab2-44e0-8051-44c9e80e1088"
      },
      "execution_count": 85,
      "outputs": [
        {
          "output_type": "execute_result",
          "data": {
            "text/plain": [
              "['피카츄', '라이츄', '파이리', '엔젤몬', '아구몬']"
            ]
          },
          "metadata": {},
          "execution_count": 85
        }
      ]
    },
    {
      "cell_type": "code",
      "source": [
        "def find_longest_word(list1):\n",
        "    result = ''\n",
        "    for i in range(len(list1)):\n",
        "        try:\n",
        "            for x in range(len(list1[i+1])):\n",
        "                if list1[i][x] == list1[i+1][x]:\n",
        "                    result = list1[i][x]\n",
        "\n",
        "        except:\n",
        "            return result\n",
        "\n",
        "    return set(result)\n",
        "\n",
        "print(find_longest_word(['이스트소프트', '이스트', '이스트소']))\n",
        "print(find_longest_word(['behind', 'hind']))\n",
        "print(find_longest_word(['오르미', '오르다', '오름']))"
      ],
      "metadata": {
        "colab": {
          "base_uri": "https://localhost:8080/"
        },
        "id": "Rc1ANRKSXTjG",
        "outputId": "c0b81e2b-00af-4275-9196-135f9f2abbb0"
      },
      "execution_count": 32,
      "outputs": [
        {
          "output_type": "stream",
          "name": "stdout",
          "text": [
            "트\n",
            "\n",
            "오\n"
          ]
        }
      ]
    },
    {
      "cell_type": "code",
      "source": [
        "def length_of_lis(nums):\n",
        "    pass\n",
        "\n",
        "nums1 = [1, 2, 3, 4, 5]\n",
        "print(length_of_lis(nums1))\n",
        "\n",
        "nums2 = [5, 4, 3, 2, 1]\n",
        "print(length_of_lis(nums2))\n",
        "\n",
        "nums3 = [10, 9, 2, 5, 3, 7, 101, 18]\n",
        "print(length_of_lis(nums3))\n",
        "\n",
        "nums4 = [4, 5, 2, 3, 1, 2]\n",
        "print(length_of_lis(nums4))"
      ],
      "metadata": {
        "colab": {
          "base_uri": "https://localhost:8080/",
          "height": 369
        },
        "id": "IU35E5wViWA_",
        "outputId": "c3f76aef-8e48-42d4-df04-e7500e2b646c"
      },
      "execution_count": 44,
      "outputs": [
        {
          "output_type": "error",
          "ename": "NameError",
          "evalue": "ignored",
          "traceback": [
            "\u001b[0;31m---------------------------------------------------------------------------\u001b[0m",
            "\u001b[0;31mNameError\u001b[0m                                 Traceback (most recent call last)",
            "\u001b[0;32m<ipython-input-44-ff68a4d6f160>\u001b[0m in \u001b[0;36m<cell line: 17>\u001b[0;34m()\u001b[0m\n\u001b[1;32m     15\u001b[0m \u001b[0;34m\u001b[0m\u001b[0m\n\u001b[1;32m     16\u001b[0m \u001b[0mnums1\u001b[0m \u001b[0;34m=\u001b[0m \u001b[0;34m[\u001b[0m\u001b[0;36m1\u001b[0m\u001b[0;34m,\u001b[0m \u001b[0;36m2\u001b[0m\u001b[0;34m,\u001b[0m \u001b[0;36m3\u001b[0m\u001b[0;34m,\u001b[0m \u001b[0;36m4\u001b[0m\u001b[0;34m,\u001b[0m \u001b[0;36m5\u001b[0m\u001b[0;34m]\u001b[0m\u001b[0;34m\u001b[0m\u001b[0;34m\u001b[0m\u001b[0m\n\u001b[0;32m---> 17\u001b[0;31m \u001b[0mprint\u001b[0m\u001b[0;34m(\u001b[0m\u001b[0mlength_of_lis\u001b[0m\u001b[0;34m(\u001b[0m\u001b[0mnums1\u001b[0m\u001b[0;34m)\u001b[0m\u001b[0;34m)\u001b[0m\u001b[0;34m\u001b[0m\u001b[0;34m\u001b[0m\u001b[0m\n\u001b[0m\u001b[1;32m     18\u001b[0m \u001b[0;34m\u001b[0m\u001b[0m\n\u001b[1;32m     19\u001b[0m \u001b[0mnums2\u001b[0m \u001b[0;34m=\u001b[0m \u001b[0;34m[\u001b[0m\u001b[0;36m5\u001b[0m\u001b[0;34m,\u001b[0m \u001b[0;36m4\u001b[0m\u001b[0;34m,\u001b[0m \u001b[0;36m3\u001b[0m\u001b[0;34m,\u001b[0m \u001b[0;36m2\u001b[0m\u001b[0;34m,\u001b[0m \u001b[0;36m1\u001b[0m\u001b[0;34m]\u001b[0m\u001b[0;34m\u001b[0m\u001b[0;34m\u001b[0m\u001b[0m\n",
            "\u001b[0;32m<ipython-input-44-ff68a4d6f160>\u001b[0m in \u001b[0;36mlength_of_lis\u001b[0;34m(nums)\u001b[0m\n\u001b[1;32m      1\u001b[0m \u001b[0;32mdef\u001b[0m \u001b[0mlength_of_lis\u001b[0m\u001b[0;34m(\u001b[0m\u001b[0mnums\u001b[0m\u001b[0;34m)\u001b[0m\u001b[0;34m:\u001b[0m\u001b[0;34m\u001b[0m\u001b[0;34m\u001b[0m\u001b[0m\n\u001b[0;32m----> 2\u001b[0;31m     \u001b[0mn\u001b[0m \u001b[0;34m=\u001b[0m \u001b[0mlen\u001b[0m\u001b[0;34m(\u001b[0m\u001b[0marr\u001b[0m\u001b[0;34m)\u001b[0m\u001b[0;34m\u001b[0m\u001b[0;34m\u001b[0m\u001b[0m\n\u001b[0m\u001b[1;32m      3\u001b[0m     \u001b[0mresult\u001b[0m \u001b[0;34m=\u001b[0m \u001b[0;34m[\u001b[0m\u001b[0;34m]\u001b[0m\u001b[0;34m\u001b[0m\u001b[0;34m\u001b[0m\u001b[0m\n\u001b[1;32m      4\u001b[0m \u001b[0;34m\u001b[0m\u001b[0m\n\u001b[1;32m      5\u001b[0m     \u001b[0;32mfor\u001b[0m \u001b[0mk\u001b[0m \u001b[0;32min\u001b[0m \u001b[0mrange\u001b[0m\u001b[0;34m(\u001b[0m\u001b[0;36m0\u001b[0m\u001b[0;34m,\u001b[0m\u001b[0mn\u001b[0m\u001b[0;34m-\u001b[0m\u001b[0;36m1\u001b[0m\u001b[0;34m)\u001b[0m\u001b[0;34m:\u001b[0m\u001b[0;34m\u001b[0m\u001b[0;34m\u001b[0m\u001b[0m\n",
            "\u001b[0;31mNameError\u001b[0m: name 'arr' is not defined"
          ]
        }
      ]
    },
    {
      "cell_type": "code",
      "source": [
        "def solution(arr):\n",
        "    n = len(arr)\n",
        "    result = []\n",
        "\n",
        "    for k in range(0,n-1):\n",
        "        count = 0\n",
        "        temp = float('-inf')\n",
        "        for i in range(k, n):\n",
        "            if arr[i] > temp:\n",
        "                temp = arr[i]\n",
        "                count += 1\n",
        "        result.append(count)\n",
        "\n",
        "    return max(result)\n",
        "\n",
        "nums1 = [1, 2, 3, 4, 5]\n",
        "print(solution(nums1))\n",
        "\n",
        "nums2 = [5, 4, 3, 2, 1]\n",
        "print(solution(nums2))\n",
        "\n",
        "nums3 = [10, 9, 2, 5, 3, 7, 101, 18]\n",
        "print(solution(nums3))\n",
        "\n",
        "nums4 = [4, 5, 2, 3, 1, 2]\n",
        "print(solution(nums4))"
      ],
      "metadata": {
        "colab": {
          "base_uri": "https://localhost:8080/"
        },
        "id": "My8SlvrqjKAw",
        "outputId": "a5e01931-3230-4476-9102-7c3e72a8823b"
      },
      "execution_count": 46,
      "outputs": [
        {
          "output_type": "stream",
          "name": "stdout",
          "text": [
            "5\n",
            "1\n",
            "4\n",
            "2\n"
          ]
        }
      ]
    }
  ]
}