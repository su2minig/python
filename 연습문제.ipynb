{
  "nbformat": 4,
  "nbformat_minor": 0,
  "metadata": {
    "colab": {
      "provenance": []
    },
    "kernelspec": {
      "name": "python3",
      "display_name": "Python 3"
    },
    "language_info": {
      "name": "python"
    }
  },
  "cells": [
    {
      "cell_type": "code",
      "execution_count": null,
      "metadata": {
        "id": "j73un_Mapw49"
      },
      "outputs": [],
      "source": [
        "# 문제링크: https://school.programmers.co.kr/learn/courses/30/lessons/120956\n",
        "# 머쓱이는 태어난 지 6개월 된 조카를 돌보고 있습니다.\n",
        "# 조카는 아직 \"aya\", \"ye\", \"woo\", \"ma\" 네 가지 발음을 최대 한 번씩 사용해 조합한(이어 붙인) 발음밖에 하지 못합니다.\n",
        "# 문자열 배열 babbling이 매개변수로 주어질 때, 머쓱이의 조카가 발음할 수 있는 단어의 개수를 return하도록 solution 함수를 완성해주세요."
      ]
    },
    {
      "cell_type": "code",
      "source": [
        "from itertools import permutations\n",
        "def solution(babbling):\n",
        "    answer = 0\n",
        "    talk = []\n",
        "    data = [\"aya\", \"ye\", \"woo\", \"ma\"]\n",
        "    for n in range(1, 5):\n",
        "        s = list(permutations(data, n))\n",
        "        for n in range(len(s)):\n",
        "            talk.append(\"\".join(s[n]))\n",
        "    for i in range(len(babbling)):\n",
        "        babbling[i] = babbling[i].lower()\n",
        "    for i in range(len(talk)):\n",
        "        if talk[i] in babbling:\n",
        "            answer += babbling.count(talk[i])\n",
        "    return answer\n",
        "\n",
        "solution([\"ayaye\", \"uuuma\", \"ye\", \"yemawoo\", \"ayaa\"])"
      ],
      "metadata": {
        "colab": {
          "base_uri": "https://localhost:8080/"
        },
        "id": "nIA73Grfp2ZW",
        "outputId": "bdd9b059-4914-48a6-d041-e3b1aadd027b"
      },
      "execution_count": null,
      "outputs": [
        {
          "output_type": "execute_result",
          "data": {
            "text/plain": [
              "3"
            ]
          },
          "metadata": {},
          "execution_count": 53
        }
      ]
    },
    {
      "cell_type": "code",
      "source": [
        "import re\n",
        "\n",
        "def solution(babbling):\n",
        "    count = 0\n",
        "    p = [\"aya\", \"ye\", \"woo\", \"ma\"]\n",
        "    for i in babbling:\n",
        "        print('------------')\n",
        "        print(i)\n",
        "        for pattern in p:\n",
        "            i = re.sub(pattern, ' ', i)\n",
        "            print(i)\n",
        "        if i.replace(' ', '') == '':\n",
        "            count += 1\n",
        "    return count\n",
        "\n",
        "solution([\"ayaye\", \"uuuma\", \"ye\", \"yemawoo\", \"ayaa\"])"
      ],
      "metadata": {
        "id": "5NKTE75r1Ivx"
      },
      "execution_count": null,
      "outputs": []
    },
    {
      "cell_type": "code",
      "source": [
        "# 문제링킈: https://school.programmers.co.kr/learn/courses/30/lessons/120835\n",
        "# 외과의사 머쓱이는 응급실에 온 환자의 응급도를 기준으로 진료 순서를 정하려고 합니다.\n",
        "# 정수 배열 emergency가 매개변수로 주어질 때 응급도가 높은 순서대로 진료 순서를 정한 배열을 return하도록 solution 함수를 완성해주세요."
      ],
      "metadata": {
        "id": "6bmZ8gf9xfR6"
      },
      "execution_count": null,
      "outputs": []
    },
    {
      "cell_type": "code",
      "source": [
        "def solution(emergency):\n",
        "    answer = []\n",
        "    order = sorted(emergency, reverse = True)\n",
        "    for i in emergency:\n",
        "        answer.append(order.index(i)+1)\n",
        "    return answer\n",
        "\n",
        "solution([3, 76, 24])"
      ],
      "metadata": {
        "colab": {
          "base_uri": "https://localhost:8080/"
        },
        "id": "3YFPyZEGxjyL",
        "outputId": "d8f4af3b-288e-4280-be7f-971a5f3c3301"
      },
      "execution_count": null,
      "outputs": [
        {
          "output_type": "stream",
          "name": "stdout",
          "text": [
            "[76, 24, 3]\n"
          ]
        },
        {
          "output_type": "execute_result",
          "data": {
            "text/plain": [
              "[3, 1, 2]"
            ]
          },
          "metadata": {},
          "execution_count": 43
        }
      ]
    },
    {
      "cell_type": "code",
      "source": [
        "def solution(emergency):\n",
        "    응급순서 = sorted(emergency, reverse=True)\n",
        "    return [응급순서.index(응급도) + 1 for 응급도 in emergency]"
      ],
      "metadata": {
        "id": "3LlHELzIy325"
      },
      "execution_count": null,
      "outputs": []
    },
    {
      "cell_type": "code",
      "source": [
        "# 문제1: 주어진 리스트 data = [{\"name\": \"길동\", \"수학\": 3, , \"과학\": 93}, {\"name\": \"춘향\", \"수학\": 33, \"수학\": 11}, {\"name\": \"철수\", \"수학\": 94, \"과학\": 67}]에서\n",
        "# 평균점수가 가장 높은 학생에 이름을 출력하세요.\n",
        "data = [{\"name\": \"길동\", \"수학\": 3,  \"과학\": 93}, {\"name\": \"춘향\", \"수학\": 33, \"과학\": 11}, {\"name\": \"철수\", \"수학\": 94, \"과학\": 67}]\n",
        "\n",
        "avg = list(map(lambda x: sum(list(x.values())[1:])/2, data))\n",
        "\n",
        "result = data[avg.index(max(avg))].get('name')\n",
        "print(data[avg.index(max(avg))])\n",
        "result"
      ],
      "metadata": {
        "id": "US5p827huIcD"
      },
      "execution_count": null,
      "outputs": []
    },
    {
      "cell_type": "code",
      "source": [
        "# 문제1: 주어진 리스트 data = [{\"name\": \"길동\", \"수학\": 3, , \"과학\": 93}, {\"name\": \"춘향\", \"수학\": 33, \"수학\": 11}, {\"name\": \"철수\", \"수학\": 94, \"과학\": 67}]에서\n",
        "# 평균점수가 가장 높은 학생에 이름을 출력하세요.\n",
        "data = [{\"name\": \"길동\", \"수학\": 3,  \"과학\": 93}, {\"name\": \"춘향\", \"수학\": 33, \"과학\": 11}, {\"name\": \"철수\", \"수학\": 94, \"과학\": 67}]\n",
        "max_p = max(data, key=lambda x: x[\"수학\"] + x[\"과학\"])\n",
        "print(max_p)\n",
        "print(max_p[\"name\"])"
      ],
      "metadata": {
        "id": "WCuVN05DuKl9"
      },
      "execution_count": null,
      "outputs": []
    },
    {
      "cell_type": "code",
      "source": [
        "# 문제2: 주어진 사전 grades = {\"Tom\": 87, \"Jerry\": 95, \"Mickey\": 70}의 모든 값을 5점씩 증가시키고 결과를 출력하세요.\n",
        "grades = {\"Tom\": 87, \"Jerry\": 95, \"Mickey\": 70}\n",
        "d = dict(grades)\n",
        "d.update({'Tom': d.get('Tom', 0) + 5})\n",
        "d.update({'Jerry': d.get('Jerry', 0) + 5})\n",
        "d.update({'Mickey': d.get('Mickey', 0) + 5})\n",
        "d"
      ],
      "metadata": {
        "id": "I0J_LbWUuLxh"
      },
      "execution_count": null,
      "outputs": []
    },
    {
      "cell_type": "code",
      "source": [
        "# 문제2: 주어진 사전 grades = {\"Tom\": 87, \"Jerry\": 95, \"Mickey\": 70}의 모든 값을 5점씩 증가시키고 결과를 출력하세요.\n",
        "grades = {\"Tom\": 87, \"Jerry\": 95, \"Mickey\": 70}\n",
        "# grades.update({'Tom': grades.get('Tom', 0) + 5})\n",
        "# grades.update({'Jerry': grades.get('Jerry', 0) + 5})\n",
        "# grades.update({'Mickey': grades.get('Mickey', 0) + 5})\n",
        "updated_grades = {name: score + 5 for name, score in grades.items()}\n",
        "print(updated_grades)"
      ],
      "metadata": {
        "id": "wpNuZSXTuM_N"
      },
      "execution_count": null,
      "outputs": []
    },
    {
      "cell_type": "code",
      "source": [
        "# 문제3: 주어진 문자열 s = \"apple banana apple cherry banana cherry apple\"에서\n",
        "# 가장 자주 등장하는 단어를 출력하세요.\n",
        "s = \"apple banana apple cherry banana cherry apple\"\n",
        "words = s.split()\n",
        "print(words)\n",
        "s = max(words, key = words.count )\n",
        "print(s)\n",
        "# s = max(s, key = s.count)"
      ],
      "metadata": {
        "id": "KiaxkEGiuOEb"
      },
      "execution_count": null,
      "outputs": []
    },
    {
      "cell_type": "code",
      "source": [
        "# 문제3: 주어진 문자열 s = \"apple banana apple cherry banana cherry apple\"에서\n",
        "# 가장 자주 등장하는 단어를 출력하세요.\n",
        "s = \"apple banana apple cherry banana cherry apple\"\n",
        "s.split()"
      ],
      "metadata": {
        "id": "10d6l03wuPCX"
      },
      "execution_count": null,
      "outputs": []
    },
    {
      "cell_type": "code",
      "source": [
        "# 문제3: 주어진 문자열 s = \"apple banana apple cherry banana cherry apple\"에서\n",
        "# 가장 자주 등장하는 단어를 출력하세요.\n",
        "from collections import Counter\n",
        "\n",
        "s = \"apple banana apple cherry banana cherry apple\"\n",
        "Counter(s.split())"
      ],
      "metadata": {
        "id": "uYlXBfI6uQHA"
      },
      "execution_count": null,
      "outputs": []
    },
    {
      "cell_type": "code",
      "source": [
        "# 문제3: 주어진 문자열 s = \"apple banana apple cherry banana cherry apple\"에서\n",
        "# 가장 자주 등장하는 단어를 출력하세요.\n",
        "s = \"apple banana apple cherry banana cherry apple\"\n",
        "words = s.split()\n",
        "most_frequent_word = max(set(words), key=words.count)\n",
        "print(most_frequent_word)"
      ],
      "metadata": {
        "id": "b8T7ysTeuRRP"
      },
      "execution_count": null,
      "outputs": []
    }
  ]
}