{
  "nbformat": 4,
  "nbformat_minor": 0,
  "metadata": {
    "colab": {
      "provenance": []
    },
    "kernelspec": {
      "name": "python3",
      "display_name": "Python 3"
    },
    "language_info": {
      "name": "python"
    }
  },
  "cells": [
    {
      "cell_type": "code",
      "execution_count": null,
      "metadata": {
        "id": "j73un_Mapw49"
      },
      "outputs": [],
      "source": [
        "# 문제링크: https://school.programmers.co.kr/learn/courses/30/lessons/120956\n",
        "# 머쓱이는 태어난 지 6개월 된 조카를 돌보고 있습니다.\n",
        "# 조카는 아직 \"aya\", \"ye\", \"woo\", \"ma\" 네 가지 발음을 최대 한 번씩 사용해 조합한(이어 붙인) 발음밖에 하지 못합니다.\n",
        "# 문자열 배열 babbling이 매개변수로 주어질 때, 머쓱이의 조카가 발음할 수 있는 단어의 개수를 return하도록 solution 함수를 완성해주세요."
      ]
    },
    {
      "cell_type": "code",
      "source": [
        "from itertools import permutations\n",
        "def solution(babbling):\n",
        "    answer = 0\n",
        "    talk = []\n",
        "    data = [\"aya\", \"ye\", \"woo\", \"ma\"]\n",
        "    for n in range(1, 5):\n",
        "        s = list(permutations(data, n))\n",
        "        for n in range(len(s)):\n",
        "            talk.append(\"\".join(s[n]))\n",
        "    for i in range(len(babbling)):\n",
        "        babbling[i] = babbling[i].lower()\n",
        "    for i in range(len(talk)):\n",
        "        if talk[i] in babbling:\n",
        "            answer += babbling.count(talk[i])\n",
        "    return answer\n",
        "\n",
        "solution([\"ayaye\", \"uuuma\", \"ye\", \"yemawoo\", \"ayaa\"])"
      ],
      "metadata": {
        "colab": {
          "base_uri": "https://localhost:8080/"
        },
        "id": "nIA73Grfp2ZW",
        "outputId": "bdd9b059-4914-48a6-d041-e3b1aadd027b"
      },
      "execution_count": null,
      "outputs": [
        {
          "output_type": "execute_result",
          "data": {
            "text/plain": [
              "3"
            ]
          },
          "metadata": {},
          "execution_count": 53
        }
      ]
    },
    {
      "cell_type": "code",
      "source": [
        "import re\n",
        "\n",
        "def solution(babbling):\n",
        "    count = 0\n",
        "    p = [\"aya\", \"ye\", \"woo\", \"ma\"]\n",
        "    for i in babbling:\n",
        "        print('------------')\n",
        "        print(i)\n",
        "        for pattern in p:\n",
        "            i = re.sub(pattern, ' ', i)\n",
        "            print(i)\n",
        "        if i.replace(' ', '') == '':\n",
        "            count += 1\n",
        "    return count\n",
        "\n",
        "solution([\"ayaye\", \"uuuma\", \"ye\", \"yemawoo\", \"ayaa\"])"
      ],
      "metadata": {
        "id": "5NKTE75r1Ivx"
      },
      "execution_count": null,
      "outputs": []
    },
    {
      "cell_type": "code",
      "source": [
        "# 문제링킈: https://school.programmers.co.kr/learn/courses/30/lessons/120835\n",
        "# 외과의사 머쓱이는 응급실에 온 환자의 응급도를 기준으로 진료 순서를 정하려고 합니다.\n",
        "# 정수 배열 emergency가 매개변수로 주어질 때 응급도가 높은 순서대로 진료 순서를 정한 배열을 return하도록 solution 함수를 완성해주세요."
      ],
      "metadata": {
        "id": "6bmZ8gf9xfR6"
      },
      "execution_count": null,
      "outputs": []
    },
    {
      "cell_type": "code",
      "source": [
        "def solution(emergency):\n",
        "    answer = []\n",
        "    order = sorted(emergency, reverse = True)\n",
        "    for i in emergency:\n",
        "        answer.append(order.index(i)+1)\n",
        "    return answer\n",
        "\n",
        "solution([3, 76, 24])"
      ],
      "metadata": {
        "colab": {
          "base_uri": "https://localhost:8080/"
        },
        "id": "3YFPyZEGxjyL",
        "outputId": "d8f4af3b-288e-4280-be7f-971a5f3c3301"
      },
      "execution_count": null,
      "outputs": [
        {
          "output_type": "stream",
          "name": "stdout",
          "text": [
            "[76, 24, 3]\n"
          ]
        },
        {
          "output_type": "execute_result",
          "data": {
            "text/plain": [
              "[3, 1, 2]"
            ]
          },
          "metadata": {},
          "execution_count": 43
        }
      ]
    },
    {
      "cell_type": "code",
      "source": [
        "def solution(emergency):\n",
        "    응급순서 = sorted(emergency, reverse=True)\n",
        "    return [응급순서.index(응급도) + 1 for 응급도 in emergency]"
      ],
      "metadata": {
        "id": "3LlHELzIy325"
      },
      "execution_count": null,
      "outputs": []
    },
    {
      "cell_type": "code",
      "source": [
        "# 문제1: 주어진 리스트 data = [{\"name\": \"길동\", \"수학\": 3, , \"과학\": 93}, {\"name\": \"춘향\", \"수학\": 33, \"수학\": 11}, {\"name\": \"철수\", \"수학\": 94, \"과학\": 67}]에서\n",
        "# 평균점수가 가장 높은 학생에 이름을 출력하세요.\n",
        "data = [{\"name\": \"길동\", \"수학\": 3,  \"과학\": 93}, {\"name\": \"춘향\", \"수학\": 33, \"과학\": 11}, {\"name\": \"철수\", \"수학\": 94, \"과학\": 67}]\n",
        "\n",
        "avg = list(map(lambda x: sum(list(x.values())[1:])/2, data))\n",
        "\n",
        "result = data[avg.index(max(avg))].get('name')\n",
        "print(data[avg.index(max(avg))])\n",
        "result"
      ],
      "metadata": {
        "id": "US5p827huIcD"
      },
      "execution_count": null,
      "outputs": []
    },
    {
      "cell_type": "code",
      "source": [
        "# 문제1: 주어진 리스트 data = [{\"name\": \"길동\", \"수학\": 3, , \"과학\": 93}, {\"name\": \"춘향\", \"수학\": 33, \"수학\": 11}, {\"name\": \"철수\", \"수학\": 94, \"과학\": 67}]에서\n",
        "# 평균점수가 가장 높은 학생에 이름을 출력하세요.\n",
        "data = [{\"name\": \"길동\", \"수학\": 3,  \"과학\": 93}, {\"name\": \"춘향\", \"수학\": 33, \"과학\": 11}, {\"name\": \"철수\", \"수학\": 94, \"과학\": 67}]\n",
        "max_p = max(data, key=lambda x: x[\"수학\"] + x[\"과학\"])\n",
        "print(max_p)\n",
        "print(max_p[\"name\"])"
      ],
      "metadata": {
        "id": "WCuVN05DuKl9"
      },
      "execution_count": null,
      "outputs": []
    },
    {
      "cell_type": "code",
      "source": [
        "# 문제2: 주어진 사전 grades = {\"Tom\": 87, \"Jerry\": 95, \"Mickey\": 70}의 모든 값을 5점씩 증가시키고 결과를 출력하세요.\n",
        "grades = {\"Tom\": 87, \"Jerry\": 95, \"Mickey\": 70}\n",
        "d = dict(grades)\n",
        "d.update({'Tom': d.get('Tom', 0) + 5})\n",
        "d.update({'Jerry': d.get('Jerry', 0) + 5})\n",
        "d.update({'Mickey': d.get('Mickey', 0) + 5})\n",
        "d"
      ],
      "metadata": {
        "id": "I0J_LbWUuLxh"
      },
      "execution_count": null,
      "outputs": []
    },
    {
      "cell_type": "code",
      "source": [
        "# 문제2: 주어진 사전 grades = {\"Tom\": 87, \"Jerry\": 95, \"Mickey\": 70}의 모든 값을 5점씩 증가시키고 결과를 출력하세요.\n",
        "grades = {\"Tom\": 87, \"Jerry\": 95, \"Mickey\": 70}\n",
        "# grades.update({'Tom': grades.get('Tom', 0) + 5})\n",
        "# grades.update({'Jerry': grades.get('Jerry', 0) + 5})\n",
        "# grades.update({'Mickey': grades.get('Mickey', 0) + 5})\n",
        "updated_grades = {name: score + 5 for name, score in grades.items()}\n",
        "print(updated_grades)"
      ],
      "metadata": {
        "id": "wpNuZSXTuM_N"
      },
      "execution_count": null,
      "outputs": []
    },
    {
      "cell_type": "code",
      "source": [
        "# 문제3: 주어진 문자열 s = \"apple banana apple cherry banana cherry apple\"에서\n",
        "# 가장 자주 등장하는 단어를 출력하세요.\n",
        "s = \"apple banana apple cherry banana cherry apple\"\n",
        "words = s.split()\n",
        "print(words)\n",
        "s = max(words, key = words.count )\n",
        "print(s)\n",
        "# s = max(s, key = s.count)"
      ],
      "metadata": {
        "id": "KiaxkEGiuOEb"
      },
      "execution_count": null,
      "outputs": []
    },
    {
      "cell_type": "code",
      "source": [
        "# 문제3: 주어진 문자열 s = \"apple banana apple cherry banana cherry apple\"에서\n",
        "# 가장 자주 등장하는 단어를 출력하세요.\n",
        "s = \"apple banana apple cherry banana cherry apple\"\n",
        "s.split()"
      ],
      "metadata": {
        "id": "10d6l03wuPCX"
      },
      "execution_count": null,
      "outputs": []
    },
    {
      "cell_type": "code",
      "source": [
        "# 문제3: 주어진 문자열 s = \"apple banana apple cherry banana cherry apple\"에서\n",
        "# 가장 자주 등장하는 단어를 출력하세요.\n",
        "from collections import Counter\n",
        "\n",
        "s = \"apple banana apple cherry banana cherry apple\"\n",
        "Counter(s.split())"
      ],
      "metadata": {
        "id": "uYlXBfI6uQHA"
      },
      "execution_count": null,
      "outputs": []
    },
    {
      "cell_type": "code",
      "source": [
        "# 문제3: 주어진 문자열 s = \"apple banana apple cherry banana cherry apple\"에서\n",
        "# 가장 자주 등장하는 단어를 출력하세요.\n",
        "s = \"apple banana apple cherry banana cherry apple\"\n",
        "words = s.split()\n",
        "most_frequent_word = max(set(words), key=words.count)\n",
        "print(most_frequent_word)"
      ],
      "metadata": {
        "id": "b8T7ysTeuRRP"
      },
      "execution_count": null,
      "outputs": []
    },
    {
      "cell_type": "code",
      "source": [
        "# 아래 기본 data를 기반으로 문제를 풀어주세요.\n",
        "data = [\n",
        "  {\n",
        "    \"_id\": \"fd7e9a0f-e77b-436a-B781-119b66033d49\",\n",
        "    \"index\": \"1\",\n",
        "    \"name\": \"나주헌\",\n",
        "    \"gender\": \"여성\",\n",
        "    \"age\": \"43\"\n",
        "  },\n",
        "  {\n",
        "    \"_id\": \"8ec6eabb-160a-41e4-A3de-cd33aff0b281\",\n",
        "    \"index\": \"2\",\n",
        "    \"name\": \"엄루다\",\n",
        "    \"gender\": \"남성\",\n",
        "    \"age\": \"22\"\n",
        "  },\n",
        "  {\n",
        "    \"_id\": \"bcf804f7-0452-4c31-B9d1-20cc2d38490b\",\n",
        "    \"index\": \"3\",\n",
        "    \"name\": \"형유환\",\n",
        "    \"gender\": \"남성\",\n",
        "    \"age\": \"31\"\n",
        "  }\n",
        "]\n",
        "# 문제 1 gender, age값을 추출해보세요. 아래 양식처럼 추출하시면 됩니다. 가능하면 map을 사용해주세요.\n",
        "'''\n",
        " [\n",
        "  {\n",
        "    \"gender\": \"여성\",\n",
        "    \"age\": \"43\"\n",
        "  },\n",
        "  {\n",
        "    \"gender\": \"남성\",\n",
        "    \"age\": \"22\"\n",
        "  },\n",
        "  {\n",
        "    \"gender\": \"남성\",\n",
        "    \"age\": \"31\"\n",
        "  }\n",
        "]\n",
        "'''\n",
        "\n",
        "# 문제 2 User라는 class를 만들어 해당 데이터를 관리해주세요. 아래처럼 저장되어야 합니다.\n",
        "# 다만 꼭 변수 이름이 user_1...user_n 일 필요는 없습니다.\n",
        "# 저장양식: '[user_1, user_2, user_3]'\n",
        "\n",
        "# 문제 3 BankAccount 클래스를 생성하세요. 이 클래스는 owner(계좌주 이름), balance(잔액) 속성을 가져야 합니다.\n",
        "# 이 클래스는 deposit(amount) (입금) 및 withdraw(amount) (출금) 메서드를 가져야 합니다.\n",
        "# 단, 출금 시 잔액보다 큰 금액을 출금하려고 하면 \"잔액 부족\" 메시지를 출력해야 합니다."
      ],
      "metadata": {
        "id": "6DhFybkm4LH6"
      },
      "execution_count": null,
      "outputs": []
    },
    {
      "cell_type": "code",
      "source": [
        "# 문제 1\n",
        "# info = list(map(lambda x: {x['gender'],x['age']}, data))\n",
        "info = list(map(lambda x: {\"gender\":x['gender'],\"age\":x['age']}, data))\n",
        "info"
      ],
      "metadata": {
        "id": "GUifsoo54Lrf"
      },
      "execution_count": null,
      "outputs": []
    },
    {
      "cell_type": "code",
      "source": [
        "# 문제 2\n",
        "# 우리 수업인 Django에서 사용되고\n",
        "# 곧 나올 크롤링 같은 곳에서도 많이 사용됩니다\n",
        "#\n",
        "# 1. 속도: 기본자료형보다 훨씬 빠릅니다.\n",
        "# 2. 메서드 구현: User클래스를 가지고 20 ~ 30, 30~ 40, 40 ~ 50대 별 타겟팅 광고\n",
        "class User:\n",
        "\n",
        "    def __init__(self, data):\n",
        "        self._id = data['_id']\n",
        "        self.index = data['index']\n",
        "        self.name = data['name']\n",
        "        self.gender = data['gender']\n",
        "        self.age = data['age']\n",
        "\n",
        "user_1 = User(data[0])\n",
        "user_2 = User(data[1])\n",
        "user_3 = User(data[2])\n",
        "userlist = [user_1, user_2, user_3]\n",
        "userlist[0].name"
      ],
      "metadata": {
        "id": "X-TZjg0V4Nc6"
      },
      "execution_count": null,
      "outputs": []
    },
    {
      "cell_type": "code",
      "source": [
        "s = 'hello'\n",
        "\n",
        "for i in s:\n",
        "    print(i)\n",
        "    s += '!'\n",
        "    print(s)"
      ],
      "metadata": {
        "colab": {
          "base_uri": "https://localhost:8080/"
        },
        "id": "SVDyBe6vDubw",
        "outputId": "ac363a2e-6dfb-4caf-d174-0ab7288b8601"
      },
      "execution_count": null,
      "outputs": [
        {
          "output_type": "stream",
          "name": "stdout",
          "text": [
            "h\n",
            "hello!\n",
            "e\n",
            "hello!!\n",
            "l\n",
            "hello!!!\n",
            "l\n",
            "hello!!!!\n",
            "o\n",
            "hello!!!!!\n"
          ]
        }
      ]
    },
    {
      "cell_type": "code",
      "source": [
        "# dictionary changed size during iteration 에러\n",
        "\n",
        "# s = {'one': '1'}\n",
        "\n",
        "# for i in s:\n",
        "#     temp = s['one'] + '!'\n",
        "#     s[temp] = 100"
      ],
      "metadata": {
        "colab": {
          "base_uri": "https://localhost:8080/",
          "height": 248
        },
        "id": "YJncn8ZmD3Nk",
        "outputId": "a5f0c59b-8073-41cc-fb98-a0dfc87a0c9b"
      },
      "execution_count": null,
      "outputs": [
        {
          "output_type": "error",
          "ename": "RuntimeError",
          "evalue": "ignored",
          "traceback": [
            "\u001b[0;31m---------------------------------------------------------------------------\u001b[0m",
            "\u001b[0;31mRuntimeError\u001b[0m                              Traceback (most recent call last)",
            "\u001b[0;32m<ipython-input-3-5737879e8961>\u001b[0m in \u001b[0;36m<cell line: 3>\u001b[0;34m()\u001b[0m\n\u001b[1;32m      1\u001b[0m \u001b[0ms\u001b[0m \u001b[0;34m=\u001b[0m \u001b[0;34m{\u001b[0m\u001b[0;34m'one'\u001b[0m\u001b[0;34m:\u001b[0m \u001b[0;34m'1'\u001b[0m\u001b[0;34m}\u001b[0m\u001b[0;34m\u001b[0m\u001b[0;34m\u001b[0m\u001b[0m\n\u001b[1;32m      2\u001b[0m \u001b[0;34m\u001b[0m\u001b[0m\n\u001b[0;32m----> 3\u001b[0;31m \u001b[0;32mfor\u001b[0m \u001b[0mi\u001b[0m \u001b[0;32min\u001b[0m \u001b[0ms\u001b[0m\u001b[0;34m:\u001b[0m\u001b[0;34m\u001b[0m\u001b[0;34m\u001b[0m\u001b[0m\n\u001b[0m\u001b[1;32m      4\u001b[0m     \u001b[0mtemp\u001b[0m \u001b[0;34m=\u001b[0m \u001b[0ms\u001b[0m\u001b[0;34m[\u001b[0m\u001b[0;34m'one'\u001b[0m\u001b[0;34m]\u001b[0m \u001b[0;34m+\u001b[0m \u001b[0;34m'!'\u001b[0m\u001b[0;34m\u001b[0m\u001b[0;34m\u001b[0m\u001b[0m\n\u001b[1;32m      5\u001b[0m     \u001b[0ms\u001b[0m\u001b[0;34m[\u001b[0m\u001b[0mtemp\u001b[0m\u001b[0;34m]\u001b[0m \u001b[0;34m=\u001b[0m \u001b[0;36m100\u001b[0m\u001b[0;34m\u001b[0m\u001b[0;34m\u001b[0m\u001b[0m\n",
            "\u001b[0;31mRuntimeError\u001b[0m: dictionary changed size during iteration"
          ]
        }
      ]
    },
    {
      "cell_type": "code",
      "source": [
        "a= [[1,2,3],\n",
        "    [11,22,33],[13, 2000,300000]]\n",
        "print(a[1][1])"
      ],
      "metadata": {
        "colab": {
          "base_uri": "https://localhost:8080/"
        },
        "id": "Cmwh_SO6G_sM",
        "outputId": "f42c64a1-7f14-4597-e9b4-37d5fbc3682c"
      },
      "execution_count": null,
      "outputs": [
        {
          "output_type": "stream",
          "name": "stdout",
          "text": [
            "22\n"
          ]
        }
      ]
    },
    {
      "cell_type": "code",
      "source": [
        "a = [1,2,3]\n",
        "b = a\n",
        "a.append(4)\n",
        "\n",
        "print(a, b)"
      ],
      "metadata": {
        "colab": {
          "base_uri": "https://localhost:8080/"
        },
        "id": "iFrqpcw6Iz4W",
        "outputId": "65a2708a-58f3-4467-c062-fd6fe7efb7f1"
      },
      "execution_count": null,
      "outputs": [
        {
          "output_type": "stream",
          "name": "stdout",
          "text": [
            "[1, 2, 3, 4] [1, 2, 3, 4]\n"
          ]
        }
      ]
    },
    {
      "cell_type": "code",
      "source": [
        "l_l = ['py', 'java','js','rb']\n",
        "for i in range(len(l_l)):\n",
        "    l = l_l[i]\n",
        "    print(f'{i+1}등 {l}')"
      ],
      "metadata": {
        "colab": {
          "base_uri": "https://localhost:8080/"
        },
        "id": "XXON02H3JGjY",
        "outputId": "5cd60e1d-9619-4221-c66e-ff1ac047836c"
      },
      "execution_count": null,
      "outputs": [
        {
          "output_type": "stream",
          "name": "stdout",
          "text": [
            "1등 py\n",
            "2등 java\n",
            "3등 js\n",
            "4등 rb\n"
          ]
        }
      ]
    },
    {
      "cell_type": "code",
      "source": [
        "l_l = ['py', 'java','js','rb']\n",
        "for i, l in enumerate(l_l):\n",
        "    print(f'{i+1}등 {l}')"
      ],
      "metadata": {
        "colab": {
          "base_uri": "https://localhost:8080/"
        },
        "id": "i4SKvnK7KVG_",
        "outputId": "9ccd93b6-a8be-42b7-ba18-5ff800a1e8b2"
      },
      "execution_count": null,
      "outputs": [
        {
          "output_type": "stream",
          "name": "stdout",
          "text": [
            "1등 py\n",
            "2등 java\n",
            "3등 js\n",
            "4등 rb\n"
          ]
        }
      ]
    },
    {
      "cell_type": "code",
      "source": [
        "class Fish():\n",
        "\n",
        "    def __init__(self, weight):\n",
        "        self.weight = weight\n",
        "        print(self.weight)\n",
        "\n",
        "    @classmethod\n",
        "    def weight_avg(cls, *args):\n",
        "        sum = 0\n",
        "        for i in args:\n",
        "            sum += i\n",
        "        return f'물고기 평균 무게:{sum/len(args): .2f}kg'\n",
        "\n",
        "\n",
        "a = Fish(2.5)\n",
        "a.weight_avg(2.5, 3.1, 1.7, 2.8, 2.4)"
      ],
      "metadata": {
        "colab": {
          "base_uri": "https://localhost:8080/",
          "height": 53
        },
        "id": "qq6kVaDJLU7a",
        "outputId": "851fa6cf-e5af-4c58-980d-cffa5f666524"
      },
      "execution_count": null,
      "outputs": [
        {
          "output_type": "stream",
          "name": "stdout",
          "text": [
            "2.5\n"
          ]
        },
        {
          "output_type": "execute_result",
          "data": {
            "text/plain": [
              "'물고기 평균 무게: 2.50kg'"
            ],
            "application/vnd.google.colaboratory.intrinsic+json": {
              "type": "string"
            }
          },
          "metadata": {},
          "execution_count": 11
        }
      ]
    },
    {
      "cell_type": "code",
      "source": [
        "def get_first_letters(s):\n",
        "    l = s.split(' ')\n",
        "    result = ''\n",
        "    for i in range(len(l)):\n",
        "        result += l[i][0]\n",
        "    return result\n",
        "\n",
        "print(get_first_letters(\"Hello World! I Love Python\"))\n",
        "print(get_first_letters(\"이스트소프트 오르미 1기 여러분 반가워요!\"))\n",
        "print(get_first_letters(\"복잡한 세상 편하게 살자\"))"
      ],
      "metadata": {
        "colab": {
          "base_uri": "https://localhost:8080/"
        },
        "id": "EEUy2W7kN4-c",
        "outputId": "d64a8769-e9bc-463d-c541-9f03c65909ed"
      },
      "execution_count": null,
      "outputs": [
        {
          "output_type": "stream",
          "name": "stdout",
          "text": [
            "HWILP\n",
            "이오1여반\n",
            "복세편살\n"
          ]
        }
      ]
    },
    {
      "cell_type": "code",
      "source": [
        "def common_elements(list1, list2):\n",
        "    set1 = set(list1)\n",
        "    set2 = set(list2)\n",
        "    result = list(set1 & set2)\n",
        "    return result\n",
        "\n",
        "print(common_elements([1,2,3,4,5], [4,5,6,7,8]))\n",
        "print(common_elements(['est', 'weniv', 'ormi'], ['licat', 'ormi']))\n",
        "print(common_elements([1,2,3], [4,5,6]))"
      ],
      "metadata": {
        "colab": {
          "base_uri": "https://localhost:8080/"
        },
        "id": "_Fo3JDn1Ud9p",
        "outputId": "59064753-2ea1-4eb0-a9a1-d61f3b470ad3"
      },
      "execution_count": null,
      "outputs": [
        {
          "output_type": "stream",
          "name": "stdout",
          "text": [
            "[4, 5]\n",
            "['ormi']\n",
            "[]\n"
          ]
        }
      ]
    },
    {
      "cell_type": "code",
      "source": [
        "list1 = [\"피카츄\",'라이츄','파이리','꼬부기','버터플','엔젤몬','아구몬','또가스']\n",
        "list2 = ['아구몬','파닥몬','에테몬','팔몬','엔젤몬','피카츄','라이츄','파이리']\n",
        "\n",
        "[x for i in list1 for x in list2 if i in x]"
      ],
      "metadata": {
        "colab": {
          "base_uri": "https://localhost:8080/"
        },
        "id": "Kg4uHZwfXRU6",
        "outputId": "0f44f526-dab2-44e0-8051-44c9e80e1088"
      },
      "execution_count": null,
      "outputs": [
        {
          "output_type": "execute_result",
          "data": {
            "text/plain": [
              "['피카츄', '라이츄', '파이리', '엔젤몬', '아구몬']"
            ]
          },
          "metadata": {},
          "execution_count": 85
        }
      ]
    },
    {
      "cell_type": "code",
      "source": [
        "def find_longest_word(list1):\n",
        "    result = ''\n",
        "    for i in range(len(list1)):\n",
        "        try:\n",
        "            for x in range(len(list1[i+1])):\n",
        "                if list1[i][x] == list1[i+1][x]:\n",
        "                    result = list1[i][x]\n",
        "\n",
        "        except:\n",
        "            return result\n",
        "\n",
        "    return set(result)\n",
        "\n",
        "print(find_longest_word(['이스트소프트', '이스트', '이스트소']))\n",
        "print(find_longest_word(['behind', 'hind']))\n",
        "print(find_longest_word(['오르미', '오르다', '오름']))"
      ],
      "metadata": {
        "colab": {
          "base_uri": "https://localhost:8080/"
        },
        "id": "Rc1ANRKSXTjG",
        "outputId": "c0b81e2b-00af-4275-9196-135f9f2abbb0"
      },
      "execution_count": null,
      "outputs": [
        {
          "output_type": "stream",
          "name": "stdout",
          "text": [
            "트\n",
            "\n",
            "오\n"
          ]
        }
      ]
    },
    {
      "cell_type": "code",
      "source": [
        "def length_of_lis(nums):\n",
        "    pass\n",
        "\n",
        "nums1 = [1, 2, 3, 4, 5]\n",
        "print(length_of_lis(nums1))\n",
        "\n",
        "nums2 = [5, 4, 3, 2, 1]\n",
        "print(length_of_lis(nums2))\n",
        "\n",
        "nums3 = [10, 9, 2, 5, 3, 7, 101, 18]\n",
        "print(length_of_lis(nums3))\n",
        "\n",
        "nums4 = [4, 5, 2, 3, 1, 2]\n",
        "print(length_of_lis(nums4))"
      ],
      "metadata": {
        "colab": {
          "base_uri": "https://localhost:8080/",
          "height": 369
        },
        "id": "IU35E5wViWA_",
        "outputId": "c3f76aef-8e48-42d4-df04-e7500e2b646c"
      },
      "execution_count": null,
      "outputs": [
        {
          "output_type": "error",
          "ename": "NameError",
          "evalue": "ignored",
          "traceback": [
            "\u001b[0;31m---------------------------------------------------------------------------\u001b[0m",
            "\u001b[0;31mNameError\u001b[0m                                 Traceback (most recent call last)",
            "\u001b[0;32m<ipython-input-44-ff68a4d6f160>\u001b[0m in \u001b[0;36m<cell line: 17>\u001b[0;34m()\u001b[0m\n\u001b[1;32m     15\u001b[0m \u001b[0;34m\u001b[0m\u001b[0m\n\u001b[1;32m     16\u001b[0m \u001b[0mnums1\u001b[0m \u001b[0;34m=\u001b[0m \u001b[0;34m[\u001b[0m\u001b[0;36m1\u001b[0m\u001b[0;34m,\u001b[0m \u001b[0;36m2\u001b[0m\u001b[0;34m,\u001b[0m \u001b[0;36m3\u001b[0m\u001b[0;34m,\u001b[0m \u001b[0;36m4\u001b[0m\u001b[0;34m,\u001b[0m \u001b[0;36m5\u001b[0m\u001b[0;34m]\u001b[0m\u001b[0;34m\u001b[0m\u001b[0;34m\u001b[0m\u001b[0m\n\u001b[0;32m---> 17\u001b[0;31m \u001b[0mprint\u001b[0m\u001b[0;34m(\u001b[0m\u001b[0mlength_of_lis\u001b[0m\u001b[0;34m(\u001b[0m\u001b[0mnums1\u001b[0m\u001b[0;34m)\u001b[0m\u001b[0;34m)\u001b[0m\u001b[0;34m\u001b[0m\u001b[0;34m\u001b[0m\u001b[0m\n\u001b[0m\u001b[1;32m     18\u001b[0m \u001b[0;34m\u001b[0m\u001b[0m\n\u001b[1;32m     19\u001b[0m \u001b[0mnums2\u001b[0m \u001b[0;34m=\u001b[0m \u001b[0;34m[\u001b[0m\u001b[0;36m5\u001b[0m\u001b[0;34m,\u001b[0m \u001b[0;36m4\u001b[0m\u001b[0;34m,\u001b[0m \u001b[0;36m3\u001b[0m\u001b[0;34m,\u001b[0m \u001b[0;36m2\u001b[0m\u001b[0;34m,\u001b[0m \u001b[0;36m1\u001b[0m\u001b[0;34m]\u001b[0m\u001b[0;34m\u001b[0m\u001b[0;34m\u001b[0m\u001b[0m\n",
            "\u001b[0;32m<ipython-input-44-ff68a4d6f160>\u001b[0m in \u001b[0;36mlength_of_lis\u001b[0;34m(nums)\u001b[0m\n\u001b[1;32m      1\u001b[0m \u001b[0;32mdef\u001b[0m \u001b[0mlength_of_lis\u001b[0m\u001b[0;34m(\u001b[0m\u001b[0mnums\u001b[0m\u001b[0;34m)\u001b[0m\u001b[0;34m:\u001b[0m\u001b[0;34m\u001b[0m\u001b[0;34m\u001b[0m\u001b[0m\n\u001b[0;32m----> 2\u001b[0;31m     \u001b[0mn\u001b[0m \u001b[0;34m=\u001b[0m \u001b[0mlen\u001b[0m\u001b[0;34m(\u001b[0m\u001b[0marr\u001b[0m\u001b[0;34m)\u001b[0m\u001b[0;34m\u001b[0m\u001b[0;34m\u001b[0m\u001b[0m\n\u001b[0m\u001b[1;32m      3\u001b[0m     \u001b[0mresult\u001b[0m \u001b[0;34m=\u001b[0m \u001b[0;34m[\u001b[0m\u001b[0;34m]\u001b[0m\u001b[0;34m\u001b[0m\u001b[0;34m\u001b[0m\u001b[0m\n\u001b[1;32m      4\u001b[0m \u001b[0;34m\u001b[0m\u001b[0m\n\u001b[1;32m      5\u001b[0m     \u001b[0;32mfor\u001b[0m \u001b[0mk\u001b[0m \u001b[0;32min\u001b[0m \u001b[0mrange\u001b[0m\u001b[0;34m(\u001b[0m\u001b[0;36m0\u001b[0m\u001b[0;34m,\u001b[0m\u001b[0mn\u001b[0m\u001b[0;34m-\u001b[0m\u001b[0;36m1\u001b[0m\u001b[0;34m)\u001b[0m\u001b[0;34m:\u001b[0m\u001b[0;34m\u001b[0m\u001b[0;34m\u001b[0m\u001b[0m\n",
            "\u001b[0;31mNameError\u001b[0m: name 'arr' is not defined"
          ]
        }
      ]
    },
    {
      "cell_type": "code",
      "source": [
        "def solution(arr):\n",
        "    n = len(arr)\n",
        "    result = []\n",
        "\n",
        "    for k in range(0,n-1):\n",
        "        count = 0\n",
        "        temp = float('-inf')\n",
        "        for i in range(k, n):\n",
        "            if arr[i] > temp:\n",
        "                temp = arr[i]\n",
        "                count += 1\n",
        "        result.append(count)\n",
        "\n",
        "    return max(result)\n",
        "\n",
        "nums1 = [1, 2, 3, 4, 5]\n",
        "print(solution(nums1))\n",
        "\n",
        "nums2 = [5, 4, 3, 2, 1]\n",
        "print(solution(nums2))\n",
        "\n",
        "nums3 = [10, 9, 2, 5, 3, 7, 101, 18]\n",
        "print(solution(nums3))\n",
        "\n",
        "nums4 = [4, 5, 2, 3, 1, 2]\n",
        "print(solution(nums4))"
      ],
      "metadata": {
        "colab": {
          "base_uri": "https://localhost:8080/"
        },
        "id": "My8SlvrqjKAw",
        "outputId": "a5e01931-3230-4476-9102-7c3e72a8823b"
      },
      "execution_count": null,
      "outputs": [
        {
          "output_type": "stream",
          "name": "stdout",
          "text": [
            "5\n",
            "1\n",
            "4\n",
            "2\n"
          ]
        }
      ]
    },
    {
      "cell_type": "markdown",
      "source": [
        "![image.png](data:image/png;base64,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)"
      ],
      "metadata": {
        "id": "X61iVmAq2tCC"
      }
    },
    {
      "cell_type": "code",
      "source": [
        "def find_hypotenuse(a, b, s, r):\n",
        "    return r(s(a) + s(b))\n",
        "\n",
        "def square(value):\n",
        "    return value ** 2\n",
        "\n",
        "def root(value):\n",
        "    return value ** 0.5\n",
        "\n",
        "find_hypotenuse(6, 8, square, root)"
      ],
      "metadata": {
        "id": "SGWm7YRN2rq_"
      },
      "execution_count": null,
      "outputs": []
    },
    {
      "cell_type": "code",
      "source": [
        "# 회전초밥집에 들어갔습니다. 초밥은 아래와 같은 양식으로 나옵니다.\n",
        "# [['광어초밥', 1000], ['연어초밥', 2000], ['계란초밥', 3000]]\n",
        "# * 각 초밥은 몇 개 나올지 알 수 없습니다.\n",
        "# * 각 초밥은 1000원씩 비싸집니다.\n",
        "# * 초밥에 '어'가 나오는 초밥만 먹습니다.\n",
        "# * 선택사항: 제너레이터를 사용해주세요!\n",
        "# 내가 먹은 초밥의 비용을 계산하는 코드를 작성해 주세요.\n",
        "\n",
        "def solution(data):\n",
        "    pass\n",
        "\n",
        "solution([['광어초밥', 1000], ['연어초밥', 2000], ['계란초밥', 3000], ['문어초밥', 4000], ['장어초밥', 5000]])"
      ],
      "metadata": {
        "id": "iLF9Dgd62wuI"
      },
      "execution_count": null,
      "outputs": []
    },
    {
      "cell_type": "code",
      "source": [
        "def gen(data):\n",
        "    for name, price in data:\n",
        "        if '어' in name:\n",
        "            yield price\n",
        "\n",
        "def solution(data):\n",
        "    return sum(gen(data))\n",
        "\n",
        "solution([['광어초밥', 1000], ['연어초밥', 2000], ['계란초밥', 3000], ['문어초밥', 4000], ['장어초밥', 5000]])"
      ],
      "metadata": {
        "id": "kLFIU77i2xr3"
      },
      "execution_count": null,
      "outputs": []
    },
    {
      "cell_type": "markdown",
      "source": [
        "# 연습문제\n",
        "\n",
        "게임에서 캐릭터를 구현할 예정입니다. 아래 클래스를 적절하게\n",
        "조합하여 hero 인스턴스와 villain 인스턴스를 만들어주세요.\n",
        "1. class Body(능력치)\n",
        "2. class Weapon(무기)\n",
        "3. class WeaponEnhancement(무기강화)\n",
        "4. class Skill(기술)\n",
        "5. class Equipment(장비)\n",
        "6. class Role(히어로인지, 빌런인지, 몹인지)"
      ],
      "metadata": {
        "id": "b8ys-wtCUCgL"
      }
    },
    {
      "cell_type": "code",
      "source": [
        "class Weapon:\n",
        "    def setDamage(self, damage):\n",
        "        self.damage = damage\n",
        "\n",
        "class WeaponEnhancement(Weapon):\n",
        "    def setEnhance(self, enhance):\n",
        "        self.damage *= enhance\n",
        "\n",
        "class Equipment(WeaponEnhancement):\n",
        "    def Equip(self, name, damage, enhance):\n",
        "        self.weapon = name\n",
        "        self.damage = damage * enhance\n",
        "class Skill:\n",
        "    def setSkill(self, skill):\n",
        "        self.skill = skill\n",
        "\n",
        "class Role:\n",
        "    def setRole(self, role):\n",
        "        self.role = role\n",
        "\n",
        "class Character(Role, Skill, Equipment):\n",
        "    def __init__(self, role, hp, mp, skill, equip, damage, enhance):\n",
        "        self.setRole(role)\n",
        "        self.hp = hp\n",
        "        self.mp = mp\n",
        "        self.setSkill(skill)\n",
        "        self.Equip(equip, damage, enhance)\n",
        "\n",
        "hero = Character('hero', 100, 100, 'judgement', 'gun', 110, 5)\n",
        "villain = Character('villain', 100, 100, 'slaught', 'sword', 100, 4)"
      ],
      "metadata": {
        "id": "CZNZYBwVT_89"
      },
      "execution_count": null,
      "outputs": []
    },
    {
      "cell_type": "code",
      "source": [
        "class Weapon:\n",
        "    def setDamage(self, damage):\n",
        "        self.damage = damage\n",
        "\n",
        "class WeaponEnhancement(Weapon):\n",
        "    def setEnhance(self, success):\n",
        "        if success == True:\n",
        "            self.damage *= 5\n",
        "        else:\n",
        "            self.damage = 0\n",
        "\n",
        "\n",
        "class Equipment(WeaponEnhancement):\n",
        "    pass\n",
        "\n",
        "\n",
        "class Skill:\n",
        "    def jarvis(self):\n",
        "        return '자비스! 도와줘!'\n",
        "\n",
        "    def beam(self):\n",
        "        return '나가라 빔!'\n",
        "\n",
        "\n",
        "class Role:\n",
        "    def setRole(self, role):\n",
        "        self.role = role\n",
        "\n",
        "\n",
        "class Body(Role, Skill, Equipment):\n",
        "    def __init__(self, role, hp, mp):\n",
        "        self.setRole(role)\n",
        "        self.hp = hp\n",
        "\n",
        "ironman = Body('hero', 100, 100)\n",
        "thanos = Body('villain', 100, 100)\n",
        "\n",
        "ironman.jarvis()\n",
        "ironman.setDamage(1000)\n",
        "ironman.damage\n",
        "ironman.setEnhance(True)\n",
        "ironman.damage\n",
        "ironman.hp\n",
        "ironman.role"
      ],
      "metadata": {
        "id": "F2ue9T_7UEhW"
      },
      "execution_count": null,
      "outputs": []
    }
  ]
}