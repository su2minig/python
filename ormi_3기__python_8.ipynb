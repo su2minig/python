{
  "nbformat": 4,
  "nbformat_minor": 0,
  "metadata": {
    "colab": {
      "provenance": []
    },
    "kernelspec": {
      "name": "python3",
      "display_name": "Python 3"
    },
    "language_info": {
      "name": "python"
    }
  },
  "cells": [
    {
      "cell_type": "markdown",
      "source": [
        "# 크롤링\n",
        "https://conscious-plantain-70f.notion.site/Crawling-072bd9b0f7b8477abb38af6f8ddc8e58"
      ],
      "metadata": {
        "id": "hJyuPV3rcLAz"
      }
    },
    {
      "cell_type": "code",
      "execution_count": null,
      "metadata": {
        "id": "lR7Vx333XFJb"
      },
      "outputs": [],
      "source": [
        "# http 는 80번 포트 사용\n",
        "# https 는 443번 포트 사용(http + security)"
      ]
    },
    {
      "cell_type": "code",
      "source": [
        "import requests\n",
        "import bs4"
      ],
      "metadata": {
        "id": "FRhU_62rgBDg"
      },
      "execution_count": null,
      "outputs": []
    },
    {
      "cell_type": "code",
      "source": [
        "print(requests.__version__)\n",
        "print(bs4.__version__)"
      ],
      "metadata": {
        "colab": {
          "base_uri": "https://localhost:8080/"
        },
        "id": "i3EwTbNhgDkK",
        "outputId": "1aa1dd2c-749f-46b9-fa36-e4bf4ee664b5"
      },
      "execution_count": null,
      "outputs": [
        {
          "output_type": "stream",
          "name": "stdout",
          "text": [
            "2.31.0\n",
            "4.11.2\n"
          ]
        }
      ]
    },
    {
      "cell_type": "code",
      "source": [
        "import requests\n",
        "\n",
        "html = requests.get('http://www.paullab.co.kr/stock.html')\n",
        "html"
      ],
      "metadata": {
        "colab": {
          "base_uri": "https://localhost:8080/"
        },
        "id": "0TM7Ggb7gK_F",
        "outputId": "c4bcd8a3-b992-4092-8fbf-6bb79957ddf9"
      },
      "execution_count": null,
      "outputs": [
        {
          "output_type": "execute_result",
          "data": {
            "text/plain": [
              "<Response [200]>"
            ]
          },
          "metadata": {},
          "execution_count": 4
        }
      ]
    },
    {
      "cell_type": "code",
      "source": [
        "print(type(html))\n",
        "print(dir(html))\n",
        "print(html.encoding)\n",
        "# html.encoding = 'utf-8' # 한글 깨져 나오면 이 코드를 실행해주세요.\n",
        "# html.headers\n",
        "# html.json\n",
        "# html.raw\n",
        "html.text"
      ],
      "metadata": {
        "colab": {
          "base_uri": "https://localhost:8080/",
          "height": 229
        },
        "id": "GCrxEbtpgXLn",
        "outputId": "69c428a5-72a6-47c6-fc95-f6000c9966bb"
      },
      "execution_count": null,
      "outputs": [
        {
          "output_type": "stream",
          "name": "stdout",
          "text": [
            "<class 'requests.models.Response'>\n",
            "['__attrs__', '__bool__', '__class__', '__delattr__', '__dict__', '__dir__', '__doc__', '__enter__', '__eq__', '__exit__', '__format__', '__ge__', '__getattribute__', '__getstate__', '__gt__', '__hash__', '__init__', '__init_subclass__', '__iter__', '__le__', '__lt__', '__module__', '__ne__', '__new__', '__nonzero__', '__reduce__', '__reduce_ex__', '__repr__', '__setattr__', '__setstate__', '__sizeof__', '__str__', '__subclasshook__', '__weakref__', '_content', '_content_consumed', '_next', 'apparent_encoding', 'close', 'connection', 'content', 'cookies', 'elapsed', 'encoding', 'headers', 'history', 'is_permanent_redirect', 'is_redirect', 'iter_content', 'iter_lines', 'json', 'links', 'next', 'ok', 'raise_for_status', 'raw', 'reason', 'request', 'status_code', 'text', 'url']\n",
            "utf-8\n"
          ]
        },
        {
          "output_type": "execute_result",
          "data": {
            "text/plain": [
              "'<!DOCTYPE html>\\n<html lang=\"en\">\\n\\n<head>\\n  <meta charset=\"UTF-8\">\\n  <meta name=\"viewport\" content=\"width=device-width, initial-scale=1.0\">\\n  <meta http-equiv=\"X-UA-Compatible\" content=\"ie=edge\">\\n  <title>Document</title>\\n  <link rel=\"stylesheet\" href=\"https://stackpath.bootstrapcdn.com/bootstrap/4.4.1/css/bootstrap.min.css\">\\n  <link rel=\"stylesheet\" type=\"text/css\" href=\"https://pro.fontawesome.com/releases/v5.10.0/css/all.css\" integrity=\"sha384-AYmEC3Yw5cVb3ZcuHtOA93w35dYTsvhLPVnYs9eStHfGJvOvKxVfELGroGkvsg+p\" crossorigin=\"anonymous\">\\n  <style>\\n    h1{\\n      margin: 2rem;\\n    }\\n    h1>span{\\n      font-size: 1rem;\\n    }\\n    .main {\\n      width: 80%;\\n      margin: 0 auto;\\n      text-align: center;\\n    }\\n\\n    table {\\n      width: 100%;\\n    }\\n\\n    a {\\n      color: inherit;\\n      cursor: pointer;\\n      text-decoration: none;\\n    }\\n\\n    a:hover {\\n      color: #000;\\n      text-decoration: none;\\n    }\\n\\n    em {\\n      font: inherit;\\n    }\\n\\n    #information {\\n      padding: 15px;\\n      margin-bottom: 50px;\\n    }\\n\\n    #information h2 {\\n      padding-bottom: 20px;\\n    }\\n\\n    #information .wrap {\\n      display: flex;\\n      align-items: center;\\n\\n    }\\n\\n    #information .cat-img {\\n      width: 70%;\\n      padding-right: 100px;\\n    }\\n\\n    #information .cat-img img {\\n      width: 100%;\\n      height: auto;\\n    }\\n\\n    #information .tables {\\n      border: 1px solid #dbdbdb;\\n      padding: 20px 10px;\\n    }\\n\\n    #information table {\\n      position: relative;\\n      width: 300px;\\n      padding: 10px;\\n      /* border-bottom: 1.5px dashed #dbdbdb; */\\n      align-items: center;\\n      border-collapse: separate;\\n    }\\n\\n    #information tr {\\n      text-align: left;\\n      align-items: center;\\n    }\\n\\n    #information th {\\n      font-size: 14px;\\n      align-items: center;\\n      padding-right: 10px;\\n      font-weight: normal;\\n    }\\n\\n    #information td {\\n      text-align: right;\\n      font-size: 13px;\\n    }\\n\\n    #information .strong {\\n      font-weight: bold;\\n    }\\n\\n    .bar {\\n      color: #dbdbdb;\\n      font-size: 14px;\\n    }\\n\\n    .link_site i {\\n      color: #000;\\n    }\\n\\n    .link_site:hover {\\n      text-decoration: underline;\\n    }\\n\\n    .link_site i {\\n      color: #dbdbdb;\\n      padding-left: 5px;\\n    }\\n\\n    .help {\\n      font-size: 5px;\\n      font-weight: bold;\\n      color: rgb(91, 100, 103);\\n      border: 1px solid #888;\\n      padding: 0px 3px;\\n    }\\n\\n    .lyr_section {\\n      position: absolute;\\n      font-size: 13px;\\n      background-color: #FFF;\\n      padding: 10px;\\n      width: 250px;\\n      border: 1px solid #888;\\n      line-height: 1.5;\\n      margin-top: 10px;\\n      z-index: 999;\\n    }\\n\\n    #helpPannel5 p {\\n      color: #888;\\n      margin: 0;\\n    }\\n\\n    .arrow {\\n      position: absolute;\\n      left: 75px;\\n      top: 0;\\n      width: 10px;\\n      height: 10px;\\n      border-top: 1px solid #888;\\n      border-right: 1px solid #888;\\n      background-color: #FFF;\\n      margin-top: -6px;\\n      -webkit-transform: rotate(-45deg);\\n      transform: rotate(-45deg);\\n    }\\n\\n    .border-style {\\n      border-bottom: 1.5px dashed #dbdbdb;\\n    }\\n\\n  </style>\\n</head>\\n\\n<body>\\n  <h1>크롤링 연습용 페이지 <span id=\"update\">update : 20.12.30 / 해외 크롤링이 Block되어 있으므로 크롤링이 안되시는 분은 이 URL(http://paullab.synology.me/stock.html)을 사용하세요.</span></h1>\\n\\n  <div id=\"information\" class=\"main\">\\n    <h2>(주)캣네생선</h2>\\n    <div class=\"wrap main\">\\n      <div class=\"cat-img\">\\n        <img src=\"cats_stock.png\" alt=\"(주)캣네가게 주가\">\\n      </div>\\n      <div class=\"tables\">\\n        <table summary=\"시가총액 정보\" class=\"border-style\">\\n          <tr>\\n              <th class=\"strong\" scope=\"row\">시가총액</th>\\n              <!-- 공백은 의도적으로 넣은 것입니다. -->\\n              <td class=\"strong\"><em id=\"_market_sum\">349조 2,323</em>억원</td>\\n          </tr>\\n          <tr>\\n              <th scope=\"row\">\\n                  <a class=\"link_site\" href=\"#\">시가총액순위<i class=\"fas fa-caret-right\"></i></a>\\n              </th>\\n              <!-- 공백은 의도적으로 넣은 것입니다. -->\\n              <td>위니브월드 <em id=\"_market_sum\">1</em>위</td>\\n          </tr>\\n          <tr>\\n              <th scope=\"row\">상장주식수</th>\\n              <!-- 공백은 의도적으로 넣은 것입니다. -->\\n              <td><em id=\"_market_sum\">5,969,782,550</em></td>\\n          </tr>\\n        </table>\\n\\n        <table summary=\"업종상세 정보\" class=\"border-style\">\\n            <tr>\\n                <th class=\"strong\" scope=\"row\">현재가</th>\\n                <td class=\"strong\"><em id=\"_market_sum\">349조 2,323</em>억원</td>\\n            </tr>\\n            <tr>\\n                <th scope=\"row\">52주 최고 <span class=\"bar\">l</span> 최저</th>\\n                <td>\\n                    <em>62,800</em>\\n                    <span class=\"bar\">l</span>\\n                    <em>42,300</em>\\n                </td>\\n            </tr>\\n            <tr>\\n                <th scope=\"row\">배당수익률 <span class=\"bar\">l</span><span> 2019.12</span>\\n                  <a class=\"help\" href=\"#\" alt=\"배당수익률 상세설명\"><em>?</em></a>\\n                  <div class=\"lyr_section\" style=\"display:none\">\\n                    <div id=\"helpPannel5\" class=\"tooltip_lyr dividend_layer\">\\n                      <strong>배당수익률 = (배당금 / 현재가) x 100</strong>\\n                      <p>배당금은 최근 결산연도 기준의 중간배당을 포함한 총 배당금입니다.</p>\\n                      <span class=\"arrow\"></span>\\n                    </div>\\n                  </div>\\n                </th>\\n                <td>\\n                    <em id=\"_dvr\">2.42</em>%\\n                </td>\\n            </tr>\\n        </table>\\n\\n        <table>\\n            <tr>\\n                <th class=\"strong\" scope=\"row\">매출</th>\\n                <!-- <td>22조 1,250억원</td> -->\\n                <td class=\"strong\">22,125,034,978,750원</td>\\n            </tr>\\n            <tr>\\n                <th scope=\"row\">비용</th>\\n                <!-- <td>19조 2,238억원</td> -->\\n                <td>19,223,803,154,781원</td>\\n            </tr>\\n            <tr>\\n                <th scope=\"row\">순익</th>\\n                <!-- <td><em id=\"_market_sum\">2조 9,012억원</em></td> -->\\n                <td><em id=\"_market_sum\">2,901,231,823,969원</em></td>\\n            </tr>\\n        </table>\\n      </div>\\n\\n    </div>\\n\\n  </div>\\n\\n  <div class=\"main\">\\n    <h2 id=\"제주코딩베이스캠프연구원\">제주코딩베이스캠프 연구원</h2>\\n    <h3><span style=\"color: salmon\">일별</span> 시세</h3>\\n    <table class=\"table table-hover\">\\n      <tbody>\\n        <tr>\\n          <th scope=\"col\">날짜</th>\\n          <th scope=\"col\">종가</th>\\n          <th scope=\"col\">전일비</th>\\n          <th scope=\"col\">시가</th>\\n          <th scope=\"col\">고가</th>\\n          <th scope=\"col\">저가</th>\\n          <th scope=\"col\">거래량</th>\\n        </tr>\\n\\n\\n\\n        <tr>\\n          <td align=\"center \"><span class=\"date \">2019.10.23</span></td>\\n          <td class=\"num \"><span>6,650</span></td>\\n          <td class=\"num \">\\n            <img src=\"ico_up.gif \" width=\"7 \" height=\"6 \" style=\"margin-right:4px; \" alt=\"상승 \"><span>\\n                            20\\n                        </span>\\n          </td>\\n          <td class=\"num \"><span>6,590</span></td>\\n          <td class=\"num \"><span>6,830</span></td>\\n          <td class=\"num \"><span>6,580</span></td>\\n          <td class=\"num \"><span>398,421</span></td>\\n        </tr>\\n\\n\\n\\n        <tr>\\n          <td align=\"center\"><span class=\"date\">2019.10.22</span></td>\\n          <td class=\"num\"><span>6,630</span></td>\\n          <td class=\"num\">\\n            <img src=\"ico_down.gif\" width=\"7\" height=\"6\" style=\"margin-right:4px;\" alt=\"하락\"><span class=\"tah p11 nv01\">\\n                            190\\n                        </span>\\n          </td>\\n          <td class=\"num\"><span>6,830</span></td>\\n          <td class=\"num\"><span>6,930</span></td>\\n          <td class=\"num\"><span>6,530</span></td>\\n          <td class=\"num\"><span>919,571</span></td>\\n        </tr>\\n        <tr>\\n          <td align=\"center\"><span class=\"date\">2019.10.21</span></td>\\n          <td class=\"num\"><span>6,820</span></td>\\n          <td class=\"num\">\\n            <img src=\"ico_up.gif\" width=\"7\" height=\"6\" style=\"margin-right:4px;\" alt=\"상승\"><span>\\n                            390\\n                        </span>\\n          </td>\\n          <td class=\"num\"><span>6,440</span></td>\\n          <td class=\"num\"><span>6,890</span></td>\\n          <td class=\"num\"><span>6,360</span></td>\\n          <td class=\"num\"><span>1,678,055</span></td>\\n        </tr>\\n        <tr>\\n          <td align=\"center\"><span class=\"date\">2019.10.18</span></td>\\n          <td class=\"num\"><span>6,430</span></td>\\n          <td class=\"num\">\\n            <img src=\"ico_up.gif\" width=\"7\" height=\"6\" style=\"margin-right:4px;\" alt=\"상승\"><span>\\n                            480\\n                        </span>\\n          </td>\\n          <td class=\"num\"><span>6,020</span></td>\\n          <td class=\"num\"><span>6,620</span></td>\\n          <td class=\"num\"><span>5,970</span></td>\\n          <td class=\"num\"><span>2,168,857</span></td>\\n        </tr>\\n        <tr>\\n          <td align=\"center\"><span class=\"date\">2019.10.17</span></td>\\n          <td class=\"num\"><span>5,950</span></td>\\n          <td class=\"num\">\\n            <img src=\"ico_up.gif\" width=\"7\" height=\"6\" style=\"margin-right:4px;\" alt=\"상승\"><span>\\n                            20\\n                        </span>\\n          </td>\\n          <td class=\"num\"><span>6,100</span></td>\\n          <td class=\"num\"><span>6,180</span></td>\\n          <td class=\"num\"><span>5,840</span></td>\\n          <td class=\"num\"><span>1,982,922</span></td>\\n        </tr>\\n\\n        <tr>\\n          <td align=\"center\"><span class=\"date\">2019.10.16</span></td>\\n          <td class=\"num\"><span>5,930</span></td>\\n          <td class=\"num\">\\n            <img src=\"ico_up.gif\" width=\"7\" height=\"6\" style=\"margin-right:4px;\" alt=\"상승\"><span>\\n                            290\\n                        </span>\\n          </td>\\n          <td class=\"num\"><span>5,620</span></td>\\n          <td class=\"num\"><span>5,930</span></td>\\n          <td class=\"num\"><span>5,350</span></td>\\n          <td class=\"num\"><span>839,434</span></td>\\n        </tr>\\n        <tr>\\n          <td align=\"center\"><span class=\"date\">2019.10.15</span></td>\\n          <td class=\"num\"><span>5,640</span></td>\\n          <td class=\"num\">\\n            <img src=\"ico_up.gif\" width=\"7\" height=\"6\" style=\"margin-right:4px;\" alt=\"상승\"><span>\\n                            260\\n                        </span>\\n          </td>\\n          <td class=\"num\"><span>5,370</span></td>\\n          <td class=\"num\"><span>5,660</span></td>\\n          <td class=\"num\"><span>5,300</span></td>\\n          <td class=\"num\"><span>702,104</span></td>\\n        </tr>\\n        <tr>\\n          <td align=\"center\"><span class=\"date\">2019.10.14</span></td>\\n          <td class=\"num\"><span>5,380</span></td>\\n          <td class=\"num\">\\n            <img src=\"ico_up.gif\" width=\"7\" height=\"6\" style=\"margin-right:4px;\" alt=\"상승\"><span>\\n                            340\\n                        </span>\\n          </td>\\n          <td class=\"num\"><span>5,060</span></td>\\n          <td class=\"num\"><span>5,420</span></td>\\n          <td class=\"num\"><span>5,060</span></td>\\n          <td class=\"num\"><span>764,800</span></td>\\n        </tr>\\n        <tr>\\n          <td align=\"center\"><span class=\"date\">2019.10.11</span></td>\\n          <td class=\"num\"><span>5,040</span></td>\\n          <td class=\"num\">\\n            <img src=\"ico_down.gif\" width=\"7\" height=\"6\" style=\"margin-right:4px;\" alt=\"하락\"><span class=\"tah p11 nv01\">\\n                            60\\n                        </span>\\n          </td>\\n          <td class=\"num\"><span>5,100</span></td>\\n          <td class=\"num\"><span>5,170</span></td>\\n          <td class=\"num\"><span>5,020</span></td>\\n          <td class=\"num\"><span>134,558</span></td>\\n        </tr>\\n        <tr>\\n          <td align=\"center\"><span class=\"date\">2019.10.10</span></td>\\n          <td class=\"num\"><span>5,100</span></td>\\n          <td class=\"num\">\\n            <img src=\"ico_up.gif\" width=\"7\" height=\"6\" style=\"margin-right:4px;\" alt=\"상승\"><span>\\n                            50\\n                        </span>\\n          </td>\\n          <td class=\"num\"><span>5,000</span></td>\\n          <td class=\"num\"><span>5,120</span></td>\\n          <td class=\"num\"><span>4,970</span></td>\\n          <td class=\"num\"><span>288,563</span></td>\\n        </tr>\\n\\n        <tr>\\n          <td align=\"center\"><span class=\"date\">2019.10.08</span></td>\\n          <td class=\"num\"><span>5,050</span></td>\\n          <td class=\"num\">\\n            <img src=\"ico_up.gif\" width=\"7\" height=\"6\" style=\"margin-right:4px;\" alt=\"상승\"><span>\\n                            110\\n                        </span>\\n          </td>\\n          <td class=\"num\"><span>4,985</span></td>\\n          <td class=\"num\"><span>5,050</span></td>\\n          <td class=\"num\"><span>4,910</span></td>\\n          <td class=\"num\"><span>223,839</span></td>\\n        </tr>\\n        <tr>\\n          <td align=\"center\"><span class=\"date\">2019.10.07</span></td>\\n          <td class=\"num\"><span>4,940</span></td>\\n          <td class=\"num\">\\n            <img src=\"ico_down.gif\" width=\"7\" height=\"6\" style=\"margin-right:4px;\" alt=\"하락\"><span class=\"tah p11 nv01\">\\n                            70\\n                        </span>\\n          </td>\\n          <td class=\"num\"><span>4,990</span></td>\\n          <td class=\"num\"><span>5,110</span></td>\\n          <td class=\"num\"><span>4,905</span></td>\\n          <td class=\"num\"><span>199,580</span></td>\\n        </tr>\\n        <tr>\\n          <td align=\"center\"><span class=\"date\">2019.10.04</span></td>\\n          <td class=\"num\"><span>5,010</span></td>\\n          <td class=\"num\">\\n            <img src=\"ico_up.gif\" width=\"7\" height=\"6\" style=\"margin-right:4px;\" alt=\"상승\"><span>\\n                            90\\n                        </span>\\n          </td>\\n          <td class=\"num\"><span>4,900</span></td>\\n          <td class=\"num\"><span>5,050</span></td>\\n          <td class=\"num\"><span>4,900</span></td>\\n          <td class=\"num\"><span>188,467</span></td>\\n        </tr>\\n        <tr>\\n          <td align=\"center\"><span class=\"date\">2019.10.02</span></td>\\n          <td class=\"num\"><span>4,920</span></td>\\n          <td class=\"num\">\\n            <img src=\"ico_down.gif\" width=\"7\" height=\"6\" style=\"margin-right:4px;\" alt=\"하락\"><span class=\"tah p11 nv01\">\\n                            90\\n                        </span>\\n          </td>\\n          <td class=\"num\"><span>4,930</span></td>\\n          <td class=\"num\"><span>5,000</span></td>\\n          <td class=\"num\"><span>4,900</span></td>\\n          <td class=\"num\"><span>160,510</span></td>\\n        </tr>\\n        <tr>\\n          <td align=\"center\"><span class=\"date\">2019.10.01</span></td>\\n          <td class=\"num\"><span>5,010</span></td>\\n          <td class=\"num\">\\n            <img src=\"ico_up.gif\" width=\"7\" height=\"6\" style=\"margin-right:4px;\" alt=\"상승\"><span>\\n                            10\\n                        </span>\\n          </td>\\n          <td class=\"num\"><span>4,950</span></td>\\n          <td class=\"num\"><span>5,050</span></td>\\n          <td class=\"num\"><span>4,950</span></td>\\n          <td class=\"num\"><span>246,145</span></td>\\n        </tr>\\n\\n        <tr>\\n          <td align=\"center\"><span class=\"date\">2019.09.30</span></td>\\n          <td class=\"num\"><span>5,000</span></td>\\n          <td class=\"num\">\\n            <img src=\"ico_down.gif\" width=\"7\" height=\"6\" style=\"margin-right:4px;\" alt=\"하락\"><span class=\"tah p11 nv01\">\\n                            10\\n                        </span>\\n          </td>\\n          <td class=\"num\"><span>5,180</span></td>\\n          <td class=\"num\"><span>5,300</span></td>\\n          <td class=\"num\"><span>4,990</span></td>\\n          <td class=\"num\"><span>705,046</span></td>\\n        </tr>\\n        <tr>\\n          <td align=\"center\"><span class=\"date\">2019.09.27</span></td>\\n          <td class=\"num\"><span>5,010</span></td>\\n          <td class=\"num\">\\n            <img src=\"ico_down.gif\" width=\"7\" height=\"6\" style=\"margin-right:4px;\" alt=\"하락\"><span class=\"tah p11 nv01\">\\n                            50\\n                        </span>\\n          </td>\\n          <td class=\"num\"><span>5,020</span></td>\\n          <td class=\"num\"><span>5,080</span></td>\\n          <td class=\"num\"><span>4,865</span></td>\\n          <td class=\"num\"><span>408,859</span></td>\\n        </tr>\\n        <tr>\\n          <td align=\"center\"><span class=\"date\">2019.09.26</span></td>\\n          <td class=\"num\"><span>5,060</span></td>\\n          <td class=\"num\">\\n            <span>0</span>\\n          </td>\\n          <td class=\"num\"><span>5,130</span></td>\\n          <td class=\"num\"><span>5,200</span></td>\\n          <td class=\"num\"><span>4,965</span></td>\\n          <td class=\"num\"><span>404,633</span></td>\\n        </tr>\\n        <tr>\\n          <td align=\"center\"><span class=\"date\">2019.09.25</span></td>\\n          <td class=\"num\"><span>5,060</span></td>\\n          <td class=\"num\">\\n            <img src=\"ico_down.gif\" width=\"7\" height=\"6\" style=\"margin-right:4px;\" alt=\"하락\"><span class=\"tah p11 nv01\">\\n                            270\\n                        </span>\\n          </td>\\n          <td class=\"num\"><span>5,280</span></td>\\n          <td class=\"num\"><span>5,320</span></td>\\n          <td class=\"num\"><span>5,040</span></td>\\n          <td class=\"num\"><span>441,923</span></td>\\n        </tr>\\n        <tr>\\n          <td align=\"center\"><span class=\"date\">2019.09.24</span></td>\\n          <td class=\"num\"><span>5,330</span></td>\\n          <td class=\"num\">\\n            <img src=\"ico_up.gif\" width=\"7\" height=\"6\" style=\"margin-right:4px;\" alt=\"상승\"><span>\\n                            10\\n                        </span>\\n          </td>\\n          <td class=\"num\"><span>5,300</span></td>\\n          <td class=\"num\"><span>5,370</span></td>\\n          <td class=\"num\"><span>5,280</span></td>\\n          <td class=\"num\"><span>211,019</span></td>\\n        </tr>\\n      </tbody>\\n    </table>\\n  </div>\\n  <div class=\"main\">\\n    <h2 id=\"제주코딩베이스캠프공업\">제주코딩베이스캠프 공업</h2>\\n    <h3><span style=\"color: salmon\">일별</span> 시세</h3>\\n    <table class=\"table table-hover\">\\n      <tbody>\\n        <tr>\\n          <th scope=\"col\">날짜</th>\\n          <th scope=\"col\">종가</th>\\n          <th scope=\"col\">전일비</th>\\n          <th scope=\"col\">시가</th>\\n          <th scope=\"col\">고가</th>\\n          <th scope=\"col\">저가</th>\\n          <th scope=\"col\">거래량</th>\\n        </tr>\\n\\n        <tr>\\n          <td align=\"center\"><span class=\"date\">2019.10.23</span></td>\\n          <td class=\"num\"><span>31,300</span></td>\\n          <td class=\"num\">\\n            <img src=\"ico_up.gif\" width=\"7\" height=\"6\" style=\"margin-right:4px;\" alt=\"상승\"><span>\\n                            100\\n                        </span>\\n          </td>\\n          <td class=\"num\"><span>31,150</span></td>\\n          <td class=\"num\"><span>31,850</span></td>\\n          <td class=\"num\"><span>30,450</span></td>\\n          <td class=\"num\"><span>513,365</span></td>\\n        </tr>\\n\\n        <tr>\\n          <td align=\"center\"><span class=\"date\">2019.10.22</span></td>\\n          <td class=\"num\"><span>31,200</span></td>\\n          <td class=\"num\">\\n            <img src=\"ico_down.gif\" width=\"7\" height=\"6\" style=\"margin-right:4px;\" alt=\"하락\"><span class=\"tah p11 nv01\">\\n                            100\\n                        </span>\\n          </td>\\n          <td class=\"num\"><span>31,450</span></td>\\n          <td class=\"num\"><span>31,750</span></td>\\n          <td class=\"num\"><span>30,100</span></td>\\n          <td class=\"num\"><span>938,845</span></td>\\n        </tr>\\n\\n        <tr>\\n          <td align=\"center\"><span class=\"date\">2019.10.21</span></td>\\n          <td class=\"num\"><span>31,300</span></td>\\n          <td class=\"num\">\\n            <img src=\"ico_up.gif\" width=\"7\" height=\"6\" style=\"margin-right:4px;\" alt=\"상승\"><span>\\n                            500\\n                        </span>\\n          </td>\\n          <td class=\"num\"><span>31,250</span></td>\\n          <td class=\"num\"><span>32,800</span></td>\\n          <td class=\"num\"><span>30,500</span></td>\\n          <td class=\"num\"><span>1,774,049</span></td>\\n        </tr>\\n\\n        <tr>\\n          <td align=\"center\"><span class=\"date\">2019.10.18</span></td>\\n          <td class=\"num\"><span>30,800</span></td>\\n          <td class=\"num\">\\n            <img src=\"ico_up.gif\" width=\"7\" height=\"6\" style=\"margin-right:4px;\" alt=\"상승\"><span>\\n                            2,400\\n                        </span>\\n          </td>\\n          <td class=\"num\"><span>28,700</span></td>\\n          <td class=\"num\"><span>31,100</span></td>\\n          <td class=\"num\"><span>28,400</span></td>\\n          <td class=\"num\"><span>1,731,279</span></td>\\n        </tr>\\n        <tr>\\n          <td align=\"center\"><span class=\"date\">2019.10.17</span></td>\\n          <td class=\"num\"><span>28,400</span></td>\\n          <td class=\"num\">\\n            <img src=\"ico_up.gif\" width=\"7\" height=\"6\" style=\"margin-right:4px;\" alt=\"상승\"><span>\\n                            700\\n                        </span>\\n          </td>\\n          <td class=\"num\"><span>28,050</span></td>\\n          <td class=\"num\"><span>29,200</span></td>\\n          <td class=\"num\"><span>27,950</span></td>\\n          <td class=\"num\"><span>983,611</span></td>\\n        </tr>\\n\\n        <tr>\\n          <td align=\"center\"><span class=\"date\">2019.10.16</span></td>\\n          <td class=\"num\"><span>27,700</span></td>\\n          <td class=\"num\">\\n            <img src=\"ico_up.gif\" width=\"7\" height=\"6\" style=\"margin-right:4px;\" alt=\"상승\"><span>\\n                            900\\n                        </span>\\n          </td>\\n          <td class=\"num\"><span>27,900</span></td>\\n          <td class=\"num\"><span>28,200</span></td>\\n          <td class=\"num\"><span>27,300</span></td>\\n          <td class=\"num\"><span>1,003,434</span></td>\\n        </tr>\\n        <tr>\\n          <td align=\"center\"><span class=\"date\">2019.10.15</span></td>\\n          <td class=\"num\"><span>26,800</span></td>\\n          <td class=\"num\">\\n            <img src=\"ico_up.gif\" width=\"7\" height=\"6\" style=\"margin-right:4px;\" alt=\"상승\"><span>\\n                            700\\n                        </span>\\n          </td>\\n          <td class=\"num\"><span>26,250</span></td>\\n          <td class=\"num\"><span>27,000</span></td>\\n          <td class=\"num\"><span>25,850</span></td>\\n          <td class=\"num\"><span>589,982</span></td>\\n        </tr>\\n        <tr>\\n          <td align=\"center\"><span class=\"date\">2019.10.14</span></td>\\n          <td class=\"num\"><span>26,100</span></td>\\n          <td class=\"num\">\\n            <img src=\"ico_down.gif\" width=\"7\" height=\"6\" style=\"margin-right:4px;\" alt=\"하락\"><span class=\"tah p11 nv01\">\\n                            100\\n                        </span>\\n          </td>\\n          <td class=\"num\"><span>26,500</span></td>\\n          <td class=\"num\"><span>26,550</span></td>\\n          <td class=\"num\"><span>25,750</span></td>\\n          <td class=\"num\"><span>335,940</span></td>\\n        </tr>\\n        <tr>\\n          <td align=\"center\"><span class=\"date\">2019.10.11</span></td>\\n          <td class=\"num\"><span>26,200</span></td>\\n          <td class=\"num\">\\n            <span>0</span>\\n          </td>\\n          <td class=\"num\"><span>26,650</span></td>\\n          <td class=\"num\"><span>26,700</span></td>\\n          <td class=\"num\"><span>25,700</span></td>\\n          <td class=\"num\"><span>531,894</span></td>\\n        </tr>\\n        <tr>\\n          <td align=\"center\"><span class=\"date\">2019.10.10</span></td>\\n          <td class=\"num\"><span>26,200</span></td>\\n          <td class=\"num\">\\n            <img src=\"ico_up.gif\" width=\"7\" height=\"6\" style=\"margin-right:4px;\" alt=\"상승\"><span>\\n                            1,700\\n                        </span>\\n          </td>\\n          <td class=\"num\"><span>24,750</span></td>\\n          <td class=\"num\"><span>26,300</span></td>\\n          <td class=\"num\"><span>24,700</span></td>\\n          <td class=\"num\"><span>1,060,562</span></td>\\n        </tr>\\n\\n        <tr>\\n          <td align=\"center\"><span class=\"date\">2019.10.08</span></td>\\n          <td class=\"num\"><span>24,500</span></td>\\n          <td class=\"num\">\\n            <img src=\"ico_up.gif\" width=\"7\" height=\"6\" style=\"margin-right:4px;\" alt=\"상승\"><span>\\n                            850\\n                        </span>\\n          </td>\\n          <td class=\"num\"><span>23,600</span></td>\\n          <td class=\"num\"><span>24,600</span></td>\\n          <td class=\"num\"><span>23,150</span></td>\\n          <td class=\"num\"><span>336,803</span></td>\\n        </tr>\\n        <tr>\\n          <td align=\"center\"><span class=\"date\">2019.10.07</span></td>\\n          <td class=\"num\"><span>23,650</span></td>\\n          <td class=\"num\">\\n            <img src=\"ico_down.gif\" width=\"7\" height=\"6\" style=\"margin-right:4px;\" alt=\"하락\"><span class=\"tah p11 nv01\">\\n                            450\\n                        </span>\\n          </td>\\n          <td class=\"num\"><span>24,200</span></td>\\n          <td class=\"num\"><span>24,400</span></td>\\n          <td class=\"num\"><span>23,550</span></td>\\n          <td class=\"num\"><span>285,608</span></td>\\n        </tr>\\n        <tr>\\n          <td align=\"center\"><span class=\"date\">2019.10.04</span></td>\\n          <td class=\"num\"><span>24,100</span></td>\\n          <td class=\"num\">\\n            <img src=\"ico_down.gif\" width=\"7\" height=\"6\" style=\"margin-right:4px;\" alt=\"하락\"><span class=\"tah p11 nv01\">\\n                            400\\n                        </span>\\n          </td>\\n          <td class=\"num\"><span>24,300</span></td>\\n          <td class=\"num\"><span>24,700</span></td>\\n          <td class=\"num\"><span>23,900</span></td>\\n          <td class=\"num\"><span>236,640</span></td>\\n        </tr>\\n        <tr>\\n          <td align=\"center\"><span class=\"date\">2019.10.02</span></td>\\n          <td class=\"num\"><span>24,500</span></td>\\n          <td class=\"num\">\\n            <span>0</span>\\n          </td>\\n          <td class=\"num\"><span>24,100</span></td>\\n          <td class=\"num\"><span>24,900</span></td>\\n          <td class=\"num\"><span>24,000</span></td>\\n          <td class=\"num\"><span>258,642</span></td>\\n        </tr>\\n        <tr>\\n          <td align=\"center\"><span class=\"date\">2019.10.01</span></td>\\n          <td class=\"num\"><span>24,500</span></td>\\n          <td class=\"num\">\\n            <img src=\"ico_up.gif\" width=\"7\" height=\"6\" style=\"margin-right:4px;\" alt=\"상승\"><span>\\n                            400\\n                        </span>\\n          </td>\\n          <td class=\"num\"><span>24,700</span></td>\\n          <td class=\"num\"><span>25,200</span></td>\\n          <td class=\"num\"><span>24,350</span></td>\\n          <td class=\"num\"><span>368,213</span></td>\\n        </tr>\\n\\n        <tr>\\n          <td align=\"center\"><span class=\"date\">2019.09.30</span></td>\\n          <td class=\"num\"><span>24,100</span></td>\\n          <td class=\"num\">\\n            <img src=\"ico_up.gif\" width=\"7\" height=\"6\" style=\"margin-right:4px;\" alt=\"상승\"><span>\\n                            300\\n                        </span>\\n          </td>\\n          <td class=\"num\"><span>23,300</span></td>\\n          <td class=\"num\"><span>24,150</span></td>\\n          <td class=\"num\"><span>22,950</span></td>\\n          <td class=\"num\"><span>369,465</span></td>\\n        </tr>\\n        <tr>\\n          <td align=\"center\"><span class=\"date\">2019.09.27</span></td>\\n          <td class=\"num\"><span>23,800</span></td>\\n          <td class=\"num\">\\n            <img src=\"ico_down.gif\" width=\"7\" height=\"6\" style=\"margin-right:4px;\" alt=\"하락\"><span class=\"tah p11 nv01\">\\n                            300\\n                        </span>\\n          </td>\\n          <td class=\"num\"><span>24,050</span></td>\\n          <td class=\"num\"><span>24,600</span></td>\\n          <td class=\"num\"><span>23,400</span></td>\\n          <td class=\"num\"><span>300,900</span></td>\\n        </tr>\\n        <tr>\\n          <td align=\"center\"><span class=\"date\">2019.09.26</span></td>\\n          <td class=\"num\"><span>24,100</span></td>\\n          <td class=\"num\">\\n            <img src=\"ico_down.gif\" width=\"7\" height=\"6\" style=\"margin-right:4px;\" alt=\"하락\"><span class=\"tah p11 nv01\">\\n                            200\\n                        </span>\\n          </td>\\n          <td class=\"num\"><span>24,650</span></td>\\n          <td class=\"num\"><span>24,800</span></td>\\n          <td class=\"num\"><span>23,850</span></td>\\n          <td class=\"num\"><span>227,601</span></td>\\n        </tr>\\n        <tr>\\n          <td align=\"center\"><span class=\"date\">2019.09.25</span></td>\\n          <td class=\"num\"><span>24,300</span></td>\\n          <td class=\"num\">\\n            <img src=\"ico_down.gif\" width=\"7\" height=\"6\" style=\"margin-right:4px;\" alt=\"하락\"><span class=\"tah p11 nv01\">\\n                            1,200\\n                        </span>\\n          </td>\\n          <td class=\"num\"><span>25,200</span></td>\\n          <td class=\"num\"><span>25,450</span></td>\\n          <td class=\"num\"><span>24,200</span></td>\\n          <td class=\"num\"><span>367,106</span></td>\\n        </tr>\\n        <tr>\\n          <td align=\"center\"><span class=\"date\">2019.09.24</span></td>\\n          <td class=\"num\"><span>25,500</span></td>\\n          <td class=\"num\">\\n            <img src=\"ico_down.gif\" width=\"7\" height=\"6\" style=\"margin-right:4px;\" alt=\"하락\"><span class=\"tah p11 nv01\">\\n                            150\\n                        </span>\\n          </td>\\n          <td class=\"num\"><span>25,650</span></td>\\n          <td class=\"num\"><span>25,800</span></td>\\n          <td class=\"num\"><span>25,150</span></td>\\n          <td class=\"num\"><span>248,811</span></td>\\n        </tr>\\n      </tbody>\\n    </table>\\n  </div>\\n  <div class=\"main\">\\n    <h2 id=\"제주코딩베이스캠프출판사\">제주코딩베이스캠프 출판사</h2>\\n    <h3><span style=\"color: salmon\">일별</span> 시세</h3>\\n    <table class=\"table table-hover\">\\n      <tbody>\\n        <tr>\\n          <th scope=\"col\">날짜</th>\\n          <th scope=\"col\">종가</th>\\n          <th scope=\"col\">전일비</th>\\n          <th scope=\"col\">시가</th>\\n          <th scope=\"col\">고가</th>\\n          <th scope=\"col\">저가</th>\\n          <th scope=\"col\">거래량</th>\\n        </tr>\\n\\n        <tr>\\n          <td align=\"center \"><span class=\"date \">2019.10.23</span></td>\\n          <td class=\"num \"><span>13,250</span></td>\\n          <td class=\"num \">\\n            <img src=\"ico_down.gif \" width=\"7 \" height=\"6 \" style=\"margin-right:4px; \" alt=\"하락 \"><span class=\"tah p11 nv01 \">\\n                            100\\n                        </span>\\n          </td>\\n          <td class=\"num \"><span>13,400</span></td>\\n          <td class=\"num \"><span>13,450</span></td>\\n          <td class=\"num \"><span>13,150</span></td>\\n          <td class=\"num \"><span>83,405</span></td>\\n        </tr>\\n\\n\\n\\n        <tr>\\n          <td align=\"center\"><span class=\"date\">2019.10.22</span></td>\\n          <td class=\"num\"><span>13,350</span></td>\\n          <td class=\"num\">\\n            <img src=\"ico_down.gif\" width=\"7\" height=\"6\" style=\"margin-right:4px;\" alt=\"하락\"><span class=\"tah p11 nv01\">\\n                            150\\n                        </span>\\n          </td>\\n          <td class=\"num\"><span>13,500</span></td>\\n          <td class=\"num\"><span>13,600</span></td>\\n          <td class=\"num\"><span>13,250</span></td>\\n          <td class=\"num\"><span>160,439</span></td>\\n        </tr>\\n        <tr>\\n          <td align=\"center\"><span class=\"date\">2019.10.21</span></td>\\n          <td class=\"num\"><span>13,500</span></td>\\n          <td class=\"num\">\\n            <img src=\"ico_up.gif\" width=\"7\" height=\"6\" style=\"margin-right:4px;\" alt=\"상승\"><span>\\n                            450\\n                        </span>\\n          </td>\\n          <td class=\"num\"><span>13,150</span></td>\\n          <td class=\"num\"><span>13,550</span></td>\\n          <td class=\"num\"><span>13,000</span></td>\\n          <td class=\"num\"><span>237,001</span></td>\\n        </tr>\\n        <tr>\\n          <td align=\"center\"><span class=\"date\">2019.10.18</span></td>\\n          <td class=\"num\"><span>13,050</span></td>\\n          <td class=\"num\">\\n            <img src=\"ico_up.gif\" width=\"7\" height=\"6\" style=\"margin-right:4px;\" alt=\"상승\"><span>\\n                            350\\n                        </span>\\n          </td>\\n          <td class=\"num\"><span>12,850</span></td>\\n          <td class=\"num\"><span>13,450</span></td>\\n          <td class=\"num\"><span>12,850</span></td>\\n          <td class=\"num\"><span>278,034</span></td>\\n        </tr>\\n        <tr>\\n          <td align=\"center\"><span class=\"date\">2019.10.17</span></td>\\n          <td class=\"num\"><span>12,700</span></td>\\n          <td class=\"num\">\\n            <img src=\"ico_down.gif\" width=\"7\" height=\"6\" style=\"margin-right:4px;\" alt=\"하락\"><span class=\"tah p11 nv01\">\\n                            450\\n                        </span>\\n          </td>\\n          <td class=\"num\"><span>13,100</span></td>\\n          <td class=\"num\"><span>13,150</span></td>\\n          <td class=\"num\"><span>12,650</span></td>\\n          <td class=\"num\"><span>179,950</span></td>\\n        </tr>\\n\\n        <tr>\\n          <td align=\"center\"><span class=\"date\">2019.10.16</span></td>\\n          <td class=\"num\"><span>13,150</span></td>\\n          <td class=\"num\">\\n            <img src=\"ico_up.gif\" width=\"7\" height=\"6\" style=\"margin-right:4px;\" alt=\"상승\"><span>\\n                            600\\n                        </span>\\n          </td>\\n          <td class=\"num\"><span>12,650</span></td>\\n          <td class=\"num\"><span>13,800</span></td>\\n          <td class=\"num\"><span>12,650</span></td>\\n          <td class=\"num\"><span>615,073</span></td>\\n        </tr>\\n        <tr>\\n          <td align=\"center\"><span class=\"date\">2019.10.15</span></td>\\n          <td class=\"num\"><span>12,550</span></td>\\n          <td class=\"num\">\\n            <img src=\"ico_down.gif\" width=\"7\" height=\"6\" style=\"margin-right:4px;\" alt=\"하락\"><span class=\"tah p11 nv01\">\\n                            150\\n                        </span>\\n          </td>\\n          <td class=\"num\"><span>12,800</span></td>\\n          <td class=\"num\"><span>12,800</span></td>\\n          <td class=\"num\"><span>12,550</span></td>\\n          <td class=\"num\"><span>128,599</span></td>\\n        </tr>\\n        <tr>\\n          <td align=\"center\"><span class=\"date\">2019.10.14</span></td>\\n          <td class=\"num\"><span>12,700</span></td>\\n          <td class=\"num\">\\n            <span>0</span>\\n          </td>\\n          <td class=\"num\"><span>12,850</span></td>\\n          <td class=\"num\"><span>12,850</span></td>\\n          <td class=\"num\"><span>12,600</span></td>\\n          <td class=\"num\"><span>47,049</span></td>\\n        </tr>\\n        <tr>\\n          <td align=\"center\"><span class=\"date\">2019.10.11</span></td>\\n          <td class=\"num\"><span>12,700</span></td>\\n          <td class=\"num\">\\n            <img src=\"ico_up.gif\" width=\"7\" height=\"6\" style=\"margin-right:4px;\" alt=\"상승\"><span>\\n                            150\\n                        </span>\\n          </td>\\n          <td class=\"num\"><span>12,550</span></td>\\n          <td class=\"num\"><span>12,700</span></td>\\n          <td class=\"num\"><span>12,450</span></td>\\n          <td class=\"num\"><span>60,017</span></td>\\n        </tr>\\n        <tr>\\n          <td align=\"center\"><span class=\"date\">2019.10.10</span></td>\\n          <td class=\"num\"><span>12,550</span></td>\\n          <td class=\"num\">\\n            <span>0</span>\\n          </td>\\n          <td class=\"num\"><span>12,400</span></td>\\n          <td class=\"num\"><span>12,750</span></td>\\n          <td class=\"num\"><span>12,350</span></td>\\n          <td class=\"num\"><span>82,049</span></td>\\n        </tr>\\n\\n        <tr>\\n          <td align=\"center\"><span class=\"date\">2019.10.08</span></td>\\n          <td class=\"num\"><span>12,550</span></td>\\n          <td class=\"num\">\\n            <img src=\"ico_down.gif\" width=\"7\" height=\"6\" style=\"margin-right:4px;\" alt=\"하락\"><span class=\"tah p11 nv01\">\\n                            150\\n                        </span>\\n          </td>\\n          <td class=\"num\"><span>12,700</span></td>\\n          <td class=\"num\"><span>12,750</span></td>\\n          <td class=\"num\"><span>12,500</span></td>\\n          <td class=\"num\"><span>75,452</span></td>\\n        </tr>\\n        <tr>\\n          <td align=\"center\"><span class=\"date\">2019.10.07</span></td>\\n          <td class=\"num\"><span>12,700</span></td>\\n          <td class=\"num\">\\n            <img src=\"ico_down.gif\" width=\"7\" height=\"6\" style=\"margin-right:4px;\" alt=\"하락\"><span class=\"tah p11 nv01\">\\n                            50\\n                        </span>\\n          </td>\\n          <td class=\"num\"><span>12,700</span></td>\\n          <td class=\"num\"><span>12,800</span></td>\\n          <td class=\"num\"><span>12,550</span></td>\\n          <td class=\"num\"><span>98,403</span></td>\\n        </tr>\\n        <tr>\\n          <td align=\"center\"><span class=\"date\">2019.10.04</span></td>\\n          <td class=\"num\"><span>12,750</span></td>\\n          <td class=\"num\">\\n            <img src=\"ico_down.gif\" width=\"7\" height=\"6\" style=\"margin-right:4px;\" alt=\"하락\"><span class=\"tah p11 nv01\">\\n                            150\\n                        </span>\\n          </td>\\n          <td class=\"num\"><span>12,900</span></td>\\n          <td class=\"num\"><span>12,950</span></td>\\n          <td class=\"num\"><span>12,700</span></td>\\n          <td class=\"num\"><span>89,815</span></td>\\n        </tr>\\n        <tr>\\n          <td align=\"center\"><span class=\"date\">2019.10.02</span></td>\\n          <td class=\"num\"><span>12,900</span></td>\\n          <td class=\"num\">\\n            <img src=\"ico_down.gif\" width=\"7\" height=\"6\" style=\"margin-right:4px;\" alt=\"하락\"><span class=\"tah p11 nv01\">\\n                            450\\n                        </span>\\n          </td>\\n          <td class=\"num\"><span>13,250</span></td>\\n          <td class=\"num\"><span>13,300</span></td>\\n          <td class=\"num\"><span>12,900</span></td>\\n          <td class=\"num\"><span>157,254</span></td>\\n        </tr>\\n        <tr>\\n          <td align=\"center\"><span class=\"date\">2019.10.01</span></td>\\n          <td class=\"num\"><span>13,350</span></td>\\n          <td class=\"num\">\\n            <img src=\"ico_up.gif\" width=\"7\" height=\"6\" style=\"margin-right:4px;\" alt=\"상승\"><span>\\n                            50\\n                        </span>\\n          </td>\\n          <td class=\"num\"><span>13,250</span></td>\\n          <td class=\"num\"><span>13,400</span></td>\\n          <td class=\"num\"><span>13,050</span></td>\\n          <td class=\"num\"><span>125,442</span></td>\\n        </tr>\\n\\n        <tr>\\n          <td align=\"center\"><span class=\"date\">2019.09.30</span></td>\\n          <td class=\"num\"><span>13,300</span></td>\\n          <td class=\"num\">\\n            <img src=\"ico_up.gif\" width=\"7\" height=\"6\" style=\"margin-right:4px;\" alt=\"상승\"><span>\\n                            150\\n                        </span>\\n          </td>\\n          <td class=\"num\"><span>13,150</span></td>\\n          <td class=\"num\"><span>13,500</span></td>\\n          <td class=\"num\"><span>13,100</span></td>\\n          <td class=\"num\"><span>131,064</span></td>\\n        </tr>\\n        <tr>\\n          <td align=\"center\"><span class=\"date\">2019.09.27</span></td>\\n          <td class=\"num\"><span>13,150</span></td>\\n          <td class=\"num\">\\n            <img src=\"ico_up.gif\" width=\"7\" height=\"6\" style=\"margin-right:4px;\" alt=\"상승\"><span>\\n                            100\\n                        </span>\\n          </td>\\n          <td class=\"num\"><span>12,950</span></td>\\n          <td class=\"num\"><span>13,150</span></td>\\n          <td class=\"num\"><span>12,900</span></td>\\n          <td class=\"num\"><span>52,919</span></td>\\n        </tr>\\n        <tr>\\n          <td align=\"center\"><span class=\"date\">2019.09.26</span></td>\\n          <td class=\"num\"><span>13,050</span></td>\\n          <td class=\"num\">\\n            <span>0</span>\\n          </td>\\n          <td class=\"num\"><span>13,200</span></td>\\n          <td class=\"num\"><span>13,200</span></td>\\n          <td class=\"num\"><span>12,950</span></td>\\n          <td class=\"num\"><span>153,270</span></td>\\n        </tr>\\n        <tr>\\n          <td align=\"center\"><span class=\"date\">2019.09.25</span></td>\\n          <td class=\"num\"><span>13,050</span></td>\\n          <td class=\"num\">\\n            <img src=\"ico_down.gif\" width=\"7\" height=\"6\" style=\"margin-right:4px;\" alt=\"하락\"><span class=\"tah p11 nv01\">\\n                            300\\n                        </span>\\n          </td>\\n          <td class=\"num\"><span>13,300</span></td>\\n          <td class=\"num\"><span>13,600</span></td>\\n          <td class=\"num\"><span>13,050</span></td>\\n          <td class=\"num\"><span>227,991</span></td>\\n        </tr>\\n        <tr>\\n          <td align=\"center\"><span class=\"date\">2019.09.24</span></td>\\n          <td class=\"num\"><span>13,350</span></td>\\n          <td class=\"num\">\\n            <img src=\"ico_up.gif\" width=\"7\" height=\"6\" style=\"margin-right:4px;\" alt=\"상승\"><span>\\n                            50\\n                        </span>\\n          </td>\\n          <td class=\"num\"><span>13,250</span></td>\\n          <td class=\"num\"><span>13,750</span></td>\\n          <td class=\"num\"><span>13,250</span></td>\\n          <td class=\"num\"><span>204,286</span></td>\\n        </tr>\\n      </tbody>\\n    </table>\\n  </div>\\n  <div class=\"main\">\\n    <h2 id=\"제주코딩베이스캠프학원\">제주코딩베이스캠프 학원</h2>\\n    <h3><span style=\"color: salmon\">일별</span> 시세</h3>\\n    <table class=\"table table-hover\">\\n      <tbody>\\n        <tr>\\n          <th scope=\"col\">날짜</th>\\n          <th scope=\"col\">종가</th>\\n          <th scope=\"col\">전일비</th>\\n          <th scope=\"col\">시가</th>\\n          <th scope=\"col\">고가</th>\\n          <th scope=\"col\">저가</th>\\n          <th scope=\"col\">거래량</th>\\n        </tr>\\n\\n\\n        <tr>\\n          <td align=\"center \"><span class=\"date \">2019.10.23</span></td>\\n          <td class=\"num \"><span>2,600</span></td>\\n          <td class=\"num \">\\n            <img src=\"ico_up.gif \" width=\"7 \" height=\"6 \" style=\"margin-right:4px; \"><span>\\n                            600\\n                        </span>\\n          </td>\\n          <td class=\"num \"><span>2,055</span></td>\\n          <td class=\"num \"><span>2,600</span></td>\\n          <td class=\"num \"><span>2,020</span></td>\\n          <td class=\"num \"><span>2,203,110</span></td>\\n        </tr>\\n\\n\\n\\n        <tr>\\n          <td align=\"center\"><span class=\"date\">2019.10.22</span></td>\\n          <td class=\"num\"><span>2,000</span></td>\\n          <td class=\"num\">\\n            <img src=\"ico_up.gif\" width=\"7\" height=\"6\" style=\"margin-right:4px;\" alt=\"상승\"><span>\\n                            5\\n                        </span>\\n          </td>\\n          <td class=\"num\"><span>1,985</span></td>\\n          <td class=\"num\"><span>2,005</span></td>\\n          <td class=\"num\"><span>1,980</span></td>\\n          <td class=\"num\"><span>32,212</span></td>\\n        </tr>\\n        <tr>\\n          <td align=\"center\"><span class=\"date\">2019.10.21</span></td>\\n          <td class=\"num\"><span>1,995</span></td>\\n          <td class=\"num\">\\n            <img src=\"ico_down.gif\" width=\"7\" height=\"6\" style=\"margin-right:4px;\" alt=\"하락\"><span class=\"tah p11 nv01\">\\n                            30\\n                        </span>\\n          </td>\\n          <td class=\"num\"><span>2,025</span></td>\\n          <td class=\"num\"><span>2,035</span></td>\\n          <td class=\"num\"><span>1,975</span></td>\\n          <td class=\"num\"><span>35,186</span></td>\\n        </tr>\\n        <tr>\\n          <td align=\"center\"><span class=\"date\">2019.10.18</span></td>\\n          <td class=\"num\"><span>2,025</span></td>\\n          <td class=\"num\">\\n            <img src=\"ico_up.gif\" width=\"7\" height=\"6\" style=\"margin-right:4px;\" alt=\"상승\"><span>\\n                            40\\n                        </span>\\n          </td>\\n          <td class=\"num\"><span>1,985</span></td>\\n          <td class=\"num\"><span>2,050</span></td>\\n          <td class=\"num\"><span>1,980</span></td>\\n          <td class=\"num\"><span>108,481</span></td>\\n        </tr>\\n        <tr>\\n          <td align=\"center\"><span class=\"date\">2019.10.17</span></td>\\n          <td class=\"num\"><span>1,985</span></td>\\n          <td class=\"num\">\\n            <img src=\"ico_up.gif\" width=\"7\" height=\"6\" style=\"margin-right:4px;\" alt=\"상승\"><span>\\n                            10\\n                        </span>\\n          </td>\\n          <td class=\"num\"><span>1,980</span></td>\\n          <td class=\"num\"><span>1,990</span></td>\\n          <td class=\"num\"><span>1,955</span></td>\\n          <td class=\"num\"><span>20,766</span></td>\\n        </tr>\\n\\n        <tr>\\n          <td align=\"center\"><span class=\"date\">2019.10.16</span></td>\\n          <td class=\"num\"><span>1,975</span></td>\\n          <td class=\"num\">\\n            <img src=\"ico_down.gif\" width=\"7\" height=\"6\" style=\"margin-right:4px;\" alt=\"하락\"><span class=\"tah p11 nv01\">\\n                            5\\n                        </span>\\n          </td>\\n          <td class=\"num\"><span>1,985</span></td>\\n          <td class=\"num\"><span>1,995</span></td>\\n          <td class=\"num\"><span>1,970</span></td>\\n          <td class=\"num\"><span>19,243</span></td>\\n        </tr>\\n        <tr>\\n          <td align=\"center\"><span class=\"date\">2019.10.15</span></td>\\n          <td class=\"num\"><span>1,980</span></td>\\n          <td class=\"num\">\\n            <img src=\"ico_up.gif\" width=\"7\" height=\"6\" style=\"margin-right:4px;\" alt=\"상승\"><span>\\n                            20\\n                        </span>\\n          </td>\\n          <td class=\"num\"><span>1,970</span></td>\\n          <td class=\"num\"><span>1,980</span></td>\\n          <td class=\"num\"><span>1,960</span></td>\\n          <td class=\"num\"><span>35,658</span></td>\\n        </tr>\\n        <tr>\\n          <td align=\"center\"><span class=\"date\">2019.10.14</span></td>\\n          <td class=\"num\"><span>1,960</span></td>\\n          <td class=\"num\">\\n            <span>0</span>\\n          </td>\\n          <td class=\"num\"><span>1,955</span></td>\\n          <td class=\"num\"><span>1,970</span></td>\\n          <td class=\"num\"><span>1,935</span></td>\\n          <td class=\"num\"><span>26,698</span></td>\\n        </tr>\\n        <tr>\\n          <td align=\"center\"><span class=\"date\">2019.10.11</span></td>\\n          <td class=\"num\"><span>1,960</span></td>\\n          <td class=\"num\">\\n            <img src=\"ico_up.gif\" width=\"7\" height=\"6\" style=\"margin-right:4px;\" alt=\"상승\"><span>\\n                            45\\n                        </span>\\n          </td>\\n          <td class=\"num\"><span>1,925</span></td>\\n          <td class=\"num\"><span>1,965</span></td>\\n          <td class=\"num\"><span>1,910</span></td>\\n          <td class=\"num\"><span>45,469</span></td>\\n        </tr>\\n        <tr>\\n          <td align=\"center\"><span class=\"date\">2019.10.10</span></td>\\n          <td class=\"num\"><span>1,915</span></td>\\n          <td class=\"num\">\\n            <img src=\"ico_up.gif\" width=\"7\" height=\"6\" style=\"margin-right:4px;\" alt=\"상승\"><span>\\n                            15\\n                        </span>\\n          </td>\\n          <td class=\"num\"><span>1,885</span></td>\\n          <td class=\"num\"><span>1,915</span></td>\\n          <td class=\"num\"><span>1,885</span></td>\\n          <td class=\"num\"><span>32,773</span></td>\\n        </tr>\\n\\n        <tr>\\n          <td align=\"center\"><span class=\"date\">2019.10.08</span></td>\\n          <td class=\"num\"><span>1,900</span></td>\\n          <td class=\"num\">\\n            <img src=\"ico_down.gif\" width=\"7\" height=\"6\" style=\"margin-right:4px;\" alt=\"하락\"><span class=\"tah p11 nv01\">\\n                            20\\n                        </span>\\n          </td>\\n          <td class=\"num\"><span>1,915</span></td>\\n          <td class=\"num\"><span>1,935</span></td>\\n          <td class=\"num\"><span>1,885</span></td>\\n          <td class=\"num\"><span>62,433</span></td>\\n        </tr>\\n        <tr>\\n          <td align=\"center\"><span class=\"date\">2019.10.07</span></td>\\n          <td class=\"num\"><span>1,920</span></td>\\n          <td class=\"num\">\\n            <img src=\"ico_down.gif\" width=\"7\" height=\"6\" style=\"margin-right:4px;\" alt=\"하락\"><span class=\"tah p11 nv01\">\\n                            50\\n                        </span>\\n          </td>\\n          <td class=\"num\"><span>1,970</span></td>\\n          <td class=\"num\"><span>1,980</span></td>\\n          <td class=\"num\"><span>1,895</span></td>\\n          <td class=\"num\"><span>89,504</span></td>\\n        </tr>\\n        <tr>\\n          <td align=\"center\"><span class=\"date\">2019.10.04</span></td>\\n          <td class=\"num\"><span>1,970</span></td>\\n          <td class=\"num\">\\n            <img src=\"ico_down.gif\" width=\"7\" height=\"6\" style=\"margin-right:4px;\" alt=\"하락\"><span class=\"tah p11 nv01\">\\n                            20\\n                        </span>\\n          </td>\\n          <td class=\"num\"><span>1,980</span></td>\\n          <td class=\"num\"><span>2,005</span></td>\\n          <td class=\"num\"><span>1,970</span></td>\\n          <td class=\"num\"><span>47,894</span></td>\\n        </tr>\\n        <tr>\\n          <td align=\"center\"><span class=\"date\">2019.10.02</span></td>\\n          <td class=\"num\"><span>1,990</span></td>\\n          <td class=\"num\">\\n            <span>0</span>\\n          </td>\\n          <td class=\"num\"><span>1,975</span></td>\\n          <td class=\"num\"><span>2,030</span></td>\\n          <td class=\"num\"><span>1,965</span></td>\\n          <td class=\"num\"><span>74,176</span></td>\\n        </tr>\\n        <tr>\\n          <td align=\"center\"><span class=\"date\">2019.10.01</span></td>\\n          <td class=\"num\"><span>1,990</span></td>\\n          <td class=\"num\">\\n            <img src=\"ico_up.gif\" width=\"7\" height=\"6\" style=\"margin-right:4px;\" alt=\"상승\"><span>\\n                            20\\n                        </span>\\n          </td>\\n          <td class=\"num\"><span>1,975</span></td>\\n          <td class=\"num\"><span>2,005</span></td>\\n          <td class=\"num\"><span>1,965</span></td>\\n          <td class=\"num\"><span>44,690</span></td>\\n        </tr>\\n\\n        <tr>\\n          <td align=\"center\"><span class=\"date\">2019.09.30</span></td>\\n          <td class=\"num\"><span>1,970</span></td>\\n          <td class=\"num\">\\n            <img src=\"ico_down.gif\" width=\"7\" height=\"6\" style=\"margin-right:4px;\" alt=\"하락\"><span class=\"tah p11 nv01\">\\n                            5\\n                        </span>\\n          </td>\\n          <td class=\"num\"><span>1,980</span></td>\\n          <td class=\"num\"><span>2,000</span></td>\\n          <td class=\"num\"><span>1,970</span></td>\\n          <td class=\"num\"><span>34,087</span></td>\\n        </tr>\\n        <tr>\\n          <td align=\"center\"><span class=\"date\">2019.09.27</span></td>\\n          <td class=\"num\"><span>1,975</span></td>\\n          <td class=\"num\">\\n            <img src=\"ico_up.gif\" width=\"7\" height=\"6\" style=\"margin-right:4px;\" alt=\"상승\"><span>\\n                            5\\n                        </span>\\n          </td>\\n          <td class=\"num\"><span>1,975</span></td>\\n          <td class=\"num\"><span>2,060</span></td>\\n          <td class=\"num\"><span>1,965</span></td>\\n          <td class=\"num\"><span>109,372</span></td>\\n        </tr>\\n        <tr>\\n          <td align=\"center\"><span class=\"date\">2019.09.26</span></td>\\n          <td class=\"num\"><span>1,970</span></td>\\n          <td class=\"num\">\\n            <img src=\"ico_down.gif\" width=\"7\" height=\"6\" style=\"margin-right:4px;\" alt=\"하락\"><span class=\"tah p11 nv01\">\\n                            30\\n                        </span>\\n          </td>\\n          <td class=\"num\"><span>2,000</span></td>\\n          <td class=\"num\"><span>2,035</span></td>\\n          <td class=\"num\"><span>1,950</span></td>\\n          <td class=\"num\"><span>83,120</span></td>\\n        </tr>\\n        <tr>\\n          <td align=\"center\"><span class=\"date\">2019.09.25</span></td>\\n          <td class=\"num\"><span>2,000</span></td>\\n          <td class=\"num\">\\n            <img src=\"ico_down.gif\" width=\"7\" height=\"6\" style=\"margin-right:4px;\" alt=\"하락\"><span class=\"tah p11 nv01\">\\n                            65\\n                        </span>\\n          </td>\\n          <td class=\"num\"><span>2,065</span></td>\\n          <td class=\"num\"><span>2,065</span></td>\\n          <td class=\"num\"><span>1,985</span></td>\\n          <td class=\"num\"><span>78,144</span></td>\\n        </tr>\\n        <tr>\\n          <td align=\"center\"><span class=\"date\">2019.09.24</span></td>\\n          <td class=\"num\"><span>2,065</span></td>\\n          <td class=\"num\">\\n            <img src=\"ico_up.gif\" width=\"7\" height=\"6\" style=\"margin-right:4px;\" alt=\"상승\"><span>\\n                            30\\n                        </span>\\n          </td>\\n          <td class=\"num\"><span>2,020</span></td>\\n          <td class=\"num\"><span>2,090</span></td>\\n          <td class=\"num\"><span>2,020</span></td>\\n          <td class=\"num\"><span>139,085</span></td>\\n        </tr>\\n      </tbody>\\n    </table>\\n  </div>\\n\\n<script src=\"https://code.jquery.com/jquery-3.5.1.js\"></script>\\n<script type=\"text/javascript\">\\n  $(\\'.help\\').hover(function() {\\n    $(\\'.lyr_section\\').css(\\'display\\', \\'block\\');\\n  }, function() {\\n    $(\\'.lyr_section\\').css(\\'display\\', \\'none\\');\\n  });\\n\\n</script>\\n</body>\\n\\n</html>\\n'"
            ],
            "application/vnd.google.colaboratory.intrinsic+json": {
              "type": "string"
            }
          },
          "metadata": {},
          "execution_count": 7
        }
      ]
    },
    {
      "cell_type": "code",
      "source": [
        "params = {'pa1': 'val1', 'pa2': 'value2'}\n",
        "response = requests.get('http://www.paullab.co.kr', params=params)\n",
        "# response.text\n",
        "response.url"
      ],
      "metadata": {
        "colab": {
          "base_uri": "https://localhost:8080/",
          "height": 157
        },
        "id": "Vvahzg-jhx1x",
        "outputId": "d5841f32-7204-44cc-b9bb-2ace077c2521"
      },
      "execution_count": null,
      "outputs": [
        {
          "output_type": "execute_result",
          "data": {
            "text/plain": [
              "'<!DOCTYPE html>\\n<html lang=\"ko\">\\n\\n<head>\\n  <meta charset=\"utf-8\">\\n  <meta name=\"viewport\" content=\"width=device-width, initial-scale=1\">\\n  <meta http-equiv=\"X-UA-Compatible\" content=\"ie=edge\">\\n  <!-- 네이버 추적코드 삽입 -->\\n  <meta name=\"naver-site-verification\" content=\"f6051afcd291f3ccef7b8f01128dfc92d14563a4\">\\n  <meta property=\"og:type\" content=\"website\">\\n  <meta property=\"og:title\" content=\"바울랩, 위니브\">\\n  <meta name=\"description\" content=\"제주 ICT 코딩 컴퓨터학원, 연구원, 출판사\">\\n  <meta property=\"og:description\" content=\"제주 ICT 코딩 컴퓨터학원, 연구원, 출판사\">\\n  <meta property=\"og:image\" content=\"http://paullab.co.kr/images/jejucoding.png\">\\n  <meta property=\"og:url\" content=\"http://paullab.co.kr\">\\n  <!-- favicon -->\\n  <link rel=\"shortcut icon\" type=\"image/x-icon\" href=\"favicon.ico\">\\n  <link rel=\"stylesheet\" type=\"text/css\" href=\"https://pro.fontawesome.com/releases/v5.10.0/css/all.css\"\\n    integrity=\"sha384-AYmEC3Yw5cVb3ZcuHtOA93w35dYTsvhLPVnYs9eStHfGJvOvKxVfELGroGkvsg+p\" crossorigin=\"anonymous\">\\n  <link rel=\"stylesheet\" type=\"text/css\" href=\"https://fonts.googleapis.com/css2?family=Nanum+Gothic&display=swap\">\\n  <link rel=\"stylesheet\" type=\"text/css\" href=\"css/reset.css\">\\n  <link rel=\"stylesheet\" type=\"text/css\" href=\"css/style.css\">\\n  <title>Jeju Coding BaseCamp</title>\\n  <!--\\n  구글 Analytics 스크립트 삽입\\n  Global site tag (gtag.js) - Google Analytics\\n  -->\\n  <script async src=\"https://www.googletagmanager.com/gtag/js?id=UA-72047520-1\"></script>\\n  <script>\\n    window.dataLayer = window.dataLayer || [];\\n    function gtag() {\\n      dataLayer.push(arguments);\\n    }\\n    gtag(\"js\", new Date());\\n    gtag(\"config\", \"UA-72047520-1\");\\n  </script>\\n  <!-- //구글 Analytics 스크립트 삽입 -->\\n</head>\\n\\n<body>\\n  <!-- 모바일 세로모드 적용 -->\\n  <div id=\"message\">\\n    <div class=\"message__img\">\\n      <img src=\"images/message_licat.png\" alt=\"메세지_라이캣\" />\\n    </div>\\n    <p>해당 웹 페이지는 가로모드만 지원합니다.</p>\\n  </div>\\n  <!-- //모바일 세로모드 적용 -->\\n  <section id=\"header\">\\n    <div class=\"home\">\\n      <a href=\"index.html\" class=\"home__btn\">\\n        <p>JEJU CODING BASECAMP</p>\\n      </a>\\n    </div>\\n    <!-- 음악 삽입 -->\\n    <!-- 1번_childrens-game by ziv-moran Artlist-->\\n    <div class=\"bgm__button--play\"></div>\\n    <div class=\"bgm__button--pause\"></div>\\n    <!-- <audio loop class=\"bgm\">\\n      <source src=\"https://drive.google.com/uc?export=download&id=1xbevC0q-fNUDuoFCSLUdot0OIO81LgpE\" type=\"audio/mp3\" >\\n    </audio> -->\\n    <!-- //음악삽입 -->\\n    <!-- 새소식 -->\\n    <div class=\"news\" onclick=\"openModal()\">\\n      <div class=\"news__bird\"></div>\\n    </div>\\n    <!-- //새소식 -->\\n  </section>\\n  <!-- main section -->\\n  <section id=\"main-container\">\\n    <h2>메인 컨텐츠</h2>\\n    <div id=\"background-img\"></div>\\n    <div class=\"main__wrapper\">\\n      <!-- jeju-img -->\\n      <div id=\"jeju-img\">\\n        <!-- menu -->\\n        <div class=\"menu__hallasan\">\\n          <a href=\"http://www.jejucodingcamp.com/\" target=\"_blank\">\\n            <img src=\"images/menu_hallasan.png\" class=\"menu__hallasan__img\" alt=\"메뉴_한라산\" />\\n          </a>\\n        </div>\\n        <div class=\"menu menu__paullab\">\\n          <a href=\"about.html\">\\n            <div class=\"menu__paullab--frame\"></div>\\n          </a>\\n          <h4>About</h4>\\n        </div>\\n        <div class=\"menu menu__youtube\">\\n          <a href=\"https://www.youtube.com/channel/UC4GnvNKtuJ4cqWsYjxNxAEQ\" target=\"_blank\">\\n            <div class=\"menu__youtube--python\"></div>\\n            <h4>유튜브</h4>\\n          </a>\\n        </div>\\n        <div class=\"menu menu__store\">\\n          <a href=\" http://smartstore.naver.com/weniv_store\" target=\"_blank\">\\n            <div class=\"menu__store--mura\"></div>\\n          </a>\\n          <h4>Store</h4>\\n        </div>\\n        <div class=\"menu menu__recruitment\">\\n          <a href=\"https://www.notion.so/paullabworkspace/Team-recruitment-c3d8061a76ad40b8a73f4493cf92a263\">\\n            <div class=\"menu__recruitment--gary\"></div>\\n          </a>\\n          <h4>채용 정보</h4>\\n        </div>\\n        <div class=\"menu menu__online_lec\">\\n          <a href=\"https://www.inflearn.com/instructors/170213/courses\" target=\"_blank\">\\n            <div class=\"menu__online_lec--soulgom\"></div>\\n          </a>\\n          <h4>온라인 강의</h4>\\n        </div>\\n        <div class=\"menu menu__intro\">\\n          <a href=\"weniv.html\">\\n            <div class=\"menu__intro--licat\">\\n              <img src=\"images/animation_licat_no_hand.png\" alt=\"animation_licat_no_hand\" />\\n              <img src=\"images/animation_licat_hand.png\" class=\"hand\" alt=\"animation_licat_hand\" />\\n            </div>\\n          </a>\\n          <h4>캐릭터 소개</h4>\\n        </div>\\n        <div class=\"menu menu__referenceroom\">\\n          <a href=\"referenceroom.html\">\\n            <div class=\"menu__referenceroom--javadog\"></div>\\n          </a>\\n          <h4>자료실</h4>\\n        </div>\\n        <div class=\"menu menu__curriculum\">\\n          <a href=\"curriculum.html\">\\n            <div class=\"menu__curriculum--binky\"></div>\\n          </a>\\n          <h4>커리큘럼</h4>\\n        </div>\\n        <!-- //menu -->\\n        <!-- etc -->\\n        <div class=\"windmill scale\">\\n          <div class=\"windmill_base\">\\n            <img src=\"images/windmill_base.png\" alt=\"windmill_base\" />\\n          </div>\\n          <div class=\"windmill--wind\">\\n            <img src=\"images/windmill_wind1.png\" alt=\"wind1\" class=\"wind1\" />\\n            <img src=\"images/windmill_wind1.png\" alt=\"wind2\" class=\"wind2\" />\\n          </div>\\n        </div>\\n        <div class=\"parasol etc\">\\n          <a href=\"http://paullab.co.kr/codefestival.html\">\\n            <img src=\"images/menu_parasol.png\" alt=\"메뉴_파라솔\" />\\n          </a>\\n        </div>\\n        <div class=\"hallabong etc\">\\n          <a href=\"http://paullab.co.kr/stock.html\">\\n            <img src=\"images/menu_hallabong.png\" alt=\"메뉴_한라봉\" />\\n          </a>\\n        </div>\\n        <!-- // etc -->\\n        <!-- dolharbang -->\\n        <div class=\"dolharbang\">\\n          <a href=\"halloffame.html\">\\n            <img src=\"images/menu_dolharbang.png\" alt=\"메뉴_돌하르방\" />\\n          </a>\\n        </div>\\n        <!-- //dolharbang -->\\n        <!-- hallabongTree -->\\n        <div class=\"hallabongTree\">\\n          <a href=\"10000hours.html\">\\n            <img src=\"images/menu_hallabong_tree.png\" alt=\"메뉴_1만시간의법칙\" />\\n          </a>\\n        </div>\\n        <!-- //hallabongTree -->\\n        <!-- supporters -->\\n        <div class=\"supporters\">\\n          <a href=\"https://ambassador.weniv.co.kr/\" target=\"_blank\">\\n            <img src=\"images/menu_supporters.png\" alt=\"메뉴_엠버서더\" />\\n          </a>\\n        </div>\\n        <!-- //supporters -->\\n        <!-- mbit_test -->\\n        <div class=\"mbit_test\">\\n          <a href=\"https://mbit.weniv.co.kr/\" target=\"_blank\">\\n            <img src=\"images/menu_mbit.png\" alt=\"메뉴_mbit테스트\" />\\n          </a>\\n        </div>\\n        <!-- //mbit_test -->\\n      </div>\\n      <!-- //jeju-img -->\\n      <!-- sns -->\\n      <div class=\"sns\">\\n        <div class=\"sns__wrap\">\\n          <div class=\"instagram\">\\n            <a href=\"https://www.instagram.com/weniv_official/\" target=\"_blank\">\\n              <img src=\"images/sns_instagram.png\" alt=\"sns_인스타그램\" />\\n            </a>\\n          </div>\\n          <div class=\"facebook\">\\n            <a href=\"https://www.facebook.com/제주-코딩-베이스캠프-1512494142177634/\" target=\"_blank\">\\n              <img src=\"images/sns_facebook.png\" alt=\"sns_페이스북\" />\\n            </a>\\n          </div>\\n          <div class=\"naver\">\\n            <a href=\"https://blog.naver.com/paul-lab\" target=\"_blank\"><img src=\"images/sns_naverblog.png\"\\n                alt=\"sns_네이버블로그\" /></a>\\n          </div>\\n          <div class=\"tistory\">\\n            <a href=\"https://paullab.tistory.com\" target=\"_blank\"><img src=\"images/sns_tistory.png\"\\n                alt=\"sns_티스토리\" /></a>\\n          </div>\\n        </div>\\n      </div>\\n      <!-- //sns -->\\n    </div>\\n    <!-- //main__wrapper -->\\n  </section>\\n  <!-- //main section -->\\n\\n  <!-- 모달 -->\\n  <div id=\"modal\">\\n    <div class=\"modal__wrap\">\\n      <div class=\"modal__window\">\\n        <div class=\"modal__header\">\\n          <div class=\"modal__title\">\\n            <p>\\n              새 소 식\\n            </p>\\n          </div>\\n          <div class=\"close__btn\" onclick=\"closeModal()\">\\n            <i class=\"fas fa-times\"></i>\\n          </div>\\n        </div>\\n        <div class=\"modal__content\">\\n          <!-- 새로운 공지는 post 클래스 복사 -->\\n          <!-- post 1 -->\\n          <div class=\"post\">\\n            <div class=\"post__img\">\\n            </div>\\n            <div class=\"post__item\">\\n              <h4 class=\"post__title\">\\n                바울랩 오프라인 강좌 공지!\\n              </h4>\\n              <p class=\"post__explanation\">\\n                현재 접수 중인 오프라인 강좌가 없습니다. 아래 링크를 통해 온라인 강좌를 확인해 주세요.\\n              </p>\\n              <a href=\"https://www.inflearn.com/instructors/170213/courses\" target=\"_blank\" class=\"readmore__btn\">\\n                <i class=\"fa fa-arrow-circle-right\"></i> 제코베 온라인 강좌 알아보기🏃\\u200d♂️\\n              </a>\\n            </div>\\n          </div>\\n          <!-- post1 -->\\n\\n          <!-- post2 -->\\n          <div class=\"post\">\\n            <div class=\"post__item\">\\n              <h4 class=\"post__title\">\\n                단체 카톡방 공지!🧚\\u200d♀️\\n              </h4>\\n              <p class=\"post__explanation\">\\n                제주 ICT관련 정보, 행사 정보, 전국 ICT 정보, 행사 정보, 채용정보, 개강정보 등을 단톡방을 통해 드리고 있습니다.<br>\\n                대화는 하지 않는 단톡방이며, 혹시 단톡방 정보를 받지 못하신\\n                분은 <strong>대표 번호(010-5044-2903)</strong>로 연락주시고, 초대링크를 받아주세요.<br>감사합니다.\\n              </p>\\n            </div>\\n          </div>\\n          <!-- //post 2 -->\\n        </div>\\n        <div class=\"modal__footer\"></div>\\n      </div>\\n    </div>\\n  </div>\\n  <!-- //모달 -->\\n\\n  <script type=\"text/javascript\">\\n    const bird = document.querySelector(\".bird\");\\n    const modal = document.querySelector(\"#modal\");\\n    function openModal() {\\n      modal.classList.add(\"on\");\\n    }\\n    function closeModal() {\\n      modal.classList.remove(\"on\");\\n    }\\n    window.onclick = function (event) {\\n      if (event.target == modal) {\\n        modal.classList.remove(\"on\");\\n      }\\n    };\\n    window.addEventListener(\"onclick\", openModal);\\n    window.addEventListener(\"onclick\", closeModal);\\n\\n    //음악 재생\\n    const bgm_button_play = document.querySelector(\\'.bgm__button--play\\');\\n    const bgm_button_pause = document.querySelector(\\'.bgm__button--pause\\');\\n    const portraitMedia = window.matchMedia(\\'only screen and (orientation: portrait)\\');\\n\\n    const audio = new Audio();\\n    audio.src = \"https://drive.google.com/uc?export=download&id=1xbevC0q-fNUDuoFCSLUdot0OIO81LgpE\";\\n    audio.autoplay = true;\\n    audio.loop = true;\\n\\n    if (audio.paused) {\\n      bgm_button_play.classList.add(\\'bgm__button--disactive\\');\\n      bgm_button_pause.classList.add(\\'bgm__button--active\\');\\n    }\\n\\n    function musicPlay() {\\n      if (audio.paused) {\\n        audio.play();\\n        bgm_button_play.classList.add(\\'bgm__button--disactive\\');\\n        bgm_button_pause.classList.add(\\'bgm__button--active\\');\\n        document.removeEventListener(\\'click\\', musicPlay);\\n      } else {\\n        audio.pause();\\n        audio.currentTime = 0;\\n        bgm_button_play.classList.remove(\\'bgm__button--disactive\\');\\n        bgm_button_pause.classList.remove(\\'bgm__button--active\\');\\n      }\\n    }\\n    window.onresize = function () {\\n      if (portraitMedia.matches == true) {\\n        console.log(\\'stop\\');\\n        musicStop();\\n      }\\n    };\\n    bgm_button_play.addEventListener(\\'click\\', musicPlay);\\n    document.addEventListener(\\'click\\', musicPlay);\\n    bgm_button_pause.addEventListener(\\'click\\', musicPlay);\\n\\n    //페이지 어디든지 클릭만 하게하면 음악재생\\n    // function musicPlay(){\\n    // document.getElementById(\\'bgm\\').play();\\n    // document.removeEventListener(\\'click\\', musicPlay);\\n    // }\\n    // document.addEventListener(\\'click\\', musicPlay);\\n  </script>\\n</body>\\n\\n</html>'"
            ],
            "application/vnd.google.colaboratory.intrinsic+json": {
              "type": "string"
            }
          },
          "metadata": {},
          "execution_count": 8
        }
      ]
    },
    {
      "cell_type": "code",
      "source": [
        "import requests\n",
        "from bs4 import BeautifulSoup\n",
        "\n",
        "response = requests.get('http://www.paullab.co.kr/stock.html')\n",
        "# response.encoding = 'utf-8'\n",
        "html = response.text\n",
        "\n",
        "soup = BeautifulSoup(html, 'html.parser') # 원하는 문자열로 잘라줌"
      ],
      "metadata": {
        "id": "aS_oT-Jpk7iM"
      },
      "execution_count": null,
      "outputs": []
    },
    {
      "cell_type": "code",
      "source": [
        "print(soup.prettify()) # html 문서형식으로 출력"
      ],
      "metadata": {
        "id": "jx8Uhv0QlNbN"
      },
      "execution_count": null,
      "outputs": []
    },
    {
      "cell_type": "code",
      "source": [
        "soup.title"
      ],
      "metadata": {
        "colab": {
          "base_uri": "https://localhost:8080/"
        },
        "id": "I5IimTOwmFDD",
        "outputId": "c124b7f0-8077-4e56-8d22-2c62ba400a34"
      },
      "execution_count": null,
      "outputs": [
        {
          "output_type": "execute_result",
          "data": {
            "text/plain": [
              "<title>Document</title>"
            ]
          },
          "metadata": {},
          "execution_count": 11
        }
      ]
    },
    {
      "cell_type": "code",
      "source": [
        "soup.head"
      ],
      "metadata": {
        "id": "q477KJ0nmHtG"
      },
      "execution_count": null,
      "outputs": []
    },
    {
      "cell_type": "code",
      "source": [
        "soup.select('#update')"
      ],
      "metadata": {
        "colab": {
          "base_uri": "https://localhost:8080/"
        },
        "id": "FnIAugEgmJut",
        "outputId": "5d123786-4d9c-46ff-8289-1f52b158b1ad"
      },
      "execution_count": null,
      "outputs": [
        {
          "output_type": "execute_result",
          "data": {
            "text/plain": [
              "[<span id=\"update\">update : 20.12.30 / 해외 크롤링이 Block되어 있으므로 크롤링이 안되시는 분은 이 URL(http://paullab.synology.me/stock.html)을 사용하세요.</span>]"
            ]
          },
          "metadata": {},
          "execution_count": 13
        }
      ]
    },
    {
      "cell_type": "code",
      "source": [
        "# soup.select('#_market_sum')\n",
        "soup.select('#_market_sum')[0]"
      ],
      "metadata": {
        "colab": {
          "base_uri": "https://localhost:8080/"
        },
        "id": "X3rOeLwPmcaq",
        "outputId": "2a55430d-60c5-4ebd-b6bd-3eaf98ab38f7"
      },
      "execution_count": null,
      "outputs": [
        {
          "output_type": "execute_result",
          "data": {
            "text/plain": [
              "<em id=\"_market_sum\">349조 2,323</em>"
            ]
          },
          "metadata": {},
          "execution_count": 4
        }
      ]
    },
    {
      "cell_type": "code",
      "source": [
        "soup.select('.date')[0].text\n",
        "soup.select('.num')[5].text # 포털사는 클래스 이름을 주기적으로 변경할 수 있어서 실행이 안될수도있습니다\n",
        "soup.select('.table > tbody > tr')[1].select('td')[6].text"
      ],
      "metadata": {
        "colab": {
          "base_uri": "https://localhost:8080/",
          "height": 35
        },
        "id": "H8AGwU32nYNG",
        "outputId": "f6896d64-492b-4745-fcd1-9e04f0a6be62"
      },
      "execution_count": null,
      "outputs": [
        {
          "output_type": "execute_result",
          "data": {
            "text/plain": [
              "'398,421'"
            ],
            "application/vnd.google.colaboratory.intrinsic+json": {
              "type": "string"
            }
          },
          "metadata": {},
          "execution_count": 14
        }
      ]
    },
    {
      "cell_type": "code",
      "source": [
        "import matplotlib.pyplot as plt\n",
        "\n",
        "plt.plot([10, 20, 30, 20, 25, 45])\n",
        "plt.xticks(rotation = -45 ) # y 축 변수 기울기 설정\n",
        "plt.show()"
      ],
      "metadata": {
        "colab": {
          "base_uri": "https://localhost:8080/",
          "height": 432
        },
        "id": "gjhAeZ-6ptin",
        "outputId": "158d50f4-7d43-461a-d311-7a4ef40d59f6"
      },
      "execution_count": null,
      "outputs": [
        {
          "output_type": "display_data",
          "data": {
            "text/plain": [
              "<Figure size 640x480 with 1 Axes>"
            ],
            "image/png": "[encoded data removed]"
          },
          "metadata": {}
        }
      ]
    },
    {
      "cell_type": "markdown",
      "source": [
        "# 0922 연습문제"
      ],
      "metadata": {
        "id": "CdM8hFVIuTSX"
      }
    },
    {
      "cell_type": "code",
      "source": [
        "# 문제1 https://www.paullab.co.kr/stock.html 서비스를 크롤링하여 제주코딩베이스캠프 연구원의 2019년 10월 총 거래량을 구해주세요.\n",
        "\n",
        "# 문제2 html에서 태그를 제거하고 텍스트만 뽑아낼 수 있도록 해주세요.\n",
        "# '<p>This is a <em>simple</em> example.</p>'\n",
        "\n",
        "# 문제3 아래 텍스트에서 이메일만 추출할 수 있는 정규표현식을 만들어주세요.\n",
        "# '제 이메일 주소는 example1@gmail.com이고 회사 이메일 주소는 example2@gmail.com 입니다. example1로 연락을 주셨다면 제게 메시지 한 번 부탁드립니다.'"
      ],
      "metadata": {
        "id": "ZdRCPpf6uUk_"
      },
      "execution_count": null,
      "outputs": []
    },
    {
      "cell_type": "code",
      "source": [
        "import requests\n",
        "from bs4 import BeautifulSoup\n",
        "\n",
        "response = requests.get('http://www.paullab.co.kr/stock.html')\n",
        "# response.encoding = 'utf-8'\n",
        "html = response.text\n",
        "\n",
        "soup = BeautifulSoup(html, 'html.parser')"
      ],
      "metadata": {
        "id": "coWIaY42uW31"
      },
      "execution_count": null,
      "outputs": []
    },
    {
      "cell_type": "code",
      "source": [
        "soup.select('.table > tbody > tr')[1].select('td')[6].text"
      ],
      "metadata": {
        "colab": {
          "base_uri": "https://localhost:8080/",
          "height": 35
        },
        "id": "KAnJMNVlugRa",
        "outputId": "384ab257-304c-4a0b-c8e6-9ea1b446e8a1"
      },
      "execution_count": null,
      "outputs": [
        {
          "output_type": "execute_result",
          "data": {
            "text/plain": [
              "'398,421'"
            ],
            "application/vnd.google.colaboratory.intrinsic+json": {
              "type": "string"
            }
          },
          "metadata": {},
          "execution_count": 107
        }
      ]
    },
    {
      "cell_type": "code",
      "source": [
        "a = soup.select('.table > tbody > tr')[1:]\n",
        "a"
      ],
      "metadata": {
        "id": "k85yQz39By7i"
      },
      "execution_count": null,
      "outputs": []
    },
    {
      "cell_type": "code",
      "source": [
        "soup.select('.table > tbody > tr')[83].select('td')[0].text"
      ],
      "metadata": {
        "colab": {
          "base_uri": "https://localhost:8080/",
          "height": 35
        },
        "id": "Qc7E3b4xCF7L",
        "outputId": "ee09915f-9226-49c1-e378-5a9fe4e32021"
      },
      "execution_count": null,
      "outputs": [
        {
          "output_type": "execute_result",
          "data": {
            "text/plain": [
              "'2019.09.24'"
            ],
            "application/vnd.google.colaboratory.intrinsic+json": {
              "type": "string"
            }
          },
          "metadata": {},
          "execution_count": 153
        }
      ]
    },
    {
      "cell_type": "code",
      "source": [
        "len(a)"
      ],
      "metadata": {
        "colab": {
          "base_uri": "https://localhost:8080/"
        },
        "id": "KpK9hbubEDgR",
        "outputId": "9185c430-9f0c-4c02-f6e9-500cfc6b4eb5"
      },
      "execution_count": null,
      "outputs": [
        {
          "output_type": "execute_result",
          "data": {
            "text/plain": [
              "83"
            ]
          },
          "metadata": {},
          "execution_count": 180
        }
      ]
    },
    {
      "cell_type": "code",
      "source": [
        "sum = 0\n",
        "for i in range(1, len(a)):\n",
        "    if '10' not in soup.select('.table > tbody > tr')[i].select('td')[0].text:\n",
        "        break\n",
        "    else:\n",
        "        sum += int(soup.select('.table > tbody > tr')[i].select('td')[6].text.replace(',',''))\n",
        "\n",
        "print(f'제주코딩베이스캠프 연구원의 2019년 10월 총 거래량: {sum:,}원')"
      ],
      "metadata": {
        "colab": {
          "base_uri": "https://localhost:8080/"
        },
        "id": "y92c8gOSzyNQ",
        "outputId": "1a25f672-e8ec-4325-aa80-e4ea45df9643"
      },
      "execution_count": null,
      "outputs": [
        {
          "output_type": "stream",
          "name": "stdout",
          "text": [
            "제주코딩베이스캠프 연구원의 2019년 10월 총 거래량: 10,895,826원\n"
          ]
        }
      ]
    },
    {
      "cell_type": "code",
      "source": [
        "data = '<p>This is a <em>simple</em> example.</p>'\n",
        "s = BeautifulSoup(data, 'html.parser')\n",
        "print(s.text)\n"
      ],
      "metadata": {
        "colab": {
          "base_uri": "https://localhost:8080/"
        },
        "id": "T2rzscJgva84",
        "outputId": "67c69b1b-e259-477d-dc34-a239c4935ba9"
      },
      "execution_count": null,
      "outputs": [
        {
          "output_type": "stream",
          "name": "stdout",
          "text": [
            "This is a simple example.\n"
          ]
        }
      ]
    },
    {
      "cell_type": "code",
      "source": [
        "import re\n",
        "\n",
        "data = '<p>This is a <em>simple</em> example.</p>'\n",
        "print(re.sub('<[a-z/]>+','',data))"
      ],
      "metadata": {
        "colab": {
          "base_uri": "https://localhost:8080/"
        },
        "id": "mlhKGpynGpvN",
        "outputId": "6f0a26a9-91f4-4027-ba19-fb425d8f271c"
      },
      "execution_count": null,
      "outputs": [
        {
          "output_type": "stream",
          "name": "stdout",
          "text": [
            "This is a <em>simple</em> example.</p>\n"
          ]
        }
      ]
    },
    {
      "cell_type": "code",
      "source": [
        "# 이메일같은것은 년도별로 정규표현식보고서 작성 이메일형식이 무수히 많기떄문"
      ],
      "metadata": {
        "id": "Hrd_-y_wHbpO"
      },
      "execution_count": null,
      "outputs": []
    },
    {
      "cell_type": "code",
      "source": [
        "import re\n",
        "\n",
        "data = '제 이메일 주소는 example1@gmail.com이고 회사 이메일 주소는 example2@gmail.com 입니다. example1로 연락을 주셨다면 제게 메시지 한 번 부탁드립니다.'\n",
        "p = re.compile(r'[a-zA-Z0-9]+[@]+[a-zA-Z0-9]+[\\.]+[com]+')\n",
        "\n",
        "p.findall(data)"
      ],
      "metadata": {
        "colab": {
          "base_uri": "https://localhost:8080/"
        },
        "id": "lIYymSbiv0V8",
        "outputId": "c82f60c1-714f-4229-f67f-98f5a769c7df"
      },
      "execution_count": null,
      "outputs": [
        {
          "output_type": "execute_result",
          "data": {
            "text/plain": [
              "['example1@gmail.com', 'example2@gmail.com']"
            ]
          },
          "metadata": {},
          "execution_count": 25
        }
      ]
    },
    {
      "cell_type": "code",
      "source": [
        "a = {398421, 919571, 1678055, \t2168857, 1982922, 839434 ,702104, 764800, 134558, 288563 , 223839, \t199580, 188467, 160510, 246145}\n",
        "sum(a)"
      ],
      "metadata": {
        "colab": {
          "base_uri": "https://localhost:8080/"
        },
        "id": "hQrntYOx72fp",
        "outputId": "54434f19-9ff3-4ef1-ae7f-5388a21d5cf3"
      },
      "execution_count": null,
      "outputs": [
        {
          "output_type": "execute_result",
          "data": {
            "text/plain": [
              "10895826"
            ]
          },
          "metadata": {},
          "execution_count": 76
        }
      ]
    },
    {
      "cell_type": "code",
      "source": [
        "import requests\n",
        "from bs4 import BeautifulSoup\n",
        "\n",
        "response = requests.get('https://www.paullab.co.kr/stock.html')\n",
        "html = response.text\n",
        "soup = BeautifulSoup(html, 'html.parser')\n",
        "\n",
        "total = 0\n",
        "i = 1\n",
        "while True:\n",
        "    date = soup.select('table > tbody > tr')[i].select('td')[0].text\n",
        "    month = date.split('.')[1]\n",
        "    if month != '10':\n",
        "        break\n",
        "    value = soup.select('table > tbody > tr')[i].select('td')[6].text\n",
        "    value = value.replace(',','')\n",
        "    total += int(value)\n",
        "    i += 1\n",
        "\n",
        "print(f'2019년 10월 총 거래량: {total:,}원')"
      ],
      "metadata": {
        "colab": {
          "base_uri": "https://localhost:8080/"
        },
        "id": "d-WyyTuK8bIY",
        "outputId": "9b14c22e-f970-4189-8fe2-ae1cd5ec8f67"
      },
      "execution_count": null,
      "outputs": [
        {
          "output_type": "stream",
          "name": "stdout",
          "text": [
            "2019년 10월 총 거래량: 10,895,826원\n"
          ]
        }
      ]
    },
    {
      "cell_type": "code",
      "source": [
        "import requests\n",
        "from bs4 import BeautifulSoup\n",
        "import re\n",
        "\n",
        "# 문제1 https://www.paullab.co.kr/stock.html 서비스를 크롤링하여 제주코딩베이스캠프 연구원의 2019년 10월 총 거래량을 구해주세요.\n",
        "\n",
        "request = requests.get('https://www.paullab.co.kr/stock.html')\n",
        "html = request.text\n",
        "soup = BeautifulSoup(html, 'html.parser')"
      ],
      "metadata": {
        "id": "5WbkxQf3gGbi"
      },
      "execution_count": 4,
      "outputs": []
    },
    {
      "cell_type": "code",
      "source": [
        "class DayAvg:\n",
        "    def __init__(self, 날짜, 종가, 전일비, 시가, 고가, 저가, 거래량):\n",
        "        self.날짜 = 날짜\n",
        "        self.종가 = 종가\n",
        "        self.전일비 = 전일비\n",
        "        self.시가 = 시가\n",
        "        self.고가 = 고가\n",
        "        self.저가 = 저가\n",
        "        self.거래량 = 거래량\n",
        "\n",
        "    def __str__(self):\n",
        "        return f'{self.날짜},  {self.종가}'\n",
        "\n",
        "    def __repr__(self):\n",
        "        return f'{self.날짜},  {self.종가}'\n",
        "\n",
        "class PublicCompany:\n",
        "    def __init__(self, 시가총액, 상장주식수, 매출, 비용, 순익):\n",
        "        self.시가총액 = 시가총액\n",
        "        self.상장주식수 = 상장주식수\n",
        "        self.매출 = 매출\n",
        "        self.비용 = 비용\n",
        "        self.순익 = 순익\n",
        "        self.거래 = []  # 여기를 좀 더 고도화하여 연도별로 관리되게 하시는 편이 좋습니다.\n",
        "\n",
        "제코베연구원 = PublicCompany(시가총액 = 100,\n",
        "                       상장주식수 = 100,\n",
        "                       매출 = 100,\n",
        "                       비용 = 100,\n",
        "                       순익 = 100)\n",
        "\n",
        "제코베연구원.매출"
      ],
      "metadata": {
        "colab": {
          "base_uri": "https://localhost:8080/"
        },
        "id": "rl45iDTVjHHY",
        "outputId": "fd512123-58a3-4989-fe4e-fbe85f10c7b6"
      },
      "execution_count": 17,
      "outputs": [
        {
          "output_type": "execute_result",
          "data": {
            "text/plain": [
              "100"
            ]
          },
          "metadata": {},
          "execution_count": 17
        }
      ]
    },
    {
      "cell_type": "code",
      "source": [
        "soup.select('.main > table > tbody > tr')[1]\n",
        "soup.select('.main > table > tbody > tr')[2]\n",
        "soup.select('.main > table > tbody > tr')[-1]"
      ],
      "metadata": {
        "colab": {
          "base_uri": "https://localhost:8080/"
        },
        "id": "WTNLXLeHl5dZ",
        "outputId": "df59cb80-18f3-4add-f1ca-b44e3fe7a359"
      },
      "execution_count": 5,
      "outputs": [
        {
          "output_type": "execute_result",
          "data": {
            "text/plain": [
              "<tr>\n",
              "<td align=\"center\"><span class=\"date\">2019.09.24</span></td>\n",
              "<td class=\"num\"><span>2,065</span></td>\n",
              "<td class=\"num\">\n",
              "<img alt=\"상승\" height=\"6\" src=\"ico_up.gif\" style=\"margin-right:4px;\" width=\"7\"/><span>\n",
              "                            30\n",
              "                        </span>\n",
              "</td>\n",
              "<td class=\"num\"><span>2,020</span></td>\n",
              "<td class=\"num\"><span>2,090</span></td>\n",
              "<td class=\"num\"><span>2,020</span></td>\n",
              "<td class=\"num\"><span>139,085</span></td>\n",
              "</tr>"
            ]
          },
          "metadata": {},
          "execution_count": 5
        }
      ]
    },
    {
      "cell_type": "code",
      "source": [
        "soup.select('.main > table')[0]"
      ],
      "metadata": {
        "id": "DHyYDVAemMWc"
      },
      "execution_count": null,
      "outputs": []
    },
    {
      "cell_type": "code",
      "source": [
        "# 날짜, 종가, 전일비, 시가, 고가, 저가, 거래량\n",
        "for i in soup.select('.main > table')[0].select('tr')[1:]:\n",
        "    날짜 = i.select('td')[0].text\n",
        "    종가 = i.select('td')[1].text\n",
        "    전일비 = i.select('td')[2].text\n",
        "    시가 = i.select('td')[3].text\n",
        "    고가 = i.select('td')[4].text\n",
        "    저가 = i.select('td')[5].text\n",
        "    거래량 = i.select('td')[6].text\n",
        "    제코베연구원.거래.append(DayAvg(날짜, 종가, 전일비, 시가, 고가, 저가, 거래량))\n",
        "\n",
        "제코베연구원.거래"
      ],
      "metadata": {
        "colab": {
          "base_uri": "https://localhost:8080/"
        },
        "id": "X_TXuO4_mTeK",
        "outputId": "149b768d-41b3-4a4c-c56b-5ad519300357"
      },
      "execution_count": 18,
      "outputs": [
        {
          "output_type": "execute_result",
          "data": {
            "text/plain": [
              "[2019.10.23,  6,650,\n",
              " 2019.10.22,  6,630,\n",
              " 2019.10.21,  6,820,\n",
              " 2019.10.18,  6,430,\n",
              " 2019.10.17,  5,950,\n",
              " 2019.10.16,  5,930,\n",
              " 2019.10.15,  5,640,\n",
              " 2019.10.14,  5,380,\n",
              " 2019.10.11,  5,040,\n",
              " 2019.10.10,  5,100,\n",
              " 2019.10.08,  5,050,\n",
              " 2019.10.07,  4,940,\n",
              " 2019.10.04,  5,010,\n",
              " 2019.10.02,  4,920,\n",
              " 2019.10.01,  5,010,\n",
              " 2019.09.30,  5,000,\n",
              " 2019.09.27,  5,010,\n",
              " 2019.09.26,  5,060,\n",
              " 2019.09.25,  5,060,\n",
              " 2019.09.24,  5,330]"
            ]
          },
          "metadata": {},
          "execution_count": 18
        }
      ]
    },
    {
      "cell_type": "code",
      "source": [
        "제코베연구원.거래[0].시가"
      ],
      "metadata": {
        "colab": {
          "base_uri": "https://localhost:8080/",
          "height": 35
        },
        "id": "WEhA8DtmpFZD",
        "outputId": "2b6d01cd-8e00-476d-b963-b8cfb3205c3a"
      },
      "execution_count": 19,
      "outputs": [
        {
          "output_type": "execute_result",
          "data": {
            "text/plain": [
              "'6,590'"
            ],
            "application/vnd.google.colaboratory.intrinsic+json": {
              "type": "string"
            }
          },
          "metadata": {},
          "execution_count": 19
        }
      ]
    },
    {
      "cell_type": "code",
      "source": [
        "# {\n",
        "#     '201910':{\n",
        "#         '01': {# 201910으로 가공\n",
        "#                 '시가': 3000, # 3000으로 가공\n",
        "#                 '고가': 2000,\n",
        "#                 '저가': 1000\n",
        "#                 # ...\n",
        "#             },\n",
        "#         '02': {# 201910으로 가공\n",
        "#                 '시가': 3000, # 3000으로 가공\n",
        "#                 '고가': 2000,\n",
        "#                 '저가': 1000\n",
        "#                 # ...\n",
        "#             },\n",
        "#         },\n",
        "#     '201911':{\n",
        "#         '01': {# 201910으로 가공\n",
        "#                 '시가': 3000, # 3000으로 가공\n",
        "#                 '고가': 2000,\n",
        "#                 '저가': 1000\n",
        "#                 # ...\n",
        "#             },\n",
        "#     }\n",
        "# }"
      ],
      "metadata": {
        "id": "w2cgLy8yuvNG"
      },
      "execution_count": null,
      "outputs": []
    }
  ]
}