{
  "nbformat": 4,
  "nbformat_minor": 0,
  "metadata": {
    "colab": {
      "provenance": []
    },
    "kernelspec": {
      "name": "python3",
      "display_name": "Python 3"
    },
    "language_info": {
      "name": "python"
    }
  },
  "cells": [
    {
      "cell_type": "markdown",
      "source": [
        "# 주석"
      ],
      "metadata": {
        "id": "SLwVJ6n1Kam5"
      }
    },
    {
      "cell_type": "code",
      "source": [],
      "metadata": {
        "id": "BmyyxVLhKeoP"
      },
      "execution_count": null,
      "outputs": []
    },
    {
      "cell_type": "code",
      "execution_count": null,
      "metadata": {
        "colab": {
          "base_uri": "https://localhost:8080/"
        },
        "id": "7WfjDiMBF88o",
        "outputId": "aff98170-8494-4267-e7af-5f3eceebd725"
      },
      "outputs": [
        {
          "output_type": "stream",
          "name": "stdout",
          "text": [
            "Hello, World 1!\n",
            "Hello, World 2!\n"
          ]
        }
      ],
      "source": [
        "# 이것은 주석입니다.\n",
        "print('Hello, World 1!') # 이것도 주석입니다.\n",
        "print('Hello, World 2!')"
      ]
    },
    {
      "cell_type": "code",
      "source": [
        "'''\n",
        "이것은 주석입니다.\n",
        "이렇게 여러줄 주석을 넣을 수 있습니다.\n",
        "'''\n",
        "print(\"Hello, World!\")"
      ],
      "metadata": {
        "colab": {
          "base_uri": "https://localhost:8080/"
        },
        "id": "gu1dRaiTJ9_7",
        "outputId": "42cff537-edb6-48bf-f893-d0405a6c3abf"
      },
      "execution_count": null,
      "outputs": [
        {
          "output_type": "stream",
          "name": "stdout",
          "text": [
            "Hello, World!\n"
          ]
        }
      ]
    },
    {
      "cell_type": "code",
      "source": [
        "\"\"\"\n",
        "이것은 주석입니다.\n",
        "이렇게 여러줄 주석을 넣을 수 있습니다.\n",
        "\"\"\"\n",
        "print(\"Hello, World!\")"
      ],
      "metadata": {
        "id": "iwKjMPFBK7Ke"
      },
      "execution_count": null,
      "outputs": []
    },
    {
      "cell_type": "markdown",
      "source": [
        "# 입력과 출력"
      ],
      "metadata": {
        "id": "K6ZtKaO5LvYx"
      }
    },
    {
      "cell_type": "code",
      "source": [
        "x = input('입력해 주세요:') # 문자 열로 받는다\n",
        "x + x # 문자열이라 결과는 1010"
      ],
      "metadata": {
        "colab": {
          "base_uri": "https://localhost:8080/",
          "height": 53
        },
        "id": "-axHOAaxLw6f",
        "outputId": "e9de94d3-2785-484d-d100-cde3fba08928"
      },
      "execution_count": null,
      "outputs": [
        {
          "name": "stdout",
          "output_type": "stream",
          "text": [
            "입력해 주세요:10\n"
          ]
        },
        {
          "output_type": "execute_result",
          "data": {
            "text/plain": [
              "'1010'"
            ],
            "application/vnd.google.colaboratory.intrinsic+json": {
              "type": "string"
            }
          },
          "metadata": {},
          "execution_count": 149
        }
      ]
    },
    {
      "cell_type": "code",
      "source": [
        "print('hello world')"
      ],
      "metadata": {
        "colab": {
          "base_uri": "https://localhost:8080/"
        },
        "id": "mLD6Woj5MzEl",
        "outputId": "88ff3e32-f73c-49dc-d01a-fbca3c9679f1"
      },
      "execution_count": null,
      "outputs": [
        {
          "output_type": "stream",
          "name": "stdout",
          "text": [
            "hello world\n"
          ]
        }
      ]
    },
    {
      "cell_type": "code",
      "source": [
        "x = 'hello'\n",
        "print(x)"
      ],
      "metadata": {
        "colab": {
          "base_uri": "https://localhost:8080/"
        },
        "id": "hIohiU10NBhv",
        "outputId": "9ee7f9f3-e307-41b3-cc56-32abfd2807c5"
      },
      "execution_count": null,
      "outputs": [
        {
          "output_type": "stream",
          "name": "stdout",
          "text": [
            "hello\n"
          ]
        }
      ]
    },
    {
      "cell_type": "code",
      "source": [
        "print(x, x, x)"
      ],
      "metadata": {
        "colab": {
          "base_uri": "https://localhost:8080/"
        },
        "id": "Sv8ECKEhNEV-",
        "outputId": "e412090d-8807-41b0-df30-cd84bd07bc8b"
      },
      "execution_count": null,
      "outputs": [
        {
          "output_type": "stream",
          "name": "stdout",
          "text": [
            "hello hello hello\n"
          ]
        }
      ]
    },
    {
      "cell_type": "code",
      "source": [
        "print(x, x, sep='-')\n",
        "print(x, x, sep=' ')\n",
        "print(x, x, sep='@')"
      ],
      "metadata": {
        "colab": {
          "base_uri": "https://localhost:8080/"
        },
        "id": "dX03-MDjNIis",
        "outputId": "6c757420-46fa-414b-aae5-0b3cc4409df0"
      },
      "execution_count": null,
      "outputs": [
        {
          "output_type": "stream",
          "name": "stdout",
          "text": [
            "hello-hello\n",
            "hello hello\n",
            "hello@hello\n"
          ]
        }
      ]
    },
    {
      "cell_type": "code",
      "source": [
        "print('010','0000','1000',sep='-')\n",
        "print('010','0000','1000',sep='#')"
      ],
      "metadata": {
        "colab": {
          "base_uri": "https://localhost:8080/"
        },
        "id": "P3c3xNtQNpvJ",
        "outputId": "287f1225-2315-43d0-a880-405f227834cf"
      },
      "execution_count": null,
      "outputs": [
        {
          "output_type": "stream",
          "name": "stdout",
          "text": [
            "010-0000-1000\n",
            "010#0000#1000\n"
          ]
        }
      ]
    },
    {
      "cell_type": "code",
      "source": [
        "print('hello world',end='-')\n",
        "print('hello world',end='\\n')\n",
        "print('hello world',end='~')"
      ],
      "metadata": {
        "colab": {
          "base_uri": "https://localhost:8080/"
        },
        "id": "q0-hyaANNv5s",
        "outputId": "f110ea3e-6f65-4184-f4da-f956c0a4ffc7"
      },
      "execution_count": null,
      "outputs": [
        {
          "output_type": "stream",
          "name": "stdout",
          "text": [
            "hello world-hello world\n",
            "hello world~"
          ]
        }
      ]
    },
    {
      "cell_type": "code",
      "source": [
        "class Character:\n",
        "    def __str__(self):\n",
        "        return 'a'\n",
        "\n",
        "    def __repr__(self):\n",
        "        return 'b'\n",
        "\n",
        "hero = Character()\n",
        "print(hero)\n",
        "hero"
      ],
      "metadata": {
        "colab": {
          "base_uri": "https://localhost:8080/"
        },
        "id": "f09X0SdBaSOl",
        "outputId": "b97948b5-fcc6-4775-d68a-7b96311f7171"
      },
      "execution_count": null,
      "outputs": [
        {
          "output_type": "stream",
          "name": "stdout",
          "text": [
            "a\n"
          ]
        },
        {
          "output_type": "execute_result",
          "data": {
            "text/plain": [
              "b"
            ]
          },
          "metadata": {},
          "execution_count": 1
        }
      ]
    },
    {
      "cell_type": "markdown",
      "source": [
        "# 변수\n",
        "* python에서 변수는 포스트잇이다. 값을 담는것이 아니라 가리킨다!"
      ],
      "metadata": {
        "id": "HrwKC1cuOs5P"
      }
    },
    {
      "cell_type": "code",
      "source": [
        "x = 10\n",
        "y = x\n",
        "z = y\n",
        "\n",
        "'''\n",
        "오답\n",
        "10 -> x -> y -> z\n",
        "\n",
        "정답\n",
        "x -> 10\n",
        "y │ 10\n",
        "z ┘ 10\n",
        "'''\n",
        "\n",
        "print(id(x), id(y), id(z))\n",
        "\n"
      ],
      "metadata": {
        "colab": {
          "base_uri": "https://localhost:8080/"
        },
        "id": "oPqhLybbPS3I",
        "outputId": "3e736ef6-9085-4e2c-c9e1-5926030d23a7"
      },
      "execution_count": null,
      "outputs": [
        {
          "output_type": "stream",
          "name": "stdout",
          "text": [
            "140303956361744 140303956361744 140303956361744\n"
          ]
        }
      ]
    },
    {
      "cell_type": "code",
      "source": [
        "x = 10\n",
        "y = x\n",
        "z = y\n",
        "y = 20\n",
        "print(y, z)\n",
        "\n",
        "#오답\n",
        "# x -> 10\n",
        "# z -> y -> 20\n",
        "\n",
        "#정답\n",
        "# x -> 10\n",
        "# z ┘ 10\n",
        "# y -> 20\n",
        "x, y ,z"
      ],
      "metadata": {
        "colab": {
          "base_uri": "https://localhost:8080/"
        },
        "id": "Ia4OP8n6P3Sz",
        "outputId": "5585e59f-47f3-4a1d-f6b4-cadab0dac1f1"
      },
      "execution_count": null,
      "outputs": [
        {
          "output_type": "stream",
          "name": "stdout",
          "text": [
            "20 10\n"
          ]
        },
        {
          "output_type": "execute_result",
          "data": {
            "text/plain": [
              "(10, 20, 10)"
            ]
          },
          "metadata": {},
          "execution_count": 17
        }
      ]
    },
    {
      "cell_type": "code",
      "source": [
        "x = 10\n",
        "y = 10\n",
        "z = 10\n",
        "print(id(x), id(y), id(z))"
      ],
      "metadata": {
        "colab": {
          "base_uri": "https://localhost:8080/"
        },
        "id": "0LHJr13gQprI",
        "outputId": "44e65252-7c98-4dae-a5a5-a4911a30c0ee"
      },
      "execution_count": null,
      "outputs": [
        {
          "output_type": "stream",
          "name": "stdout",
          "text": [
            "140610466710032 140610466710032 140610466710032\n"
          ]
        }
      ]
    },
    {
      "cell_type": "code",
      "source": [
        "# 변수 이름\n",
        "# python의 경우 보통 스네이크 표기법으로 변수를 만든다\n",
        "col_sum = 10\n",
        "# _는 사용하지 않는 변수에 할당한다\n",
        "for _ in range(5): # 코드의 가독성\n",
        "    print('hello') # _가 for문 안에서 사용이 안됨"
      ],
      "metadata": {
        "id": "TYSg86qfUN0E"
      },
      "execution_count": null,
      "outputs": []
    },
    {
      "cell_type": "code",
      "source": [
        "# 변수 타입: 변수들을 어떻게 관리하고 처리할지에 대한 '코드', 이 코드는 우리가 재정의 할 수 있다\n",
        "\n",
        "x = 10\n",
        "x + x    # 컴퓨터 입장에서는 10도 숫자이다."
      ],
      "metadata": {
        "colab": {
          "base_uri": "https://localhost:8080/"
        },
        "id": "rr1aGmFRVBHY",
        "outputId": "9f651edd-4ec4-4bba-8508-1a9b15e56673"
      },
      "execution_count": null,
      "outputs": [
        {
          "output_type": "execute_result",
          "data": {
            "text/plain": [
              "20"
            ]
          },
          "metadata": {},
          "execution_count": 21
        }
      ]
    },
    {
      "cell_type": "code",
      "source": [
        "y = '10'\n",
        "y + y # 컴퓨터 입장에서는 10도 숫자이다."
      ],
      "metadata": {
        "colab": {
          "base_uri": "https://localhost:8080/",
          "height": 35
        },
        "id": "aleKFPrNVxB6",
        "outputId": "c6f58c44-1719-4168-94b5-e86879d9eec4"
      },
      "execution_count": null,
      "outputs": [
        {
          "output_type": "execute_result",
          "data": {
            "text/plain": [
              "'1010'"
            ],
            "application/vnd.google.colaboratory.intrinsic+json": {
              "type": "string"
            }
          },
          "metadata": {},
          "execution_count": 22
        }
      ]
    },
    {
      "cell_type": "code",
      "source": [
        "print(type(x))\n",
        "print(type(y))"
      ],
      "metadata": {
        "colab": {
          "base_uri": "https://localhost:8080/"
        },
        "id": "QfzQ3mtrWJfO",
        "outputId": "db299814-39ee-49f3-ec47-1506fa337bfe"
      },
      "execution_count": null,
      "outputs": [
        {
          "output_type": "stream",
          "name": "stdout",
          "text": [
            "<class 'int'>\n",
            "<class 'str'>\n"
          ]
        }
      ]
    },
    {
      "cell_type": "code",
      "source": [
        "str(10) + str(10)"
      ],
      "metadata": {
        "colab": {
          "base_uri": "https://localhost:8080/",
          "height": 35
        },
        "id": "zx2NrsQVWSEQ",
        "outputId": "ed5a967d-8066-42b9-c9c4-8a2a05f8714f"
      },
      "execution_count": null,
      "outputs": [
        {
          "output_type": "execute_result",
          "data": {
            "text/plain": [
              "'1010'"
            ],
            "application/vnd.google.colaboratory.intrinsic+json": {
              "type": "string"
            }
          },
          "metadata": {},
          "execution_count": 26
        }
      ]
    },
    {
      "cell_type": "code",
      "source": [
        "# 지금은 이 클래스를 이해하는 것이 중요한 것이 아닙니다.\n",
        "# self가 무엇인지, other가 무엇인지 이해하는 것도 중요한 것이 아닙니다.\n",
        "# 이건 다 뒤에서 배울 것입니다.\n",
        "# 중요한 포인트는 +도 어딘가에 '정의'되어 있다는 것입니다.\n",
        "class str(str):\n",
        "    def __add__(self, other):\n",
        "        return 'hello'"
      ],
      "metadata": {
        "id": "6vjki6QHW0Qa"
      },
      "execution_count": null,
      "outputs": []
    },
    {
      "cell_type": "code",
      "source": [
        "str(10) + str(10)"
      ],
      "metadata": {
        "colab": {
          "base_uri": "https://localhost:8080/",
          "height": 35
        },
        "id": "rDf36sxpXLv3",
        "outputId": "0fc977d6-354d-4b7e-e1e1-6151d8bb54a5"
      },
      "execution_count": null,
      "outputs": [
        {
          "output_type": "execute_result",
          "data": {
            "text/plain": [
              "'hello'"
            ],
            "application/vnd.google.colaboratory.intrinsic+json": {
              "type": "string"
            }
          },
          "metadata": {},
          "execution_count": 3
        }
      ]
    },
    {
      "cell_type": "code",
      "source": [
        "str(10) + str(10) + str(10)"
      ],
      "metadata": {
        "colab": {
          "base_uri": "https://localhost:8080/",
          "height": 35
        },
        "id": "e4kHrWVLZfCJ",
        "outputId": "9d2ec673-ed62-4a8c-db18-bde9fdd0ce32"
      },
      "execution_count": null,
      "outputs": [
        {
          "output_type": "execute_result",
          "data": {
            "text/plain": [
              "'hello10'"
            ],
            "application/vnd.google.colaboratory.intrinsic+json": {
              "type": "string"
            }
          },
          "metadata": {},
          "execution_count": 2
        }
      ]
    },
    {
      "cell_type": "code",
      "source": [
        "# class str(str):\n",
        "#    def __add__(self, other):\n",
        "#        return self + other"
      ],
      "metadata": {
        "id": "FgzuYbQxXzow"
      },
      "execution_count": null,
      "outputs": []
    },
    {
      "cell_type": "code",
      "source": [
        "# 변수의 삭제\n",
        "del x"
      ],
      "metadata": {
        "id": "eby5-tduYFEr"
      },
      "execution_count": null,
      "outputs": []
    },
    {
      "cell_type": "markdown",
      "source": [
        "# 정수 자료형(int)"
      ],
      "metadata": {
        "id": "vSSxcq_AYwqc"
      }
    },
    {
      "cell_type": "code",
      "source": [
        "x = 10\n",
        "y = -5\n",
        "z = 0\n",
        "print(type(x), type(y), type(z))"
      ],
      "metadata": {
        "colab": {
          "base_uri": "https://localhost:8080/"
        },
        "id": "pRZ7_p5AY1Fw",
        "outputId": "a4158f2c-a694-4445-f4c7-de94d7d5a2b9"
      },
      "execution_count": null,
      "outputs": [
        {
          "output_type": "stream",
          "name": "stdout",
          "text": [
            "<class 'int'> <class 'int'> <class 'int'>\n"
          ]
        }
      ]
    },
    {
      "cell_type": "code",
      "source": [
        "x = 10\n",
        "result = x * 3\n",
        "result"
      ],
      "metadata": {
        "colab": {
          "base_uri": "https://localhost:8080/"
        },
        "id": "UhdONb4JaRg_",
        "outputId": "3f1fad3c-f5f1-4809-a3c5-2495ecac82ad"
      },
      "execution_count": null,
      "outputs": [
        {
          "output_type": "execute_result",
          "data": {
            "text/plain": [
              "30"
            ]
          },
          "metadata": {},
          "execution_count": 5
        }
      ]
    },
    {
      "cell_type": "code",
      "source": [
        "# 진수: 수를 표현하는 방법"
      ],
      "metadata": {
        "id": "mfFdIvhubF9X"
      },
      "execution_count": null,
      "outputs": []
    },
    {
      "cell_type": "code",
      "source": [
        "# 2진수\n",
        "x = 0b110\n",
        "print(x)\n",
        "print(type(x))"
      ],
      "metadata": {
        "colab": {
          "base_uri": "https://localhost:8080/"
        },
        "id": "APj3UM3Fakrg",
        "outputId": "7664ae88-8145-4a74-a05b-6048108470df"
      },
      "execution_count": null,
      "outputs": [
        {
          "output_type": "stream",
          "name": "stdout",
          "text": [
            "6\n",
            "<class 'int'>\n"
          ]
        }
      ]
    },
    {
      "cell_type": "code",
      "source": [
        "# 8진수\n",
        "x = 0o110\n",
        "print(x)\n",
        "print(type(x))"
      ],
      "metadata": {
        "colab": {
          "base_uri": "https://localhost:8080/"
        },
        "id": "7OBklESRa1MS",
        "outputId": "d2a45e67-a3d0-4fc0-edcd-e9b0d94afde7"
      },
      "execution_count": null,
      "outputs": [
        {
          "output_type": "stream",
          "name": "stdout",
          "text": [
            "72\n",
            "<class 'int'>\n"
          ]
        }
      ]
    },
    {
      "cell_type": "code",
      "source": [
        "# 16진수\n",
        "x = 0x110\n",
        "print(x)\n",
        "print(type(x))"
      ],
      "metadata": {
        "colab": {
          "base_uri": "https://localhost:8080/"
        },
        "id": "M_cx9gtha7fi",
        "outputId": "78abb191-f625-4e87-c0a7-a545615aa24b"
      },
      "execution_count": null,
      "outputs": [
        {
          "output_type": "stream",
          "name": "stdout",
          "text": [
            "272\n",
            "<class 'int'>\n"
          ]
        }
      ]
    },
    {
      "cell_type": "code",
      "source": [
        "bin(15)"
      ],
      "metadata": {
        "colab": {
          "base_uri": "https://localhost:8080/",
          "height": 35
        },
        "id": "HkbjSawtcJER",
        "outputId": "2c37f3f0-4be6-48d4-ceed-df6f8acadad6"
      },
      "execution_count": null,
      "outputs": [
        {
          "output_type": "execute_result",
          "data": {
            "text/plain": [
              "'0b1111'"
            ],
            "application/vnd.google.colaboratory.intrinsic+json": {
              "type": "string"
            }
          },
          "metadata": {},
          "execution_count": 9
        }
      ]
    },
    {
      "cell_type": "code",
      "source": [
        "oct(15)"
      ],
      "metadata": {
        "colab": {
          "base_uri": "https://localhost:8080/",
          "height": 35
        },
        "id": "dsgb-wn1cKkY",
        "outputId": "fe726d1d-3b62-4911-811b-073438e9a9b8"
      },
      "execution_count": null,
      "outputs": [
        {
          "output_type": "execute_result",
          "data": {
            "text/plain": [
              "'0o17'"
            ],
            "application/vnd.google.colaboratory.intrinsic+json": {
              "type": "string"
            }
          },
          "metadata": {},
          "execution_count": 10
        }
      ]
    },
    {
      "cell_type": "code",
      "source": [
        "hex(15)"
      ],
      "metadata": {
        "colab": {
          "base_uri": "https://localhost:8080/",
          "height": 35
        },
        "id": "8DuMT2dDcL3V",
        "outputId": "aae7ef61-08bc-420e-cbd5-fab5073c7ee7"
      },
      "execution_count": null,
      "outputs": [
        {
          "output_type": "execute_result",
          "data": {
            "text/plain": [
              "'0xf'"
            ],
            "application/vnd.google.colaboratory.intrinsic+json": {
              "type": "string"
            }
          },
          "metadata": {},
          "execution_count": 11
        }
      ]
    },
    {
      "cell_type": "code",
      "source": [
        "int(0b1111, 2)\n",
        "int(0o17, 8)\n",
        "int(0xf, 16)"
      ],
      "metadata": {
        "colab": {
          "base_uri": "https://localhost:8080/"
        },
        "id": "qF6lHH3KcVmp",
        "outputId": "3551c8a5-b742-48a4-d068-1e4b82c3d436"
      },
      "execution_count": null,
      "outputs": [
        {
          "output_type": "execute_result",
          "data": {
            "text/plain": [
              "15"
            ]
          },
          "metadata": {},
          "execution_count": 12
        }
      ]
    },
    {
      "cell_type": "code",
      "source": [
        "# 매우 중요한 내용 , 새로운 자료형을 만났을 떄 2개를 꼭 해보기\n",
        "x = 10\n",
        "print(type(x)) # 검색 키워드\n",
        "print(dir(x)) # 대략적인 속성을 알 수 있다"
      ],
      "metadata": {
        "colab": {
          "base_uri": "https://localhost:8080/"
        },
        "id": "vuXd-8IJcwAM",
        "outputId": "7d8451a3-0442-486a-9673-296d4cd1d2e7"
      },
      "execution_count": null,
      "outputs": [
        {
          "output_type": "stream",
          "name": "stdout",
          "text": [
            "<class 'int'>\n",
            "['__abs__', '__add__', '__and__', '__bool__', '__ceil__', '__class__', '__delattr__', '__dir__', '__divmod__', '__doc__', '__eq__', '__float__', '__floor__', '__floordiv__', '__format__', '__ge__', '__getattribute__', '__getnewargs__', '__gt__', '__hash__', '__index__', '__init__', '__init_subclass__', '__int__', '__invert__', '__le__', '__lshift__', '__lt__', '__mod__', '__mul__', '__ne__', '__neg__', '__new__', '__or__', '__pos__', '__pow__', '__radd__', '__rand__', '__rdivmod__', '__reduce__', '__reduce_ex__', '__repr__', '__rfloordiv__', '__rlshift__', '__rmod__', '__rmul__', '__ror__', '__round__', '__rpow__', '__rrshift__', '__rshift__', '__rsub__', '__rtruediv__', '__rxor__', '__setattr__', '__sizeof__', '__str__', '__sub__', '__subclasshook__', '__truediv__', '__trunc__', '__xor__', 'as_integer_ratio', 'bit_count', 'bit_length', 'conjugate', 'denominator', 'from_bytes', 'imag', 'numerator', 'real', 'to_bytes']\n"
          ]
        }
      ]
    },
    {
      "cell_type": "markdown",
      "source": [
        "메서드 중에서 __로 시작해서 __로 끝나는 메서드를  매직 메서드라 한다"
      ],
      "metadata": {
        "id": "pIkq2f11dlRk"
      }
    },
    {
      "cell_type": "code",
      "source": [
        "# 매직 메서드: 이 타입에 속성을 정의한다\n",
        "abs(-5)  # '__abs__'\n",
        "5 + 5    # '__add__'\n",
        "5 and 5 # '__and__'\n",
        "bool(5) # '__bool__'\n",
        "5 == 5  # '__eq__'\n",
        "\n",
        "# 메서드: 이 타입에서 변수를 다룰 수 있는 여러 기능 제공\n",
        "# 'as_integer_ratio',\n",
        "# 'bit_count',\n",
        "# 'bit_length',\n",
        "# 'conjugate',\n",
        "# 'denominator',\n",
        "# 'from_bytes',\n",
        "# 'imag',\n",
        "# 'numerator',\n",
        "# 'real',\n",
        "# 'to_bytes'"
      ],
      "metadata": {
        "colab": {
          "base_uri": "https://localhost:8080/"
        },
        "id": "mkCQazSAdpQ6",
        "outputId": "8d0636da-8ecf-42ba-95af-2156b224d1c5"
      },
      "execution_count": null,
      "outputs": [
        {
          "output_type": "execute_result",
          "data": {
            "text/plain": [
              "True"
            ]
          },
          "metadata": {},
          "execution_count": 15
        }
      ]
    },
    {
      "cell_type": "code",
      "source": [
        "x = 5\n",
        "x.bit_count()"
      ],
      "metadata": {
        "id": "IL0DxjL5frrj"
      },
      "execution_count": null,
      "outputs": []
    },
    {
      "cell_type": "code",
      "source": [
        "# 정수의 메모리 미리 적재\n",
        "# -5 ~ 256\n",
        "x = 256\n",
        "y = 256\n",
        "\n",
        "print(id(x), id(y))"
      ],
      "metadata": {
        "colab": {
          "base_uri": "https://localhost:8080/"
        },
        "id": "Ti79h5iSh4pi",
        "outputId": "4b6e559f-cf43-4687-8635-fb20810044cf"
      },
      "execution_count": null,
      "outputs": [
        {
          "output_type": "stream",
          "name": "stdout",
          "text": [
            "133204432740560 133204432740560\n"
          ]
        }
      ]
    },
    {
      "cell_type": "code",
      "source": [
        "# 문제1\n",
        "x = 100\n",
        "y = 100\n",
        "z = x\n",
        "# 화살표로 표시\n",
        "# z ┐\n",
        "# x -> 100\n",
        "# y ┘\n",
        "print(id(x), id(y), id(z))\n",
        "# 문제2\n",
        "x = 258\n",
        "y = 258\n",
        "z = x\n",
        "# 화살표로 표시\n",
        "# z ┐\n",
        "# x -> 258\n",
        "# y -> 258\n",
        "print(id(x), id(y), id(z))"
      ],
      "metadata": {
        "colab": {
          "base_uri": "https://localhost:8080/"
        },
        "id": "nUfdn_s1ii0A",
        "outputId": "d0ff81ae-717f-44f8-ee6e-9a3e555bb869"
      },
      "execution_count": null,
      "outputs": [
        {
          "output_type": "stream",
          "name": "stdout",
          "text": [
            "133204432735568 133204432735568 133204432735568\n",
            "133203162172880 133203162172592 133203162172880\n"
          ]
        }
      ]
    },
    {
      "cell_type": "markdown",
      "source": [
        "# 실수 자료형(float)"
      ],
      "metadata": {
        "id": "ubwXNOxPkKJi"
      }
    },
    {
      "cell_type": "code",
      "source": [
        "x = 10.0\n",
        "y = 10\n",
        "print(type(x), type(y))"
      ],
      "metadata": {
        "colab": {
          "base_uri": "https://localhost:8080/"
        },
        "id": "4QdnM_OYkLeX",
        "outputId": "6b20ec21-f993-4597-a806-6c4317cea657"
      },
      "execution_count": null,
      "outputs": [
        {
          "output_type": "stream",
          "name": "stdout",
          "text": [
            "<class 'float'> <class 'int'>\n"
          ]
        }
      ]
    },
    {
      "cell_type": "code",
      "source": [
        "# 산술 연산\n",
        "x = 10.0\n",
        "y = 2\n",
        "result = x * y\n",
        "print(result)\n",
        "print(type(result))"
      ],
      "metadata": {
        "colab": {
          "base_uri": "https://localhost:8080/"
        },
        "id": "bTZKQAkgkOxc",
        "outputId": "a55484c8-5d51-4813-9408-902416d6e19e"
      },
      "execution_count": null,
      "outputs": [
        {
          "output_type": "stream",
          "name": "stdout",
          "text": [
            "20.0\n",
            "<class 'float'>\n"
          ]
        }
      ]
    },
    {
      "cell_type": "code",
      "source": [
        "# float의 특수값\n",
        "# 이 특수값은 사용을 하니 기억하기\n",
        "# 어디서 주로 사용하나요? 정렬과 같은 파트에서 초깃값으로 사용을 많이 한다\n",
        "x = float(\"inf\") # 양의 무한대를 나타내는 상수\n",
        "x = float(\"-inf\") # 음의 무한대를 나타내는 상수"
      ],
      "metadata": {
        "id": "r0lN74Q_kebj"
      },
      "execution_count": null,
      "outputs": []
    },
    {
      "cell_type": "code",
      "source": [
        "print(2e3) # 지수표현, float형\n",
        "print(2E3)\n",
        "\n",
        "2 * (10 ** 3) # int 형"
      ],
      "metadata": {
        "id": "-Qh7zNgrADon"
      },
      "execution_count": null,
      "outputs": []
    },
    {
      "cell_type": "code",
      "source": [
        "# 부동소숫점 문제\n",
        "0.1 + 0.2\n",
        "# 왜 발생하는가? 결국 컴퓨터가 연산하는 것은 10진수가 아니라 2진수인데\n",
        "# 2진수 변환에서 무한수가 발생이 되므로"
      ],
      "metadata": {
        "id": "MzWjyzfRlHX1"
      },
      "execution_count": null,
      "outputs": []
    },
    {
      "cell_type": "code",
      "source": [
        "float(\"inf\") > 10e100 # 계산에 한계\n",
        "float(\"inf\") > 10e307\n",
        "float(\"inf\") > 10e308\n",
        "# python에서는 IEEE 754 배정밀도 부동 소수점 표현\n",
        "# IEEE 754 배정밀도 부동 소수점 표현에서 가장 큰 (정규화된) 유한 값은 대략 1.8 * (10 ** 308)입니다.\n",
        "# 10e308는 이 근사치보다 큰 값입니다.\n",
        "# int는 메모리 제한 내에서 한계 없이 표현합니다.\n",
        "float(\"inf\") == 10e308, float(\"inf\") == 10e309"
      ],
      "metadata": {
        "id": "AThir58EARH5"
      },
      "execution_count": null,
      "outputs": []
    },
    {
      "cell_type": "code",
      "source": [
        "print(float('inf') > 10e307)\n",
        "print(float('inf') > 10e308)\n",
        "\n",
        "float('inf') == 10e307, float('inf') == 10e308, float('inf') == 10e309"
      ],
      "metadata": {
        "id": "wNJDiFkuASbx"
      },
      "execution_count": null,
      "outputs": []
    },
    {
      "cell_type": "code",
      "source": [
        "import decimal\n",
        "\n",
        "# 각각 모듈 import해서 사용하셔야 합니다.\n",
        "float(decimal.Decimal('.1') + decimal.Decimal('.2'))\n",
        "# float(fractions.Fraction('0.1') + fractions.Fraction('0.2'))"
      ],
      "metadata": {
        "colab": {
          "base_uri": "https://localhost:8080/"
        },
        "id": "B0sel9IJnFe6",
        "outputId": "479b7c9a-d161-4c8f-a924-0bee2e9d2401"
      },
      "execution_count": null,
      "outputs": [
        {
          "output_type": "execute_result",
          "data": {
            "text/plain": [
              "0.3"
            ]
          },
          "metadata": {},
          "execution_count": 9
        }
      ]
    },
    {
      "cell_type": "code",
      "source": [
        "x = 10.0\n",
        "print(type(x), dir(x))"
      ],
      "metadata": {
        "colab": {
          "base_uri": "https://localhost:8080/"
        },
        "id": "D8VsDGmPnWvt",
        "outputId": "84b2d3ed-2ab2-44d2-f7b5-215304c4c6f0"
      },
      "execution_count": null,
      "outputs": [
        {
          "output_type": "stream",
          "name": "stdout",
          "text": [
            "<class 'float'> ['__abs__', '__add__', '__bool__', '__ceil__', '__class__', '__delattr__', '__dir__', '__divmod__', '__doc__', '__eq__', '__float__', '__floor__', '__floordiv__', '__format__', '__ge__', '__getattribute__', '__getformat__', '__getnewargs__', '__gt__', '__hash__', '__init__', '__init_subclass__', '__int__', '__le__', '__lt__', '__mod__', '__mul__', '__ne__', '__neg__', '__new__', '__pos__', '__pow__', '__radd__', '__rdivmod__', '__reduce__', '__reduce_ex__', '__repr__', '__rfloordiv__', '__rmod__', '__rmul__', '__round__', '__rpow__', '__rsub__', '__rtruediv__', '__setattr__', '__setformat__', '__sizeof__', '__str__', '__sub__', '__subclasshook__', '__truediv__', '__trunc__', 'as_integer_ratio', 'conjugate', 'fromhex', 'hex', 'imag', 'is_integer', 'real']\n"
          ]
        }
      ]
    },
    {
      "cell_type": "code",
      "source": [
        "# 메서드\n",
        "#'conjugate',\n",
        "#'fromhex',\n",
        "#'hex',\n",
        "#'imag',\n",
        "#'is_integer',\n",
        "#'real'"
      ],
      "metadata": {
        "id": "CyrfLJiXnf7A"
      },
      "execution_count": null,
      "outputs": []
    },
    {
      "cell_type": "markdown",
      "source": [
        "# 복소수 자료형(complex)"
      ],
      "metadata": {
        "id": "o7J0xJ2snqZg"
      }
    },
    {
      "cell_type": "code",
      "source": [
        "x = 3 + 4j"
      ],
      "metadata": {
        "id": "5hayQHXEnzPs"
      },
      "execution_count": null,
      "outputs": []
    },
    {
      "cell_type": "code",
      "source": [
        "type(x), dir(x)"
      ],
      "metadata": {
        "id": "_xooKaH8n1Bf"
      },
      "execution_count": null,
      "outputs": []
    },
    {
      "cell_type": "code",
      "source": [
        "#'conjugate',\n",
        "#'imag',\n",
        "#'real'\n"
      ],
      "metadata": {
        "id": "_tVN5REon8_d"
      },
      "execution_count": null,
      "outputs": []
    },
    {
      "cell_type": "code",
      "source": [
        "x = 3 + 4j\n",
        "print(x.real)\n",
        "print(x.imag)\n",
        "y = 5 + 0.04j\n",
        "print(y.real)\n",
        "print(y.imag)"
      ],
      "metadata": {
        "colab": {
          "base_uri": "https://localhost:8080/"
        },
        "id": "wNHmzyMyoDCw",
        "outputId": "acc8119c-7539-4226-de77-7f60aeec89b9"
      },
      "execution_count": null,
      "outputs": [
        {
          "output_type": "stream",
          "name": "stdout",
          "text": [
            "3.0\n",
            "4.0\n",
            "5.0\n",
            "0.04\n"
          ]
        }
      ]
    },
    {
      "cell_type": "markdown",
      "source": [
        "# 문자열 자료형(str)"
      ],
      "metadata": {
        "id": "fA5Ejz6To5jN"
      }
    },
    {
      "cell_type": "code",
      "source": [
        "x = 'hello world'\n",
        "y = 'hello world'\n",
        "z = '''hello world'''  # 여러줄 가능\n",
        "k = \"\"\"hello wolrd\"\"\"  # 여러줄 가능"
      ],
      "metadata": {
        "id": "EGQQ0GfWo6uf"
      },
      "execution_count": null,
      "outputs": []
    },
    {
      "cell_type": "code",
      "source": [
        "# 회사마다 컨벤션이 다르다\n",
        "a = '''hello \\n world'''\n",
        "a # 그냥 a를 출력했을 때\n",
        "print(a) # print로 a를 출력했을 때"
      ],
      "metadata": {
        "colab": {
          "base_uri": "https://localhost:8080/"
        },
        "id": "tWWapuIDpWHM",
        "outputId": "c5149d29-a6d3-4455-9e5d-be53474ee12e"
      },
      "execution_count": null,
      "outputs": [
        {
          "output_type": "stream",
          "name": "stdout",
          "text": [
            "hello \n",
            " world\n"
          ]
        }
      ]
    },
    {
      "cell_type": "code",
      "source": [
        "# 참고로 r표기는 Django 2.x에서 url이 정규표현식을 쓰기 때문에\n",
        "# 자주 볼 수도 있다 3.x에서는 삭제됨\n",
        "a = r'hello \\n wolrd' # r은 raw 날것의 의미를 가지고 있다\n",
        "b = '\\nhello world'\n",
        "print(a, b)"
      ],
      "metadata": {
        "colab": {
          "base_uri": "https://localhost:8080/"
        },
        "id": "0m5VEa2Lpv8N",
        "outputId": "ef4dca5b-a993-4614-ecf4-c2710250ff64"
      },
      "execution_count": null,
      "outputs": [
        {
          "output_type": "stream",
          "name": "stdout",
          "text": [
            "hello \\n wolrd \n",
            "hello world\n"
          ]
        }
      ]
    },
    {
      "cell_type": "code",
      "source": [
        "i = '''안녕하세요.\n",
        "저는 위니브의 대표 이호준입니다.\n",
        "파이썬 참 좋아요.\n",
        "여러분 정말 잘 선택하셨어요.\n",
        "'''\n"
      ],
      "metadata": {
        "id": "HcjelLb3qgh5"
      },
      "execution_count": null,
      "outputs": []
    },
    {
      "cell_type": "code",
      "source": [
        "i # 이스케이프 문자가 처리안되어 출력\n",
        "print(i) # 이스케이프 문자가 처리되어 출력"
      ],
      "metadata": {
        "colab": {
          "base_uri": "https://localhost:8080/"
        },
        "id": "MNgp2rukqhjs",
        "outputId": "b216fe48-6b25-41d5-e35b-d453aac2bb5d"
      },
      "execution_count": null,
      "outputs": [
        {
          "output_type": "stream",
          "name": "stdout",
          "text": [
            "안녕하세요.\n",
            "저는 위니브의 대표 이호준입니다.\n",
            "파이썬 참 좋아요.\n",
            "여러분 정말 잘 선택하셨어요.\n",
            "\n"
          ]
        }
      ]
    },
    {
      "cell_type": "code",
      "source": [
        "# 문자열의 연산\n",
        "x = 'hello'\n",
        "y = 'world'\n",
        "print(x + y)"
      ],
      "metadata": {
        "colab": {
          "base_uri": "https://localhost:8080/"
        },
        "id": "nbBw9tcYq2M0",
        "outputId": "09ba3385-4e9c-4e7f-9fe7-2601e68e639d"
      },
      "execution_count": null,
      "outputs": [
        {
          "output_type": "stream",
          "name": "stdout",
          "text": [
            "helloworld\n"
          ]
        }
      ]
    },
    {
      "cell_type": "code",
      "source": [
        "x = 'hello'\n",
        "print(x * 3)"
      ],
      "metadata": {
        "colab": {
          "base_uri": "https://localhost:8080/"
        },
        "id": "8ejHBuA5q3fK",
        "outputId": "36d089a1-ca4c-43c7-9636-dd7f3bd2c921"
      },
      "execution_count": null,
      "outputs": [
        {
          "output_type": "stream",
          "name": "stdout",
          "text": [
            "hellohellohello\n"
          ]
        }
      ]
    },
    {
      "cell_type": "code",
      "source": [
        "# 이런 연산들은 문자열에서는 문제가 없지만\n",
        "# 다른 자료형들은 아래와 같은 문제가 발생한다\n",
        "x = [[100]*3, [10]*2]\n",
        "x"
      ],
      "metadata": {
        "colab": {
          "base_uri": "https://localhost:8080/"
        },
        "id": "xBL_jdptq56r",
        "outputId": "3e31da3e-c8dc-45a7-acd1-3c1f7bffe630"
      },
      "execution_count": null,
      "outputs": [
        {
          "output_type": "execute_result",
          "data": {
            "text/plain": [
              "[[100, 100, 100], [10, 10]]"
            ]
          },
          "metadata": {},
          "execution_count": 1
        }
      ]
    },
    {
      "cell_type": "code",
      "source": [
        "x[0][0] = 1\n",
        "x"
      ],
      "metadata": {
        "colab": {
          "base_uri": "https://localhost:8080/"
        },
        "id": "_ZdgCa9IrP2a",
        "outputId": "effb0413-64b4-489d-a403-ed9e2274d6b6"
      },
      "execution_count": null,
      "outputs": [
        {
          "output_type": "execute_result",
          "data": {
            "text/plain": [
              "[[1, 100, 100], [10, 10]]"
            ]
          },
          "metadata": {},
          "execution_count": 40
        }
      ]
    },
    {
      "cell_type": "code",
      "source": [
        "x = [[[]*2]*3]*2\n",
        "print(x)\n",
        "x[0][0] = 10\n",
        "print(x)\n",
        "print(id(x))\n",
        "\n",
        "# 가리키고 있는 주소가 복사되었기때문 (id를 찍어보자)"
      ],
      "metadata": {
        "colab": {
          "base_uri": "https://localhost:8080/"
        },
        "id": "BSTwH76CrXYb",
        "outputId": "0ae17eb8-f78c-4298-b42f-8e77a8d6ea94"
      },
      "execution_count": null,
      "outputs": [
        {
          "output_type": "stream",
          "name": "stdout",
          "text": [
            "[[[], [], []], [[], [], []]]\n",
            "[[10, [], []], [10, [], []]]\n",
            "138462171997184\n"
          ]
        }
      ]
    },
    {
      "cell_type": "markdown",
      "source": [
        "## 문자열 인덱싱"
      ],
      "metadata": {
        "id": "dhfV9YG-r6SS"
      }
    },
    {
      "cell_type": "code",
      "source": [
        "s = 'hello world'\n",
        "s[0]"
      ],
      "metadata": {
        "colab": {
          "base_uri": "https://localhost:8080/",
          "height": 35
        },
        "id": "EZFAdLlEr8cL",
        "outputId": "fc594b33-d64a-4bbe-cc40-d94f3e6ce2bb"
      },
      "execution_count": null,
      "outputs": [
        {
          "output_type": "execute_result",
          "data": {
            "text/plain": [
              "'h'"
            ],
            "application/vnd.google.colaboratory.intrinsic+json": {
              "type": "string"
            }
          },
          "metadata": {},
          "execution_count": 13
        }
      ]
    },
    {
      "cell_type": "code",
      "source": [
        "s[-1]"
      ],
      "metadata": {
        "colab": {
          "base_uri": "https://localhost:8080/",
          "height": 35
        },
        "id": "Yt8v62hysMka",
        "outputId": "29f843f7-c718-4f23-96bd-03901e66c9d0"
      },
      "execution_count": null,
      "outputs": [
        {
          "output_type": "execute_result",
          "data": {
            "text/plain": [
              "'d'"
            ],
            "application/vnd.google.colaboratory.intrinsic+json": {
              "type": "string"
            }
          },
          "metadata": {},
          "execution_count": 45
        }
      ]
    },
    {
      "cell_type": "code",
      "source": [
        "s[-11]"
      ],
      "metadata": {
        "colab": {
          "base_uri": "https://localhost:8080/",
          "height": 35
        },
        "id": "uwjU6F5psQp2",
        "outputId": "08ddc3a7-8850-43fb-9d6d-d12e1e92fb87"
      },
      "execution_count": null,
      "outputs": [
        {
          "output_type": "execute_result",
          "data": {
            "text/plain": [
              "'h'"
            ],
            "application/vnd.google.colaboratory.intrinsic+json": {
              "type": "string"
            }
          },
          "metadata": {},
          "execution_count": 47
        }
      ]
    },
    {
      "cell_type": "code",
      "source": [
        "# 중요 (양수와 음수는 한 번만 끝까지 가고 그 다음부터는 반복되지 안한다)\n",
        "s[-12] #error: out of range\n",
        "s[100] #error: out of range"
      ],
      "metadata": {
        "id": "DKlyw9QIsVwi"
      },
      "execution_count": null,
      "outputs": []
    },
    {
      "cell_type": "code",
      "source": [
        "s = 'weniv CEO leehojun'\n",
        "# s[start:stop:step]\n",
        "# ':step'은 통으로 생략이 가능하다\n",
        "# start와 stop은 숫자만 생략 가능하다 s[start(숫자):stop(숫자)](:step은 생략한 것) => s[:]\n",
        "# 중요!! slicing은 error 발생시키지 않는다"
      ],
      "metadata": {
        "id": "vvPoe_1L98qf"
      },
      "execution_count": null,
      "outputs": []
    },
    {
      "cell_type": "code",
      "source": [],
      "metadata": {
        "colab": {
          "base_uri": "https://localhost:8080/",
          "height": 35
        },
        "id": "pY5D-AFY69ce",
        "outputId": "d386336d-f743-42b8-9ddb-4385d688dfbf"
      },
      "execution_count": null,
      "outputs": [
        {
          "output_type": "execute_result",
          "data": {
            "text/plain": [
              "'weniv CEO leehojun'"
            ],
            "application/vnd.google.colaboratory.intrinsic+json": {
              "type": "string"
            }
          },
          "metadata": {},
          "execution_count": 26
        }
      ]
    },
    {
      "cell_type": "code",
      "source": [
        "s[0:5]\n",
        "# s[5:0]\n",
        "s[:5]\n",
        "s[6:]\n",
        "s[0:5:2]\n",
        "# 2칸씩 건너 띄는 코드는 거의 작성하지 않고(알고리즘 문제에서는 많이 사용합니다.)\n",
        "# step 값으로는 -1을 많이 사용합니다.\n",
        "s[::-1]\n",
        "s[5:0:-1] # ????, 왜 의도한 바대로 안나왔을까요? 5부터 1까지이기 때문에 그렇습니다!\n",
        "# 'weniv CEO leehojun' 여기서 5부터 시작해보세요!"
      ],
      "metadata": {
        "colab": {
          "base_uri": "https://localhost:8080/",
          "height": 35
        },
        "id": "DzOKKfqp-V5z",
        "outputId": "d052bedf-515f-4dbc-af68-e8aa712fc252"
      },
      "execution_count": null,
      "outputs": [
        {
          "output_type": "execute_result",
          "data": {
            "text/plain": [
              "' vine'"
            ],
            "application/vnd.google.colaboratory.intrinsic+json": {
              "type": "string"
            }
          },
          "metadata": {},
          "execution_count": 31
        }
      ]
    },
    {
      "cell_type": "code",
      "source": [
        "s = 'leehojun.png'\n",
        "# 자주쓰지만 햇갈리는 것\n",
        "# 문제1 : .png를 잘라주기\n",
        "s[:-4] # step값이 음의 값이 아니다\n",
        "       # -4를 양의 인덱스로 변환 후 슬라이싱한다\n",
        "# 문제2 : png만 잘라서 남기기\n",
        "s[-3:]\n",
        "s[9:]\n",
        "# 슬라이싱에서 알아두어야 할 점\n",
        "# 슬라이싱이 C구현체로 되어 있어 메서드보다 통상 8배 정도 빠르다\n",
        "# 슬라이싱으로 copy한 객체는 얕은 복사가 됩니다\n",
        "# error를 뿜지 않는다"
      ],
      "metadata": {
        "colab": {
          "base_uri": "https://localhost:8080/",
          "height": 35
        },
        "id": "Za027-5kAFVE",
        "outputId": "c522b62e-9200-41de-b6b6-07a3a5499d91"
      },
      "execution_count": null,
      "outputs": [
        {
          "output_type": "execute_result",
          "data": {
            "text/plain": [
              "'png'"
            ],
            "application/vnd.google.colaboratory.intrinsic+json": {
              "type": "string"
            }
          },
          "metadata": {},
          "execution_count": 69
        }
      ]
    },
    {
      "cell_type": "code",
      "source": [
        "# 아래처럼 되면 x와 y는 다른 곳을 가리키게 된다\n",
        "x = [10, 20, 30]\n",
        "y = x[:]\n",
        "\n",
        "print(id(x),id(y))\n",
        "# 아래처럼 되면 x와 y는 같은 곳을 가리키게 된다\n",
        "x = [10 ,20, 30]\n",
        "y = x\n",
        "\n",
        "print(id(x),id(y))"
      ],
      "metadata": {
        "colab": {
          "base_uri": "https://localhost:8080/"
        },
        "id": "jY5hzqNmDCMe",
        "outputId": "2227722c-bacc-4e8a-855a-a80867d2fdf8"
      },
      "execution_count": null,
      "outputs": [
        {
          "output_type": "stream",
          "name": "stdout",
          "text": [
            "133204019638528 133203161749504\n",
            "133203160803968 133203160803968\n"
          ]
        }
      ]
    },
    {
      "cell_type": "code",
      "source": [],
      "metadata": {
        "colab": {
          "base_uri": "https://localhost:8080/",
          "height": 35
        },
        "id": "ebqkiBx5B4kQ",
        "outputId": "be965fad-a7bf-4448-c904-9cc7df147c29"
      },
      "execution_count": null,
      "outputs": [
        {
          "output_type": "execute_result",
          "data": {
            "text/plain": [
              "'leehojun'"
            ],
            "application/vnd.google.colaboratory.intrinsic+json": {
              "type": "string"
            }
          },
          "metadata": {},
          "execution_count": 70
        }
      ]
    },
    {
      "cell_type": "markdown",
      "source": [
        "## 문자열에 메서드"
      ],
      "metadata": {
        "id": "nkkjFs4AEUVy"
      }
    },
    {
      "cell_type": "code",
      "source": [
        "s = 'weniv CEO licat'\n",
        "type(s), dir(s)"
      ],
      "metadata": {
        "id": "arOWfLpMEpui"
      },
      "execution_count": null,
      "outputs": []
    },
    {
      "cell_type": "code",
      "source": [
        "s = 'weniv CEO licat'\n",
        "s.lower() #전체를 소문자로 바꿔주는 method\n",
        "s.upper() #전체를 대문자로 바꿔주는 method"
      ],
      "metadata": {
        "id": "XyaxvbblEXRf"
      },
      "execution_count": null,
      "outputs": []
    },
    {
      "cell_type": "code",
      "source": [
        "s = 'weniv CEO licat'\n",
        "s.find('CEO') ,s.index('CEO')"
      ],
      "metadata": {
        "colab": {
          "base_uri": "https://localhost:8080/"
        },
        "id": "gjTac7n4E0RB",
        "outputId": "ff48701a-67b4-4252-c749-4c7b88f19308"
      },
      "execution_count": null,
      "outputs": [
        {
          "output_type": "execute_result",
          "data": {
            "text/plain": [
              "(6, 6)"
            ]
          },
          "metadata": {},
          "execution_count": 77
        }
      ]
    },
    {
      "cell_type": "code",
      "source": [
        "s = 'weniv CEO licat'\n",
        "s.find('CTO')"
      ],
      "metadata": {
        "colab": {
          "base_uri": "https://localhost:8080/"
        },
        "id": "0sabVIufFjm1",
        "outputId": "bd39be5d-3a59-4cd1-80e3-2940af4c0a1e"
      },
      "execution_count": null,
      "outputs": [
        {
          "output_type": "execute_result",
          "data": {
            "text/plain": [
              "-1"
            ]
          },
          "metadata": {},
          "execution_count": 78
        }
      ]
    },
    {
      "cell_type": "code",
      "source": [
        "s = 'weniv CEO licat'\n",
        "s.index('CTO')"
      ],
      "metadata": {
        "colab": {
          "base_uri": "https://localhost:8080/"
        },
        "id": "E9cCLCgeFpen",
        "outputId": "ce953365-5fd4-41b2-bd55-9530f4b542e5"
      },
      "execution_count": null,
      "outputs": [
        {
          "output_type": "execute_result",
          "data": {
            "text/plain": [
              "6"
            ]
          },
          "metadata": {},
          "execution_count": 79
        }
      ]
    },
    {
      "cell_type": "code",
      "source": [
        "# 의도에 맞게 둘 다 사용한다\n",
        "# find는 사용할 때 주의해야한다\n",
        "s = 'weniv CEO licat'\n",
        "bool(s.find('CTO'))       # -1도 트루로 반환하기 때문에\n",
        "bool(s.find('CTO') == -1) # -1인지 확인하는게 필요\n",
        "# 또 -1이 python에서는 index도 있기 때문에 주의해야한다"
      ],
      "metadata": {
        "colab": {
          "base_uri": "https://localhost:8080/"
        },
        "id": "xsryUzdgFsSV",
        "outputId": "9a0c40a5-2ff0-4e5f-ca96-9b0bbe628c3b"
      },
      "execution_count": null,
      "outputs": [
        {
          "output_type": "execute_result",
          "data": {
            "text/plain": [
              "False"
            ]
          },
          "metadata": {},
          "execution_count": 83
        }
      ]
    },
    {
      "cell_type": "code",
      "source": [
        "s = 'weniv CEO licat'\n",
        "s.count('i')"
      ],
      "metadata": {
        "colab": {
          "base_uri": "https://localhost:8080/"
        },
        "id": "zn5M0n2tGEJj",
        "outputId": "b368a389-9cfa-4c0d-bf8c-2c940063bce0"
      },
      "execution_count": null,
      "outputs": [
        {
          "output_type": "execute_result",
          "data": {
            "text/plain": [
              "2"
            ]
          },
          "metadata": {},
          "execution_count": 82
        }
      ]
    },
    {
      "cell_type": "code",
      "source": [
        "# 1부터 17까지 1의 갯수 카운팅\n",
        "'[1,2,3,4,5,6,7,8,9,10,11,12,13,14,15,16,17]'.count('1')"
      ],
      "metadata": {
        "colab": {
          "base_uri": "https://localhost:8080/"
        },
        "id": "cDudasqiGoYu",
        "outputId": "bb4f539d-57d7-49c4-fb74-3c46370e4b8a"
      },
      "execution_count": null,
      "outputs": [
        {
          "output_type": "execute_result",
          "data": {
            "text/plain": [
              "10"
            ]
          },
          "metadata": {},
          "execution_count": 84
        }
      ]
    },
    {
      "cell_type": "code",
      "source": [
        "s = '    weniv CEO licat     '\n",
        "print(s)\n",
        "s.strip() #양쪽 공백을 제거하는 method"
      ],
      "metadata": {
        "colab": {
          "base_uri": "https://localhost:8080/",
          "height": 53
        },
        "id": "y-Vxwno-HiLP",
        "outputId": "b4a3b86c-f25e-4fd9-882e-a7fa11636b5b"
      },
      "execution_count": null,
      "outputs": [
        {
          "output_type": "stream",
          "name": "stdout",
          "text": [
            "    weniv CEO licat     \n"
          ]
        },
        {
          "output_type": "execute_result",
          "data": {
            "text/plain": [
              "'weniv CEO licat'"
            ],
            "application/vnd.google.colaboratory.intrinsic+json": {
              "type": "string"
            }
          },
          "metadata": {},
          "execution_count": 85
        }
      ]
    },
    {
      "cell_type": "code",
      "source": [
        "'    ,!!  hello world   '.strip(' ,!')\n",
        "#양쪽의 공백과 ',!'을 제거해주는 method"
      ],
      "metadata": {
        "colab": {
          "base_uri": "https://localhost:8080/",
          "height": 35
        },
        "id": "vNvw72MCHsqg",
        "outputId": "6bb3acda-0a49-44c1-f324-c45311a47f5e"
      },
      "execution_count": null,
      "outputs": [
        {
          "output_type": "execute_result",
          "data": {
            "text/plain": [
              "'hello world'"
            ],
            "application/vnd.google.colaboratory.intrinsic+json": {
              "type": "string"
            }
          },
          "metadata": {},
          "execution_count": 88
        }
      ]
    },
    {
      "cell_type": "code",
      "source": [
        "' hello world! !'.strip('!')  # 공백이 없으면 ' hello world! '\n",
        "' hello world! !'.strip(' !') # 공백이 있으면 'hello world'"
      ],
      "metadata": {
        "colab": {
          "base_uri": "https://localhost:8080/",
          "height": 35
        },
        "id": "sRe0i-Cc74Zc",
        "outputId": "d076123b-2f67-4c93-fe7c-d85a49b2444e"
      },
      "execution_count": null,
      "outputs": [
        {
          "output_type": "execute_result",
          "data": {
            "text/plain": [
              "'hello world'"
            ],
            "application/vnd.google.colaboratory.intrinsic+json": {
              "type": "string"
            }
          },
          "metadata": {},
          "execution_count": 42
        }
      ]
    },
    {
      "cell_type": "code",
      "source": [
        "s = 'weniv CEO licat CEO'\n",
        "s.replace('CEO', 'CTO') #원하는 문자열을 다른 문자열로 대체할 때 사용하는 method\n",
        "# JavaScript와 다른 점\n",
        "# 1. 정규표현식이 안된다\n",
        "# 2. replaceAll과 같다"
      ],
      "metadata": {
        "id": "f5nGU0sjH9YZ"
      },
      "execution_count": null,
      "outputs": []
    },
    {
      "cell_type": "code",
      "source": [
        "'hello world'.split(' ')"
      ],
      "metadata": {
        "colab": {
          "base_uri": "https://localhost:8080/"
        },
        "id": "fbYW4XftMFyQ",
        "outputId": "cca3eda3-e3a3-4c68-d33f-8c51711bf0ff"
      },
      "execution_count": null,
      "outputs": [
        {
          "output_type": "execute_result",
          "data": {
            "text/plain": [
              "['hello', 'world']"
            ]
          },
          "metadata": {},
          "execution_count": 89
        }
      ]
    },
    {
      "cell_type": "code",
      "source": [
        "'010-1111-2222'.split('-') #01011112222\n",
        "''.join('010-1111-2222'.split('-') )  #01011112222"
      ],
      "metadata": {
        "colab": {
          "base_uri": "https://localhost:8080/",
          "height": 35
        },
        "id": "hn1ZEZq_MNSa",
        "outputId": "ac43ab3a-ef8a-4eb4-e51f-0590f24f1b95"
      },
      "execution_count": null,
      "outputs": [
        {
          "output_type": "execute_result",
          "data": {
            "text/plain": [
              "'01011112222'"
            ],
            "application/vnd.google.colaboratory.intrinsic+json": {
              "type": "string"
            }
          },
          "metadata": {},
          "execution_count": 93
        }
      ]
    },
    {
      "cell_type": "code",
      "source": [
        "s = ['010','1111','2222']\n",
        "'-'.join(s)\n"
      ],
      "metadata": {
        "colab": {
          "base_uri": "https://localhost:8080/",
          "height": 35
        },
        "id": "5n2TfQAA-V_8",
        "outputId": "8d5fbc2f-8e1b-475f-fdad-3ff350898529"
      },
      "execution_count": null,
      "outputs": [
        {
          "output_type": "execute_result",
          "data": {
            "text/plain": [
              "'010-1111-2222'"
            ],
            "application/vnd.google.colaboratory.intrinsic+json": {
              "type": "string"
            }
          },
          "metadata": {},
          "execution_count": 51
        }
      ]
    },
    {
      "cell_type": "code",
      "source": [
        "name = 'leesumin'\n",
        "age = 24\n",
        "\n",
        "print('제 이름은', name, '제 나이는', age)\n",
        "print('제 이름은 %s 제 나이는 %d 입니다' % (name, age) ) # 이제는 사용하지 않는 문법이다\n",
        "print('제 이름은 {0} 제 나이는 {1}'.replace('{0}', name).replace('{1}', str(age)))\n",
        "print('제 이름은 {0} 제 나이는 {1}'.format(name, age)) # format은 str에 메서드\n",
        "print(f'제 이름은 {name} 제 나이는 {age}') # 권고합니다"
      ],
      "metadata": {
        "colab": {
          "base_uri": "https://localhost:8080/"
        },
        "id": "uFOtQXwANaIP",
        "outputId": "4e96fb03-c5ab-4314-9bd8-657e4d1bbd59"
      },
      "execution_count": null,
      "outputs": [
        {
          "output_type": "stream",
          "name": "stdout",
          "text": [
            "제 이름은 leesumin 제 나이는 24\n",
            "제 이름은 leesumin 제 나이는 24 입니다\n",
            "제 이름은 leesumin 제 나이는 24\n",
            "제 이름은 leesumin 제 나이는 24\n",
            "제 이름은 leesumin 제 나이는 24\n"
          ]
        }
      ]
    },
    {
      "cell_type": "code",
      "source": [
        "# 아스키코드에도 적용된다\n",
        "'abcd1234'.isalnum()\n",
        "'안녕'.isalnum()"
      ],
      "metadata": {
        "colab": {
          "base_uri": "https://localhost:8080/"
        },
        "id": "CbSRGiXoP6wa",
        "outputId": "b256c4c0-81b3-4cc2-a044-17ef81ea6f1e"
      },
      "execution_count": null,
      "outputs": [
        {
          "output_type": "execute_result",
          "data": {
            "text/plain": [
              "True"
            ]
          },
          "metadata": {},
          "execution_count": 103
        }
      ]
    },
    {
      "cell_type": "code",
      "source": [
        "'abcd1234'.isalnum()\n",
        "'안녕'.isalnum() # 유니코드에도 적용\n",
        "'こんにちは'.isalnum()\n",
        "'你好'.isalnum()\n",
        "\n",
        "# '안녕'.isascii()\n",
        "# 'hello'.isascii()"
      ],
      "metadata": {
        "id": "Es6bq_9NAcAb"
      },
      "execution_count": null,
      "outputs": []
    },
    {
      "cell_type": "code",
      "source": [
        "print('abcd1234'.isalpha())\n",
        "print('안녕'.isalpha())\n",
        "print('こんにちは'.isalpha())\n",
        "print('你好'.isalpha())"
      ],
      "metadata": {
        "id": "M4x9dgeRAj4x"
      },
      "execution_count": null,
      "outputs": []
    },
    {
      "cell_type": "code",
      "source": [
        "'hello world'.isdigit()\n",
        "'안녕'.isdigit()\n",
        "'12.3'.isdigit() # 점을 찍으면 문자로 인식\n",
        "'10e10'.isdigit() # 지수표현 안된다\n",
        "'123'.isdigit()"
      ],
      "metadata": {
        "colab": {
          "base_uri": "https://localhost:8080/"
        },
        "id": "7L3tFantQjNa",
        "outputId": "8aac0545-4eff-4f43-9910-4b9c0bd1e559"
      },
      "execution_count": null,
      "outputs": [
        {
          "output_type": "execute_result",
          "data": {
            "text/plain": [
              "False"
            ]
          },
          "metadata": {},
          "execution_count": 108
        }
      ]
    },
    {
      "cell_type": "code",
      "source": [
        "'hello world'.isalpha() # 공백이 있기에 false\n",
        "'helloworld'.isalpha()"
      ],
      "metadata": {
        "colab": {
          "base_uri": "https://localhost:8080/"
        },
        "id": "wZv48MkwQ6rT",
        "outputId": "9199d9b2-0439-4687-a431-27c2eaa7700f"
      },
      "execution_count": null,
      "outputs": [
        {
          "output_type": "execute_result",
          "data": {
            "text/plain": [
              "True"
            ]
          },
          "metadata": {},
          "execution_count": 109
        }
      ]
    },
    {
      "cell_type": "code",
      "source": [
        "s = 'licat'\n",
        "s.center(11, '-') #문자열을 지정한 길이로 맞추고, 양쪽을 '-'로 채우는 method"
      ],
      "metadata": {
        "colab": {
          "base_uri": "https://localhost:8080/",
          "height": 35
        },
        "id": "-kqyHKK8TCRm",
        "outputId": "9413cd72-2e97-4aeb-f69f-d61967cda50c"
      },
      "execution_count": null,
      "outputs": [
        {
          "output_type": "execute_result",
          "data": {
            "text/plain": [
              "'---licat---'"
            ],
            "application/vnd.google.colaboratory.intrinsic+json": {
              "type": "string"
            }
          },
          "metadata": {},
          "execution_count": 110
        }
      ]
    },
    {
      "cell_type": "code",
      "source": [
        "s = ' licat '\n",
        "s.center(16, '-') #문자열을 지정한 길이로 맞추고, 양쪽을 '-'로 채우는 method"
      ],
      "metadata": {
        "colab": {
          "base_uri": "https://localhost:8080/",
          "height": 35
        },
        "id": "IkdZPu_aTDAy",
        "outputId": "0f18c4cf-32e5-4e6a-a4ca-3ff9986708d5"
      },
      "execution_count": null,
      "outputs": [
        {
          "output_type": "execute_result",
          "data": {
            "text/plain": [
              "'---- licat -----'"
            ],
            "application/vnd.google.colaboratory.intrinsic+json": {
              "type": "string"
            }
          },
          "metadata": {},
          "execution_count": 113
        }
      ]
    },
    {
      "cell_type": "code",
      "source": [
        "x = \"42\"\n",
        "result = x.zfill(5)\n",
        "print(result)  # 00042"
      ],
      "metadata": {
        "colab": {
          "base_uri": "https://localhost:8080/"
        },
        "id": "HrIbaW54TMVX",
        "outputId": "ae96dfd4-9b4d-4d8f-a83b-41e8974448ca"
      },
      "execution_count": null,
      "outputs": [
        {
          "output_type": "stream",
          "name": "stdout",
          "text": [
            "00042\n"
          ]
        }
      ]
    },
    {
      "cell_type": "code",
      "source": [
        "filename = '1'.zfill(3) + \".jpg\"\n",
        "print(filename)"
      ],
      "metadata": {
        "colab": {
          "base_uri": "https://localhost:8080/"
        },
        "id": "uaU2tmqSTpPP",
        "outputId": "b4544259-4905-4b48-b228-48d3b80b50ac"
      },
      "execution_count": null,
      "outputs": [
        {
          "output_type": "stream",
          "name": "stdout",
          "text": [
            "001.jpg\n"
          ]
        }
      ]
    },
    {
      "cell_type": "code",
      "source": [
        "년 = '23'\n",
        "월 = '9'\n",
        "일 = '8'\n",
        "오늘날짜 = f'{년}/{월}/{일}'\n",
        "print(오늘날짜)\n",
        "오늘날짜 = f'{년}/{월.zfill(2)}/{일.zfill(2)}' #원하는 양식 23/09/08\n",
        "print(오늘날짜)"
      ],
      "metadata": {
        "colab": {
          "base_uri": "https://localhost:8080/"
        },
        "id": "DyCYC9Z9T96w",
        "outputId": "c8db183e-458b-4caa-94f2-bb3fb718dd01"
      },
      "execution_count": null,
      "outputs": [
        {
          "output_type": "stream",
          "name": "stdout",
          "text": [
            "23/9/8\n",
            "23/09/08\n"
          ]
        }
      ]
    },
    {
      "cell_type": "code",
      "source": [
        "table = str.maketrans(\"abc\", \"123\")\n",
        "'akbkckdkek'.translate(table)"
      ],
      "metadata": {
        "colab": {
          "base_uri": "https://localhost:8080/",
          "height": 35
        },
        "id": "hNQj30UhUk-J",
        "outputId": "e1112ba0-2af6-4124-f352-b4e8d5a9fade"
      },
      "execution_count": null,
      "outputs": [
        {
          "output_type": "execute_result",
          "data": {
            "text/plain": [
              "'1k2k3kdkek'"
            ],
            "application/vnd.google.colaboratory.intrinsic+json": {
              "type": "string"
            }
          },
          "metadata": {},
          "execution_count": 144
        }
      ]
    },
    {
      "cell_type": "code",
      "source": [
        "table = str.maketrans(\"\", \"\", \"de\")\n",
        "'abcde'.translate(table)"
      ],
      "metadata": {
        "colab": {
          "base_uri": "https://localhost:8080/",
          "height": 35
        },
        "id": "Oah7n1MuiHsV",
        "outputId": "b581ade5-72ca-4318-a251-8088572c10d1"
      },
      "execution_count": null,
      "outputs": [
        {
          "output_type": "execute_result",
          "data": {
            "text/plain": [
              "'abc'"
            ],
            "application/vnd.google.colaboratory.intrinsic+json": {
              "type": "string"
            }
          },
          "metadata": {},
          "execution_count": 145
        }
      ]
    },
    {
      "cell_type": "code",
      "source": [
        "table = str.maketrans('\\n\\t', '  ') # 똑같은 길이를 가지고 있어야 함\n",
        "'weniv \\n\\n\\n CEO \\t\\t\\t licat'.translate(table)"
      ],
      "metadata": {
        "colab": {
          "base_uri": "https://localhost:8080/",
          "height": 35
        },
        "id": "0Y4wVt1LiTGI",
        "outputId": "8c098c0b-130b-4fe2-c42d-e9224deb6500"
      },
      "execution_count": null,
      "outputs": [
        {
          "output_type": "execute_result",
          "data": {
            "text/plain": [
              "'weniv     CEO     licat'"
            ],
            "application/vnd.google.colaboratory.intrinsic+json": {
              "type": "string"
            }
          },
          "metadata": {},
          "execution_count": 146
        }
      ]
    },
    {
      "cell_type": "code",
      "source": [
        "table = str.maketrans('\\n\\t', '21') # 똑같은 길이를 가지고 있어야 함\n",
        "'weniv \\n\\n\\n CEO \\t\\t\\t licat'.translate(table)"
      ],
      "metadata": {
        "colab": {
          "base_uri": "https://localhost:8080/",
          "height": 35
        },
        "id": "Rzom8qtOicRC",
        "outputId": "fc98c40d-998f-42b0-80d4-0ffd9aff75cd"
      },
      "execution_count": null,
      "outputs": [
        {
          "output_type": "execute_result",
          "data": {
            "text/plain": [
              "'weniv 222 CEO 111 licat'"
            ],
            "application/vnd.google.colaboratory.intrinsic+json": {
              "type": "string"
            }
          },
          "metadata": {},
          "execution_count": 147
        }
      ]
    },
    {
      "cell_type": "code",
      "source": [
        "# 이스케이프 문자\n",
        "print(\"Hello\\nWorld!\") # Hello와 World! 사이에 줄바꿈이 일어납니다.\n",
        "print(\"Hello\\tWorld!\") # Hello와 World! 사이에 탭 간격이 생깁니다.\n",
        "print(\"She said, \\\"Hello World!\\\"\") # 큰따옴표 내부에 문자열을 출력합니다.\n",
        "print('She said, \\'Hello World!\\'') # 작은따옴표 내부에 문자열을 출력합니다.\n",
        "print(\"Backslash: \\\\\") # 백슬래시를 출력합니다."
      ],
      "metadata": {
        "id": "p_2ZP6VKiqcm"
      },
      "execution_count": null,
      "outputs": []
    },
    {
      "cell_type": "markdown",
      "source": [
        "# 연습문제 풀이"
      ],
      "metadata": {
        "id": "Prho-8xEaBJr"
      }
    },
    {
      "cell_type": "code",
      "source": [
        "#카카오 코테 1번문제\n",
        "\n",
        "n = 5\n",
        "arr1 = [9,20,28,18,11]\n",
        "arr2 = [30,1,21,17,28]"
      ],
      "metadata": {
        "id": "7b3WcAOwaDoC"
      },
      "execution_count": null,
      "outputs": []
    },
    {
      "cell_type": "code",
      "source": [
        "# keep해야할 포인트\n",
        "# 1. 2진수는 정수형이다\n",
        "# 2. 다만 bin()은 문자열이다"
      ],
      "metadata": {
        "id": "neue4MW_aV_3"
      },
      "execution_count": null,
      "outputs": []
    },
    {
      "cell_type": "code",
      "source": [
        "# bin(arr1[0]) # 01001\n",
        "# bin(arr2[0]) # 11110\n",
        "\n",
        "bin(arr1[0] | arr2[0])[2:].replace('1','#').replace('0',' ')"
      ],
      "metadata": {
        "colab": {
          "base_uri": "https://localhost:8080/",
          "height": 35
        },
        "id": "pGOvl2TpaiQf",
        "outputId": "7c563f21-81c5-4182-fb82-92b48bedaab6"
      },
      "execution_count": null,
      "outputs": [
        {
          "output_type": "execute_result",
          "data": {
            "text/plain": [
              "'#####'"
            ],
            "application/vnd.google.colaboratory.intrinsic+json": {
              "type": "string"
            }
          },
          "metadata": {},
          "execution_count": 127
        }
      ]
    },
    {
      "cell_type": "code",
      "source": [
        "bin(arr1[1] | arr2[1])[2:].replace('1','#').replace('0',' ')\n",
        "bin(3)[2:].zfill(5).replace('1','#').replace('0',' ')"
      ],
      "metadata": {
        "colab": {
          "base_uri": "https://localhost:8080/",
          "height": 35
        },
        "id": "1Ri9gDDObgao",
        "outputId": "409b3a3a-c475-4419-9725-f2afd267dfa3"
      },
      "execution_count": null,
      "outputs": [
        {
          "output_type": "execute_result",
          "data": {
            "text/plain": [
              "'   ##'"
            ],
            "application/vnd.google.colaboratory.intrinsic+json": {
              "type": "string"
            }
          },
          "metadata": {},
          "execution_count": 130
        }
      ]
    },
    {
      "cell_type": "code",
      "source": [
        "# 코테 입문 3,6,9 게임\n",
        "# '336699' => 6번\n",
        "# '123123' => 2번\n",
        "# '36913699'와 같은 문자열이 입력되었을 때 박수를 몇번쳐야하는지 코드작성\n",
        "s ='36913699'\n",
        "# 정답\n",
        "result = s.count('3') + s.count('6') + s.count('9')\n",
        "result"
      ],
      "metadata": {
        "colab": {
          "base_uri": "https://localhost:8080/"
        },
        "id": "O5jeF3OPc6v8",
        "outputId": "2e88a472-2c2a-424a-bc8b-ecf66133716b"
      },
      "execution_count": null,
      "outputs": [
        {
          "output_type": "execute_result",
          "data": {
            "text/plain": [
              "7"
            ]
          },
          "metadata": {},
          "execution_count": 137
        }
      ]
    },
    {
      "cell_type": "code",
      "source": [
        "# 심화문제\n",
        "# 100까지 박수는 몇번쳐야하는지\n",
        "\n",
        "s = str(list(range(101)))\n",
        "\n",
        "result = s.count('3') + s.count('6') + s.count('9')\n",
        "result"
      ],
      "metadata": {
        "colab": {
          "base_uri": "https://localhost:8080/"
        },
        "id": "RXf_AR1Ofvfz",
        "outputId": "10efdaa4-07cf-453b-a5ff-96f7577b5316"
      },
      "execution_count": null,
      "outputs": [
        {
          "output_type": "execute_result",
          "data": {
            "text/plain": [
              "60"
            ]
          },
          "metadata": {},
          "execution_count": 143
        }
      ]
    },
    {
      "cell_type": "code",
      "source": [
        "# 문자열 s에 마지막에 있는 문자열을 2번 더 붙이는 코드를 작성해주세요.\n",
        "s = input()\n",
        "result = s + s[-1]*2\n",
        "print(result)"
      ],
      "metadata": {
        "colab": {
          "base_uri": "https://localhost:8080/"
        },
        "id": "IQlln9Qloy4I",
        "outputId": "a3331687-e34e-442f-b3be-2a44a2ebf11b"
      },
      "execution_count": null,
      "outputs": [
        {
          "output_type": "stream",
          "name": "stdout",
          "text": [
            "int\n",
            "inttt\n"
          ]
        }
      ]
    },
    {
      "cell_type": "code",
      "source": [
        "#  대문자는 소문자로 치환하는 코드를 작성해주세요.\n",
        "s = input()\n",
        "print(s.lower())"
      ],
      "metadata": {
        "colab": {
          "base_uri": "https://localhost:8080/"
        },
        "id": "JbYbN3j0qvhL",
        "outputId": "8862ea3d-3e71-4d48-be1d-741c0c977414"
      },
      "execution_count": null,
      "outputs": [
        {
          "output_type": "stream",
          "name": "stdout",
          "text": [
            "HI\n",
            "hi\n"
          ]
        }
      ]
    },
    {
      "cell_type": "code",
      "source": [
        "# 'abcde', 숫자, 대쉬(-), 언더스코어(_)를 모두 제거해주세요.\n",
        "text = input()\n",
        "table = str.maketrans('','','abcde-_0123456789')\n",
        "print(text.translate(table))"
      ],
      "metadata": {
        "colab": {
          "base_uri": "https://localhost:8080/"
        },
        "id": "IZapCT_krmcw",
        "outputId": "b71c6c18-ac85-46fc-9e1a-f650fc6ccc5f"
      },
      "execution_count": null,
      "outputs": [
        {
          "output_type": "stream",
          "name": "stdout",
          "text": [
            "999021241932489217598217598213749812508239168721398401234abcdef-_gg\n",
            "fgg\n"
          ]
        }
      ]
    },
    {
      "cell_type": "markdown",
      "source": [
        "# 논리 자료형(bool)"
      ],
      "metadata": {
        "id": "IyAwlb5vi36r"
      }
    },
    {
      "cell_type": "code",
      "source": [
        "x = True\n",
        "y = False\n",
        "z = 10 > 3\n",
        "print(x, y, z)"
      ],
      "metadata": {
        "id": "l-2_ov92i92_",
        "colab": {
          "base_uri": "https://localhost:8080/"
        },
        "outputId": "9644d4de-3b34-4933-9ab9-2a19cdb5d5aa"
      },
      "execution_count": null,
      "outputs": [
        {
          "output_type": "stream",
          "name": "stdout",
          "text": [
            "True False True\n"
          ]
        }
      ]
    },
    {
      "cell_type": "code",
      "source": [
        "x = True\n",
        "dir(x)"
      ],
      "metadata": {
        "colab": {
          "base_uri": "https://localhost:8080/"
        },
        "id": "RE6_joeMaxEx",
        "outputId": "75ba6ff9-9634-4479-d9e5-a5f616d28ea9"
      },
      "execution_count": null,
      "outputs": [
        {
          "output_type": "execute_result",
          "data": {
            "text/plain": [
              "['__abs__',\n",
              " '__add__',\n",
              " '__and__',\n",
              " '__bool__',\n",
              " '__ceil__',\n",
              " '__class__',\n",
              " '__delattr__',\n",
              " '__dir__',\n",
              " '__divmod__',\n",
              " '__doc__',\n",
              " '__eq__',\n",
              " '__float__',\n",
              " '__floor__',\n",
              " '__floordiv__',\n",
              " '__format__',\n",
              " '__ge__',\n",
              " '__getattribute__',\n",
              " '__getnewargs__',\n",
              " '__gt__',\n",
              " '__hash__',\n",
              " '__index__',\n",
              " '__init__',\n",
              " '__init_subclass__',\n",
              " '__int__',\n",
              " '__invert__',\n",
              " '__le__',\n",
              " '__lshift__',\n",
              " '__lt__',\n",
              " '__mod__',\n",
              " '__mul__',\n",
              " '__ne__',\n",
              " '__neg__',\n",
              " '__new__',\n",
              " '__or__',\n",
              " '__pos__',\n",
              " '__pow__',\n",
              " '__radd__',\n",
              " '__rand__',\n",
              " '__rdivmod__',\n",
              " '__reduce__',\n",
              " '__reduce_ex__',\n",
              " '__repr__',\n",
              " '__rfloordiv__',\n",
              " '__rlshift__',\n",
              " '__rmod__',\n",
              " '__rmul__',\n",
              " '__ror__',\n",
              " '__round__',\n",
              " '__rpow__',\n",
              " '__rrshift__',\n",
              " '__rshift__',\n",
              " '__rsub__',\n",
              " '__rtruediv__',\n",
              " '__rxor__',\n",
              " '__setattr__',\n",
              " '__sizeof__',\n",
              " '__str__',\n",
              " '__sub__',\n",
              " '__subclasshook__',\n",
              " '__truediv__',\n",
              " '__trunc__',\n",
              " '__xor__',\n",
              " 'as_integer_ratio',\n",
              " 'bit_count',\n",
              " 'bit_length',\n",
              " 'conjugate',\n",
              " 'denominator',\n",
              " 'from_bytes',\n",
              " 'imag',\n",
              " 'numerator',\n",
              " 'real',\n",
              " 'to_bytes']"
            ]
          },
          "metadata": {},
          "execution_count": 4
        }
      ]
    },
    {
      "cell_type": "markdown",
      "source": [
        "# None"
      ],
      "metadata": {
        "id": "uSIFpG54b-Si"
      }
    },
    {
      "cell_type": "code",
      "source": [
        "# None + 5\n",
        "# None + None\n",
        "# None = 10  전부다 에러"
      ],
      "metadata": {
        "id": "Etla4P5Vb_5u"
      },
      "execution_count": null,
      "outputs": []
    },
    {
      "cell_type": "code",
      "source": [
        "# sum(10, 20, None, 30, 40) # None이 수치연산이 안된다\n"
      ],
      "metadata": {
        "id": "NXHXTEWLdFyW"
      },
      "execution_count": null,
      "outputs": []
    },
    {
      "cell_type": "code",
      "source": [
        "dir(None)"
      ],
      "metadata": {
        "colab": {
          "base_uri": "https://localhost:8080/"
        },
        "id": "8xk6n1IUdTBC",
        "outputId": "db2fc46a-9f71-4585-c013-949248f08f8d"
      },
      "execution_count": null,
      "outputs": [
        {
          "output_type": "execute_result",
          "data": {
            "text/plain": [
              "['__bool__',\n",
              " '__class__',\n",
              " '__delattr__',\n",
              " '__dir__',\n",
              " '__doc__',\n",
              " '__eq__',\n",
              " '__format__',\n",
              " '__ge__',\n",
              " '__getattribute__',\n",
              " '__gt__',\n",
              " '__hash__',\n",
              " '__init__',\n",
              " '__init_subclass__',\n",
              " '__le__',\n",
              " '__lt__',\n",
              " '__ne__',\n",
              " '__new__',\n",
              " '__reduce__',\n",
              " '__reduce_ex__',\n",
              " '__repr__',\n",
              " '__setattr__',\n",
              " '__sizeof__',\n",
              " '__str__',\n",
              " '__subclasshook__']"
            ]
          },
          "metadata": {},
          "execution_count": 8
        }
      ]
    },
    {
      "cell_type": "code",
      "source": [
        "x = None\n",
        "y = None\n",
        "print(id(x),id(y))"
      ],
      "metadata": {
        "colab": {
          "base_uri": "https://localhost:8080/"
        },
        "id": "pl4zP6dYdXMq",
        "outputId": "cd060cbf-57be-4fa4-b39b-416454402c9c"
      },
      "execution_count": null,
      "outputs": [
        {
          "output_type": "stream",
          "name": "stdout",
          "text": [
            "95529205167072 95529205167072\n"
          ]
        }
      ]
    },
    {
      "cell_type": "code",
      "source": [
        "x = None\n",
        "print(x == None) # True , 하지만 이 방식은 권장되지 않는다\n",
        "print(x is None) # True, 이 방식을 사용해서 None을 확인하는 것이 좋다."
      ],
      "metadata": {
        "colab": {
          "base_uri": "https://localhost:8080/"
        },
        "id": "T0aGOKzedgDc",
        "outputId": "76b89e3a-1b4d-49d6-d785-32218354dde4"
      },
      "execution_count": null,
      "outputs": [
        {
          "output_type": "stream",
          "name": "stdout",
          "text": [
            "True\n",
            "True\n"
          ]
        }
      ]
    },
    {
      "cell_type": "code",
      "source": [
        "class character:\n",
        "    def __init__(self, hp, mp):\n",
        "        self.hp = hp\n",
        "        self.mp = mp\n",
        "    def __eq__(self, other):\n",
        "        return True\n",
        "주인공 = character(100, 100)\n",
        "print(주인공 == None)\n",
        "print(주인공 is None) # is는 id 값을 기준으로 판단\n",
        "id(주인공)"
      ],
      "metadata": {
        "colab": {
          "base_uri": "https://localhost:8080/"
        },
        "id": "G-ZUGFnIeAnW",
        "outputId": "bda15364-a561-4c3c-824c-0f375c4ef05c"
      },
      "execution_count": null,
      "outputs": [
        {
          "output_type": "stream",
          "name": "stdout",
          "text": [
            "True\n",
            "False\n"
          ]
        },
        {
          "output_type": "execute_result",
          "data": {
            "text/plain": [
              "139512278109344"
            ]
          },
          "metadata": {},
          "execution_count": 14
        }
      ]
    },
    {
      "cell_type": "code",
      "source": [
        "dir(3)"
      ],
      "metadata": {
        "colab": {
          "base_uri": "https://localhost:8080/"
        },
        "id": "5NwwGuIzfIY8",
        "outputId": "ce0f5690-8345-4cb7-cbfe-4046cc49768e"
      },
      "execution_count": null,
      "outputs": [
        {
          "output_type": "execute_result",
          "data": {
            "text/plain": [
              "['__abs__',\n",
              " '__add__',\n",
              " '__and__',\n",
              " '__bool__',\n",
              " '__ceil__',\n",
              " '__class__',\n",
              " '__delattr__',\n",
              " '__dir__',\n",
              " '__divmod__',\n",
              " '__doc__',\n",
              " '__eq__',\n",
              " '__float__',\n",
              " '__floor__',\n",
              " '__floordiv__',\n",
              " '__format__',\n",
              " '__ge__',\n",
              " '__getattribute__',\n",
              " '__getnewargs__',\n",
              " '__gt__',\n",
              " '__hash__',\n",
              " '__index__',\n",
              " '__init__',\n",
              " '__init_subclass__',\n",
              " '__int__',\n",
              " '__invert__',\n",
              " '__le__',\n",
              " '__lshift__',\n",
              " '__lt__',\n",
              " '__mod__',\n",
              " '__mul__',\n",
              " '__ne__',\n",
              " '__neg__',\n",
              " '__new__',\n",
              " '__or__',\n",
              " '__pos__',\n",
              " '__pow__',\n",
              " '__radd__',\n",
              " '__rand__',\n",
              " '__rdivmod__',\n",
              " '__reduce__',\n",
              " '__reduce_ex__',\n",
              " '__repr__',\n",
              " '__rfloordiv__',\n",
              " '__rlshift__',\n",
              " '__rmod__',\n",
              " '__rmul__',\n",
              " '__ror__',\n",
              " '__round__',\n",
              " '__rpow__',\n",
              " '__rrshift__',\n",
              " '__rshift__',\n",
              " '__rsub__',\n",
              " '__rtruediv__',\n",
              " '__rxor__',\n",
              " '__setattr__',\n",
              " '__sizeof__',\n",
              " '__str__',\n",
              " '__sub__',\n",
              " '__subclasshook__',\n",
              " '__truediv__',\n",
              " '__trunc__',\n",
              " '__xor__',\n",
              " 'as_integer_ratio',\n",
              " 'bit_count',\n",
              " 'bit_length',\n",
              " 'conjugate',\n",
              " 'denominator',\n",
              " 'from_bytes',\n",
              " 'imag',\n",
              " 'numerator',\n",
              " 'real',\n",
              " 'to_bytes']"
            ]
          },
          "metadata": {},
          "execution_count": 16
        }
      ]
    },
    {
      "cell_type": "code",
      "source": [
        "class character:\n",
        "    def __init__(self, hp, mp):\n",
        "        self.hp = hp\n",
        "        self.mp = mp\n",
        "    def __eq__(self, other):\n",
        "        return 'hello'\n",
        "    def __gt__(self, other):\n",
        "        return 'world'\n",
        "주인공 = character(100, 100)\n",
        "print(주인공 == None)\n",
        "print(주인공 > None)\n",
        "id(주인공)"
      ],
      "metadata": {
        "colab": {
          "base_uri": "https://localhost:8080/"
        },
        "id": "Y6T_PhGxfWHB",
        "outputId": "363f19e6-59e1-4de9-fc46-70cf1cbf3393"
      },
      "execution_count": null,
      "outputs": [
        {
          "output_type": "stream",
          "name": "stdout",
          "text": [
            "hello\n",
            "world\n"
          ]
        },
        {
          "output_type": "execute_result",
          "data": {
            "text/plain": [
              "139512278117360"
            ]
          },
          "metadata": {},
          "execution_count": 18
        }
      ]
    },
    {
      "cell_type": "markdown",
      "source": [
        "# 메서드 채이닝"
      ],
      "metadata": {
        "id": "I8rAT-T9fnMF"
      }
    },
    {
      "cell_type": "code",
      "source": [
        "sentence = \"  Hello, World!  \"\n",
        "result = sentence.strip().lower().replace(\"world\", \"python\")\n",
        "print(result)  # \"hello, python!\""
      ],
      "metadata": {
        "colab": {
          "base_uri": "https://localhost:8080/"
        },
        "id": "6B0Wk_OUfg79",
        "outputId": "840ca851-b329-4bb2-c851-7c1b8ddda934"
      },
      "execution_count": null,
      "outputs": [
        {
          "output_type": "stream",
          "name": "stdout",
          "text": [
            "hello, python!\n"
          ]
        }
      ]
    },
    {
      "cell_type": "code",
      "source": [
        "sentence = \"  Hello, World!  \"\n",
        "result = sentence.strip().lower().replace(\"world\", \"python\")\n",
        "# 1번 스탭 : sentence.strip() == 'Hello, World!'\n",
        "# 2번 스탭 : 'Hello, World!'.lower() == 'hello, world'\n",
        "# 3번 스탭 : 'Hello, World!'.replace(\"world\", \"python\") == 'helllo, python'\n",
        "print(result)  # \"hello, python!\""
      ],
      "metadata": {
        "colab": {
          "base_uri": "https://localhost:8080/"
        },
        "id": "xkXIDMpNfyhy",
        "outputId": "fd6dfee3-16bf-4e93-8325-a5d743446801"
      },
      "execution_count": null,
      "outputs": [
        {
          "output_type": "stream",
          "name": "stdout",
          "text": [
            "hello, python!\n"
          ]
        }
      ]
    },
    {
      "cell_type": "code",
      "source": [
        "sentence = \"  Hello, World!  \"\n",
        "result = sentence\\\n",
        ".strip()\\\n",
        ".lower()\\\n",
        ".replace(\"world\", \"python\")\n",
        "# 백슬러쉬를 사용하여 개행은 가능하나 권장하는 방법은 아니다"
      ],
      "metadata": {
        "colab": {
          "base_uri": "https://localhost:8080/",
          "height": 143
        },
        "id": "FHrOkVAfg1u6",
        "outputId": "5f562062-8cdb-4b7d-c389-27aa87dd58b8"
      },
      "execution_count": null,
      "outputs": [
        {
          "output_type": "error",
          "ename": "SyntaxError",
          "evalue": "ignored",
          "traceback": [
            "\u001b[0;36m  File \u001b[0;32m\"<ipython-input-23-e04177b937cf>\"\u001b[0;36m, line \u001b[0;32m2\u001b[0m\n\u001b[0;31m    result = sentence\\         # 백슬러쉬를 사용하여 개행은 가능하나 권장하는 방법은 아니다\u001b[0m\n\u001b[0m                      ^\u001b[0m\n\u001b[0;31mSyntaxError\u001b[0m\u001b[0;31m:\u001b[0m unexpected character after line continuation character\n"
          ]
        }
      ]
    },
    {
      "cell_type": "code",
      "source": [
        "x = 'hellohellohellohellohellohellohellohellohellohellohellohellohellohellohello'\n",
        "\n",
        "len(x)\n",
        "# 79자가 넘어가면 개행추천 (너무 긴 코드는 가독성을 해치기때문)"
      ],
      "metadata": {
        "colab": {
          "base_uri": "https://localhost:8080/"
        },
        "id": "rbQ_yYR_hCCu",
        "outputId": "fd640abf-844a-4e60-f838-302a5ce187b2"
      },
      "execution_count": null,
      "outputs": [
        {
          "output_type": "execute_result",
          "data": {
            "text/plain": [
              "75"
            ]
          },
          "metadata": {},
          "execution_count": 24
        }
      ]
    },
    {
      "cell_type": "markdown",
      "source": [
        "# 형변환"
      ],
      "metadata": {
        "id": "HFYYV6AikXGT"
      }
    },
    {
      "cell_type": "code",
      "source": [
        "num = '123'\n",
        "type(int(num))"
      ],
      "metadata": {
        "colab": {
          "base_uri": "https://localhost:8080/"
        },
        "id": "37NdVsGdUrsk",
        "outputId": "572b48dd-53e4-49d3-ac2c-4332def5711d"
      },
      "execution_count": null,
      "outputs": [
        {
          "output_type": "execute_result",
          "data": {
            "text/plain": [
              "int"
            ]
          },
          "metadata": {},
          "execution_count": 6
        }
      ]
    },
    {
      "cell_type": "code",
      "source": [
        "name='leehojun'\n",
        "# dict(name) <= ERROR 키와 value가 있어야 합니다.\n",
        "\n",
        "s=[('name','leehojun'),('age',10)]\n",
        "print(type(s))\n",
        "d=dict(s)\n",
        "d"
      ],
      "metadata": {
        "colab": {
          "base_uri": "https://localhost:8080/"
        },
        "id": "7M1nl5RSU8jD",
        "outputId": "753f2ecc-5a5c-492e-9888-427aeaad4a30"
      },
      "execution_count": null,
      "outputs": [
        {
          "output_type": "stream",
          "name": "stdout",
          "text": [
            "<class 'list'>\n"
          ]
        },
        {
          "output_type": "execute_result",
          "data": {
            "text/plain": [
              "{'name': 'leehojun', 'age': 10}"
            ]
          },
          "metadata": {},
          "execution_count": 1
        }
      ]
    },
    {
      "cell_type": "code",
      "source": [
        "월급 = input(\"월급을 입력하세요:\")\n",
        "연봉 = 월급 * 12\n",
        "print(연봉)"
      ],
      "metadata": {
        "colab": {
          "base_uri": "https://localhost:8080/",
          "height": 376
        },
        "id": "vnalYePjkYRn",
        "outputId": "f74f0e09-91d9-4cbe-bbb1-c9aac9cfb0d1"
      },
      "execution_count": null,
      "outputs": [
        {
          "output_type": "error",
          "ename": "KeyboardInterrupt",
          "evalue": "ignored",
          "traceback": [
            "\u001b[0;31m---------------------------------------------------------------------------\u001b[0m",
            "\u001b[0;31mKeyboardInterrupt\u001b[0m                         Traceback (most recent call last)",
            "\u001b[0;32m<ipython-input-25-79455f88541f>\u001b[0m in \u001b[0;36m<cell line: 1>\u001b[0;34m()\u001b[0m\n\u001b[0;32m----> 1\u001b[0;31m \u001b[0m월급\u001b[0m \u001b[0;34m=\u001b[0m \u001b[0minput\u001b[0m\u001b[0;34m(\u001b[0m\u001b[0;34m\"월급을 입력하세요:\"\u001b[0m\u001b[0;34m)\u001b[0m\u001b[0;34m\u001b[0m\u001b[0;34m\u001b[0m\u001b[0m\n\u001b[0m\u001b[1;32m      2\u001b[0m \u001b[0m연봉\u001b[0m \u001b[0;34m=\u001b[0m \u001b[0m월급\u001b[0m \u001b[0;34m*\u001b[0m \u001b[0;36m12\u001b[0m\u001b[0;34m\u001b[0m\u001b[0;34m\u001b[0m\u001b[0m\n\u001b[1;32m      3\u001b[0m \u001b[0mprint\u001b[0m\u001b[0;34m(\u001b[0m\u001b[0m연봉\u001b[0m\u001b[0;34m)\u001b[0m\u001b[0;34m\u001b[0m\u001b[0;34m\u001b[0m\u001b[0m\n",
            "\u001b[0;32m/usr/local/lib/python3.10/dist-packages/ipykernel/kernelbase.py\u001b[0m in \u001b[0;36mraw_input\u001b[0;34m(self, prompt)\u001b[0m\n\u001b[1;32m    849\u001b[0m                 \u001b[0;34m\"raw_input was called, but this frontend does not support input requests.\"\u001b[0m\u001b[0;34m\u001b[0m\u001b[0;34m\u001b[0m\u001b[0m\n\u001b[1;32m    850\u001b[0m             )\n\u001b[0;32m--> 851\u001b[0;31m         return self._input_request(str(prompt),\n\u001b[0m\u001b[1;32m    852\u001b[0m             \u001b[0mself\u001b[0m\u001b[0;34m.\u001b[0m\u001b[0m_parent_ident\u001b[0m\u001b[0;34m,\u001b[0m\u001b[0;34m\u001b[0m\u001b[0;34m\u001b[0m\u001b[0m\n\u001b[1;32m    853\u001b[0m             \u001b[0mself\u001b[0m\u001b[0;34m.\u001b[0m\u001b[0m_parent_header\u001b[0m\u001b[0;34m,\u001b[0m\u001b[0;34m\u001b[0m\u001b[0;34m\u001b[0m\u001b[0m\n",
            "\u001b[0;32m/usr/local/lib/python3.10/dist-packages/ipykernel/kernelbase.py\u001b[0m in \u001b[0;36m_input_request\u001b[0;34m(self, prompt, ident, parent, password)\u001b[0m\n\u001b[1;32m    893\u001b[0m             \u001b[0;32mexcept\u001b[0m \u001b[0mKeyboardInterrupt\u001b[0m\u001b[0;34m:\u001b[0m\u001b[0;34m\u001b[0m\u001b[0;34m\u001b[0m\u001b[0m\n\u001b[1;32m    894\u001b[0m                 \u001b[0;31m# re-raise KeyboardInterrupt, to truncate traceback\u001b[0m\u001b[0;34m\u001b[0m\u001b[0;34m\u001b[0m\u001b[0m\n\u001b[0;32m--> 895\u001b[0;31m                 \u001b[0;32mraise\u001b[0m \u001b[0mKeyboardInterrupt\u001b[0m\u001b[0;34m(\u001b[0m\u001b[0;34m\"Interrupted by user\"\u001b[0m\u001b[0;34m)\u001b[0m \u001b[0;32mfrom\u001b[0m \u001b[0;32mNone\u001b[0m\u001b[0;34m\u001b[0m\u001b[0;34m\u001b[0m\u001b[0m\n\u001b[0m\u001b[1;32m    896\u001b[0m             \u001b[0;32mexcept\u001b[0m \u001b[0mException\u001b[0m \u001b[0;32mas\u001b[0m \u001b[0me\u001b[0m\u001b[0;34m:\u001b[0m\u001b[0;34m\u001b[0m\u001b[0;34m\u001b[0m\u001b[0m\n\u001b[1;32m    897\u001b[0m                 \u001b[0mself\u001b[0m\u001b[0;34m.\u001b[0m\u001b[0mlog\u001b[0m\u001b[0;34m.\u001b[0m\u001b[0mwarning\u001b[0m\u001b[0;34m(\u001b[0m\u001b[0;34m\"Invalid Message:\"\u001b[0m\u001b[0;34m,\u001b[0m \u001b[0mexc_info\u001b[0m\u001b[0;34m=\u001b[0m\u001b[0;32mTrue\u001b[0m\u001b[0;34m)\u001b[0m\u001b[0;34m\u001b[0m\u001b[0;34m\u001b[0m\u001b[0m\n",
            "\u001b[0;31mKeyboardInterrupt\u001b[0m: Interrupted by user"
          ]
        }
      ]
    },
    {
      "cell_type": "code",
      "source": [
        "월급 = input(\"월급을 입력하세요:\")\n",
        "연봉 = int(월급) * 12\n",
        "print(연봉)"
      ],
      "metadata": {
        "id": "hinD_WGCkpqF"
      },
      "execution_count": null,
      "outputs": []
    },
    {
      "cell_type": "code",
      "source": [
        "월급 = int(input(\"월급을 입력하세요:\")) # 사용한다면 이렇게 이 방법을 주로 사용한다\n",
        "연봉 = 월급 * 12\n",
        "print(연봉)"
      ],
      "metadata": {
        "id": "-cQuJXHZkv0p"
      },
      "execution_count": null,
      "outputs": []
    },
    {
      "cell_type": "code",
      "source": [
        "# 어렵지만 자주 사용하는 문법이니 기억해주세요.\n",
        "list(map(int, ['10', '20', '30']))"
      ],
      "metadata": {
        "colab": {
          "base_uri": "https://localhost:8080/"
        },
        "id": "oR-nO5cFk45p",
        "outputId": "8b3968ba-521e-4e05-ed5e-120bdbb6af28"
      },
      "execution_count": null,
      "outputs": [
        {
          "output_type": "execute_result",
          "data": {
            "text/plain": [
              "[10, 20, 30]"
            ]
          },
          "metadata": {},
          "execution_count": 1
        }
      ]
    },
    {
      "cell_type": "code",
      "source": [
        "list(map(int, '12345'))"
      ],
      "metadata": {
        "colab": {
          "base_uri": "https://localhost:8080/"
        },
        "id": "6WYdVOA_nbd1",
        "outputId": "c33ff8c9-a499-40dd-a934-bf4494ab8876"
      },
      "execution_count": null,
      "outputs": [
        {
          "output_type": "execute_result",
          "data": {
            "text/plain": [
              "[1, 2, 3, 4, 5]"
            ]
          },
          "metadata": {},
          "execution_count": 2
        }
      ]
    },
    {
      "cell_type": "code",
      "source": [
        "sum(map(int, '1112312311113334'))"
      ],
      "metadata": {
        "colab": {
          "base_uri": "https://localhost:8080/"
        },
        "id": "BEM0LO1DngpJ",
        "outputId": "85056556-c618-46a5-a4d8-28e019411581"
      },
      "execution_count": null,
      "outputs": [
        {
          "output_type": "execute_result",
          "data": {
            "text/plain": [
              "31"
            ]
          },
          "metadata": {},
          "execution_count": 3
        }
      ]
    },
    {
      "cell_type": "code",
      "source": [
        "true_int = int(True)\n",
        "false_int = int(False)\n",
        "\n",
        "print(true_int)  # 출력: 1\n",
        "print(false_int)  # 출력: 0"
      ],
      "metadata": {
        "colab": {
          "base_uri": "https://localhost:8080/"
        },
        "id": "IGlsZ_gzn6AU",
        "outputId": "a4b62961-5b63-4f65-e6a9-f8eb3439b3b2"
      },
      "execution_count": null,
      "outputs": [
        {
          "output_type": "stream",
          "name": "stdout",
          "text": [
            "1\n",
            "0\n"
          ]
        }
      ]
    },
    {
      "cell_type": "code",
      "source": [
        "n = 123\n",
        "print(type(n))\n",
        "\n",
        "m = 123.4\n",
        "print(type(n))\n",
        "\n",
        "n = str(n)\n",
        "print(type(n))\n",
        "\n",
        "m = str(m)\n",
        "print(type(m))"
      ],
      "metadata": {
        "colab": {
          "base_uri": "https://localhost:8080/"
        },
        "id": "OslVXlUKomGb",
        "outputId": "d627be87-6da3-4ce6-e621-a0fe7d6190f7"
      },
      "execution_count": null,
      "outputs": [
        {
          "output_type": "stream",
          "name": "stdout",
          "text": [
            "<class 'int'>\n",
            "<class 'int'>\n",
            "<class 'str'>\n",
            "<class 'str'>\n"
          ]
        }
      ]
    },
    {
      "cell_type": "code",
      "source": [
        "m"
      ],
      "metadata": {
        "colab": {
          "base_uri": "https://localhost:8080/",
          "height": 35
        },
        "id": "RB_I68w5ov89",
        "outputId": "c62915e6-c1b1-4f10-dbe2-121d692baeeb"
      },
      "execution_count": null,
      "outputs": [
        {
          "output_type": "execute_result",
          "data": {
            "text/plain": [
              "'123.4'"
            ],
            "application/vnd.google.colaboratory.intrinsic+json": {
              "type": "string"
            }
          },
          "metadata": {},
          "execution_count": 7
        }
      ]
    },
    {
      "cell_type": "code",
      "source": [
        "# 소숫점을 float형으로 변환하는 것은 가능하지만\n",
        "float(m)\n",
        "print(type(m))"
      ],
      "metadata": {
        "colab": {
          "base_uri": "https://localhost:8080/"
        },
        "id": "8us2Op17ozLB",
        "outputId": "a270c30c-a1ae-45d5-c8f1-3ab5a1de6a5f"
      },
      "execution_count": null,
      "outputs": [
        {
          "output_type": "stream",
          "name": "stdout",
          "text": [
            "<class 'str'>\n"
          ]
        }
      ]
    },
    {
      "cell_type": "code",
      "source": [
        "# int형으로 변환하는 것은 가능하지 않습니다\n",
        "int(m)"
      ],
      "metadata": {
        "id": "cqW-p5Tvo__i"
      },
      "execution_count": null,
      "outputs": []
    },
    {
      "cell_type": "code",
      "source": [
        "# 여러분이 자주하는 실수\n",
        "x = 1.0\n",
        "x = str(x)\n",
        "print(int(x))"
      ],
      "metadata": {
        "colab": {
          "base_uri": "https://localhost:8080/",
          "height": 213
        },
        "id": "UY4LKyJ3ptLh",
        "outputId": "6bdd21b0-4c28-41b7-d282-946674a57000"
      },
      "execution_count": null,
      "outputs": [
        {
          "output_type": "error",
          "ename": "ValueError",
          "evalue": "ignored",
          "traceback": [
            "\u001b[0;31m---------------------------------------------------------------------------\u001b[0m",
            "\u001b[0;31mValueError\u001b[0m                                Traceback (most recent call last)",
            "\u001b[0;32m<ipython-input-1-de0cca0fc9cf>\u001b[0m in \u001b[0;36m<cell line: 4>\u001b[0;34m()\u001b[0m\n\u001b[1;32m      2\u001b[0m \u001b[0mx\u001b[0m \u001b[0;34m=\u001b[0m \u001b[0;36m1.0\u001b[0m\u001b[0;34m\u001b[0m\u001b[0;34m\u001b[0m\u001b[0m\n\u001b[1;32m      3\u001b[0m \u001b[0mx\u001b[0m \u001b[0;34m=\u001b[0m \u001b[0mstr\u001b[0m\u001b[0;34m(\u001b[0m\u001b[0mx\u001b[0m\u001b[0;34m)\u001b[0m\u001b[0;34m\u001b[0m\u001b[0;34m\u001b[0m\u001b[0m\n\u001b[0;32m----> 4\u001b[0;31m \u001b[0mprint\u001b[0m\u001b[0;34m(\u001b[0m\u001b[0mint\u001b[0m\u001b[0;34m(\u001b[0m\u001b[0mx\u001b[0m\u001b[0;34m)\u001b[0m\u001b[0;34m)\u001b[0m\u001b[0;34m\u001b[0m\u001b[0;34m\u001b[0m\u001b[0m\n\u001b[0m",
            "\u001b[0;31mValueError\u001b[0m: invalid literal for int() with base 10: '1.0'"
          ]
        }
      ]
    },
    {
      "cell_type": "code",
      "source": [
        "\n",
        "x = 1.0\n",
        "x = str(x)\n",
        "if x.find(\".\") == -1:\n",
        "    print(1.0(x))\n",
        "else:\n",
        "    print(float(x))"
      ],
      "metadata": {
        "colab": {
          "base_uri": "https://localhost:8080/"
        },
        "id": "d51HYbEjpQcS",
        "outputId": "02c871a1-3b8a-4653-cbb8-a634eb258c6a"
      },
      "execution_count": null,
      "outputs": [
        {
          "output_type": "stream",
          "name": "stdout",
          "text": [
            "<class 'str'>\n",
            "1.0\n"
          ]
        },
        {
          "output_type": "stream",
          "name": "stderr",
          "text": [
            "<>:5: SyntaxWarning: 'float' object is not callable; perhaps you missed a comma?\n",
            "<>:5: SyntaxWarning: 'float' object is not callable; perhaps you missed a comma?\n",
            "<ipython-input-6-71090a7f20d7>:5: SyntaxWarning: 'float' object is not callable; perhaps you missed a comma?\n",
            "  print(1.0(x))\n"
          ]
        }
      ]
    },
    {
      "cell_type": "code",
      "source": [
        "print(\"bool('test'):\", bool('test'))\n",
        "print(\"bool(' '):\", bool(' '))\n",
        "print(\"bool(''):\", bool(''))\n",
        "print(\"bool(100):\", bool(100))\n",
        "print(\"bool(1):\", bool(1))\n",
        "print(\"bool(0):\", bool(0))\n",
        "print(\"bool(-1):\", bool(-1))\n",
        "\n",
        "\n",
        "\n",
        "print(\"bool(None):\", bool(None))\n",
        "print(\"bool([]):\", bool([])) #주의(JavaScript에서는 true, Python에서는 False)\n",
        "print(\"bool(tuple()):\", bool(tuple())) #주의\n",
        "print(\"bool({}):\", bool({})) #주의\n",
        "print(\"bool(set()):\", bool(set())) #주의"
      ],
      "metadata": {
        "id": "Gfiu5kvAqk8j"
      },
      "execution_count": null,
      "outputs": []
    },
    {
      "cell_type": "code",
      "source": [
        "# 실무에서 많이 사용하는 코드\n",
        "x = [1, 2, 3]\n",
        "while x:\n",
        "    print(x.pop())"
      ],
      "metadata": {
        "colab": {
          "base_uri": "https://localhost:8080/"
        },
        "id": "wO1_IMHrq_LU",
        "outputId": "e9e133c8-606d-411b-fab7-4b0b85383364"
      },
      "execution_count": null,
      "outputs": [
        {
          "output_type": "stream",
          "name": "stdout",
          "text": [
            "3\n",
            "2\n",
            "1\n"
          ]
        }
      ]
    },
    {
      "cell_type": "code",
      "source": [
        "s = '10'\n",
        "print(list(s))\n",
        "\n",
        "name = 'licat'\n",
        "print(list(name))"
      ],
      "metadata": {
        "colab": {
          "base_uri": "https://localhost:8080/"
        },
        "id": "Oiut2MGfr6uv",
        "outputId": "2a9571bd-a149-40d2-8656-3286420789bc"
      },
      "execution_count": null,
      "outputs": [
        {
          "output_type": "stream",
          "name": "stdout",
          "text": [
            "['1', '0']\n",
            "['l', 'i', 'c', 'a', 't']\n"
          ]
        }
      ]
    },
    {
      "cell_type": "code",
      "source": [
        "name = 'licat'\n",
        "tuple(name)"
      ],
      "metadata": {
        "colab": {
          "base_uri": "https://localhost:8080/"
        },
        "id": "mxHqfDdEsOqH",
        "outputId": "d1e06610-48bc-4573-e620-d8b9d0cc99c7"
      },
      "execution_count": null,
      "outputs": [
        {
          "output_type": "execute_result",
          "data": {
            "text/plain": [
              "('l', 'i', 'c', 'a', 't')"
            ]
          },
          "metadata": {},
          "execution_count": 7
        }
      ]
    },
    {
      "cell_type": "code",
      "source": [
        "data = [('name','licat'),('age',10)]\n",
        "d = dict(data)\n",
        "d"
      ],
      "metadata": {
        "colab": {
          "base_uri": "https://localhost:8080/"
        },
        "id": "W4Rxnrd3sZJ8",
        "outputId": "f71f06d4-c953-4983-d7f8-c367b0977182"
      },
      "execution_count": null,
      "outputs": [
        {
          "output_type": "execute_result",
          "data": {
            "text/plain": [
              "{'name': 'licat', 'age': 10}"
            ]
          },
          "metadata": {},
          "execution_count": 8
        }
      ]
    },
    {
      "cell_type": "code",
      "source": [
        "s = 'weniv CEO licat'# 'i'와 ' '(공백)이 중복되어있다\n",
        "print(set(s)) #중복을 허락하지 않고 순서가 없습니다.\n",
        "print(len(set(s))) #중복을 제거한 상태로의 길이를 알려줍니다.\n",
        "print(len(s))"
      ],
      "metadata": {
        "colab": {
          "base_uri": "https://localhost:8080/"
        },
        "id": "s0FrsE6Ysutx",
        "outputId": "a5cb94fd-b324-4aaa-ef75-b7731092c67d"
      },
      "execution_count": null,
      "outputs": [
        {
          "output_type": "stream",
          "name": "stdout",
          "text": [
            "{'i', 'C', 'E', 't', 'e', 'n', 'O', 'c', 'v', ' ', 'w', 'l', 'a'}\n",
            "13\n",
            "15\n"
          ]
        }
      ]
    },
    {
      "cell_type": "markdown",
      "source": [
        "# 연습문제"
      ],
      "metadata": {
        "id": "vTRbaVrNtWYc"
      }
    },
    {
      "cell_type": "code",
      "source": [
        "# 항상 확장자만 나오게 해주세요!\n",
        "s = 'l.icat.jpeg'\n"
      ],
      "metadata": {
        "id": "oRSAC02PtQx5"
      },
      "execution_count": null,
      "outputs": []
    },
    {
      "cell_type": "code",
      "source": [
        "print(s.split('.')[-1])"
      ],
      "metadata": {
        "colab": {
          "base_uri": "https://localhost:8080/"
        },
        "id": "ePsYQCL0tpqP",
        "outputId": "cff0ba9d-d9af-473e-9e2a-e8e7cbf8f74b"
      },
      "execution_count": null,
      "outputs": [
        {
          "output_type": "stream",
          "name": "stdout",
          "text": [
            "jpeg\n"
          ]
        }
      ]
    },
    {
      "cell_type": "code",
      "source": [
        "s[::-1].split('.')[0][::-1]"
      ],
      "metadata": {
        "colab": {
          "base_uri": "https://localhost:8080/",
          "height": 35
        },
        "id": "BrdLdCGGt1_-",
        "outputId": "8c628e27-eb6d-4f3c-ad96-d096a9aad0c3"
      },
      "execution_count": null,
      "outputs": [
        {
          "output_type": "execute_result",
          "data": {
            "text/plain": [
              "'jpeg'"
            ],
            "application/vnd.google.colaboratory.intrinsic+json": {
              "type": "string"
            }
          },
          "metadata": {},
          "execution_count": 14
        }
      ]
    },
    {
      "cell_type": "code",
      "source": [
        "s = 'li.cat.jpeg'\n",
        "# s[s.index('.')+1:]\n",
        "s.rindex('.')\n",
        "s[s.rindex('.')+1:]"
      ],
      "metadata": {
        "colab": {
          "base_uri": "https://localhost:8080/",
          "height": 35
        },
        "id": "9NxlpEYbunXZ",
        "outputId": "6742be84-0e98-4f8c-a73c-ae4e7dbda0f6"
      },
      "execution_count": null,
      "outputs": [
        {
          "output_type": "execute_result",
          "data": {
            "text/plain": [
              "'cat.jpeg'"
            ],
            "application/vnd.google.colaboratory.intrinsic+json": {
              "type": "string"
            }
          },
          "metadata": {},
          "execution_count": 16
        }
      ]
    },
    {
      "cell_type": "code",
      "source": [
        "s = 'li.cat.jpeg'\n",
        "s[s.index('.')+1:]"
      ],
      "metadata": {
        "colab": {
          "base_uri": "https://localhost:8080/",
          "height": 35
        },
        "id": "ZQGkZr4OUHdo",
        "outputId": "96b79ab6-b453-4a7d-ca93-bec1e05dc5ad"
      },
      "execution_count": null,
      "outputs": [
        {
          "output_type": "execute_result",
          "data": {
            "text/plain": [
              "'cat.jpeg'"
            ],
            "application/vnd.google.colaboratory.intrinsic+json": {
              "type": "string"
            }
          },
          "metadata": {},
          "execution_count": 4
        }
      ]
    },
    {
      "cell_type": "code",
      "source": [
        "dir(s)"
      ],
      "metadata": {
        "id": "ijDFB82puQ2u"
      },
      "execution_count": null,
      "outputs": []
    },
    {
      "cell_type": "code",
      "source": [],
      "metadata": {
        "id": "upBlHIA1udYF"
      },
      "execution_count": null,
      "outputs": []
    }
  ]
}