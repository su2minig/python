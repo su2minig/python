{
  "nbformat": 4,
  "nbformat_minor": 0,
  "metadata": {
    "colab": {
      "provenance": []
    },
    "kernelspec": {
      "name": "python3",
      "display_name": "Python 3"
    },
    "language_info": {
      "name": "python"
    }
  },
  "cells": [
    {
      "cell_type": "markdown",
      "source": [
        "# 일반 문자열"
      ],
      "metadata": {
        "id": "oqhO-UnxP-TV"
      }
    },
    {
      "cell_type": "code",
      "source": [
        "https://regexr.com/5nvc2"
      ],
      "metadata": {
        "id": "JUSAJ1ZSbjb8"
      },
      "execution_count": null,
      "outputs": []
    },
    {
      "cell_type": "code",
      "source": [
        "# 대소문자를 가립니다.\n",
        "# ^hello는 처음에 나오는 hello 입니다.\n",
        "# hello$는 마지막에 나오는 hello입니다."
      ],
      "metadata": {
        "id": "HRyEr8sCP56q"
      },
      "execution_count": null,
      "outputs": []
    },
    {
      "cell_type": "code",
      "source": [
        "# h.llo 는 h 다음에 어떤 문자든 1개의 문자(영문, 특수문자, 숫자, 한글 등)가 오며 llo가 이어져 나와야합니다\n",
        "# hello world\n",
        "# hello  world\n",
        "# hello, world\n",
        "# Hello World\n",
        "\n",
        "# hello world hello\n",
        "\n",
        "# hello\n",
        "# hallo\n",
        "# hollo\n",
        "# heallo"
      ],
      "metadata": {
        "id": "_ss9gSqmSEbM"
      },
      "execution_count": null,
      "outputs": []
    },
    {
      "cell_type": "markdown",
      "source": [
        "# 대괄호(택1)"
      ],
      "metadata": {
        "id": "9lzJegJbSwd2"
      }
    },
    {
      "cell_type": "code",
      "source": [
        "# h[eao]llo는 hello, hallo, hollo를 선택합니다. 3개 문자 중 택1입니다.\n",
        "# h[eao!]llo는 hello, hallo, hollo, h!llo\n",
        "# [a-z]\n",
        "# [a-zA-Z]\n",
        "# [0-9]\n",
        "# [a-zA-Z0-9]\n",
        "# [가-힣], [ㄱ-ㅎ], [ㅏ-ㅣ]\n",
        "# h1el2323lo34243wo23rl123rld\n",
        "# ^[a-z]:  부정이 아닙니다. 알파벳소문자로 시작하는 문자열입니다.\n",
        "# [^a-z]: 대괄호 안에 들어가면 부정입니다!\n",
        "# h[^ao]llo: a, o 모두 하나씩 아닌 것(^a , ^o)\n",
        "# h[a^o]llo: ^가 중간에 들어가면 ^도 대괄호(택1)이 되므로 ^가 들어간 문자열을잡는다."
      ],
      "metadata": {
        "id": "hwRi40BQSmHH"
      },
      "execution_count": null,
      "outputs": []
    },
    {
      "cell_type": "markdown",
      "source": [
        "# 중요! 범위는 정확하게하기 예를 들어 a-Z를하면 사이에 영어대소문자 말고도 다른 것들이 같이 있으므로 이렇게 하면안되고 a-z, A-Z로 정확하게\n",
        "범위를 정해야한다."
      ],
      "metadata": {
        "id": "pKFaIVzgVdP6"
      }
    },
    {
      "cell_type": "markdown",
      "source": [
        "# 수량자"
      ],
      "metadata": {
        "id": "auk5zKgWZ3DH"
      }
    },
    {
      "cell_type": "code",
      "source": [
        "# _* : 앞에 있는 문자가 0개 ~ N개\n",
        "# _+ : 앞에 있는 문자가 1개 ~ N개\n",
        "# _? : 앞에 있는 문자가 0개 ~ 1개\n",
        "\n",
        "# {n} : n개\n",
        "# {n,} : n개 이상\n",
        "# {a,b} :a개 ~ b개\n",
        "\n",
        "# _* : 앞에 있는 문자가 0개 ~ N개 ({0,})\n",
        "# _+ : 앞에 있는 문자가 1개 ~ N개({1,})\n",
        "# _? : 앞에 있는 문자가 0개 ~ 1개 ({0,1})"
      ],
      "metadata": {
        "id": "ulTyjFwAZ4UC"
      },
      "execution_count": null,
      "outputs": []
    },
    {
      "cell_type": "code",
      "source": [
        "# 이런 정규표현식은 여러분이 직접 만들지 마세요.\n",
        "# 인터넷 검색하면 나옵니다. email, 한국 전화번호 등이요.\n",
        "# why? 정규표현식에서 실수가 생겨 서비스에 CS가 들어온다던지\n",
        "# 크리티컬한 문제가 생긴다던지 하는 경우가 많습니다.\n",
        "# 읽을 줄은 알아야 합니다. 여러 패턴을 조합하거나, 비교는 해봐야 하니까요.\n",
        "# [0-9][0-9][0-9]-[0-9][0-9][0-9][0-9]-[0-9][0-9][0-9][0-9]\n",
        "# 0[0-9]+[-. ]?[0-9]{3,4}[-. ]?[0-9]{3,4}"
      ],
      "metadata": {
        "id": "nVM2fhtiag_w"
      },
      "execution_count": null,
      "outputs": []
    },
    {
      "cell_type": "code",
      "source": [
        "# group1, group2\n",
        "# group1 => key\n",
        "# group2 => value\n",
        "# ([a-zA-Z0-9@\\.\\-]+, ?[a-zA-Z0-9@\\.\\-]+)\n",
        "#  [(name, leehojun), (age, 10), (height, 180), (email, paul-lab@naver.com)]"
      ],
      "metadata": {
        "id": "vE9c2sp6dInO"
      },
      "execution_count": null,
      "outputs": []
    },
    {
      "cell_type": "markdown",
      "source": [
        "# 캐릭터 클래스"
      ],
      "metadata": {
        "id": "Qy77yCgOdHQS"
      }
    },
    {
      "cell_type": "code",
      "source": [
        "# /\\w/gm : 워드(한글이 잡히지 않습니다.)\n",
        "# /\\w{5} /gm : 5개의 글자와 스페이스 하나\n",
        "# /\\W/gm : not 워드(한글이 잡힙니다.)\n",
        "# /\\d/gm : 숫자\n",
        "# /\\D/gm : not 숫자\n",
        "# /\\s/gm : 스페이스\n",
        "# /\\S/gm : not 스페이스\n",
        "\n",
        "# 문제: 전화번호 정규표현식을 만들어주세요\n",
        "# \\d{3}\\W?\\d{4}\\W?\\d{4}\n",
        "# 0[\\d]{1,2}[\\-\\. ]?[\\d]{3,4}[\\-\\. ]?[\\d]{3,4}"
      ],
      "metadata": {
        "id": "dQ_gViLUcOFd"
      },
      "execution_count": null,
      "outputs": []
    },
    {
      "cell_type": "markdown",
      "source": [
        "# 이스케이프문자"
      ],
      "metadata": {
        "id": "j4eMA56DipSb"
      }
    },
    {
      "cell_type": "code",
      "source": [
        "# 이스케이프문자\n",
        "\n",
        "# /\\[.*]/gm : 대괄호([]) 안에 감싸여진 문자열\n",
        "# /\\(.*\\)/gm : 소괄호 안에 감싸여진 문자열\n",
        "# /\\\\.*\\//gm : 이미 사용되고 있는 특수문자로 감싸여진 문자열\n",
        "# /-.*-/gm : 이스케이프 문자를 사용할 필요가 없는 경우\n",
        "# /\\^\\^/gm : 이스케이프 문자가 필요한 경우\n",
        "# /:\\)/gm : 이스케이프 문자가 필요한 경우"
      ],
      "metadata": {
        "id": "ADincQ1ah9Oz"
      },
      "execution_count": null,
      "outputs": []
    },
    {
      "cell_type": "code",
      "source": [
        "!pip install nbmerge"
      ],
      "metadata": {
        "colab": {
          "base_uri": "https://localhost:8080/"
        },
        "id": "e2SqpZvpirZl",
        "outputId": "23b10da7-be64-4fd9-f6fa-172a5eadcce1"
      },
      "execution_count": null,
      "outputs": [
        {
          "output_type": "stream",
          "name": "stdout",
          "text": [
            "Collecting nbmerge\n",
            "  Downloading nbmerge-0.0.4.tar.gz (7.6 kB)\n",
            "  Preparing metadata (setup.py) ... \u001b[?25l\u001b[?25hdone\n",
            "Building wheels for collected packages: nbmerge\n",
            "  Building wheel for nbmerge (setup.py) ... \u001b[?25l\u001b[?25hdone\n",
            "  Created wheel for nbmerge: filename=nbmerge-0.0.4-py2.py3-none-any.whl size=6393 sha256=236efa3f4f9cc521ef94e5422ecd71d0d0e24cf843e94e0ff1ea5a5be1316143\n",
            "  Stored in directory: /root/.cache/pip/wheels/ab/6a/28/a33b228ce3eda9a7cc2cfd050b24752d09ac76a13733738df5\n",
            "Successfully built nbmerge\n",
            "Installing collected packages: nbmerge\n",
            "Successfully installed nbmerge-0.0.4\n"
          ]
        }
      ]
    },
    {
      "cell_type": "code",
      "source": [
        "!nbmerge a.ipynb b.ipynb > merge.ipynb"
      ],
      "metadata": {
        "id": "U-dpWx7hjw6t"
      },
      "execution_count": null,
      "outputs": []
    },
    {
      "cell_type": "code",
      "source": [],
      "metadata": {
        "id": "rq6-etNCj7D0"
      },
      "execution_count": null,
      "outputs": []
    }
  ]
}