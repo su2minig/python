{
  "nbformat": 4,
  "nbformat_minor": 0,
  "metadata": {
    "colab": {
      "provenance": [],
      "toc_visible": true
    },
    "kernelspec": {
      "name": "python3",
      "display_name": "Python 3"
    },
    "language_info": {
      "name": "python"
    }
  },
  "cells": [
    {
      "cell_type": "markdown",
      "source": [
        "# 클래스 변수와 인스턴스 변수"
      ],
      "metadata": {
        "id": "2toINz01ghFI"
      }
    },
    {
      "cell_type": "code",
      "execution_count": null,
      "metadata": {
        "colab": {
          "base_uri": "https://localhost:8080/"
        },
        "id": "hS2Zs1TMgR1b",
        "outputId": "f293fa72-403e-4b4e-eecf-7ae63126bc09"
      },
      "outputs": [
        {
          "output_type": "stream",
          "name": "stdout",
          "text": [
            "300\n",
            "300\n",
            "500\n"
          ]
        }
      ],
      "source": [
        "class Car:\n",
        "    # 클래스 변수의 위치\n",
        "    max_speed = 300\n",
        "    max_people = 5\n",
        "    car_gear = ['P', 'D', 'R', 'N']\n",
        "\n",
        "modelx = Car()\n",
        "modely = Car()\n",
        "\n",
        "modely.max_speed = 500\n",
        "\n",
        "print(Car.max_speed)    #출력: 300\n",
        "print(modelx.max_speed) #출력: 300\n",
        "print(modely.max_speed) #출력: 500(인스턴스 변수값을 출력한 것입니다)\n",
        "print(id(Car.max_speed))\n",
        "print(id(modelx.max_speed))\n",
        "print(id(modely.max_speed))"
      ]
    },
    {
      "cell_type": "code",
      "source": [
        "class Car:\n",
        "    # 클래스 변수의 위치\n",
        "    max_speed = 1000\n",
        "    max_people = 5\n",
        "    car_gear = ['P', 'D', 'R', 'N']\n",
        "\n",
        "modelx = Car()\n",
        "modely = Car()\n",
        "\n",
        "modely.max_speed = 1000\n",
        "\n",
        "print(id(Car.max_speed))    #출력:133321904282256\n",
        "print(id(modelx.max_speed)) #출력:133321904282256\n",
        "print(id(modely.max_speed)) #출력:133321904276848"
      ],
      "metadata": {
        "colab": {
          "base_uri": "https://localhost:8080/"
        },
        "id": "zptHkXfGgmJR",
        "outputId": "bcfffdee-175b-4b75-f622-6c1f79b33d9b"
      },
      "execution_count": null,
      "outputs": [
        {
          "output_type": "stream",
          "name": "stdout",
          "text": [
            "133321904282256\n",
            "133321904282256\n",
            "133321904276848\n"
          ]
        }
      ]
    },
    {
      "cell_type": "code",
      "source": [
        "# 일부러 혼란을 드리려고 어렵게 낸 문제입니다\n",
        "# 이런 문제는 실무에서 거의 발생하지 않습니다.\n",
        "# 그러니 이해가 안된다면 너무 많은 시간을 이해하려하는데 쓰지 마세요\n",
        "class Car:\n",
        "    kinds = []  #전역변수 kinds\n",
        "    speed = 300\n",
        "\n",
        "    def add_kinds(self, name): #고유의 영역\n",
        "        self.kinds.append(name) #안에 kinds라는 변수가 없으므로 전역변수 kinds를 참조\n",
        "\n",
        "    def change_speed(self, speed):\n",
        "        self.speed = speed # 인스턴스안의 변수생성\n",
        "\n",
        "modelx = Car()\n",
        "modely = Car()\n",
        "\n",
        "modelx.add_kinds('x')\n",
        "modely.add_kinds('y')\n",
        "\n",
        "Car.speed = 100\n",
        "\n",
        "# modelx.change_speed(500)\n",
        "# modely.change_speed(250)\n",
        "\n",
        "print(f'modelx.kinds: {modelx.kinds}')\n",
        "print(f'modely.kinds: {modely.kinds}')\n",
        "print(f'modelx.speed: {modelx.speed}')\n",
        "print(f'modely.speed: {modely.speed}')"
      ],
      "metadata": {
        "colab": {
          "base_uri": "https://localhost:8080/"
        },
        "id": "NBQsiTxShKFw",
        "outputId": "904bc0d9-4c41-43c0-e748-65b3c9312934"
      },
      "execution_count": null,
      "outputs": [
        {
          "output_type": "stream",
          "name": "stdout",
          "text": [
            "modelx.kinds: ['x', 'y']\n",
            "modely.kinds: ['x', 'y']\n",
            "modelx.speed: 100\n",
            "modely.speed: 100\n"
          ]
        }
      ]
    },
    {
      "cell_type": "code",
      "source": [
        "class Car:\n",
        "    kinds = []\n",
        "    speed = 300\n",
        "\n",
        "    def add_kinds(self, name):\n",
        "        self.kinds.append(name)\n",
        "\n",
        "    def change_speed(self, speed):\n",
        "        self.speed = speed # 변수\n",
        "\n",
        "modelx = Car()\n",
        "modely = Car()\n",
        "\n",
        "# Car.speed = 100\n",
        "\n",
        "modelx.change_speed(500) #modelx.change_speed 인스턴스 메소드로 인스턴스 변수에 500이라는 값이 들어가는것이다\n",
        "modely.change_speed(250)\n",
        "\n",
        "print(f'modelx.speed: {modelx.speed}')\n",
        "print(f'modely.speed: {modely.speed}')"
      ],
      "metadata": {
        "colab": {
          "base_uri": "https://localhost:8080/"
        },
        "id": "Sa3tZNS7jtcB",
        "outputId": "119a4f6e-5ed5-45be-8d55-fbc1304996cf"
      },
      "execution_count": null,
      "outputs": [
        {
          "output_type": "stream",
          "name": "stdout",
          "text": [
            "modelx.speed: 500\n",
            "modely.speed: 250\n"
          ]
        }
      ]
    },
    {
      "cell_type": "code",
      "source": [
        "x = 100\n",
        "def test():\n",
        "    print(x)\n",
        "\n",
        "test()"
      ],
      "metadata": {
        "id": "LPkO-lkRkoWm"
      },
      "execution_count": null,
      "outputs": []
    },
    {
      "cell_type": "code",
      "source": [
        "x = 100\n",
        "def test():\n",
        "    # global x 사용시 전역변수 x를 수정할 수 있게된다\n",
        "    x = 200  # 값을 읽어올 수 있지만 변경은 안된다!\n",
        "    print(x) # x는 전역변수는 건드리지 않고 지역변수 200을 선언했을 뿐입니다\n",
        "\n",
        "test()\n",
        "x"
      ],
      "metadata": {
        "colab": {
          "base_uri": "https://localhost:8080/"
        },
        "id": "oanKtaF9k2Eu",
        "outputId": "8a1c276a-d764-4c7c-87e5-bfd2d9fe60fc"
      },
      "execution_count": null,
      "outputs": [
        {
          "output_type": "stream",
          "name": "stdout",
          "text": [
            "200\n"
          ]
        },
        {
          "output_type": "execute_result",
          "data": {
            "text/plain": [
              "100"
            ]
          },
          "metadata": {},
          "execution_count": 7
        }
      ]
    },
    {
      "cell_type": "code",
      "source": [
        "# 전역변수가 참조하고 있는 값을 변경할 수는 없지만\n",
        "# 참조하고 있는 값에 값을 변경할 수 있다\n",
        "# 예시 리스트"
      ],
      "metadata": {
        "id": "oDQimitrlXg2"
      },
      "execution_count": null,
      "outputs": []
    },
    {
      "cell_type": "code",
      "source": [
        "x = []\n",
        "def test():\n",
        "    x.append(100)\n",
        "\n",
        "test()\n",
        "x"
      ],
      "metadata": {
        "colab": {
          "base_uri": "https://localhost:8080/"
        },
        "id": "LP4vYU5pmn7L",
        "outputId": "0bbdfb6a-0266-40fc-ce60-4f212c890786"
      },
      "execution_count": null,
      "outputs": [
        {
          "output_type": "execute_result",
          "data": {
            "text/plain": [
              "[100]"
            ]
          },
          "metadata": {},
          "execution_count": 12
        }
      ]
    },
    {
      "cell_type": "code",
      "source": [
        "# 매우 중요!!!\n",
        "l = [10, 20, 30]\n",
        "def test(ll):    #ll은 [10, 20, 30]을 가리키고있다\n",
        "    ll.append(40)\n",
        "\n",
        "test(l)\n",
        "l"
      ],
      "metadata": {
        "colab": {
          "base_uri": "https://localhost:8080/"
        },
        "id": "4EK4ZGmTm9gr",
        "outputId": "6a4a03a6-bd79-4adb-f119-875f32e27194"
      },
      "execution_count": null,
      "outputs": [
        {
          "output_type": "execute_result",
          "data": {
            "text/plain": [
              "[10, 20, 30, 40]"
            ]
          },
          "metadata": {},
          "execution_count": 16
        }
      ]
    },
    {
      "cell_type": "code",
      "source": [
        "# 매우 중요!!!\n",
        "i = 100\n",
        "def test(ii):\n",
        "    ii = 300    # ii는 ii=300전까지는 i=100을 참조하여 100을 가리키고있다 ii=300이후는 300을 가리킨다\n",
        "\n",
        "test(i)\n",
        "i"
      ],
      "metadata": {
        "colab": {
          "base_uri": "https://localhost:8080/"
        },
        "id": "Pq10REI0qsDo",
        "outputId": "4f51a838-4da3-4eaa-ad19-b731bc9ca140"
      },
      "execution_count": null,
      "outputs": [
        {
          "output_type": "execute_result",
          "data": {
            "text/plain": [
              "100"
            ]
          },
          "metadata": {},
          "execution_count": 17
        }
      ]
    },
    {
      "cell_type": "code",
      "source": [
        "# 매우 중요!!!\n",
        "l = [10, 20, 30]\n",
        "def test(ll):    #ll은 [10, 20, 30]을 가리키고있다\n",
        "    ll = 40\n",
        "\n",
        "test(l)\n",
        "l"
      ],
      "metadata": {
        "colab": {
          "base_uri": "https://localhost:8080/"
        },
        "id": "CrlEDWARroNT",
        "outputId": "29392a3d-643d-4031-e183-a1873193b891"
      },
      "execution_count": null,
      "outputs": [
        {
          "output_type": "execute_result",
          "data": {
            "text/plain": [
              "[10, 20, 30]"
            ]
          },
          "metadata": {},
          "execution_count": 18
        }
      ]
    },
    {
      "cell_type": "code",
      "source": [
        "kinds = []\n",
        "\n",
        "def add_kinds(value):\n",
        "    kinds.append(value) # 지역에 해당 변수가 없으므로 전역변수 kinds에 append\n",
        "\n",
        "add_kinds(100)\n",
        "kinds"
      ],
      "metadata": {
        "colab": {
          "base_uri": "https://localhost:8080/"
        },
        "id": "KZ_8q9I5jzR5",
        "outputId": "c3de9655-6330-44f3-e918-c0965fe18cfa"
      },
      "execution_count": null,
      "outputs": [
        {
          "output_type": "execute_result",
          "data": {
            "text/plain": [
              "[100]"
            ]
          },
          "metadata": {},
          "execution_count": 5
        }
      ]
    },
    {
      "cell_type": "code",
      "source": [
        "kinds = []\n",
        "\n",
        "def add_kinds(value):\n",
        "    kinds = []\n",
        "    kinds.append(value) # 지역에 해당 변수가 있으므로 지역변수 kinds에 append\n",
        "\n",
        "add_kinds(100)\n",
        "kinds"
      ],
      "metadata": {
        "colab": {
          "base_uri": "https://localhost:8080/"
        },
        "id": "g1Gir6pIkX54",
        "outputId": "9009b0cf-54c6-424a-fd22-0bc20b1c204b"
      },
      "execution_count": null,
      "outputs": [
        {
          "output_type": "execute_result",
          "data": {
            "text/plain": [
              "[]"
            ]
          },
          "metadata": {},
          "execution_count": 6
        }
      ]
    },
    {
      "cell_type": "code",
      "source": [
        "def hello():\n",
        "    print('hello world')\n",
        "\n",
        "print(type(hello)) # 출력: <class 'function'>"
      ],
      "metadata": {
        "id": "n70UCgVusuUd"
      },
      "execution_count": null,
      "outputs": []
    },
    {
      "cell_type": "code",
      "source": [
        "hello.hi = 'hi, world'\n",
        "hello.hi # 출력: hi, world  hello는 위 함수의 인스턴스 변수"
      ],
      "metadata": {
        "id": "BbCLwbLts0Qm"
      },
      "execution_count": null,
      "outputs": []
    },
    {
      "cell_type": "code",
      "source": [
        "class Point:\n",
        "\n",
        "    def __init__(self, x, y):\n",
        "        self.x = x\n",
        "        self.y = y\n",
        "\n",
        "    def __add__(self, other):\n",
        "        if isinstance(other, Point):\n",
        "            return Point((self.x + other.x), (self.y + other.y))\n",
        "        elif isinstance(other, int) or isinstance(other, float):\n",
        "            return Point((self.x + other), (self.y + other))\n",
        "\n",
        "    def distance(self, other):\n",
        "        dx = self.x - other.x\n",
        "        dy = self.y - other.y\n",
        "        return (dx**2 + dy**2)**0.5\n",
        "\n",
        "dot1 = Point(10, 20)\n",
        "dot2 = Point(20, 30)\n",
        "\n",
        "dot3 = dot1 + 10\n",
        "print(dot1.x, dot1.y) # 출력: 10 20\n",
        "print(dot3.x, dot3.y) # 출력: 20 30\n",
        "\n",
        "dot4 = dot1 + dot2\n",
        "print(dot4.x, dot4.y) # 출력: 30 50\n",
        "print(dot4.distance(dot1)) # 출력: 36.05551275463989"
      ],
      "metadata": {
        "colab": {
          "base_uri": "https://localhost:8080/"
        },
        "id": "M_pRBN7Vs5_M",
        "outputId": "36fcb155-db28-4512-aea1-0af4519cf721"
      },
      "execution_count": null,
      "outputs": [
        {
          "output_type": "stream",
          "name": "stdout",
          "text": [
            "10 20\n",
            "20 30\n",
            "30 50\n",
            "36.05551275463989\n"
          ]
        }
      ]
    },
    {
      "cell_type": "code",
      "source": [
        "# 클래스내의 메서드들은 한줄씩 개행한다\n",
        "# 클래스끼리는 두줄 개행\n",
        "class x:\n",
        "\n",
        "    def x():\n",
        "        pass\n",
        "\n",
        "    def x():\n",
        "        pass"
      ],
      "metadata": {
        "id": "YJAw9oi8vtTZ"
      },
      "execution_count": null,
      "outputs": []
    },
    {
      "cell_type": "code",
      "source": [
        "class Counter:\n",
        "\n",
        "    def __init__(self):\n",
        "        self.num = 0\n",
        "\n",
        "    def __len__(self):\n",
        "        return 100\n",
        "\n",
        "    def __call__(self):\n",
        "        return 'hello'\n",
        "\n",
        "    def __getitem__(self, key):\n",
        "        return key*10\n",
        "\n",
        "    def __str__(self):\n",
        "        return 'hello'\n",
        "\n",
        "    def __repr__(self):\n",
        "        return 'world'\n",
        "\n",
        "c = Counter()\n",
        "len(c)\n",
        "c()\n",
        "c[10]\n",
        "print(c) # 이것은 print(str(c))와 같다 __str__\n",
        "c # __repr__"
      ],
      "metadata": {
        "colab": {
          "base_uri": "https://localhost:8080/"
        },
        "id": "p6-j2ZD1xJJT",
        "outputId": "133b6126-77c3-46ab-cd76-59f77d8929b2"
      },
      "execution_count": null,
      "outputs": [
        {
          "output_type": "stream",
          "name": "stdout",
          "text": [
            "hello\n"
          ]
        },
        {
          "output_type": "execute_result",
          "data": {
            "text/plain": [
              "world"
            ]
          },
          "metadata": {},
          "execution_count": 23
        }
      ]
    },
    {
      "cell_type": "markdown",
      "source": [
        "# 상속"
      ],
      "metadata": {
        "id": "18cY_FNJ6ZIA"
      }
    },
    {
      "cell_type": "code",
      "source": [
        "class A:\n",
        "    def hello(self):\n",
        "        return 'hello'\n",
        "\n",
        "class B(A):\n",
        "    def __init__(self, a, b):\n",
        "        print(a,b)\n",
        "\n",
        "    def world(self):\n",
        "        return 'world'\n",
        "\n",
        "b = B()\n",
        "b.hello()  # 출력: 'hello'\n",
        "b.world()  # 출력: 'world'"
      ],
      "metadata": {
        "colab": {
          "base_uri": "https://localhost:8080/",
          "height": 35
        },
        "id": "ZdFGt9JhzE1y",
        "outputId": "c7175845-006b-4c6f-a21c-2fd2614cf890"
      },
      "execution_count": null,
      "outputs": [
        {
          "output_type": "execute_result",
          "data": {
            "text/plain": [
              "'world'"
            ],
            "application/vnd.google.colaboratory.intrinsic+json": {
              "type": "string"
            }
          },
          "metadata": {},
          "execution_count": 26
        }
      ]
    },
    {
      "cell_type": "code",
      "source": [
        "class A(object):\n",
        "    def hello(self):\n",
        "        return 'hello'\n",
        "\n",
        "class B(A):\n",
        "    def __init__(self, a, b):\n",
        "        print(a,b)\n",
        "\n",
        "    def world(self):\n",
        "        return 'world'\n",
        "\n",
        "b = B()\n",
        "b.hello()  # 출력: 'hello'\n",
        "b.world()  # 출력: 'world'\n",
        "dir(b)"
      ],
      "metadata": {
        "colab": {
          "base_uri": "https://localhost:8080/",
          "height": 248
        },
        "id": "pPzInBqszpCK",
        "outputId": "09478c40-232b-4f4b-f2b9-5995de253030"
      },
      "execution_count": null,
      "outputs": [
        {
          "output_type": "error",
          "ename": "TypeError",
          "evalue": "ignored",
          "traceback": [
            "\u001b[0;31m---------------------------------------------------------------------------\u001b[0m",
            "\u001b[0;31mTypeError\u001b[0m                                 Traceback (most recent call last)",
            "\u001b[0;32m<ipython-input-3-2c2b6b2e3ffb>\u001b[0m in \u001b[0;36m<cell line: 12>\u001b[0;34m()\u001b[0m\n\u001b[1;32m     10\u001b[0m         \u001b[0;32mreturn\u001b[0m \u001b[0;34m'world'\u001b[0m\u001b[0;34m\u001b[0m\u001b[0;34m\u001b[0m\u001b[0m\n\u001b[1;32m     11\u001b[0m \u001b[0;34m\u001b[0m\u001b[0m\n\u001b[0;32m---> 12\u001b[0;31m \u001b[0mb\u001b[0m \u001b[0;34m=\u001b[0m \u001b[0mB\u001b[0m\u001b[0;34m(\u001b[0m\u001b[0;34m)\u001b[0m\u001b[0;34m\u001b[0m\u001b[0;34m\u001b[0m\u001b[0m\n\u001b[0m\u001b[1;32m     13\u001b[0m \u001b[0mb\u001b[0m\u001b[0;34m.\u001b[0m\u001b[0mhello\u001b[0m\u001b[0;34m(\u001b[0m\u001b[0;34m)\u001b[0m  \u001b[0;31m# 출력: 'hello'\u001b[0m\u001b[0;34m\u001b[0m\u001b[0;34m\u001b[0m\u001b[0m\n\u001b[1;32m     14\u001b[0m \u001b[0mb\u001b[0m\u001b[0;34m.\u001b[0m\u001b[0mworld\u001b[0m\u001b[0;34m(\u001b[0m\u001b[0;34m)\u001b[0m  \u001b[0;31m# 출력: 'world'\u001b[0m\u001b[0;34m\u001b[0m\u001b[0;34m\u001b[0m\u001b[0m\n",
            "\u001b[0;31mTypeError\u001b[0m: B.__init__() missing 2 required positional arguments: 'a' and 'b'"
          ]
        }
      ]
    },
    {
      "cell_type": "code",
      "source": [
        "class A:\n",
        "    def hello(self):\n",
        "        return 'hello'\n",
        "\n",
        "class B(A):\n",
        "    def __init__(self, a, b):\n",
        "        print(a,b)\n",
        "\n",
        "    def world(self):\n",
        "        return 'world'\n",
        "\n",
        "    def hello(self):\n",
        "        return 'hello world'\n",
        "\n",
        "b = B(10)\n",
        "b.hello() # B에 hello가 생겼으므로 A에 있는 hello를 참조할 필요가 없다\n"
      ],
      "metadata": {
        "id": "1IPiX2Pt0-_2"
      },
      "execution_count": null,
      "outputs": []
    },
    {
      "cell_type": "code",
      "source": [
        "class A:\n",
        "    def one(self):\n",
        "        return 'one'\n",
        "\n",
        "class B(A):\n",
        "    def two(self):\n",
        "        return 'two'\n",
        "\n",
        "class C(B):\n",
        "    def three(self):\n",
        "        return 'three'\n",
        "\n",
        "c = C()\n",
        "c.one()\n",
        "c.two()\n",
        "c.three()"
      ],
      "metadata": {
        "colab": {
          "base_uri": "https://localhost:8080/",
          "height": 35
        },
        "id": "cuorhk6a1pt4",
        "outputId": "14172b81-0ae9-4c26-c9c2-6900f4fedea3"
      },
      "execution_count": null,
      "outputs": [
        {
          "output_type": "execute_result",
          "data": {
            "text/plain": [
              "'three'"
            ],
            "application/vnd.google.colaboratory.intrinsic+json": {
              "type": "string"
            }
          },
          "metadata": {},
          "execution_count": 7
        }
      ]
    },
    {
      "cell_type": "code",
      "source": [
        "class A:\n",
        "    test = 0\n",
        "    def one(self):\n",
        "        return 'one'\n",
        "\n",
        "class B(A):\n",
        "    def two(self):\n",
        "        return 'two'\n",
        "\n",
        "class C(B):\n",
        "    def three(self):\n",
        "        return 'three'\n",
        "\n",
        "c = C()\n",
        "A.test = 300\n",
        "c.test  # 상속을 받을 때 내 메모리 영역의 값(보유하고있는)은 아닙니다! 참조 값입니다"
      ],
      "metadata": {
        "colab": {
          "base_uri": "https://localhost:8080/"
        },
        "id": "F7Tl7O2o4kWG",
        "outputId": "14f2caca-45af-4fb2-89f3-67818e553884"
      },
      "execution_count": null,
      "outputs": [
        {
          "output_type": "execute_result",
          "data": {
            "text/plain": [
              "300"
            ]
          },
          "metadata": {},
          "execution_count": 33
        }
      ]
    },
    {
      "cell_type": "code",
      "source": [
        "# 파이썬에서는 지원안한다\n",
        "# 오버로드 불가\n",
        "class A:\n",
        "    test = 0\n",
        "    def one(self):\n",
        "        return 'one'\n",
        "\n",
        "class B(A):\n",
        "    def two(self):\n",
        "        return 'two'\n",
        "\n",
        "    def one(self, x):\n",
        "        return x\n",
        "\n",
        "    def one(self, x, y):\n",
        "        return x + y\n",
        "\n",
        "c = C()\n",
        "c.one(3, 6)\n",
        "c.one(3)"
      ],
      "metadata": {
        "id": "kjwVxRzr5QWP"
      },
      "execution_count": null,
      "outputs": []
    },
    {
      "cell_type": "markdown",
      "source": [
        "# 다중상속"
      ],
      "metadata": {
        "id": "EceBc0HC6JtL"
      }
    },
    {
      "cell_type": "code",
      "source": [
        "class A:\n",
        "    def hello(self):\n",
        "        print('hello A')\n",
        "\n",
        "class B:\n",
        "    def hello(self):\n",
        "        print('hello B')\n",
        "\n",
        "class C(A, B):\n",
        "    pass\n",
        "\n",
        "c = C()\n",
        "c.hello()   #   주의! python의 코드의 특성상 hello B라고 오해할만합니다\n"
      ],
      "metadata": {
        "colab": {
          "base_uri": "https://localhost:8080/"
        },
        "id": "GFQMPE725-IV",
        "outputId": "ca1d7177-be14-4520-c192-5f41eb48fe25"
      },
      "execution_count": null,
      "outputs": [
        {
          "output_type": "stream",
          "name": "stdout",
          "text": [
            "hello A\n"
          ]
        }
      ]
    },
    {
      "cell_type": "code",
      "source": [
        "# 2.x때와 3.x때가 아래 다이아몬드 상속에 순서가 다릅니다\n",
        "class A:\n",
        "    def hello(self):\n",
        "        print('hello A')\n",
        "\n",
        "class B(A):\n",
        "    def hello(self):\n",
        "        print('hello B')\n",
        "\n",
        "class C(A):\n",
        "    def hello(self):\n",
        "        print('hello C')\n",
        "\n",
        "class D(B, C):\n",
        "    pass\n",
        "\n",
        "d = D()\n",
        "d.hello()\n",
        "D.mro()"
      ],
      "metadata": {
        "colab": {
          "base_uri": "https://localhost:8080/"
        },
        "id": "s0QRU0V57R0Y",
        "outputId": "baf207f9-ca44-4aae-911e-abd27c524b11"
      },
      "execution_count": null,
      "outputs": [
        {
          "output_type": "stream",
          "name": "stdout",
          "text": [
            "hello B\n"
          ]
        },
        {
          "output_type": "execute_result",
          "data": {
            "text/plain": [
              "[__main__.D, __main__.B, __main__.C, __main__.A, object]"
            ]
          },
          "metadata": {},
          "execution_count": 38
        }
      ]
    },
    {
      "cell_type": "code",
      "source": [
        "# 주의! python의 2.x와 3.x가 아래 다이아몬드 상속에 순서가 다릅니다.\n",
        "# 3.x에서는 hello C가, 2.x에서는 hello A가 출력됩니다.\n",
        "# 다만 2.x에서 A => class A(object)로 바꾸면 실행 순서는 같아집니다.\n",
        "class A:\n",
        "    def hello(self):\n",
        "        print('hello A')\n",
        "\n",
        "class B(A):\n",
        "    pass\n",
        "\n",
        "class C(A):\n",
        "    def hello(self):\n",
        "        print('hello C')\n",
        "\n",
        "class D(B, C):\n",
        "    pass\n",
        "\n",
        "d = D()\n",
        "d.hello()"
      ],
      "metadata": {
        "id": "hUqRYthcSOd9"
      },
      "execution_count": null,
      "outputs": []
    },
    {
      "cell_type": "code",
      "source": [
        "# 다중 상속을 했을 때 상속에서 error가 나는 경우(정상실행)\n",
        "class A:\n",
        "    def hello(self):\n",
        "        print('hello A')\n",
        "\n",
        "class B(A):\n",
        "    def hello(self):\n",
        "        print('hello B')\n",
        "\n",
        "class C(B):\n",
        "    def hello(self):\n",
        "        print('hello C')\n",
        "\n",
        "class D(C, B):\n",
        "    pass\n",
        "\n",
        "d = D()\n",
        "d.hello()"
      ],
      "metadata": {
        "colab": {
          "base_uri": "https://localhost:8080/"
        },
        "id": "ue90wqi48lei",
        "outputId": "81edf888-599c-439f-f523-72087f1916b6"
      },
      "execution_count": null,
      "outputs": [
        {
          "output_type": "stream",
          "name": "stdout",
          "text": [
            "hello C\n"
          ]
        }
      ]
    },
    {
      "cell_type": "code",
      "source": [
        "# 다중 상속을 했을 때 상속에서 error가 나는 경우\n",
        "class A:\n",
        "    def hello(self):\n",
        "        print('hello A')\n",
        "\n",
        "class B(A):\n",
        "    def hello(self):\n",
        "        print('hello B')\n",
        "\n",
        "class C(B):\n",
        "    def hello(self):\n",
        "        print('hello C')\n",
        "\n",
        "class D(B, C):\n",
        "    pass\n",
        "\n",
        "d = D()\n",
        "d.hello()"
      ],
      "metadata": {
        "colab": {
          "base_uri": "https://localhost:8080/",
          "height": 265
        },
        "id": "uagbefIy8yNA",
        "outputId": "cd72f4a3-cc09-47e8-9be0-331636fd203d"
      },
      "execution_count": null,
      "outputs": [
        {
          "output_type": "error",
          "ename": "TypeError",
          "evalue": "ignored",
          "traceback": [
            "\u001b[0;31m---------------------------------------------------------------------------\u001b[0m",
            "\u001b[0;31mTypeError\u001b[0m                                 Traceback (most recent call last)",
            "\u001b[0;32m<ipython-input-40-cc1782689ebc>\u001b[0m in \u001b[0;36m<cell line: 14>\u001b[0;34m()\u001b[0m\n\u001b[1;32m     12\u001b[0m         \u001b[0mprint\u001b[0m\u001b[0;34m(\u001b[0m\u001b[0;34m'hello C'\u001b[0m\u001b[0;34m)\u001b[0m\u001b[0;34m\u001b[0m\u001b[0;34m\u001b[0m\u001b[0m\n\u001b[1;32m     13\u001b[0m \u001b[0;34m\u001b[0m\u001b[0m\n\u001b[0;32m---> 14\u001b[0;31m \u001b[0;32mclass\u001b[0m \u001b[0mD\u001b[0m\u001b[0;34m(\u001b[0m\u001b[0mB\u001b[0m\u001b[0;34m,\u001b[0m \u001b[0mC\u001b[0m\u001b[0;34m)\u001b[0m\u001b[0;34m:\u001b[0m\u001b[0;34m\u001b[0m\u001b[0;34m\u001b[0m\u001b[0m\n\u001b[0m\u001b[1;32m     15\u001b[0m     \u001b[0;32mpass\u001b[0m\u001b[0;34m\u001b[0m\u001b[0;34m\u001b[0m\u001b[0m\n\u001b[1;32m     16\u001b[0m \u001b[0;34m\u001b[0m\u001b[0m\n",
            "\u001b[0;31mTypeError\u001b[0m: Cannot create a consistent method resolution\norder (MRO) for bases B, C"
          ]
        }
      ]
    },
    {
      "cell_type": "markdown",
      "source": [
        "# 연습문제\n",
        "\n",
        "게임에서 캐릭터를 구현할 예정입니다. 아래 클래스를 적절하게\n",
        "조합하여 hero 인스턴스와 villain 인스턴스를 만들어주세요.\n",
        "1. class Body(능력치)\n",
        "2. class Weapon(무기)\n",
        "3. class WeaponEnhancement(무기강화)\n",
        "4. class Skill(기술)\n",
        "5. class Equipment(장비)\n",
        "6. class Role(히어로인지, 빌런인지, 몹인지)"
      ],
      "metadata": {
        "id": "I-Iqt1sb9bFq"
      }
    },
    {
      "cell_type": "code",
      "source": [
        "class Weapon:\n",
        "    def setDamage(self, damage):\n",
        "        self.damage = damage\n",
        "\n",
        "class WeaponEnhancement(Weapon):\n",
        "    def setEnhance(self, enhance):\n",
        "        self.damage *= enhance\n",
        "\n",
        "class Equipment(WeaponEnhancement):\n",
        "    def Equip(self, name, damage, enhance):\n",
        "        self.weapon = name\n",
        "        self.damage = damage * enhance\n",
        "class Skill:\n",
        "    def setSkill(self, skill):\n",
        "        self.skill = skill\n",
        "\n",
        "class Role:\n",
        "    def setRole(self, role):\n",
        "        self.role = role\n",
        "\n",
        "class Character(Role, Skill, Equipment):\n",
        "    def __init__(self, role, hp, mp, skill, equip, damage, enhance):\n",
        "        self.setRole(role)\n",
        "        self.hp = hp\n",
        "        self.mp = mp\n",
        "        self.setSkill(skill)\n",
        "        self.Equip(equip, damage, enhance)\n",
        "\n",
        "hero = Character('hero', 100, 100, 'judgement', 'gun', 110, 5)\n",
        "villain = Character('villain', 100, 100, 'slaught', 'sword', 100, 4)"
      ],
      "metadata": {
        "id": "LxWWXqLf9Zte"
      },
      "execution_count": null,
      "outputs": []
    },
    {
      "cell_type": "code",
      "source": [
        "class Weapon:\n",
        "    def setDamage(self, damage):\n",
        "        self.damage = damage\n",
        "\n",
        "class WeaponEnhancement(Weapon):\n",
        "    def setEnhance(self, success):\n",
        "        if success == True:\n",
        "            self.damage *= 5\n",
        "        else:\n",
        "            self.damage = 0\n",
        "\n",
        "\n",
        "class Equipment(WeaponEnhancement):\n",
        "    pass\n",
        "\n",
        "\n",
        "class Skill:\n",
        "    def jarvis(self):\n",
        "        return '자비스! 도와줘!'\n",
        "\n",
        "    def beam(self):\n",
        "        return '나가라 빔!'\n",
        "\n",
        "\n",
        "class Role:\n",
        "    def setRole(self, role):\n",
        "        self.role = role\n",
        "\n",
        "\n",
        "class Body(Role, Skill, Equipment):\n",
        "    def __init__(self, role, hp, mp):\n",
        "        self.setRole(role)\n",
        "        self.hp = hp\n",
        "\n",
        "ironman = Body('hero', 100, 100)\n",
        "thanos = Body('villain', 100, 100)\n",
        "\n",
        "ironman.jarvis()\n",
        "ironman.setDamage(1000)\n",
        "ironman.damage\n",
        "ironman.setEnhance(True)\n",
        "ironman.damage\n",
        "ironman.hp\n",
        "ironman.role"
      ],
      "metadata": {
        "colab": {
          "base_uri": "https://localhost:8080/",
          "height": 35
        },
        "id": "Bqrvw6TeF5q5",
        "outputId": "18a7023b-4d4e-478e-dba8-b2e44664c9dc"
      },
      "execution_count": null,
      "outputs": [
        {
          "output_type": "execute_result",
          "data": {
            "text/plain": [
              "'hero'"
            ],
            "application/vnd.google.colaboratory.intrinsic+json": {
              "type": "string"
            }
          },
          "metadata": {},
          "execution_count": 53
        }
      ]
    },
    {
      "cell_type": "markdown",
      "source": [
        "# 0918 문제\n",
        "\n",
        "문제 1:\n",
        "동물 클래스 Animal을 만들고 어주세요. Dog와 Cat 클래스를 각각 정의하십시오.\n",
        "\n",
        "Animal 클래스는 name 속성을 가집니다. 이 클래스는 make_sound 메서드를 갖고 있습니다.\n",
        "\n",
        "Dog와 Cat 클래스는 Animal 클래스를 상속받는 클래스입니다.Dog 클래스의 make_sound 메서드는 \"멍멍!\"을, Cat 클래스의 make_sound 메서드는 \"야옹!\"을 출력하도록 재정의하세요.\n"
      ],
      "metadata": {
        "id": "FK15v-2TLVmp"
      }
    },
    {
      "cell_type": "code",
      "source": [
        "class Animal:\n",
        "    def name(self, name):\n",
        "        self.name = name\n",
        "\n",
        "    def make_sound(self):\n",
        "        return print(\"\")\n",
        "\n",
        "\n",
        "\n",
        "class Dog(Animal):\n",
        "    def __init__(self, name):\n",
        "        self.name(name)\n",
        "\n",
        "    def make_sound(self):\n",
        "        return print(\"멍멍\")\n",
        "\n",
        "class Cat(Animal):\n",
        "    def __init__(self, name):\n",
        "        self.name(name)\n",
        "\n",
        "    def make_sound(self):\n",
        "        return print(\"야옹\")\n",
        "\n",
        "dog = Dog('a')\n",
        "cat = Cat('a')\n",
        "dog.make_sound()\n",
        "cat.make_sound()"
      ],
      "metadata": {
        "colab": {
          "base_uri": "https://localhost:8080/"
        },
        "id": "-BW1obqILc7o",
        "outputId": "60d34660-0755-4f42-a4cc-9c23f4b46119"
      },
      "execution_count": null,
      "outputs": [
        {
          "output_type": "stream",
          "name": "stdout",
          "text": [
            "멍멍\n",
            "야옹\n"
          ]
        }
      ]
    },
    {
      "cell_type": "markdown",
      "source": [
        "# 0918문제\n",
        "문제 2: Person이라는 기본 클래스를 만들어주세요. Person 클래스는 이름과 나이라는 두 개의 속성과 소개하기라는 메서드를 가지며, 이 메서드는 \"Hello World!, 제 이름은 [이름]이고 제 나이는 [나이]살 입니다.\"라는 메시지를 출력합니다.\n",
        "\n",
        "Person 클래스를 상속받는 Student 클래스를 정의하십시오. Student 클래스는 추가적으로 학년 속성을 가집니다. Student 클래스에서 소개하기 메서드를 오버라이드하여 \"Hello World!, 제 이름은 [이름]이고 제 나이는 [나이]살 입니다. 그리고 저는 [학년]학년입니다. \"라는 메시지를 출력하도록 만드세요."
      ],
      "metadata": {
        "id": "e5cZAAcYQKPf"
      }
    },
    {
      "cell_type": "code",
      "source": [
        "class Person:\n",
        "    def __init__(self, name, age): # self 인스턴스 자신\n",
        "        self.name = name\n",
        "        self.age = age\n",
        "\n",
        "    # def info(self, name, age):\n",
        "    #     self.name = name\n",
        "    #     self.age = age\n",
        "\n",
        "    def hi(self):\n",
        "        print(f'\"Hello World!, 제 이름은 {self.name}이고 제 나이는 {self.age}살 입니다.\"')\n",
        "\n",
        "class Student(Person):\n",
        "    def __init__(self, name, age, grade):\n",
        "        self.name = name\n",
        "        self.age = age\n",
        "        # self.info(name, age)\n",
        "        self.grade = grade\n",
        "\n",
        "    def hi(self):\n",
        "        print(f'\"Hello World!, 제 이름은 {self.name}이고 제 나이는 {self.age}살 입니다.그리고 저는 {self.grade}학년입니다\"')\n",
        "\n",
        "\n",
        "p = Person('수영', 17)\n",
        "p.hi()\n",
        "s = Student('수민', 16 ,3)\n",
        "s.hi()"
      ],
      "metadata": {
        "colab": {
          "base_uri": "https://localhost:8080/"
        },
        "id": "wrd9V9x6QEx6",
        "outputId": "648a16a7-8d22-4599-be5f-28ae3b394f14"
      },
      "execution_count": null,
      "outputs": [
        {
          "output_type": "stream",
          "name": "stdout",
          "text": [
            "\"Hello World!, 제 이름은 수영이고 제 나이는 17살 입니다.\"\n",
            "\"Hello World!, 제 이름은 수민이고 제 나이는 16살 입니다.그리고 저는 3학년입니다\"\n"
          ]
        }
      ]
    },
    {
      "cell_type": "markdown",
      "source": [
        "# 클래스 메서드와 정적 메서드"
      ],
      "metadata": {
        "id": "51UUAoMkw03O"
      }
    },
    {
      "cell_type": "code",
      "source": [
        "# 클래스 메서드 사용 ㅇ\n",
        "class MyClass:\n",
        "    count = 0\n",
        "\n",
        "    @classmethod\n",
        "    def increment(cls): # cls 대신 아무거나 적어도 동작은 이상없지만 관습이므로 cls사용하도록하자\n",
        "        cls.count += 1\n",
        "\n",
        "a = MyClass()\n",
        "b = MyClass()\n",
        "\n",
        "MyClass.increment()\n",
        "print(MyClass.count)  # 출력: 1\n",
        "\n",
        "print(a.count, b.count)\n",
        "\n",
        "MyClass.increment()\n",
        "\n",
        "print(a.count, b.count)"
      ],
      "metadata": {
        "colab": {
          "base_uri": "https://localhost:8080/"
        },
        "id": "5PUZr41Dw2ol",
        "outputId": "67efeeaa-8206-4cae-df3c-321958e13932"
      },
      "execution_count": 11,
      "outputs": [
        {
          "output_type": "stream",
          "name": "stdout",
          "text": [
            "1\n",
            "1 1\n",
            "2 2\n"
          ]
        }
      ]
    },
    {
      "cell_type": "code",
      "source": [
        "# 클래스 메서드 사용 x\n",
        "class MyClass:\n",
        "    count = 0\n",
        "\n",
        "    def increment(self):\n",
        "        self.count += 1\n",
        "\n",
        "a = MyClass()\n",
        "b = MyClass()\n",
        "\n",
        "# MyClass.increment()   # error\n",
        "a.increment()  # 출력: 1\n",
        "\n",
        "print(a.count, b.count)\n",
        "\n",
        "a.increment()\n",
        "\n",
        "print(a.count, b.count)"
      ],
      "metadata": {
        "colab": {
          "base_uri": "https://localhost:8080/"
        },
        "id": "inoQlO2ZzAXu",
        "outputId": "ce693b1b-fbc7-459c-92fe-d835016a32e7"
      },
      "execution_count": 7,
      "outputs": [
        {
          "output_type": "stream",
          "name": "stdout",
          "text": [
            "1 0\n",
            "2 0\n"
          ]
        }
      ]
    },
    {
      "cell_type": "code",
      "source": [
        "class MyClass:\n",
        "    @staticmethod\n",
        "    def my_method(x, y):\n",
        "        return x + y\n",
        "\n",
        "print(MyClass.my_method(5, 3))  # 출력: 8"
      ],
      "metadata": {
        "colab": {
          "base_uri": "https://localhost:8080/"
        },
        "id": "hBRrqUq1zZwx",
        "outputId": "758202a4-9040-4a5c-abe2-26472d583b27"
      },
      "execution_count": 12,
      "outputs": [
        {
          "output_type": "stream",
          "name": "stdout",
          "text": [
            "8\n"
          ]
        }
      ]
    },
    {
      "cell_type": "code",
      "source": [
        "class MyClass:\n",
        "    count = 10\n",
        "    @staticmethod\n",
        "    def my_method(x, y):\n",
        "        # print(count) # 읽는 것 조차 접근이 안됩니다\n",
        "        return x + y\n",
        "\n",
        "print(MyClass.my_method(5, 3))  # 출력: 8"
      ],
      "metadata": {
        "colab": {
          "base_uri": "https://localhost:8080/"
        },
        "id": "9jnC9DJkz2di",
        "outputId": "124df886-49f0-4e98-c8d5-1a32f493acd8"
      },
      "execution_count": 14,
      "outputs": [
        {
          "output_type": "stream",
          "name": "stdout",
          "text": [
            "8\n"
          ]
        }
      ]
    },
    {
      "cell_type": "code",
      "source": [
        "class 학사정보시스템:\n",
        "    학점총점 = 120\n",
        "\n",
        "    def __init__(self):\n",
        "        self.학기점수 = []\n",
        "\n",
        "    def 학점추가(self, 이번학기점수):\n",
        "        self.학기점수.append(이번학기점수)\n",
        "\n",
        "    def 학점평균(self):\n",
        "        return sum(self.학기점수)/len(self.학기점수)\n",
        "\n",
        "    def 졸업장출력(self):\n",
        "        return f'총학점 {self.학점총점}학점, {self.학점평균()}으로 졸업하셨습니다'\n",
        "\n",
        "피카츄 = 학사정보시스템()\n",
        "꼬부기 = 학사정보시스템()\n",
        "\n",
        "피카츄.학점추가(3.2)\n",
        "피카츄.학점추가(3.5)\n",
        "피카츄.학점추가(3.0)\n",
        "피카츄.학점추가(2.8)\n",
        "\n",
        "피카츄.학점평균()\n",
        "피카츄.졸업장출력()"
      ],
      "metadata": {
        "colab": {
          "base_uri": "https://localhost:8080/",
          "height": 35
        },
        "id": "qTwK2St00J0R",
        "outputId": "0e073d2e-456e-4e9c-959c-1d9610759776"
      },
      "execution_count": 17,
      "outputs": [
        {
          "output_type": "execute_result",
          "data": {
            "text/plain": [
              "'총학점 120학점, 3.125으로 졸업하셨습니다'"
            ],
            "application/vnd.google.colaboratory.intrinsic+json": {
              "type": "string"
            }
          },
          "metadata": {},
          "execution_count": 17
        }
      ]
    },
    {
      "cell_type": "code",
      "source": [
        "# 스토리: 중간에 총학점이 120학점에서 60학점으로 바뀌어서 조기졸업을 할 수 있게 되었습니다\n",
        "class 학사정보시스템:\n",
        "    학점총점 = 120\n",
        "\n",
        "    def __init__(self):\n",
        "        self.학기점수 = []\n",
        "\n",
        "    def 학점추가(self, 이번학기점수):\n",
        "        self.학기점수.append(이번학기점수)\n",
        "\n",
        "    def 학점평균(self):\n",
        "        return sum(self.학기점수)/len(self.학기점수)\n",
        "\n",
        "    def 졸업장출력(self):\n",
        "        return f'총학점 {self.학점총점}학점, {self.학점평균()}으로 졸업하셨습니다'\n",
        "\n",
        "피카츄 = 학사정보시스템()\n",
        "꼬부기 = 학사정보시스템()\n",
        "\n",
        "피카츄.학점추가(3.2)\n",
        "피카츄.학점추가(3.5)\n",
        "피카츄.학점추가(3.0)\n",
        "피카츄.학점추가(3.2)\n",
        "피카츄.학점추가(3.0)\n",
        "피카츄.학점추가(3.3)\n",
        "피카츄.학점추가(3.0)\n",
        "피카츄.학점추가(2.8)\n",
        "피카츄.학점총점 = 60\n",
        "\n",
        "피카츄.학점평균()\n",
        "피카츄.졸업장출력()"
      ],
      "metadata": {
        "colab": {
          "base_uri": "https://localhost:8080/",
          "height": 35
        },
        "id": "TpwCGley2jjE",
        "outputId": "c5a3a27e-c14a-4a57-dec2-b8c16e3bca2e"
      },
      "execution_count": 18,
      "outputs": [
        {
          "output_type": "execute_result",
          "data": {
            "text/plain": [
              "'총학점 60학점, 3.125으로 졸업하셨습니다'"
            ],
            "application/vnd.google.colaboratory.intrinsic+json": {
              "type": "string"
            }
          },
          "metadata": {},
          "execution_count": 18
        }
      ]
    },
    {
      "cell_type": "code",
      "source": [
        "# 이렇게 코딩하면 꼬부기의 졸업장은 변하지 않습니다!\n",
        "꼬부기.학점추가(3.0)\n",
        "꼬부기.학점추가(2.8)\n",
        "꼬부기.학점추가(3.3)\n",
        "꼬부기.학점추가(3.0)\n",
        "\n",
        "꼬부기.졸업장출력()"
      ],
      "metadata": {
        "colab": {
          "base_uri": "https://localhost:8080/",
          "height": 35
        },
        "id": "LwiTMDM33Dhr",
        "outputId": "d28d9916-16fd-4ac4-de4a-fa06bc013a7a"
      },
      "execution_count": 19,
      "outputs": [
        {
          "output_type": "execute_result",
          "data": {
            "text/plain": [
              "'총학점 120학점, 3.025으로 졸업하셨습니다'"
            ],
            "application/vnd.google.colaboratory.intrinsic+json": {
              "type": "string"
            }
          },
          "metadata": {},
          "execution_count": 19
        }
      ]
    },
    {
      "cell_type": "code",
      "source": [
        "# 스토리: 중간에 총학점이 120학점에서 60학점으로 바뀌어서 조기졸업을 할 수 있게 되었습니다\n",
        "class 학사정보시스템:\n",
        "    학점총점 = 120\n",
        "\n",
        "    def __init__(self):\n",
        "        self.학기점수 = []\n",
        "\n",
        "    def 학점추가(self, 이번학기점수):\n",
        "        self.학기점수.append(이번학기점수)\n",
        "\n",
        "    def 학점평균(self):\n",
        "        return sum(self.학기점수)/len(self.학기점수)\n",
        "\n",
        "    def 졸업장출력(self):\n",
        "        return f'총학점 {self.학점총점}학점, {self.학점평균()}으로 졸업하셨습니다'\n",
        "\n",
        "피카츄 = 학사정보시스템()\n",
        "꼬부기 = 학사정보시스템()\n",
        "\n",
        "피카츄.학점추가(3.2)\n",
        "피카츄.학점추가(3.5)\n",
        "피카츄.학점추가(3.0)\n",
        "피카츄.학점추가(3.2)\n",
        "피카츄.학점추가(3.0)\n",
        "피카츄.학점추가(3.3)\n",
        "피카츄.학점추가(3.0)\n",
        "피카츄.학점추가(2.8)\n",
        "학사정보시스템.학점총점 = 60  # 학사정보시스템의 학점총점을 변경하여 꼬부기의 학점총점도 변경\n",
        "꼬부기.학점추가(3.0)          # 강사님은 이 코드의 위험성을 알고 계시고 강사님이 실수하지 않을 것을 알고계시기에\n",
        "꼬부기.학점추가(2.8)          # 이 코드를 사용하신다\n",
        "꼬부기.학점추가(3.3)          # 협업을 하거나 안정성을 더 확보하고 싶다면 클래스 메서드로 수정해 주세요\n",
        "꼬부기.학점추가(3.0)          # 클래스의 인스턴스 변수들이 모두 이 값을 참조하고 있기 때문\n",
        "                              # 만약에 학점총점으로 들어가는 산술 연산되는 메서드가 있다면 클래스의 학점총점에\n",
        "                              # 60이 아닌 '60'을 넣으면 에러가 발생한다\n",
        "\n",
        "\n",
        "\n",
        "피카츄.학점평균()\n",
        "print('피카츄',피카츄.졸업장출력())\n",
        "print('꼬부기',꼬부기.졸업장출력()) # 둘 다 변한 것을 확인 가능"
      ],
      "metadata": {
        "colab": {
          "base_uri": "https://localhost:8080/"
        },
        "id": "u_eh_H9e3X-e",
        "outputId": "8e855815-15c3-4e69-f9ac-f744881e0dbb"
      },
      "execution_count": 22,
      "outputs": [
        {
          "output_type": "stream",
          "name": "stdout",
          "text": [
            "피카츄 총학점 60학점, 3.125으로 졸업하셨습니다\n",
            "꼬부기 총학점 60학점, 3.025으로 졸업하셨습니다\n"
          ]
        }
      ]
    },
    {
      "cell_type": "code",
      "source": [
        "class 학사정보시스템:\n",
        "    학점총점 = 120\n",
        "\n",
        "    def __init__(self):\n",
        "        self.학기점수 = []\n",
        "\n",
        "    def 학점추가(self, 이번학기점수):\n",
        "        self.학기점수.append(이번학기점수)\n",
        "\n",
        "    def 학점평균(self):\n",
        "        return sum(self.학기점수)/len(self.학기점수)\n",
        "\n",
        "    def 졸업장출력(self):\n",
        "        return f'총학점 {self.학점총점}학점, {self.학점평균()}으로 졸업하셨습니다'\n",
        "\n",
        "    @classmethod\n",
        "    def 학점총점변경(cls, 총점):\n",
        "        if isinstance(총점, int):\n",
        "            cls.학점총점 = 총점\n",
        "            return '변경됨'\n",
        "        return '변경안됨'\n",
        "\n",
        "피카츄 = 학사정보시스템()\n",
        "꼬부기 = 학사정보시스템()\n",
        "\n",
        "피카츄.학점추가(3.2)\n",
        "피카츄.학점추가(3.5)\n",
        "피카츄.학점추가(3.0)\n",
        "피카츄.학점추가(3.2)\n",
        "피카츄.학점추가(3.0)\n",
        "피카츄.학점추가(3.3)\n",
        "피카츄.학점추가(3.0)\n",
        "피카츄.학점추가(2.8)\n",
        "학사정보시스템.학점총점변경(60)\n",
        "학사정보시스템.학점총점변경(120.5) # 무시\n",
        "학사정보시스템.학점총점변경('60')  # 무시\n",
        "\n",
        "꼬부기.학점추가(3.0)\n",
        "꼬부기.학점추가(2.8)\n",
        "꼬부기.학점추가(3.3)\n",
        "꼬부기.학점추가(3.0)\n",
        "\n",
        "\n",
        "피카츄.학점평균()\n",
        "print('피카츄',피카츄.졸업장출력())\n",
        "print('꼬부기',꼬부기.졸업장출력()) # 둘 다 변한 것을 확인 가능"
      ],
      "metadata": {
        "colab": {
          "base_uri": "https://localhost:8080/"
        },
        "id": "1ceAQNav424a",
        "outputId": "8d71283a-1ae3-454a-f419-ca1f94b8079e"
      },
      "execution_count": 27,
      "outputs": [
        {
          "output_type": "stream",
          "name": "stdout",
          "text": [
            "피카츄 총학점 60학점, 3.125으로 졸업하셨습니다\n",
            "꼬부기 총학점 60학점, 3.025으로 졸업하셨습니다\n"
          ]
        }
      ]
    },
    {
      "cell_type": "code",
      "source": [
        "class 학사정보시스템:\n",
        "    학점총점 = 120\n",
        "\n",
        "    def __init__(self):\n",
        "        self.학기점수 = []\n",
        "\n",
        "    def 학점추가(self, 이번학기점수):\n",
        "        self.학기점수.append(이번학기점수)\n",
        "\n",
        "    def 학점평균(self):\n",
        "        return sum(self.학기점수)/len(self.학기점수)\n",
        "\n",
        "    def 졸업장출력(self):\n",
        "        return f'총학점 {self.학점총점}학점, {self.학점평균()}으로 졸업하셨습니다'\n",
        "\n",
        "    @staticmethod\n",
        "    def 학사경고(이번학기점수): # self를 사용 안하므로 안적어도된다 따라서 정적메소드 사용\n",
        "        '''\n",
        "        내부에서 클래스 변수, 인스턴스 변수 수정하는 것이 가능하지 않습니다.\n",
        "\t\t\t\t'''\n",
        "        if 이번학기점수 - 1.5 > 0:\n",
        "            return '학사경고아님'\n",
        "        return '학사경고임!'\n",
        "\n",
        "    @classmethod\n",
        "    def 학점총점변경(cls, 총점):\n",
        "        if isinstance(총점, int):\n",
        "            cls.학점총점 = 총점\n",
        "            return '변경됨'\n",
        "        return '변경안됨'\n",
        "\n",
        "학사정보시스템.학사경고(1.4)\n",
        "학사정보시스템.학사경고(1.6)"
      ],
      "metadata": {
        "colab": {
          "base_uri": "https://localhost:8080/",
          "height": 35
        },
        "id": "9CxxwXMt6JbB",
        "outputId": "d4367f78-2f5b-429a-9bc2-9e213ab3629d"
      },
      "execution_count": 30,
      "outputs": [
        {
          "output_type": "execute_result",
          "data": {
            "text/plain": [
              "'학사경고아님'"
            ],
            "application/vnd.google.colaboratory.intrinsic+json": {
              "type": "string"
            }
          },
          "metadata": {},
          "execution_count": 30
        }
      ]
    },
    {
      "cell_type": "markdown",
      "source": [
        "# 속성 접근자와 덕타이핑"
      ],
      "metadata": {
        "id": "MVUp0OF39i4H"
      }
    },
    {
      "cell_type": "code",
      "source": [
        "class Person:\n",
        "    def __init__(self, first_name, last_name):\n",
        "        self._first_name = first_name\n",
        "        self._last_name = last_name\n",
        "\n",
        "    @property\n",
        "    def full_name(self):    # 인스턴스 변수처럼 사용된다\n",
        "        return f'{self._first_name}{self._last_name}'\n",
        "\n",
        "    def namemul(self):\n",
        "        return self.full_name * 2   # 클래스 내부에서도 self.full_name, 인스턴스 변수처럼 취급됩니다.\n",
        "\n",
        "licat = Person('li', 'cat')\n",
        "mura = Person('mu', 'ra')\n",
        "print(licat._first_name)\n",
        "print(licat._last_name)\n",
        "print(licat.full_name)  # 클래스 변수였다면 둘 다 같은 값이 출력되어야한다\n",
        "print(mura.full_name)   # 클래스 변수였다면 둘 다 같은 값이 출력되어야한다\n",
        "print(mura.namemul())\n",
        "# print(licat.full_name())  # error"
      ],
      "metadata": {
        "colab": {
          "base_uri": "https://localhost:8080/"
        },
        "id": "47t3FLZd9hOt",
        "outputId": "4b6b72c7-0eff-4d58-e9f6-68a03d4cf8d0"
      },
      "execution_count": 33,
      "outputs": [
        {
          "output_type": "stream",
          "name": "stdout",
          "text": [
            "li\n",
            "cat\n",
            "licat\n",
            "mura\n",
            "muramura\n"
          ]
        }
      ]
    },
    {
      "cell_type": "code",
      "source": [
        "class Duck:\n",
        "    def introduce(self):\n",
        "        print('꽥꽥!')\n",
        "\n",
        "class Person:\n",
        "    def introduce(self):\n",
        "        print(\"안녕하세요!\")\n",
        "\n",
        "def introduce(obj):\n",
        "    print('인사시작')\n",
        "    obj.introduce()\n",
        "    print('인사끝')\n",
        "\n",
        "duck = Duck()\n",
        "person = Person()\n",
        "\n",
        "introduce(duck)  # 출력: 꽥꽥!\n",
        "introduce(person)  # 출력: 안녕하세요!\n",
        "\n",
        "# 장점1. 코드의 가독성이 좋아집니다. duck.introduce() 이렇게 사용하지않고 introduce(duck)로 사용하게 되면\n",
        "# duck에 object 안을 들여다보지 않고, 어느정도 기능을 유추할 수 있게 됩니다.\n",
        "# 장점2. 여러가지 obj를 하나의 함수에서 실행하며 커스터 마이징도 가능합니다"
      ],
      "metadata": {
        "colab": {
          "base_uri": "https://localhost:8080/"
        },
        "id": "APN-VUf59iaM",
        "outputId": "12b2b1cc-8e88-4942-83cd-7212d914e42e"
      },
      "execution_count": 35,
      "outputs": [
        {
          "output_type": "stream",
          "name": "stdout",
          "text": [
            "인사시작\n",
            "꽥꽥!\n",
            "인사끝\n",
            "인사시작\n",
            "안녕하세요!\n",
            "인사끝\n"
          ]
        }
      ]
    },
    {
      "cell_type": "code",
      "source": [
        "# 덕타이핑은 취향차이\n",
        "class Hero:\n",
        "    def move(self):\n",
        "        print('H 움직임')\n",
        "\n",
        "class Villain:\n",
        "    def move(self):\n",
        "        print('V 움직임')\n",
        "\n",
        "\n",
        "class Mob:\n",
        "    def move(self):\n",
        "        print('M 움직임')\n",
        "\n",
        "def move(obj):\n",
        "    obj.move()\n",
        "\n",
        "a = Hero()\n",
        "b = Villain()\n",
        "c = Mob()\n",
        "\n",
        "등장인물 = [a, b, c]\n",
        "\n",
        "for person in 등장인물:\n",
        "    person.move()     # 취향차이\n",
        "    # move(person)    # 취향차이\n",
        "\n",
        "move(a)\n",
        "move(b)"
      ],
      "metadata": {
        "colab": {
          "base_uri": "https://localhost:8080/"
        },
        "id": "cIXcEcLHAhPZ",
        "outputId": "dd67a09c-901b-4c55-ed1e-fa48ca8c7305"
      },
      "execution_count": 50,
      "outputs": [
        {
          "output_type": "stream",
          "name": "stdout",
          "text": [
            "H 움직임\n",
            "V 움직임\n",
            "M 움직임\n",
            "H 움직임\n",
            "V 움직임\n"
          ]
        }
      ]
    },
    {
      "cell_type": "markdown",
      "source": [
        "# 추상 클래스"
      ],
      "metadata": {
        "id": "woqtiKIODofi"
      }
    },
    {
      "cell_type": "code",
      "source": [
        "from abc import ABC, abstractmethod\n",
        "\n",
        "class Person:\n",
        "\n",
        "    def move(self):\n",
        "        pass\n",
        "\n",
        "\n",
        "class Hero(Person):\n",
        "    pass\n",
        "\n",
        "\n",
        "ironman = Hero()\n",
        "ironman.숨쉬기()"
      ],
      "metadata": {
        "id": "OzXzlENPDjtE"
      },
      "execution_count": null,
      "outputs": []
    },
    {
      "cell_type": "code",
      "source": [
        "from abc import ABC, abstractmethod\n",
        "\n",
        "class Person(ABC): # ABC를 상속받고\n",
        "    @abstractmethod # abstractmethod라고 선언을 하면\n",
        "    def move(self):\n",
        "        print('걸어다님')\n",
        "\n",
        "\n",
        "class Hero(Person): # 상속받은 자식에서 반드시 메서드 오버라이딩이 일어나야합니다\n",
        "    def move(self):\n",
        "        print('날아다님!')\n",
        "\n",
        "\n",
        "ironman = Hero()\n",
        "ironman.move()"
      ],
      "metadata": {
        "colab": {
          "base_uri": "https://localhost:8080/"
        },
        "id": "G54zVUN5EeMi",
        "outputId": "ca32b504-9cb8-47a4-b500-61c31e665c1c"
      },
      "execution_count": 135,
      "outputs": [
        {
          "output_type": "stream",
          "name": "stdout",
          "text": [
            "날아다님!\n"
          ]
        }
      ]
    },
    {
      "cell_type": "code",
      "source": [
        "# import라는 문법을 지원하는게 importlib파일에 있다"
      ],
      "metadata": {
        "id": "XeFzDeNtGVp4"
      },
      "execution_count": null,
      "outputs": []
    },
    {
      "cell_type": "markdown",
      "source": [
        "# 비공개 속성\n",
        "\n",
        "대부분의 객체 지향 프로그래밍 언어에는 클래스의 속성과 메서드의 접근 제어를 위한 다양한 수준의 접근 제한자(access modifiers)가 있습니다. 파이썬에서는 속성이나 메서드를 완전히 \"비공개\"로 만드는 것은 사실상 불가능하며, 대신 \"비공개처럼\" 작동하게 하는 몇 가지 방법이 제공됩니다."
      ],
      "metadata": {
        "id": "oMM0aXpWHNy9"
      }
    },
    {
      "cell_type": "code",
      "source": [
        "# 비공개 속성이 조작 불가능한게 아닙니다!\n",
        "class MyClass:\n",
        "    __a = 10    #   네임맹글링\n",
        "    _a = 100\n",
        "    b = 20\n",
        "\n",
        "    def __init__(self, c, d):\n",
        "        self.__c = c\n",
        "        self.d = d\n",
        "\n",
        "# MyClass.__a\n",
        "test = MyClass(30, 40)\n",
        "# test.__a  # 오!? __a에 접근이 가능하지않네 => 오해입니다\n",
        "test._MyClass__a = 9000\n",
        "test._MyClass__c = 5000\n",
        "print(test._MyClass__a) # 이렇게하면 접근가능\n",
        "print(test._MyClass__c) # 이렇게하면 접근가능"
      ],
      "metadata": {
        "colab": {
          "base_uri": "https://localhost:8080/"
        },
        "id": "1KBjiNynHmL1",
        "outputId": "d6824765-b1a2-4a49-f4b8-029e7c470935"
      },
      "execution_count": 63,
      "outputs": [
        {
          "output_type": "stream",
          "name": "stdout",
          "text": [
            "9000\n",
            "5000\n"
          ]
        }
      ]
    },
    {
      "cell_type": "markdown",
      "source": [
        "# 모듈과 패키지\n",
        "\n",
        "su.py파일 작성 후 아래와 같이 입력해주세요\n",
        "```py\n",
        "name = 'leesumin'\n",
        "age = 15\n",
        "\n",
        "def hello():\n",
        "    return 'hello world'\n",
        "```"
      ],
      "metadata": {
        "id": "79J__WKfLibR"
      }
    },
    {
      "cell_type": "code",
      "source": [
        "import su # 여기서 su가 모듈입니다!\n",
        "\n",
        "su.name     # 변수를 호출할 수 있고\n",
        "su.hello()  # 함수도 호출할 수 있습니다\n",
        "su.age"
      ],
      "metadata": {
        "colab": {
          "base_uri": "https://localhost:8080/"
        },
        "id": "lfYub9P-K0Ac",
        "outputId": "2644d5e0-338b-47a2-b223-9308bf5909dd"
      },
      "execution_count": 66,
      "outputs": [
        {
          "output_type": "execute_result",
          "data": {
            "text/plain": [
              "15"
            ]
          },
          "metadata": {},
          "execution_count": 66
        }
      ]
    },
    {
      "cell_type": "code",
      "source": [
        "from su import name, age # 이 문법은 많이 사용됩니다. 그러나 강사님은 이 문법을 좋아하시지 않는다\n",
        "# from sui import name, age  # 이렇게 되면\n",
        "\n",
        "\n",
        "print(name) # 여기에 이름은 누구일까요 두개를 사용하면 뒤에 사용된 sui 출력\n",
        "print(age)"
      ],
      "metadata": {
        "id": "E9N6dv-xNC2I"
      },
      "execution_count": null,
      "outputs": []
    },
    {
      "cell_type": "code",
      "source": [
        "from su import name as n\n",
        "\n",
        "print(n)"
      ],
      "metadata": {
        "colab": {
          "base_uri": "https://localhost:8080/"
        },
        "id": "9WUDB2zoN9cE",
        "outputId": "fc890a35-e94f-4d46-f912-2535808dd86c"
      },
      "execution_count": 67,
      "outputs": [
        {
          "output_type": "stream",
          "name": "stdout",
          "text": [
            "leesumin\n"
          ]
        }
      ]
    },
    {
      "cell_type": "code",
      "source": [
        "import su as j\n",
        "\n",
        "j.name"
      ],
      "metadata": {
        "colab": {
          "base_uri": "https://localhost:8080/",
          "height": 35
        },
        "id": "AyVCVEYhOBNr",
        "outputId": "ab48458f-76ae-41fb-8edc-7b7189b94119"
      },
      "execution_count": 68,
      "outputs": [
        {
          "output_type": "execute_result",
          "data": {
            "text/plain": [
              "'leesumin'"
            ],
            "application/vnd.google.colaboratory.intrinsic+json": {
              "type": "string"
            }
          },
          "metadata": {},
          "execution_count": 68
        }
      ]
    },
    {
      "cell_type": "code",
      "source": [
        "import pandas as pd # 데이터 분석 모듈\n",
        "import numpy as np  # 수학 관련 모듈"
      ],
      "metadata": {
        "id": "vtg31dfMOMeX"
      },
      "execution_count": null,
      "outputs": []
    },
    {
      "cell_type": "markdown",
      "source": [
        "![image.png](data:image/png;base64,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)"
      ],
      "metadata": {
        "id": "ac9CJBVZgjrw"
      }
    },
    {
      "cell_type": "code",
      "source": [
        "import a    # 폴더가 있기 때문에 에러가 안난다\n",
        "\n",
        "print(a)\n",
        "# print(a.b.c) # 이렇게 접근할 수는 없습니다!"
      ],
      "metadata": {
        "colab": {
          "base_uri": "https://localhost:8080/",
          "height": 230
        },
        "id": "hajhEfMiPURA",
        "outputId": "0022e477-e034-41da-8a36-b37088ae70f3"
      },
      "execution_count": 70,
      "outputs": [
        {
          "output_type": "stream",
          "name": "stdout",
          "text": [
            "<module 'a' (<_frozen_importlib_external._NamespaceLoader object at 0x7cc1d254ac50>)>\n"
          ]
        },
        {
          "output_type": "error",
          "ename": "AttributeError",
          "evalue": "ignored",
          "traceback": [
            "\u001b[0;31m---------------------------------------------------------------------------\u001b[0m",
            "\u001b[0;31mAttributeError\u001b[0m                            Traceback (most recent call last)",
            "\u001b[0;32m<ipython-input-70-769a9aa77d64>\u001b[0m in \u001b[0;36m<cell line: 4>\u001b[0;34m()\u001b[0m\n\u001b[1;32m      2\u001b[0m \u001b[0;34m\u001b[0m\u001b[0m\n\u001b[1;32m      3\u001b[0m \u001b[0mprint\u001b[0m\u001b[0;34m(\u001b[0m\u001b[0ma\u001b[0m\u001b[0;34m)\u001b[0m\u001b[0;34m\u001b[0m\u001b[0;34m\u001b[0m\u001b[0m\n\u001b[0;32m----> 4\u001b[0;31m \u001b[0mprint\u001b[0m\u001b[0;34m(\u001b[0m\u001b[0ma\u001b[0m\u001b[0;34m.\u001b[0m\u001b[0mb\u001b[0m\u001b[0;34m.\u001b[0m\u001b[0mc\u001b[0m\u001b[0;34m)\u001b[0m\u001b[0;34m\u001b[0m\u001b[0;34m\u001b[0m\u001b[0m\n\u001b[0m",
            "\u001b[0;31mAttributeError\u001b[0m: module 'a' has no attribute 'b'"
          ]
        }
      ]
    },
    {
      "cell_type": "code",
      "source": [
        "import a.b.c.licat as cat\n",
        "\n",
        "print(cat)\n",
        "print(cat.name)\n",
        "print(cat.age)"
      ],
      "metadata": {
        "colab": {
          "base_uri": "https://localhost:8080/"
        },
        "id": "_JBrREBrPsEX",
        "outputId": "16c82a46-5fdc-4860-de49-d399351f15f2"
      },
      "execution_count": 72,
      "outputs": [
        {
          "output_type": "stream",
          "name": "stdout",
          "text": [
            "<module 'a.b.c.licat' from '/content/a/b/c/licat.py'>\n",
            "licat\n",
            "3\n"
          ]
        }
      ]
    },
    {
      "cell_type": "code",
      "source": [
        "import a.b.c.licat\n",
        "\n",
        "print(a.b.c.licat)\n",
        "print(a.b.c.licat.name)\n",
        "print(a.b.c.licat.age)"
      ],
      "metadata": {
        "colab": {
          "base_uri": "https://localhost:8080/"
        },
        "id": "wyhV5hqgP81W",
        "outputId": "af914bd9-93a7-47c7-a767-e0e498297f57"
      },
      "execution_count": 2,
      "outputs": [
        {
          "output_type": "stream",
          "name": "stdout",
          "text": [
            "<module 'a.b.c.licat' from '/content/a/b/c/licat.py'>\n",
            "licat\n",
            "3\n"
          ]
        }
      ]
    },
    {
      "cell_type": "code",
      "source": [
        "# 일반적으로 아래와 같이 사용됩니다\n",
        "# from은 폴더 import는 모듈\n",
        "from a.b.c import licat\n",
        "\n",
        "print(licat)\n",
        "print(licat.name)\n",
        "print(licat.age)"
      ],
      "metadata": {
        "colab": {
          "base_uri": "https://localhost:8080/"
        },
        "id": "DqVCti6LQaIs",
        "outputId": "e17924a2-7c26-4da3-f0f4-0fb99a0429d3"
      },
      "execution_count": 2,
      "outputs": [
        {
          "output_type": "stream",
          "name": "stdout",
          "text": [
            "<module 'a.b.c.licat' from '/content/a/b/c/licat.py'>\n",
            "licat\n",
            "3\n"
          ]
        }
      ]
    },
    {
      "cell_type": "markdown",
      "source": [
        "바퀴를 다시 발명하지 마라(Don't reinvent the wheel)라는 유명한 프로그래밍 격언이 있습니다.\n",
        "\n",
        "여러분이 이러한 코드를 모듈 없이 직접 구현했다면 라이브러리가 존재한다는 것을 모르거나, 출력 결과가 원하던 결과와 조금 다르거나, 직접 개발해보고 싶어서 개발했을 수 있습니다.\n",
        "\n",
        "다만 이미 있는 것을 다시 만드는 것은 단지 개인의 시간을 낭비하는 개인적인 차원을 넘어서서 유지보수와 안정성을 떨어트리게 됩니다. 모든 경우에 합당하진 않겠지만, 만약 직접 구현해야 한다면 다시 한 번 고민해보시길 바랍니다.\n",
        "\n",
        "numpy만 하더라도 수천명의 개발자가 함께 개발한 검증된 모듈입니다."
      ],
      "metadata": {
        "id": "A6Ms3r39SnAT"
      }
    },
    {
      "cell_type": "code",
      "source": [
        "!pip list # colab이 정말 많은 모듈이 설치되어 있습니다. 그래서 정말 좋습니다."
      ],
      "metadata": {
        "id": "OwWeoVu7SoL6"
      },
      "execution_count": null,
      "outputs": []
    },
    {
      "cell_type": "markdown",
      "source": [
        "# 연습문제"
      ],
      "metadata": {
        "id": "stEpfT3iUiyN"
      }
    },
    {
      "cell_type": "code",
      "source": [
        "# 구분해서 저장하는 것이 중요\n",
        "# 유지보수를 좀 더 편리하게 해줍니다\n",
        "# 아래와 같은 기능을 하는 모듈 또는 패키지를 만들어주세요.\n",
        "# operation > arithmetic_operation.py\n",
        "# add(a, b), sub(a, b), mul(a, b), div(a, b)\n"
      ],
      "metadata": {
        "id": "aAZp_5foTmCx"
      },
      "execution_count": null,
      "outputs": []
    },
    {
      "cell_type": "code",
      "source": [
        "from operation import arithmetic_operation as ao, logical_operation as lo"
      ],
      "metadata": {
        "id": "9s81-WAhqwYF"
      },
      "execution_count": 1,
      "outputs": []
    },
    {
      "cell_type": "code",
      "source": [
        "ao.add(3, 4)"
      ],
      "metadata": {
        "colab": {
          "base_uri": "https://localhost:8080/"
        },
        "id": "8XHh0E_fq6xb",
        "outputId": "78173aec-ca3e-419c-d809-14f7dfd3d4d7"
      },
      "execution_count": 2,
      "outputs": [
        {
          "output_type": "execute_result",
          "data": {
            "text/plain": [
              "7"
            ]
          },
          "metadata": {},
          "execution_count": 2
        }
      ]
    },
    {
      "cell_type": "code",
      "source": [
        "lo._and(True, False)"
      ],
      "metadata": {
        "colab": {
          "base_uri": "https://localhost:8080/"
        },
        "id": "mS5iyNvGq8_Q",
        "outputId": "28fe3b60-53f4-4698-851e-52ef229bf531"
      },
      "execution_count": 3,
      "outputs": [
        {
          "output_type": "execute_result",
          "data": {
            "text/plain": [
              "False"
            ]
          },
          "metadata": {},
          "execution_count": 3
        }
      ]
    },
    {
      "cell_type": "code",
      "source": [
        "# 450,000개 이상의 Python 패키지, 45만개의 바퀴\n",
        "# PyPI(Python Package Index)\n",
        "# https://pypi.org/search/?q=pandas&o=\n"
      ],
      "metadata": {
        "id": "v1LhIwSgsCeh"
      },
      "execution_count": null,
      "outputs": []
    },
    {
      "cell_type": "code",
      "source": [
        "import sys\n",
        "sys.path.append('/content/a/b/c')"
      ],
      "metadata": {
        "id": "I8gfFglcuLaU"
      },
      "execution_count": 1,
      "outputs": []
    },
    {
      "cell_type": "code",
      "source": [
        "import licat\n",
        "\n",
        "licat.name"
      ],
      "metadata": {
        "colab": {
          "base_uri": "https://localhost:8080/",
          "height": 35
        },
        "id": "P3xJmzHXui2O",
        "outputId": "e5e11729-afd4-440d-ebf8-2df9064cb188"
      },
      "execution_count": 2,
      "outputs": [
        {
          "output_type": "execute_result",
          "data": {
            "text/plain": [
              "'licat'"
            ],
            "application/vnd.google.colaboratory.intrinsic+json": {
              "type": "string"
            }
          },
          "metadata": {},
          "execution_count": 2
        }
      ]
    },
    {
      "cell_type": "markdown",
      "source": [
        "# 부록 - 많이 사용하는 모듈"
      ],
      "metadata": {
        "id": "0zh6kcC2vtu9"
      }
    },
    {
      "cell_type": "markdown",
      "source": [],
      "metadata": {
        "id": "qUhgQFycvtqx"
      }
    },
    {
      "cell_type": "code",
      "source": [
        "import glob\n",
        "\n",
        "glob.glob('/content/*.py')\n",
        "glob.glob('./*/*.py')\n",
        "glob.glob('./???.py')\n",
        "glob.glob('./??.py')\n",
        "glob.glob('./s?.py')\n",
        "glob.glob('*.py')"
      ],
      "metadata": {
        "colab": {
          "base_uri": "https://localhost:8080/"
        },
        "id": "pu4V-DoB0-Fl",
        "outputId": "b66cde23-1ab8-4b96-e020-13ae39534ccc"
      },
      "execution_count": 25,
      "outputs": [
        {
          "output_type": "execute_result",
          "data": {
            "text/plain": [
              "['sui.py', 'su.py']"
            ]
          },
          "metadata": {},
          "execution_count": 25
        }
      ]
    },
    {
      "cell_type": "code",
      "source": [
        "import os\n",
        "\n",
        "os.getcwd() # glob라는 모듈이 폴더 찾고, 파일 찾고 하는 것에는 더 좋습니다"
      ],
      "metadata": {
        "colab": {
          "base_uri": "https://localhost:8080/",
          "height": 35
        },
        "id": "Sgav41LGvwry",
        "outputId": "7094bab9-20aa-4d06-813c-2a509300817f"
      },
      "execution_count": 6,
      "outputs": [
        {
          "output_type": "execute_result",
          "data": {
            "text/plain": [
              "'/content'"
            ],
            "application/vnd.google.colaboratory.intrinsic+json": {
              "type": "string"
            }
          },
          "metadata": {},
          "execution_count": 6
        }
      ]
    },
    {
      "cell_type": "code",
      "source": [
        "for current_directory, dirs, files in os.walk('/content'):\n",
        "    for f in files:\n",
        "        print(os.path.join(current_directory, f))"
      ],
      "metadata": {
        "id": "6lKR4OGnwFoT"
      },
      "execution_count": null,
      "outputs": []
    },
    {
      "cell_type": "code",
      "source": [
        "# os.mkdir()\n",
        "# os.rename()\n",
        "# os.remove()"
      ],
      "metadata": {
        "id": "oDqKCrV4wZGI"
      },
      "execution_count": null,
      "outputs": []
    },
    {
      "cell_type": "code",
      "source": [
        "import sys\n",
        "\n",
        "a = [1, 2, 3, 4]\n",
        "# b = a\n",
        "# c = a\n",
        "# sys.getsizeof()\n",
        "# sys.path\n",
        "sys.getrefcount(a)"
      ],
      "metadata": {
        "colab": {
          "base_uri": "https://localhost:8080/"
        },
        "id": "Za3VhFQWw3fP",
        "outputId": "50f77c4d-0fb0-422b-a1b8-3ddf84273a90"
      },
      "execution_count": 10,
      "outputs": [
        {
          "output_type": "execute_result",
          "data": {
            "text/plain": [
              "2"
            ]
          },
          "metadata": {},
          "execution_count": 10
        }
      ]
    },
    {
      "cell_type": "code",
      "source": [
        "a = [1, 2, 3, 4]\n",
        "sys.getrefcount(a)"
      ],
      "metadata": {
        "colab": {
          "base_uri": "https://localhost:8080/"
        },
        "id": "jeNlBtqmxZwd",
        "outputId": "30d83a66-f9c1-4e7b-b16e-786d035aebdd"
      },
      "execution_count": 12,
      "outputs": [
        {
          "output_type": "execute_result",
          "data": {
            "text/plain": [
              "2"
            ]
          },
          "metadata": {},
          "execution_count": 12
        }
      ]
    },
    {
      "cell_type": "code",
      "source": [
        "sys.maxsize # python 3.x에서는 사용할 일이 거의 없습니다"
      ],
      "metadata": {
        "colab": {
          "base_uri": "https://localhost:8080/"
        },
        "id": "UmIU2CJpxiF-",
        "outputId": "9018e357-3860-40b7-dd20-329d0ebbdc49"
      },
      "execution_count": 13,
      "outputs": [
        {
          "output_type": "execute_result",
          "data": {
            "text/plain": [
              "9223372036854775807"
            ]
          },
          "metadata": {},
          "execution_count": 13
        }
      ]
    },
    {
      "cell_type": "code",
      "source": [
        "import datetime\n",
        "\n",
        "s = datetime.datetime(2023, 9, 19, 14, 10)\n",
        "print(s)"
      ],
      "metadata": {
        "colab": {
          "base_uri": "https://localhost:8080/"
        },
        "id": "ards9C0Kuns8",
        "outputId": "a261c977-0dc6-45e0-8e31-387f27c2014a"
      },
      "execution_count": 2,
      "outputs": [
        {
          "output_type": "stream",
          "name": "stdout",
          "text": [
            "2023-09-19 14:10:00\n",
            "2023-09-19 14:10:00\n"
          ]
        }
      ]
    },
    {
      "cell_type": "code",
      "source": [
        "s.year, s.month, s.day, s.hour, s.minute"
      ],
      "metadata": {
        "colab": {
          "base_uri": "https://localhost:8080/"
        },
        "id": "1aEfrtkm2jA0",
        "outputId": "e33193ea-d173-429d-c836-046485fa96d5"
      },
      "execution_count": 8,
      "outputs": [
        {
          "output_type": "execute_result",
          "data": {
            "text/plain": [
              "(2023, 9, 19, 14, 10)"
            ]
          },
          "metadata": {},
          "execution_count": 8
        }
      ]
    },
    {
      "cell_type": "code",
      "source": [
        "s = datetime.datetime(2023, 9, 18, 14, 10)\n",
        "s.weekday() # 월요일0, 화요일1, 수요일2...일요일6"
      ],
      "metadata": {
        "colab": {
          "base_uri": "https://localhost:8080/"
        },
        "id": "zcHVLbzk2_eI",
        "outputId": "d7d17e42-0d07-4150-e00c-58061f903357"
      },
      "execution_count": 9,
      "outputs": [
        {
          "output_type": "execute_result",
          "data": {
            "text/plain": [
              "0"
            ]
          },
          "metadata": {},
          "execution_count": 9
        }
      ]
    },
    {
      "cell_type": "code",
      "source": [
        "today = datetime.date.today()\n",
        "today"
      ],
      "metadata": {
        "colab": {
          "base_uri": "https://localhost:8080/"
        },
        "id": "Rjek_bIP3JG2",
        "outputId": "d7aa490e-8681-451e-fd41-df7c4fd12b91"
      },
      "execution_count": 10,
      "outputs": [
        {
          "output_type": "execute_result",
          "data": {
            "text/plain": [
              "datetime.date(2023, 9, 19)"
            ]
          },
          "metadata": {},
          "execution_count": 10
        }
      ]
    },
    {
      "cell_type": "code",
      "source": [
        "graduation_date = datetime.datetime(2023, 12, 29, 18, 00)\n",
        "today = datetime.date.today()\n",
        "days = datetime.timedelta(days=100)\n",
        "today + days"
      ],
      "metadata": {
        "colab": {
          "base_uri": "https://localhost:8080/"
        },
        "id": "3on5XoT13kV6",
        "outputId": "5b069a12-28a4-48c3-b12d-fcb5834e6893"
      },
      "execution_count": 12,
      "outputs": [
        {
          "output_type": "execute_result",
          "data": {
            "text/plain": [
              "datetime.date(2023, 12, 28)"
            ]
          },
          "metadata": {},
          "execution_count": 12
        }
      ]
    },
    {
      "cell_type": "code",
      "source": [
        "type(today), type(graduation_date)"
      ],
      "metadata": {
        "colab": {
          "base_uri": "https://localhost:8080/"
        },
        "id": "ydYdGGtp5LHv",
        "outputId": "90629bac-3f75-4061-b49f-e4b48025e43b"
      },
      "execution_count": 13,
      "outputs": [
        {
          "output_type": "execute_result",
          "data": {
            "text/plain": [
              "(datetime.date, datetime.datetime)"
            ]
          },
          "metadata": {},
          "execution_count": 13
        }
      ]
    },
    {
      "cell_type": "code",
      "source": [
        "today = datetime.datetime.combine(datetime.date.today(), datetime.datetime.min.time())\n",
        "type(today)"
      ],
      "metadata": {
        "colab": {
          "base_uri": "https://localhost:8080/"
        },
        "id": "tGHK9EhX46Zl",
        "outputId": "a9c5b9c4-0a2b-446d-8bc0-d7072a365425"
      },
      "execution_count": 14,
      "outputs": [
        {
          "output_type": "execute_result",
          "data": {
            "text/plain": [
              "datetime.datetime"
            ]
          },
          "metadata": {},
          "execution_count": 14
        }
      ]
    },
    {
      "cell_type": "code",
      "source": [
        "graduation_date - today"
      ],
      "metadata": {
        "colab": {
          "base_uri": "https://localhost:8080/"
        },
        "id": "AbfElkAs5N3J",
        "outputId": "73fe60c6-c4a0-4afc-deb8-092eb9d1c22c"
      },
      "execution_count": 15,
      "outputs": [
        {
          "output_type": "execute_result",
          "data": {
            "text/plain": [
              "datetime.timedelta(days=101, seconds=64800)"
            ]
          },
          "metadata": {},
          "execution_count": 15
        }
      ]
    },
    {
      "cell_type": "code",
      "source": [
        "# 네트워크 통신할 때 많이 쓴다\n",
        "# Django 에서는 자동으로 해줘서 우리가 dump할 필요는 없다\n",
        "import json\n",
        "\n",
        "d = {\n",
        "    'one': 1,\n",
        "    'two': 2,\n",
        "    'three': 3\n",
        "}\n",
        "\n",
        "s = json.dumps(d)\n",
        "type(s)\n",
        "s[:3]"
      ],
      "metadata": {
        "colab": {
          "base_uri": "https://localhost:8080/",
          "height": 35
        },
        "id": "7SAh-fP55PKO",
        "outputId": "5ce21149-e8de-40bf-935e-42091dfaa863"
      },
      "execution_count": 19,
      "outputs": [
        {
          "output_type": "execute_result",
          "data": {
            "text/plain": [
              "'{\"o'"
            ],
            "application/vnd.google.colaboratory.intrinsic+json": {
              "type": "string"
            }
          },
          "metadata": {},
          "execution_count": 19
        }
      ]
    },
    {
      "cell_type": "code",
      "source": [
        "dd = json.loads(s)\n",
        "type(dd)"
      ],
      "metadata": {
        "colab": {
          "base_uri": "https://localhost:8080/"
        },
        "id": "nYkn-7uW52Fo",
        "outputId": "702e5d48-bf4c-4008-ef18-aee329cb9e79"
      },
      "execution_count": 24,
      "outputs": [
        {
          "output_type": "execute_result",
          "data": {
            "text/plain": [
              "dict"
            ]
          },
          "metadata": {},
          "execution_count": 24
        }
      ]
    },
    {
      "cell_type": "code",
      "source": [
        "# class Human\n",
        "#     def __init__(self, x, y):\n",
        "#         self.x = x\n",
        "#         self.y = y\n",
        "\n",
        "# su = Human(10, 20)\n",
        "# json.dumps(su)\n",
        "# TypeError: Object of type Human is not JSON serializable(직렬화가 가능하지 않다!)\n",
        "# 일반 인스턴스는 직렬화가 가능하지 않습니다!\n",
        "# 직렬화: \"데이터 구조나 오브젝트 상태를 동일하거나 다른 컴퓨터 환경에 저장\n",
        "# (이를테면 파일이나 메모리 버퍼에서, 또는 네트워크 연결 링크 간 전송)하고,\n",
        "# 나중에 재구성할 수 있는 포맷으로 변환하는 과정\""
      ],
      "metadata": {
        "id": "_q9FyB836Doo"
      },
      "execution_count": null,
      "outputs": []
    },
    {
      "cell_type": "code",
      "source": [
        "import collections\n",
        "\n",
        "d = collections.deque([1, 2, 3, 4])\n",
        "d.rotate(2) # 회전초밥문제\n",
        "d"
      ],
      "metadata": {
        "colab": {
          "base_uri": "https://localhost:8080/"
        },
        "id": "b_qg3NdX61nQ",
        "outputId": "0d6696a8-7ad4-4d7f-a3e1-31d7b4d5752a"
      },
      "execution_count": 30,
      "outputs": [
        {
          "output_type": "execute_result",
          "data": {
            "text/plain": [
              "deque([3, 4, 1, 2])"
            ]
          },
          "metadata": {},
          "execution_count": 30
        }
      ]
    },
    {
      "cell_type": "code",
      "source": [
        "c = collections.Counter('hello world')\n",
        "c"
      ],
      "metadata": {
        "colab": {
          "base_uri": "https://localhost:8080/"
        },
        "id": "LsmBwWsq76fP",
        "outputId": "32de15f6-95ec-46d0-83df-a5b9f97de9aa"
      },
      "execution_count": 32,
      "outputs": [
        {
          "output_type": "execute_result",
          "data": {
            "text/plain": [
              "Counter({'h': 1, 'e': 1, 'l': 3, 'o': 2, ' ': 1, 'w': 1, 'r': 1, 'd': 1})"
            ]
          },
          "metadata": {},
          "execution_count": 32
        }
      ]
    },
    {
      "cell_type": "code",
      "source": [
        "c.most_common()"
      ],
      "metadata": {
        "colab": {
          "base_uri": "https://localhost:8080/"
        },
        "id": "CyLEL4lY8FBU",
        "outputId": "8c78a7f5-0fe7-4877-a13a-6239d9f7c5d4"
      },
      "execution_count": 33,
      "outputs": [
        {
          "output_type": "execute_result",
          "data": {
            "text/plain": [
              "[('l', 3),\n",
              " ('o', 2),\n",
              " ('h', 1),\n",
              " ('e', 1),\n",
              " (' ', 1),\n",
              " ('w', 1),\n",
              " ('r', 1),\n",
              " ('d', 1)]"
            ]
          },
          "metadata": {},
          "execution_count": 33
        }
      ]
    },
    {
      "cell_type": "code",
      "source": [
        "# import requests\n",
        "# from bs4 import BeautifulSoup\n",
        "\n",
        "# paullab_url = 'http://paullab.co.kr/bookservice/'\n",
        "# response = requests.get(paullab_url)\n",
        "# response.encoding = 'utf-8'\n",
        "# html = response.text\n",
        "\n",
        "# soup = BeautifulSoup(html, 'html.parser')\n",
        "\n",
        "# bookservices = soup.select('.col-lg-6 > h2')     # col-lg-6 클래스 안의 h2 태그 탐색\n",
        "# for no, book in enumerate(bookservices, 1):\n",
        "#     print(no, book.text)"
      ],
      "metadata": {
        "colab": {
          "base_uri": "https://localhost:8080/"
        },
        "id": "wey7pIjw8P2j",
        "outputId": "59ebbb92-097a-4987-c339-49f4de15a3c2"
      },
      "execution_count": 34,
      "outputs": [
        {
          "output_type": "stream",
          "name": "stdout",
          "text": [
            "1 메모혁신 Notion(노션) 활용 가이드\n",
            "2 제주코딩베이스캠프 Code Festival: Python 100제 1부\n",
            "3 튜토리얼로 배우는 HTML&CSS\n",
            "4 코딩도장 튜토리얼로 배우는 Python 1편 object\n",
            "5 코딩도장 튜토리얼로 배우는 python 2편 제어문\n",
            "6 코딩도장 튜토리얼로 배우는 Python 문제풀이\n",
            "7 타노스의 건틀릿 알고리즘 With Python\n",
            "8 xlsxwriter 튜토리얼로 배우는 Python 엑셀 프로그래밍\n",
            "9 러플 튜토리얼로 배우는 Python\n",
            "10 인공지능을 활용한 업무자동화 With Google Developers Group JEJU\n",
            "11 2017 제주 코딩 해커톤 Django 트랙 상편 1권\n"
          ]
        }
      ]
    },
    {
      "cell_type": "markdown",
      "source": [
        "# 예외처리"
      ],
      "metadata": {
        "id": "hCH-4d8HB7co"
      }
    },
    {
      "cell_type": "code",
      "source": [
        "# # Syntax Error\n",
        "# for i in range(10)\n",
        "#     print(i)\n",
        "if False:\n",
        "    raise SyntaxError\n",
        "if True:\n",
        "    raise SyntaxError('hello world') #여러분의 의도에 맞게 적절한 애러를 주실 필요가 있습니다."
      ],
      "metadata": {
        "id": "3MuLGdST9uAk"
      },
      "execution_count": 40,
      "outputs": []
    },
    {
      "cell_type": "code",
      "source": [
        "# Name Error\n",
        "print(x)"
      ],
      "metadata": {
        "colab": {
          "base_uri": "https://localhost:8080/",
          "height": 196
        },
        "id": "4xSHd85dCe57",
        "outputId": "e704a479-16e5-48ea-8cfe-3745245d75a2"
      },
      "execution_count": 41,
      "outputs": [
        {
          "output_type": "error",
          "ename": "NameError",
          "evalue": "ignored",
          "traceback": [
            "\u001b[0;31m---------------------------------------------------------------------------\u001b[0m",
            "\u001b[0;31mNameError\u001b[0m                                 Traceback (most recent call last)",
            "\u001b[0;32m<ipython-input-41-e9e3baa318b0>\u001b[0m in \u001b[0;36m<cell line: 2>\u001b[0;34m()\u001b[0m\n\u001b[1;32m      1\u001b[0m \u001b[0;31m# Name Error\u001b[0m\u001b[0;34m\u001b[0m\u001b[0;34m\u001b[0m\u001b[0m\n\u001b[0;32m----> 2\u001b[0;31m \u001b[0mprint\u001b[0m\u001b[0;34m(\u001b[0m\u001b[0mx\u001b[0m\u001b[0;34m)\u001b[0m\u001b[0;34m\u001b[0m\u001b[0;34m\u001b[0m\u001b[0m\n\u001b[0m",
            "\u001b[0;31mNameError\u001b[0m: name 'x' is not defined"
          ]
        }
      ]
    },
    {
      "cell_type": "code",
      "source": [
        "# Type Error\n",
        "x = 10\n",
        "y = '20'\n",
        "print(x + y)"
      ],
      "metadata": {
        "colab": {
          "base_uri": "https://localhost:8080/",
          "height": 213
        },
        "id": "wdS_aahsCk78",
        "outputId": "c6d3f4c4-30b4-4650-9c84-9dc6aba27837"
      },
      "execution_count": 42,
      "outputs": [
        {
          "output_type": "error",
          "ename": "TypeError",
          "evalue": "ignored",
          "traceback": [
            "\u001b[0;31m---------------------------------------------------------------------------\u001b[0m",
            "\u001b[0;31mTypeError\u001b[0m                                 Traceback (most recent call last)",
            "\u001b[0;32m<ipython-input-42-62c7d5a446c2>\u001b[0m in \u001b[0;36m<cell line: 4>\u001b[0;34m()\u001b[0m\n\u001b[1;32m      2\u001b[0m \u001b[0mx\u001b[0m \u001b[0;34m=\u001b[0m \u001b[0;36m10\u001b[0m\u001b[0;34m\u001b[0m\u001b[0;34m\u001b[0m\u001b[0m\n\u001b[1;32m      3\u001b[0m \u001b[0my\u001b[0m \u001b[0;34m=\u001b[0m \u001b[0;34m'20'\u001b[0m\u001b[0;34m\u001b[0m\u001b[0;34m\u001b[0m\u001b[0m\n\u001b[0;32m----> 4\u001b[0;31m \u001b[0mprint\u001b[0m\u001b[0;34m(\u001b[0m\u001b[0mx\u001b[0m \u001b[0;34m+\u001b[0m \u001b[0my\u001b[0m\u001b[0;34m)\u001b[0m\u001b[0;34m\u001b[0m\u001b[0;34m\u001b[0m\u001b[0m\n\u001b[0m",
            "\u001b[0;31mTypeError\u001b[0m: unsupported operand type(s) for +: 'int' and 'str'"
          ]
        }
      ]
    },
    {
      "cell_type": "code",
      "source": [
        "# Index Error\n",
        "my_list = [1, 2, 3]\n",
        "print(my_list[3])   # 슬라이싱을 사용하면 에러를 내지 않습니다"
      ],
      "metadata": {
        "colab": {
          "base_uri": "https://localhost:8080/",
          "height": 213
        },
        "id": "TnffsOZLClwU",
        "outputId": "e32dd277-ca4f-403d-f310-60dd313b6cf9"
      },
      "execution_count": 96,
      "outputs": [
        {
          "output_type": "error",
          "ename": "IndexError",
          "evalue": "ignored",
          "traceback": [
            "\u001b[0;31m---------------------------------------------------------------------------\u001b[0m",
            "\u001b[0;31mIndexError\u001b[0m                                Traceback (most recent call last)",
            "\u001b[0;32m<ipython-input-96-5e8c1ed4353a>\u001b[0m in \u001b[0;36m<cell line: 3>\u001b[0;34m()\u001b[0m\n\u001b[1;32m      1\u001b[0m \u001b[0;31m# Index Error\u001b[0m\u001b[0;34m\u001b[0m\u001b[0;34m\u001b[0m\u001b[0m\n\u001b[1;32m      2\u001b[0m \u001b[0mmy_list\u001b[0m \u001b[0;34m=\u001b[0m \u001b[0;34m[\u001b[0m\u001b[0;36m1\u001b[0m\u001b[0;34m,\u001b[0m \u001b[0;36m2\u001b[0m\u001b[0;34m,\u001b[0m \u001b[0;36m3\u001b[0m\u001b[0;34m]\u001b[0m\u001b[0;34m\u001b[0m\u001b[0;34m\u001b[0m\u001b[0m\n\u001b[0;32m----> 3\u001b[0;31m \u001b[0mprint\u001b[0m\u001b[0;34m(\u001b[0m\u001b[0mmy_list\u001b[0m\u001b[0;34m[\u001b[0m\u001b[0;36m3\u001b[0m\u001b[0;34m]\u001b[0m\u001b[0;34m)\u001b[0m   \u001b[0;31m# 슬라이싱을 사용하면 에러를 내지 않습니다\u001b[0m\u001b[0;34m\u001b[0m\u001b[0;34m\u001b[0m\u001b[0m\n\u001b[0m",
            "\u001b[0;31mIndexError\u001b[0m: list index out of range"
          ]
        }
      ]
    },
    {
      "cell_type": "code",
      "source": [
        "# python에서는 안됩니다 랭스조절\n",
        "my_list = [1, 2, 3]\n",
        "my_list.__len__ = 100"
      ],
      "metadata": {
        "colab": {
          "base_uri": "https://localhost:8080/",
          "height": 196
        },
        "id": "j1dP4kkWDkj3",
        "outputId": "46118b9b-4cb0-4e2f-96d5-d332bb32a134"
      },
      "execution_count": 50,
      "outputs": [
        {
          "output_type": "error",
          "ename": "AttributeError",
          "evalue": "ignored",
          "traceback": [
            "\u001b[0;31m---------------------------------------------------------------------------\u001b[0m",
            "\u001b[0;31mAttributeError\u001b[0m                            Traceback (most recent call last)",
            "\u001b[0;32m<ipython-input-50-ee8c80029694>\u001b[0m in \u001b[0;36m<cell line: 2>\u001b[0;34m()\u001b[0m\n\u001b[1;32m      1\u001b[0m \u001b[0mmy_list\u001b[0m \u001b[0;34m=\u001b[0m \u001b[0;34m[\u001b[0m\u001b[0;36m1\u001b[0m\u001b[0;34m,\u001b[0m \u001b[0;36m2\u001b[0m\u001b[0;34m,\u001b[0m \u001b[0;36m3\u001b[0m\u001b[0;34m]\u001b[0m\u001b[0;34m\u001b[0m\u001b[0;34m\u001b[0m\u001b[0m\n\u001b[0;32m----> 2\u001b[0;31m \u001b[0mmy_list\u001b[0m\u001b[0;34m.\u001b[0m\u001b[0m__len__\u001b[0m \u001b[0;34m=\u001b[0m \u001b[0;36m100\u001b[0m\u001b[0;34m\u001b[0m\u001b[0;34m\u001b[0m\u001b[0m\n\u001b[0m",
            "\u001b[0;31mAttributeError\u001b[0m: 'list' object attribute '__len__' is read-only"
          ]
        }
      ]
    },
    {
      "cell_type": "code",
      "source": [
        "# Key Error\n",
        "my_dict = {'a': 1, 'b': 2}\n",
        "print(my_dict['c'])     # key error를 피하기 위해서는 get을 사용합니다."
      ],
      "metadata": {
        "colab": {
          "base_uri": "https://localhost:8080/",
          "height": 213
        },
        "id": "sB_7zNPRCpv4",
        "outputId": "fe946146-b5c9-4b3f-8fd8-b0e46c1fdd2f"
      },
      "execution_count": 44,
      "outputs": [
        {
          "output_type": "error",
          "ename": "KeyError",
          "evalue": "ignored",
          "traceback": [
            "\u001b[0;31m---------------------------------------------------------------------------\u001b[0m",
            "\u001b[0;31mKeyError\u001b[0m                                  Traceback (most recent call last)",
            "\u001b[0;32m<ipython-input-44-8f9ea626777a>\u001b[0m in \u001b[0;36m<cell line: 3>\u001b[0;34m()\u001b[0m\n\u001b[1;32m      1\u001b[0m \u001b[0;31m# Key Error\u001b[0m\u001b[0;34m\u001b[0m\u001b[0;34m\u001b[0m\u001b[0m\n\u001b[1;32m      2\u001b[0m \u001b[0mmy_dict\u001b[0m \u001b[0;34m=\u001b[0m \u001b[0;34m{\u001b[0m\u001b[0;34m'a'\u001b[0m\u001b[0;34m:\u001b[0m \u001b[0;36m1\u001b[0m\u001b[0;34m,\u001b[0m \u001b[0;34m'b'\u001b[0m\u001b[0;34m:\u001b[0m \u001b[0;36m2\u001b[0m\u001b[0;34m}\u001b[0m\u001b[0;34m\u001b[0m\u001b[0;34m\u001b[0m\u001b[0m\n\u001b[0;32m----> 3\u001b[0;31m \u001b[0mprint\u001b[0m\u001b[0;34m(\u001b[0m\u001b[0mmy_dict\u001b[0m\u001b[0;34m[\u001b[0m\u001b[0;34m'c'\u001b[0m\u001b[0;34m]\u001b[0m\u001b[0;34m)\u001b[0m\u001b[0;34m\u001b[0m\u001b[0;34m\u001b[0m\u001b[0m\n\u001b[0m",
            "\u001b[0;31mKeyError\u001b[0m: 'c'"
          ]
        }
      ]
    },
    {
      "cell_type": "code",
      "source": [
        "# Value Error\n",
        "int('a')"
      ],
      "metadata": {
        "colab": {
          "base_uri": "https://localhost:8080/",
          "height": 196
        },
        "id": "0F-3PGU9CsUy",
        "outputId": "ed4501f9-fad2-4967-d414-4779f81a7065"
      },
      "execution_count": 45,
      "outputs": [
        {
          "output_type": "error",
          "ename": "ValueError",
          "evalue": "ignored",
          "traceback": [
            "\u001b[0;31m---------------------------------------------------------------------------\u001b[0m",
            "\u001b[0;31mValueError\u001b[0m                                Traceback (most recent call last)",
            "\u001b[0;32m<ipython-input-45-b8f9f0574b88>\u001b[0m in \u001b[0;36m<cell line: 2>\u001b[0;34m()\u001b[0m\n\u001b[1;32m      1\u001b[0m \u001b[0;31m# Value Error\u001b[0m\u001b[0;34m\u001b[0m\u001b[0;34m\u001b[0m\u001b[0m\n\u001b[0;32m----> 2\u001b[0;31m \u001b[0mint\u001b[0m\u001b[0;34m(\u001b[0m\u001b[0;34m'a'\u001b[0m\u001b[0;34m)\u001b[0m\u001b[0;34m\u001b[0m\u001b[0;34m\u001b[0m\u001b[0m\n\u001b[0m",
            "\u001b[0;31mValueError\u001b[0m: invalid literal for int() with base 10: 'a'"
          ]
        }
      ]
    },
    {
      "cell_type": "code",
      "source": [
        "# ZeroDivision Error\n",
        "x = 10\n",
        "y = 0\n",
        "print(x / y)"
      ],
      "metadata": {
        "colab": {
          "base_uri": "https://localhost:8080/",
          "height": 213
        },
        "id": "aspLsU02Ctea",
        "outputId": "7c4b9c45-66c8-4281-c397-52fae5f229c6"
      },
      "execution_count": 46,
      "outputs": [
        {
          "output_type": "error",
          "ename": "ZeroDivisionError",
          "evalue": "ignored",
          "traceback": [
            "\u001b[0;31m---------------------------------------------------------------------------\u001b[0m",
            "\u001b[0;31mZeroDivisionError\u001b[0m                         Traceback (most recent call last)",
            "\u001b[0;32m<ipython-input-46-f17cbf29a9a4>\u001b[0m in \u001b[0;36m<cell line: 4>\u001b[0;34m()\u001b[0m\n\u001b[1;32m      2\u001b[0m \u001b[0mx\u001b[0m \u001b[0;34m=\u001b[0m \u001b[0;36m10\u001b[0m\u001b[0;34m\u001b[0m\u001b[0;34m\u001b[0m\u001b[0m\n\u001b[1;32m      3\u001b[0m \u001b[0my\u001b[0m \u001b[0;34m=\u001b[0m \u001b[0;36m0\u001b[0m\u001b[0;34m\u001b[0m\u001b[0;34m\u001b[0m\u001b[0m\n\u001b[0;32m----> 4\u001b[0;31m \u001b[0mprint\u001b[0m\u001b[0;34m(\u001b[0m\u001b[0mx\u001b[0m \u001b[0;34m/\u001b[0m \u001b[0my\u001b[0m\u001b[0;34m)\u001b[0m\u001b[0;34m\u001b[0m\u001b[0;34m\u001b[0m\u001b[0m\n\u001b[0m",
            "\u001b[0;31mZeroDivisionError\u001b[0m: division by zero"
          ]
        }
      ]
    },
    {
      "cell_type": "code",
      "source": [
        "# def f():\n",
        "#     return True\n",
        "\n",
        "# def ff():\n",
        "#     return 1/0\n",
        "\n",
        "# f() or ff()\n",
        "# f() and ff()"
      ],
      "metadata": {
        "colab": {
          "base_uri": "https://localhost:8080/",
          "height": 334
        },
        "id": "5lhmC8P1ES7Y",
        "outputId": "7219f711-6c96-4a87-d807-a6488e441059"
      },
      "execution_count": 53,
      "outputs": [
        {
          "output_type": "error",
          "ename": "ZeroDivisionError",
          "evalue": "ignored",
          "traceback": [
            "\u001b[0;31m---------------------------------------------------------------------------\u001b[0m",
            "\u001b[0;31mZeroDivisionError\u001b[0m                         Traceback (most recent call last)",
            "\u001b[0;32m<ipython-input-53-c10497082284>\u001b[0m in \u001b[0;36m<cell line: 8>\u001b[0;34m()\u001b[0m\n\u001b[1;32m      6\u001b[0m \u001b[0;34m\u001b[0m\u001b[0m\n\u001b[1;32m      7\u001b[0m \u001b[0mf\u001b[0m\u001b[0;34m(\u001b[0m\u001b[0;34m)\u001b[0m \u001b[0;32mor\u001b[0m \u001b[0mff\u001b[0m\u001b[0;34m(\u001b[0m\u001b[0;34m)\u001b[0m\u001b[0;34m\u001b[0m\u001b[0;34m\u001b[0m\u001b[0m\n\u001b[0;32m----> 8\u001b[0;31m \u001b[0mf\u001b[0m\u001b[0;34m(\u001b[0m\u001b[0;34m)\u001b[0m \u001b[0;32mand\u001b[0m \u001b[0mff\u001b[0m\u001b[0;34m(\u001b[0m\u001b[0;34m)\u001b[0m\u001b[0;34m\u001b[0m\u001b[0;34m\u001b[0m\u001b[0m\n\u001b[0m",
            "\u001b[0;32m<ipython-input-53-c10497082284>\u001b[0m in \u001b[0;36mff\u001b[0;34m()\u001b[0m\n\u001b[1;32m      3\u001b[0m \u001b[0;34m\u001b[0m\u001b[0m\n\u001b[1;32m      4\u001b[0m \u001b[0;32mdef\u001b[0m \u001b[0mff\u001b[0m\u001b[0;34m(\u001b[0m\u001b[0;34m)\u001b[0m\u001b[0;34m:\u001b[0m\u001b[0;34m\u001b[0m\u001b[0;34m\u001b[0m\u001b[0m\n\u001b[0;32m----> 5\u001b[0;31m     \u001b[0;32mreturn\u001b[0m \u001b[0;36m1\u001b[0m\u001b[0;34m/\u001b[0m\u001b[0;36m0\u001b[0m\u001b[0;34m\u001b[0m\u001b[0;34m\u001b[0m\u001b[0m\n\u001b[0m\u001b[1;32m      6\u001b[0m \u001b[0;34m\u001b[0m\u001b[0m\n\u001b[1;32m      7\u001b[0m \u001b[0mf\u001b[0m\u001b[0;34m(\u001b[0m\u001b[0;34m)\u001b[0m \u001b[0;32mor\u001b[0m \u001b[0mff\u001b[0m\u001b[0;34m(\u001b[0m\u001b[0;34m)\u001b[0m\u001b[0;34m\u001b[0m\u001b[0;34m\u001b[0m\u001b[0m\n",
            "\u001b[0;31mZeroDivisionError\u001b[0m: division by zero"
          ]
        }
      ]
    },
    {
      "cell_type": "code",
      "source": [
        "# Attribute Error\n",
        "my_list = [1, 2, 3]\n",
        "print(my_list.appeend(4))"
      ],
      "metadata": {
        "colab": {
          "base_uri": "https://localhost:8080/",
          "height": 213
        },
        "id": "huqKPc1YCu7b",
        "outputId": "6222d9e7-8d32-4c22-c029-348a565f2973"
      },
      "execution_count": 47,
      "outputs": [
        {
          "output_type": "error",
          "ename": "AttributeError",
          "evalue": "ignored",
          "traceback": [
            "\u001b[0;31m---------------------------------------------------------------------------\u001b[0m",
            "\u001b[0;31mAttributeError\u001b[0m                            Traceback (most recent call last)",
            "\u001b[0;32m<ipython-input-47-dceecff01ea8>\u001b[0m in \u001b[0;36m<cell line: 3>\u001b[0;34m()\u001b[0m\n\u001b[1;32m      1\u001b[0m \u001b[0;31m# Attribute Error\u001b[0m\u001b[0;34m\u001b[0m\u001b[0;34m\u001b[0m\u001b[0m\n\u001b[1;32m      2\u001b[0m \u001b[0mmy_list\u001b[0m \u001b[0;34m=\u001b[0m \u001b[0;34m[\u001b[0m\u001b[0;36m1\u001b[0m\u001b[0;34m,\u001b[0m \u001b[0;36m2\u001b[0m\u001b[0;34m,\u001b[0m \u001b[0;36m3\u001b[0m\u001b[0;34m]\u001b[0m\u001b[0;34m\u001b[0m\u001b[0;34m\u001b[0m\u001b[0m\n\u001b[0;32m----> 3\u001b[0;31m \u001b[0mprint\u001b[0m\u001b[0;34m(\u001b[0m\u001b[0mmy_list\u001b[0m\u001b[0;34m.\u001b[0m\u001b[0mappeend\u001b[0m\u001b[0;34m(\u001b[0m\u001b[0;36m4\u001b[0m\u001b[0;34m)\u001b[0m\u001b[0;34m)\u001b[0m\u001b[0;34m\u001b[0m\u001b[0;34m\u001b[0m\u001b[0m\n\u001b[0m",
            "\u001b[0;31mAttributeError\u001b[0m: 'list' object has no attribute 'appeend'"
          ]
        }
      ]
    },
    {
      "cell_type": "code",
      "source": [
        "# Type Error\n",
        "def add(x, y):\n",
        "    return x + y\n",
        "\n",
        "add(1, 2, 3)  # *args, **kargs"
      ],
      "metadata": {
        "colab": {
          "base_uri": "https://localhost:8080/",
          "height": 213
        },
        "id": "bqioDbjiCwRc",
        "outputId": "29304053-778c-4988-9033-fbd7763f6592"
      },
      "execution_count": 48,
      "outputs": [
        {
          "output_type": "error",
          "ename": "TypeError",
          "evalue": "ignored",
          "traceback": [
            "\u001b[0;31m---------------------------------------------------------------------------\u001b[0m",
            "\u001b[0;31mTypeError\u001b[0m                                 Traceback (most recent call last)",
            "\u001b[0;32m<ipython-input-48-cbb8c8b9d43a>\u001b[0m in \u001b[0;36m<cell line: 5>\u001b[0;34m()\u001b[0m\n\u001b[1;32m      3\u001b[0m     \u001b[0;32mreturn\u001b[0m \u001b[0mx\u001b[0m \u001b[0;34m+\u001b[0m \u001b[0my\u001b[0m\u001b[0;34m\u001b[0m\u001b[0;34m\u001b[0m\u001b[0m\n\u001b[1;32m      4\u001b[0m \u001b[0;34m\u001b[0m\u001b[0m\n\u001b[0;32m----> 5\u001b[0;31m \u001b[0madd\u001b[0m\u001b[0;34m(\u001b[0m\u001b[0;36m1\u001b[0m\u001b[0;34m,\u001b[0m \u001b[0;36m2\u001b[0m\u001b[0;34m,\u001b[0m \u001b[0;36m3\u001b[0m\u001b[0;34m)\u001b[0m\u001b[0;34m\u001b[0m\u001b[0;34m\u001b[0m\u001b[0m\n\u001b[0m",
            "\u001b[0;31mTypeError\u001b[0m: add() takes 2 positional arguments but 3 were given"
          ]
        }
      ]
    },
    {
      "cell_type": "code",
      "source": [
        "# Type Error\n",
        "def add(x, y, *args):\n",
        "    print(x, y, args)\n",
        "    return x + y\n",
        "\n",
        "add(1, 2, 3, 4, 5, 6, 7, 8, 9, 10)"
      ],
      "metadata": {
        "colab": {
          "base_uri": "https://localhost:8080/"
        },
        "id": "rIQtd_gvEt60",
        "outputId": "a50edbd3-db47-411f-95c9-e02afec86a0e"
      },
      "execution_count": 57,
      "outputs": [
        {
          "output_type": "stream",
          "name": "stdout",
          "text": [
            "1 2 (3, 4, 5, 6, 7, 8, 9, 10)\n"
          ]
        },
        {
          "output_type": "execute_result",
          "data": {
            "text/plain": [
              "3"
            ]
          },
          "metadata": {},
          "execution_count": 57
        }
      ]
    },
    {
      "cell_type": "code",
      "source": [
        "# File I/O Error\n",
        "f = open('non-existent.txt', 'r')\n",
        "f.read()"
      ],
      "metadata": {
        "colab": {
          "base_uri": "https://localhost:8080/",
          "height": 213
        },
        "id": "GTapcoIlCxXc",
        "outputId": "0481602b-7ae2-4b08-980d-5364cc377405"
      },
      "execution_count": 49,
      "outputs": [
        {
          "output_type": "error",
          "ename": "FileNotFoundError",
          "evalue": "ignored",
          "traceback": [
            "\u001b[0;31m---------------------------------------------------------------------------\u001b[0m",
            "\u001b[0;31mFileNotFoundError\u001b[0m                         Traceback (most recent call last)",
            "\u001b[0;32m<ipython-input-49-398bb0f309eb>\u001b[0m in \u001b[0;36m<cell line: 2>\u001b[0;34m()\u001b[0m\n\u001b[1;32m      1\u001b[0m \u001b[0;31m# File I/O Error\u001b[0m\u001b[0;34m\u001b[0m\u001b[0;34m\u001b[0m\u001b[0m\n\u001b[0;32m----> 2\u001b[0;31m \u001b[0mf\u001b[0m \u001b[0;34m=\u001b[0m \u001b[0mopen\u001b[0m\u001b[0;34m(\u001b[0m\u001b[0;34m'non-existent.txt'\u001b[0m\u001b[0;34m,\u001b[0m \u001b[0;34m'r'\u001b[0m\u001b[0;34m)\u001b[0m\u001b[0;34m\u001b[0m\u001b[0;34m\u001b[0m\u001b[0m\n\u001b[0m\u001b[1;32m      3\u001b[0m \u001b[0mf\u001b[0m\u001b[0;34m.\u001b[0m\u001b[0mread\u001b[0m\u001b[0;34m(\u001b[0m\u001b[0;34m)\u001b[0m\u001b[0;34m\u001b[0m\u001b[0;34m\u001b[0m\u001b[0m\n",
            "\u001b[0;31mFileNotFoundError\u001b[0m: [Errno 2] No such file or directory: 'non-existent.txt'"
          ]
        }
      ]
    },
    {
      "cell_type": "code",
      "source": [
        "# 오류가 난 곳을 찾아 유지보수하기가 쉽지 않습니다\n",
        "try:\n",
        "    pass # 1000줄\n",
        "except:\n",
        "    pass # 100줄"
      ],
      "metadata": {
        "id": "t78B8qflC0hI"
      },
      "execution_count": null,
      "outputs": []
    },
    {
      "cell_type": "code",
      "source": [
        "try:\n",
        "    할인율 = 0\n",
        "    치킨값 = 30000 / 할인율      # 예외가 발생할 가능성이 있는 코드\n",
        "    print('치킨주문 되었습니다.')\n",
        "except:\n",
        "    print('결제가 안되었습니다!')   # 예외 처리 코드"
      ],
      "metadata": {
        "colab": {
          "base_uri": "https://localhost:8080/"
        },
        "id": "6uipNN7nF8LV",
        "outputId": "6dc7c7d6-6b35-4310-eca8-197471b4a363"
      },
      "execution_count": 59,
      "outputs": [
        {
          "output_type": "stream",
          "name": "stdout",
          "text": [
            "결제가 안되었습니다!\n"
          ]
        }
      ]
    },
    {
      "cell_type": "code",
      "source": [
        "try:\n",
        "    할인율 = 0\n",
        "    치킨값 = 30000 / 할인율\n",
        "    print('치킨주문 되었습니다.')\n",
        "except:\n",
        "    print('결제가 안되었습니다!')\n",
        "else:\n",
        "    print('else')"
      ],
      "metadata": {
        "id": "m_KoMQ5iHFth"
      },
      "execution_count": null,
      "outputs": []
    },
    {
      "cell_type": "code",
      "source": [
        "try:\n",
        "    할인율 = 0\n",
        "    # 치킨값 = 30000 / 할인율\n",
        "    print('치킨주문 되었습니다.')\n",
        "except:\n",
        "    print('결제가 안되었습니다!')\n",
        "else:   #   에러 없이 실행되면 else를 실행합니다. while, for + else 조합과 비슷합니다\n",
        "    print('else')"
      ],
      "metadata": {
        "colab": {
          "base_uri": "https://localhost:8080/"
        },
        "id": "bD08DMg0HWem",
        "outputId": "01f468bf-75a4-4090-968d-784071db671e"
      },
      "execution_count": 60,
      "outputs": [
        {
          "output_type": "stream",
          "name": "stdout",
          "text": [
            "치킨주문 되었습니다.\n",
            "else\n"
          ]
        }
      ]
    },
    {
      "cell_type": "code",
      "source": [
        "try:\n",
        "    할인율 = 0\n",
        "    # 치킨값 = 30000 / 할인율\n",
        "    print('치킨주문 되었습니다.')\n",
        "except:\n",
        "    print('결제가 안되었습니다!')\n",
        "finally:\n",
        "    print('메인화면으로 이동')"
      ],
      "metadata": {
        "colab": {
          "base_uri": "https://localhost:8080/"
        },
        "id": "oE5GuP4qIBDh",
        "outputId": "f8f1e6e0-0c44-4bc0-a5a9-30d7063a014d"
      },
      "execution_count": 61,
      "outputs": [
        {
          "output_type": "stream",
          "name": "stdout",
          "text": [
            "치킨주문 되었습니다.\n",
            "메인화면으로 이동\n"
          ]
        }
      ]
    },
    {
      "cell_type": "code",
      "source": [
        "# 간단하게 error를 만들고 테스트하긴 좋습니다\n",
        "test = 'hello'\n",
        "\n",
        "# assert test == 'hello', '애러 메시지 1' #1\n",
        "# assert test == 'world', '애러 메시지 2' #2\n",
        "# assert test + 3 == 5, '애러 메시지 3' #3"
      ],
      "metadata": {
        "colab": {
          "base_uri": "https://localhost:8080/",
          "height": 230
        },
        "id": "xI-8sMS_ISPY",
        "outputId": "c5256e4e-7b30-4528-e2dc-945aaeec856a"
      },
      "execution_count": 63,
      "outputs": [
        {
          "output_type": "error",
          "ename": "AssertionError",
          "evalue": "ignored",
          "traceback": [
            "\u001b[0;31m---------------------------------------------------------------------------\u001b[0m",
            "\u001b[0;31mAssertionError\u001b[0m                            Traceback (most recent call last)",
            "\u001b[0;32m<ipython-input-63-45ac81f3ae9b>\u001b[0m in \u001b[0;36m<cell line: 4>\u001b[0;34m()\u001b[0m\n\u001b[1;32m      2\u001b[0m \u001b[0;34m\u001b[0m\u001b[0m\n\u001b[1;32m      3\u001b[0m \u001b[0;31m# assert test == 'hello', '애러 메시지 1' #1\u001b[0m\u001b[0;34m\u001b[0m\u001b[0;34m\u001b[0m\u001b[0m\n\u001b[0;32m----> 4\u001b[0;31m \u001b[0;32massert\u001b[0m \u001b[0mtest\u001b[0m \u001b[0;34m==\u001b[0m \u001b[0;34m'world'\u001b[0m\u001b[0;34m,\u001b[0m \u001b[0;34m'애러 메시지 2'\u001b[0m \u001b[0;31m#2\u001b[0m\u001b[0;34m\u001b[0m\u001b[0;34m\u001b[0m\u001b[0m\n\u001b[0m\u001b[1;32m      5\u001b[0m \u001b[0;31m# assert test + 3 == 5, '애러 메시지 3' #3\u001b[0m\u001b[0;34m\u001b[0m\u001b[0;34m\u001b[0m\u001b[0m\n",
            "\u001b[0;31mAssertionError\u001b[0m: 애러 메시지 2"
          ]
        }
      ]
    },
    {
      "cell_type": "code",
      "source": [
        "x = 10\n",
        "# raise\n",
        "# raise ValueError\n",
        "# raise ValueError('코드를 잘~~ 만들어주세요.')\n",
        "y = 20"
      ],
      "metadata": {
        "id": "rU5EAUZaIxHo"
      },
      "execution_count": 65,
      "outputs": []
    },
    {
      "cell_type": "code",
      "source": [
        "class Leehojun(Exception): #Exception을 상속받으면 됩니다.\n",
        "    def __init__(self):\n",
        "        super().__init__('입력된 값이 leehojun이 아닙니다.')\n",
        "\n",
        "raise Leehojun"
      ],
      "metadata": {
        "colab": {
          "base_uri": "https://localhost:8080/",
          "height": 213
        },
        "id": "4tCZx2-KJh-C",
        "outputId": "7ee5bb42-897b-46cd-f493-dad88332353e"
      },
      "execution_count": 66,
      "outputs": [
        {
          "output_type": "error",
          "ename": "Leehojun",
          "evalue": "ignored",
          "traceback": [
            "\u001b[0;31m---------------------------------------------------------------------------\u001b[0m",
            "\u001b[0;31mLeehojun\u001b[0m                                  Traceback (most recent call last)",
            "\u001b[0;32m<ipython-input-66-b11d5076ad8d>\u001b[0m in \u001b[0;36m<cell line: 5>\u001b[0;34m()\u001b[0m\n\u001b[1;32m      3\u001b[0m         \u001b[0msuper\u001b[0m\u001b[0;34m(\u001b[0m\u001b[0;34m)\u001b[0m\u001b[0;34m.\u001b[0m\u001b[0m__init__\u001b[0m\u001b[0;34m(\u001b[0m\u001b[0;34m'입력된 값이 leehojun이 아닙니다.'\u001b[0m\u001b[0;34m)\u001b[0m\u001b[0;34m\u001b[0m\u001b[0;34m\u001b[0m\u001b[0m\n\u001b[1;32m      4\u001b[0m \u001b[0;34m\u001b[0m\u001b[0m\n\u001b[0;32m----> 5\u001b[0;31m \u001b[0;32mraise\u001b[0m \u001b[0mLeehojun\u001b[0m\u001b[0;34m\u001b[0m\u001b[0;34m\u001b[0m\u001b[0m\n\u001b[0m",
            "\u001b[0;31mLeehojun\u001b[0m: 입력된 값이 leehojun이 아닙니다."
          ]
        }
      ]
    },
    {
      "cell_type": "code",
      "source": [
        "import logging\n",
        "\n",
        "logging.basicConfig(level=logging.INFO) # 어느 레벨부터 로깅할지, 기본으로 warning 부터 합니다.\n",
        "\n",
        "logging.debug(\"This is a debug message\") # 고쳐야 할 코드, 기록 필요\n",
        "logging.info(\"This is an info message\") # 정보성 메시지\n",
        "logging.warning(\"This is a warning message\") # 경고 메시지\n",
        "logging.error(\"This is an error message\") # 애러 메시지(프로그램은 동작)\n",
        "logging.critical(\"This is a critical message\") # 프로그램 중지(애러처리 안된경우)"
      ],
      "metadata": {
        "colab": {
          "base_uri": "https://localhost:8080/"
        },
        "id": "qIM3QPDLJ2cm",
        "outputId": "869743f0-c4c4-478e-aa01-39dfc2df1180"
      },
      "execution_count": 67,
      "outputs": [
        {
          "output_type": "stream",
          "name": "stderr",
          "text": [
            "WARNING:root:This is a warning message\n",
            "ERROR:root:This is an error message\n",
            "CRITICAL:root:This is a critical message\n"
          ]
        }
      ]
    },
    {
      "cell_type": "code",
      "source": [
        "import logging.handlers\n",
        "\n",
        "def logger():\n",
        "    log_obj = logging.getLogger(\"log_name\") # log name으로 log 객체 생성\n",
        "    log_obj.setLevel(logging.DEBUG) # 어디부터 기록할지 설정\n",
        "\n",
        "    fileHandeler = logging.FileHandler(filename=\"./test.txt\") # 파일로 기록\n",
        "    # streamHandler = logging.StreamHandler() # 콘솔에 출력\n",
        "\n",
        "    fileHandeler.setLevel(logging.INFO) # 파일 기록 레벨 설정\n",
        "    # streamHandler.setLevel(logging.DEBUG) # 콘솔 기록 레벨 설정\n",
        "\n",
        "    formatter = logging.Formatter(\"%(name)s, %(asctime)s, %(levelname)s, %(message)s\") #포멧 생성\n",
        "\n",
        "    fileHandeler.setFormatter(formatter) # 파일 메시지 포멧 설정\n",
        "    # streamHandler.setFormatter(formatter) # 콘솔 메시지 포멧 설정\n",
        "\n",
        "    log_obj.addHandler(fileHandeler) # log_obj handler에 파일 출력 방식 추가\n",
        "    # log_obj.addHandler(streamHandler) # log_obj handler에 파일 콘솔 방식 추가\n",
        "\n",
        "    return log_obj\n",
        "\n",
        "log = logger()\n",
        "\n",
        "# 아래 코드를 기록하고 싶은 곳에 함께 설정\n",
        "log.debug('debug')\n",
        "log.info('info')\n",
        "log.warning('warning')\n",
        "log.error('error')\n",
        "log.critical('critical')\n",
        "\n",
        "print('---')\n",
        "\n",
        "# 아래와 같이 사용합니다.\n",
        "def f():\n",
        "    try:\n",
        "        x = 1 / 0\n",
        "    except Exception as e:\n",
        "        print(e)\n",
        "        log.error(f'{e} error')\n",
        "\n",
        "f()"
      ],
      "metadata": {
        "colab": {
          "base_uri": "https://localhost:8080/"
        },
        "id": "yEIZ_g81LBLR",
        "outputId": "152fbef4-2012-42c3-b102-414c5b75bca7"
      },
      "execution_count": 68,
      "outputs": [
        {
          "output_type": "stream",
          "name": "stderr",
          "text": [
            "DEBUG:log_name:debug\n",
            "INFO:log_name:info\n",
            "WARNING:log_name:warning\n",
            "ERROR:log_name:error\n",
            "CRITICAL:log_name:critical\n",
            "ERROR:log_name:division by zero error\n"
          ]
        },
        {
          "output_type": "stream",
          "name": "stdout",
          "text": [
            "---\n",
            "division by zero\n"
          ]
        }
      ]
    },
    {
      "cell_type": "code",
      "source": [
        "import logging.handlers\n",
        "\n",
        "def logger():\n",
        "    log_obj = logging.getLogger(\"log_name\") # log name으로 log 객체 생성\n",
        "    log_obj.setLevel(logging.ERROR) # 어디부터 기록할지 설정\n",
        "\n",
        "    fileHandeler = logging.FileHandler(filename=\"./test.txt\") # 파일로 기록\n",
        "    # streamHandler = logging.StreamHandler() # 콘솔에 출력\n",
        "\n",
        "    fileHandeler.setLevel(logging.ERROR) # 파일 기록 레벨 설정\n",
        "    # streamHandler.setLevel(logging.DEBUG) # 콘솔 기록 레벨 설정\n",
        "\n",
        "    formatter = logging.Formatter(\"%(name)s, %(asctime)s, %(levelname)s, %(message)s\") #포멧 생성\n",
        "\n",
        "    fileHandeler.setFormatter(formatter) # 파일 메시지 포멧 설정\n",
        "    # streamHandler.setFormatter(formatter) # 콘솔 메시지 포멧 설정\n",
        "\n",
        "    log_obj.addHandler(fileHandeler) # log_obj handler에 파일 출력 방식 추가\n",
        "    # log_obj.addHandler(streamHandler) # log_obj handler에 파일 콘솔 방식 추가\n",
        "\n",
        "    return log_obj\n",
        "\n",
        "log = logger()\n",
        "\n",
        "# 아래 코드를 기록하고 싶은 곳에 함께 설정\n",
        "log.debug('debug')\n",
        "log.info('info')\n",
        "log.warning('warning')\n",
        "log.error('error')\n",
        "log.critical('critical')\n",
        "\n",
        "print('---')\n",
        "\n",
        "# 아래와 같이 사용합니다.\n",
        "def f():\n",
        "    try:\n",
        "        x = 1 / 0\n",
        "    except Exception as e:\n",
        "        print(e)\n",
        "        log.error(f'{e} error')\n",
        "\n",
        "f()"
      ],
      "metadata": {
        "colab": {
          "base_uri": "https://localhost:8080/"
        },
        "id": "aCQncxiULr9b",
        "outputId": "426ff236-bcd4-4a75-eb4e-c370b0e9c288"
      },
      "execution_count": 69,
      "outputs": [
        {
          "output_type": "stream",
          "name": "stderr",
          "text": [
            "ERROR:log_name:error\n",
            "CRITICAL:log_name:critical\n",
            "ERROR:log_name:division by zero error\n"
          ]
        },
        {
          "output_type": "stream",
          "name": "stdout",
          "text": [
            "---\n",
            "division by zero\n"
          ]
        }
      ]
    },
    {
      "cell_type": "markdown",
      "source": [
        "# 연습문제"
      ],
      "metadata": {
        "id": "Be-bR6DXMT-1"
      }
    },
    {
      "cell_type": "code",
      "source": [
        "#   div(a, b)라고 입력했을 때 b에 0이 입력되면 예외처리를 하여 정상작동이 되게 만들어주세요"
      ],
      "metadata": {
        "id": "lGDQF2T5MMYM"
      },
      "execution_count": null,
      "outputs": []
    },
    {
      "cell_type": "code",
      "source": [
        "def div(a, b):\n",
        "    try:\n",
        "        return a / b\n",
        "\n",
        "    except:\n",
        "        return print('0이 아닌 정수를 입력해주세요!')\n",
        "\n",
        "div(3, 0)"
      ],
      "metadata": {
        "colab": {
          "base_uri": "https://localhost:8080/"
        },
        "id": "oqYAJ8i2MWTK",
        "outputId": "5c6f41b8-23f7-4253-a629-86c221cfa82d"
      },
      "execution_count": 78,
      "outputs": [
        {
          "output_type": "stream",
          "name": "stdout",
          "text": [
            "0이 아닌 정수를 입력해주세요!\n"
          ]
        }
      ]
    },
    {
      "cell_type": "markdown",
      "source": [
        "# 0919 연습문제"
      ],
      "metadata": {
        "id": "9pTG9xnvRr8e"
      }
    },
    {
      "cell_type": "code",
      "source": [
        "# 문제1(라운지 쓰레드)\n",
        "# 두 수를 나누는 함수 div(a, b)가 있었을 때\n",
        "# b에 0이 입력되면 예외처리를 하여 정상작동이 되는 함수로 작성을 해주세요.\n",
        "\n",
        "def div(a, b):\n",
        "    pass\n",
        "\n",
        "div(3, 0)\n",
        "\n",
        "# 문제2(class 쓰레드)\n",
        "# 하나의 숫자에 제곱근을 구하는 함수 sqrt_number(num)이 있었을 때\n",
        "# 자체 예외 NegativeNumberError를 정의하세요. 이 예외는 음수가 입력될 때 발생하도록 합니다.\n",
        "# 사용자로부터 숫자를 입력 받아 그 숫자의 제곱근을 반환하는 함수를 작성하세요.\n",
        "# 입력된 숫자가 음수이면 NegativeNumberError를 발생시키고\n",
        "# \"음수의 제곱근은 계산할 수 없습니다.\"라는 메시지를 출력하세요.\n",
        "\n",
        "# 문제3(class 쓰레드)\n",
        "# 사용자로부터 인덱스 값을 입력 받아서 리스트 [\"apple\", \"banana\", \"cherry\"]에서\n",
        "# 해당 인덱스의 값을 출력하는 함수를 작성하세요.\n",
        "# 사용자가 범위를 벗어난 인덱스를 입력하면 \"리스트의 범위를 벗어났습니다.\"라는 메시지를 출력하세요."
      ],
      "metadata": {
        "id": "rX8UEauFRq6A"
      },
      "execution_count": null,
      "outputs": []
    },
    {
      "cell_type": "code",
      "source": [
        "def div(a, b):\n",
        "    try:\n",
        "        return a / b\n",
        "    except ZeroDivisionError:\n",
        "        print('ZeroDivisionError')\n",
        "    except:\n",
        "        print('Error')\n",
        "\n",
        "div(3, '1')\n",
        "div(3, 0)"
      ],
      "metadata": {
        "id": "j_HJTJBwqnBf"
      },
      "execution_count": null,
      "outputs": []
    },
    {
      "cell_type": "code",
      "source": [
        "class NegativeNumberError(Exception):\n",
        "    def __init__(self):\n",
        "        super().__init__('음수의 제곱근은 계산할 수 없습니다.')\n",
        "\n",
        "def sqrt_number(num):\n",
        "    try:\n",
        "        if num < 0:\n",
        "            raise NegativeNumberError\n",
        "\n",
        "        return num**(1/2)\n",
        "\n",
        "    except Exception as e:\n",
        "        print(e)\n",
        "        raise NegativeNumberError\n",
        "\n",
        "sqrt_number(2)\n",
        "sqrt_number(-2)"
      ],
      "metadata": {
        "id": "HUStwywbRul5"
      },
      "execution_count": null,
      "outputs": []
    },
    {
      "cell_type": "code",
      "source": [
        "def fruits(num):\n",
        "    fruits_list = [\"apple\", \"banana\", \"cherry\"]\n",
        "    fruits_list.append(input('과일 이름을 입력하세요: '))\n",
        "    print(fruits_list)\n",
        "    try:\n",
        "        print(fruits_list[num])\n",
        "    except:\n",
        "        return \"리스트의 범위를 벗어났습니다.\"\n",
        "\n",
        "fruits(4)"
      ],
      "metadata": {
        "colab": {
          "base_uri": "https://localhost:8080/",
          "height": 70
        },
        "id": "CJDPrNp7URcW",
        "outputId": "4aad7206-ec97-4212-89e5-ae4a6d734c15"
      },
      "execution_count": 115,
      "outputs": [
        {
          "output_type": "stream",
          "name": "stdout",
          "text": [
            "과일 이름을 입력하세요: orange\n",
            "['apple', 'banana', 'cherry', 'orange']\n"
          ]
        },
        {
          "output_type": "execute_result",
          "data": {
            "text/plain": [
              "'리스트의 범위를 벗어났습니다.'"
            ],
            "application/vnd.google.colaboratory.intrinsic+json": {
              "type": "string"
            }
          },
          "metadata": {},
          "execution_count": 115
        }
      ]
    },
    {
      "cell_type": "code",
      "source": [
        "def fruits(num):\n",
        "    fruits_list = [\"apple\", \"banana\", \"cherry\"]\n",
        "    try:\n",
        "        print(fruits_list[num])\n",
        "    except:\n",
        "        return \"리스트의 범위를 벗어났습니다.\"\n",
        "x = int(input())\n",
        "fruits(x)"
      ],
      "metadata": {
        "colab": {
          "base_uri": "https://localhost:8080/",
          "height": 393
        },
        "id": "LpPeaMtKaQlU",
        "outputId": "7631943b-3c99-4905-963d-9b48096ef7aa"
      },
      "execution_count": 133,
      "outputs": [
        {
          "output_type": "error",
          "ename": "KeyboardInterrupt",
          "evalue": "ignored",
          "traceback": [
            "\u001b[0;31m---------------------------------------------------------------------------\u001b[0m",
            "\u001b[0;31mKeyboardInterrupt\u001b[0m                         Traceback (most recent call last)",
            "\u001b[0;32m<ipython-input-133-2eb000a8f142>\u001b[0m in \u001b[0;36m<cell line: 7>\u001b[0;34m()\u001b[0m\n\u001b[1;32m      5\u001b[0m     \u001b[0;32mexcept\u001b[0m\u001b[0;34m:\u001b[0m\u001b[0;34m\u001b[0m\u001b[0;34m\u001b[0m\u001b[0m\n\u001b[1;32m      6\u001b[0m         \u001b[0;32mreturn\u001b[0m \u001b[0;34m\"리스트의 범위를 벗어났습니다.\"\u001b[0m\u001b[0;34m\u001b[0m\u001b[0;34m\u001b[0m\u001b[0m\n\u001b[0;32m----> 7\u001b[0;31m \u001b[0mx\u001b[0m \u001b[0;34m=\u001b[0m \u001b[0mint\u001b[0m\u001b[0;34m(\u001b[0m\u001b[0minput\u001b[0m\u001b[0;34m(\u001b[0m\u001b[0;34m)\u001b[0m\u001b[0;34m)\u001b[0m\u001b[0;34m\u001b[0m\u001b[0;34m\u001b[0m\u001b[0m\n\u001b[0m\u001b[1;32m      8\u001b[0m \u001b[0mfruits\u001b[0m\u001b[0;34m(\u001b[0m\u001b[0;36m2\u001b[0m\u001b[0;34m)\u001b[0m\u001b[0;34m\u001b[0m\u001b[0;34m\u001b[0m\u001b[0m\n",
            "\u001b[0;32m/usr/local/lib/python3.10/dist-packages/ipykernel/kernelbase.py\u001b[0m in \u001b[0;36mraw_input\u001b[0;34m(self, prompt)\u001b[0m\n\u001b[1;32m    849\u001b[0m                 \u001b[0;34m\"raw_input was called, but this frontend does not support input requests.\"\u001b[0m\u001b[0;34m\u001b[0m\u001b[0;34m\u001b[0m\u001b[0m\n\u001b[1;32m    850\u001b[0m             )\n\u001b[0;32m--> 851\u001b[0;31m         return self._input_request(str(prompt),\n\u001b[0m\u001b[1;32m    852\u001b[0m             \u001b[0mself\u001b[0m\u001b[0;34m.\u001b[0m\u001b[0m_parent_ident\u001b[0m\u001b[0;34m,\u001b[0m\u001b[0;34m\u001b[0m\u001b[0;34m\u001b[0m\u001b[0m\n\u001b[1;32m    853\u001b[0m             \u001b[0mself\u001b[0m\u001b[0;34m.\u001b[0m\u001b[0m_parent_header\u001b[0m\u001b[0;34m,\u001b[0m\u001b[0;34m\u001b[0m\u001b[0;34m\u001b[0m\u001b[0m\n",
            "\u001b[0;32m/usr/local/lib/python3.10/dist-packages/ipykernel/kernelbase.py\u001b[0m in \u001b[0;36m_input_request\u001b[0;34m(self, prompt, ident, parent, password)\u001b[0m\n\u001b[1;32m    893\u001b[0m             \u001b[0;32mexcept\u001b[0m \u001b[0mKeyboardInterrupt\u001b[0m\u001b[0;34m:\u001b[0m\u001b[0;34m\u001b[0m\u001b[0;34m\u001b[0m\u001b[0m\n\u001b[1;32m    894\u001b[0m                 \u001b[0;31m# re-raise KeyboardInterrupt, to truncate traceback\u001b[0m\u001b[0;34m\u001b[0m\u001b[0;34m\u001b[0m\u001b[0m\n\u001b[0;32m--> 895\u001b[0;31m                 \u001b[0;32mraise\u001b[0m \u001b[0mKeyboardInterrupt\u001b[0m\u001b[0;34m(\u001b[0m\u001b[0;34m\"Interrupted by user\"\u001b[0m\u001b[0;34m)\u001b[0m \u001b[0;32mfrom\u001b[0m \u001b[0;32mNone\u001b[0m\u001b[0;34m\u001b[0m\u001b[0;34m\u001b[0m\u001b[0m\n\u001b[0m\u001b[1;32m    896\u001b[0m             \u001b[0;32mexcept\u001b[0m \u001b[0mException\u001b[0m \u001b[0;32mas\u001b[0m \u001b[0me\u001b[0m\u001b[0;34m:\u001b[0m\u001b[0;34m\u001b[0m\u001b[0;34m\u001b[0m\u001b[0m\n\u001b[1;32m    897\u001b[0m                 \u001b[0mself\u001b[0m\u001b[0;34m.\u001b[0m\u001b[0mlog\u001b[0m\u001b[0;34m.\u001b[0m\u001b[0mwarning\u001b[0m\u001b[0;34m(\u001b[0m\u001b[0;34m\"Invalid Message:\"\u001b[0m\u001b[0;34m,\u001b[0m \u001b[0mexc_info\u001b[0m\u001b[0;34m=\u001b[0m\u001b[0;32mTrue\u001b[0m\u001b[0;34m)\u001b[0m\u001b[0;34m\u001b[0m\u001b[0;34m\u001b[0m\u001b[0m\n",
            "\u001b[0;31mKeyboardInterrupt\u001b[0m: Interrupted by user"
          ]
        }
      ]
    },
    {
      "cell_type": "code",
      "source": [
        "def get_item(num):\n",
        "    item_list = [\"apple\", \"banana\", \"cherry\"]\n",
        "    try:\n",
        "        return item_list[num]\n",
        "    except IndexError:\n",
        "        return \"리스트의 범위를 벗어났습니다.\"\n",
        "    except: # 이런 경우에 대비하시는 것이 좋습니다.\n",
        "        return \"예상치 못한 애러입니다.\"\n",
        "\n",
        "num = int(input('인덱스 값을 입력해 주세요.: '))\n",
        "get_item(num)"
      ],
      "metadata": {
        "id": "l8dy-apoqeuU"
      },
      "execution_count": null,
      "outputs": []
    }
  ]
}