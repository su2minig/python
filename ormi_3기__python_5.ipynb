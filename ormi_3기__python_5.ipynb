{
  "nbformat": 4,
  "nbformat_minor": 0,
  "metadata": {
    "colab": {
      "provenance": []
    },
    "kernelspec": {
      "name": "python3",
      "display_name": "Python 3"
    },
    "language_info": {
      "name": "python"
    }
  },
  "cells": [
    {
      "cell_type": "markdown",
      "source": [
        "# 클래스 변수와 인스턴스 변수"
      ],
      "metadata": {
        "id": "2toINz01ghFI"
      }
    },
    {
      "cell_type": "code",
      "execution_count": null,
      "metadata": {
        "colab": {
          "base_uri": "https://localhost:8080/"
        },
        "id": "hS2Zs1TMgR1b",
        "outputId": "f293fa72-403e-4b4e-eecf-7ae63126bc09"
      },
      "outputs": [
        {
          "output_type": "stream",
          "name": "stdout",
          "text": [
            "300\n",
            "300\n",
            "500\n"
          ]
        }
      ],
      "source": [
        "class Car:\n",
        "    # 클래스 변수의 위치\n",
        "    max_speed = 300\n",
        "    max_people = 5\n",
        "    car_gear = ['P', 'D', 'R', 'N']\n",
        "\n",
        "modelx = Car()\n",
        "modely = Car()\n",
        "\n",
        "modely.max_speed = 500\n",
        "\n",
        "print(Car.max_speed)    #출력: 300\n",
        "print(modelx.max_speed) #출력: 300\n",
        "print(modely.max_speed) #출력: 500(인스턴스 변수값을 출력한 것입니다)\n",
        "print(id(Car.max_speed))\n",
        "print(id(modelx.max_speed))\n",
        "print(id(modely.max_speed))"
      ]
    },
    {
      "cell_type": "code",
      "source": [
        "class Car:\n",
        "    # 클래스 변수의 위치\n",
        "    max_speed = 1000\n",
        "    max_people = 5\n",
        "    car_gear = ['P', 'D', 'R', 'N']\n",
        "\n",
        "modelx = Car()\n",
        "modely = Car()\n",
        "\n",
        "modely.max_speed = 1000\n",
        "\n",
        "print(id(Car.max_speed))    #출력:133321904282256\n",
        "print(id(modelx.max_speed)) #출력:133321904282256\n",
        "print(id(modely.max_speed)) #출력:133321904276848"
      ],
      "metadata": {
        "colab": {
          "base_uri": "https://localhost:8080/"
        },
        "id": "zptHkXfGgmJR",
        "outputId": "bcfffdee-175b-4b75-f622-6c1f79b33d9b"
      },
      "execution_count": null,
      "outputs": [
        {
          "output_type": "stream",
          "name": "stdout",
          "text": [
            "133321904282256\n",
            "133321904282256\n",
            "133321904276848\n"
          ]
        }
      ]
    },
    {
      "cell_type": "code",
      "source": [
        "# 일부러 혼란을 드리려고 어렵게 낸 문제입니다\n",
        "# 이런 문제는 실무에서 거의 발생하지 않습니다.\n",
        "# 그러니 이해가 안된다면 너무 많은 시간을 이해하려하는데 쓰지 마세요\n",
        "class Car:\n",
        "    kinds = []  #전역변수 kinds\n",
        "    speed = 300\n",
        "\n",
        "    def add_kinds(self, name): #고유의 영역\n",
        "        self.kinds.append(name) #안에 kinds라는 변수가 없으므로 전역변수 kinds를 참조\n",
        "\n",
        "    def change_speed(self, speed):\n",
        "        self.speed = speed # 인스턴스안의 변수생성\n",
        "\n",
        "modelx = Car()\n",
        "modely = Car()\n",
        "\n",
        "modelx.add_kinds('x')\n",
        "modely.add_kinds('y')\n",
        "\n",
        "Car.speed = 100\n",
        "\n",
        "# modelx.change_speed(500)\n",
        "# modely.change_speed(250)\n",
        "\n",
        "print(f'modelx.kinds: {modelx.kinds}')\n",
        "print(f'modely.kinds: {modely.kinds}')\n",
        "print(f'modelx.speed: {modelx.speed}')\n",
        "print(f'modely.speed: {modely.speed}')"
      ],
      "metadata": {
        "colab": {
          "base_uri": "https://localhost:8080/"
        },
        "id": "NBQsiTxShKFw",
        "outputId": "904bc0d9-4c41-43c0-e748-65b3c9312934"
      },
      "execution_count": null,
      "outputs": [
        {
          "output_type": "stream",
          "name": "stdout",
          "text": [
            "modelx.kinds: ['x', 'y']\n",
            "modely.kinds: ['x', 'y']\n",
            "modelx.speed: 100\n",
            "modely.speed: 100\n"
          ]
        }
      ]
    },
    {
      "cell_type": "code",
      "source": [
        "class Car:\n",
        "    kinds = []\n",
        "    speed = 300\n",
        "\n",
        "    def add_kinds(self, name):\n",
        "        self.kinds.append(name)\n",
        "\n",
        "    def change_speed(self, speed):\n",
        "        self.speed = speed\n",
        "\n",
        "modelx = Car()\n",
        "modely = Car()\n",
        "\n",
        "# Car.speed = 100\n",
        "\n",
        "modelx.change_speed(500) #modelx.change_speed 인스턴스 메소드로 인스턴스 변수에 500이라는 값이 들어가는것이다\n",
        "modely.change_speed(250)\n",
        "\n",
        "print(f'modelx.speed: {modelx.speed}')\n",
        "print(f'modely.speed: {modely.speed}')"
      ],
      "metadata": {
        "colab": {
          "base_uri": "https://localhost:8080/"
        },
        "id": "Sa3tZNS7jtcB",
        "outputId": "119a4f6e-5ed5-45be-8d55-fbc1304996cf"
      },
      "execution_count": null,
      "outputs": [
        {
          "output_type": "stream",
          "name": "stdout",
          "text": [
            "modelx.speed: 500\n",
            "modely.speed: 250\n"
          ]
        }
      ]
    },
    {
      "cell_type": "code",
      "source": [
        "x = 100\n",
        "def test():\n",
        "    print(x)\n",
        "\n",
        "test()"
      ],
      "metadata": {
        "id": "LPkO-lkRkoWm"
      },
      "execution_count": null,
      "outputs": []
    },
    {
      "cell_type": "code",
      "source": [
        "x = 100\n",
        "def test():\n",
        "    # global x 사용시 전역변수 x를 수정할 수 있게된다\n",
        "    x = 200  # 값을 읽어올 수 있지만 변경은 안된다!\n",
        "    print(x) # x는 전역변수는 건드리지 않고 지역변수 200을 선언했을 뿐입니다\n",
        "\n",
        "test()\n",
        "x"
      ],
      "metadata": {
        "colab": {
          "base_uri": "https://localhost:8080/"
        },
        "id": "oanKtaF9k2Eu",
        "outputId": "8a1c276a-d764-4c7c-87e5-bfd2d9fe60fc"
      },
      "execution_count": null,
      "outputs": [
        {
          "output_type": "stream",
          "name": "stdout",
          "text": [
            "200\n"
          ]
        },
        {
          "output_type": "execute_result",
          "data": {
            "text/plain": [
              "100"
            ]
          },
          "metadata": {},
          "execution_count": 7
        }
      ]
    },
    {
      "cell_type": "code",
      "source": [
        "# 전역변수가 참조하고 있는 값을 변경할 수는 없지만\n",
        "# 참조하고 있는 값에 값을 변경할 수 있다\n",
        "# 예시 리스트"
      ],
      "metadata": {
        "id": "oDQimitrlXg2"
      },
      "execution_count": null,
      "outputs": []
    },
    {
      "cell_type": "code",
      "source": [
        "x = []\n",
        "def test():\n",
        "    x.append(100)\n",
        "\n",
        "test()\n",
        "x"
      ],
      "metadata": {
        "colab": {
          "base_uri": "https://localhost:8080/"
        },
        "id": "LP4vYU5pmn7L",
        "outputId": "0bbdfb6a-0266-40fc-ce60-4f212c890786"
      },
      "execution_count": null,
      "outputs": [
        {
          "output_type": "execute_result",
          "data": {
            "text/plain": [
              "[100]"
            ]
          },
          "metadata": {},
          "execution_count": 12
        }
      ]
    },
    {
      "cell_type": "code",
      "source": [
        "# 매우 중요!!!\n",
        "l = [10, 20, 30]\n",
        "def test(ll):    #ll은 [10, 20, 30]을 가리키고있다\n",
        "    ll.append(40)\n",
        "\n",
        "test(l)\n",
        "l"
      ],
      "metadata": {
        "colab": {
          "base_uri": "https://localhost:8080/"
        },
        "id": "4EK4ZGmTm9gr",
        "outputId": "6a4a03a6-bd79-4adb-f119-875f32e27194"
      },
      "execution_count": null,
      "outputs": [
        {
          "output_type": "execute_result",
          "data": {
            "text/plain": [
              "[10, 20, 30, 40]"
            ]
          },
          "metadata": {},
          "execution_count": 16
        }
      ]
    },
    {
      "cell_type": "code",
      "source": [
        "# 매우 중요!!!\n",
        "i = 100\n",
        "def test(ii):\n",
        "    ii = 300    # ii는 ii=300전까지는 i=100을 참조하여 100을 가리키고있다 ii=300이후는 300을 가리킨다\n",
        "\n",
        "test(i)\n",
        "i"
      ],
      "metadata": {
        "colab": {
          "base_uri": "https://localhost:8080/"
        },
        "id": "Pq10REI0qsDo",
        "outputId": "4f51a838-4da3-4eaa-ad19-b731bc9ca140"
      },
      "execution_count": null,
      "outputs": [
        {
          "output_type": "execute_result",
          "data": {
            "text/plain": [
              "100"
            ]
          },
          "metadata": {},
          "execution_count": 17
        }
      ]
    },
    {
      "cell_type": "code",
      "source": [
        "# 매우 중요!!!\n",
        "l = [10, 20, 30]\n",
        "def test(ll):    #ll은 [10, 20, 30]을 가리키고있다\n",
        "    ll = 40\n",
        "\n",
        "test(l)\n",
        "l"
      ],
      "metadata": {
        "colab": {
          "base_uri": "https://localhost:8080/"
        },
        "id": "CrlEDWARroNT",
        "outputId": "29392a3d-643d-4031-e183-a1873193b891"
      },
      "execution_count": null,
      "outputs": [
        {
          "output_type": "execute_result",
          "data": {
            "text/plain": [
              "[10, 20, 30]"
            ]
          },
          "metadata": {},
          "execution_count": 18
        }
      ]
    },
    {
      "cell_type": "code",
      "source": [
        "kinds = [] # 전역변수 speed 300\n",
        "\n",
        "def add_kinds(value):\n",
        "    kinds.append(value) # 지역에 해당 변수가 없으므로 전역변수 kinds에 append\n",
        "\n",
        "add_kinds(100)\n",
        "kinds"
      ],
      "metadata": {
        "colab": {
          "base_uri": "https://localhost:8080/"
        },
        "id": "KZ_8q9I5jzR5",
        "outputId": "c3de9655-6330-44f3-e918-c0965fe18cfa"
      },
      "execution_count": null,
      "outputs": [
        {
          "output_type": "execute_result",
          "data": {
            "text/plain": [
              "[100]"
            ]
          },
          "metadata": {},
          "execution_count": 5
        }
      ]
    },
    {
      "cell_type": "code",
      "source": [
        "kinds = [] # 전역변수 speed 300\n",
        "\n",
        "def add_kinds(value):\n",
        "    kinds = []\n",
        "    kinds.append(value) # 지역에 해당 변수가 없으므로 전역변수 kinds에 append\n",
        "\n",
        "add_kinds(100)\n",
        "kinds"
      ],
      "metadata": {
        "colab": {
          "base_uri": "https://localhost:8080/"
        },
        "id": "g1Gir6pIkX54",
        "outputId": "9009b0cf-54c6-424a-fd22-0bc20b1c204b"
      },
      "execution_count": null,
      "outputs": [
        {
          "output_type": "execute_result",
          "data": {
            "text/plain": [
              "[]"
            ]
          },
          "metadata": {},
          "execution_count": 6
        }
      ]
    },
    {
      "cell_type": "code",
      "source": [
        "def hello():\n",
        "    print('hello world')\n",
        "\n",
        "print(type(hello)) # 출력: <class 'function'>"
      ],
      "metadata": {
        "id": "n70UCgVusuUd"
      },
      "execution_count": null,
      "outputs": []
    },
    {
      "cell_type": "code",
      "source": [
        "hello.hi = 'hi, world'\n",
        "hello.hi # 출력: hi, world  hello는 위 함수의 인스턴스 변수"
      ],
      "metadata": {
        "id": "BbCLwbLts0Qm"
      },
      "execution_count": null,
      "outputs": []
    },
    {
      "cell_type": "code",
      "source": [
        "class Point:\n",
        "\n",
        "    def __init__(self, x, y):\n",
        "        self.x = x\n",
        "        self.y = y\n",
        "\n",
        "    def __add__(self, other):\n",
        "        if isinstance(other, Point):\n",
        "            return Point((self.x + other.x), (self.y + other.y))\n",
        "        elif isinstance(other, int) or isinstance(other, float):\n",
        "            return Point((self.x + other), (self.y + other))\n",
        "\n",
        "    def distance(self, other):\n",
        "        dx = self.x - other.x\n",
        "        dy = self.y - other.y\n",
        "        return (dx**2 + dy**2)**0.5\n",
        "\n",
        "dot1 = Point(10, 20)\n",
        "dot2 = Point(20, 30)\n",
        "\n",
        "dot3 = dot1 + 10\n",
        "print(dot1.x, dot1.y) # 출력: 10 20\n",
        "print(dot3.x, dot3.y) # 출력: 20 30\n",
        "\n",
        "dot4 = dot1 + dot2\n",
        "print(dot4.x, dot4.y) # 출력: 30 50\n",
        "print(dot4.distance(dot1)) # 출력: 36.05551275463989"
      ],
      "metadata": {
        "colab": {
          "base_uri": "https://localhost:8080/"
        },
        "id": "M_pRBN7Vs5_M",
        "outputId": "36fcb155-db28-4512-aea1-0af4519cf721"
      },
      "execution_count": null,
      "outputs": [
        {
          "output_type": "stream",
          "name": "stdout",
          "text": [
            "10 20\n",
            "20 30\n",
            "30 50\n",
            "36.05551275463989\n"
          ]
        }
      ]
    },
    {
      "cell_type": "code",
      "source": [
        "# 클래스내의 메서드들은 한줄씩 개행한다\n",
        "class x:\n",
        "\n",
        "    def x():\n",
        "        pass\n",
        "\n",
        "    def x():\n",
        "        pass"
      ],
      "metadata": {
        "id": "YJAw9oi8vtTZ"
      },
      "execution_count": null,
      "outputs": []
    },
    {
      "cell_type": "code",
      "source": [
        "class Counter:\n",
        "\n",
        "    def __init__(self):\n",
        "        self.num = 0\n",
        "\n",
        "    def __len__(self):\n",
        "        return 100\n",
        "\n",
        "    def __call__(self):\n",
        "        return 'hello'\n",
        "\n",
        "    def __getitem__(self, key):\n",
        "        return key*10\n",
        "\n",
        "    def __str__(self):\n",
        "        return 'hello'\n",
        "\n",
        "    def __repr__(self):\n",
        "        return 'world'\n",
        "\n",
        "c = Counter()\n",
        "len(c)\n",
        "c()\n",
        "c[10]\n",
        "print(c) # 이것은 print(str(c))와 같다 __str__\n",
        "c # __repr__"
      ],
      "metadata": {
        "colab": {
          "base_uri": "https://localhost:8080/"
        },
        "id": "p6-j2ZD1xJJT",
        "outputId": "133b6126-77c3-46ab-cd76-59f77d8929b2"
      },
      "execution_count": null,
      "outputs": [
        {
          "output_type": "stream",
          "name": "stdout",
          "text": [
            "hello\n"
          ]
        },
        {
          "output_type": "execute_result",
          "data": {
            "text/plain": [
              "world"
            ]
          },
          "metadata": {},
          "execution_count": 23
        }
      ]
    },
    {
      "cell_type": "markdown",
      "source": [
        "# 상속"
      ],
      "metadata": {
        "id": "18cY_FNJ6ZIA"
      }
    },
    {
      "cell_type": "code",
      "source": [
        "class A:\n",
        "    def hello(self):\n",
        "        return 'hello'\n",
        "\n",
        "class B(A):\n",
        "    def __init__(self, a, b):\n",
        "        print(a,b)\n",
        "\n",
        "    def world(self):\n",
        "        return 'world'\n",
        "\n",
        "b = B()\n",
        "b.hello()  # 출력: 'hello'\n",
        "b.world()  # 출력: 'world'"
      ],
      "metadata": {
        "colab": {
          "base_uri": "https://localhost:8080/",
          "height": 35
        },
        "id": "ZdFGt9JhzE1y",
        "outputId": "c7175845-006b-4c6f-a21c-2fd2614cf890"
      },
      "execution_count": null,
      "outputs": [
        {
          "output_type": "execute_result",
          "data": {
            "text/plain": [
              "'world'"
            ],
            "application/vnd.google.colaboratory.intrinsic+json": {
              "type": "string"
            }
          },
          "metadata": {},
          "execution_count": 26
        }
      ]
    },
    {
      "cell_type": "code",
      "source": [
        "class A(object):\n",
        "    def hello(self):\n",
        "        return 'hello'\n",
        "\n",
        "class B(A):\n",
        "    def __init__(self, a, b):\n",
        "        print(a,b)\n",
        "\n",
        "    def world(self):\n",
        "        return 'world'\n",
        "\n",
        "b = B()\n",
        "b.hello()  # 출력: 'hello'\n",
        "b.world()  # 출력: 'world'\n",
        "dir(b)"
      ],
      "metadata": {
        "colab": {
          "base_uri": "https://localhost:8080/",
          "height": 248
        },
        "id": "pPzInBqszpCK",
        "outputId": "fcd10d79-26bf-4a6a-b797-1577e0817185"
      },
      "execution_count": null,
      "outputs": [
        {
          "output_type": "error",
          "ename": "TypeError",
          "evalue": "ignored",
          "traceback": [
            "\u001b[0;31m---------------------------------------------------------------------------\u001b[0m",
            "\u001b[0;31mTypeError\u001b[0m                                 Traceback (most recent call last)",
            "\u001b[0;32m<ipython-input-27-431c5d217ba0>\u001b[0m in \u001b[0;36m<cell line: 12>\u001b[0;34m()\u001b[0m\n\u001b[1;32m     10\u001b[0m         \u001b[0;32mreturn\u001b[0m \u001b[0;34m'world'\u001b[0m\u001b[0;34m\u001b[0m\u001b[0;34m\u001b[0m\u001b[0m\n\u001b[1;32m     11\u001b[0m \u001b[0;34m\u001b[0m\u001b[0m\n\u001b[0;32m---> 12\u001b[0;31m \u001b[0mb\u001b[0m \u001b[0;34m=\u001b[0m \u001b[0mB\u001b[0m\u001b[0;34m(\u001b[0m\u001b[0;34m)\u001b[0m\u001b[0;34m\u001b[0m\u001b[0;34m\u001b[0m\u001b[0m\n\u001b[0m\u001b[1;32m     13\u001b[0m \u001b[0mb\u001b[0m\u001b[0;34m.\u001b[0m\u001b[0mhello\u001b[0m\u001b[0;34m(\u001b[0m\u001b[0;34m)\u001b[0m  \u001b[0;31m# 출력: 'hello'\u001b[0m\u001b[0;34m\u001b[0m\u001b[0;34m\u001b[0m\u001b[0m\n\u001b[1;32m     14\u001b[0m \u001b[0mb\u001b[0m\u001b[0;34m.\u001b[0m\u001b[0mworld\u001b[0m\u001b[0;34m(\u001b[0m\u001b[0;34m)\u001b[0m  \u001b[0;31m# 출력: 'world'\u001b[0m\u001b[0;34m\u001b[0m\u001b[0;34m\u001b[0m\u001b[0m\n",
            "\u001b[0;31mTypeError\u001b[0m: B.__init__() missing 2 required positional arguments: 'a' and 'b'"
          ]
        }
      ]
    },
    {
      "cell_type": "code",
      "source": [
        "class A:\n",
        "    def hello(self):\n",
        "        return 'hello'\n",
        "\n",
        "class B(A):\n",
        "    def __init__(self, a, b):\n",
        "        print(a,b)\n",
        "\n",
        "    def world(self):\n",
        "        return 'world'\n",
        "\n",
        "    def hello(self):\n",
        "        return 'hello world'\n",
        "\n",
        "b = B(10)\n",
        "b.hello() # B에 hello가 생겼으므로 A에 있는 hello를 참조할 필요가 없다\n"
      ],
      "metadata": {
        "id": "1IPiX2Pt0-_2"
      },
      "execution_count": null,
      "outputs": []
    },
    {
      "cell_type": "code",
      "source": [
        "class A:\n",
        "    def one(self):\n",
        "        return 'one'\n",
        "\n",
        "class B(A):\n",
        "    def two(self):\n",
        "        return 'two'\n",
        "\n",
        "class C(B):\n",
        "    def three(self):\n",
        "        return 'three'\n",
        "\n",
        "c = C()\n",
        "c.one()\n",
        "c.two()\n",
        "c.three()"
      ],
      "metadata": {
        "colab": {
          "base_uri": "https://localhost:8080/",
          "height": 35
        },
        "id": "cuorhk6a1pt4",
        "outputId": "2282c74c-b8bd-4da4-e5eb-87d7b6011d26"
      },
      "execution_count": null,
      "outputs": [
        {
          "output_type": "execute_result",
          "data": {
            "text/plain": [
              "'one'"
            ],
            "application/vnd.google.colaboratory.intrinsic+json": {
              "type": "string"
            }
          },
          "metadata": {},
          "execution_count": 32
        }
      ]
    },
    {
      "cell_type": "code",
      "source": [
        "class A:\n",
        "    test = 0\n",
        "    def one(self):\n",
        "        return 'one'\n",
        "\n",
        "class B(A):\n",
        "    def two(self):\n",
        "        return 'two'\n",
        "\n",
        "class C(B):\n",
        "    def three(self):\n",
        "        return 'three'\n",
        "\n",
        "c = C()\n",
        "A.test = 300\n",
        "c.test  # 상속을 받을 때 내 메모리 영역의 값(보유하고있는)은 아닙니다! 참조 값입니다"
      ],
      "metadata": {
        "colab": {
          "base_uri": "https://localhost:8080/"
        },
        "id": "F7Tl7O2o4kWG",
        "outputId": "14f2caca-45af-4fb2-89f3-67818e553884"
      },
      "execution_count": null,
      "outputs": [
        {
          "output_type": "execute_result",
          "data": {
            "text/plain": [
              "300"
            ]
          },
          "metadata": {},
          "execution_count": 33
        }
      ]
    },
    {
      "cell_type": "code",
      "source": [
        "# 파이썬에서는 지원안한다\n",
        "# 오버로드 불가\n",
        "class A:\n",
        "    test = 0\n",
        "    def one(self):\n",
        "        return 'one'\n",
        "\n",
        "class B(A):\n",
        "    def two(self):\n",
        "        return 'two'\n",
        "\n",
        "    def one(self, x):\n",
        "        return x\n",
        "\n",
        "    def one(self, x, y):\n",
        "        return x + y\n",
        "\n",
        "c = C()\n",
        "c.one(3, 6)\n",
        "c.one(3)"
      ],
      "metadata": {
        "id": "kjwVxRzr5QWP"
      },
      "execution_count": null,
      "outputs": []
    },
    {
      "cell_type": "markdown",
      "source": [
        "# 다중상속"
      ],
      "metadata": {
        "id": "EceBc0HC6JtL"
      }
    },
    {
      "cell_type": "code",
      "source": [
        "class A:\n",
        "    def hello(self):\n",
        "        print('hello A')\n",
        "\n",
        "class B:\n",
        "    def hello(self):\n",
        "        print('hello B')\n",
        "\n",
        "class C(A, B):\n",
        "    pass\n",
        "\n",
        "c = C()\n",
        "c.hello()   #   주의! python의 코드의 특성상 hello B라고 오해할만합니다\n"
      ],
      "metadata": {
        "colab": {
          "base_uri": "https://localhost:8080/"
        },
        "id": "GFQMPE725-IV",
        "outputId": "ca1d7177-be14-4520-c192-5f41eb48fe25"
      },
      "execution_count": null,
      "outputs": [
        {
          "output_type": "stream",
          "name": "stdout",
          "text": [
            "hello A\n"
          ]
        }
      ]
    },
    {
      "cell_type": "code",
      "source": [
        "# 2.x때와 3.x때가 아래 다이아몬드 상속에 순서가 다릅니다\n",
        "class A:\n",
        "    def hello(self):\n",
        "        print('hello A')\n",
        "\n",
        "class B(A):\n",
        "    def hello(self):\n",
        "        print('hello B')\n",
        "\n",
        "class C(A):\n",
        "    def hello(self):\n",
        "        print('hello C')\n",
        "\n",
        "class D(B, C):\n",
        "    pass\n",
        "\n",
        "d = D()\n",
        "d.hello()\n",
        "D.mro()"
      ],
      "metadata": {
        "colab": {
          "base_uri": "https://localhost:8080/"
        },
        "id": "s0QRU0V57R0Y",
        "outputId": "baf207f9-ca44-4aae-911e-abd27c524b11"
      },
      "execution_count": null,
      "outputs": [
        {
          "output_type": "stream",
          "name": "stdout",
          "text": [
            "hello B\n"
          ]
        },
        {
          "output_type": "execute_result",
          "data": {
            "text/plain": [
              "[__main__.D, __main__.B, __main__.C, __main__.A, object]"
            ]
          },
          "metadata": {},
          "execution_count": 38
        }
      ]
    },
    {
      "cell_type": "code",
      "source": [
        "# 주의! python의 2.x와 3.x가 아래 다이아몬드 상속에 순서가 다릅니다.\n",
        "# 3.x에서는 hello C가, 2.x에서는 hello A가 출력됩니다.\n",
        "# 다만 2.x에서 A => class A(object)로 바꾸면 실행 순서는 같아집니다.\n",
        "class A:\n",
        "    def hello(self):\n",
        "        print('hello A')\n",
        "\n",
        "class B(A):\n",
        "    pass\n",
        "\n",
        "class C(A):\n",
        "    def hello(self):\n",
        "        print('hello C')\n",
        "\n",
        "class D(B, C):\n",
        "    pass\n",
        "\n",
        "d = D()\n",
        "d.hello()"
      ],
      "metadata": {
        "id": "hUqRYthcSOd9"
      },
      "execution_count": null,
      "outputs": []
    },
    {
      "cell_type": "code",
      "source": [
        "# 다중 상속을 했을 때 상속에서 error가 나는 경우(정상실행)\n",
        "class A:\n",
        "    def hello(self):\n",
        "        print('hello A')\n",
        "\n",
        "class B(A):\n",
        "    def hello(self):\n",
        "        print('hello B')\n",
        "\n",
        "class C(B):\n",
        "    def hello(self):\n",
        "        print('hello C')\n",
        "\n",
        "class D(C, B):\n",
        "    pass\n",
        "\n",
        "d = D()\n",
        "d.hello()"
      ],
      "metadata": {
        "colab": {
          "base_uri": "https://localhost:8080/"
        },
        "id": "ue90wqi48lei",
        "outputId": "81edf888-599c-439f-f523-72087f1916b6"
      },
      "execution_count": null,
      "outputs": [
        {
          "output_type": "stream",
          "name": "stdout",
          "text": [
            "hello C\n"
          ]
        }
      ]
    },
    {
      "cell_type": "code",
      "source": [
        "# 다중 상속을 했을 때 상속에서 error가 나는 경우\n",
        "class A:\n",
        "    def hello(self):\n",
        "        print('hello A')\n",
        "\n",
        "class B(A):\n",
        "    def hello(self):\n",
        "        print('hello B')\n",
        "\n",
        "class C(B):\n",
        "    def hello(self):\n",
        "        print('hello C')\n",
        "\n",
        "class D(B, C):\n",
        "    pass\n",
        "\n",
        "d = D()\n",
        "d.hello()"
      ],
      "metadata": {
        "colab": {
          "base_uri": "https://localhost:8080/",
          "height": 265
        },
        "id": "uagbefIy8yNA",
        "outputId": "cd72f4a3-cc09-47e8-9be0-331636fd203d"
      },
      "execution_count": null,
      "outputs": [
        {
          "output_type": "error",
          "ename": "TypeError",
          "evalue": "ignored",
          "traceback": [
            "\u001b[0;31m---------------------------------------------------------------------------\u001b[0m",
            "\u001b[0;31mTypeError\u001b[0m                                 Traceback (most recent call last)",
            "\u001b[0;32m<ipython-input-40-cc1782689ebc>\u001b[0m in \u001b[0;36m<cell line: 14>\u001b[0;34m()\u001b[0m\n\u001b[1;32m     12\u001b[0m         \u001b[0mprint\u001b[0m\u001b[0;34m(\u001b[0m\u001b[0;34m'hello C'\u001b[0m\u001b[0;34m)\u001b[0m\u001b[0;34m\u001b[0m\u001b[0;34m\u001b[0m\u001b[0m\n\u001b[1;32m     13\u001b[0m \u001b[0;34m\u001b[0m\u001b[0m\n\u001b[0;32m---> 14\u001b[0;31m \u001b[0;32mclass\u001b[0m \u001b[0mD\u001b[0m\u001b[0;34m(\u001b[0m\u001b[0mB\u001b[0m\u001b[0;34m,\u001b[0m \u001b[0mC\u001b[0m\u001b[0;34m)\u001b[0m\u001b[0;34m:\u001b[0m\u001b[0;34m\u001b[0m\u001b[0;34m\u001b[0m\u001b[0m\n\u001b[0m\u001b[1;32m     15\u001b[0m     \u001b[0;32mpass\u001b[0m\u001b[0;34m\u001b[0m\u001b[0;34m\u001b[0m\u001b[0m\n\u001b[1;32m     16\u001b[0m \u001b[0;34m\u001b[0m\u001b[0m\n",
            "\u001b[0;31mTypeError\u001b[0m: Cannot create a consistent method resolution\norder (MRO) for bases B, C"
          ]
        }
      ]
    },
    {
      "cell_type": "markdown",
      "source": [
        "# 연습문제\n",
        "\n",
        "게임에서 캐릭터를 구현할 예정입니다. 아래 클래스를 적절하게\n",
        "조합하여 hero 인스턴스와 villain 인스턴스를 만들어주세요.\n",
        "1. class Body(능력치)\n",
        "2. class Weapon(무기)\n",
        "3. class WeaponEnhancement(무기강화)\n",
        "4. class Skill(기술)\n",
        "5. class Equipment(장비)\n",
        "6. class Role(히어로인지, 빌런인지, 몹인지)"
      ],
      "metadata": {
        "id": "I-Iqt1sb9bFq"
      }
    },
    {
      "cell_type": "code",
      "source": [
        "class Weapon:\n",
        "    def setDamage(self, damage):\n",
        "        self.damage = damage\n",
        "\n",
        "class WeaponEnhancement(Weapon):\n",
        "    def setEnhance(self, enhance):\n",
        "        self.damage *= enhance\n",
        "\n",
        "class Equipment(WeaponEnhancement):\n",
        "    def Equip(self, name, damage, enhance):\n",
        "        self.weapon = name\n",
        "        self.damage = damage * enhance\n",
        "class Skill:\n",
        "    def setSkill(self, skill):\n",
        "        self.skill = skill\n",
        "\n",
        "class Role:\n",
        "    def setRole(self, role):\n",
        "        self.role = role\n",
        "\n",
        "class Character(Role, Skill, Equipment):\n",
        "    def __init__(self, role, hp, mp, skill, equip, damage, enhance):\n",
        "        self.setRole(role)\n",
        "        self.hp = hp\n",
        "        self.mp = mp\n",
        "        self.setSkill(skill)\n",
        "        self.Equip(equip, damage, enhance)\n",
        "\n",
        "hero = Character('hero', 100, 100, 'judgement', 'gun', 110, 5)\n",
        "villain = Character('villain', 100, 100, 'slaught', 'sword', 100, 4)"
      ],
      "metadata": {
        "id": "LxWWXqLf9Zte"
      },
      "execution_count": null,
      "outputs": []
    },
    {
      "cell_type": "code",
      "source": [
        "class Weapon:\n",
        "    def setDamage(self, damage):\n",
        "        self.damage = damage\n",
        "\n",
        "class WeaponEnhancement(Weapon):\n",
        "    def setEnhance(self, success):\n",
        "        if success == True:\n",
        "            self.damage *= 5\n",
        "        else:\n",
        "            self.damage = 0\n",
        "\n",
        "\n",
        "class Equipment(WeaponEnhancement):\n",
        "    pass\n",
        "\n",
        "\n",
        "class Skill:\n",
        "    def jarvis(self):\n",
        "        return '자비스! 도와줘!'\n",
        "\n",
        "    def beam(self):\n",
        "        return '나가라 빔!'\n",
        "\n",
        "\n",
        "class Role:\n",
        "    def setRole(self, role):\n",
        "        self.role = role\n",
        "\n",
        "\n",
        "class Body(Role, Skill, Equipment):\n",
        "    def __init__(self, role, hp, mp):\n",
        "        self.setRole(role)\n",
        "        self.hp = hp\n",
        "\n",
        "ironman = Body('hero', 100, 100)\n",
        "thanos = Body('villain', 100, 100)\n",
        "\n",
        "ironman.jarvis()\n",
        "ironman.setDamage(1000)\n",
        "ironman.damage\n",
        "ironman.setEnhance(True)\n",
        "ironman.damage\n",
        "ironman.hp\n",
        "ironman.role"
      ],
      "metadata": {
        "colab": {
          "base_uri": "https://localhost:8080/",
          "height": 35
        },
        "id": "Bqrvw6TeF5q5",
        "outputId": "18a7023b-4d4e-478e-dba8-b2e44664c9dc"
      },
      "execution_count": null,
      "outputs": [
        {
          "output_type": "execute_result",
          "data": {
            "text/plain": [
              "'hero'"
            ],
            "application/vnd.google.colaboratory.intrinsic+json": {
              "type": "string"
            }
          },
          "metadata": {},
          "execution_count": 53
        }
      ]
    },
    {
      "cell_type": "markdown",
      "source": [
        "# 0918 문제\n",
        "\n",
        "문제 1:\n",
        "동물 클래스 Animal을 만들고 어주세요. Dog와 Cat 클래스를 각각 정의하십시오.\n",
        "\n",
        "Animal 클래스는 name 속성을 가집니다. 이 클래스는 make_sound 메서드를 갖고 있습니다.\n",
        "\n",
        "Dog와 Cat 클래스는 Animal 클래스를 상속받는 클래스입니다.Dog 클래스의 make_sound 메서드는 \"멍멍!\"을, Cat 클래스의 make_sound 메서드는 \"야옹!\"을 출력하도록 재정의하세요.\n"
      ],
      "metadata": {
        "id": "FK15v-2TLVmp"
      }
    },
    {
      "cell_type": "code",
      "source": [
        "class Animal:\n",
        "    def name(self, name):\n",
        "        self.name = name\n",
        "\n",
        "    def make_sound(self):\n",
        "        return print(\"\")\n",
        "\n",
        "\n",
        "\n",
        "class Dog(Animal):\n",
        "    def __init__(self, name):\n",
        "        self.name(name)\n",
        "\n",
        "    def make_sound(self):\n",
        "        return print(\"멍멍\")\n",
        "\n",
        "class Cat(Animal):\n",
        "    def __init__(self, name):\n",
        "        self.name(name)\n",
        "\n",
        "    def make_sound(self):\n",
        "        return print(\"야옹\")\n",
        "\n",
        "dog = Dog('a')\n",
        "cat = Cat('a')\n",
        "dog.make_sound()\n",
        "cat.make_sound()"
      ],
      "metadata": {
        "colab": {
          "base_uri": "https://localhost:8080/"
        },
        "id": "-BW1obqILc7o",
        "outputId": "60d34660-0755-4f42-a4cc-9c23f4b46119"
      },
      "execution_count": null,
      "outputs": [
        {
          "output_type": "stream",
          "name": "stdout",
          "text": [
            "멍멍\n",
            "야옹\n"
          ]
        }
      ]
    },
    {
      "cell_type": "markdown",
      "source": [
        "# 0918문제\n",
        "문제 2: Person이라는 기본 클래스를 만들어주세요. Person 클래스는 이름과 나이라는 두 개의 속성과 소개하기라는 메서드를 가지며, 이 메서드는 \"Hello World!, 제 이름은 [이름]이고 제 나이는 [나이]살 입니다.\"라는 메시지를 출력합니다.\n",
        "\n",
        "Person 클래스를 상속받는 Student 클래스를 정의하십시오. Student 클래스는 추가적으로 학년 속성을 가집니다. Student 클래스에서 소개하기 메서드를 오버라이드하여 \"Hello World!, 제 이름은 [이름]이고 제 나이는 [나이]살 입니다. 그리고 저는 [학년]학년입니다. \"라는 메시지를 출력하도록 만드세요."
      ],
      "metadata": {
        "id": "e5cZAAcYQKPf"
      }
    },
    {
      "cell_type": "code",
      "source": [
        "class Person:\n",
        "    def __init__(self, name, age):\n",
        "        self.name = name\n",
        "        self.age = age\n",
        "\n",
        "    # def info(self, name, age):\n",
        "    #     self.name = name\n",
        "    #     self.age = age\n",
        "\n",
        "    def hi(self):\n",
        "        print(f'\"Hello World!, 제 이름은 {self.name}이고 제 나이는 {self.age}살 입니다.\"')\n",
        "\n",
        "class Student(Person):\n",
        "    def __init__(self, name, age, grade):\n",
        "        self.name = name\n",
        "        self.age = age\n",
        "        # self.info(name, age)\n",
        "        self.grade = grade\n",
        "\n",
        "    def hi(self):\n",
        "        print(f'\"Hello World!, 제 이름은 {self.name}이고 제 나이는 {self.age}살 입니다.그리고 저는 {self.grade}학년입니다\"')\n",
        "\n",
        "\n",
        "p = Person('수영', 17)\n",
        "p.hi()\n",
        "s = Student('수민', 16 ,3)\n",
        "s.hi()"
      ],
      "metadata": {
        "colab": {
          "base_uri": "https://localhost:8080/"
        },
        "id": "wrd9V9x6QEx6",
        "outputId": "648a16a7-8d22-4599-be5f-28ae3b394f14"
      },
      "execution_count": null,
      "outputs": [
        {
          "output_type": "stream",
          "name": "stdout",
          "text": [
            "\"Hello World!, 제 이름은 수영이고 제 나이는 17살 입니다.\"\n",
            "\"Hello World!, 제 이름은 수민이고 제 나이는 16살 입니다.그리고 저는 3학년입니다\"\n"
          ]
        }
      ]
    }
  ]
}