{
  "nbformat": 4,
  "nbformat_minor": 0,
  "metadata": {
    "colab": {
      "provenance": []
    },
    "kernelspec": {
      "name": "python3",
      "display_name": "Python 3"
    },
    "language_info": {
      "name": "python"
    }
  },
  "cells": [
    {
      "cell_type": "code",
      "execution_count": null,
      "metadata": {
        "colab": {
          "base_uri": "https://localhost:8080/"
        },
        "id": "dR9q6kSejslD",
        "outputId": "c5ab19b4-0a4f-4ddb-b942-839435dd974f"
      },
      "outputs": [
        {
          "output_type": "stream",
          "name": "stdout",
          "text": [
            "생선을 잡ㅇ아보자!\n"
          ]
        }
      ],
      "source": [
        "## 함수 안에 함수 만들기\n",
        "\n",
        "def print_text():\n",
        "    text = '생선을 잡아보자!'\n",
        "    def txt():\n",
        "        print(text)\n",
        "    txt()\n",
        "\n",
        "print_text()"
      ]
    },
    {
      "cell_type": "code",
      "source": [
        "def 생선잡기():\n",
        "    fish = {'a':0, 'b':0, 'c':0}\n",
        "    def 낚시():\n",
        "        fish['a'] += 1\n",
        "\n",
        "    def 그물():\n",
        "        fish['b'] +=1\n",
        "\n",
        "    def 통발():\n",
        "        fish['c'] += 1\n",
        "    return 낚시 + 그물 + 통발"
      ],
      "metadata": {
        "id": "CJLO-1vsj7Y7"
      },
      "execution_count": null,
      "outputs": []
    }
  ]
}