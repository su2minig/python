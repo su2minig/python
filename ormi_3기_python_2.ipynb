{
  "nbformat": 4,
  "nbformat_minor": 0,
  "metadata": {
    "colab": {
      "provenance": []
    },
    "kernelspec": {
      "name": "python3",
      "display_name": "Python 3"
    },
    "language_info": {
      "name": "python"
    }
  },
  "cells": [
    {
      "cell_type": "markdown",
      "source": [
        "# 연산과 구문"
      ],
      "metadata": {
        "id": "oZ_3Ivk9vjnD"
      }
    },
    {
      "cell_type": "markdown",
      "source": [
        "# 산술 연산자"
      ],
      "metadata": {
        "id": "XiOGZ4slvnMA"
      }
    },
    {
      "cell_type": "code",
      "source": [
        "{'one':1} + {'two':2} # error\n",
        "{5} + {6} # error"
      ],
      "metadata": {
        "id": "K-H9M663vmRI"
      },
      "execution_count": null,
      "outputs": []
    },
    {
      "cell_type": "code",
      "source": [
        "7 - 4"
      ],
      "metadata": {
        "colab": {
          "base_uri": "https://localhost:8080/"
        },
        "id": "EuZwzTp0wK0M",
        "outputId": "0eaae7ad-908b-4c8c-cda5-0b84ab4fc0c4"
      },
      "execution_count": null,
      "outputs": [
        {
          "output_type": "execute_result",
          "data": {
            "text/plain": [
              "3"
            ]
          },
          "metadata": {},
          "execution_count": 2
        }
      ]
    },
    {
      "cell_type": "code",
      "source": [
        "7 -- 4"
      ],
      "metadata": {
        "colab": {
          "base_uri": "https://localhost:8080/"
        },
        "id": "lQV5LC7swWig",
        "outputId": "bedc2ff3-654b-4b8e-a486-2912cf171ccb"
      },
      "execution_count": null,
      "outputs": [
        {
          "output_type": "execute_result",
          "data": {
            "text/plain": [
              "11"
            ]
          },
          "metadata": {},
          "execution_count": 4
        }
      ]
    },
    {
      "cell_type": "code",
      "source": [
        "7 --- 4"
      ],
      "metadata": {
        "colab": {
          "base_uri": "https://localhost:8080/"
        },
        "id": "S7JDEoi-wYtK",
        "outputId": "4591656c-b245-4947-8a56-cbcf9a5b9acf"
      },
      "execution_count": null,
      "outputs": [
        {
          "output_type": "execute_result",
          "data": {
            "text/plain": [
              "3"
            ]
          },
          "metadata": {},
          "execution_count": 5
        }
      ]
    },
    {
      "cell_type": "code",
      "source": [
        "-2 * 2"
      ],
      "metadata": {
        "colab": {
          "base_uri": "https://localhost:8080/"
        },
        "id": "lxZDpcZ2wa4S",
        "outputId": "5fedd328-b1d2-48c4-8f61-a31e6c1b41aa"
      },
      "execution_count": null,
      "outputs": [
        {
          "output_type": "execute_result",
          "data": {
            "text/plain": [
              "-4"
            ]
          },
          "metadata": {},
          "execution_count": 6
        }
      ]
    },
    {
      "cell_type": "code",
      "source": [
        "-2 ** 2 #주의 매우주의"
      ],
      "metadata": {
        "colab": {
          "base_uri": "https://localhost:8080/"
        },
        "id": "LbIggmo8wwDW",
        "outputId": "fc76a07d-1d0a-4ebf-a8a3-fc3e157d2cbe"
      },
      "execution_count": null,
      "outputs": [
        {
          "output_type": "execute_result",
          "data": {
            "text/plain": [
              "-4"
            ]
          },
          "metadata": {},
          "execution_count": 7
        }
      ]
    },
    {
      "cell_type": "code",
      "source": [
        "(-2)**2"
      ],
      "metadata": {
        "colab": {
          "base_uri": "https://localhost:8080/"
        },
        "id": "585jaeevwz74",
        "outputId": "651d0b74-6d5f-4c7b-9221-9c4da4868e09"
      },
      "execution_count": null,
      "outputs": [
        {
          "output_type": "execute_result",
          "data": {
            "text/plain": [
              "4"
            ]
          },
          "metadata": {},
          "execution_count": 9
        }
      ]
    },
    {
      "cell_type": "code",
      "source": [
        "result = \"Ha\" * 3\n",
        "print(result) # 결과: \"HaHaHa\""
      ],
      "metadata": {
        "colab": {
          "base_uri": "https://localhost:8080/"
        },
        "id": "dcZJ7BWXw32X",
        "outputId": "ff0d7c8d-0800-4e24-c834-895c4917dd35"
      },
      "execution_count": null,
      "outputs": [
        {
          "output_type": "stream",
          "name": "stdout",
          "text": [
            "HaHaHa\n"
          ]
        }
      ]
    },
    {
      "cell_type": "code",
      "source": [
        "list1 = [1, 2, 4]\n",
        "list2 = [3, 5, 6]\n",
        "combined_list = list1 + list2\n",
        "print(combined_list)  # [1, 2, 3, 4, 5, 6]\n"
      ],
      "metadata": {
        "colab": {
          "base_uri": "https://localhost:8080/"
        },
        "id": "BaljLkhKxNS_",
        "outputId": "b349e0a8-fd36-48d0-d76f-e5de4fb41169"
      },
      "execution_count": null,
      "outputs": [
        {
          "output_type": "stream",
          "name": "stdout",
          "text": [
            "[1, 2, 4, 3, 5, 6]\n"
          ]
        }
      ]
    },
    {
      "cell_type": "code",
      "source": [
        "tuple1 = (1, 2, 4)\n",
        "tuple2 = (3, 5, 6)\n",
        "combined_tuple = tuple1 + tuple2\n",
        "print(combined_tuple)  # (1, 2, 3, 4, 5, 6)\n"
      ],
      "metadata": {
        "colab": {
          "base_uri": "https://localhost:8080/"
        },
        "id": "dfLON2eyxFDi",
        "outputId": "4a2ea538-cd25-4e39-93f3-bb38f5e4d36f"
      },
      "execution_count": null,
      "outputs": [
        {
          "output_type": "stream",
          "name": "stdout",
          "text": [
            "(1, 2, 4, 3, 5, 6)\n"
          ]
        }
      ]
    },
    {
      "cell_type": "code",
      "source": [
        "a = 10\n",
        "b = 2\n",
        "print(a / b) # 결과 5.0\n",
        "print(a // b) #결과 5 (JavaScript에서 //는 주석이라 이 연산이 없다.)"
      ],
      "metadata": {
        "id": "xU__eGp-xk3d"
      },
      "execution_count": null,
      "outputs": []
    },
    {
      "cell_type": "code",
      "source": [
        "# python에 //은 몫을 나타내는 것이 아니다\n",
        "# 내림\n",
        "a = -5\n",
        "b = 2\n",
        "print(a // b) # 결과 -3"
      ],
      "metadata": {
        "id": "WRkN7dW4xzJF"
      },
      "execution_count": null,
      "outputs": []
    },
    {
      "cell_type": "code",
      "source": [
        "10 / 0 # 수학적으로 0으로 나누는 것이 정의되지 않았기 때문입니다. error : ZeroDivisionError 발생"
      ],
      "metadata": {
        "colab": {
          "base_uri": "https://localhost:8080/",
          "height": 178
        },
        "id": "z5lhwfdtyXTU",
        "outputId": "e8ef835d-d7e8-47a1-e24d-b471c9e18112"
      },
      "execution_count": null,
      "outputs": [
        {
          "output_type": "error",
          "ename": "ZeroDivisionError",
          "evalue": "ignored",
          "traceback": [
            "\u001b[0;31m---------------------------------------------------------------------------\u001b[0m",
            "\u001b[0;31mZeroDivisionError\u001b[0m                         Traceback (most recent call last)",
            "\u001b[0;32m<ipython-input-14-4754281f0f64>\u001b[0m in \u001b[0;36m<cell line: 1>\u001b[0;34m()\u001b[0m\n\u001b[0;32m----> 1\u001b[0;31m \u001b[0;36m10\u001b[0m \u001b[0;34m/\u001b[0m \u001b[0;36m0\u001b[0m \u001b[0;31m# 수학적으로 0으로 나누는 것이 정의되지 않았기 때문입니다. error\u001b[0m\u001b[0;34m\u001b[0m\u001b[0;34m\u001b[0m\u001b[0m\n\u001b[0m",
            "\u001b[0;31mZeroDivisionError\u001b[0m: division by zero"
          ]
        }
      ]
    },
    {
      "cell_type": "code",
      "source": [
        "10.123 // 1"
      ],
      "metadata": {
        "colab": {
          "base_uri": "https://localhost:8080/"
        },
        "id": "-Y1lco95yjkS",
        "outputId": "f334ab0c-fd3f-42b9-ba87-3a911c4561e7"
      },
      "execution_count": null,
      "outputs": [
        {
          "output_type": "execute_result",
          "data": {
            "text/plain": [
              "10.0"
            ]
          },
          "metadata": {},
          "execution_count": 15
        }
      ]
    },
    {
      "cell_type": "code",
      "source": [
        "-10.123 // 1"
      ],
      "metadata": {
        "colab": {
          "base_uri": "https://localhost:8080/"
        },
        "id": "12Xy5_R91CmD",
        "outputId": "fce53846-7c6c-4105-b4a9-2f9b74734332"
      },
      "execution_count": null,
      "outputs": [
        {
          "output_type": "execute_result",
          "data": {
            "text/plain": [
              "-11.0"
            ]
          },
          "metadata": {},
          "execution_count": 16
        }
      ]
    },
    {
      "cell_type": "code",
      "source": [
        "a = 10\n",
        "b = 3\n",
        "divide = a / b\n",
        "print(f'{a} ÷ {b} = {divide:.2f}')  # 결과: 10 ÷ 3 = 3.33"
      ],
      "metadata": {
        "colab": {
          "base_uri": "https://localhost:8080/"
        },
        "id": "xnnucZzA1DoP",
        "outputId": "a7df84e3-be41-45c0-e2c9-de88658a0c2c"
      },
      "execution_count": null,
      "outputs": [
        {
          "output_type": "stream",
          "name": "stdout",
          "text": [
            "10 ÷ 3 = 3.33\n"
          ]
        }
      ]
    },
    {
      "cell_type": "code",
      "source": [
        "10 % 3.3 #부동소수점"
      ],
      "metadata": {
        "colab": {
          "base_uri": "https://localhost:8080/"
        },
        "id": "gHiOEv261pz5",
        "outputId": "2bac7328-e8e5-48ca-ef87-04a1080739f8"
      },
      "execution_count": null,
      "outputs": [
        {
          "output_type": "execute_result",
          "data": {
            "text/plain": [
              "0.10000000000000053"
            ]
          },
          "metadata": {},
          "execution_count": 18
        }
      ]
    },
    {
      "cell_type": "code",
      "source": [
        "(100 % 33) / 10 # 소숫점 1자리까지 출력"
      ],
      "metadata": {
        "colab": {
          "base_uri": "https://localhost:8080/"
        },
        "id": "pNocdv3E1r3y",
        "outputId": "86d134ae-4f60-4a49-8ffc-54b9dee5d4f8"
      },
      "execution_count": null,
      "outputs": [
        {
          "output_type": "execute_result",
          "data": {
            "text/plain": [
              "0.1"
            ]
          },
          "metadata": {},
          "execution_count": 20
        }
      ]
    },
    {
      "cell_type": "code",
      "source": [
        "(1000 % 330) / 100 #소수점 2자리까지"
      ],
      "metadata": {
        "colab": {
          "base_uri": "https://localhost:8080/"
        },
        "id": "VNXtHQvm18HV",
        "outputId": "08dbfc91-7c73-4478-9175-e6053cd064bb"
      },
      "execution_count": null,
      "outputs": [
        {
          "output_type": "execute_result",
          "data": {
            "text/plain": [
              "0.1"
            ]
          },
          "metadata": {},
          "execution_count": 19
        }
      ]
    },
    {
      "cell_type": "code",
      "source": [
        "10 % 0 # ZeroDivisionError"
      ],
      "metadata": {
        "colab": {
          "base_uri": "https://localhost:8080/",
          "height": 178
        },
        "id": "VQMKkPpv2FZh",
        "outputId": "8ee441a1-8cd3-4f42-8b83-a290581a9f37"
      },
      "execution_count": null,
      "outputs": [
        {
          "output_type": "error",
          "ename": "ZeroDivisionError",
          "evalue": "ignored",
          "traceback": [
            "\u001b[0;31m---------------------------------------------------------------------------\u001b[0m",
            "\u001b[0;31mZeroDivisionError\u001b[0m                         Traceback (most recent call last)",
            "\u001b[0;32m<ipython-input-21-0924ed824179>\u001b[0m in \u001b[0;36m<cell line: 1>\u001b[0;34m()\u001b[0m\n\u001b[0;32m----> 1\u001b[0;31m \u001b[0;36m10\u001b[0m \u001b[0;34m%\u001b[0m \u001b[0;36m0\u001b[0m \u001b[0;31m#zerod\u001b[0m\u001b[0;34m\u001b[0m\u001b[0;34m\u001b[0m\u001b[0m\n\u001b[0m",
            "\u001b[0;31mZeroDivisionError\u001b[0m: integer division or modulo by zero"
          ]
        }
      ]
    },
    {
      "cell_type": "code",
      "source": [
        "5 == '5' # False"
      ],
      "metadata": {
        "colab": {
          "base_uri": "https://localhost:8080/"
        },
        "id": "GwH9d80n2M66",
        "outputId": "a6033aa2-62ab-40d2-f789-c0853e2b1e59"
      },
      "execution_count": null,
      "outputs": [
        {
          "output_type": "execute_result",
          "data": {
            "text/plain": [
              "False"
            ]
          },
          "metadata": {},
          "execution_count": 22
        }
      ]
    },
    {
      "cell_type": "code",
      "source": [
        "print('apple' < 'banana') # 결과: True  유니코드기반"
      ],
      "metadata": {
        "colab": {
          "base_uri": "https://localhost:8080/"
        },
        "id": "8VrSxjtD2to9",
        "outputId": "0be76e2f-639d-4ddf-a7d4-ab07fbd56906"
      },
      "execution_count": null,
      "outputs": [
        {
          "output_type": "stream",
          "name": "stdout",
          "text": [
            "True\n"
          ]
        }
      ]
    },
    {
      "cell_type": "code",
      "source": [
        "print('apple' < 'applee') # 결과: True"
      ],
      "metadata": {
        "colab": {
          "base_uri": "https://localhost:8080/"
        },
        "id": "A5Y8chxW3JQK",
        "outputId": "13bb4438-5b1a-46ac-e809-69e8612e8a68"
      },
      "execution_count": null,
      "outputs": [
        {
          "output_type": "stream",
          "name": "stdout",
          "text": [
            "True\n"
          ]
        }
      ]
    },
    {
      "cell_type": "code",
      "source": [
        "print('한' < '후')"
      ],
      "metadata": {
        "colab": {
          "base_uri": "https://localhost:8080/"
        },
        "id": "gIigbWj13Kk_",
        "outputId": "5a1d255c-df19-45f9-ee3f-31af4f3a50a7"
      },
      "execution_count": null,
      "outputs": [
        {
          "output_type": "stream",
          "name": "stdout",
          "text": [
            "True\n"
          ]
        }
      ]
    },
    {
      "cell_type": "code",
      "source": [
        "print([10, 20, 30, 35] < [10, 20, 30, 40])"
      ],
      "metadata": {
        "colab": {
          "base_uri": "https://localhost:8080/"
        },
        "id": "iIgw4tE83NKT",
        "outputId": "8b98225c-6449-4bed-9b61-3a91361676da"
      },
      "execution_count": null,
      "outputs": [
        {
          "output_type": "stream",
          "name": "stdout",
          "text": [
            "True\n"
          ]
        }
      ]
    },
    {
      "cell_type": "code",
      "source": [
        "print([10, 20, 30] < [10, 20, 30, 40]) # True\n",
        "print([10, 20, 35] < [10, 20, 30, 40]) # False"
      ],
      "metadata": {
        "colab": {
          "base_uri": "https://localhost:8080/"
        },
        "id": "2nDDmluZ3UeZ",
        "outputId": "35478e75-8b44-4204-fa10-94cc02d8753c"
      },
      "execution_count": null,
      "outputs": [
        {
          "output_type": "stream",
          "name": "stdout",
          "text": [
            "True\n",
            "False\n"
          ]
        }
      ]
    },
    {
      "cell_type": "code",
      "source": [
        "x = 10\n",
        "5 < x < 15"
      ],
      "metadata": {
        "colab": {
          "base_uri": "https://localhost:8080/"
        },
        "id": "Y17Q_7vU4B-0",
        "outputId": "dc0cb6c4-1bb3-40f9-c941-26c37c78c6ee"
      },
      "execution_count": null,
      "outputs": [
        {
          "output_type": "execute_result",
          "data": {
            "text/plain": [
              "True"
            ]
          },
          "metadata": {},
          "execution_count": 30
        }
      ]
    },
    {
      "cell_type": "code",
      "source": [
        "4 < x < 9"
      ],
      "metadata": {
        "colab": {
          "base_uri": "https://localhost:8080/"
        },
        "id": "rFFLVcQg4EFK",
        "outputId": "247bd6e5-279c-4344-bcf1-2355d22e5828"
      },
      "execution_count": null,
      "outputs": [
        {
          "output_type": "execute_result",
          "data": {
            "text/plain": [
              "False"
            ]
          },
          "metadata": {},
          "execution_count": 32
        }
      ]
    },
    {
      "cell_type": "markdown",
      "source": [
        "# 논리 연산자"
      ],
      "metadata": {
        "id": "_0KeiGCi4eKJ"
      }
    },
    {
      "cell_type": "code",
      "source": [
        "# and , or , not\n",
        "# True => 1 False => 0\n",
        "print(True and False) # False\n",
        "print(True and True)  # True\n",
        "print(True or False)  # True\n",
        "print(True or True)   # True\n",
        "print(not True)\n",
        "print(not False)\n"
      ],
      "metadata": {
        "colab": {
          "base_uri": "https://localhost:8080/"
        },
        "id": "9gbZi76A4QfD",
        "outputId": "9bc0e40f-4b29-4f9b-9e10-e80d5520c748"
      },
      "execution_count": null,
      "outputs": [
        {
          "output_type": "stream",
          "name": "stdout",
          "text": [
            "False\n",
            "True\n",
            "True\n",
            "True\n",
            "False\n",
            "True\n"
          ]
        }
      ]
    },
    {
      "cell_type": "code",
      "source": [
        "for i in range(101):\n",
        "    if i % 3 == 0 and i % 5 == 0:\n",
        "        print(i)"
      ],
      "metadata": {
        "id": "Svdd1AMP5RJk"
      },
      "execution_count": null,
      "outputs": []
    },
    {
      "cell_type": "code",
      "source": [
        "for i in range(101):\n",
        "    if i % 3 == 0:\n",
        "        if i % 5 == 0:\n",
        "            print(i)\n",
        " #if 중첩은 and로 줄여서 사용 가능하다\n",
        "for i in range(101):\n",
        "    if i % 3 == 0 and i % 5 == 0:\n",
        "        print(i)"
      ],
      "metadata": {
        "colab": {
          "base_uri": "https://localhost:8080/"
        },
        "id": "mw3anMY-5bIJ",
        "outputId": "04a503ab-698e-4f51-8d88-33bfac2523c5"
      },
      "execution_count": null,
      "outputs": [
        {
          "output_type": "stream",
          "name": "stdout",
          "text": [
            "0\n",
            "15\n",
            "30\n",
            "45\n",
            "60\n",
            "75\n",
            "90\n",
            "0\n",
            "15\n",
            "30\n",
            "45\n",
            "60\n",
            "75\n",
            "90\n"
          ]
        }
      ]
    },
    {
      "cell_type": "code",
      "source": [
        "# https://codingdojang.com/scode/350?answer_mode=hide\n",
        "for i in range(101):\n",
        "    if i % 3 == 0 or i % 5 == 0:\n",
        "        print(sum)"
      ],
      "metadata": {
        "colab": {
          "base_uri": "https://localhost:8080/",
          "height": 230
        },
        "id": "yLC9BrTz6Dui",
        "outputId": "623df92b-699c-47e9-a374-f9dc9b2a7089"
      },
      "execution_count": null,
      "outputs": [
        {
          "output_type": "error",
          "ename": "TypeError",
          "evalue": "ignored",
          "traceback": [
            "\u001b[0;31m---------------------------------------------------------------------------\u001b[0m",
            "\u001b[0;31mTypeError\u001b[0m                                 Traceback (most recent call last)",
            "\u001b[0;32m<ipython-input-38-8d061ba9d5ff>\u001b[0m in \u001b[0;36m<cell line: 2>\u001b[0;34m()\u001b[0m\n\u001b[1;32m      2\u001b[0m \u001b[0;32mfor\u001b[0m \u001b[0mi\u001b[0m \u001b[0;32min\u001b[0m \u001b[0mrange\u001b[0m\u001b[0;34m(\u001b[0m\u001b[0;36m101\u001b[0m\u001b[0;34m)\u001b[0m\u001b[0;34m:\u001b[0m\u001b[0;34m\u001b[0m\u001b[0;34m\u001b[0m\u001b[0m\n\u001b[1;32m      3\u001b[0m     \u001b[0;32mif\u001b[0m \u001b[0mi\u001b[0m \u001b[0;34m%\u001b[0m \u001b[0;36m3\u001b[0m \u001b[0;34m==\u001b[0m \u001b[0;36m0\u001b[0m \u001b[0;32mor\u001b[0m \u001b[0mi\u001b[0m \u001b[0;34m%\u001b[0m \u001b[0;36m5\u001b[0m \u001b[0;34m==\u001b[0m \u001b[0;36m0\u001b[0m\u001b[0;34m:\u001b[0m\u001b[0;34m\u001b[0m\u001b[0;34m\u001b[0m\u001b[0m\n\u001b[0;32m----> 4\u001b[0;31m         \u001b[0msum\u001b[0m \u001b[0;34m=\u001b[0m \u001b[0msum\u001b[0m \u001b[0;34m+\u001b[0m \u001b[0mi\u001b[0m\u001b[0;34m\u001b[0m\u001b[0;34m\u001b[0m\u001b[0m\n\u001b[0m\u001b[1;32m      5\u001b[0m         \u001b[0mprint\u001b[0m\u001b[0;34m(\u001b[0m\u001b[0msum\u001b[0m\u001b[0;34m)\u001b[0m\u001b[0;34m\u001b[0m\u001b[0;34m\u001b[0m\u001b[0m\n",
            "\u001b[0;31mTypeError\u001b[0m: unsupported operand type(s) for +: 'builtin_function_or_method' and 'int'"
          ]
        }
      ]
    },
    {
      "cell_type": "code",
      "source": [
        "# 여기서부터는 나아가기\n",
        "\n",
        "a = True\n",
        "b = False\n",
        "\n",
        "a and b and ccc and ddd # a and b << 이미 False가 나왔으므로\n",
        "                        # python에서는 뒤에 코드를 실행하지않는다 고로 없는 변수를 사용해도 에러 발생 x\n",
        "                        # 디버깅 할 때 조심"
      ],
      "metadata": {
        "colab": {
          "base_uri": "https://localhost:8080/"
        },
        "id": "0JJ8HhGC6hQn",
        "outputId": "b4d7e4ee-3ac0-457f-de08-33885ded4afd"
      },
      "execution_count": null,
      "outputs": [
        {
          "output_type": "execute_result",
          "data": {
            "text/plain": [
              "0"
            ]
          },
          "metadata": {},
          "execution_count": 39
        }
      ]
    },
    {
      "cell_type": "code",
      "source": [
        "a = True\n",
        "b = False\n",
        "c = False\n",
        "a or (b and c)"
      ],
      "metadata": {
        "colab": {
          "base_uri": "https://localhost:8080/"
        },
        "id": "BtC3jhJU7Gf0",
        "outputId": "02554d38-36d9-4567-f8cd-72ffe14e19aa"
      },
      "execution_count": null,
      "outputs": [
        {
          "output_type": "execute_result",
          "data": {
            "text/plain": [
              "True"
            ]
          },
          "metadata": {},
          "execution_count": 44
        }
      ]
    },
    {
      "cell_type": "code",
      "source": [
        "a = True\n",
        "b = False\n",
        "c = False\n",
        "d = True\n",
        "(a and b) or (c and d)"
      ],
      "metadata": {
        "colab": {
          "base_uri": "https://localhost:8080/"
        },
        "id": "LvGPP32L8Yez",
        "outputId": "71334a61-fada-4a76-8b4c-ae05fed1d8a2"
      },
      "execution_count": null,
      "outputs": [
        {
          "output_type": "execute_result",
          "data": {
            "text/plain": [
              "False"
            ]
          },
          "metadata": {},
          "execution_count": 46
        }
      ]
    },
    {
      "cell_type": "code",
      "source": [
        "a = True\n",
        "b = False\n",
        "c = False\n",
        "d = True\n",
        "\n",
        "(a and (not b)) or (c and d)"
      ],
      "metadata": {
        "id": "nDaSxePU8lPz"
      },
      "execution_count": null,
      "outputs": []
    },
    {
      "cell_type": "code",
      "source": [
        "# 단락회로평가\n",
        "\n",
        "a = 'hello' #True로 본다\n",
        "b = ''\n",
        "\n",
        "a or b  # a가 True이므로 a까지만보고 or뒤는 보지않는다"
      ],
      "metadata": {
        "id": "wGZpsmAq8Iol"
      },
      "execution_count": null,
      "outputs": []
    },
    {
      "cell_type": "code",
      "source": [
        "# 단락회로평가\n",
        "\n",
        "a = ''\n",
        "b = 'world' #True로 본다\n",
        "\n",
        "a or b  # a가 False이므로 뒤까지 확인"
      ],
      "metadata": {
        "id": "NYYspiY59kQP"
      },
      "execution_count": null,
      "outputs": []
    },
    {
      "cell_type": "code",
      "source": [
        "username = ''\n",
        "\n",
        "username = username or '이름을 정하지 않았습니다'\n",
        "username"
      ],
      "metadata": {
        "id": "1LmTVPSE94jW"
      },
      "execution_count": null,
      "outputs": []
    },
    {
      "cell_type": "code",
      "source": [
        "username = 'licat'\n",
        "\n",
        "username = username or '이름을 정하지 않았습니다'\n",
        "username"
      ],
      "metadata": {
        "id": "U0lJE7Xo9-Bk"
      },
      "execution_count": null,
      "outputs": []
    },
    {
      "cell_type": "code",
      "source": [
        "# result = functionA() or functionB()\n",
        "# 앞에 값이 None이나 0이 아니라면 뒤에 값으로 result를 만들겠다"
      ],
      "metadata": {
        "id": "sXwmMwPa-AGP"
      },
      "execution_count": null,
      "outputs": []
    },
    {
      "cell_type": "markdown",
      "source": [
        "# 할당연산"
      ],
      "metadata": {
        "id": "utBnGYjp-b2_"
      }
    },
    {
      "cell_type": "code",
      "source": [
        "x = 10\n",
        "y = 20"
      ],
      "metadata": {
        "id": "mM4rx3NY-dGT"
      },
      "execution_count": null,
      "outputs": []
    },
    {
      "cell_type": "code",
      "source": [
        "x = x + 1\n",
        "x"
      ],
      "metadata": {
        "colab": {
          "base_uri": "https://localhost:8080/"
        },
        "id": "1BJUJc5i-dPX",
        "outputId": "a0be8f7a-debe-4515-9963-43e9188ae59c"
      },
      "execution_count": null,
      "outputs": [
        {
          "output_type": "execute_result",
          "data": {
            "text/plain": [
              "11"
            ]
          },
          "metadata": {},
          "execution_count": 2
        }
      ]
    },
    {
      "cell_type": "code",
      "source": [
        "x += 1\n",
        "x"
      ],
      "metadata": {
        "colab": {
          "base_uri": "https://localhost:8080/"
        },
        "id": "qGiI5reO_D96",
        "outputId": "58d98307-f40e-4e00-ad5b-899be08341a9"
      },
      "execution_count": null,
      "outputs": [
        {
          "output_type": "execute_result",
          "data": {
            "text/plain": [
              "12"
            ]
          },
          "metadata": {},
          "execution_count": 3
        }
      ]
    },
    {
      "cell_type": "code",
      "source": [
        "x /= 1\n",
        "x //= 1\n",
        "x **= 1\n",
        "x *= 1\n",
        "x %= 1"
      ],
      "metadata": {
        "id": "VOCbHgGo_UYW"
      },
      "execution_count": null,
      "outputs": []
    },
    {
      "cell_type": "markdown",
      "source": [
        "# id 연산자, is 연산자, is not 연산자\n",
        "중요 is는 is not이고 in은 not in이다"
      ],
      "metadata": {
        "id": "hcTO7mKV_uCF"
      }
    },
    {
      "cell_type": "code",
      "source": [
        "a = 10000\n",
        "b = 10000\n",
        "\n",
        "a is b"
      ],
      "metadata": {
        "colab": {
          "base_uri": "https://localhost:8080/"
        },
        "id": "i8CLn-9I_yUp",
        "outputId": "179bf4ea-7b8c-4455-9a93-2834c1553782"
      },
      "execution_count": null,
      "outputs": [
        {
          "output_type": "execute_result",
          "data": {
            "text/plain": [
              "False"
            ]
          },
          "metadata": {},
          "execution_count": 5
        }
      ]
    },
    {
      "cell_type": "code",
      "source": [
        "id(a), id(b)"
      ],
      "metadata": {
        "colab": {
          "base_uri": "https://localhost:8080/"
        },
        "id": "TcHzB0kD_8hN",
        "outputId": "4a72fa58-930a-48a3-f7c9-d0e31969c6bf"
      },
      "execution_count": null,
      "outputs": [
        {
          "output_type": "execute_result",
          "data": {
            "text/plain": [
              "(134079251315312, 134079251313648)"
            ]
          },
          "metadata": {},
          "execution_count": 7
        }
      ]
    },
    {
      "cell_type": "code",
      "source": [
        "a = [1, 2, 3]\n",
        "b = [1, 2, 3]\n",
        "\n",
        "a is b"
      ],
      "metadata": {
        "colab": {
          "base_uri": "https://localhost:8080/"
        },
        "id": "1X6h3wT4_-jr",
        "outputId": "d1c52ca1-5eea-4140-86e4-2a43f6502367"
      },
      "execution_count": null,
      "outputs": [
        {
          "output_type": "execute_result",
          "data": {
            "text/plain": [
              "False"
            ]
          },
          "metadata": {},
          "execution_count": 9
        }
      ]
    },
    {
      "cell_type": "code",
      "source": [
        "id(a), id(b)"
      ],
      "metadata": {
        "colab": {
          "base_uri": "https://localhost:8080/"
        },
        "id": "bOqAibU9AEyC",
        "outputId": "0121e1e5-e0df-439d-9fec-76961a0099fa"
      },
      "execution_count": null,
      "outputs": [
        {
          "output_type": "execute_result",
          "data": {
            "text/plain": [
              "(134079249623360, 134080223270208)"
            ]
          },
          "metadata": {},
          "execution_count": 10
        }
      ]
    },
    {
      "cell_type": "code",
      "source": [
        "a = [1, 2, 3]\n",
        "b = [1, 2, 3]\n",
        "c = a\n",
        "\n",
        "print('a == b', a == b)\n",
        "print('a == c', a == c) # == 값 비교\n",
        "print('a is b', a is b) # is 주소 비교\n",
        "print('a is c', a is c)"
      ],
      "metadata": {
        "id": "ecTqdUXWw_Al"
      },
      "execution_count": null,
      "outputs": []
    },
    {
      "cell_type": "markdown",
      "source": [
        "# in 구문       \n",
        "중요 is는 is not이고 in은 not in이다"
      ],
      "metadata": {
        "id": "sT6gWi9exD6c"
      }
    },
    {
      "cell_type": "code",
      "source": [
        "10 in [10, 20, 30]"
      ],
      "metadata": {
        "colab": {
          "base_uri": "https://localhost:8080/"
        },
        "id": "BH2x4JAUxFMQ",
        "outputId": "45cc907b-bcd6-4094-a4e4-f079fadad263"
      },
      "execution_count": null,
      "outputs": [
        {
          "output_type": "execute_result",
          "data": {
            "text/plain": [
              "True"
            ]
          },
          "metadata": {},
          "execution_count": 1
        }
      ]
    },
    {
      "cell_type": "code",
      "source": [
        "'h' in 'hello world'"
      ],
      "metadata": {
        "colab": {
          "base_uri": "https://localhost:8080/"
        },
        "id": "ITVgOCLqx7U-",
        "outputId": "bfeb83c4-779b-41af-dc4d-00dc5ee9101a"
      },
      "execution_count": null,
      "outputs": [
        {
          "output_type": "execute_result",
          "data": {
            "text/plain": [
              "True"
            ]
          },
          "metadata": {},
          "execution_count": 3
        }
      ]
    },
    {
      "cell_type": "code",
      "source": [
        "'world' in 'hello world'"
      ],
      "metadata": {
        "colab": {
          "base_uri": "https://localhost:8080/"
        },
        "id": "9IiiWdt9x-vZ",
        "outputId": "4795c481-4faa-421c-ba1a-1aa463dcdcee"
      },
      "execution_count": null,
      "outputs": [
        {
          "output_type": "execute_result",
          "data": {
            "text/plain": [
              "True"
            ]
          },
          "metadata": {},
          "execution_count": 4
        }
      ]
    },
    {
      "cell_type": "code",
      "source": [
        "'hell' not in 'hello world'"
      ],
      "metadata": {
        "colab": {
          "base_uri": "https://localhost:8080/"
        },
        "id": "KAmN1pvbyEbi",
        "outputId": "e6c8176f-f781-474e-eeee-30f0291fa80e"
      },
      "execution_count": null,
      "outputs": [
        {
          "output_type": "execute_result",
          "data": {
            "text/plain": [
              "False"
            ]
          },
          "metadata": {},
          "execution_count": 5
        }
      ]
    },
    {
      "cell_type": "code",
      "source": [
        "'wolf' not in 'hello world'"
      ],
      "metadata": {
        "colab": {
          "base_uri": "https://localhost:8080/"
        },
        "id": "uk-sZxpoyRLi",
        "outputId": "527f9dfd-0f08-437f-8188-f6f0b005eaba"
      },
      "execution_count": null,
      "outputs": [
        {
          "output_type": "execute_result",
          "data": {
            "text/plain": [
              "True"
            ]
          },
          "metadata": {},
          "execution_count": 6
        }
      ]
    },
    {
      "cell_type": "code",
      "source": [
        "a = {'key1': 'value1', 'key2': 'value2'} #딕셔너리\n",
        "b = {10, 10, 20}\n",
        "10 in b # 출력: True\n",
        "{10} in b # 출력: False, 주의\n",
        "{10, 20} in b # 출력: False, 주의\n",
        "\n",
        "'key1' in a # 출력: True\n",
        "'value1' in a # 출력: False\n",
        "('key1', 'key2') in a # 출력: False\n",
        "# {'key1':'value1'} in a # error\n"
      ],
      "metadata": {
        "colab": {
          "base_uri": "https://localhost:8080/"
        },
        "id": "IOEMC2JWyUJQ",
        "outputId": "37a6da99-4ecf-4068-a12b-dc008f1f98d7"
      },
      "execution_count": null,
      "outputs": [
        {
          "output_type": "execute_result",
          "data": {
            "text/plain": [
              "False"
            ]
          },
          "metadata": {},
          "execution_count": 7
        }
      ]
    },
    {
      "cell_type": "code",
      "source": [
        "print(a.values())\n",
        "'value1' in a.values()"
      ],
      "metadata": {
        "colab": {
          "base_uri": "https://localhost:8080/"
        },
        "id": "HfBAvbmMynwE",
        "outputId": "9c7dba6e-eddc-4662-bf4e-2f5db520465f"
      },
      "execution_count": null,
      "outputs": [
        {
          "output_type": "stream",
          "name": "stdout",
          "text": [
            "dict_values(['value1', 'value2'])\n"
          ]
        },
        {
          "output_type": "execute_result",
          "data": {
            "text/plain": [
              "True"
            ]
          },
          "metadata": {},
          "execution_count": 9
        }
      ]
    },
    {
      "cell_type": "markdown",
      "source": [
        "# 연산자 우선순위"
      ],
      "metadata": {
        "id": "FPqRrSFrzjB0"
      }
    },
    {
      "cell_type": "code",
      "source": [
        "-2 ** 2"
      ],
      "metadata": {
        "colab": {
          "base_uri": "https://localhost:8080/"
        },
        "id": "bx9j-Oj6zmcr",
        "outputId": "66dbc22b-5b80-4c21-e166-bd8adbca9a9f"
      },
      "execution_count": null,
      "outputs": [
        {
          "output_type": "execute_result",
          "data": {
            "text/plain": [
              "-4"
            ]
          },
          "metadata": {},
          "execution_count": 10
        }
      ]
    },
    {
      "cell_type": "code",
      "source": [
        "(True * True) and (True + False)"
      ],
      "metadata": {
        "id": "M8tWFr5yzkzK"
      },
      "execution_count": null,
      "outputs": []
    },
    {
      "cell_type": "code",
      "source": [
        "# 복합 할당 연산자가 가장 나중\n",
        "a = 10\n",
        "a *= 10 + 100\n",
        "a"
      ],
      "metadata": {
        "id": "5lDR1S-j0oV8"
      },
      "execution_count": null,
      "outputs": []
    },
    {
      "cell_type": "code",
      "source": [
        "# a가 30이 될 것 같지만\n",
        "# 오류나는 문법\n",
        "a = 10\n",
        "a = a += 20"
      ],
      "metadata": {
        "id": "0KK4NblG06dG"
      },
      "execution_count": null,
      "outputs": []
    },
    {
      "cell_type": "code",
      "source": [
        "# 그리디 알고리즘\n",
        "# 10000원짜리를 들고가서 1500원짜리 월드콘을 사먹고 거스름돈을 가장 적게 줄 수 있는 코드\n",
        "\n",
        "거스름돈 = 10000 - 1500\n",
        "\n",
        "거스름돈 = 거스름돈 % 5000\n",
        "print(거스름돈 // 5000, '5000원')\n",
        "\n",
        "거스름돈 = 거스름돈 % 1000\n",
        "print(거스름돈 // 1000, '1000원')\n",
        "\n",
        "거스름돈 = 거스름돈 % 500\n",
        "print(거스름돈 // 500, '500원')\n",
        "\n",
        "거스름돈 = 거스름돈 % 100\n",
        "print(거스름돈 // 100, '100원')"
      ],
      "metadata": {
        "colab": {
          "base_uri": "https://localhost:8080/"
        },
        "id": "7H7nBcFG1nv9",
        "outputId": "141b3a1d-46ad-49a9-d011-ba4d9083aeda"
      },
      "execution_count": null,
      "outputs": [
        {
          "output_type": "stream",
          "name": "stdout",
          "text": [
            "0 5000원\n",
            "0 1000원\n",
            "0 500원\n",
            "0 100원\n"
          ]
        }
      ]
    },
    {
      "cell_type": "markdown",
      "source": [
        "# 연습문제"
      ],
      "metadata": {
        "id": "BgYWaG5cEkTW"
      }
    },
    {
      "cell_type": "code",
      "source": [
        "# 문제 1\n",
        "x = 3\n",
        "y = 5\n",
        "result = isinstance(x, int) and isinstance(y, int) and (x + y) # 여기에 논리연산자를 더 붙여\n",
        "                                                        #  두 수를 더하는 코드를 만들어보세요.\n",
        "result"
      ],
      "metadata": {
        "colab": {
          "base_uri": "https://localhost:8080/"
        },
        "id": "Nzsxp13jElj-",
        "outputId": "31dc3326-a061-40c9-d833-8140b6527c37"
      },
      "execution_count": null,
      "outputs": [
        {
          "output_type": "execute_result",
          "data": {
            "text/plain": [
              "0"
            ]
          },
          "metadata": {},
          "execution_count": 84
        }
      ]
    },
    {
      "cell_type": "code",
      "source": [
        "# 문제 2  다음 출력값은 무엇이고 왜 그러한가\n",
        "print('hello' < 'hell o')  # False 유니코드에서 ' '보다 'l'이 더 뒤에 있어서\n",
        "\n",
        "print([10, 20, 30] < [10, 19, 100]) # 이유 : 2번째 요소인 20보다 19가 작기 때문에 False를 반환한다\n",
        "\n",
        "print(10 % 3.3 == 0.1) #컴퓨터는 2진수로 연산을 하는데 2진수 변환에서 무한수가 발생이 되어\n",
        "#정확한 계산값이 아닌근사치로 나온다"
      ],
      "metadata": {
        "colab": {
          "base_uri": "https://localhost:8080/"
        },
        "id": "M2E9jptjHp0F",
        "outputId": "35bac12d-e999-417c-9ed0-74dbe4f93b5e"
      },
      "execution_count": null,
      "outputs": [
        {
          "output_type": "stream",
          "name": "stdout",
          "text": [
            "False\n",
            "False\n",
            "False\n",
            "0.1\n"
          ]
        }
      ]
    },
    {
      "cell_type": "code",
      "source": [
        "# 문제 3 어떤 이메일을 쓰고 있는지 출력하는 코드를 작성\n",
        "email1 = 'abc@gmail.com' # gmail\n",
        "email3 = 'abc@naver.com' # naver\n",
        "email4 = 'abc@weniv.co.kr' # weniv\n",
        "email5 = 'li.cat@weniv.co.kr' # weniv\n",
        "e.rindex('.')\n",
        "print(email1[email1.rindex('@')+1:].split('.')[0])\n",
        "print(email3[email3.rindex('@')+1:].split('.')[0])\n",
        "print(email4[email4.rindex('@')+1:].split('.')[0])\n",
        "print(email5[email5.rindex('@')+1:].split('.')[0])\n",
        "\n",
        "email4.split('@')[1].split('.')[0]"
      ],
      "metadata": {
        "colab": {
          "base_uri": "https://localhost:8080/",
          "height": 248
        },
        "id": "2xeZ8YtVMrEQ",
        "outputId": "667d203d-f410-4b7a-9ce3-bda483598688"
      },
      "execution_count": null,
      "outputs": [
        {
          "output_type": "error",
          "ename": "NameError",
          "evalue": "ignored",
          "traceback": [
            "\u001b[0;31m---------------------------------------------------------------------------\u001b[0m",
            "\u001b[0;31mNameError\u001b[0m                                 Traceback (most recent call last)",
            "\u001b[0;32m<ipython-input-128-e3b787bfcb38>\u001b[0m in \u001b[0;36m<cell line: 6>\u001b[0;34m()\u001b[0m\n\u001b[1;32m      4\u001b[0m \u001b[0memail4\u001b[0m \u001b[0;34m=\u001b[0m \u001b[0;34m'abc@weniv.co.kr'\u001b[0m \u001b[0;31m# weniv\u001b[0m\u001b[0;34m\u001b[0m\u001b[0;34m\u001b[0m\u001b[0m\n\u001b[1;32m      5\u001b[0m \u001b[0memail5\u001b[0m \u001b[0;34m=\u001b[0m \u001b[0;34m'li.cat@weniv.co.kr'\u001b[0m \u001b[0;31m# weniv\u001b[0m\u001b[0;34m\u001b[0m\u001b[0;34m\u001b[0m\u001b[0m\n\u001b[0;32m----> 6\u001b[0;31m \u001b[0me\u001b[0m\u001b[0;34m.\u001b[0m\u001b[0mrindex\u001b[0m\u001b[0;34m(\u001b[0m\u001b[0;34m'.'\u001b[0m\u001b[0;34m)\u001b[0m\u001b[0;34m\u001b[0m\u001b[0;34m\u001b[0m\u001b[0m\n\u001b[0m\u001b[1;32m      7\u001b[0m \u001b[0mprint\u001b[0m\u001b[0;34m(\u001b[0m\u001b[0memail1\u001b[0m\u001b[0;34m[\u001b[0m\u001b[0memail1\u001b[0m\u001b[0;34m.\u001b[0m\u001b[0mrindex\u001b[0m\u001b[0;34m(\u001b[0m\u001b[0;34m'@'\u001b[0m\u001b[0;34m)\u001b[0m\u001b[0;34m+\u001b[0m\u001b[0;36m1\u001b[0m\u001b[0;34m:\u001b[0m\u001b[0;34m]\u001b[0m\u001b[0;34m.\u001b[0m\u001b[0msplit\u001b[0m\u001b[0;34m(\u001b[0m\u001b[0;34m'.'\u001b[0m\u001b[0;34m)\u001b[0m\u001b[0;34m[\u001b[0m\u001b[0;36m0\u001b[0m\u001b[0;34m]\u001b[0m\u001b[0;34m)\u001b[0m\u001b[0;34m\u001b[0m\u001b[0;34m\u001b[0m\u001b[0m\n\u001b[1;32m      8\u001b[0m \u001b[0mprint\u001b[0m\u001b[0;34m(\u001b[0m\u001b[0memail3\u001b[0m\u001b[0;34m[\u001b[0m\u001b[0memail3\u001b[0m\u001b[0;34m.\u001b[0m\u001b[0mrindex\u001b[0m\u001b[0;34m(\u001b[0m\u001b[0;34m'@'\u001b[0m\u001b[0;34m)\u001b[0m\u001b[0;34m+\u001b[0m\u001b[0;36m1\u001b[0m\u001b[0;34m:\u001b[0m\u001b[0;34m]\u001b[0m\u001b[0;34m.\u001b[0m\u001b[0msplit\u001b[0m\u001b[0;34m(\u001b[0m\u001b[0;34m'.'\u001b[0m\u001b[0;34m)\u001b[0m\u001b[0;34m[\u001b[0m\u001b[0;36m0\u001b[0m\u001b[0;34m]\u001b[0m\u001b[0;34m)\u001b[0m\u001b[0;34m\u001b[0m\u001b[0;34m\u001b[0m\u001b[0m\n",
            "\u001b[0;31mNameError\u001b[0m: name 'e' is not defined"
          ]
        }
      ]
    },
    {
      "cell_type": "markdown",
      "source": [
        "# 함수"
      ],
      "metadata": {
        "id": "oLoAwUs-3TEF"
      }
    },
    {
      "cell_type": "code",
      "source": [
        "def 부지매입():\n",
        "    pass\n",
        "\n",
        "def 설계도면작성():\n",
        "    pass\n",
        "\n",
        "def 인력모집():\n",
        "    pass\n",
        "\n",
        "def 벽돌쌓기():\n",
        "    pass\n",
        "\n",
        "def 지붕올리기():\n",
        "    pass\n",
        "\n",
        "부지매입()\n",
        "설계도면작성()\n",
        "인력모집()\n",
        "벽돌쌓기()\n",
        "지붕올리기()"
      ],
      "metadata": {
        "id": "TbJzSuOm3USL"
      },
      "execution_count": null,
      "outputs": []
    },
    {
      "cell_type": "code",
      "source": [
        "# 들여쓰기\n",
        "# print와 returnmㅇ은 헷갈리시면 안됩니다\n",
        "def printnum(): #함수의 정의\n",
        "    print('1')\n",
        "    print('2')\n",
        "    print('3')\n",
        "    # return None 생략되어있다\n",
        "a = printnum() #함수의 호출\n",
        "print(a)"
      ],
      "metadata": {
        "colab": {
          "base_uri": "https://localhost:8080/"
        },
        "id": "QgQkLWvu6NPm",
        "outputId": "75bacde4-6197-412f-ad53-be9529d9cc38"
      },
      "execution_count": null,
      "outputs": [
        {
          "output_type": "stream",
          "name": "stdout",
          "text": [
            "1\n",
            "2\n",
            "3\n",
            "None\n"
          ]
        }
      ]
    },
    {
      "cell_type": "code",
      "source": [
        "# 함수의 종료 구분은 들여쓰기 기준이며\n",
        "# return으로도 구분이 된다\n",
        "def printnum():\n",
        "    print('1')\n",
        "    print('2')\n",
        "print('3')\n",
        "printnum() # __repr__이 있어야 None출력"
      ],
      "metadata": {
        "colab": {
          "base_uri": "https://localhost:8080/"
        },
        "id": "1swnfIho7DFK",
        "outputId": "aea9ac13-f6e6-4895-c561-4c04f6d37f82"
      },
      "execution_count": null,
      "outputs": [
        {
          "output_type": "stream",
          "name": "stdout",
          "text": [
            "3\n",
            "1\n",
            "2\n"
          ]
        }
      ]
    },
    {
      "cell_type": "code",
      "source": [
        "# 출력값이 다르다는 것을 알아야한다\n",
        "print(type(printnum)) # __str__ 출력\n",
        "type(printnum) # __repr__출력\n",
        "dir(printnume)"
      ],
      "metadata": {
        "id": "toRE7iUY7Dgy"
      },
      "execution_count": null,
      "outputs": []
    },
    {
      "cell_type": "code",
      "source": [
        "printnum.__str__()"
      ],
      "metadata": {
        "colab": {
          "base_uri": "https://localhost:8080/",
          "height": 35
        },
        "id": "FPZvMKed7TSe",
        "outputId": "6ed63bd8-4a0b-4c8e-c120-d355ad46431f"
      },
      "execution_count": null,
      "outputs": [
        {
          "output_type": "execute_result",
          "data": {
            "text/plain": [
              "'<function printnum at 0x7bc9983f28c0>'"
            ],
            "application/vnd.google.colaboratory.intrinsic+json": {
              "type": "string"
            }
          },
          "metadata": {},
          "execution_count": 15
        }
      ]
    },
    {
      "cell_type": "code",
      "source": [
        "printnum.__repr__()"
      ],
      "metadata": {
        "colab": {
          "base_uri": "https://localhost:8080/",
          "height": 35
        },
        "id": "vT4OggC27uZn",
        "outputId": "4cf789b4-d7f8-40a7-c3c3-eab76b203031"
      },
      "execution_count": null,
      "outputs": [
        {
          "output_type": "execute_result",
          "data": {
            "text/plain": [
              "'<function printnum at 0x7bc9983f28c0>'"
            ],
            "application/vnd.google.colaboratory.intrinsic+json": {
              "type": "string"
            }
          },
          "metadata": {},
          "execution_count": 14
        }
      ]
    },
    {
      "cell_type": "code",
      "source": [
        "# None은 출력되지 않습니다\n",
        "a = None\n",
        "a"
      ],
      "metadata": {
        "id": "6uTvyFFWTA-4"
      },
      "execution_count": null,
      "outputs": []
    },
    {
      "cell_type": "code",
      "source": [
        "# 파선아실\n",
        "# 파라미터는 선언할 때 아규먼트는 실행할 떄\n",
        "def function(x, y):\n",
        "    z = x + y\n",
        "    return z\n",
        "print('function(5, 7)=', function(5, 7))"
      ],
      "metadata": {
        "colab": {
          "base_uri": "https://localhost:8080/"
        },
        "id": "uuvAYuq277eT",
        "outputId": "bf5a9436-721b-44d8-9de6-d20021efddf5"
      },
      "execution_count": null,
      "outputs": [
        {
          "output_type": "stream",
          "name": "stdout",
          "text": [
            "function(5, 7)= 12\n"
          ]
        }
      ]
    },
    {
      "cell_type": "code",
      "source": [
        "# 함수 안에 함수\n",
        "def f():\n",
        "    def ff():\n",
        "        return 100\n",
        "    x = ff()\n",
        "    return x\n",
        "\n",
        "f()\n",
        "# ff() #  함수 내부에서 선언한 변수와 함수는 밖에서 호출불가"
      ],
      "metadata": {
        "colab": {
          "base_uri": "https://localhost:8080/"
        },
        "id": "jRmydEhd8DGC",
        "outputId": "4c25dbab-67be-4194-faa0-918d8e5b2627"
      },
      "execution_count": null,
      "outputs": [
        {
          "output_type": "execute_result",
          "data": {
            "text/plain": [
              "100"
            ]
          },
          "metadata": {},
          "execution_count": 3
        }
      ]
    },
    {
      "cell_type": "code",
      "source": [
        "# 함수를 아규먼트로 전달\n",
        "def f(a, b):\n",
        "    return a + b\n",
        "\n",
        "def ff(a):\n",
        "    return a(10, 20)\n",
        "\n",
        "ff(f)"
      ],
      "metadata": {
        "id": "yjqu17LV89-N",
        "colab": {
          "base_uri": "https://localhost:8080/"
        },
        "outputId": "076ff672-1a4f-420f-d12d-b10febc49dd1"
      },
      "execution_count": null,
      "outputs": [
        {
          "output_type": "execute_result",
          "data": {
            "text/plain": [
              "30"
            ]
          },
          "metadata": {},
          "execution_count": 9
        }
      ]
    },
    {
      "cell_type": "code",
      "source": [
        "def f():\n",
        "    pass\n",
        "\n",
        "def f():\n",
        "    pass\n",
        "    return 1\n",
        "\n",
        "\n",
        "def f():\n",
        "    pass              # pass는 종료가 아니라 없는 것으로 취급한다.\n",
        "    print(10)\n",
        "\n",
        "f()"
      ],
      "metadata": {
        "colab": {
          "base_uri": "https://localhost:8080/"
        },
        "id": "5bI0-qa8967U",
        "outputId": "a701eb00-724e-47ce-8b70-ab6a34f1d740"
      },
      "execution_count": null,
      "outputs": [
        {
          "output_type": "stream",
          "name": "stdout",
          "text": [
            "10\n"
          ]
        }
      ]
    },
    {
      "cell_type": "code",
      "source": [
        "# 이게 error기 때문에 pass를 사용한다\n",
        "# pass를 사용했을 때 나중에 개발될 것이라는 표시를 해놓는 것과 같다\n",
        "# return보다 타이핑이 쉽고 빠르다(속도감이 있다 >> 파이썬에서 속도감은 중요하다)\n",
        "# def hit():\n",
        "#\n",
        "# def move():\n",
        "#\n",
        "# def heal():\n",
        "def hit():\n",
        "    pass\n",
        "\n",
        "def move():\n",
        "    pass\n",
        "\n",
        "def heal():\n",
        "    pass"
      ],
      "metadata": {
        "id": "eMpb7k0_-Z9G"
      },
      "execution_count": null,
      "outputs": []
    },
    {
      "cell_type": "code",
      "source": [
        "def f(a, b, c):\n",
        "    print(a, b, c)\n",
        "\n",
        "# f() # error\n",
        "# f(100, 10) # error\n",
        "f(a=100, b=200, c=300)\n",
        "f(c=300, a=100, b=200)"
      ],
      "metadata": {
        "id": "EZVwwu3Q_r-5"
      },
      "execution_count": null,
      "outputs": []
    },
    {
      "cell_type": "code",
      "source": [
        "def f(a=10, b=20, c=30):\n",
        "    print(a, b, c)\n",
        "\n",
        "f()\n",
        "f(100, 10)\n",
        "f(a=100, b=200, c=300)\n",
        "f(c=300, a=100, b=200)"
      ],
      "metadata": {
        "id": "rn_PS8WjAjGO",
        "colab": {
          "base_uri": "https://localhost:8080/"
        },
        "outputId": "42efd6c0-f2ea-4d99-b13f-4f889249d43c"
      },
      "execution_count": null,
      "outputs": [
        {
          "output_type": "stream",
          "name": "stdout",
          "text": [
            "10 20 30\n",
            "100 10 30\n",
            "100 200 300\n",
            "100 200 300\n"
          ]
        }
      ]
    },
    {
      "cell_type": "code",
      "source": [
        "# 기본값이 없는 것들은 앞에 배치해야한다.\n",
        "def f(a=10, b=20, c): # c만 default value를 안주게 되면 error, 순서대로 안주어야 합니다.\n",
        "    print(a, b, c)\n",
        "\n",
        "# f() # error\n",
        "# f(100, 10) # error\n",
        "# f(a=100, b=200, c=300) # error\n",
        "# f(c=300, a=100, b=200) # error\n",
        "# f(c=300) # error"
      ],
      "metadata": {
        "id": "uUzpmzk8A1Gm"
      },
      "execution_count": null,
      "outputs": []
    },
    {
      "cell_type": "code",
      "source": [
        "def f(a, b=20, c=10): # 이렇게는 가능\n",
        "    print(a, b, c)\n",
        "\n",
        "# f() # error\n",
        "f(100, 10)\n",
        "f(a=100, b=200, c=300)\n",
        "f(c=300, a=100, b=200)\n",
        "# f(c=300) # error"
      ],
      "metadata": {
        "colab": {
          "base_uri": "https://localhost:8080/"
        },
        "id": "SW1-rABdBAJz",
        "outputId": "fe83e8b8-e58f-4ad6-881c-d230f166e26f"
      },
      "execution_count": null,
      "outputs": [
        {
          "output_type": "stream",
          "name": "stdout",
          "text": [
            "100 10 10\n",
            "100 200 300\n",
            "100 200 300\n"
          ]
        }
      ]
    },
    {
      "cell_type": "code",
      "source": [
        "# a 와 b를 더한 값과 a와 b를 뺀 값을 곱하는 함수\n",
        "\n",
        "a = 2\n",
        "b = 3\n",
        "# (2 + 3) * (2 - 3) = -5 가 출력 되어야한다\n",
        "# 조건 1 : a가 입력되지 않으면 0이 입력된다\n",
        "# 조건 2 : b가 입력되지 않으면 0이 입력된다\n",
        "def f(a ,b):\n",
        "    def plus(a, b):\n",
        "        return a + b\n",
        "    def minus(a, b):\n",
        "        return a - b\n",
        "    result = plus(a, b) * minus(a, b)\n",
        "    return result\n",
        "f(a, b)"
      ],
      "metadata": {
        "colab": {
          "base_uri": "https://localhost:8080/"
        },
        "id": "IvaM9TGSB-uf",
        "outputId": "89214f3e-7808-4e18-bd66-56e2da9990af"
      },
      "execution_count": null,
      "outputs": [
        {
          "output_type": "execute_result",
          "data": {
            "text/plain": [
              "-5"
            ]
          },
          "metadata": {},
          "execution_count": 21
        }
      ]
    },
    {
      "cell_type": "code",
      "source": [
        "# 찬양님 코드\n",
        "# a와 b를 더한 값과 a와 b를 뺸 값을 곱하는 함수를 만들어주세요.\n",
        "a = 2\n",
        "b = 3\n",
        "# (2+3) * (2-3) = -5가 출력이 되어야합니다.\n",
        "# 조건1: a가 입력되지 않으면 0이 입력됩니다.\n",
        "# 조건2: b가 입력되지 않으면 0이 입력됩니다.\n",
        "\n",
        "\n",
        "def multiple (x=0,y=0):\n",
        "    return x*y\n",
        "\n",
        "def plus (x=0,y=0):\n",
        "    return x+y\n",
        "\n",
        "def minus (x=0,y=0):\n",
        "    return x-y\n",
        "\n",
        "multiple(plus(a,b),minus(a,b))"
      ],
      "metadata": {
        "id": "g_zXeNIUDoD1"
      },
      "execution_count": null,
      "outputs": []
    },
    {
      "cell_type": "code",
      "source": [
        "# 지역변수와 전역변수\n",
        "\n",
        "def f():\n",
        "    inner_value = 100\n",
        "\n",
        "print(inner_value) # 함수안에 있는 지역변수이므로 함수 밖에서 사용 불가"
      ],
      "metadata": {
        "id": "Ym5_L82kEFc_"
      },
      "execution_count": null,
      "outputs": []
    },
    {
      "cell_type": "code",
      "source": [
        "x = 100\n",
        "def f():\n",
        "    print(x)\n",
        "f()"
      ],
      "metadata": {
        "colab": {
          "base_uri": "https://localhost:8080/"
        },
        "id": "m1Wl6neiENjM",
        "outputId": "97cd0c0f-7ccb-404a-c7ab-e6bcca5d2408"
      },
      "execution_count": null,
      "outputs": [
        {
          "output_type": "stream",
          "name": "stdout",
          "text": [
            "100\n"
          ]
        }
      ]
    },
    {
      "cell_type": "code",
      "source": [
        "x = 100\n",
        "def f():\n",
        "    y = x + x\n",
        "    return y\n",
        "\n",
        "f()"
      ],
      "metadata": {
        "colab": {
          "base_uri": "https://localhost:8080/"
        },
        "id": "OGiay7xzER-i",
        "outputId": "c71f1cb1-12db-4ae4-c165-c532ba3cf700"
      },
      "execution_count": null,
      "outputs": [
        {
          "output_type": "execute_result",
          "data": {
            "text/plain": [
              "200"
            ]
          },
          "metadata": {},
          "execution_count": 5
        }
      ]
    },
    {
      "cell_type": "code",
      "source": [
        "x = 100\n",
        "def f():\n",
        "    x = 200\n",
        "    return x\n",
        "\n",
        "f(), x"
      ],
      "metadata": {
        "colab": {
          "base_uri": "https://localhost:8080/"
        },
        "id": "JsYEaIlREWYy",
        "outputId": "b3a12a84-66de-4d23-baf8-72f61bfa81a6"
      },
      "execution_count": null,
      "outputs": [
        {
          "output_type": "execute_result",
          "data": {
            "text/plain": [
              "(200, 100)"
            ]
          },
          "metadata": {},
          "execution_count": 4
        }
      ]
    },
    {
      "cell_type": "code",
      "source": [
        "a = 100\n",
        "def f():\n",
        "    a = a + 1 # error\n",
        "    return a\n",
        "f()"
      ],
      "metadata": {
        "id": "yU4jS5yPIhi6"
      },
      "execution_count": null,
      "outputs": []
    },
    {
      "cell_type": "code",
      "source": [
        "a = 100\n",
        "def f():\n",
        "    b = a + 1\n",
        "    return b\n",
        "f()"
      ],
      "metadata": {
        "id": "SkM_YoEiIldp",
        "colab": {
          "base_uri": "https://localhost:8080/"
        },
        "outputId": "65c4de04-d58b-4e9e-828b-4e4514650e07"
      },
      "execution_count": null,
      "outputs": [
        {
          "output_type": "execute_result",
          "data": {
            "text/plain": [
              "101"
            ]
          },
          "metadata": {},
          "execution_count": 6
        }
      ]
    },
    {
      "cell_type": "code",
      "source": [
        "\n",
        "a = 100\n",
        "def f():\n",
        "    global a\n",
        "    a = a + 1\n",
        "f()"
      ],
      "metadata": {
        "id": "nYNP9HiAEaTP"
      },
      "execution_count": null,
      "outputs": []
    },
    {
      "cell_type": "code",
      "source": [
        "a"
      ],
      "metadata": {
        "colab": {
          "base_uri": "https://localhost:8080/"
        },
        "id": "u0Xe3tLOFTu-",
        "outputId": "75ab58aa-e657-482d-a801-d2ff0c7c2932"
      },
      "execution_count": null,
      "outputs": [
        {
          "output_type": "execute_result",
          "data": {
            "text/plain": [
              "101"
            ]
          },
          "metadata": {},
          "execution_count": 15
        }
      ]
    },
    {
      "cell_type": "code",
      "source": [
        "a = 10\n",
        "def f():\n",
        "    a = 100\n",
        "    print(a)\n",
        "    def ff():\n",
        "        a = 1000\n",
        "        print(a)\n",
        "        def fff():\n",
        "            a = 100000\n",
        "            print(a)\n",
        "        fff()\n",
        "    ff()\n",
        "f()\n",
        "print(a)"
      ],
      "metadata": {
        "colab": {
          "base_uri": "https://localhost:8080/"
        },
        "id": "MF_AAXaUIqEb",
        "outputId": "47ac934f-276e-45f7-a211-46f06ce381d1"
      },
      "execution_count": null,
      "outputs": [
        {
          "output_type": "stream",
          "name": "stdout",
          "text": [
            "100\n",
            "1000\n",
            "100000\n",
            "10\n"
          ]
        }
      ]
    },
    {
      "cell_type": "code",
      "source": [
        "# global을 하면 함수가 얼만큼 중첩되어 있건 최상단에 있는 a를 바라본다\n",
        "a = 10\n",
        "def f():\n",
        "    a = 100\n",
        "    print(a)\n",
        "    def ff():\n",
        "        a = 1000\n",
        "        print(a)\n",
        "        def fff():\n",
        "            global a\n",
        "            print(a)\n",
        "        fff()\n",
        "    ff()\n",
        "f()\n",
        "\n",
        "print(a)"
      ],
      "metadata": {
        "colab": {
          "base_uri": "https://localhost:8080/"
        },
        "id": "QaXJM5A4JDr7",
        "outputId": "f2b496a4-7e04-41ed-933d-b3f877ec54e7"
      },
      "execution_count": null,
      "outputs": [
        {
          "output_type": "stream",
          "name": "stdout",
          "text": [
            "100\n",
            "1000\n",
            "10\n",
            "10\n"
          ]
        }
      ]
    },
    {
      "cell_type": "code",
      "source": [
        "# global을 사용하지 않고 중첩된 함수내에서 a를 출력하게 되면 바로 위 함수의 a를 출력한다\n",
        "a = 10\n",
        "def f():\n",
        "    a = 100\n",
        "    print(a)\n",
        "    def ff():\n",
        "        a = 1000\n",
        "        print(a)\n",
        "        def fff():\n",
        "            print(a)\n",
        "        fff()\n",
        "    ff()\n",
        "f()\n",
        "\n",
        "print(a)"
      ],
      "metadata": {
        "colab": {
          "base_uri": "https://localhost:8080/"
        },
        "id": "Ol5bViJvJStu",
        "outputId": "6e3055a8-4ec4-4212-b709-814d47df17de"
      },
      "execution_count": null,
      "outputs": [
        {
          "output_type": "stream",
          "name": "stdout",
          "text": [
            "100\n",
            "1000\n",
            "1000\n",
            "10\n"
          ]
        }
      ]
    },
    {
      "cell_type": "code",
      "source": [
        "# nonlocal\n",
        "a = 10\n",
        "def f():\n",
        "    a = 100\n",
        "    print(f'f a: {a}')\n",
        "    def ff():\n",
        "        a = 1000\n",
        "        print(f'ff a: {a}')\n",
        "        def fff():\n",
        "            nonlocal a\n",
        "            a = 100\n",
        "            print(f'fff a: {a}')\n",
        "        fff()\n",
        "        print(f'ff a: {a}')\n",
        "    ff()\n",
        "f()\n",
        "print(f'global a: {a}')"
      ],
      "metadata": {
        "colab": {
          "base_uri": "https://localhost:8080/"
        },
        "id": "Q5rzC7EXJlT3",
        "outputId": "281c4f6e-8875-46fd-83da-d46e90163265"
      },
      "execution_count": null,
      "outputs": [
        {
          "output_type": "stream",
          "name": "stdout",
          "text": [
            "f a: 100\n",
            "ff a: 1000\n",
            "fff a: 100\n",
            "ff a: 100\n",
            "global a: 10\n"
          ]
        }
      ]
    },
    {
      "cell_type": "code",
      "source": [
        "#sys.setrecursionlimit -> 제한을 늘릴 수 있음\n",
        "# 실행 no\n",
        "# def 숫자출력():\n",
        "#     print(1)\n",
        "#     return 숫자출력()\n",
        "# 숫자출력()"
      ],
      "metadata": {
        "id": "3PBcT-7xKME9"
      },
      "execution_count": null,
      "outputs": []
    },
    {
      "cell_type": "code",
      "source": [
        "#sys.setrecursionlimit -> 제한을 늘릴 수 있음\n",
        "def 숫자출력(count):\n",
        "    if count > 100:\n",
        "        return\n",
        "    print(count)\n",
        "    return 숫자출력(count+1) #값을 1부터 반복횟수 까지의 값을 출력\n",
        "\n",
        "숫자출력(1)"
      ],
      "metadata": {
        "colab": {
          "base_uri": "https://localhost:8080/"
        },
        "id": "EYtAvTeUKqlj",
        "outputId": "4d8584a4-54c8-4cc9-f7b1-2ac7a314023c"
      },
      "execution_count": null,
      "outputs": [
        {
          "output_type": "stream",
          "name": "stdout",
          "text": [
            "1\n",
            "2\n",
            "3\n",
            "4\n",
            "5\n",
            "6\n",
            "7\n",
            "8\n",
            "9\n",
            "10\n",
            "11\n",
            "12\n",
            "13\n",
            "14\n",
            "15\n",
            "16\n",
            "17\n",
            "18\n",
            "19\n",
            "20\n",
            "21\n",
            "22\n",
            "23\n",
            "24\n",
            "25\n",
            "26\n",
            "27\n",
            "28\n",
            "29\n",
            "30\n",
            "31\n",
            "32\n",
            "33\n",
            "34\n",
            "35\n",
            "36\n",
            "37\n",
            "38\n",
            "39\n",
            "40\n",
            "41\n",
            "42\n",
            "43\n",
            "44\n",
            "45\n",
            "46\n",
            "47\n",
            "48\n",
            "49\n",
            "50\n",
            "51\n",
            "52\n",
            "53\n",
            "54\n",
            "55\n",
            "56\n",
            "57\n",
            "58\n",
            "59\n",
            "60\n",
            "61\n",
            "62\n",
            "63\n",
            "64\n",
            "65\n",
            "66\n",
            "67\n",
            "68\n",
            "69\n",
            "70\n",
            "71\n",
            "72\n",
            "73\n",
            "74\n",
            "75\n",
            "76\n",
            "77\n",
            "78\n",
            "79\n",
            "80\n",
            "81\n",
            "82\n",
            "83\n",
            "84\n",
            "85\n",
            "86\n",
            "87\n",
            "88\n",
            "89\n",
            "90\n",
            "91\n",
            "92\n",
            "93\n",
            "94\n",
            "95\n",
            "96\n",
            "97\n",
            "98\n",
            "99\n",
            "100\n"
          ]
        }
      ]
    },
    {
      "cell_type": "code",
      "source": [
        "# 재귀함수는 사용하지 마세요 (주니어때)\n",
        "# 위험하고 일부 효율이 좋지 않다\n",
        "# 반복문 <-> 재귀는 서로 상호 호환이 가능하다\n",
        "# 반복문 사용하세요"
      ],
      "metadata": {
        "id": "foEH3sbyK4oO"
      },
      "execution_count": null,
      "outputs": []
    },
    {
      "cell_type": "code",
      "source": [
        "# 상식 수준에서 다음 재귀함수는 암기\n",
        "# 1. 팩토리얼\n",
        "# 2. 문자열 뒤집기"
      ],
      "metadata": {
        "id": "lBnDSkeCLOSG"
      },
      "execution_count": null,
      "outputs": []
    },
    {
      "cell_type": "code",
      "source": [
        "def factorial(n):\n",
        "    if n <= 1:\n",
        "        return 1\n",
        "    return n * factorial(n-1)\n",
        "\n",
        "\n",
        "'''\n",
        "함수 호출             return\n",
        "factorial(5)       5 * factorial(4)  == 5 * 24\n",
        "factorial(4)       4 * factorial(3)  == 4 * 6\n",
        "factorial(3)       3 * factorial(2)  == 3 * 2\n",
        "factorial(2)       2 * factorial(1)  == 2\n",
        "factorial(1)       1\n",
        "'''\n",
        "factorial(5)"
      ],
      "metadata": {
        "colab": {
          "base_uri": "https://localhost:8080/"
        },
        "id": "4mK8H3N3LZB9",
        "outputId": "a41fbfb7-48d5-49ba-b49c-ab4f1e5c0dd9"
      },
      "execution_count": null,
      "outputs": [
        {
          "output_type": "execute_result",
          "data": {
            "text/plain": [
              "120"
            ]
          },
          "metadata": {},
          "execution_count": 17
        }
      ]
    },
    {
      "cell_type": "code",
      "source": [
        "s = 'hello world'\n",
        "print(s[1:] + s[0])\n",
        "s = s[1:] + s[0]\n",
        "\n",
        "\n",
        "print(s[1:] + s[0])\n",
        "s = s[1:] + s[0]\n",
        "\n",
        "\n",
        "print(s[1:] + s[0])\n",
        "s = s[1:] + s[0]\n",
        "\n",
        "print(s[1:] + s[0])\n",
        "s = s[1:] + s[0]\n",
        "\n",
        "print(s[1:] + s[0])\n",
        "s = s[1:] + s[0]\n",
        "\n",
        "print(s[1:] + s[0])\n",
        "s = s[1:] + s[0]\n",
        "\n",
        "\n",
        "print(s[1:] + s[0])\n",
        "s = s[1:] + s[0]\n",
        "\n",
        "\n",
        "print(s[1:] + s[0])\n",
        "s = s[1:] + s[0]\n",
        "\n",
        "print(s[1:] + s[0])\n",
        "s = s[1:] + s[0]\n",
        "\n",
        "\n",
        "print(s[1:] + s[0])\n",
        "s = s[1:] + s[0]\n",
        "\n",
        "print(s[1:] + s[0])\n",
        "s = s[1:] + s[0]\n",
        "\n"
      ],
      "metadata": {
        "colab": {
          "base_uri": "https://localhost:8080/",
          "height": 226
        },
        "id": "42sbSgEKOd_A",
        "outputId": "ca1d1271-892d-4d7a-80ab-b128d65273f7"
      },
      "execution_count": null,
      "outputs": [
        {
          "output_type": "stream",
          "name": "stdout",
          "text": [
            "ello worldh\n",
            "llo worldhe\n",
            "lo worldhel\n",
            "o worldhell\n",
            " worldhello\n",
            "worldhello \n",
            "orldhello w\n",
            "rldhello wo\n",
            "ldhello wor\n",
            "dhello worl\n",
            "hello world\n"
          ]
        },
        {
          "output_type": "execute_result",
          "data": {
            "text/plain": [
              "'hello world'"
            ],
            "application/vnd.google.colaboratory.intrinsic+json": {
              "type": "string"
            }
          },
          "metadata": {},
          "execution_count": 31
        }
      ]
    },
    {
      "cell_type": "code",
      "source": [
        "def reversed_str(s):\n",
        "    x = []\n",
        "    if len(s) <= 1:\n",
        "        return s\n",
        "    x = reversed_str(s[1:]) + s[0]\n",
        "    return x\n",
        "\n",
        "'''\n",
        "함수 호출             return\n",
        "reversed_str(s)       reversed_str(s[1:]) + s[0]\n",
        "reversed_str('hello') reversed_str('ello') + 'h'   == 'olle' + 'h'\n",
        "reversed_str('ello')  reversed_str('llo') + 'e'    == 'oll' + 'e'\n",
        "reversed_str('llo')   reversed_str('lo') + 'l'     == 'ol' + 'l'\n",
        "reversed_str('lo')    reversed_str('o') + 'l'      == 'o' + 'l'\n",
        "reversed_str('o')     'o'                          == 'o'\n",
        "'''\n",
        "\n",
        "print(reversed_str('hello'))"
      ],
      "metadata": {
        "colab": {
          "base_uri": "https://localhost:8080/"
        },
        "id": "h2wmPoapOSge",
        "outputId": "bb8aa668-4f7c-4d51-c86f-1d62c3519b88"
      },
      "execution_count": null,
      "outputs": [
        {
          "output_type": "stream",
          "name": "stdout",
          "text": [
            "olleh\n"
          ]
        }
      ]
    },
    {
      "cell_type": "code",
      "source": [
        "# 팩토리얼 반복문으로\n",
        "n = 5\n",
        "result = 1\n",
        "for i in range(1, n+1):\n",
        "    result *= i\n",
        "result"
      ],
      "metadata": {
        "colab": {
          "base_uri": "https://localhost:8080/"
        },
        "id": "tTPhIfRVSBYw",
        "outputId": "d89ff272-187d-4786-d583-61ba4f950ca3"
      },
      "execution_count": null,
      "outputs": [
        {
          "output_type": "execute_result",
          "data": {
            "text/plain": [
              "120"
            ]
          },
          "metadata": {},
          "execution_count": 36
        }
      ]
    },
    {
      "cell_type": "code",
      "source": [
        "# 문자열 뒤집기 반복문으로\n",
        "s = 'hello'\n",
        "result = ''\n",
        "for i in s:\n",
        "    result = i + result\n",
        "    print(result)\n",
        "result"
      ],
      "metadata": {
        "colab": {
          "base_uri": "https://localhost:8080/",
          "height": 122
        },
        "id": "JrUI_hDqSLDq",
        "outputId": "87a85046-de9f-4dec-83c4-39bc85bf45c5"
      },
      "execution_count": null,
      "outputs": [
        {
          "output_type": "stream",
          "name": "stdout",
          "text": [
            "h\n",
            "eh\n",
            "leh\n",
            "lleh\n",
            "olleh\n"
          ]
        },
        {
          "output_type": "execute_result",
          "data": {
            "text/plain": [
              "'olleh'"
            ],
            "application/vnd.google.colaboratory.intrinsic+json": {
              "type": "string"
            }
          },
          "metadata": {},
          "execution_count": 38
        }
      ]
    },
    {
      "cell_type": "markdown",
      "source": [
        "# 함수 나아가기"
      ],
      "metadata": {
        "id": "o07lBmGGSnc-"
      }
    },
    {
      "cell_type": "code",
      "source": [
        "'hello world'     .upper()      .replace(' ', '')     .lower()"
      ],
      "metadata": {
        "colab": {
          "base_uri": "https://localhost:8080/",
          "height": 35
        },
        "id": "h0RTepvamivK",
        "outputId": "d1316725-2816-4642-b982-18ce3b9409ea"
      },
      "execution_count": null,
      "outputs": [
        {
          "output_type": "execute_result",
          "data": {
            "text/plain": [
              "'HELLO WORLD'"
            ],
            "application/vnd.google.colaboratory.intrinsic+json": {
              "type": "string"
            }
          },
          "metadata": {},
          "execution_count": 42
        }
      ]
    },
    {
      "cell_type": "code",
      "source": [
        "# 여러개의 값 반환하기\n",
        "\n",
        "def f():\n",
        "    a = 10\n",
        "    b = 20\n",
        "    c = 30\n",
        "    return a, b, c\n",
        "\n",
        "f()"
      ],
      "metadata": {
        "colab": {
          "base_uri": "https://localhost:8080/"
        },
        "id": "sKxHhl8mSowS",
        "outputId": "1cef575a-131c-48c7-f9f4-a3f7846e7528"
      },
      "execution_count": null,
      "outputs": [
        {
          "output_type": "execute_result",
          "data": {
            "text/plain": [
              "(10, 20, 30)"
            ]
          },
          "metadata": {},
          "execution_count": 39
        }
      ]
    },
    {
      "cell_type": "code",
      "source": [
        "print() # built-in function\n",
        "\n",
        "def f(): # custom function\n",
        "    pass\n",
        "\n",
        "# 여기서 print와 f는 변수입니다\n",
        "# 변수는 가리키는 것입니다\n",
        "sumin = print\n",
        "sumin('hello world')"
      ],
      "metadata": {
        "colab": {
          "base_uri": "https://localhost:8080/"
        },
        "id": "OB7Jh3MVS2a7",
        "outputId": "1a8110d2-81a9-4f5c-b739-048201247bfb"
      },
      "execution_count": null,
      "outputs": [
        {
          "output_type": "stream",
          "name": "stdout",
          "text": [
            "\n",
            "hello world\n"
          ]
        }
      ]
    },
    {
      "cell_type": "code",
      "source": [
        "# 변수처럼 아래처럼 관리할 수 있습니다\n",
        "x = 10\n",
        "y = 20\n",
        "l = [x, y]\n",
        "\n",
        "def add(x, y):\n",
        "    return x + y\n",
        "\n",
        "def sub(x, y):\n",
        "    return x - y\n",
        "\n",
        "ll = [add, sub]\n",
        "\n",
        "ll[0](10, 20)  # add(10, 20)과 같다"
      ],
      "metadata": {
        "colab": {
          "base_uri": "https://localhost:8080/"
        },
        "id": "-6RipmRPnh_3",
        "outputId": "10092270-e2d6-4b4b-ebd3-d6f6dbc433e9"
      },
      "execution_count": null,
      "outputs": [
        {
          "output_type": "execute_result",
          "data": {
            "text/plain": [
              "30"
            ]
          },
          "metadata": {},
          "execution_count": 45
        }
      ]
    },
    {
      "cell_type": "code",
      "source": [
        "#  매우 중요!\n",
        "\n",
        "add2 = lambda x, y: x + y\n",
        "sub2 = lambda x, y: x + y\n",
        "add2(10, 20)"
      ],
      "metadata": {
        "colab": {
          "base_uri": "https://localhost:8080/"
        },
        "id": "8aEa0ppHoI2J",
        "outputId": "4eef02c5-1eeb-45c1-c2dd-7f66e6b9a8db"
      },
      "execution_count": null,
      "outputs": [
        {
          "output_type": "execute_result",
          "data": {
            "text/plain": [
              "30"
            ]
          },
          "metadata": {},
          "execution_count": 47
        }
      ]
    },
    {
      "cell_type": "code",
      "source": [
        "test = lambda x: x**2\n",
        "print(test(10))\n",
        "\n",
        "def test2(x):\n",
        "    return x ** 2\n",
        "\n",
        "print(test2(10))"
      ],
      "metadata": {
        "colab": {
          "base_uri": "https://localhost:8080/"
        },
        "id": "TMhtAsQmooyu",
        "outputId": "2d85118e-6d71-4556-b965-30d62bc9b713"
      },
      "execution_count": null,
      "outputs": [
        {
          "output_type": "stream",
          "name": "stdout",
          "text": [
            "100\n",
            "100\n"
          ]
        }
      ]
    },
    {
      "cell_type": "code",
      "source": [
        "x = map(int, '1234')  # map은 휘발성\n",
        "\n",
        "for i in x:\n",
        "    print(i)\n",
        "\n",
        "for i in x:  #  더이상 순회 x\n",
        "    print(i)"
      ],
      "metadata": {
        "id": "3QENuq6JoaRu",
        "colab": {
          "base_uri": "https://localhost:8080/"
        },
        "outputId": "65944fa8-a645-4a5c-9f4a-b710787dc95d"
      },
      "execution_count": null,
      "outputs": [
        {
          "output_type": "stream",
          "name": "stdout",
          "text": [
            "<map object at 0x7dfff27a5090>\n",
            "1\n",
            "2\n",
            "3\n",
            "4\n"
          ]
        }
      ]
    },
    {
      "cell_type": "code",
      "source": [
        "x = map(int, '1234')\n",
        "# 1번째 수행 int('1')\n",
        "# 2번째 수행 int('2')\n",
        "# 3번째 수행 int('3')\n",
        "# 4번째 수행 int('4')"
      ],
      "metadata": {
        "id": "iUPkMBFGpUMq"
      },
      "execution_count": null,
      "outputs": []
    },
    {
      "cell_type": "code",
      "source": [
        "list(map(int, '1234'))"
      ],
      "metadata": {
        "colab": {
          "base_uri": "https://localhost:8080/"
        },
        "id": "UgcmflomputB",
        "outputId": "f9a585ae-7b02-441b-85d2-104fe28aea5d"
      },
      "execution_count": null,
      "outputs": [
        {
          "output_type": "execute_result",
          "data": {
            "text/plain": [
              "[1, 2, 3, 4]"
            ]
          },
          "metadata": {},
          "execution_count": 52
        }
      ]
    },
    {
      "cell_type": "code",
      "source": [
        "def f(x):               # map을 쓰는 이유는 재사용을 안하기위해\n",
        "    return x * 2        # 따라서 def함수를 사용할 필요는 없다(lambda사용)\n",
        "\n",
        "print(list(map(f, '1234')))\n",
        "print(list(map(f, {1, 2, 3, 4})))\n",
        "print(list(map(f, (1, 2, 3, 4))))"
      ],
      "metadata": {
        "colab": {
          "base_uri": "https://localhost:8080/"
        },
        "id": "VLe2cTdcpxJw",
        "outputId": "9a4e35d6-2b78-42f1-c735-96fa1ba81445"
      },
      "execution_count": null,
      "outputs": [
        {
          "output_type": "stream",
          "name": "stdout",
          "text": [
            "['11', '22', '33', '44']\n",
            "[2, 4, 6, 8]\n",
            "[2, 4, 6, 8]\n"
          ]
        }
      ]
    },
    {
      "cell_type": "code",
      "source": [
        "print(list(map(lambda x:x*2, '1234')))\n",
        "print(list(map(lambda x:x*2, {1, 2, 3, 4})))\n",
        "print(list(map(lambda x:x*2, (1, 2, 3, 4))))"
      ],
      "metadata": {
        "colab": {
          "base_uri": "https://localhost:8080/"
        },
        "id": "WR3CZnayp9yH",
        "outputId": "bf2d7724-24f3-40ce-91b5-4e95810492fd"
      },
      "execution_count": null,
      "outputs": [
        {
          "output_type": "stream",
          "name": "stdout",
          "text": [
            "['11', '22', '33', '44']\n",
            "[2, 4, 6, 8]\n",
            "[2, 4, 6, 8]\n"
          ]
        }
      ]
    },
    {
      "cell_type": "code",
      "source": [
        "all\n",
        "any\n",
        "\n",
        "# 이 2개는 알고리즘 풀이용\n",
        "char\n",
        "ord\n",
        "\n",
        "map\n",
        "filter\n",
        "zip\n",
        "\n",
        "format\n",
        "\n",
        "len\n",
        "\n",
        "max\n",
        "min\n",
        "sum\n",
        "\n",
        "repr()\n",
        "print()\n",
        "\n",
        "enumerate\n",
        "range\n",
        "\n",
        "reversed\n",
        "sorted"
      ],
      "metadata": {
        "id": "agWjM0iFqZ-z"
      },
      "execution_count": null,
      "outputs": []
    },
    {
      "cell_type": "code",
      "source": [
        "# 모두 다 True여야 True 반환\n",
        "all([True, True, True])\n",
        "all([True, True, False])\n",
        "all([1, 1, 1, 1])\n",
        "all([1, 1, 1, 0])\n",
        "all([1, 100, 10, -1])"
      ],
      "metadata": {
        "colab": {
          "base_uri": "https://localhost:8080/"
        },
        "id": "wBeUNPrUsTts",
        "outputId": "7eb528dd-a0d2-44f9-d4a9-a9ba3fffb3ee"
      },
      "execution_count": null,
      "outputs": [
        {
          "output_type": "execute_result",
          "data": {
            "text/plain": [
              "True"
            ]
          },
          "metadata": {},
          "execution_count": 42
        }
      ]
    },
    {
      "cell_type": "code",
      "source": [
        "# 하나라도 True이면 True다\n",
        "any([True, False, False])\n",
        "any([False, False, False])"
      ],
      "metadata": {
        "colab": {
          "base_uri": "https://localhost:8080/"
        },
        "id": "5xC3oDxusauo",
        "outputId": "84dbe6ae-22cd-4ecf-e10d-fcc604d6d14c"
      },
      "execution_count": null,
      "outputs": [
        {
          "output_type": "execute_result",
          "data": {
            "text/plain": [
              "True"
            ]
          },
          "metadata": {},
          "execution_count": 9
        }
      ]
    },
    {
      "cell_type": "code",
      "source": [
        "# 10진수로 유니코드표에서 찾아 대응되는 값을 준다\n",
        "chr(65)\n",
        "chr(97)\n",
        "chr(54616)"
      ],
      "metadata": {
        "colab": {
          "base_uri": "https://localhost:8080/",
          "height": 35
        },
        "id": "1UpOyjw9tNvR",
        "outputId": "0e30c1a6-c626-4dc3-9417-678c30080c54"
      },
      "execution_count": null,
      "outputs": [
        {
          "output_type": "execute_result",
          "data": {
            "text/plain": [
              "'하'"
            ],
            "application/vnd.google.colaboratory.intrinsic+json": {
              "type": "string"
            }
          },
          "metadata": {},
          "execution_count": 17
        }
      ]
    },
    {
      "cell_type": "code",
      "source": [
        "# 문자를 입력하면 유니코드에서 숫자로 출력해준다\n",
        "ord('a')\n",
        "ord('하')"
      ],
      "metadata": {
        "colab": {
          "base_uri": "https://localhost:8080/"
        },
        "id": "TkJoIcgPt3kz",
        "outputId": "f3bfaa7e-6584-4501-f8f4-a9e1bffe6415"
      },
      "execution_count": null,
      "outputs": [
        {
          "output_type": "execute_result",
          "data": {
            "text/plain": [
              "54616"
            ]
          },
          "metadata": {},
          "execution_count": 16
        }
      ]
    },
    {
      "cell_type": "code",
      "source": [
        "# 유니코드 표 값 십진수로\n",
        "int ('D558', 16)"
      ],
      "metadata": {
        "colab": {
          "base_uri": "https://localhost:8080/"
        },
        "id": "2kV-UMr2uK81",
        "outputId": "a2d17cb6-1f60-411f-fcf6-d4197a55c628"
      },
      "execution_count": null,
      "outputs": [
        {
          "output_type": "execute_result",
          "data": {
            "text/plain": [
              "54616"
            ]
          },
          "metadata": {},
          "execution_count": 18
        }
      ]
    },
    {
      "cell_type": "code",
      "source": [
        "# 대문자는 소문자로, 소문자는 대문자로 바꾸는 코드\n",
        "# 'weniv CEO licat' -> 'WENIV ceo LICAT'"
      ],
      "metadata": {
        "id": "i3ZaoXSntse4"
      },
      "execution_count": null,
      "outputs": []
    },
    {
      "cell_type": "code",
      "source": [
        "# map, filter, zip 전부다 메모리 주소 반환이므로 list사용"
      ],
      "metadata": {
        "id": "AqFIiLUByZhw"
      },
      "execution_count": null,
      "outputs": []
    },
    {
      "cell_type": "code",
      "source": [
        "map(lambda x: x**2, [1, 2, 3, 4]) # 계산 되기전 object"
      ],
      "metadata": {
        "colab": {
          "base_uri": "https://localhost:8080/"
        },
        "id": "uKzXOjR-w59E",
        "outputId": "b36e5142-f27c-4a30-bc17-81441775ddc4"
      },
      "execution_count": null,
      "outputs": [
        {
          "output_type": "execute_result",
          "data": {
            "text/plain": [
              "<map at 0x7dec440f29b0>"
            ]
          },
          "metadata": {},
          "execution_count": 17
        }
      ]
    },
    {
      "cell_type": "code",
      "source": [
        "list(map(lambda x: x**2, [1, 2, 3, 4])) # 계산된 후 object"
      ],
      "metadata": {
        "colab": {
          "base_uri": "https://localhost:8080/"
        },
        "id": "_RGpsy7pxS-3",
        "outputId": "d2dbb64c-5eee-4b49-f120-2a4997f28a52"
      },
      "execution_count": null,
      "outputs": [
        {
          "output_type": "execute_result",
          "data": {
            "text/plain": [
              "[1, 4, 9, 16]"
            ]
          },
          "metadata": {},
          "execution_count": 21
        }
      ]
    },
    {
      "cell_type": "code",
      "source": [
        "list(filter(lambda x: x>10, [1, 2, 11, 12, 6, 9, 13]))"
      ],
      "metadata": {
        "colab": {
          "base_uri": "https://localhost:8080/"
        },
        "id": "ZUaF7z3dxYiB",
        "outputId": "77f3f8cb-bb89-42c6-cf11-aad8ade1580b"
      },
      "execution_count": null,
      "outputs": [
        {
          "output_type": "execute_result",
          "data": {
            "text/plain": [
              "[11, 12, 13]"
            ]
          },
          "metadata": {},
          "execution_count": 23
        }
      ]
    },
    {
      "cell_type": "code",
      "source": [
        "x = (1, 2, 11, 12, 6, 9, 13)\n",
        "\n",
        "def filter_function(x):\n",
        "    return x > 10\n",
        "\n",
        "list(filter(filter_function, [1, 2, 11, 12, 6, 9, 13]))"
      ],
      "metadata": {
        "id": "UbZ8bUVZxizi",
        "colab": {
          "base_uri": "https://localhost:8080/"
        },
        "outputId": "2930d3c9-9eca-44d4-db38-82954cf01907"
      },
      "execution_count": null,
      "outputs": [
        {
          "output_type": "execute_result",
          "data": {
            "text/plain": [
              "[11, 12, 13]"
            ]
          },
          "metadata": {},
          "execution_count": 4
        }
      ]
    },
    {
      "cell_type": "code",
      "source": [
        "list(filter(lambda x: x>10, [1, 2, 11, 12, 6, 9, 13]))"
      ],
      "metadata": {
        "colab": {
          "base_uri": "https://localhost:8080/"
        },
        "id": "qvb5LZ4Fv67y",
        "outputId": "3b2fdd15-2a53-4815-a704-8c812b946f8e"
      },
      "execution_count": null,
      "outputs": [
        {
          "output_type": "execute_result",
          "data": {
            "text/plain": [
              "[11, 12, 13]"
            ]
          },
          "metadata": {},
          "execution_count": 2
        }
      ]
    },
    {
      "cell_type": "code",
      "source": [
        "zip('abc', '123')\n",
        "\n",
        "list(zip('abc', '123'))"
      ],
      "metadata": {
        "colab": {
          "base_uri": "https://localhost:8080/"
        },
        "id": "zXkrKnxoyDTs",
        "outputId": "8084c57c-21aa-4e85-dba9-8cdac0a96ad2"
      },
      "execution_count": null,
      "outputs": [
        {
          "output_type": "execute_result",
          "data": {
            "text/plain": [
              "[('a', '1'), ('b', '2'), ('c', '3')]"
            ]
          },
          "metadata": {},
          "execution_count": 31
        }
      ]
    },
    {
      "cell_type": "code",
      "source": [
        "list(zip('abc', '123', [10, 20, 30]))"
      ],
      "metadata": {
        "colab": {
          "base_uri": "https://localhost:8080/"
        },
        "id": "x0j-VtuxyMOz",
        "outputId": "aeaed59d-183f-43ec-b6b9-c4a30438928b"
      },
      "execution_count": null,
      "outputs": [
        {
          "output_type": "execute_result",
          "data": {
            "text/plain": [
              "[('a', '1', 10), ('b', '2', 20), ('c', '3', 30)]"
            ]
          },
          "metadata": {},
          "execution_count": 32
        }
      ]
    },
    {
      "cell_type": "code",
      "source": [
        "list(zip('abc', '1234567', [10, 20, 30]))"
      ],
      "metadata": {
        "colab": {
          "base_uri": "https://localhost:8080/"
        },
        "id": "1Di6mGazyT_M",
        "outputId": "2d8b5f63-8426-4c09-a98f-4817633a8f20"
      },
      "execution_count": null,
      "outputs": [
        {
          "output_type": "execute_result",
          "data": {
            "text/plain": [
              "[('a', '1', 10), ('b', '2', 20), ('c', '3', 30)]"
            ]
          },
          "metadata": {},
          "execution_count": 33
        }
      ]
    },
    {
      "cell_type": "code",
      "source": [
        "# zip은 좌표계에서 자주 응용됩니다.\n",
        "# https://codingdojang.com/scode/408?answer_mode=hide\n",
        "s = [1, 3, 4, 8, 13, 17, 20]\n",
        "list(zip(s, s[1:]))"
      ],
      "metadata": {
        "id": "5FwpRHoRyYmQ",
        "colab": {
          "base_uri": "https://localhost:8080/"
        },
        "outputId": "993063f1-8c12-4494-d4e9-3f273e80c16d"
      },
      "execution_count": null,
      "outputs": [
        {
          "output_type": "execute_result",
          "data": {
            "text/plain": [
              "[(1, 3), (3, 4), (4, 8), (8, 13), (13, 17), (17, 20)]"
            ]
          },
          "metadata": {},
          "execution_count": 5
        }
      ]
    },
    {
      "cell_type": "code",
      "source": [
        "# sorted는 지금 단계에서 하지 않아요. 바로 뒤에 있으니 지금 이해하려 하지 마세요.\n",
        "# 지금은 zip에 집중해주세요.\n",
        "sorted(zip(s, s[1:]), key=lambda x:x[1]-x[0])\n",
        "# sorted(zip(s, s[1:]), key=lambda x:x[1]-x[0])[0] # 정답 코드"
      ],
      "metadata": {
        "colab": {
          "base_uri": "https://localhost:8080/"
        },
        "id": "m6R94OhXzFjb",
        "outputId": "9b3eccd3-3781-478a-b469-72fcdfd2c392"
      },
      "execution_count": null,
      "outputs": [
        {
          "output_type": "execute_result",
          "data": {
            "text/plain": [
              "[(3, 4), (1, 3), (17, 20), (4, 8), (13, 17), (8, 13)]"
            ]
          },
          "metadata": {},
          "execution_count": 39
        }
      ]
    },
    {
      "cell_type": "code",
      "source": [
        "format(10000000, ',')"
      ],
      "metadata": {
        "colab": {
          "base_uri": "https://localhost:8080/",
          "height": 35
        },
        "id": "maeTiqwQ0BQI",
        "outputId": "246ed63a-665c-4ae9-bf7b-4e59fb8528db"
      },
      "execution_count": null,
      "outputs": [
        {
          "output_type": "execute_result",
          "data": {
            "text/plain": [
              "'10,000,000'"
            ],
            "application/vnd.google.colaboratory.intrinsic+json": {
              "type": "string"
            }
          },
          "metadata": {},
          "execution_count": 41
        }
      ]
    },
    {
      "cell_type": "code",
      "source": [
        "len('hello world')"
      ],
      "metadata": {
        "colab": {
          "base_uri": "https://localhost:8080/"
        },
        "id": "Lsc5aCXb0N2t",
        "outputId": "270f051c-74b8-43eb-a49f-041ab62f8166"
      },
      "execution_count": null,
      "outputs": [
        {
          "output_type": "execute_result",
          "data": {
            "text/plain": [
              "11"
            ]
          },
          "metadata": {},
          "execution_count": 43
        }
      ]
    },
    {
      "cell_type": "code",
      "source": [
        "max([1, 2, 3, 4, 5, 6])"
      ],
      "metadata": {
        "colab": {
          "base_uri": "https://localhost:8080/"
        },
        "id": "eZv1X6f50RI7",
        "outputId": "c1a51217-da4d-45b2-d62e-ae535e04e555"
      },
      "execution_count": null,
      "outputs": [
        {
          "output_type": "execute_result",
          "data": {
            "text/plain": [
              "6"
            ]
          },
          "metadata": {},
          "execution_count": 45
        }
      ]
    },
    {
      "cell_type": "code",
      "source": [
        "min([1, 2, 3, 4, 5, 6])"
      ],
      "metadata": {
        "colab": {
          "base_uri": "https://localhost:8080/"
        },
        "id": "IeyhU1yS0Xaz",
        "outputId": "cdb585d1-b629-44dd-f437-3059a5854f7a"
      },
      "execution_count": null,
      "outputs": [
        {
          "output_type": "execute_result",
          "data": {
            "text/plain": [
              "1"
            ]
          },
          "metadata": {},
          "execution_count": 46
        }
      ]
    },
    {
      "cell_type": "code",
      "source": [
        "sum([1, 2, 3, 4, 5, 6])"
      ],
      "metadata": {
        "colab": {
          "base_uri": "https://localhost:8080/"
        },
        "id": "Is3-i9wq0ZMv",
        "outputId": "13bf768f-b3a0-4f33-b239-ea6d117efd48"
      },
      "execution_count": null,
      "outputs": [
        {
          "output_type": "execute_result",
          "data": {
            "text/plain": [
              "21"
            ]
          },
          "metadata": {},
          "execution_count": 47
        }
      ]
    },
    {
      "cell_type": "code",
      "source": [
        "print(max([(1, 2), (3, 4), (1, 20), (3, 100)]))\n",
        "print(max(['hello', 'wolrd', 'world1']))"
      ],
      "metadata": {
        "colab": {
          "base_uri": "https://localhost:8080/"
        },
        "id": "J8KqGkRt0aag",
        "outputId": "4b390b4f-f8a9-4c51-b821-178d291ab031"
      },
      "execution_count": null,
      "outputs": [
        {
          "output_type": "stream",
          "name": "stdout",
          "text": [
            "(3, 100)\n",
            "world1\n"
          ]
        }
      ]
    },
    {
      "cell_type": "code",
      "source": [
        "sum([1, 2, 3], 10)"
      ],
      "metadata": {
        "colab": {
          "base_uri": "https://localhost:8080/"
        },
        "id": "4LB8oR1h1OEU",
        "outputId": "297431a3-69b8-46c2-b50f-c1d11dd843c7"
      },
      "execution_count": null,
      "outputs": [
        {
          "output_type": "execute_result",
          "data": {
            "text/plain": [
              "16"
            ]
          },
          "metadata": {},
          "execution_count": 52
        }
      ]
    },
    {
      "cell_type": "code",
      "source": [
        "print(sum([[1, 2],[3, 101],[1, 20], [3, 100]],[]))\n",
        "print(sum([[1, 2],[3, 101],[1, 20], [3, 100]],[99, 23]))"
      ],
      "metadata": {
        "colab": {
          "base_uri": "https://localhost:8080/"
        },
        "id": "xhINDU2Y089s",
        "outputId": "6ed9be5d-387e-401f-d88a-ff70f0b057d2"
      },
      "execution_count": null,
      "outputs": [
        {
          "output_type": "stream",
          "name": "stdout",
          "text": [
            "[1, 2, 3, 101, 1, 20, 3, 100]\n",
            "[99, 23, 1, 2, 3, 101, 1, 20, 3, 100]\n"
          ]
        }
      ]
    },
    {
      "cell_type": "code",
      "source": [
        "[] + [1, 2]\n",
        "[1, 2] + [3, 101]\n",
        "[1, 2, 3, 101] + [1, 20]\n",
        "[1, 2, 3, 101, 1, 20] + [3, 100]"
      ],
      "metadata": {
        "colab": {
          "base_uri": "https://localhost:8080/"
        },
        "id": "6KSBzcIB1WJx",
        "outputId": "2af3345a-e0c1-4cec-b399-0c3eb9fb52c7"
      },
      "execution_count": null,
      "outputs": [
        {
          "output_type": "execute_result",
          "data": {
            "text/plain": [
              "[1, 2, 3, 101, 1, 20, 3, 100]"
            ]
          },
          "metadata": {},
          "execution_count": 56
        }
      ]
    },
    {
      "cell_type": "code",
      "source": [
        "# sum([[1, 2],[3, 101],[1, 20], [3, 100]]) # numpy나 pandas 사용해야한다"
      ],
      "metadata": {
        "id": "cxTQ9Rz-1kmG"
      },
      "execution_count": null,
      "outputs": []
    },
    {
      "cell_type": "code",
      "source": [
        "class Character:\n",
        "    def __repr__(self):\n",
        "        return 'hello'\n",
        "    def __str__(self):\n",
        "        return 'world'\n",
        "\n",
        "hero = Character()\n",
        "print(hero)\n",
        "hero"
      ],
      "metadata": {
        "colab": {
          "base_uri": "https://localhost:8080/"
        },
        "id": "iUiCQvLi1sdi",
        "outputId": "ceef28b1-2e85-428d-b884-ac9ca8c25694"
      },
      "execution_count": null,
      "outputs": [
        {
          "output_type": "stream",
          "name": "stdout",
          "text": [
            "world\n"
          ]
        },
        {
          "output_type": "execute_result",
          "data": {
            "text/plain": [
              "hello"
            ]
          },
          "metadata": {},
          "execution_count": 61
        }
      ]
    },
    {
      "cell_type": "code",
      "source": [
        "repr(hero)"
      ],
      "metadata": {
        "colab": {
          "base_uri": "https://localhost:8080/",
          "height": 35
        },
        "id": "ETcKiCcY2AWX",
        "outputId": "e243c2b7-df49-44cd-b304-d9077a9c5f22"
      },
      "execution_count": null,
      "outputs": [
        {
          "output_type": "execute_result",
          "data": {
            "text/plain": [
              "'hello'"
            ],
            "application/vnd.google.colaboratory.intrinsic+json": {
              "type": "string"
            }
          },
          "metadata": {},
          "execution_count": 62
        }
      ]
    },
    {
      "cell_type": "code",
      "source": [
        "가수 = ['뉴진스', '르세라핌', '에스파', '아이브']\n",
        "print(list(enumerate(가수)))\n",
        "print(list(enumerate(가수, 1)))\n",
        "print(list(enumerate(가수, 100)))\n",
        "\n",
        "for i, j in enumerate(가수, 1):\n",
        "    print(i, j)"
      ],
      "metadata": {
        "colab": {
          "base_uri": "https://localhost:8080/"
        },
        "id": "2G0q7r5c2L3L",
        "outputId": "94b85952-26d8-425b-985c-09ad86cc3f8e"
      },
      "execution_count": null,
      "outputs": [
        {
          "output_type": "stream",
          "name": "stdout",
          "text": [
            "[(0, '뉴진스'), (1, '르세라핌'), (2, '에스파'), (3, '아이브')]\n",
            "[(1, '뉴진스'), (2, '르세라핌'), (3, '에스파'), (4, '아이브')]\n",
            "[(100, '뉴진스'), (101, '르세라핌'), (102, '에스파'), (103, '아이브')]\n",
            "1 뉴진스\n",
            "2 르세라핌\n",
            "3 에스파\n",
            "4 아이브\n"
          ]
        }
      ]
    },
    {
      "cell_type": "code",
      "source": [
        "type(print)"
      ],
      "metadata": {
        "colab": {
          "base_uri": "https://localhost:8080/"
        },
        "id": "5SsfLXwk24eT",
        "outputId": "065589b6-bfd5-4657-854f-66655a81b8c5"
      },
      "execution_count": null,
      "outputs": [
        {
          "output_type": "execute_result",
          "data": {
            "text/plain": [
              "builtin_function_or_method"
            ]
          },
          "metadata": {},
          "execution_count": 67
        }
      ]
    },
    {
      "cell_type": "code",
      "source": [
        "type(enumerate)"
      ],
      "metadata": {
        "colab": {
          "base_uri": "https://localhost:8080/"
        },
        "id": "S7p2Hi443BO1",
        "outputId": "7109f95a-e7e0-436b-bb09-6553067eedf4"
      },
      "execution_count": null,
      "outputs": [
        {
          "output_type": "execute_result",
          "data": {
            "text/plain": [
              "type"
            ]
          },
          "metadata": {},
          "execution_count": 68
        }
      ]
    },
    {
      "cell_type": "code",
      "source": [
        "type(max)"
      ],
      "metadata": {
        "colab": {
          "base_uri": "https://localhost:8080/"
        },
        "id": "_GX2b1hF3E_Q",
        "outputId": "c034de9e-53ce-492b-f08a-a5e35ba0009e"
      },
      "execution_count": null,
      "outputs": [
        {
          "output_type": "execute_result",
          "data": {
            "text/plain": [
              "builtin_function_or_method"
            ]
          },
          "metadata": {},
          "execution_count": 69
        }
      ]
    },
    {
      "cell_type": "code",
      "source": [
        "type(format)"
      ],
      "metadata": {
        "colab": {
          "base_uri": "https://localhost:8080/"
        },
        "id": "OKelO-720vh6",
        "outputId": "f2b402b2-c760-43cc-b13d-342071a34de8"
      },
      "execution_count": null,
      "outputs": [
        {
          "output_type": "execute_result",
          "data": {
            "text/plain": [
              "builtin_function_or_method"
            ]
          },
          "metadata": {},
          "execution_count": 20
        }
      ]
    },
    {
      "cell_type": "code",
      "source": [
        "type(len)"
      ],
      "metadata": {
        "colab": {
          "base_uri": "https://localhost:8080/"
        },
        "id": "lgLxzrrp3HmO",
        "outputId": "29f99320-0509-4074-f119-bd4ced415350"
      },
      "execution_count": null,
      "outputs": [
        {
          "output_type": "execute_result",
          "data": {
            "text/plain": [
              "builtin_function_or_method"
            ]
          },
          "metadata": {},
          "execution_count": 70
        }
      ]
    },
    {
      "cell_type": "code",
      "source": [
        "type(range)"
      ],
      "metadata": {
        "colab": {
          "base_uri": "https://localhost:8080/"
        },
        "id": "FSyOUnIT3NPs",
        "outputId": "19b20799-aa35-47ad-fef4-8f2b5c77900d"
      },
      "execution_count": null,
      "outputs": [
        {
          "output_type": "execute_result",
          "data": {
            "text/plain": [
              "type"
            ]
          },
          "metadata": {},
          "execution_count": 72
        }
      ]
    },
    {
      "cell_type": "code",
      "source": [
        "type(map)"
      ],
      "metadata": {
        "colab": {
          "base_uri": "https://localhost:8080/"
        },
        "id": "tz508E7T3R9K",
        "outputId": "46227dd2-f4a7-4f6f-803c-3905ad3129a0"
      },
      "execution_count": null,
      "outputs": [
        {
          "output_type": "execute_result",
          "data": {
            "text/plain": [
              "type"
            ]
          },
          "metadata": {},
          "execution_count": 75
        }
      ]
    },
    {
      "cell_type": "code",
      "source": [
        "type(zip)"
      ],
      "metadata": {
        "colab": {
          "base_uri": "https://localhost:8080/"
        },
        "id": "B9AeLfG60_XP",
        "outputId": "1d28dccd-e308-4d26-98bb-426430312f1e"
      },
      "execution_count": null,
      "outputs": [
        {
          "output_type": "execute_result",
          "data": {
            "text/plain": [
              "type"
            ]
          },
          "metadata": {},
          "execution_count": 21
        }
      ]
    },
    {
      "cell_type": "code",
      "source": [
        "type(filter)"
      ],
      "metadata": {
        "colab": {
          "base_uri": "https://localhost:8080/"
        },
        "id": "cPrXYR3m3Toa",
        "outputId": "9e74320a-e0c5-460c-e482-4e04e9990d5b"
      },
      "execution_count": null,
      "outputs": [
        {
          "output_type": "execute_result",
          "data": {
            "text/plain": [
              "type"
            ]
          },
          "metadata": {},
          "execution_count": 76
        }
      ]
    },
    {
      "cell_type": "code",
      "source": [
        "type(int)"
      ],
      "metadata": {
        "colab": {
          "base_uri": "https://localhost:8080/"
        },
        "id": "_xiw0RGX3U6P",
        "outputId": "d6d3e2ba-5b05-4756-aeb4-acb41ef4f84d"
      },
      "execution_count": null,
      "outputs": [
        {
          "output_type": "execute_result",
          "data": {
            "text/plain": [
              "type"
            ]
          },
          "metadata": {},
          "execution_count": 77
        }
      ]
    },
    {
      "cell_type": "code",
      "source": [
        "type(str)"
      ],
      "metadata": {
        "colab": {
          "base_uri": "https://localhost:8080/"
        },
        "id": "s4jLvCVm1G3x",
        "outputId": "79d1230e-ab45-4629-ca42-b7fd0999d27c"
      },
      "execution_count": null,
      "outputs": [
        {
          "output_type": "execute_result",
          "data": {
            "text/plain": [
              "type"
            ]
          },
          "metadata": {},
          "execution_count": 22
        }
      ]
    },
    {
      "cell_type": "code",
      "source": [
        "# type => 자료형"
      ],
      "metadata": {
        "id": "dcNL6wU51IFN"
      },
      "execution_count": null,
      "outputs": []
    },
    {
      "cell_type": "code",
      "source": [
        "# range(start, stop, step)  슬라이싱과 비슷한 형태\n",
        "print(range(10))          # 값을 가지고 있지 않습니다\n",
        "print(list(range(10)))\n",
        "x = range(10)\n",
        "print(type(x))\n",
        "print(list(range(0, 10, 2)))\n",
        "print(list(range(10, 0, -2)))\n",
        "# print(list(range(0, 10, 2.1)))  error numpy 모듈 사용하면 가능\n",
        "# print(list(range(10.1, 2.0, 2))) error numpy 모듈 사용하면 가능\n",
        "print(list(range(10, 0, 2)))"
      ],
      "metadata": {
        "colab": {
          "base_uri": "https://localhost:8080/"
        },
        "id": "l4kSiktQ3ZjX",
        "outputId": "3f5a5f79-0b52-42c5-e2a0-9634802745ac"
      },
      "execution_count": null,
      "outputs": [
        {
          "output_type": "stream",
          "name": "stdout",
          "text": [
            "range(0, 10)\n",
            "[0, 1, 2, 3, 4, 5, 6, 7, 8, 9]\n",
            "<class 'range'>\n",
            "[0, 2, 4, 6, 8]\n",
            "[10, 8, 6, 4, 2]\n",
            "[]\n"
          ]
        }
      ]
    },
    {
      "cell_type": "code",
      "source": [
        "# 2.x버전에서 range와 그 외 값들에 대한 히스토리\n",
        "# print(range(10))  # 출력 : [0, 1, 2, 3, 4, 5, 6, 7, 8, 9]\n",
        "# 메모리를 모두 차지하고 있다.\n",
        "\n",
        "# print(range(100000000000000000000000000000000000000000))\n",
        "# 메모리의 효율이 극도로 안좋아짐\n",
        "# 그런데 3.x버전에서 range(10000000000000000000000000000000000)는 시작과 끝, 스텝 값만\n",
        "# 가지고 있기 때문에 메모리 낭비가 전혀 없다.\n",
        "\n",
        "# 2.x에서도 3.x와 같은 range타입이 있었다 => xrange 문법 xrange 문법이 3.x되면서 range문법이 된 것이다\n",
        "'''\n",
        "print(xrange(10))  # 출력 : xrange(10)\n",
        "for i in xrange(10) # 출력 : 순회 가능\n",
        "    print(i)\n",
        "'''"
      ],
      "metadata": {
        "id": "oycLUTN15p8C"
      },
      "execution_count": null,
      "outputs": []
    },
    {
      "cell_type": "code",
      "source": [
        "# reversed\n",
        "print(list(reversed('hello world')))\n",
        "list(reversed([1, 2, 3, 4, 10, 5]))"
      ],
      "metadata": {
        "colab": {
          "base_uri": "https://localhost:8080/"
        },
        "id": "dXgD-nTJ7c7I",
        "outputId": "3daad7f5-6210-4706-8b2f-7ba7d761d503"
      },
      "execution_count": null,
      "outputs": [
        {
          "output_type": "stream",
          "name": "stdout",
          "text": [
            "['d', 'l', 'r', 'o', 'w', ' ', 'o', 'l', 'l', 'e', 'h']\n"
          ]
        },
        {
          "output_type": "execute_result",
          "data": {
            "text/plain": [
              "[5, 10, 4, 3, 2, 1]"
            ]
          },
          "metadata": {},
          "execution_count": 26
        }
      ]
    },
    {
      "cell_type": "code",
      "source": [
        "# sorted\n",
        "list(reversed(sorted([1, 2, 3, 4, 10, 5])))"
      ],
      "metadata": {
        "colab": {
          "base_uri": "https://localhost:8080/"
        },
        "id": "OHF9jx4x7wlZ",
        "outputId": "02c1a9bd-b156-4ec8-89e5-e1fc18360ff0"
      },
      "execution_count": null,
      "outputs": [
        {
          "output_type": "execute_result",
          "data": {
            "text/plain": [
              "[10, 5, 4, 3, 2, 1]"
            ]
          },
          "metadata": {},
          "execution_count": 88
        }
      ]
    },
    {
      "cell_type": "code",
      "source": [
        "# 매우 중요합니다\n",
        "# 알고리즘 문제에 단골 built-in function\n",
        "\n",
        "sorted([1, 2, 100, 200, 3, 4, 10, 20])\n",
        "sorted([1, 2, 100, 200, 3, 4, 10, 20], reverse = True)\n",
        "sorted([1, 2, 100, 200, 3, 4, 10, 20], reverse = False)\n"
      ],
      "metadata": {
        "colab": {
          "base_uri": "https://localhost:8080/"
        },
        "id": "DHCgiYCR75Di",
        "outputId": "4a18105d-55d8-4d03-cc50-e9ef273c52fd"
      },
      "execution_count": null,
      "outputs": [
        {
          "output_type": "execute_result",
          "data": {
            "text/plain": [
              "[1, 2, 3, 4, 10, 20, 100, 200]"
            ]
          },
          "metadata": {},
          "execution_count": 94
        }
      ]
    },
    {
      "cell_type": "code",
      "source": [
        "sorted(['hello', 'hel', 'hell', 'heo', 'a'])\n",
        "['a', 'hel', 'hell', 'hello', 'heo']\n",
        "sorted(['hello', 'hel', 'hell', 'heo', 'a'], key = len)\n",
        "['a', 'hel', 'heo', 'hell', 'hello']\n",
        "# 위 코드는 sorted([5, 3, 4, 3, 1])와 같다"
      ],
      "metadata": {
        "colab": {
          "base_uri": "https://localhost:8080/"
        },
        "id": "w1Lg0nrx_TkX",
        "outputId": "da039b28-afc5-43d6-b6d0-d022d1a76f63"
      },
      "execution_count": null,
      "outputs": [
        {
          "output_type": "execute_result",
          "data": {
            "text/plain": [
              "['a', 'hel', 'heo', 'hell', 'hello']"
            ]
          },
          "metadata": {},
          "execution_count": 26
        }
      ]
    },
    {
      "cell_type": "code",
      "source": [
        "sorted(['hello', 'hel', 'hell', 'heo', 'a'], key = len)"
      ],
      "metadata": {
        "colab": {
          "base_uri": "https://localhost:8080/"
        },
        "id": "NSQID8O3AC_L",
        "outputId": "d88e477e-420c-47f4-8605-6fde3e03adb4"
      },
      "execution_count": null,
      "outputs": [
        {
          "output_type": "execute_result",
          "data": {
            "text/plain": [
              "['a', 'hel', 'heo', 'hell', 'hello']"
            ]
          },
          "metadata": {},
          "execution_count": 99
        }
      ]
    },
    {
      "cell_type": "code",
      "source": [
        "data = [\n",
        "    [2, 'hello world', 30],\n",
        "    [6, 'hello w', 39],\n",
        "    [3, 'hworl', 33],\n",
        "    [5, 'hello wo', 35],\n",
        "    [4, 'hello wor', 31]\n",
        "    ]\n",
        "\n",
        "# 1번째 문제 : 첫 번째 요소의 값을 가지고 정렬하세요\n",
        "print(sorted(data))\n",
        "\n",
        "# 2번째 문제 : 두 번째 요소의 문자열 길이를 기준으로 정렬하시오\n",
        "print(sorted(data, key=lambda x:len(x[1])))\n",
        "# def f(x):\n",
        "#     return x[1]\n",
        "# print(list(map(f , data)))\n",
        "# print(sorted(data, key=f))\n",
        "\n",
        "# sorted([11, 5, 7, 8, 7])를 정렬하는 것과 같다. 다만 숫자의 값이 아닌 object로 반환한다\n",
        "\n",
        "# 3번째 문제 : 세 번째 요소의 값을 가지고 정렬하세요\n",
        "print(sorted(data, key=lambda x:x[2]))\n",
        "\n",
        "# 4번째 문제 : 첫 번째 요소와 세 번째 요소의 차가 큰 순으로 출력\n",
        "print(sorted(data, key=lambda x: x[2]-x[0], reverse = True))\n",
        "print(sorted(data, key=lambda x: x[0]-x[2]))"
      ],
      "metadata": {
        "colab": {
          "base_uri": "https://localhost:8080/"
        },
        "id": "Yro68xt_AE0Y",
        "outputId": "c75b0508-406c-4ce9-d2f0-5ddf89263a79"
      },
      "execution_count": null,
      "outputs": [
        {
          "output_type": "stream",
          "name": "stdout",
          "text": [
            "[[2, 'hello world', 30], [3, 'hworl', 33], [4, 'hello wor', 31], [5, 'hello wo', 35], [6, 'hello w', 39]]\n",
            "[[3, 'hworl', 33], [6, 'hello w', 39], [5, 'hello wo', 35], [4, 'hello wor', 31], [2, 'hello world', 30]]\n",
            "[[2, 'hello world', 30], [4, 'hello wor', 31], [3, 'hworl', 33], [5, 'hello wo', 35], [6, 'hello w', 39]]\n",
            "[[6, 'hello w', 39], [3, 'hworl', 33], [5, 'hello wo', 35], [2, 'hello world', 30], [4, 'hello wor', 31]]\n",
            "[[6, 'hello w', 39], [3, 'hworl', 33], [5, 'hello wo', 35], [2, 'hello world', 30], [4, 'hello wor', 31]]\n"
          ]
        }
      ]
    },
    {
      "cell_type": "code",
      "source": [
        "data = [\n",
        "    [2, 'hello world', 30],\n",
        "    [6, 'hello w', 39],\n",
        "    [3, 'hworl', 33],\n",
        "    [5, 'hello wo', 35],\n",
        "    [4, 'hello wor', 31]\n",
        "    ]\n",
        "print(list(map(lambda x: x, data)))\n",
        "data[1]"
      ],
      "metadata": {
        "colab": {
          "base_uri": "https://localhost:8080/"
        },
        "id": "T7eoU8-jvj5y",
        "outputId": "4a827e1f-9007-45e0-d040-3e8cfca160c2"
      },
      "execution_count": null,
      "outputs": [
        {
          "output_type": "stream",
          "name": "stdout",
          "text": [
            "[[2, 'hello world', 30], [6, 'hello w', 39], [3, 'hworl', 33], [5, 'hello wo', 35], [4, 'hello wor', 31]]\n"
          ]
        },
        {
          "output_type": "execute_result",
          "data": {
            "text/plain": [
              "[6, 'hello w', 39]"
            ]
          },
          "metadata": {},
          "execution_count": 43
        }
      ]
    }
  ]
}